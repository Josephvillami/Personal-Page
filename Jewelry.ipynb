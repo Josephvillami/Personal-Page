{
  "nbformat": 4,
  "nbformat_minor": 0,
  "metadata": {
    "kernelspec": {
      "display_name": "Python 3",
      "language": "python",
      "name": "python3"
    },
    "language_info": {
      "codemirror_mode": {
        "name": "ipython",
        "version": 3
      },
      "file_extension": ".py",
      "mimetype": "text/x-python",
      "name": "python",
      "nbconvert_exporter": "python",
      "pygments_lexer": "ipython3",
      "version": "3.7.3"
    },
    "colab": {
      "name": "Jewelry.ipynb",
      "provenance": [],
      "toc_visible": true,
      "include_colab_link": true
    }
  },
  "cells": [
    {
      "cell_type": "markdown",
      "metadata": {
        "id": "view-in-github",
        "colab_type": "text"
      },
      "source": [
        "<a href=\"https://colab.research.google.com/github/Josephvillami/Personal-Page/blob/master/Jewelry.ipynb\" target=\"_parent\"><img src=\"https://colab.research.google.com/assets/colab-badge.svg\" alt=\"Open In Colab\"/></a>"
      ]
    },
    {
      "cell_type": "code",
      "metadata": {
        "id": "uW_T-tJ-ahKr",
        "colab_type": "code",
        "outputId": "87a46a8c-f86b-4c58-8d28-2a5194f6971b",
        "colab": {
          "base_uri": "https://localhost:8080/",
          "height": 34
        }
      },
      "source": [
        "import datetime\n",
        "print(datetime.datetime.now())"
      ],
      "execution_count": 0,
      "outputs": [
        {
          "output_type": "stream",
          "text": [
            "2019-11-11 03:34:03.271452\n"
          ],
          "name": "stdout"
        }
      ]
    },
    {
      "cell_type": "code",
      "metadata": {
        "id": "UdLZQSLBfhWZ",
        "colab_type": "code",
        "outputId": "ee77e145-d92d-4e5a-9ed7-9bfeeb1e0cb2",
        "colab": {
          "base_uri": "https://localhost:8080/",
          "height": 101
        }
      },
      "source": [
        "pip install kmodes"
      ],
      "execution_count": 0,
      "outputs": [
        {
          "output_type": "stream",
          "text": [
            "Requirement already satisfied: kmodes in /usr/local/lib/python3.6/dist-packages (0.10.1)\n",
            "Requirement already satisfied: joblib>=0.11 in /usr/local/lib/python3.6/dist-packages (from kmodes) (0.14.0)\n",
            "Requirement already satisfied: numpy>=1.10.4 in /usr/local/lib/python3.6/dist-packages (from kmodes) (1.17.3)\n",
            "Requirement already satisfied: scikit-learn>=0.19.0 in /usr/local/lib/python3.6/dist-packages (from kmodes) (0.21.3)\n",
            "Requirement already satisfied: scipy>=0.13.3 in /usr/local/lib/python3.6/dist-packages (from kmodes) (1.3.1)\n"
          ],
          "name": "stdout"
        }
      ]
    },
    {
      "cell_type": "code",
      "metadata": {
        "id": "hJi1px4iahKw",
        "colab_type": "code",
        "colab": {}
      },
      "source": [
        "import pandas as pd\n",
        "import numpy as np\n",
        "\n",
        "import matplotlib as mpl\n",
        "import matplotlib.pyplot as plt\n",
        "from mpl_toolkits.mplot3d import Axes3D\n",
        "import seaborn as sns \n",
        "\n",
        "from sklearn.metrics import silhouette_score, silhouette_samples\n",
        "import sklearn.metrics\n",
        "from sklearn.preprocessing import StandardScaler\n",
        "from sklearn.cluster import KMeans, DBSCAN, AgglomerativeClustering\n",
        "from sklearn.mixture import GaussianMixture\n",
        "\n",
        "import pandas_profiling\n",
        "\n",
        "import itertools\n",
        "\n",
        "import scipy\n",
        "\n",
        "from yellowbrick.cluster import SilhouetteVisualizer, InterclusterDistance, KElbowVisualizer\n",
        "\n",
        "from kmodes.kmodes import KModes\n",
        "\n",
        "from IPython.core.interactiveshell import InteractiveShell\n",
        "InteractiveShell.ast_node_interactivity = \"all\"\n",
        "\n",
        "# This will ensure that matplotlib figures don't get cut off when saving with savefig()\n",
        "from matplotlib import rcParams\n",
        "rcParams.update({'figure.autolayout': True})"
      ],
      "execution_count": 0,
      "outputs": []
    },
    {
      "cell_type": "code",
      "metadata": {
        "id": "bzszxUD2ahKy",
        "colab_type": "code",
        "colab": {}
      },
      "source": [
        "df = pd.read_csv('/content/jewelry_customers.csv')"
      ],
      "execution_count": 0,
      "outputs": []
    },
    {
      "cell_type": "code",
      "metadata": {
        "id": "cD6DIdkcahKz",
        "colab_type": "code",
        "outputId": "90712669-e78d-4c59-ac2a-4e54229cca92",
        "colab": {
          "base_uri": "https://localhost:8080/",
          "height": 1000
        }
      },
      "source": [
        "list(df)\n",
        "df.shape\n",
        "df.info()\n",
        "df.describe().transpose()\n",
        "df.head(n=20)\n",
        "df.tail()"
      ],
      "execution_count": 0,
      "outputs": [
        {
          "output_type": "execute_result",
          "data": {
            "text/plain": [
              "['Age', 'Income', 'SpendingScore', 'Savings']"
            ]
          },
          "metadata": {
            "tags": []
          },
          "execution_count": 5
        },
        {
          "output_type": "execute_result",
          "data": {
            "text/plain": [
              "(505, 4)"
            ]
          },
          "metadata": {
            "tags": []
          },
          "execution_count": 5
        },
        {
          "output_type": "stream",
          "text": [
            "<class 'pandas.core.frame.DataFrame'>\n",
            "RangeIndex: 505 entries, 0 to 504\n",
            "Data columns (total 4 columns):\n",
            "Age              505 non-null int64\n",
            "Income           505 non-null int64\n",
            "SpendingScore    505 non-null float64\n",
            "Savings          505 non-null float64\n",
            "dtypes: float64(2), int64(2)\n",
            "memory usage: 15.9 KB\n"
          ],
          "name": "stdout"
        },
        {
          "output_type": "execute_result",
          "data": {
            "text/html": [
              "<div>\n",
              "<style scoped>\n",
              "    .dataframe tbody tr th:only-of-type {\n",
              "        vertical-align: middle;\n",
              "    }\n",
              "\n",
              "    .dataframe tbody tr th {\n",
              "        vertical-align: top;\n",
              "    }\n",
              "\n",
              "    .dataframe thead th {\n",
              "        text-align: right;\n",
              "    }\n",
              "</style>\n",
              "<table border=\"1\" class=\"dataframe\">\n",
              "  <thead>\n",
              "    <tr style=\"text-align: right;\">\n",
              "      <th></th>\n",
              "      <th>count</th>\n",
              "      <th>mean</th>\n",
              "      <th>std</th>\n",
              "      <th>min</th>\n",
              "      <th>25%</th>\n",
              "      <th>50%</th>\n",
              "      <th>75%</th>\n",
              "      <th>max</th>\n",
              "    </tr>\n",
              "  </thead>\n",
              "  <tbody>\n",
              "    <tr>\n",
              "      <th>Age</th>\n",
              "      <td>505.0</td>\n",
              "      <td>59.019802</td>\n",
              "      <td>24.140043</td>\n",
              "      <td>17.0</td>\n",
              "      <td>34.000000</td>\n",
              "      <td>59.000000</td>\n",
              "      <td>85.000000</td>\n",
              "      <td>97.0</td>\n",
              "    </tr>\n",
              "    <tr>\n",
              "      <th>Income</th>\n",
              "      <td>505.0</td>\n",
              "      <td>75513.291089</td>\n",
              "      <td>35992.922184</td>\n",
              "      <td>12000.0</td>\n",
              "      <td>34529.000000</td>\n",
              "      <td>75078.000000</td>\n",
              "      <td>107100.000000</td>\n",
              "      <td>142000.0</td>\n",
              "    </tr>\n",
              "    <tr>\n",
              "      <th>SpendingScore</th>\n",
              "      <td>505.0</td>\n",
              "      <td>0.505083</td>\n",
              "      <td>0.259634</td>\n",
              "      <td>0.0</td>\n",
              "      <td>0.304792</td>\n",
              "      <td>0.368215</td>\n",
              "      <td>0.768279</td>\n",
              "      <td>1.0</td>\n",
              "    </tr>\n",
              "    <tr>\n",
              "      <th>Savings</th>\n",
              "      <td>505.0</td>\n",
              "      <td>11862.455867</td>\n",
              "      <td>4949.229253</td>\n",
              "      <td>0.0</td>\n",
              "      <td>6828.709702</td>\n",
              "      <td>14209.932802</td>\n",
              "      <td>16047.268331</td>\n",
              "      <td>20000.0</td>\n",
              "    </tr>\n",
              "  </tbody>\n",
              "</table>\n",
              "</div>"
            ],
            "text/plain": [
              "               count          mean  ...            75%       max\n",
              "Age            505.0     59.019802  ...      85.000000      97.0\n",
              "Income         505.0  75513.291089  ...  107100.000000  142000.0\n",
              "SpendingScore  505.0      0.505083  ...       0.768279       1.0\n",
              "Savings        505.0  11862.455867  ...   16047.268331   20000.0\n",
              "\n",
              "[4 rows x 8 columns]"
            ]
          },
          "metadata": {
            "tags": []
          },
          "execution_count": 5
        },
        {
          "output_type": "execute_result",
          "data": {
            "text/html": [
              "<div>\n",
              "<style scoped>\n",
              "    .dataframe tbody tr th:only-of-type {\n",
              "        vertical-align: middle;\n",
              "    }\n",
              "\n",
              "    .dataframe tbody tr th {\n",
              "        vertical-align: top;\n",
              "    }\n",
              "\n",
              "    .dataframe thead th {\n",
              "        text-align: right;\n",
              "    }\n",
              "</style>\n",
              "<table border=\"1\" class=\"dataframe\">\n",
              "  <thead>\n",
              "    <tr style=\"text-align: right;\">\n",
              "      <th></th>\n",
              "      <th>Age</th>\n",
              "      <th>Income</th>\n",
              "      <th>SpendingScore</th>\n",
              "      <th>Savings</th>\n",
              "    </tr>\n",
              "  </thead>\n",
              "  <tbody>\n",
              "    <tr>\n",
              "      <th>0</th>\n",
              "      <td>58</td>\n",
              "      <td>77769</td>\n",
              "      <td>0.791329</td>\n",
              "      <td>6559.829923</td>\n",
              "    </tr>\n",
              "    <tr>\n",
              "      <th>1</th>\n",
              "      <td>59</td>\n",
              "      <td>81799</td>\n",
              "      <td>0.791082</td>\n",
              "      <td>5417.661426</td>\n",
              "    </tr>\n",
              "    <tr>\n",
              "      <th>2</th>\n",
              "      <td>62</td>\n",
              "      <td>74751</td>\n",
              "      <td>0.702657</td>\n",
              "      <td>9258.992965</td>\n",
              "    </tr>\n",
              "    <tr>\n",
              "      <th>3</th>\n",
              "      <td>59</td>\n",
              "      <td>74373</td>\n",
              "      <td>0.765680</td>\n",
              "      <td>7346.334504</td>\n",
              "    </tr>\n",
              "    <tr>\n",
              "      <th>4</th>\n",
              "      <td>87</td>\n",
              "      <td>17760</td>\n",
              "      <td>0.348778</td>\n",
              "      <td>16869.507130</td>\n",
              "    </tr>\n",
              "    <tr>\n",
              "      <th>5</th>\n",
              "      <td>29</td>\n",
              "      <td>131578</td>\n",
              "      <td>0.847034</td>\n",
              "      <td>3535.514352</td>\n",
              "    </tr>\n",
              "    <tr>\n",
              "      <th>6</th>\n",
              "      <td>54</td>\n",
              "      <td>76500</td>\n",
              "      <td>0.785198</td>\n",
              "      <td>6878.884249</td>\n",
              "    </tr>\n",
              "    <tr>\n",
              "      <th>7</th>\n",
              "      <td>87</td>\n",
              "      <td>42592</td>\n",
              "      <td>0.355290</td>\n",
              "      <td>18086.287158</td>\n",
              "    </tr>\n",
              "    <tr>\n",
              "      <th>8</th>\n",
              "      <td>83</td>\n",
              "      <td>34384</td>\n",
              "      <td>0.324719</td>\n",
              "      <td>14783.379086</td>\n",
              "    </tr>\n",
              "    <tr>\n",
              "      <th>9</th>\n",
              "      <td>84</td>\n",
              "      <td>27693</td>\n",
              "      <td>0.367063</td>\n",
              "      <td>17879.558906</td>\n",
              "    </tr>\n",
              "    <tr>\n",
              "      <th>10</th>\n",
              "      <td>85</td>\n",
              "      <td>111389</td>\n",
              "      <td>0.036795</td>\n",
              "      <td>16009.237763</td>\n",
              "    </tr>\n",
              "    <tr>\n",
              "      <th>11</th>\n",
              "      <td>36</td>\n",
              "      <td>99780</td>\n",
              "      <td>0.265433</td>\n",
              "      <td>16398.401333</td>\n",
              "    </tr>\n",
              "    <tr>\n",
              "      <th>12</th>\n",
              "      <td>30</td>\n",
              "      <td>99949</td>\n",
              "      <td>0.344679</td>\n",
              "      <td>13621.639726</td>\n",
              "    </tr>\n",
              "    <tr>\n",
              "      <th>13</th>\n",
              "      <td>31</td>\n",
              "      <td>107963</td>\n",
              "      <td>0.290509</td>\n",
              "      <td>13407.081391</td>\n",
              "    </tr>\n",
              "    <tr>\n",
              "      <th>14</th>\n",
              "      <td>61</td>\n",
              "      <td>71933</td>\n",
              "      <td>0.844107</td>\n",
              "      <td>8022.208541</td>\n",
              "    </tr>\n",
              "    <tr>\n",
              "      <th>15</th>\n",
              "      <td>92</td>\n",
              "      <td>122879</td>\n",
              "      <td>0.060724</td>\n",
              "      <td>13709.670275</td>\n",
              "    </tr>\n",
              "    <tr>\n",
              "      <th>16</th>\n",
              "      <td>55</td>\n",
              "      <td>71621</td>\n",
              "      <td>0.753343</td>\n",
              "      <td>7780.589914</td>\n",
              "    </tr>\n",
              "    <tr>\n",
              "      <th>17</th>\n",
              "      <td>87</td>\n",
              "      <td>31481</td>\n",
              "      <td>0.317424</td>\n",
              "      <td>16180.688082</td>\n",
              "    </tr>\n",
              "    <tr>\n",
              "      <th>18</th>\n",
              "      <td>82</td>\n",
              "      <td>33636</td>\n",
              "      <td>0.371783</td>\n",
              "      <td>17866.833598</td>\n",
              "    </tr>\n",
              "    <tr>\n",
              "      <th>19</th>\n",
              "      <td>88</td>\n",
              "      <td>120678</td>\n",
              "      <td>0.063273</td>\n",
              "      <td>14264.473847</td>\n",
              "    </tr>\n",
              "  </tbody>\n",
              "</table>\n",
              "</div>"
            ],
            "text/plain": [
              "    Age  Income  SpendingScore       Savings\n",
              "0    58   77769       0.791329   6559.829923\n",
              "1    59   81799       0.791082   5417.661426\n",
              "2    62   74751       0.702657   9258.992965\n",
              "3    59   74373       0.765680   7346.334504\n",
              "4    87   17760       0.348778  16869.507130\n",
              "5    29  131578       0.847034   3535.514352\n",
              "6    54   76500       0.785198   6878.884249\n",
              "7    87   42592       0.355290  18086.287158\n",
              "8    83   34384       0.324719  14783.379086\n",
              "9    84   27693       0.367063  17879.558906\n",
              "10   85  111389       0.036795  16009.237763\n",
              "11   36   99780       0.265433  16398.401333\n",
              "12   30   99949       0.344679  13621.639726\n",
              "13   31  107963       0.290509  13407.081391\n",
              "14   61   71933       0.844107   8022.208541\n",
              "15   92  122879       0.060724  13709.670275\n",
              "16   55   71621       0.753343   7780.589914\n",
              "17   87   31481       0.317424  16180.688082\n",
              "18   82   33636       0.371783  17866.833598\n",
              "19   88  120678       0.063273  14264.473847"
            ]
          },
          "metadata": {
            "tags": []
          },
          "execution_count": 5
        },
        {
          "output_type": "execute_result",
          "data": {
            "text/html": [
              "<div>\n",
              "<style scoped>\n",
              "    .dataframe tbody tr th:only-of-type {\n",
              "        vertical-align: middle;\n",
              "    }\n",
              "\n",
              "    .dataframe tbody tr th {\n",
              "        vertical-align: top;\n",
              "    }\n",
              "\n",
              "    .dataframe thead th {\n",
              "        text-align: right;\n",
              "    }\n",
              "</style>\n",
              "<table border=\"1\" class=\"dataframe\">\n",
              "  <thead>\n",
              "    <tr style=\"text-align: right;\">\n",
              "      <th></th>\n",
              "      <th>Age</th>\n",
              "      <th>Income</th>\n",
              "      <th>SpendingScore</th>\n",
              "      <th>Savings</th>\n",
              "    </tr>\n",
              "  </thead>\n",
              "  <tbody>\n",
              "    <tr>\n",
              "      <th>500</th>\n",
              "      <td>28</td>\n",
              "      <td>101206</td>\n",
              "      <td>0.387441</td>\n",
              "      <td>14936.775389</td>\n",
              "    </tr>\n",
              "    <tr>\n",
              "      <th>501</th>\n",
              "      <td>93</td>\n",
              "      <td>19934</td>\n",
              "      <td>0.203140</td>\n",
              "      <td>17969.693769</td>\n",
              "    </tr>\n",
              "    <tr>\n",
              "      <th>502</th>\n",
              "      <td>90</td>\n",
              "      <td>35297</td>\n",
              "      <td>0.355149</td>\n",
              "      <td>16091.401954</td>\n",
              "    </tr>\n",
              "    <tr>\n",
              "      <th>503</th>\n",
              "      <td>91</td>\n",
              "      <td>20681</td>\n",
              "      <td>0.354679</td>\n",
              "      <td>18401.088445</td>\n",
              "    </tr>\n",
              "    <tr>\n",
              "      <th>504</th>\n",
              "      <td>89</td>\n",
              "      <td>30267</td>\n",
              "      <td>0.289310</td>\n",
              "      <td>14386.351880</td>\n",
              "    </tr>\n",
              "  </tbody>\n",
              "</table>\n",
              "</div>"
            ],
            "text/plain": [
              "     Age  Income  SpendingScore       Savings\n",
              "500   28  101206       0.387441  14936.775389\n",
              "501   93   19934       0.203140  17969.693769\n",
              "502   90   35297       0.355149  16091.401954\n",
              "503   91   20681       0.354679  18401.088445\n",
              "504   89   30267       0.289310  14386.351880"
            ]
          },
          "metadata": {
            "tags": []
          },
          "execution_count": 5
        }
      ]
    },
    {
      "cell_type": "code",
      "metadata": {
        "id": "6F9y3FCwahK1",
        "colab_type": "code",
        "outputId": "fea9d18a-6816-49f0-9dec-1e2ef252dcf7",
        "colab": {
          "base_uri": "https://localhost:8080/",
          "height": 1000
        }
      },
      "source": [
        "pandas_profiling.ProfileReport(df)"
      ],
      "execution_count": 0,
      "outputs": [
        {
          "output_type": "stream",
          "text": [
            "/usr/local/lib/python3.6/dist-packages/pandas_profiling/describe.py:392: FutureWarning: The join_axes-keyword is deprecated. Use .reindex or .reindex_like on the result to achieve the same functionality.\n",
            "  variable_stats = pd.concat(ldesc, join_axes=pd.Index([names]), axis=1)\n"
          ],
          "name": "stderr"
        },
        {
          "output_type": "execute_result",
          "data": {
            "text/html": [
              "<meta charset=\"UTF-8\">\n",
              "\n",
              "<style>\n",
              "\n",
              "        .variablerow {\n",
              "            border: 1px solid #e1e1e8;\n",
              "            border-top: hidden;\n",
              "            padding-top: 2em;\n",
              "            padding-bottom: 2em;\n",
              "            padding-left: 1em;\n",
              "            padding-right: 1em;\n",
              "        }\n",
              "\n",
              "        .headerrow {\n",
              "            border: 1px solid #e1e1e8;\n",
              "            background-color: #f5f5f5;\n",
              "            padding: 2em;\n",
              "        }\n",
              "        .namecol {\n",
              "            margin-top: -1em;\n",
              "            overflow-x: auto;\n",
              "        }\n",
              "\n",
              "        .dl-horizontal dt {\n",
              "            text-align: left;\n",
              "            padding-right: 1em;\n",
              "            white-space: normal;\n",
              "        }\n",
              "\n",
              "        .dl-horizontal dd {\n",
              "            margin-left: 0;\n",
              "        }\n",
              "\n",
              "        .ignore {\n",
              "            opacity: 0.4;\n",
              "        }\n",
              "\n",
              "        .container.pandas-profiling {\n",
              "            max-width:975px;\n",
              "        }\n",
              "\n",
              "        .col-md-12 {\n",
              "            padding-left: 2em;\n",
              "        }\n",
              "\n",
              "        .indent {\n",
              "            margin-left: 1em;\n",
              "        }\n",
              "\n",
              "        .center-img {\n",
              "            margin-left: auto !important;\n",
              "            margin-right: auto !important;\n",
              "            display: block;\n",
              "        }\n",
              "\n",
              "        /* Table example_values */\n",
              "            table.example_values {\n",
              "                border: 0;\n",
              "            }\n",
              "\n",
              "            .example_values th {\n",
              "                border: 0;\n",
              "                padding: 0 ;\n",
              "                color: #555;\n",
              "                font-weight: 600;\n",
              "            }\n",
              "\n",
              "            .example_values tr, .example_values td{\n",
              "                border: 0;\n",
              "                padding: 0;\n",
              "                color: #555;\n",
              "            }\n",
              "\n",
              "        /* STATS */\n",
              "            table.stats {\n",
              "                border: 0;\n",
              "            }\n",
              "\n",
              "            .stats th {\n",
              "                border: 0;\n",
              "                padding: 0 2em 0 0;\n",
              "                color: #555;\n",
              "                font-weight: 600;\n",
              "            }\n",
              "\n",
              "            .stats tr {\n",
              "                border: 0;\n",
              "            }\n",
              "\n",
              "            .stats td{\n",
              "                color: #555;\n",
              "                padding: 1px;\n",
              "                border: 0;\n",
              "            }\n",
              "\n",
              "\n",
              "        /* Sample table */\n",
              "            table.sample {\n",
              "                border: 0;\n",
              "                margin-bottom: 2em;\n",
              "                margin-left:1em;\n",
              "            }\n",
              "            .sample tr {\n",
              "                border:0;\n",
              "            }\n",
              "            .sample td, .sample th{\n",
              "                padding: 0.5em;\n",
              "                white-space: nowrap;\n",
              "                border: none;\n",
              "\n",
              "            }\n",
              "\n",
              "            .sample thead {\n",
              "                border-top: 0;\n",
              "                border-bottom: 2px solid #ddd;\n",
              "            }\n",
              "\n",
              "            .sample td {\n",
              "                width:100%;\n",
              "            }\n",
              "\n",
              "\n",
              "        /* There is no good solution available to make the divs equal height and then center ... */\n",
              "            .histogram {\n",
              "                margin-top: 3em;\n",
              "            }\n",
              "        /* Freq table */\n",
              "\n",
              "            table.freq {\n",
              "                margin-bottom: 2em;\n",
              "                border: 0;\n",
              "            }\n",
              "            table.freq th, table.freq tr, table.freq td {\n",
              "                border: 0;\n",
              "                padding: 0;\n",
              "            }\n",
              "\n",
              "            .freq thead {\n",
              "                font-weight: 600;\n",
              "                white-space: nowrap;\n",
              "                overflow: hidden;\n",
              "                text-overflow: ellipsis;\n",
              "\n",
              "            }\n",
              "\n",
              "            td.fillremaining{\n",
              "                width:auto;\n",
              "                max-width: none;\n",
              "            }\n",
              "\n",
              "            td.number, th.number {\n",
              "                text-align:right ;\n",
              "            }\n",
              "\n",
              "        /* Freq mini */\n",
              "            .freq.mini td{\n",
              "                width: 50%;\n",
              "                padding: 1px;\n",
              "                font-size: 12px;\n",
              "\n",
              "            }\n",
              "            table.freq.mini {\n",
              "                 width:100%;\n",
              "            }\n",
              "            .freq.mini th {\n",
              "                overflow: hidden;\n",
              "                text-overflow: ellipsis;\n",
              "                white-space: nowrap;\n",
              "                max-width: 5em;\n",
              "                font-weight: 400;\n",
              "                text-align:right;\n",
              "                padding-right: 0.5em;\n",
              "            }\n",
              "\n",
              "            .missing {\n",
              "                color: #a94442;\n",
              "            }\n",
              "            .alert, .alert > th, .alert > td {\n",
              "                color: #a94442;\n",
              "            }\n",
              "\n",
              "\n",
              "        /* Bars in tables */\n",
              "            .freq .bar{\n",
              "                float: left;\n",
              "                width: 0;\n",
              "                height: 100%;\n",
              "                line-height: 20px;\n",
              "                color: #fff;\n",
              "                text-align: center;\n",
              "                background-color: #337ab7;\n",
              "                border-radius: 3px;\n",
              "                margin-right: 4px;\n",
              "            }\n",
              "            .other .bar {\n",
              "                background-color: #999;\n",
              "            }\n",
              "            .missing .bar{\n",
              "                background-color: #a94442;\n",
              "            }\n",
              "            .tooltip-inner {\n",
              "                width: 100%;\n",
              "                white-space: nowrap;\n",
              "                text-align:left;\n",
              "            }\n",
              "\n",
              "            .extrapadding{\n",
              "                padding: 2em;\n",
              "            }\n",
              "\n",
              "            .pp-anchor{\n",
              "\n",
              "            }\n",
              "\n",
              "</style>\n",
              "\n",
              "<div class=\"container pandas-profiling\">\n",
              "    <div class=\"row headerrow highlight\">\n",
              "        <h1>Overview</h1>\n",
              "    </div>\n",
              "    <div class=\"row variablerow\">\n",
              "    <div class=\"col-md-6 namecol\">\n",
              "        <p class=\"h4\">Dataset info</p>\n",
              "        <table class=\"stats\" style=\"margin-left: 1em;\">\n",
              "            <tbody>\n",
              "            <tr>\n",
              "                <th>Number of variables</th>\n",
              "                <td>4 </td>\n",
              "            </tr>\n",
              "            <tr>\n",
              "                <th>Number of observations</th>\n",
              "                <td>505 </td>\n",
              "            </tr>\n",
              "            <tr>\n",
              "                <th>Total Missing (%)</th>\n",
              "                <td>0.0% </td>\n",
              "            </tr>\n",
              "            <tr>\n",
              "                <th>Total size in memory</th>\n",
              "                <td>15.9 KiB </td>\n",
              "            </tr>\n",
              "            <tr>\n",
              "                <th>Average record size in memory</th>\n",
              "                <td>32.3 B </td>\n",
              "            </tr>\n",
              "            </tbody>\n",
              "        </table>\n",
              "    </div>\n",
              "    <div class=\"col-md-6 namecol\">\n",
              "        <p class=\"h4\">Variables types</p>\n",
              "        <table class=\"stats\" style=\"margin-left: 1em;\">\n",
              "            <tbody>\n",
              "            <tr>\n",
              "                <th>Numeric</th>\n",
              "                <td>4 </td>\n",
              "            </tr>\n",
              "            <tr>\n",
              "                <th>Categorical</th>\n",
              "                <td>0 </td>\n",
              "            </tr>\n",
              "            <tr>\n",
              "                <th>Boolean</th>\n",
              "                <td>0 </td>\n",
              "            </tr>\n",
              "            <tr>\n",
              "                <th>Date</th>\n",
              "                <td>0 </td>\n",
              "            </tr>\n",
              "            <tr>\n",
              "                <th>Text (Unique)</th>\n",
              "                <td>0 </td>\n",
              "            </tr>\n",
              "            <tr>\n",
              "                <th>Rejected</th>\n",
              "                <td>0 </td>\n",
              "            </tr>\n",
              "            <tr>\n",
              "                <th>Unsupported</th>\n",
              "                <td>0 </td>\n",
              "            </tr>\n",
              "            </tbody>\n",
              "        </table>\n",
              "    </div>\n",
              "</div>\n",
              "    <div class=\"row headerrow highlight\">\n",
              "        <h1>Variables</h1>\n",
              "    </div>\n",
              "    <div class=\"row variablerow\">\n",
              "    <div class=\"col-md-3 namecol\">\n",
              "        <p class=\"h4 pp-anchor\" id=\"pp_var_Age\">Age<br/>\n",
              "            <small>Numeric</small>\n",
              "        </p>\n",
              "    </div><div class=\"col-md-6\">\n",
              "    <div class=\"row\">\n",
              "        <div class=\"col-sm-6\">\n",
              "            <table class=\"stats \">\n",
              "                <tr>\n",
              "                    <th>Distinct count</th>\n",
              "                    <td>61</td>\n",
              "                </tr>\n",
              "                <tr>\n",
              "                    <th>Unique (%)</th>\n",
              "                    <td>12.1%</td>\n",
              "                </tr>\n",
              "                <tr class=\"ignore\">\n",
              "                    <th>Missing (%)</th>\n",
              "                    <td>0.0%</td>\n",
              "                </tr>\n",
              "                <tr class=\"ignore\">\n",
              "                    <th>Missing (n)</th>\n",
              "                    <td>0</td>\n",
              "                </tr>\n",
              "                <tr class=\"ignore\">\n",
              "                    <th>Infinite (%)</th>\n",
              "                    <td>0.0%</td>\n",
              "                </tr>\n",
              "                <tr class=\"ignore\">\n",
              "                    <th>Infinite (n)</th>\n",
              "                    <td>0</td>\n",
              "                </tr>\n",
              "            </table>\n",
              "\n",
              "        </div>\n",
              "        <div class=\"col-sm-6\">\n",
              "            <table class=\"stats \">\n",
              "\n",
              "                <tr>\n",
              "                    <th>Mean</th>\n",
              "                    <td>59.02</td>\n",
              "                </tr>\n",
              "                <tr>\n",
              "                    <th>Minimum</th>\n",
              "                    <td>17</td>\n",
              "                </tr>\n",
              "                <tr>\n",
              "                    <th>Maximum</th>\n",
              "                    <td>97</td>\n",
              "                </tr>\n",
              "                <tr class=\"ignore\">\n",
              "                    <th>Zeros (%)</th>\n",
              "                    <td>0.0%</td>\n",
              "                </tr>\n",
              "            </table>\n",
              "        </div>\n",
              "    </div>\n",
              "</div>\n",
              "<div class=\"col-md-3 collapse in\" id=\"minihistogram-4433244964482757584\">\n",
              "    <img src=\"data:image/png;base64,iVBORw0KGgoAAAANSUhEUgAAAMgAAABLCAYAAAA1fMjoAAAABHNCSVQICAgIfAhkiAAAAAlwSFlzAAAPYQAAD2EBqD%2BnaQAAADh0RVh0U29mdHdhcmUAbWF0cGxvdGxpYiB2ZXJzaW9uMy4xLjEsIGh0dHA6Ly9tYXRwbG90bGliLm9yZy8QZhcZAAABOElEQVR4nO3bwU3DQBBAUQelJIqgJ870lCLoaTkjoa8YyXhZv3ePtDn8zGrs3MYYYwN%2B9HL2AWBm97MPwHev74/dn/n8eDvgJGybCQJJIBAEAkEgEAQCwRaLp1x1u2aCQBAIBIFAEAgEgUAQCASBQFjiOchVd/QczwSBIBAIAoEgEAgCgbDEFos5rbBdNEEgXHaCrPDrxvFMEAgCgSAQCAKBIBAIAoEgEAgCgSAQCAKBIBAIAoEgEAjTvc37m7ds4SjTBbISsf9/rlgQBALBFWsBe69y/hn5PBMEgkAgCASCQCAIBIIt1g6rPPhb5Xv8hdsYY5x9CJiVKxYEgUAQCASBQBAIBIFAEAgEgUAQCASBQBAIBIFAEAgEgUAQCASBQBAIBIFAEAgEgUAQCASBQBAIBIFAEAiEL3qWIDvz1VUHAAAAAElFTkSuQmCC\">\n",
              "\n",
              "</div>\n",
              "<div class=\"col-md-12 text-right\">\n",
              "    <a role=\"button\" data-toggle=\"collapse\" data-target=\"#descriptives-4433244964482757584,#minihistogram-4433244964482757584\"\n",
              "       aria-expanded=\"false\" aria-controls=\"collapseExample\">\n",
              "        Toggle details\n",
              "    </a>\n",
              "</div>\n",
              "<div class=\"row collapse col-md-12\" id=\"descriptives-4433244964482757584\">\n",
              "    <ul class=\"nav nav-tabs\" role=\"tablist\">\n",
              "        <li role=\"presentation\" class=\"active\"><a href=\"#quantiles-4433244964482757584\"\n",
              "                                                  aria-controls=\"quantiles-4433244964482757584\" role=\"tab\"\n",
              "                                                  data-toggle=\"tab\">Statistics</a></li>\n",
              "        <li role=\"presentation\"><a href=\"#histogram-4433244964482757584\" aria-controls=\"histogram-4433244964482757584\"\n",
              "                                   role=\"tab\" data-toggle=\"tab\">Histogram</a></li>\n",
              "        <li role=\"presentation\"><a href=\"#common-4433244964482757584\" aria-controls=\"common-4433244964482757584\"\n",
              "                                   role=\"tab\" data-toggle=\"tab\">Common Values</a></li>\n",
              "        <li role=\"presentation\"><a href=\"#extreme-4433244964482757584\" aria-controls=\"extreme-4433244964482757584\"\n",
              "                                   role=\"tab\" data-toggle=\"tab\">Extreme Values</a></li>\n",
              "\n",
              "    </ul>\n",
              "\n",
              "    <div class=\"tab-content\">\n",
              "        <div role=\"tabpanel\" class=\"tab-pane active row\" id=\"quantiles-4433244964482757584\">\n",
              "            <div class=\"col-md-4 col-md-offset-1\">\n",
              "                <p class=\"h4\">Quantile statistics</p>\n",
              "                <table class=\"stats indent\">\n",
              "                    <tr>\n",
              "                        <th>Minimum</th>\n",
              "                        <td>17</td>\n",
              "                    </tr>\n",
              "                    <tr>\n",
              "                        <th>5-th percentile</th>\n",
              "                        <td>24</td>\n",
              "                    </tr>\n",
              "                    <tr>\n",
              "                        <th>Q1</th>\n",
              "                        <td>34</td>\n",
              "                    </tr>\n",
              "                    <tr>\n",
              "                        <th>Median</th>\n",
              "                        <td>59</td>\n",
              "                    </tr>\n",
              "                    <tr>\n",
              "                        <th>Q3</th>\n",
              "                        <td>85</td>\n",
              "                    </tr>\n",
              "                    <tr>\n",
              "                        <th>95-th percentile</th>\n",
              "                        <td>91</td>\n",
              "                    </tr>\n",
              "                    <tr>\n",
              "                        <th>Maximum</th>\n",
              "                        <td>97</td>\n",
              "                    </tr>\n",
              "                    <tr>\n",
              "                        <th>Range</th>\n",
              "                        <td>80</td>\n",
              "                    </tr>\n",
              "                    <tr>\n",
              "                        <th>Interquartile range</th>\n",
              "                        <td>51</td>\n",
              "                    </tr>\n",
              "                </table>\n",
              "            </div>\n",
              "            <div class=\"col-md-4 col-md-offset-2\">\n",
              "                <p class=\"h4\">Descriptive statistics</p>\n",
              "                <table class=\"stats indent\">\n",
              "                    <tr>\n",
              "                        <th>Standard deviation</th>\n",
              "                        <td>24.14</td>\n",
              "                    </tr>\n",
              "                    <tr>\n",
              "                        <th>Coef of variation</th>\n",
              "                        <td>0.40902</td>\n",
              "                    </tr>\n",
              "                    <tr>\n",
              "                        <th>Kurtosis</th>\n",
              "                        <td>-1.4217</td>\n",
              "                    </tr>\n",
              "                    <tr>\n",
              "                        <th>Mean</th>\n",
              "                        <td>59.02</td>\n",
              "                    </tr>\n",
              "                    <tr>\n",
              "                        <th>MAD</th>\n",
              "                        <td>20.547</td>\n",
              "                    </tr>\n",
              "                    <tr class=\"\">\n",
              "                        <th>Skewness</th>\n",
              "                        <td>-0.060619</td>\n",
              "                    </tr>\n",
              "                    <tr>\n",
              "                        <th>Sum</th>\n",
              "                        <td>29805</td>\n",
              "                    </tr>\n",
              "                    <tr>\n",
              "                        <th>Variance</th>\n",
              "                        <td>582.74</td>\n",
              "                    </tr>\n",
              "                    <tr>\n",
              "                        <th>Memory size</th>\n",
              "                        <td>4.1 KiB</td>\n",
              "                    </tr>\n",
              "                </table>\n",
              "            </div>\n",
              "        </div>\n",
              "        <div role=\"tabpanel\" class=\"tab-pane col-md-8 col-md-offset-2\" id=\"histogram-4433244964482757584\">\n",
              "            <img src=\"data:image/png;base64,iVBORw0KGgoAAAANSUhEUgAAAlgAAAGQCAYAAAByNR6YAAAABHNCSVQICAgIfAhkiAAAAAlwSFlzAAAPYQAAD2EBqD%2BnaQAAADh0RVh0U29mdHdhcmUAbWF0cGxvdGxpYiB2ZXJzaW9uMy4xLjEsIGh0dHA6Ly9tYXRwbG90bGliLm9yZy8QZhcZAAAgAElEQVR4nO3de1iVdb7//xeHJBU51YAzdtBKLQTPyIQVSmVqqaUYNdttNlZqjIymDaU22eSoe9RtjbRN29lkOrXCXXkYTXeZdqLpXIDklNWVsjVWyhJFMGDd3z/mJ79Z4gHjI/e9bp6P6/Li4nMv13q/uD/Wi3stFiGWZVkCAACAMaF2DwAAAOA2FCwAAADDKFgAAACGUbAAAAAMo2ABAAAYRsECAAAwjIIFAABgGAULAADAMAoWAACAYRQsAAAAwyhYAAAAhlGwAAAADKNgAQAAGEbBAgAAMIyCBQAAYBgFCwAAwDAKFgAAgGEULAAAAMMoWAAAAIZRsAAAAAyjYAEAABhGwQIAADCMggUAAGAYBQsAAMAwChYAAIBhFCwAAADDKFgAAACGUbAAAAAMo2ABAAAYRsECAAAwjIIFAABgGAULAADAMAoWAACAYRQsAAAAwyhYAAAAhlGwAAAADKNgAQAAGEbBAgAAMIyCBQAAYFi43QOcLW%2B99ZZyc3OVmpqqxYsXBxzbsmWL8vLytHv3bsXHx2v8%2BPG69dZb64%2BvXLlSq1evltfrVdeuXTVz5kwlJSU1aR6v91CT/v7ZEBoaori4tjpwoFJ%2Bv2X3OEa5NZtbc0nuzebWXJJ7s7k1l9Qys/3sZ%2B3smceWRz3LnnrqKc2ZM0cXX3xxg2Off/65pk%2BfrpycHH3wwQeaMWOG/vCHP%2BjDDz%2BUJG3dulVLlizRn/70J7377rsaOHCgJk6cqCNHjjR3jLMuNDREISEhCg0NsXsU49yaza25JPdmc2suyb3Z3JpLIltzcmXBioiI0Jo1a05YsHw%2BnyZMmKDrrrtO4eHhSk9PV5cuXeoLlsfj0ciRI9WjRw%2Bde%2B65uuuuuyRJb7zxRrNmAAAAwcuVBWvs2LFq1%2B7ElwSvueYaZWdn139eW1srr9erhIQESVJxcbESExPrj4eGhuqKK65QYWHh2R0aAAC4hmtfg9VYCxcuVJs2bTR06FBJ/7zCFR0dHXCb6OholZeXN/o%2By8rK5PV6A9bCw9soPj6%2B6QMbFBYWGvDRTdyaza25JPdmc2suyb3Z3JpLIltzarEFy7IsLVy4UBs2bNDKlSsVERERcKwpPB6P8vLyAtays7OVk5PTpPs9W6KiWts9wlnj1mxuzSW5N5tbc0nuzebWXBLZmkOLLFh%2Bv18PPvigPv/8cz3//PO68MIL64/FxsbK5/MF3N7n86lz586Nvv%2BsrCxlZGQErIWHt1F5eWXTBjcsLCxUUVGtVVFRpbo6v93jGOXWbG7NJbk3m1tzSe7N5tZcUsvMFhvb1pZ5WmTBmjt3rr788ks9//zziomJCTiWlJSk4uJi3XLLLZKkuro67dixQ5mZmY2%2B//j4%2BAZPB3q9h1Rb68zNXFfnd%2BxsTeXWbG7NJbk3m1tzSe7N5tZcEtmagzOeqGxGH330kdatW6fly5c3KFeSdPvtt%2BuVV17Rp59%2BqqqqKi1dulStWrXSgAEDmn9YAAAQlFx5BSs5OVnSP39CUJJee%2B01SVJhYaH%2B53/%2BR4cOHdLAgQMD/k5KSopWrFiha665Rvfdd5%2BmTJmi/fv3Kzk5WcuXL9e5557bvCEAAEDQCrGa%2BopuNIoT38k9PDxUsbFtVV5e6YjLqSa5NZtbc0nuzebWXJJ7s7k1l9Qys/FO7gAAAC5BwQIAADCMggUAAGAYBQsAAMAwV/4UIQCYNOSxd%2Bwe4YxsmtLf7hGAFo8rWAAAAIZRsAAAAAyjYAEAABhGwQIAADCMggUAAGAYBQsAAMAwChYAAIBhFCwAAADDKFgAAACGUbAAAAAMo2ABAAAYRsECAAAwjIIFAABgGAULAADAMAoWAACAYRQsAAAAwyhYAAAAhlGwAAAADKNgAQAAGEbBAgAAMIyCBQAAYBgFCwAAwDAKFgAAgGEULAAAAMMoWAAAAIZRsAAAAAyjYAEAABhGwQIAADCMggUAAGAYBQsAAMAwChYAAIBhFCwAAADDKFgAAACGUbAAAAAMo2ABAAAYRsECAAAwLNzuAQAACBZDHnvH7hHOyKYp/e0eocVy7RWst956S2lpaZo6dWqDYxs3btSwYcPUq1cvjRw5Um%2B//Xb9Mb/fr8WLF%2Bvaa69VSkqKxo8fr927dzfn6AAAIMi5smA99dRTmjNnji6%2B%2BOIGx0pKSpSbm6vp06frvffe07hx4/Sb3/xG%2B/btkyStXr1a69ev1/Lly/XGG2%2BoY8eOys7OlmVZzR0DAAAEKVcWrIiICK1Zs%2BaEBSs/P1/p6elKT09XRESEhg8fri5dumjdunWSJI/Ho3HjxunSSy9VZGSkpk6dql27dumzzz5r7hgAACBIufI1WGPHjj3pseLiYqWnpwesJSYmqrCwUNXV1frqq6%2BUmJhYfywyMlIXX3yxCgsL1bNnz0Y9fllZmbxeb8BaeHgbxcfHn0GKsy8sLDTgo5u4NZtbc0nuztbcwsOb52vo1nPmplzH7wU3ZTue07K5smCdis/nU3R0dMBadHS0vvrqKx08eFCWZZ3weHl5eaMfw%2BPxKC8vL2AtOztbOTk5P33wsygqqrXdI5w1bs3m1lySu7M1l9jYts36eG49Z27IdbK94IZsJ%2BOUbC2uYEk67eupmvp6q6ysLGVkZASshYe3UXl5ZZPu17SwsFBFRbVWRUWV6ur8do9jlFuzuTWX5O5sza25/lvj1nPmplzH7wU3ZTveybI19zccx7S4ghUbGyufzxew5vP5FBcXp5iYGIWGhp7w%2BHnnndfox4iPj2/wdKDXe0i1tc7czHV1fsfO1lRuzebWXJK7szWX5v76ufWcuSHXyeZ3Q7aTcUo2ZzxR2YySkpJUVFQUsFZYWKgePXooIiJCnTt3VnFxcf2xiooKfffdd%2BrevXtzjwoAAIJUiytYt956q959911t27ZNR48e1Zo1a/Ttt99q%2BPDhkqTbb79dK1eu1K5du3T48GEtXLhQV1xxhZKTk22eHAAABAtXPkV4rAzV1tZKkl577TVJ/7xS1aVLFy1cuFDz5s1TaWmpLrvsMi1btkw/%2B9nPJEm33XabvF6v/v3f/12VlZVKTU1t8IJ1AACAU3FlwSosLDzl8UGDBmnQoEEnPBYSEqKcnBzH/sQfAABwvhb3FCEAAMDZRsECAAAwjIIFAABgGAULAADAMAoWAACAYRQsAAAAwyhYAAAAhlGwAAAADKNgAQAAGEbBAgAAMIyCBQAAYBgFCwAAwDAKFgAAgGEULAAAAMMoWAAAAIZRsAAAAAyjYAEAABhGwQIAADCMggUAAGAYBQsAAMAwChYAAIBhFCwAAADDKFgAAACGUbAAAAAMo2ABAAAYRsECAAAwjIIFAABgGAULAADAMAoWAACAYRQsAAAAwyhYAAAAhlGwAAAADKNgAQAAGEbBAgAAMIyCBQAAYBgFCwAAwDAKFgAAgGEULAAAAMPC7R4ALceQx96xe4QzsmlKf7tHAAAEKa5gAQAAGEbBAgAAMKzFFqwdO3Zo7Nix6tu3r/r376/p06frwIEDkqSCggJlZmaqd%2B/euvHGG7Vu3TqbpwUAAMGkRRas2tpa3XPPPerZs6feffddbdiwQQcOHNDs2bNVVlame%2B%2B9V7fddpsKCgo0c%2BZMPfTQQyosLLR7bAAAECRaZMHyer3yer0aMWKEWrVqpdjYWF1//fUqKSnR%2BvXr1bFjR2VmZioiIkJpaWnKyMhQfn6%2B3WMDAIAg0SILVkJCgq644gp5PB5VVlZq//792rJliwYMGKDi4mIlJiYG3D4xMVFFRUU2TQsAAIJNi3ybhtDQUC1ZskTjxo3Ts88%2BK0nq16%2Bfpk2bpnvvvVcJCQkBt4%2BJiVF5eXmj77%2BsrExerzdgLTy8jeLj45s%2BvEFhYaEBHxEoPNx5Xxc3nzM3Z2tuzbV33XrO3JTr%2BL3gpmzHc1q2FlmwfvzxR02cOFGDBw/WxIkTdeTIET3yyCOaPn26kfv3eDzKy8sLWMvOzlZOTo6R%2BzctKqq13SM4UmxsW7tHOCk3nzM3Z2suzb133XrO3JDrZHvBDdlOxinZWmTBKigo0J49e3TfffcpLCxM7dq1U05OjkaMGKGrr75aPp8v4Pbl5eWKi4tr9P1nZWUpIyMjYC08vI3KyyuNzG9KWFiooqJaq6KiSnV1frvHcRynnS/J3efMzdmaW3PtXbeeMzflOn4vuCnb8U6Wza5vlltkwaqrq5Pf75dlWfVrP/74oyQpLS1NL7/8csDti4qK1KNHj0bff3x8fIOnA73eQ6qtdeZmrqvzO3Y2Ozn5a%2BLmc%2BbmbM2lub9%2Bbj1nbsh1svndkO1knJLNGU9UNrNevXqpTZs2WrJkiaqqqlReXq6lS5cqJSVFI0aMUGlpqfLz83X06FFt375d27dv16233mr32AAAIEi0yIIVGxurp59%2BWh9//LGuueYa3XTTTTr33HO1aNEinXfeeVq2bJlWrVqlPn36aO7cuVqwYIEuv/xyu8cGAABBokU%2BRShJSUlJeu655054LCUlRWvXrm3miQAAgFu0yCtYAAAAZxMFCwAAwDAKFgAAgGEULAAAAMMoWAAAAIZRsAAAAAyjYAEAABhGwQIAADCMggUAAGAYBQsAAMAwChYAAIBhjitYGRkZysvL0969e%2B0eBQAA4CdxXMEaNWqUNm7cqOuuu0533XWXtmzZotraWrvHAgAAaDTHFazs7Gxt3LhRL774ojp37qy5c%2BcqPT1dCxYs0DfffGP3eAAAAKfluIJ1TLdu3ZSbm6s33nhDM2bM0IsvvqihQ4dq/Pjx%2Bvzzz%2B0eDwAA4KQcW7Bqamq0ceNG3X333crNzVVCQoIefPBBXXHFFRo3bpzWr19v94gAAAAnFG73AMfbtWuX1qxZo1deeUWVlZW64YYb9Oyzz6pPnz71t0lJSdHs2bM1bNgwGycFAAA4MccVrBtvvFGdOnXShAkTdPPNNysmJqbBbdLT03XgwAEbpgMAADg9xxWslStXql%2B/fqe93WeffdYM0wAAAJw5x70Gq2vXrpo4caJee%2B21%2BrW//OUvuvvuu%2BXz%2BWycDAAAoHEcV7DmzZunQ4cO6bLLLqtfGzBggPx%2Bv%2BbPn2/jZAAAAI3juKcI3377ba1fv16xsbH1ax07dtTChQt100032TgZAABA4zjuClZ1dbUiIiIarIeGhqqqqsqGiQAAAM6M4wpWSkqK5s%2Bfr4MHD9avff/993rkkUcC3qoBAADAqRz3FOGMGTP061//WldeeaUiIyPl9/tVWVmpCy%2B8UM8995zd4wEAAJyW4wrWhRdeqL/97W9688039d133yk0NFSdOnXSVVddpbCwMLvHAwAAOC3HFSxJatWqla677jq7xwAAAPhJHFewdu/erUWLFunLL79UdXV1g%2BOvv/66DVMBAAA0nuMK1owZM1RWVqarrrpKbdq0sXscAACC1pDH3rF7hEbbNKW/3SMY5biCVVRUpNdff11xcXF2jwIAAPCTOO5tGs477zyuXAEAgKDmuII1YcIE5eXlybIsu0cBAAD4SRz3FOGbb76pjz/%2BWC%2B99JIuuOAChYYGdsAXXnjBpskAAAAax3EFKzIyUtdcc43dYwAAAPxkjitY8%2BbNs3sEAACAJnHca7Ak6euvv9aSJUv04IMP1q998sknNk4EAADQeI4rWAUFBRo%2BfLi2bNmiDRs2SPrnm4%2BOHTuWNxkFAABBwXEFa/Hixbr//vu1fv16hYSESPrn7yecP3%2B%2BnnjiCZunAwAAOD3HvQbrH//4h1atWiVJ9QVLkgYPHqwZM2bYNRZaoGB6B2TJfe%2BCDADBzHFXsNq1a3fC30FYVlamVq1a2TARAADAmXFcwerdu7fmzp2rw4cP16998803ys3N1ZVXXmnjZAAAAI3juKcIH3zwQd1xxx1KTU1VXV2devfuraqqKnXu3Fnz58%2B3ezwAAIDTclzBat%2B%2BvTZs2KDt27frm2%2B%2B0bnnnqtOnTqpf//%2BAa/JMmHp0qVavXq1Dh8%2BrJ49e2rOnDm64IILVFBQoEWLFunrr7/Wz3/%2Bc02YMEHDhw83%2BtgAAMC9HFewJOmcc87Rddddd1YfY/Xq1Vq3bp1Wrlyp%2BPh4PfbYY/rLX/6ie%2B65R/fee69mzpypYcOG6aOPPtKkSZPUqVMnJScnn9WZAACAOziuYGVkZJzySpWp98JasWKFcnNzdckll0iSZs2aJUl6%2Bumn1bFjR2VmZkqS0tLSlJGRofz8fAoWAABoFMcVrKFDhwYUrLq6On3zzTcqLCzUHXfcYeQxvv/%2Be%2B3Zs0cHDx7U0KFDtX//fqWmpmr27NkqLi5WYmJiwO0TExO1adOmRt9/WVmZvF5vwFp4eBvFx8cbmd%2BUsLDQgI8IbuHhwX0e2Y/mNNdecOs5c2sup2vqvnXaeXNcwZo%2BffoJ1zdv3qy///3vRh5j3759kqRXX31VzzzzjCzLUk5OjmbNmqXq6molJCQE3D4mJkbl5eWNvn%2BPx6O8vLyAtezsbOXk5DR9%2BLMgKqq13SPAgNjYtnaPYAT7semaey%2B49Zy5NZdTmdq3TjlvjitYJ3Pdddfp97//vX7/%2B983%2Bb4sy5Ik3XXXXfVlavLkybr77ruVlpbW5PvPyspSRkZGwFp4eBuVl1c2%2Bb5NCgsLVVRUa1VUVKmuzm/3OGgip%2B2vM8V%2BNKe59oJbz5lbczldU/ftyc6bXd98Bk3B2rFjR30xaqrzzz9fkhQVFVW/1qFDB1mWpZqaGvl8voDbl5eXKy4urtH3Hx8f3%2BDpQK/3kGprnfkPta7O79jZ0HhuOYfsx6Zr7q%2BfW8%2BZW3M5lamvtVPOm%2BMK1m233dZgraqqSrt27dKgQYOMPEb79u0VGRmpkpISdevWTZJUWlqqc845R%2Bnp6Vq7dm3A7YuKitSjRw8jjw0AANzPcQWrY8eODX6KMCIiQpmZmRo9erSRxwgPD1dmZqaefPJJpaSkKDIyUk888YSGDRumW265Rf/1X/%2Bl/Px8DR8%2BXO%2B99562b98uj8dj5LEBAID7Oa5gNde7tU%2BbNk0//vijRo8erZqaGt1www2aNWuW2rZtq2XLlmnOnDl65JFH1KFDBy1YsECXX355s8wFAACCn%2BMK1iuvvNLo2958880/%2BXFatWqlhx9%2BWA8//HCDYykpKQ2eJgQAAGgsxxWsmTNnyu/3N3hBe0hISMBaSEhIkwoWAADA2eK4gvXf//3fWrFihSZOnKiuXbvKsizt3LlTTz31lMaMGaPU1FS7RwQAADglxxWs%2BfPna/ny5QFv9tm3b19deOGFGj9%2BvDZs2GDjdAAAAKfnjPeT/xfffvutoqOjG6xHRUWptLTUhokAAADOjOMKVocOHTR//vyAX01TUVGhRYsW6aKLLrJxMgAAgMZx3FOEM2bM0LRp0%2BTxeNS2bVuFhobq8OHDOvfcc/XEE0/YPR4AAMBpOa5gXXXVVdq2bZu2b9%2Buffv2ybIsJSQk6Oqrr1a7du3sHg8AAOC0HFewJKl169a69tprtW/fPl144YV2jwMAAHBGHPcarOrqauXm5qpXr14aMmSIpH%2B%2BBuuuu%2B5SRUWFzdMBAACcnuMK1oIFC1RSUqKFCxcqNPT/H6%2Burk4LFy60cTIAAIDGcVzB2rx5s/785z9r8ODB9b/0OSoqSvPmzdOWLVtsng4AAOD0HFewKisr1bFjxwbrcXFxOnLkSPMPBAAAcIYcV7Auuugi/f3vf5ekgN89%2BOqrr%2BoXv/iFXWMBAAA0muN%2BivBXv/qVJk%2BerFGjRsnv9%2BuZZ55RUVGRNm/erJkzZ9o9HgAAwGk5rmBlZWUpPDxcq1atUlhYmJ588kl16tRJCxcu1ODBg%2B0eDwAA4LQcV7AOHDigUaNGadSoUXaPAgAA8JM47jVY1157bcBrrwAAAIKN4wpWamqqNm3aZPcYAAAAP5njniL8%2Bc9/rj/%2B8Y9avny5LrroIp1zzjkBxxctWmTTZAAAAI3juIL11Vdf6ZJLLpEklZeX2zwNAADAmXNMwZo6daoWL16s5557rn7tiSeeUHZ2to1TAQAAnDnHvAZr69atDdaWL19uwyQAAABN45iCdaKfHOSnCQEAQDByTME69oudT7cGAADgdI4pWAAAAG5BwQIAADDMMT9FWFNTo2nTpp12jffBAgAATueYgtWnTx%2BVlZWddg0AAMDpHFOw/vX9rwAAAIIZr8ECAAAwjIIFAABgGAULAADAMAoWAACAYRQsAAAAwyhYAAAAhlGwAAAADKNgAQAAGEbBAgAAMIyCBQAAYBgFCwAAwDAKFgAAgGEtvmDNnTtXXbt2rf%2B8oKBAmZmZ6t27t2688UatW7fOxukAAEAwCrd7ADuVlJRo7dq19Z%2BXlZXp3nvv1cyZMzVs2DB99NFHmjRpkjp16qTk5GQbJwUAAMGkxV7B8vv9evjhhzVu3Lj6tfXr16tjx47KzMxURESE0tLSlJGRofz8fPsGBQAAQafFFqwXXnhBERERGjZsWP1acXGxEhMTA26XmJiooqKi5h4PAAAEsRb5FOEPP/ygJUuW6LnnngtY9/l8SkhICFiLiYlReXn5Gd1/WVmZvF5vwFp4eBvFx8f/tIHPkrCw0ICPCG7h4cF9HtmP5jTXXnDrOXNrLqdr6r512nlrkQVr3rx5GjlypC677DLt2bPH%2BP17PB7l5eUFrGVnZysnJ8f4Y5kQFdXa7hFgQGxsW7tHMIL92HTNvRfces7cmsupTO1bp5y3FlewCgoK9Mknn2jDhg0NjsXGxsrn8wWslZeXKy4u7oweIysrSxkZGQFr4eFtVF5eeeYDn0VhYaGKimqtiooq1dX57R4HTeS0/XWm2I/mNNdecOs5c2sup2vqvj3ZebPrm88WV7DWrVun/fv3a%2BDAgZIky7IkSampqfr1r3/doHgVFRWpR48eZ/QY8fHxDZ4O9HoPqbbWmf9Q6%2Br8jp0NjeeWc8h%2BbLrm/vq59Zy5NZdTmfpaO%2BW8tbiC9cADD%2Bi3v/1t/ef79u1TVlaW1q5dK7/fr2XLlik/P1/Dhw/Xe%2B%2B9p%2B3bt8vj8dg4MQAACDYtrmBFR0crOjq6/vPa2lpJUvv27SVJy5Yt05w5c/TII4%2BoQ4cOWrBggS6//HJbZgUAAMGpxRWs411wwQXauXNn/ecpKSkBbz4KAABwppzxs4wAAAAuQsECAAAwjIIFAABgGAULAADAMAoWAACAYRQsAAAAwyhYAAAAhlGwAAAADKNgAQAAGEbBAgAAMIyCBQAAYBgFCwAAwDAKFgAAgGEULAAAAMMoWAAAAIZRsAAAAAyjYAEAABhGwQIAADCMggUAAGAYBQsAAMAwChYAAIBhFCwAAADDKFgAAACGUbAAAAAMo2ABAAAYRsECAAAwjIIFAABgGAULAADAsHC7B0DTDHnsHbtHAAAAx%2BEKFgAAgGEULAAAAMMoWAAAAIZRsAAAAAzjRe4Amh0/nAHA7biCBQAAYBgFCwAAwDAKFgAAgGEULAAAAMMoWAAAAIZRsAAAAAyjYAEAABhGwQIAADCsxRas0tJSZWdnKzU1VWlpaXrggQdUUVEhSSopKdGYMWPUp08fDRo0SCtWrLB5WgAAEExabMGaOHGioqKitHXrVr300kv68ssv9R//8R%2Bqrq7WhAkT9Mtf/lJvvfWWFi9erGXLlmnLli12jwwAAIJEiyxYFRUVSkpK0rRp09S2bVu1b99et9xyiz788ENt27ZNNTU1mjRpktq0aaNu3bpp9OjR8ng8do8NAACCRIv8XYRRUVGaN29ewNrevXsVHx%2Bv4uJide3aVWFhYfXHEhMTlZ%2Bf3%2Bj7Lysrk9frDVgLD2%2Bj%2BPj4pg0OnEJ4eIv8fgkn0Fx7ISwsNOCjW7g1l9M1dd867by1yIJ1vMLCQq1atUpLly7Vpk2bFBUVFXA8JiZGPp9Pfr9foaGnP3Eej0d5eXkBa9nZ2crJyTE6N/CvYmPb2j0CHKK590JUVOtmfbzm4tZcTmVq3zrlvLX4gvXRRx9p0qRJmjZtmtLS0rRp06YT3i4kJKTR95mVlaWMjIyAtfDwNiovr2zSrMCpsL9wTHPthbCwUEVFtVZFRZXq6vzN8pjNwa25nK6p%2B/Zk582ubz5bdMHaunWr7r//fj300EO6%2BeabJUlxcXH69ttvA27n8/kUExPTqKtXkhQfH9/g6UCv95Bqa/mHirOH/YVjmnsv1NX5Xbn/3JrLqUx9rZ1y3pzxRKUNPv74Y%2BXm5urxxx%2BvL1eSlJSUpJ07d6q2trZ%2BrbCwUD169LBjTAAAEIRaZMGqra3VrFmzNH36dF111VUBx9LT0xUZGamlS5eqqqpKn332mdasWaPbb7/dpmkBAECwaZEF69NPP9WuXbs0Z84cJScnB/zxer168skn9e6776pfv36aMmWKpk6dqgEDBtg9NgAACBIt8jVYffv21c6dO095m%2Beff76ZpgEAAG7TIq9gAQAAnE0ULAAAAMMoWAAAAIZRsAAAAAxrkS9yBwA3G/LYO3aP0GibpvS3ewTgrOAKFgAAgGEULAAAAMMoWAAAAIZRsAAAAAyjYAEAABhGwQIAADCMggUAAGAYBQsAAMAwChYAAIBhFCwAAADDKFgAAACGUbAAAAAMo2ABAAAYRsECAAAwjIIFAABgGAULAADAMAoWAACAYRQsAAAAwyhYAAAAhlGwAAAADKNgAQAAGEbBAgAAMIyCBQAAYBgFCwAAwDAKFgAAgGEULAAAAMMoWAAAAIZRsAAAAAyjYAEAABhGwQIAADCMggUAAGAYBQsAAMAwChYAAIBh4XYPAMCMIY%2B9Y/cIwBlj38KtuIIFAABgGAULAADAMAoWAACAYRSsEygtLdU999yj1NRUDRw4UAsWLJDf77d7LAAAECR4kfsJTJ48Wd26ddNrr72m/fv3a8KECTr//PN155132j0aAAAIAlzBOk5hYaG%2B%2BOILTZ8%2BXe3atVPHjh01btw4eTweu0cDAABBgg%2B6oasAAAyeSURBVCtYxykuLlaHDh0UHR1dv9atWzd98803Onz4sCIjI097H2VlZfJ6vQFr4eFtFB8fb3xeAADcIDy8add8wsJCAz7ajYJ1HJ/Pp6ioqIC1Y2WrvLy8UQXL4/EoLy8vYO03v/mNJk%2BebG7Q/8%2BHfxz8k/9uWVmZPB6PsrKyXFf%2B3JrNrbkk92Zzay7Jvdncmktyf7Znn/1vx2RzRs1zGMuymvT3s7Ky9NJLLwX8ycrKMjSdOV6vV3l5eQ2utrmBW7O5NZfk3mxuzSW5N5tbc0lka05cwTpOXFycfD5fwJrP51NISIji4uIadR/x8fGOaM8AAMAeXME6TlJSkvbu3asDBw7UrxUWFuqyyy5T27ZtbZwMAAAECwrWcRITE5WcnKxFixbp8OHD2rVrl5555hndfvvtdo8GAACCRNjs2bNn2z2E01x99dXasGGDHn30Uf3tb39TZmamxo8fr5CQELtHM65t27bq16%2BfK6/OuTWbW3NJ7s3m1lySe7O5NZdEtuYSYjX1Fd0AAAAIwFOEAAAAhlGwAAAADKNgAQAAGEbBAgAAMIyCBQAAYBgFCwAAwDAKFgAAgGEULAAAAMMoWAAAAIZRsFqI0tJSZWdnKzU1VWlpaXrggQdUUVEhSSopKdGYMWPUp08fDRo0SCtWrLB52jPzxRdf6I477lCfPn2UlpamKVOmyOv1SpIKCgqUmZmp3r1768Ybb9S6detsnvanmTt3rrp27Vr/ebDn6tq1q5KSkpScnFz/59FHH5UU/NmWLl2qq666Sj179tS4ceO0Z88eScGd64MPPgg4V8nJyUpKSqrfk8GcbceOHRo7dqz69u2r/v37a/r06Tpw4ICk4M4lSUVFRRo7dqz69Omjq6%2B%2BWk8//XT9sY0bN2rYsGHq1auXRo4cqbffftvGSU/vrbfeUlpamqZOndrg2Kmy%2BP1%2BLV68WNdee61SUlI0fvx47d69u3mGttAi3HTTTdYDDzxgHT582Nq7d681cuRIa8aMGVZVVZV19dVXW0uWLLEqKyutoqIiq1%2B/ftbmzZvtHrlRjh49al155ZVWXl6edfToUWv//v3WmDFjrHvvvdf6/vvvrZ49e1r5%2BflWdXW19c4771jdu3e3Pv/8c7vHPiM7duyw%2BvXrZ3Xp0sWyLMsVubp06WLt3r27wXqwZ1u1apU1ePBga9euXdahQ4esRx991Hr00UeDPteJLF261Prtb38b1Nlqamqs/v37W4sWLbKOHj1qHThwwLrzzjutyZMnB3Uuy7Ks8vJyKzU11Vq4cKF15MgR6x//%2BIc1cOBAa%2BPGjdaOHTuspKQka9u2bVZ1dbW1du1aq0ePHtbevXvtHvuEli9fbg0aNMi67bbbrClTpgQcO12WlStXWgMHDrS%2B%2Buor69ChQ9Yf/vAHa9iwYZbf7z/rc3MFqwWoqKhQUlKSpk2bprZt26p9%2B/a65ZZb9OGHH2rbtm2qqanRpEmT1KZNG3Xr1k2jR4%2BWx%2BOxe%2BxGqaqq0tSpUzVhwgS1atVKcXFxuv766/Xll19q/fr16tixozIzMxUREaG0tDRlZGQoPz/f7rEbze/36%2BGHH9a4cePq19yQ62SCPduKFSs0depUXXLJJYqMjNSsWbM0a9asoM91vP/7v//TM888o9/97ndBnc3r9crr9WrEiBFq1aqVYmNjdf3116ukpCSoc0nSp59%2BqsrKSk2ZMkWtW7dW586dNX78eK1Zs0b5%2BflKT09Xenq6IiIiNHz4cHXp0sWxV%2BgiIiK0Zs0aXXzxxQ2OnS6Lx%2BPRuHHjdOmllyoyMlJTp07Vrl279Nlnn531uSlYLUBUVJTmzZun888/v35t7969io%2BPV3Fxsbp27aqwsLD6Y4mJiSoqKrJj1DMWHR2t0aNHKzw8XJL09ddf6%2BWXX9aQIUNUXFysxMTEgNsHUzZJeuGFFxQREaFhw4bVr7khlyQtWrRIAwYMUN%2B%2BffXQQw%2BpsrIyqLN9//332rNnjw4ePKihQ4cqNTVVOTk5OnDgQFDnOpHHH39co0aN0i9%2B8YugzpaQkKArrrhCHo9HlZWV2r9/v7Zs2aIBAwYEda5jQkJCAj6Pjo5WSUnJSbMVFhY253iNNnbsWLVr1%2B6Ex06Vpbq6Wl999VXA8cjISF188cXNkpWC1QIVFhZq1apVmjRpknw%2Bn6KiogKOx8TEyOfzye/32zThmSstLVVSUpKGDh2q5ORk5eTknDRbeXm5TVOemR9%2B%2BEFLlizRww8/HLAe7LkkqWfPnkpLS9OWLVvk8Xj06aef6pFHHgnqbPv27ZMkvfrqq3rmmWe0du1a7du3T7NmzQrqXMfbs2ePtmzZojvvvFNScO/H0NBQLVmyRK%2B//rp69%2B6ttLQ01dbWatq0aUGdS5J69eql1q1b6/HHH1dVVZW%2B%2B%2B47/fWvf9XBgwfl8/kUHR0dcPvo6OigyfavTpXl4MGDsizLtqwUrBbmo48%2B0vjx4zVt2jSlpaWd9HbHf%2BfjdB06dFBhYaFeffVVffvtt/rd735n90hNNm/ePI0cOVKXXXaZ3aMY5/F4NHr0aLVq1UqXXnqppk%2Bfrg0bNqimpsbu0X4yy7IkSXfddZcSEhLUvn17TZ48WVu3brV5MrNWr16tQYMG6Wc/%2B5ndozTZjz/%2BqIkTJ2rw4MH68MMP9eabb6pdu3aaPn263aM1WXR0tJ544gkVFBSof//%2Buv/%2B%2BzVixIj6ZyuO7Vc3OF0Wu7JSsFqQrVu36p577tGMGTM0duxYSVJcXFyDJu/z%2BRQTE6PQ0ODaHiEhIerYsaOmTp2qDRs2KDw8XD6fL%2BA25eXliouLs2nCxisoKNAnn3yi7OzsBsdiY2ODNtfJXHDBBaqrq1NoaGjQZjv2FPy/XvXo0KGDLMtSTU1N0OY63ubNm5WRkVH/eTDvx4KCAu3Zs0f33Xef2rVrp4SEBOXk5Oh///d/g3ovHtO3b1/l5%2Bfr448/lsfjUUxMjBISEk54znw%2BX1BlO%2BZUWY79f%2BxEx88777yzPltw/R8UP9nHH3%2Bs3NxcPf7447r55pvr15OSkrRz507V1tbWrxUWFqpHjx52jHnGCgoKdMMNNwQ8nXmsGHbv3r3B6yWKioqCItu6deu0f/9%2BDRw4UKmpqRo5cqQkKTU1VV26dAnaXNI/fyx%2B/vz5AWu7du1Sq1atlJ6eHrTZ2rdvr8jISJWUlNSvlZaW6pxzzgnqXP%2BqpKREpaWl6t%2B/f/1acnJy0Garq6uT3%2B8PuMLx448/SpLS0tKCNpckHT16VC%2B//LIOHz5cv/bOO%2B%2BoV69eSkpKapAtmP67/69OlSUiIkKdO3dWcXFx/bGKigp999136t69%2B9kf7qz/nCJsV1NTYw0ZMsR64YUXGhw7evSoNXDgQOvPf/6zdeTIEevTTz%2B1%2Bvbta73xxhvNP%2BhPUFFRYaWlpVnz58%2B3jhw5Yu3fv98aP3689atf/cr64YcfrF69elkvvviiVV1dbW3bts3q3r27VVJSYvfYp%2BXz%2Bay9e/fW//nkk0%2BsLl26WHv37rVKS0uDNpdlWda%2Bffusnj17WsuWLbOOHj1qff3119bQoUOtRx99NKjPmWVZ1ty5c61rr73W%2Bvbbb60ffvjBysrKsh544IGgz3XMmjVrrH79%2BgWsBXO2AwcOWP369bP%2B8z//0zpy5Ih14MABa%2BLEida//du/BXUuy7Ksuro6KyMjw/rTn/5k1dTUWG%2B99ZbVo0cPq6ioyNq5c6eVnJxsvfHGG1Z1dbWVn59v9erVyyorK7N77FPKzc1t8DYNp8vy17/%2B1RowYED92zQ89NBD1qhRo5plXgpWC/DBBx9YXbp0sZKSkhr82bNnj7Vz507rtttus5KSkqwBAwZYq1evtnvkM/LFF19YY8aMsbp372798pe/tKZMmWLt27fPsizLev/9963hw4db3bp1swYNGhQ07%2B91vN27d9e/D5ZlBX%2Bu999/38rKyrJ69uxp9evXz5o3b55VXV1dfyxYsx09etSaPXu2lZKSYvXs2dPKzc21Dh8%2BbFlWcOc65sknn7RuvPHGBuvBnK2wsNAaM2aM1bdvXystLc1V//34/PPPrVtuucXq3r27NWjQIGvLli31xzZv3mwNGjTI6tatmzVixAjr/ffft3HSUzv2/6vLL7/cuvzyy%2Bs/P%2BZUWfx%2Bv/X4449bV155pdW9e3fr7rvvbrb3%2BwqxLBe90g0AAMABeA0WAACAYRQsAAAAwyhYAAAAhlGwAAAADKNgAQAAGEbBAgAAMIyCBQAAYBgFCwAAwDAKFgAAgGEULAAAAMMoWAAAAIZRsAAAAAyjYAEAABj2/wAk46FWJin5KwAAAABJRU5ErkJggg%3D%3D\"/>\n",
              "        </div>\n",
              "        <div role=\"tabpanel\" class=\"tab-pane col-md-12\" id=\"common-4433244964482757584\">\n",
              "            \n",
              "<table class=\"freq table table-hover\">\n",
              "    <thead>\n",
              "    <tr>\n",
              "        <td class=\"fillremaining\">Value</td>\n",
              "        <td class=\"number\">Count</td>\n",
              "        <td class=\"number\">Frequency (%)</td>\n",
              "        <td style=\"min-width:200px\">&nbsp;</td>\n",
              "    </tr>\n",
              "    </thead>\n",
              "    <tr class=\"\">\n",
              "        <td class=\"fillremaining\">59</td>\n",
              "        <td class=\"number\">25</td>\n",
              "        <td class=\"number\">5.0%</td>\n",
              "        <td>\n",
              "            <div class=\"bar\" style=\"width:8%\">&nbsp;</div>\n",
              "        </td>\n",
              "</tr><tr class=\"\">\n",
              "        <td class=\"fillremaining\">88</td>\n",
              "        <td class=\"number\">20</td>\n",
              "        <td class=\"number\">4.0%</td>\n",
              "        <td>\n",
              "            <div class=\"bar\" style=\"width:7%\">&nbsp;</div>\n",
              "        </td>\n",
              "</tr><tr class=\"\">\n",
              "        <td class=\"fillremaining\">58</td>\n",
              "        <td class=\"number\">19</td>\n",
              "        <td class=\"number\">3.8%</td>\n",
              "        <td>\n",
              "            <div class=\"bar\" style=\"width:6%\">&nbsp;</div>\n",
              "        </td>\n",
              "</tr><tr class=\"\">\n",
              "        <td class=\"fillremaining\">91</td>\n",
              "        <td class=\"number\">19</td>\n",
              "        <td class=\"number\">3.8%</td>\n",
              "        <td>\n",
              "            <div class=\"bar\" style=\"width:6%\">&nbsp;</div>\n",
              "        </td>\n",
              "</tr><tr class=\"\">\n",
              "        <td class=\"fillremaining\">87</td>\n",
              "        <td class=\"number\">19</td>\n",
              "        <td class=\"number\">3.8%</td>\n",
              "        <td>\n",
              "            <div class=\"bar\" style=\"width:6%\">&nbsp;</div>\n",
              "        </td>\n",
              "</tr><tr class=\"\">\n",
              "        <td class=\"fillremaining\">31</td>\n",
              "        <td class=\"number\">19</td>\n",
              "        <td class=\"number\">3.8%</td>\n",
              "        <td>\n",
              "            <div class=\"bar\" style=\"width:6%\">&nbsp;</div>\n",
              "        </td>\n",
              "</tr><tr class=\"\">\n",
              "        <td class=\"fillremaining\">61</td>\n",
              "        <td class=\"number\">18</td>\n",
              "        <td class=\"number\">3.6%</td>\n",
              "        <td>\n",
              "            <div class=\"bar\" style=\"width:6%\">&nbsp;</div>\n",
              "        </td>\n",
              "</tr><tr class=\"\">\n",
              "        <td class=\"fillremaining\">84</td>\n",
              "        <td class=\"number\">17</td>\n",
              "        <td class=\"number\">3.4%</td>\n",
              "        <td>\n",
              "            <div class=\"bar\" style=\"width:6%\">&nbsp;</div>\n",
              "        </td>\n",
              "</tr><tr class=\"\">\n",
              "        <td class=\"fillremaining\">62</td>\n",
              "        <td class=\"number\">15</td>\n",
              "        <td class=\"number\">3.0%</td>\n",
              "        <td>\n",
              "            <div class=\"bar\" style=\"width:5%\">&nbsp;</div>\n",
              "        </td>\n",
              "</tr><tr class=\"\">\n",
              "        <td class=\"fillremaining\">33</td>\n",
              "        <td class=\"number\">14</td>\n",
              "        <td class=\"number\">2.8%</td>\n",
              "        <td>\n",
              "            <div class=\"bar\" style=\"width:5%\">&nbsp;</div>\n",
              "        </td>\n",
              "</tr><tr class=\"other\">\n",
              "        <td class=\"fillremaining\">Other values (51)</td>\n",
              "        <td class=\"number\">320</td>\n",
              "        <td class=\"number\">63.4%</td>\n",
              "        <td>\n",
              "            <div class=\"bar\" style=\"width:100%\">&nbsp;</div>\n",
              "        </td>\n",
              "</tr>\n",
              "</table>\n",
              "        </div>\n",
              "        <div role=\"tabpanel\" class=\"tab-pane col-md-12\"  id=\"extreme-4433244964482757584\">\n",
              "            <p class=\"h4\">Minimum 5 values</p>\n",
              "            \n",
              "<table class=\"freq table table-hover\">\n",
              "    <thead>\n",
              "    <tr>\n",
              "        <td class=\"fillremaining\">Value</td>\n",
              "        <td class=\"number\">Count</td>\n",
              "        <td class=\"number\">Frequency (%)</td>\n",
              "        <td style=\"min-width:200px\">&nbsp;</td>\n",
              "    </tr>\n",
              "    </thead>\n",
              "    <tr class=\"\">\n",
              "        <td class=\"fillremaining\">17</td>\n",
              "        <td class=\"number\">4</td>\n",
              "        <td class=\"number\">0.8%</td>\n",
              "        <td>\n",
              "            <div class=\"bar\" style=\"width:100%\">&nbsp;</div>\n",
              "        </td>\n",
              "</tr><tr class=\"\">\n",
              "        <td class=\"fillremaining\">18</td>\n",
              "        <td class=\"number\">2</td>\n",
              "        <td class=\"number\">0.4%</td>\n",
              "        <td>\n",
              "            <div class=\"bar\" style=\"width:50%\">&nbsp;</div>\n",
              "        </td>\n",
              "</tr><tr class=\"\">\n",
              "        <td class=\"fillremaining\">20</td>\n",
              "        <td class=\"number\">3</td>\n",
              "        <td class=\"number\">0.6%</td>\n",
              "        <td>\n",
              "            <div class=\"bar\" style=\"width:75%\">&nbsp;</div>\n",
              "        </td>\n",
              "</tr><tr class=\"\">\n",
              "        <td class=\"fillremaining\">21</td>\n",
              "        <td class=\"number\">2</td>\n",
              "        <td class=\"number\">0.4%</td>\n",
              "        <td>\n",
              "            <div class=\"bar\" style=\"width:50%\">&nbsp;</div>\n",
              "        </td>\n",
              "</tr><tr class=\"\">\n",
              "        <td class=\"fillremaining\">22</td>\n",
              "        <td class=\"number\">4</td>\n",
              "        <td class=\"number\">0.8%</td>\n",
              "        <td>\n",
              "            <div class=\"bar\" style=\"width:100%\">&nbsp;</div>\n",
              "        </td>\n",
              "</tr>\n",
              "</table>\n",
              "            <p class=\"h4\">Maximum 5 values</p>\n",
              "            \n",
              "<table class=\"freq table table-hover\">\n",
              "    <thead>\n",
              "    <tr>\n",
              "        <td class=\"fillremaining\">Value</td>\n",
              "        <td class=\"number\">Count</td>\n",
              "        <td class=\"number\">Frequency (%)</td>\n",
              "        <td style=\"min-width:200px\">&nbsp;</td>\n",
              "    </tr>\n",
              "    </thead>\n",
              "    <tr class=\"\">\n",
              "        <td class=\"fillremaining\">92</td>\n",
              "        <td class=\"number\">9</td>\n",
              "        <td class=\"number\">1.8%</td>\n",
              "        <td>\n",
              "            <div class=\"bar\" style=\"width:100%\">&nbsp;</div>\n",
              "        </td>\n",
              "</tr><tr class=\"\">\n",
              "        <td class=\"fillremaining\">93</td>\n",
              "        <td class=\"number\">4</td>\n",
              "        <td class=\"number\">0.8%</td>\n",
              "        <td>\n",
              "            <div class=\"bar\" style=\"width:45%\">&nbsp;</div>\n",
              "        </td>\n",
              "</tr><tr class=\"\">\n",
              "        <td class=\"fillremaining\">94</td>\n",
              "        <td class=\"number\">7</td>\n",
              "        <td class=\"number\">1.4%</td>\n",
              "        <td>\n",
              "            <div class=\"bar\" style=\"width:78%\">&nbsp;</div>\n",
              "        </td>\n",
              "</tr><tr class=\"\">\n",
              "        <td class=\"fillremaining\">95</td>\n",
              "        <td class=\"number\">1</td>\n",
              "        <td class=\"number\">0.2%</td>\n",
              "        <td>\n",
              "            <div class=\"bar\" style=\"width:12%\">&nbsp;</div>\n",
              "        </td>\n",
              "</tr><tr class=\"\">\n",
              "        <td class=\"fillremaining\">97</td>\n",
              "        <td class=\"number\">1</td>\n",
              "        <td class=\"number\">0.2%</td>\n",
              "        <td>\n",
              "            <div class=\"bar\" style=\"width:12%\">&nbsp;</div>\n",
              "        </td>\n",
              "</tr>\n",
              "</table>\n",
              "        </div>\n",
              "    </div>\n",
              "</div>\n",
              "</div><div class=\"row variablerow\">\n",
              "    <div class=\"col-md-3 namecol\">\n",
              "        <p class=\"h4 pp-anchor\" id=\"pp_var_Income\">Income<br/>\n",
              "            <small>Numeric</small>\n",
              "        </p>\n",
              "    </div><div class=\"col-md-6\">\n",
              "    <div class=\"row\">\n",
              "        <div class=\"col-sm-6\">\n",
              "            <table class=\"stats \">\n",
              "                <tr>\n",
              "                    <th>Distinct count</th>\n",
              "                    <td>503</td>\n",
              "                </tr>\n",
              "                <tr>\n",
              "                    <th>Unique (%)</th>\n",
              "                    <td>99.6%</td>\n",
              "                </tr>\n",
              "                <tr class=\"ignore\">\n",
              "                    <th>Missing (%)</th>\n",
              "                    <td>0.0%</td>\n",
              "                </tr>\n",
              "                <tr class=\"ignore\">\n",
              "                    <th>Missing (n)</th>\n",
              "                    <td>0</td>\n",
              "                </tr>\n",
              "                <tr class=\"ignore\">\n",
              "                    <th>Infinite (%)</th>\n",
              "                    <td>0.0%</td>\n",
              "                </tr>\n",
              "                <tr class=\"ignore\">\n",
              "                    <th>Infinite (n)</th>\n",
              "                    <td>0</td>\n",
              "                </tr>\n",
              "            </table>\n",
              "\n",
              "        </div>\n",
              "        <div class=\"col-sm-6\">\n",
              "            <table class=\"stats \">\n",
              "\n",
              "                <tr>\n",
              "                    <th>Mean</th>\n",
              "                    <td>75513</td>\n",
              "                </tr>\n",
              "                <tr>\n",
              "                    <th>Minimum</th>\n",
              "                    <td>12000</td>\n",
              "                </tr>\n",
              "                <tr>\n",
              "                    <th>Maximum</th>\n",
              "                    <td>142000</td>\n",
              "                </tr>\n",
              "                <tr class=\"ignore\">\n",
              "                    <th>Zeros (%)</th>\n",
              "                    <td>0.0%</td>\n",
              "                </tr>\n",
              "            </table>\n",
              "        </div>\n",
              "    </div>\n",
              "</div>\n",
              "<div class=\"col-md-3 collapse in\" id=\"minihistogram8829014853155224717\">\n",
              "    <img src=\"data:image/png;base64,iVBORw0KGgoAAAANSUhEUgAAAMgAAABLCAYAAAA1fMjoAAAABHNCSVQICAgIfAhkiAAAAAlwSFlzAAAPYQAAD2EBqD%2BnaQAAADh0RVh0U29mdHdhcmUAbWF0cGxvdGxpYiB2ZXJzaW9uMy4xLjEsIGh0dHA6Ly9tYXRwbG90bGliLm9yZy8QZhcZAAABMUlEQVR4nO3a0WnDMBRA0aZ0pAzRnfqdnTpEdlIWCBc7YCzkc/4DgnD9JMu3Mcb4At76PnsBMLOfsxewsvvf/%2B7fPB%2B/B6yET5kgEAQCQSAQBAJBIBCWeIvlbRFHMUEgCASCQCAIBIJAIAgEgkAgLHEPwj7ujbYzQSAIBIJAIAgEgkAgCASCQCAIBIJAILhJZ5Or3r6bIBBMkAV88nRnm%2BkC8WczE1ssCAKBIBAI051Brs4ZbC4mCASBQBAIBIFAcEjnMCt8v2WCQBAIBIFAEAgEh/Qd3HJfjwkCQSAQLrvFsl1iCxMEgkAg3MYY4%2BxFwKxMEAgCgSAQCAKBIBAIAoEgEAgCgSAQCAKBIBAIAoEgEAgCgSAQCAKBIBAIAoEgEAgCgSAQCAKBIBAIAoEgEAgvdSoepE%2B9g%2BkAAAAASUVORK5CYII%3D\">\n",
              "\n",
              "</div>\n",
              "<div class=\"col-md-12 text-right\">\n",
              "    <a role=\"button\" data-toggle=\"collapse\" data-target=\"#descriptives8829014853155224717,#minihistogram8829014853155224717\"\n",
              "       aria-expanded=\"false\" aria-controls=\"collapseExample\">\n",
              "        Toggle details\n",
              "    </a>\n",
              "</div>\n",
              "<div class=\"row collapse col-md-12\" id=\"descriptives8829014853155224717\">\n",
              "    <ul class=\"nav nav-tabs\" role=\"tablist\">\n",
              "        <li role=\"presentation\" class=\"active\"><a href=\"#quantiles8829014853155224717\"\n",
              "                                                  aria-controls=\"quantiles8829014853155224717\" role=\"tab\"\n",
              "                                                  data-toggle=\"tab\">Statistics</a></li>\n",
              "        <li role=\"presentation\"><a href=\"#histogram8829014853155224717\" aria-controls=\"histogram8829014853155224717\"\n",
              "                                   role=\"tab\" data-toggle=\"tab\">Histogram</a></li>\n",
              "        <li role=\"presentation\"><a href=\"#common8829014853155224717\" aria-controls=\"common8829014853155224717\"\n",
              "                                   role=\"tab\" data-toggle=\"tab\">Common Values</a></li>\n",
              "        <li role=\"presentation\"><a href=\"#extreme8829014853155224717\" aria-controls=\"extreme8829014853155224717\"\n",
              "                                   role=\"tab\" data-toggle=\"tab\">Extreme Values</a></li>\n",
              "\n",
              "    </ul>\n",
              "\n",
              "    <div class=\"tab-content\">\n",
              "        <div role=\"tabpanel\" class=\"tab-pane active row\" id=\"quantiles8829014853155224717\">\n",
              "            <div class=\"col-md-4 col-md-offset-1\">\n",
              "                <p class=\"h4\">Quantile statistics</p>\n",
              "                <table class=\"stats indent\">\n",
              "                    <tr>\n",
              "                        <th>Minimum</th>\n",
              "                        <td>12000</td>\n",
              "                    </tr>\n",
              "                    <tr>\n",
              "                        <th>5-th percentile</th>\n",
              "                        <td>21723</td>\n",
              "                    </tr>\n",
              "                    <tr>\n",
              "                        <th>Q1</th>\n",
              "                        <td>34529</td>\n",
              "                    </tr>\n",
              "                    <tr>\n",
              "                        <th>Median</th>\n",
              "                        <td>75078</td>\n",
              "                    </tr>\n",
              "                    <tr>\n",
              "                        <th>Q3</th>\n",
              "                        <td>107100</td>\n",
              "                    </tr>\n",
              "                    <tr>\n",
              "                        <th>95-th percentile</th>\n",
              "                        <td>128550</td>\n",
              "                    </tr>\n",
              "                    <tr>\n",
              "                        <th>Maximum</th>\n",
              "                        <td>142000</td>\n",
              "                    </tr>\n",
              "                    <tr>\n",
              "                        <th>Range</th>\n",
              "                        <td>130000</td>\n",
              "                    </tr>\n",
              "                    <tr>\n",
              "                        <th>Interquartile range</th>\n",
              "                        <td>72571</td>\n",
              "                    </tr>\n",
              "                </table>\n",
              "            </div>\n",
              "            <div class=\"col-md-4 col-md-offset-2\">\n",
              "                <p class=\"h4\">Descriptive statistics</p>\n",
              "                <table class=\"stats indent\">\n",
              "                    <tr>\n",
              "                        <th>Standard deviation</th>\n",
              "                        <td>35993</td>\n",
              "                    </tr>\n",
              "                    <tr>\n",
              "                        <th>Coef of variation</th>\n",
              "                        <td>0.47664</td>\n",
              "                    </tr>\n",
              "                    <tr>\n",
              "                        <th>Kurtosis</th>\n",
              "                        <td>-1.2512</td>\n",
              "                    </tr>\n",
              "                    <tr>\n",
              "                        <th>Mean</th>\n",
              "                        <td>75513</td>\n",
              "                    </tr>\n",
              "                    <tr>\n",
              "                        <th>MAD</th>\n",
              "                        <td>30442</td>\n",
              "                    </tr>\n",
              "                    <tr class=\"\">\n",
              "                        <th>Skewness</th>\n",
              "                        <td>-0.14191</td>\n",
              "                    </tr>\n",
              "                    <tr>\n",
              "                        <th>Sum</th>\n",
              "                        <td>38134212</td>\n",
              "                    </tr>\n",
              "                    <tr>\n",
              "                        <th>Variance</th>\n",
              "                        <td>1295500000</td>\n",
              "                    </tr>\n",
              "                    <tr>\n",
              "                        <th>Memory size</th>\n",
              "                        <td>4.1 KiB</td>\n",
              "                    </tr>\n",
              "                </table>\n",
              "            </div>\n",
              "        </div>\n",
              "        <div role=\"tabpanel\" class=\"tab-pane col-md-8 col-md-offset-2\" id=\"histogram8829014853155224717\">\n",
              "            <img src=\"data:image/png;base64,iVBORw0KGgoAAAANSUhEUgAAAlgAAAGQCAYAAAByNR6YAAAABHNCSVQICAgIfAhkiAAAAAlwSFlzAAAPYQAAD2EBqD%2BnaQAAADh0RVh0U29mdHdhcmUAbWF0cGxvdGxpYiB2ZXJzaW9uMy4xLjEsIGh0dHA6Ly9tYXRwbG90bGliLm9yZy8QZhcZAAAgAElEQVR4nO3deXRUZZ7G8SeLRlkCiXbCDI2CjSxJ2AlpAwoEBhAEkcXAjIMoq0YiCH1AwBFGmjAHGBRwENrGFnE04vE0yCK0ILilFxU1CWlaaBglBhNJirAFSOqdP2wqFAGSwJvcStX3c04OJ%2B9bdet3f7l1eXLvrZsgY4wRAAAArAl2ugAAAAB/Q8ACAACwjIAFAABgGQELAADAMgIWAACAZQQsAAAAywhYAAAAlhGwAAAALCNgAQAAWEbAAgAAsIyABQAAYBkBCwAAwDICFgAAgGUELAAAAMsIWAAAAJYRsAAAACwjYAEAAFhGwAIAALCMgAUAAGAZAQsAAMAyAhYAAIBlBCwAAADLCFgAAACWEbAAAAAsI2ABAABYRsACAACwjIAFAABgGQELAADAMgIWAACAZQQsAAAAywhYAAAAlhGwAAAALCNgAQAAWEbAAgAAsIyABQAAYBkBCwAAwDICFgAAgGUELAAAAMsIWAAAAJaFOl1AoCgoOOF0CdclODhIkZH1VVh4Sm63cbocR9GLcvSiHL0oRy/K0YtyTvXiZz9rWGuvdTGOYKFKgoODFBQUpODgIKdLcRy9KEcvytGLcvSiHL0oF2i9IGABAABYRsACAACwjIAFAABgGQELAADAMgIWAACAZQQsAAAAywhYAAAAlhGwAAAALCNgAQAAWEbAAgAAsIyABQAAYBkBCwAAwDICFgAAgGWhThcAIPDc%2B/wnTpdQLdumdne6BAB1DEewAAAALCNgAQAAWEbAAgAAsIyABQAAYBkBCwAAwDICFgAAgGUELAAAAMsIWAAAAJYRsAAAACwjYAEAAFhGwAIAALCMgAUAAGAZAQsAAMAyAhYAAIBlBCwAAADLCFgAAACWEbAAAAAs89uA9dFHHykxMVHTpk2rMLd161YNHjxYnTp10rBhw/Txxx975txut5YtW6Y%2BffooPj5e48aN03fffVebpQMAgDrOLwPWb37zGy1YsEC33357hbmcnBzNnDlTM2bM0B//%2BEeNHTtWTzzxhI4ePSpJev311/Xuu%2B9qzZo1%2BuCDD9S8eXOlpKTIGFPbqwEAAOoovwxYYWFhevvtty8bsDZs2KCePXuqZ8%2BeCgsL05AhQ9SqVStt2rRJkpSenq6xY8fqF7/4hRo0aKBp06bp4MGD%2Buqrr2p7NQAAQB3llwFrzJgxatiw4WXnsrOzFRMT4zUWExOjzMxMlZSU6MCBA17zDRo00O23367MzMwarRkAAPiPUKcLqG0ul0uNGjXyGmvUqJEOHDig48ePyxhz2fmioqIqv0Z%2Bfr4KCgq8xkJD6ykqKuraC3dYSEiw17%2BBjF6UC5RehIZWvn6B0ouqoBfl6EW5QOtFwAUsSZVeT3W911ulp6dr5cqVXmMpKSlKTU29ruX6gvDwm50uwWfQi3L%2B3ouIiPpVfqy/96I66EU5elEuUHoRcAErIiJCLpfLa8zlcikyMlKNGzdWcHDwZedvueWWKr9GcnKykpKSvMZCQ%2BupqOjUtRfusJCQYIWH36zi4jMqK3M7XY6j6EW5QOlFVd67gdKLqqAX5ehFOad6UZ1fkGwKuIAVFxenrKwsr7HMzEwNGjRIYWFhuvPOO5Wdna1u3bpJkoqLi/Xtt9%2Bqffv2VX6NqKioCqcDCwpOqLS07r%2B5ysrcfrEeNtCLcv7ei%2Bqsm7/3ojroRTl6US5QehEYJ0Iv8uCDD%2BrTTz/V7t27dfbsWb399ts6fPiwhgwZIkkaPXq01q1bp4MHD%2BrkyZNasmSJ2rZtq3bt2jlcOQAAqCv88gjWhTBUWloqSXr//fcl/XSkqlWrVlqyZInS0tKUm5urli1bavXq1frZz34mSRo1apQKCgr07//%2B7zp16pQSEhIqXE8FAABwNX4ZsCq7pUK/fv3Ur1%2B/y84FBQUpNTXVLy5IBwAAzgi4U4QAAAA1jYAFAABgGQELAADAMgIWAACAZQQsAAAAywhYAAAAlhGwAAAALCNgAQAAWEbAAgAAsIyABQAAYBkBCwAAwDK//FuE8E33Pv%2BJ0yVUy7ap3Z0uAQBQR3EECwAAwDICFgAAgGUELAAAAMsIWAAAAJYRsAAAACwjYAEAAFhGwAIAALCMgAUAAGAZAQsAAMAyAhYAAIBlBCwAAADLCFgAAACWEbAAAAAsI2ABAABYRsACAACwjIAFAABgGQELAADAMgIWAACAZQQsAAAAywhYAAAAlhGwAAAALCNgAQAAWEbAAgAAsIyABQAAYBkBCwAAwDICFgAAgGUELAAAAMsIWAAAAJYRsAAAACwjYAEAAFhGwAIAALCMgAUAAGAZAQsAAMAyAhYAAIBlARuw9u3bpzFjxqhr167q3r27ZsyYocLCQklSRkaGRowYoc6dO2vQoEHatGmTw9UCAIC6JCADVmlpqSZOnKiOHTvq008/1ebNm1VYWKh58%2BYpPz9fjz/%2BuEaNGqWMjAzNmTNHzzzzjDIzM50uGwAA1BEBGbAKCgpUUFCg%2B%2B%2B/XzfeeKMiIiL0L//yL8rJydG7776r5s2ba8SIEQoLC1NiYqKSkpK0YcMGp8sGAAB1RKjTBTghOjpabdu2VXp6up588kmVlJRox44d6tWrl7KzsxUTE%2BP1%2BJiYGG3btq3Ky8/Pz1dBQYHXWGhoPUVFRVmp3wkhIcFe/waC0NDLr2sg9uJKAqUXV9oWLhYovagKelGOXpQLtF4EZMAKDg7WihUrNHbsWL366quSpG7dumn69Ol6/PHHFR0d7fX4xo0bq6ioqMrLT09P18qVK73GUlJSlJqaev3FOyw8/GanS6g1ERH1rzofSL2ojL/3orJt4WL%2B3ovqoBfl6EW5QOlFQAasc%2BfOafLkyRowYIAmT56s06dPa/78%2BZoxY4aV5ScnJyspKclrLDS0noqKTllZvhNCQoIVHn6ziovPqKzM7XQ5teJKP69A7MWVBEovqvLeDZReVAW9KEcvyjnVi%2Br8gmRTQAasjIwMHTlyRE899ZRCQkLUsGFDpaam6v7779fdd98tl8vl9fiioiJFRkZWeflRUVEVTgcWFJxQaWndf3OVlbn9Yj2qorL1DKReVMbfe1GddfP3XlQHvShHL8oFSi8C40ToJcrKyuR2u2WM8YydO3dOkpSYmKisrCyvx2dlZalDhw61WiMAAKi7AjJgderUSfXq1dOKFSt05swZFRUVadWqVYqPj9f999%2Bv3NxcbdiwQWfPntWePXu0Z88ePfjgg06XDQAA6oiADFgRERH67W9/qy%2B%2B%2BEL33HOP7rvvPt10001aunSpbrnlFq1evVrr169Xly5dtHDhQi1evFht2rRxumwAAFBHBOQ1WJIUFxen11577bJz8fHx2rhxYy1XBAAA/EVAHsECAACoSQQsAAAAywhYAAAAlhGwAAAALCNgAQAAWBawnyIEADjv3uc/cbqEatk2tbvTJaCO4AgWAACAZQQsAAAAywhYAAAAlhGwAAAALCNgAQAAWEbAAgAAsIyABQAAYBkBCwAAwDICFgAAgGUELAAAAMsIWAAAAJYRsAAAACwjYAEAAFhGwAIAALCMgAUAAGAZAQsAAMAyAhYAAIBlBCwAAADLCFgAAACWEbAAAAAs87mAlZSUpJUrVyovL8/pUgAAAK6JzwWs4cOHa%2BvWrerbt6/Gjx%2BvHTt2qLS01OmyAAAAqsznAlZKSoq2bt2qt956S3feeacWLlyonj17avHixTp06JDT5QEAAFTK5wLWBbGxsZo5c6Y%2B%2BOADzZ49W2%2B99ZYGDhyocePG6euvv3a6PAAAgCvy2YB1/vx5bd26VRMmTNDMmTMVHR2tp59%2BWm3bttXYsWP17rvvOl0iAADAZYU6XcClDh48qLffflu///3vderUKfXv31%2BvvvqqunTp4nlMfHy85s2bp8GDBztYKQAAwOX5XMAaNGiQWrRooUmTJmno0KFq3Lhxhcf07NlThYWFDlQHAABQOZ8LWOvWrVO3bt0qfdxXX31VC9UAAABUn89dg9W6dWtNnjxZ77//vmfsd7/7nSZMmCCXy%2BVgZQAAAFXjcwErLS1NJ06cUMuWLT1jvXr1ktvt1qJFixysDAAAoGp87hThxx9/rHfffVcRERGesebNm2vJkiW67777HKwMAACganzuCFZJSYnCwsIqjAcHB%2BvMmTMOVAQAAFA9Phew4uPjtWjRIh0/ftwz9sMPP2j%2B/Plet2oAAADwVT53inD27Nl69NFHddddd6lBgwZyu906deqUmjVrptdee83p8gAAACrlcwGrWbNm2rJliz788EN9%2B%2B23Cg4OVosWLdSjRw%2BFhIQ4XR4AAEClfC5gSdKNN96ovn37Ol0GAADANfG5gPXdd99p6dKl%2Buabb1RSUlJhfufOnQ5UBQAAUHU%2BF7Bmz56t/Px89ejRQ/Xq1XO6HAAAgGrzuYCVlZWlnTt3KjIy0ulSAAAAronP3abhlltuqbUjV6tWrVKPHj3UsWNHjR07VkeOHJEkZWRkaMSIEercubMGDRqkTZs21Uo9AADAP/hcwJo0aZJWrlwpY0yNvs7rr7%2BuTZs2ad26dfr444/VsmVL/e53v1N%2Bfr4ef/xxjRo1ShkZGZozZ46eeeYZZWZm1mg9AADAf/jcKcIPP/xQX3zxhd555x39/Oc/V3CwdwZ88803rbzO2rVrNXPmTN1xxx2SpLlz50qSfvvb36p58%2BYaMWKEJCkxMVFJSUnasGGD2rVrZ%2BW1AQCAf/O5gNWgQQPdc889NfoaP/zwg44cOaLjx49r4MCBOnbsmBISEjRv3jxlZ2crJibG6/ExMTHatm1bjdYEAAD8h88FrLS0tBp/jaNHj0qS3nvvPb3yyisyxig1NVVz585VSUmJoqOjvR7fuHFjFRUVVXn5%2Bfn5Kigo8BoLDa2nqKio6y/eISEhwV7/BoLQ0MuvayD24koCpRdX2hYuFii9qAp/7kVVtoWL%2BXMvqivQeuFzAUuS/v73v2vLli36/vvvPYFr79696tSpk5XlX7i%2Ba/z48Z4wNWXKFE2YMEGJiYnXvfz09HStXLnSaywlJUWpqanXvWynhYff7HQJtSYiov5V5wOpF5Xx915Uti1czN97UR3%2B2IvqbAsX88deXKtA6YXPBayMjAxNmDBBLVq00OHDh5WWlqbvvvtOY8aM0fPPP68%2Bffpc92vceuutkqTw8HDPWNOmTWWM0fnz5%2BVyubweX1RUVK3bRiQnJyspKclrLDS0noqKTl1H1c4KCQlWePjNKi4%2Bo7Iyt9Pl1Ior/bwCsRdXEii9qMp7N1B6URX%2B3Ivq7sf9uRfV5VQvrjUUXy%2BfC1jLli3Tr371Kz388MNq3769pJ/%2BPuGiRYv04osvWglYTZo0UYMGDZSTk6PY2FhJUm5urm644Qb17NlTGzdu9Hp8VlaWOnToUOXlR0VFVTgdWFBwQqWldf/NVVbm9ov1qIrK1jOQelEZf%2B9FddbN33tRHf7Yi2tdH3/sxbUKlF743InQv/3tbxo9erQkKSgoyDM%2BYMAAHTx40MprhIaGasSIEXrppZf0f//3fzp27JhefPFFDR48WA888IByc3O1YcMGnT17Vnv27NGePXv04IMPWnltAADg/3zuCFbDhg1VUlKiG2%2B80Ws8Pz%2B/wtj1mD59us6dO6eRI0fq/Pnz6t%2B/v%2BbOnav69etr9erVWrBggebPn6%2BmTZtq8eLFatOmjbXXBgAA/s3nAlbnzp21cOFCz32pJOnQoUN69tlnddddd1l7nRtvvFHPPvusnn322Qpz8fHxFU4TAgAAVJXPBaynn35aDz/8sBISElRWVqbOnTvrzJkzuvPOO7Vo0SKnywMAAKiUzwWsJk2aaPPmzdqzZ48OHTqkm266SS1atFD37t29rskCAADwVT4XsCTphhtuUN%2B%2BfZ0uAwAA4Jr4XMBKSkq66pGqnTt31mI1AAAA1edzAWvgwIFeAausrEyHDh1SZmamHn74YQcrAwAAqBqfC1gzZsy47Pj27dv1pz/9qZarAQAAqD6fu9HolfTt21dbtmxxugwAAIBK1ZmAtW/fPs8faQYAAPBlPneKcNSoURXGzpw5o4MHD6pfv34OVAQAAFA9PhewmjdvXuFThGFhYRoxYoRGjhzpUFUAAABV53MBi7u1AwCAus7nAtbvf//7Kj926NChNVgJAADAtfG5gDVnzhy53e4KF7QHBQV5jQUFBRGwAACAT/K5gPXyyy9r7dq1mjx5slq3bi1jjPbv36/f/OY3euihh5SQkOB0iQAAAFflcwFr0aJFWrNmjaKjoz1jXbt2VbNmzTRu3Dht3rzZweoAAAAq53P3wTp8%2BLAaNWpUYTw8PFy5ubkOVAQAAFA9PncEq2nTplq0aJGefPJJRURESJKKi4u1fPly3XbbbQ5XBwAIZPc%2B/4nTJVTLtqndnS4hYPlcwJo9e7amT5%2Bu9PR01a9fX8HBwTp58qRuuukmvfjii06XBwAAUCmfC1g9evTQ7t27tWfPHh09elTGGEVHR%2Bvuu%2B9Ww4YNnS4PAACgUj4XsCTp5ptvVp8%2BfXT06FE1a9bM6XIAAACqxecuci8pKdHMmTPVqVMn3XvvvZJ%2BugZr/PjxKi4udrg6AACAyvlcwFq8eLFycnK0ZMkSBQeXl1dWVqYlS5Y4WBkAAEDV%2BFzA2r59u5YvX64BAwZ4/uhzeHi40tLStGPHDoerAwAAqJzPBaxTp06pefPmFcYjIyN1%2BvTp2i8IAACgmnwuYN12223605/%2BJElef3vwvffe0z//8z87VRYAAECV%2BdynCP/1X/9VU6ZM0fDhw%2BV2u/XKK68oKytL27dv15w5c5wuDwB8Xl27GSbgj3wuYCUnJys0NFTr169XSEiIXnrpJbVo0UJLlizRgAEDnC4PAACgUj4XsAoLCzV8%2BHANHz7c6VIAAACuic9dg9WnTx%2Bva68AAADqGp8LWAkJCdq2bZvTZQAAAFwznztF%2BE//9E/69a9/rTVr1ui2227TDTfc4DW/dOlShyoDAACoGp8LWAcOHNAdd9whSSoqKnK4GgAAgOrzmYA1bdo0LVu2TK%2B99ppn7MUXX1RKSoqDVQEAAFSfzwSsXbt2VRhbs2YNAasS3O8GAADf4zMXuV/uk4N8mhAAANRFPhOwLvxh58rGAAAAfJ3PBCwAAAB/QcACAACwzGcucj9//rymT59e6Rj3wQIAAL7OZwJWly5dlJ%2BfX%2BkYAACAr/OZgHXx/a8AAADqMq7BAgAAsIyABQAAYBkBCwAAwDICFgAAgGUELAAAAMsCPmAtXLhQrVu39nyfkZGhESNGqHPnzho0aJA2bdrkYHUAAKAu8pnbNDghJydHGzdu9Hyfn5%2Bvxx9/XHPmzNHgwYP1%2Beef67HHHlOLFi3Url07BysFAAB1ScAewXK73Xr22Wc1duxYz9i7776r5s2ba8SIEQoLC1NiYqKSkpK0YcMG5woFAAB1TsAewXrzzTcVFhamwYMH6/nnn5ckZWdnKyYmxutxMTEx2rZtW7WWnZ%2Bfr4KCAq%2Bx0NB6ioqKur6iUatCQy//%2B0dISLDXv4EsUHpxpW3hYoHSC9QtVdl2a0ugvUcCMmD9%2BOOPWrFiRYW7x7tcLkVHR3uNNW7cWEVFRdVafnp6ulauXOk1lpKSotTU1GsrGI6IiKh/1fnw8JtrqRLf5%2B%2B9qGxbuJi/9wJ1S3W23doSKO%2BRgAxYaWlpGjZsmFq2bKkjR45YX35ycrKSkpK8xkJD66mo6JT110LNudLPKyQkWOHhN6u4%2BIzKyty1XJVvCZReVOW9Gyi9QN3iS//vOPUecSpkBlzAysjI0N69e7V58%2BYKcxEREXK5XF5jRUVFioyMrNZrREVFVTgdWFBwQqWl7HTrksp%2BXmVlbn6m/%2BDvvajOuvl7L1C3%2BOK2GCjvkYALWJs2bdKxY8fUu3dvSZIxRpKUkJCgRx99tELwysrKUocOHWq9TgAAUHcFXMCaNWuWnnzySc/3R48eVXJysjZu3Ci3263Vq1drw4YNGjJkiP74xz9qz549Sk9Pd7BiAABQ1wRcwGrUqJEaNWrk%2Bb60tFSS1KRJE0nS6tWrtWDBAs2fP19NmzbV4sWL1aZNG0dqBQAAdVPABaxL/fznP9f%2B/fs938fHx3vdfBQAAKC6AuNmFAAAALWIgAUAAGAZAQsAAMAyAhYAAIBlAX%2BROwBU5t7nP3G6BAB1DEewAAAALCNgAQAAWEbAAgAAsIyABQAAYBkBCwAAwDICFgAAgGUELAAAAMsIWAAAAJYRsAAAACwjYAEAAFhGwAIAALCMgAUAAGAZAQsAAMAyAhYAAIBlBCwAAADLCFgAAACWEbAAAAAsI2ABAABYRsACAACwjIAFAABgGQELAADAMgIWAACAZQQsAAAAywhYAAAAlhGwAAAALCNgAQAAWEbAAgAAsIyABQAAYBkBCwAAwDICFgAAgGUELAAAAMsIWAAAAJYRsAAAACwLdboAAABQM%2B59/hOnS6iybVO7O12CVRzBAgAAsIyABQAAYBkBCwAAwDICFgAAgGUELAAAAMsIWAAAAJYFbMDKzc1VSkqKEhISlJiYqFmzZqm4uFiSlJOTo4ceekhdunRRv379tHbtWoerBQAAdUnABqzJkycrPDxcu3bt0jvvvKNvvvlG//Vf/6WSkhJNmjRJv/zlL/XRRx9p2bJlWr16tXbs2OF0yQAAoI4IyIBVXFysuLg4TZ8%2BXfXr11eTJk30wAMP6LPPPtPu3bt1/vx5PfbYY6pXr55iY2M1cuRIpaenO102AACoIwIyYIWHhystLU233nqrZywvL09RUVHKzs5W69atFRIS4pmLiYlRVlaWE6UCAIA6iD%2BVIykzM1Pr16/XqlWrtG3bNoWHh3vNN27cWC6XS263W8HBlWfS/Px8FRQUeI2FhtZTVFSU1bpRs0JDL/%2BzDgkJ9vo3kNELALZcaZ9bVwV8wPr888/12GOPafr06UpMTNS2bdsu%2B7igoKAqLzM9PV0rV670GktJSVFqaup11YraFRFR/6rz4eE311Ilvo9eALhele1z65qADli7du3Sr371Kz3zzDMaOnSoJCkyMlKHDx/2epzL5VLjxo2rdPRKkpKTk5WUlOQ1FhpaT0VFp6zUjdpxpZ9XSEiwwsNvVnHxGZWVuWu5Kt9CLwDYUlP/RzoV3AI2YH3xxReaOXOmXnjhBfXo0cMzHhcXpzfeeEOlpaUKDf2pPZmZmerQoUOVlx0VFVXhdGBBwQmVlvIfUF1S2c%2BrrMzNz/Qf6AWA6%2BVv%2BxD/OuFZRaWlpZo7d65mzJjhFa4kqWfPnmrQoIFWrVqlM2fO6KuvvtLbb7%2Bt0aNHO1QtAACoawIyYH355Zc6ePCgFixYoHbt2nl9FRQU6KWXXtKnn36qbt26aerUqZo2bZp69erldNkAAKCOCMhThF27dtX%2B/fuv%2Bpg33nijlqoBAAD%2BJiCPYAEAANQkAhYAAIBlBCwAAADLCFgAAACWEbAAAAAsI2ABAABYRsACAACwjIAFAABgGQELAADAMgIWAACAZQQsAAAAywhYAAAAlhGwAAAALAt1ugAAdtz7/CdOlwAA%2BAeOYAEAAFhGwAIAALCMgAUAAGAZAQsAAMAyAhYAAIBlBCwAAADLCFgAAACWEbAAAAAsI2ABAABYRsACAACwjIAFAABgGQELAADAMgIWAACAZQQsAAAAywhYAAAAlhGwAAAALAt1ugDAV937/CdOlwAAqKM4ggUAAGAZAQsAAMAyAhYAAIBlBCwAAADLCFgAAACWEbAAAAAsI2ABAABYRsACAACwjIAFAABgGQELAADAMgIWAACAZQQsAAAAywhYAAAAlhGwAAAALCNgAQAAWEbAuozc3FxNnDhRCQkJ6t27txYvXiy32%2B10WQAAoI4IdboAXzRlyhTFxsbq/fff17FjxzRp0iTdeuuteuSRR5wuDQAA1AEcwbpEZmam/vrXv2rGjBlq2LChmjdvrrFjxyo9Pd3p0gAAQB3BEaxLZGdnq2nTpmrUqJFnLDY2VocOHdLJkyfVoEGDSpeRn5%2BvgoICr7HQ0HqKioqyXi8AAP4gNNS/jvkQsC7hcrkUHh7uNXYhbBUVFVUpYKWnp2vlypVeY0888YSmTJlir9B/%2BOzXA6wv83Ly8/OVnp6u5OTkgA%2BK9KIcvShHL8rRi3L0olyg9cK/4qIlxpjren5ycrLeeecdr6/k5GRL1TmjoKBAK1eurHBkLhDRi3L0ohy9KEcvytGLcoHWC45gXSIyMlIul8trzOVyKSgoSJGRkVVaRlRUVECkcwAAcHkcwbpEXFyc8vLyVFhY6BnLzMxUy5YtVb9%2BfQcrAwAAdQUB6xIxMTFq166dli5dqpMnT%2BrgwYN65ZVXNHr0aKdLAwAAdUTIvHnz5jldhK%2B5%2B%2B67tXnzZj333HPasmWLRowYoXHjxikoKMjp0hxVv359devWjSN5ohcXoxfl6EU5elGOXpQLpF4Emeu9ohsAAABeOEUIAABgGQELAADAMgIWAACAZQQsAAAAywhYAAAAlhGwAAAALCNgAQAAWEbAAgAAsIyABQAAYBkBKwDk5uYqJSVFCQkJSkxM1KxZs1RcXCxJysnJ0UMPPaQuXbqoX79%2BWrt2rddzt27dqsGDB6tTp04aNmyYPv74Y8%2Bc2%2B3WsmXL1KdPH8XHx2vcuHH67rvvPPMul0tTp05VYmKievTooTlz5qikpKR2VroKFi5cqNatW3u%2Bz8jI0IgRI9S5c2cNGjRImzZt8nr8unXr1L9/f3Xu3FmjR49WVlaWZ%2B7s2bP6j//4D91zzz1KSEhQamqqioqKPPO5ubmaOHGiEhIS1Lt3by1evFhut7vmV7ISq1atUo8ePdSxY0eNHTtWR44ckRR4vdi3b5/GjBmjrl27qnv37poxY4bnD74HQi8%2B%2BugjJSYmatq0aRXmanIfcD37n5pytV7s2LFDQ4YMUadOndS/f3%2B99dZbXgaPDyoAAArgSURBVPM1uS1Uth3WhKv14oJTp06pV69emjVrlmfMH7eLa2Lg9%2B677z4za9Ysc/LkSZOXl2eGDRtmZs%2Bebc6cOWPuvvtus2LFCnPq1CmTlZVlunXrZrZv326MMWbfvn0mLi7O7N6925SUlJiNGzeaDh06mLy8PGOMMevWrTO9e/c2Bw4cMCdOnDD/%2BZ//aQYPHmzcbrcxxpgnnnjCTJw40Rw7dswcPXrUJCcnm%2Beee86xPlxs3759plu3bqZVq1bGGGN%2B%2BOEH07FjR7NhwwZTUlJiPvnkE9O%2BfXvz9ddfG2OM2blzp%2Bnatav58ssvzZkzZ8zq1atN9%2B7dzalTp4wxxqSlpZlhw4aZ77//3hQVFZknnnjCTJo0yfN6DzzwgJk7d64pLi42hw4dMv369TNr166t/RW/yPr1682AAQPMwYMHzYkTJ8xzzz1nnnvuuYDrxfnz50337t3N0qVLzdmzZ01hYaF55JFHzJQpUwKiF2vWrDH9%2BvUzo0aNMlOnTvWaq8l9wPXuf2q7F1999ZVp166d%2BcMf/mDOnz9vdu/ebWJjY81f/vIXY0zNbguVbYe13YuLpaWlmS5dupiZM2d6xvxtu7hWBCw/d/z4cTNr1ixTUFDgGXvttddMv379zLZt28wvf/lLU1pa6plbvHixefTRR40xxsyfP9%2BkpKR4LW/kyJFm9erVxhhjBg0aZF599VXP3IkTJ0xMTIzZu3evKSgoMG3atDE5OTme%2BT179piOHTuac%2BfO1ci6VlVZWZkZOXKk%2BZ//%2BR9PwHr55ZfN0KFDvR43depU88wzzxhjjJk4caJZuHCh1zK6d%2B9uNm/ebM6fP2%2B6dOli3n//fc/8gQMHTOvWrc3Ro0fN119/bdq2bWtcLpdn/n//939N//79a3I1K5WUlOTZaV0s0Hrx/fffm1atWpkDBw541dS3b9%2BA6MWrr75qiouLzcyZMyv8R1qT%2B4Dr3f/UhKv1Ys%2BePWblypVeYw888IBZtWqVMaZmt4XKtsOacLVeXJCTk2O6d%2B9uFixY4BWw/G27uFacIvRz4eHhSktL06233uoZy8vLU1RUlLKzs9W6dWuFhIR45mJiYjyHtbOzsxUTE%2BO1vJiYGGVmZqqkpEQHDhzwmm/QoIFuv/12ZWZmKicnRyEhIV6n4GJjY3X69Gn9/e9/r6nVrZI333xTYWFhGjx4sGfsSut6pV4EBwerbdu2yszM1LfffqsTJ04oNjbWM/%2BLX/xCN910k7Kzs5Wdna2mTZuqUaNGnvnY2FgdOnRIJ0%2BerKnVvKoffvhBR44c0fHjxzVw4EDPKYvCwsKA60V0dLTatm2r9PR0nTp1SseOHdOOHTvUq1evgOjFmDFj1LBhw8vO1eQ%2B4Hr2PzXlar245557lJKS4vm%2BtLRUBQUFio6Ovmy9NreFyrbDmnC1XkiSMUbz5s3TtGnTFB4e7hn3x%2B3iWhGwAkxmZqbWr1%2Bvxx57TC6Xy%2BuNIUmNGzeWy%2BWS2%2B2Wy%2BXyesNLUqNGjVRUVKTjx4/LGHPFeZfLpQYNGigoKMhrTpLXdQe17ccff9SKFSv07LPPeo1fqRcXar1aL1wulyRVeH54eLhn/tI5p3tx9OhRSdJ7772nV155RRs3btTRo0c1d%2B7cgOtFcHCwVqxYoZ07d6pz585KTExUaWmppk%2BfHnC9uFRN7gOuZ//jC5YsWaJ69epp4MCBkmp2W6hsO3RCenq6goKCNGzYMK/xQN8uLkbACiCff/65xo0bp%2BnTpysxMfGKj7t4wzfGXHWZV5uv7LlOSEtL07Bhw9SyZctqP9efenGhnvHjxys6OlpNmjTRlClTtGvXrmo9/1rmfa0X586d0%2BTJkzVgwAB99tln%2BvDDD9WwYUPNmDGjSs/3p15cTm2vX3X2P04wxmjx4sXavHmzVq1apbCwMK%2B5yp57LXO%2B5tixY3rhhRc0b948r5/XxQJtu7gcAlaA2LVrlyZOnKjZs2drzJgxkqTIyMgKqd/lcqlx48YKDg5WRESE5zevi%2BcjIyM9j7nc/C233KLIyEidPHlSZWVlXnOSdMstt9TEKlYqIyNDe/fu9TrMf8Hl1rWoqEiRkZFXnL/QiwuPuXT%2B%2BPHjnl5c7rlBQUGe59a2C6eML/5NsWnTpjLG6Pz58wHVi4yMDB05ckRPPfWUGjZsqOjoaKWmpuoPf/jDZbdxf%2B7FpWpyH3A9%2Bx%2BnuN1uzZo1S7t27dIbb7yhO%2B64wzNXk9tCZfun2rZo0SINHTrU6zTfBYG4XVwJASsAfPHFF5o5c6ZeeOEFDR061DMeFxen/fv3q7S01DOWmZmpDh06eOYvPcd/YT4sLEx33nmnsrOzPXPFxcX69ttv1b59e7Vt21bGGP31r3/1em54eLhatGhRU6t6VZs2bdKxY8fUu3dvJSQkeA5tJyQkqFWrVhXWNSsry6sXF69rWVmZ9u3bpw4dOqhZs2Zq1KiR1/zf/vY3nTt3TnFxcYqLi1NeXp7nY//ST71o2bKl6tevX5OrfEVNmjRRgwYNlJOT4xnLzc3VDTfcoJ49ewZUL8rKyuR2u71%2BKz537pwkKTExMaB6cama3Adcz/7HKQsXLtQ333yjN954Q82aNfOaq8ltoV27dlfdDmvbpk2b9PbbbyshIUEJCQl6%2BeWXtWXLFiUkJATkdnFFNX4ZPRx1/vx5c%2B%2B995o333yzwtzZs2dN7969zfLly83p06fNl19%2Babp27Wo%2B%2BOADY4wx%2B/fvN%2B3atTMffPCBKSkpMRs2bDCdOnUy%2Bfn5xpifPuXSq1cvz0dxn3nmGTN8%2BHDP8qdOnWrGjx9vjh07ZvLy8szw4cPNokWLamW9L8flcpm8vDzP1969e02rVq1MXl6eyc3NNZ06dTJvvfWWKSkpMbt37zbt27f3fNJlz549pkuXLmbv3r3m9OnTZsWKFaZnz57mzJkzxpifPuXywAMPmO%2B//94UFhaaSZMmmSlTpnhee%2BTIkWb27NnmxIkT5sCBAyYpKcmsX7/ekT5csHDhQtOnTx9z%2BPBh8%2BOPP5rk5GQza9Ys8%2BOPPwZULwoLC023bt3Mf//3f5vTp0%2BbwsJCM3nyZPNv//ZvAdWLy31arCb3Ade7/6ntXnz22WcmPj7e6xPZF6vJbaGy7bAmXa4XF%2B9H8/LyzMKFC01qaqrnVgn%2Bul1UFwHLz/3lL38xrVq1MnFxcRW%2Bjhw5Yvbv329GjRpl4uLiTK9evczrr7/u9fzt27ebfv36mdjYWHP//febP//5z545t9ttXnjhBXPXXXeZ9u3bmwkTJnjdi6S4uNhMmzbNdOzY0cTHx5v58%2Bebs2fP1tq6V%2Ba7777z3KbBGGP%2B/Oc/myFDhpjY2FjTr1%2B/CrcweP31103Pnj1NXFycGT16tNm/f79n7uzZs2bevHkmPj7edOrUyTz11FOmuLjYM5%2BXl2fGjx9v2rdvbxITE83y5cs994RxysU1d%2BzY0cycOdOcPHnSGBN4vcjMzDQPPfSQ6dq1q0lMTDRTp041R48eNcb4fy8u7A/atGlj2rRp4/n%2BgprcB1zP/qcmXK0XTz/9tNfYha9HHnnE8/ya3BYq2w5rsxeXWr58uddtGvxtu7hWQcbUkavFAAAA6giuwQIAALCMgAUAAGAZAQsAAMAyAhYAAIBlBCwAAADLCFgAAACWEbAAAAAsI2ABAABYRsACAACwjIAFAABgGQELAADAMgIWAACAZQQsAAAAy/4f83ruPAK3ZgsAAAAASUVORK5CYII%3D\"/>\n",
              "        </div>\n",
              "        <div role=\"tabpanel\" class=\"tab-pane col-md-12\" id=\"common8829014853155224717\">\n",
              "            \n",
              "<table class=\"freq table table-hover\">\n",
              "    <thead>\n",
              "    <tr>\n",
              "        <td class=\"fillremaining\">Value</td>\n",
              "        <td class=\"number\">Count</td>\n",
              "        <td class=\"number\">Frequency (%)</td>\n",
              "        <td style=\"min-width:200px\">&nbsp;</td>\n",
              "    </tr>\n",
              "    </thead>\n",
              "    <tr class=\"\">\n",
              "        <td class=\"fillremaining\">27169</td>\n",
              "        <td class=\"number\">2</td>\n",
              "        <td class=\"number\">0.4%</td>\n",
              "        <td>\n",
              "            <div class=\"bar\" style=\"width:1%\">&nbsp;</div>\n",
              "        </td>\n",
              "</tr><tr class=\"\">\n",
              "        <td class=\"fillremaining\">30178</td>\n",
              "        <td class=\"number\">2</td>\n",
              "        <td class=\"number\">0.4%</td>\n",
              "        <td>\n",
              "            <div class=\"bar\" style=\"width:1%\">&nbsp;</div>\n",
              "        </td>\n",
              "</tr><tr class=\"\">\n",
              "        <td class=\"fillremaining\">122879</td>\n",
              "        <td class=\"number\">1</td>\n",
              "        <td class=\"number\">0.2%</td>\n",
              "        <td>\n",
              "            <div class=\"bar\" style=\"width:1%\">&nbsp;</div>\n",
              "        </td>\n",
              "</tr><tr class=\"\">\n",
              "        <td class=\"fillremaining\">68944</td>\n",
              "        <td class=\"number\">1</td>\n",
              "        <td class=\"number\">0.2%</td>\n",
              "        <td>\n",
              "            <div class=\"bar\" style=\"width:1%\">&nbsp;</div>\n",
              "        </td>\n",
              "</tr><tr class=\"\">\n",
              "        <td class=\"fillremaining\">72027</td>\n",
              "        <td class=\"number\">1</td>\n",
              "        <td class=\"number\">0.2%</td>\n",
              "        <td>\n",
              "            <div class=\"bar\" style=\"width:1%\">&nbsp;</div>\n",
              "        </td>\n",
              "</tr><tr class=\"\">\n",
              "        <td class=\"fillremaining\">127320</td>\n",
              "        <td class=\"number\">1</td>\n",
              "        <td class=\"number\">0.2%</td>\n",
              "        <td>\n",
              "            <div class=\"bar\" style=\"width:1%\">&nbsp;</div>\n",
              "        </td>\n",
              "</tr><tr class=\"\">\n",
              "        <td class=\"fillremaining\">104738</td>\n",
              "        <td class=\"number\">1</td>\n",
              "        <td class=\"number\">0.2%</td>\n",
              "        <td>\n",
              "            <div class=\"bar\" style=\"width:1%\">&nbsp;</div>\n",
              "        </td>\n",
              "</tr><tr class=\"\">\n",
              "        <td class=\"fillremaining\">108581</td>\n",
              "        <td class=\"number\">1</td>\n",
              "        <td class=\"number\">0.2%</td>\n",
              "        <td>\n",
              "            <div class=\"bar\" style=\"width:1%\">&nbsp;</div>\n",
              "        </td>\n",
              "</tr><tr class=\"\">\n",
              "        <td class=\"fillremaining\">15695</td>\n",
              "        <td class=\"number\">1</td>\n",
              "        <td class=\"number\">0.2%</td>\n",
              "        <td>\n",
              "            <div class=\"bar\" style=\"width:1%\">&nbsp;</div>\n",
              "        </td>\n",
              "</tr><tr class=\"\">\n",
              "        <td class=\"fillremaining\">24376</td>\n",
              "        <td class=\"number\">1</td>\n",
              "        <td class=\"number\">0.2%</td>\n",
              "        <td>\n",
              "            <div class=\"bar\" style=\"width:1%\">&nbsp;</div>\n",
              "        </td>\n",
              "</tr><tr class=\"other\">\n",
              "        <td class=\"fillremaining\">Other values (493)</td>\n",
              "        <td class=\"number\">493</td>\n",
              "        <td class=\"number\">97.6%</td>\n",
              "        <td>\n",
              "            <div class=\"bar\" style=\"width:100%\">&nbsp;</div>\n",
              "        </td>\n",
              "</tr>\n",
              "</table>\n",
              "        </div>\n",
              "        <div role=\"tabpanel\" class=\"tab-pane col-md-12\"  id=\"extreme8829014853155224717\">\n",
              "            <p class=\"h4\">Minimum 5 values</p>\n",
              "            \n",
              "<table class=\"freq table table-hover\">\n",
              "    <thead>\n",
              "    <tr>\n",
              "        <td class=\"fillremaining\">Value</td>\n",
              "        <td class=\"number\">Count</td>\n",
              "        <td class=\"number\">Frequency (%)</td>\n",
              "        <td style=\"min-width:200px\">&nbsp;</td>\n",
              "    </tr>\n",
              "    </thead>\n",
              "    <tr class=\"\">\n",
              "        <td class=\"fillremaining\">12000</td>\n",
              "        <td class=\"number\">1</td>\n",
              "        <td class=\"number\">0.2%</td>\n",
              "        <td>\n",
              "            <div class=\"bar\" style=\"width:100%\">&nbsp;</div>\n",
              "        </td>\n",
              "</tr><tr class=\"\">\n",
              "        <td class=\"fillremaining\">12038</td>\n",
              "        <td class=\"number\">1</td>\n",
              "        <td class=\"number\">0.2%</td>\n",
              "        <td>\n",
              "            <div class=\"bar\" style=\"width:100%\">&nbsp;</div>\n",
              "        </td>\n",
              "</tr><tr class=\"\">\n",
              "        <td class=\"fillremaining\">15671</td>\n",
              "        <td class=\"number\">1</td>\n",
              "        <td class=\"number\">0.2%</td>\n",
              "        <td>\n",
              "            <div class=\"bar\" style=\"width:100%\">&nbsp;</div>\n",
              "        </td>\n",
              "</tr><tr class=\"\">\n",
              "        <td class=\"fillremaining\">15695</td>\n",
              "        <td class=\"number\">1</td>\n",
              "        <td class=\"number\">0.2%</td>\n",
              "        <td>\n",
              "            <div class=\"bar\" style=\"width:100%\">&nbsp;</div>\n",
              "        </td>\n",
              "</tr><tr class=\"\">\n",
              "        <td class=\"fillremaining\">16950</td>\n",
              "        <td class=\"number\">1</td>\n",
              "        <td class=\"number\">0.2%</td>\n",
              "        <td>\n",
              "            <div class=\"bar\" style=\"width:100%\">&nbsp;</div>\n",
              "        </td>\n",
              "</tr>\n",
              "</table>\n",
              "            <p class=\"h4\">Maximum 5 values</p>\n",
              "            \n",
              "<table class=\"freq table table-hover\">\n",
              "    <thead>\n",
              "    <tr>\n",
              "        <td class=\"fillremaining\">Value</td>\n",
              "        <td class=\"number\">Count</td>\n",
              "        <td class=\"number\">Frequency (%)</td>\n",
              "        <td style=\"min-width:200px\">&nbsp;</td>\n",
              "    </tr>\n",
              "    </thead>\n",
              "    <tr class=\"\">\n",
              "        <td class=\"fillremaining\">136255</td>\n",
              "        <td class=\"number\">1</td>\n",
              "        <td class=\"number\">0.2%</td>\n",
              "        <td>\n",
              "            <div class=\"bar\" style=\"width:100%\">&nbsp;</div>\n",
              "        </td>\n",
              "</tr><tr class=\"\">\n",
              "        <td class=\"fillremaining\">136644</td>\n",
              "        <td class=\"number\">1</td>\n",
              "        <td class=\"number\">0.2%</td>\n",
              "        <td>\n",
              "            <div class=\"bar\" style=\"width:100%\">&nbsp;</div>\n",
              "        </td>\n",
              "</tr><tr class=\"\">\n",
              "        <td class=\"fillremaining\">138021</td>\n",
              "        <td class=\"number\">1</td>\n",
              "        <td class=\"number\">0.2%</td>\n",
              "        <td>\n",
              "            <div class=\"bar\" style=\"width:100%\">&nbsp;</div>\n",
              "        </td>\n",
              "</tr><tr class=\"\">\n",
              "        <td class=\"fillremaining\">138443</td>\n",
              "        <td class=\"number\">1</td>\n",
              "        <td class=\"number\">0.2%</td>\n",
              "        <td>\n",
              "            <div class=\"bar\" style=\"width:100%\">&nbsp;</div>\n",
              "        </td>\n",
              "</tr><tr class=\"\">\n",
              "        <td class=\"fillremaining\">142000</td>\n",
              "        <td class=\"number\">1</td>\n",
              "        <td class=\"number\">0.2%</td>\n",
              "        <td>\n",
              "            <div class=\"bar\" style=\"width:100%\">&nbsp;</div>\n",
              "        </td>\n",
              "</tr>\n",
              "</table>\n",
              "        </div>\n",
              "    </div>\n",
              "</div>\n",
              "</div><div class=\"row variablerow\">\n",
              "    <div class=\"col-md-3 namecol\">\n",
              "        <p class=\"h4 pp-anchor\" id=\"pp_var_SpendingScore\">SpendingScore<br/>\n",
              "            <small>Numeric</small>\n",
              "        </p>\n",
              "    </div><div class=\"col-md-6\">\n",
              "    <div class=\"row\">\n",
              "        <div class=\"col-sm-6\">\n",
              "            <table class=\"stats \">\n",
              "                <tr>\n",
              "                    <th>Distinct count</th>\n",
              "                    <td>505</td>\n",
              "                </tr>\n",
              "                <tr>\n",
              "                    <th>Unique (%)</th>\n",
              "                    <td>100.0%</td>\n",
              "                </tr>\n",
              "                <tr class=\"ignore\">\n",
              "                    <th>Missing (%)</th>\n",
              "                    <td>0.0%</td>\n",
              "                </tr>\n",
              "                <tr class=\"ignore\">\n",
              "                    <th>Missing (n)</th>\n",
              "                    <td>0</td>\n",
              "                </tr>\n",
              "                <tr class=\"ignore\">\n",
              "                    <th>Infinite (%)</th>\n",
              "                    <td>0.0%</td>\n",
              "                </tr>\n",
              "                <tr class=\"ignore\">\n",
              "                    <th>Infinite (n)</th>\n",
              "                    <td>0</td>\n",
              "                </tr>\n",
              "            </table>\n",
              "\n",
              "        </div>\n",
              "        <div class=\"col-sm-6\">\n",
              "            <table class=\"stats \">\n",
              "\n",
              "                <tr>\n",
              "                    <th>Mean</th>\n",
              "                    <td>0.50508</td>\n",
              "                </tr>\n",
              "                <tr>\n",
              "                    <th>Minimum</th>\n",
              "                    <td>0</td>\n",
              "                </tr>\n",
              "                <tr>\n",
              "                    <th>Maximum</th>\n",
              "                    <td>1</td>\n",
              "                </tr>\n",
              "                <tr class=\"ignore\">\n",
              "                    <th>Zeros (%)</th>\n",
              "                    <td>0.2%</td>\n",
              "                </tr>\n",
              "            </table>\n",
              "        </div>\n",
              "    </div>\n",
              "</div>\n",
              "<div class=\"col-md-3 collapse in\" id=\"minihistogram2796917994260347429\">\n",
              "    <img src=\"data:image/png;base64,iVBORw0KGgoAAAANSUhEUgAAAMgAAABLCAYAAAA1fMjoAAAABHNCSVQICAgIfAhkiAAAAAlwSFlzAAAPYQAAD2EBqD%2BnaQAAADh0RVh0U29mdHdhcmUAbWF0cGxvdGxpYiB2ZXJzaW9uMy4xLjEsIGh0dHA6Ly9tYXRwbG90bGliLm9yZy8QZhcZAAABM0lEQVR4nO3b0W2DMBRAUVJ1pA7RnfqdnTJEd3IXqK5EJAKxz/nmwyBdPUD2bYwxNuBfH2cvAK7s8%2BwFvJOvn8eu63/v3wethFcxQSAIBIJAIAgEgkAgCASCQCAIBIJAIAgEgkAgCASCQCAIBIJAIAgEgkAgCASCI7cL2nt0eNvWPT5sgkAQCASBQBAIBIFAEAiEZX/zPvOrk/WYIBAEAkEgEJb9BmGfVbenmCAQBAJBIBAEAkEgEAQCQSAQBAJBIBAEAsFWEw4zw/aUywUyw0NlHl6xIFxugszENHx/UwSy%2BvHZ1e//SF6xINzGGOPsRcBVmSAQBAJBIBAEAkEgEAQCQSAQBAJBIBAEAkEgEAQCQSAQBAJBIBAEAkEgEAQCQSAQBAJBIBAEAkEgEAQCQSAQ/gAuLh7SdT0x9QAAAABJRU5ErkJggg%3D%3D\">\n",
              "\n",
              "</div>\n",
              "<div class=\"col-md-12 text-right\">\n",
              "    <a role=\"button\" data-toggle=\"collapse\" data-target=\"#descriptives2796917994260347429,#minihistogram2796917994260347429\"\n",
              "       aria-expanded=\"false\" aria-controls=\"collapseExample\">\n",
              "        Toggle details\n",
              "    </a>\n",
              "</div>\n",
              "<div class=\"row collapse col-md-12\" id=\"descriptives2796917994260347429\">\n",
              "    <ul class=\"nav nav-tabs\" role=\"tablist\">\n",
              "        <li role=\"presentation\" class=\"active\"><a href=\"#quantiles2796917994260347429\"\n",
              "                                                  aria-controls=\"quantiles2796917994260347429\" role=\"tab\"\n",
              "                                                  data-toggle=\"tab\">Statistics</a></li>\n",
              "        <li role=\"presentation\"><a href=\"#histogram2796917994260347429\" aria-controls=\"histogram2796917994260347429\"\n",
              "                                   role=\"tab\" data-toggle=\"tab\">Histogram</a></li>\n",
              "        <li role=\"presentation\"><a href=\"#common2796917994260347429\" aria-controls=\"common2796917994260347429\"\n",
              "                                   role=\"tab\" data-toggle=\"tab\">Common Values</a></li>\n",
              "        <li role=\"presentation\"><a href=\"#extreme2796917994260347429\" aria-controls=\"extreme2796917994260347429\"\n",
              "                                   role=\"tab\" data-toggle=\"tab\">Extreme Values</a></li>\n",
              "\n",
              "    </ul>\n",
              "\n",
              "    <div class=\"tab-content\">\n",
              "        <div role=\"tabpanel\" class=\"tab-pane active row\" id=\"quantiles2796917994260347429\">\n",
              "            <div class=\"col-md-4 col-md-offset-1\">\n",
              "                <p class=\"h4\">Quantile statistics</p>\n",
              "                <table class=\"stats indent\">\n",
              "                    <tr>\n",
              "                        <th>Minimum</th>\n",
              "                        <td>0</td>\n",
              "                    </tr>\n",
              "                    <tr>\n",
              "                        <th>5-th percentile</th>\n",
              "                        <td>0.17777</td>\n",
              "                    </tr>\n",
              "                    <tr>\n",
              "                        <th>Q1</th>\n",
              "                        <td>0.30479</td>\n",
              "                    </tr>\n",
              "                    <tr>\n",
              "                        <th>Median</th>\n",
              "                        <td>0.36822</td>\n",
              "                    </tr>\n",
              "                    <tr>\n",
              "                        <th>Q3</th>\n",
              "                        <td>0.76828</td>\n",
              "                    </tr>\n",
              "                    <tr>\n",
              "                        <th>95-th percentile</th>\n",
              "                        <td>0.89768</td>\n",
              "                    </tr>\n",
              "                    <tr>\n",
              "                        <th>Maximum</th>\n",
              "                        <td>1</td>\n",
              "                    </tr>\n",
              "                    <tr>\n",
              "                        <th>Range</th>\n",
              "                        <td>1</td>\n",
              "                    </tr>\n",
              "                    <tr>\n",
              "                        <th>Interquartile range</th>\n",
              "                        <td>0.46349</td>\n",
              "                    </tr>\n",
              "                </table>\n",
              "            </div>\n",
              "            <div class=\"col-md-4 col-md-offset-2\">\n",
              "                <p class=\"h4\">Descriptive statistics</p>\n",
              "                <table class=\"stats indent\">\n",
              "                    <tr>\n",
              "                        <th>Standard deviation</th>\n",
              "                        <td>0.25963</td>\n",
              "                    </tr>\n",
              "                    <tr>\n",
              "                        <th>Coef of variation</th>\n",
              "                        <td>0.51404</td>\n",
              "                    </tr>\n",
              "                    <tr>\n",
              "                        <th>Kurtosis</th>\n",
              "                        <td>-1.4271</td>\n",
              "                    </tr>\n",
              "                    <tr>\n",
              "                        <th>Mean</th>\n",
              "                        <td>0.50508</td>\n",
              "                    </tr>\n",
              "                    <tr>\n",
              "                        <th>MAD</th>\n",
              "                        <td>0.24325</td>\n",
              "                    </tr>\n",
              "                    <tr class=\"\">\n",
              "                        <th>Skewness</th>\n",
              "                        <td>0.24769</td>\n",
              "                    </tr>\n",
              "                    <tr>\n",
              "                        <th>Sum</th>\n",
              "                        <td>255.07</td>\n",
              "                    </tr>\n",
              "                    <tr>\n",
              "                        <th>Variance</th>\n",
              "                        <td>0.06741</td>\n",
              "                    </tr>\n",
              "                    <tr>\n",
              "                        <th>Memory size</th>\n",
              "                        <td>4.1 KiB</td>\n",
              "                    </tr>\n",
              "                </table>\n",
              "            </div>\n",
              "        </div>\n",
              "        <div role=\"tabpanel\" class=\"tab-pane col-md-8 col-md-offset-2\" id=\"histogram2796917994260347429\">\n",
              "            <img src=\"data:image/png;base64,iVBORw0KGgoAAAANSUhEUgAAAlgAAAGQCAYAAAByNR6YAAAABHNCSVQICAgIfAhkiAAAAAlwSFlzAAAPYQAAD2EBqD%2BnaQAAADh0RVh0U29mdHdhcmUAbWF0cGxvdGxpYiB2ZXJzaW9uMy4xLjEsIGh0dHA6Ly9tYXRwbG90bGliLm9yZy8QZhcZAAAgAElEQVR4nO3de1iVZb7/8Q%2BwlJSD4gE0xLM2HtBMCVMLRccst6fMwK7tYbKG3KRp2lhmv6lJRbe4KcMZD7OzTHeR5nhOHXXGrO2estkanpoBaWtmsRohlDQF1u%2BPrhiXeFjk/fCsw/t1XV7E/Tzc67u%2B3Sw%2BPPdaiyCXy%2BUSAAAAjAm2uwAAAAB/Q8ACAAAwjIAFAABgGAELAADAMAIWAACAYQQsAAAAwwhYAAAAhhGwAAAADCNgAQAAGEbAAgAAMIyABQAAYBgBCwAAwDACFgAAgGEELAAAAMMIWAAAAIYRsAAAAAwjYAEAABhGwAIAADCMgAUAAGAYAQsAAMAwAhYAAIBhBCwAAADDCFgAAACGEbAAAAAMI2ABAAAYRsACAAAwjIAFAABgGAELAADAMAIWAACAYQQsAAAAwwhYAAAAhhGwAAAADCNgAQAAGEbAAgAAMIyABQAAYBgBCwAAwDACFgAAgGEELAAAAMMIWAAAAIY57C4gUDidZ43PGRwcpAYNwnTmTKkqKlzG5w9k9NY69NZa9Nc69NY6Vva2ceMIo/N5iitYPiw4OEhBQUEKDg6yuxS/Q2%2BtQ2%2BtRX%2BtQ2%2Bt44%2B9JWABAAAYRsACAAAwjIAFAABgGAELAADAMAIWAACAYQQsAAAAwwhYAAAAhhGwAAAADCNgAQAAGEbAAgAAMIyABQAAYBgBCwAAwDACFgAAgGEOuwsAYMZ9L39odwke2z9nkN0lAICluIIFAABgGAELAADAMAIWAACAYQQsAAAAwwhYAAAAhvntqwj37t2rGTNmKDExUVlZWZXjs2bN0oYNG9zOLS8v17Bhw5SRkaFnnnlGGzduVEhISOXx0NBQ7d%2B/v8ZqBwAAvs0vA9by5cu1du1atWjRosqx2bNna/bs2ZWfl5WVafjw4Ro06J8vG584caImTZpUI7UCAAD/45dbhKGhodcMWFd64403dOuttyopKakGKgMAAIHAL69gjR071qPzSkpKtGTJEv3Xf/2X2/j//M//aNeuXfq///s/tWnTRi%2B88II6d%2B7s8e0XFhbK6XS6jTkcdRUdHe3xHJ4ICQl2%2Bwhz6K316K01WLvWobfW8cfe%2BmXA8tSqVauUkJCgdu3aVY7FxcUpODhYTz75pMLCwpSdna1HHnlE27dvV1RUlEfz5uTkKDs7220sPT1dkydPNlr/jyIj61gyL%2BitleitteivdeitdfyptwEbsMrLy7V69WotXLjQbTw9Pd3t86efflqbN2/Wzp07NWrUKI/mTklJUXJystuYw1FXRUWlN1f0FUJCghUZWUclJedVXl5hdO5AR2%2BtR2%2Btwdq1Dr21jpW9jYoKMzqfpwI2YH388ce6ePGievTocd3zQkJC1LRpUxUWFno8d3R0dJXtQKfzrMrKrPmGLC%2BvsGzuQEdvrUNvrUV/rUNvreNPvfWfzc5q2rVrl3r27CmH458Z0%2BVyKSMjQ8eOHascu3jxok6cOKG4uDg7ygQAAD4oYAPW0aNH1axZM7exoKAgffHFF3rxxRf19ddfq7S0VJmZmapVq5YGDBhgU6UAAMDX%2BOUWYXx8vKQf3uNKknbu3ClJys3NrTzH6XSqUaNGVb52zpw5mj9/vh544AGdO3dOXbp00RtvvKG6devWQOUAAMAf%2BGXAujxIXcv27duvOl6/fn1lZGSYLgkAAASQgN0iBAAAsAoBCwAAwDACFgAAgGEELAAAAMMIWAAAAIYRsAAAAAwjYAEAABhGwAIAADCMgAUAAGAYAQsAAMAwAhYAAIBhBCwAAADDCFgAAACGEbAAAAAMI2ABAAAYRsACAAAwjIAFAABgGAELAADAMAIWAACAYQQsAAAAwwhYAAAAhhGwAAAADCNgAQAAGEbAAgAAMIyABQAAYBgBCwAAwDACFgAAgGEELAAAAMMIWAAAAIYRsAAAAAwjYAEAABjmtwFr79696tWrl6ZOneo2vm7dOv3sZz9TfHy8279PP/1UklRRUaGsrCz1799fCQkJmjBhgk6ePGnHXQAAAD7KYXcBVli%2BfLnWrl2rFi1aXPV4QkKC3nzzzaseW716tTZt2qTly5crJiZGWVlZSk9P14YNGxQUFGRl2QAAwE/45RWs0NDQ6was68nJydH48ePVpk0bhYeHa%2BrUqcrPz9fBgwctqBQAAPgjv7yCNXbs2OseP336tH7xi1/o0KFDioyM1OTJkzVs2DBduHBBeXl56tixY%2BW54eHhatGihXJzc3X77bd7dPuFhYVyOp1uYw5HXUVHR1f/zlxHSEiw20eYQ2%2BtR2%2Btwdq1Dr21jj/21i8D1vU0aNBALVu21FNPPaW2bdvqj3/8o371q18pOjparVu3lsvlUr169dy%2Bpl69eioqKvL4NnJycpSdne02lp6ersmTJxu5D1eKjKxjybygt1ait9aiv9aht9bxp94GXMDq27ev%2BvbtW/n54MGD9cc//lHr1q3T9OnTJUkul%2BumbiMlJUXJycluYw5HXRUVld7UvFcKCQlWZGQdlZScV3l5hdG5Ax29tR69tQZr1zr01jpW9jYqKszofJ4KuIB1NbGxsTp06JDq16%2Bv4OBgFRcXux0vLi5Ww4YNPZ4vOjq6ynag03lWZWXWfEOWl1dYNnego7fWobfWor/WobfW8afe%2Bs9mp4feeustbd261W0sPz9fcXFxCg0NVbt27XT48OHKYyUlJTpx4oS6dOlS06UCAAAfFXAB6%2BLFi3rppZeUm5urS5cuafPmzXr//feVmpoqSRo9erRWrlyp/Px8nTt3TpmZmerQoYPi4%2BNtrhwAAPgKv9wi/DEMlZWVSZJ27twpScrNzdXYsWNVWlqqJ598Uk6nU82aNdPixYvVuXNnSVJqaqqcTqfGjBmj0tJSJSYmVnnCOgAAwPUEuW72Gd3wiNN51vicDkewoqLCVFRU6jd71t7CF3t738sf2l2Cx/bPGeRTvfUlvrh2fQW9tY6VvW3cOMLofJ4KuC1CAAAAqxGwAAAADCNgAQAAGEbAAgAAMIyABQAAYBgBCwAAwDACFgAAgGEELAAAAMMIWAAAAIYRsAAAAAwjYAEAABhGwAIAADCMgAUAAGAYAQsAAMAwAhYAAIBhBCwAAADDCFgAAACGEbAAAAAMI2ABAAAYRsACAAAwjIAFAABgGAELAADAMAIWAACAYQQsAAAAwwhYAAAAhhGwAAAADCNgAQAAGEbAAgAAMIyABQAAYBgBCwAAwDACFgAAgGF%2BG7D27t2rXr16aerUqVWO7dixQ0OHDlW3bt1077336p133qk89uqrr6pDhw6Kj493%2B/fNN9/UZPkAAMCHOewuwArLly/X2rVr1aJFiyrHPv30U02fPl3/8R//ob59%2B%2BrDDz9Uenq6WrdurR49ekiShg0bpnnz5tV02QAAwE/45RWs0NDQawas4uJipaWlacCAAXI4HEpKSlL79u21f/9%2BGyoFAAD%2ByC8D1tixYxUREXHVY/fcc4/S09MrPy8rK5PT6VRMTEzl2GeffabU1FTdcccdGjx4sD744APLawYAAP7DL7cIqyMzM1N169bV/fffL0lq0qSJ4uLiNG3aNEVHRysnJ0ePP/64Nm7cqNatW3s0Z2FhoZxOp9uYw1FX0dHRRmsPCQl2%2Bwhz6K316K01WLvWobfW8cfeBmzAcrlcyszM1ObNm7Vy5UqFhoZKkkaNGqVRo0ZVnjd%2B/Hht2bJFGzdu1JQpUzyaOycnR9nZ2W5j6enpmjx5srk7cJnIyDqWzAt6ayV6ay36ax16ax1/6m1ABqyKigo9%2B%2Byz%2BvTTT/XWW28pLi7uuufHxsaqsLDQ4/lTUlKUnJzsNuZw1FVRUelPqvdaQkKCFRlZRyUl51VeXmF07kBHb61Hb63B2rUOvbWOlb2NigozOp%2BnAjJgzZ07V3//%2B9/11ltvqX79%2Bm7Hfvvb36pbt2666667Ksfy8/MrtxA9ER0dXWU70Ok8q7Iya74hy8srLJs70NFb69Bba9Ff69Bb6/hTb/1ns9NDn3zyiTZu3Khly5ZVCVfSD68yfPHFF3X8%2BHF9//33eu2113TixAmNGDHChmoBAIAv8ssrWPHx8ZJ%2BeIWgJO3cuVOSlJubq3fffVdnz55Vv3793L4mISFBr732mqZNmybph%2BdeFRcXq23btnr99dfVpEmTGrwHAADAlwW5XC6X3UUEAqfzrPE5HY5gRUWFqaio1G8uqXoLX%2BztfS9/aHcJHts/Z5BP9daX%2BOLa9RX01jpW9rZx46u/bZPVAm6LEAAAwGoELAAAAMMIWAAAAIYRsAAAAAwjYAEAABhGwAIAADCMgAUAAGAYAQsAAMAwAhYAAIBhBCwAAADDCFgAAACGeV3ASk5OVnZ2tk6fPm13KQAAAD%2BJ1wWskSNHauvWrRowYIAeffRR7dixQ2VlZXaXBQAA4DGvC1jp6enaunWr3nnnHbVr105z585VUlKSFixYoIKCArvLAwAAuCGvC1g/6tSpk2bMmKE//elPmjlzpt555x3df//9mjBhgj799FO7ywMAALgmrw1Yly5d0tatW/XYY49pxowZiomJ0bPPPqsOHTpo/Pjx2rRpk90lAgAAXJXD7gKulJ%2Bfr7Vr12r9%2BvUqLS3VvffeqzfeeEPdu3evPCchIUEvvPCChgwZYmOlAAAAV%2Bd1AWvw4MFq1aqV0tLSNHz4cNWvX7/KOUlJSTpz5owN1QEAANyY1wWslStX6s4777zheQcPHqyBagAAAKrP656Dddttt%2Bnxxx/Xzp07K8def/11PfbYYyouLraxMgAAAM943RWsjIwMnT17Vm3btq0c69u3r/bu3at58%2BZp3rx5NlYHADDpvpc/tLuEatk/Z5DdJcBHeF3A%2BuCDD7Rp0yZFRUVVjrVs2VKZmZn6l3/5FxsrAwAA8IzXbRFeuHBBoaGhVcaDg4N1/vx5GyoCAACoHq8LWAkJCZo3b56%2B/fbbyrGvv/5aL774ottbNQAAAHgrr9sinDlzph555BHdddddCg8PV0VFhUpLSxUXF6c333zT7vIAAABuyOsCVlxcnLZs2aL3339fJ06cUHBwsFq1aqU%2BffooJCTE7vIAAABuyOsCliTVrl1bAwYMsLsMAACAn8TrAtbJkye1cOFC/f3vf9eFCxeqHN%2B1a5cNVQEAAHjO6wLWzJkzVVhYqD59%2Bqhu3bp2lwMAAFBtXhewDh06pF27dqlBgwZ2lwIAAPCTeN3bNDRs2JArVwAAwKd5XcBKS0tTdna2XC7XTc2zd%2B9e9erVS1OnTq1ybOvWrRoyZIi6deumBx54QB988EHlsYqKCmVlZal///5KSEjQhAkTdPLkyZuqBQAABBav2yJ8//339de//lXr1q1Ts2bNFBzsngHffvvtG86xfPlyrV27Vi1atKhy7OjRo5oxY4ays7PVs2dPbd%2B%2BXU888YS2bdumJk2aaPXq1dq0aZOWL1%2BumJgYZWVlKT09XRs2bFBQUJCx%2BwkAAPyX113BCg8P1z333KOkpCS1adNGrVq1cvvnidDQ0GsGrDVr1igpKUlJSUkKDQ3V0KFD1b59e23cuFGSlJOTo/Hjx6tNmzYKDw/X1KlTlZ%2Bfr4MHDxq9nwAAwH953RWsjIyMm55j7Nix1zx2%2BPBhJSUluY117NhRubm5unDhgvLy8tSxY8fKY%2BHh4WrRooVyc3N1%2B%2B2333RtAADA/3ldwJKk48ePa8uWLfryyy8rA9f//u//qlu3bjc9d3FxserVq%2Bc2Vq9ePeXl5enbb7%2BVy%2BW66vGioiKPb6OwsFBOp9NtzOGoq%2Bjo6J9e%2BFWEhAS7fYQ59NZ69NYarF3r0Vvz/HHdel3A2rdvnx577DG1atVKn3/%2BuTIyMnTy5EmNHTtWL7/8svr373/Tt3GjJ9Df7BPsc3JylJ2d7TaWnp6uyZMn39S81xIZWceSeUFvrURvrUV/rUNvreNPvfW6gJWVlaWnn35a48aNU5cuXST98PcJ582bp8WLF990wIqKilJxcbHbWHFxsRo0aKD69esrODj4qscbNmzo8W2kpKQoOTnZbczhqKuiotKfXvhVhIQEKzKyjkpKzqu8vMLo3IGO3lqP3lqDtWs9emueles2KirM6Hye8rqA9be//U2rVq2SJLdX7Q0aNEgzZ8686fk7d%2B6sQ4cOuY3l5uZq8ODBCg0NVbt27XT48GHdeeedkqSSkhKdOHGiMux5Ijo6usp2oNN5VmVl1nxDlpdXWDZ3oKO31qG31qK/1qG31vGn3nrdZmdERMRV/wZhYWGhateufdPzP/TQQ/rv//5v/fnPf9b333%2BvtWvX6vPPP9fQoUMlSaNHj9bKlSuVn5%2Bvc%2BfOKTMzUx06dFB8fPxN3zYAAAgMXncF64477tDcuXM1a9asyrGCggL9%2Bte/1l133eXRHD%2BGobKyMknSzp07Jf1wpap9%2B/bKzMxURkaGTp06pbZt22rp0qVq3LixJCk1NVVOp1NjxoxRaWmpEhMTqzyfCgAA4HqCXDf7jG7DvvrqK40bN05ffPGFysvLVbduXZ0/f17t2rXTkiVLdOutt9pd4k/idJ41PqfDEayoqDAVFZX6zSVVb%2BGLvb3v5Q/tLsFj%2B%2BcM8qne%2BhJfW7u%2BtG4l1q5VrFy3jRtHGJ3PU153BatJkybavHmz9uzZo4KCAt1yyy1q1aqVevfuzTupAwAAn%2BB1AUuSatWqpQEDBthdBgAAwE/idQErOTn5uleqdu3aVYPVAAAAVJ/XBaz777/fLWCVl5eroKBAubm5GjdunI2VAQAAeMbrAtb06dOvOr59%2B3b95S9/qeFqAAAAqs/r3gfrWgYMGKAtW7bYXQYAAMAN%2BUzAOnLkyE3/jUAAAICa4HVbhKmpqVXGzp8/r/z8fA0cONCGigAAAKrH6wJWy5Ytq7yKMDQ0VA8%2B%2BKBGjRplU1UAAACe87qANW/ePLtLAAAAuCleF7DWr1/v8bnDhw%2B3sBIAAICfxusC1nPPPaeKiooqT2gPCgpyGwsKCiJgAQAAr%2BR1Aev3v/%2B9XnvtNT3%2B%2BOO67bbb5HK59Nlnn2n58uX613/9VyUmJtpdIgAAwHV5XcCaN2%2Beli1bppiYmMqxHj16KC4uThMmTNDmzZttrA4AAODGvO59sD7//HPVq1evynhkZKROnTplQ0UAAADV43UBKzY2VvPmzVNRUVHlWElJiRYuXKjmzZvbWBkAAIBnvG6LcObMmZo2bZpycnIUFham4OBgnTt3TrfccosWL15sd3kAAAA35HUBq0%2BfPvrzn/%2BsPXv26KuvvpLL5VJMTIzuvvtuRURE2F0eAADADXldwJKkOnXqqH///vrqq68UFxdndzkAAADV4nXPwbpw4YJmzJihbt266b777pP0w3OwHn30UZWUlNhcHQAAwI15XcBasGCBjh49qszMTAUH/7O88vJyZWZm2lgZAACAZ7wuYG3fvl2LFi3SoEGDKv/oc2RkpDIyMrRjxw6bqwMAALgxrwtYpaWlatmyZZXxBg0a6Lvvvqv5ggAAAKrJ6wJW8%2BbN9Ze//EWS3P724LZt23TrrbfaVRYAAIDHvO5VhA8//LAmTZqkkSNHqqKiQitWrNChQ4e0fft2Pffcc3aXBwAAcENeF7BSUlLkcDi0atUqhYSEaMmSJWrVqpUyMzM1aNAgu8sDAAC4Ia8LWGfOnNHIkSM1cuRIu0tBgOvx3Da7SwAA%2BCivew5W//793Z57BQAA4Gu8LmAlJibqvffes7sMAACAn8zrtgibNm2qOXPmaNmyZWrevLlq1arldnzhwoU2VQYAAOAZrwtYeXl5at26tSSpqKjI5moAAACqz2sC1tSpU5WVlaU333yzcmzx4sVKT083flsff/yxHnnkEbcxl8ulS5cuaeXKlRo7dqxq167tdvzf//3fK/82IgAAwPV4TcDavXt3lbFly5ZZErASEhKUm5vrNrZkyRIdO3ZMkhQbG3vVegAAADzhNQHraq8crKlXE3755ZdasWKF/vCHP%2BjkyZM1cpsAAMB/ec2rCH/8w843GrPCK6%2B8opEjR1b%2BKZ7S0lKlp6crMTFRd999t1asWMFbRwAAAI95zRUsu3zxxRfasWOHduzYIUkKDw9X%2B/btNW7cOGVlZemjjz7Sk08%2BqYiICD344IMezVlYWCin0%2Bk25nDUVXR0tNHaQ0KC3T7CHHpqPXpsDR4XrEdvzfPHdRvwAWv16tUaOHCgGjduLEnq1KmT2xPt%2B/Tpo9TUVK1bt87jgJWTk6Ps7Gy3sfT0dE2ePNlc4ZeJjKxjybyAlVi31qK/1qG31vGn3npNwLp06ZKmTZt2wzHT74O1fft2zZgx47rnxMbGavv27R7PmZKSouTkZLcxh6OuiopKf1KN1xISEqzIyDoqKTmv8vIKo3MHOn/6LcpbsW6tweOC9eiteVau26ioMKPzecprAlb37t1VWFh4wzGTjh49qlOnTql3796VY%2B%2B9956Kior08MMPV44dP35ccXFxHs8bHR1dZTvQ6TyrsjJrviHLyyssmxuwCuvWWvTXOvTWOv7UW68JWJdvy9WUI0eOqH79%2BgoPD68cq1WrlubPn6/mzZsrMTFRH330kd59913Nnz%2B/xusDAAC%2ByWsClh2%2B%2Beabyude/WjAgAGaOXOmXnrpJZ0%2BfVqNGjXSzJkzNXDgQJuqBAAAviagA1ZaWprS0tKqjKekpCglJcWGigAAgD/gmbwAAACGEbAAAAAMI2ABAAAYRsACAAAwjIAFAABgGAELAADAMAIWAACAYQH9PlgAAFRHj%2Be22V1Ctbw3pfeNT4IluIIFAABgGAELAADAMAIWAACAYQQsAAAAwwhYAAAAhhGwAAAADCNgAQAAGEbAAgAAMIyABQAAYBgBCwAAwDACFgAAgGEELAAAAMMIWAAAAIYRsAAAAAwjYAEAABhGwAIAADCMgAUAAGAYAQsAAMAwAhYAAIBhBCwAAADDCFgAAACGEbAAAAAMI2ABAAAY5rC7ADvcdtttqlWrloKCgirHHnroIT3//PPat2%2BfFi5cqOPHj6tp06ZKS0vT0KFDbawWAAD4moAMWJK0bds2NWvWzG2ssLBQ//Zv/6bnnntOQ4YM0SeffKKJEyeqVatWio%2BPt6lSAADga9givMymTZvUsmVLPfjggwoNDVWvXr2UnJysNWvW2F0aAADwIQEbsBYuXKi%2BffuqR48eev7551VaWqrDhw%2BrY8eObud17NhRhw4dsqlKAADgiwJyi/D2229Xr169NH/%2BfJ08eVJTpkzRiy%2B%2BqOLiYsXExLidW79%2BfRUVFVVr/sLCQjmdTrcxh6OuoqOjb7r2y4WEBLt9hDn01Hr02Bo8LuByDodvrAN/XLcBGbBycnIq/7tNmzaaPn26Jk6cqO7duxubPzs7220sPT1dkydPNjL/lSIj61gyL2Al1q216C8kKSoqzO4SqsWf1m1ABqwrNWvWTOXl5QoODlZxcbHbsaKiIjVo0KBa86WkpCg5OdltzOGoq6Ki0puu9XIhIcGKjKyjkpLzKi%2BvMDp3oPOn36K8FevWGjwu4HKmf%2B5Yxcp1a1fIDLiAdeTIEW3cuFHPPPNM5Vh%2Bfr5q166tpKQk/eEPf3A7/9ChQ%2BratWu1biM6OrrKdqDTeVZlZdY82JWXV1g2N2AV1q216C8k%2Bdwa8Kd1G3C/pjds2FA5OTlatmyZLl68qIKCAr3yyitKSUnRsGHDdOrUKa1Zs0bff/%2B99uzZoz179uihhx6yu2wAAOBDAi5gxcTEaNmyZdq9e7cSExOVmpqqu%2B%2B%2BW08//bQaNmyopUuXatWqVerevbvmzp2rBQsW6Gc/%2B5ndZQMAAB8ScFuEkpSQkKC33377msc2bNhQwxUBAAB/EnBXsAAAAKxGwAIAADCMgAUAAGAYAQsAAMAwAhYAAIBhBCwAAADDCFgAAACGEbAAAAAMI2ABAAAYRsACAAAwjIAFAABgGAELAADAMAIWAACAYQQsAAAAwwhYAAAAhhGwAAAADCNgAQAAGEbAAgAAMIyABQAAYBgBCwAAwDACFgAAgGEELAAAAMMIWAAAAIYRsAAAAAwjYAEAABhGwAIAADCMgAUAAGAYAQsAAMAwAhYAAIBhBCwAAADDCFgAAACGOewuwC6nTp3S3LlztX//foWEhOiee%2B7RzJkzVVJSov79%2B6t27dpu50%2BZMkUTJkywqVoAAOBLAjZgPf744%2BrcubN2796ts2fPKj09XfPnz9fEiRMlSbm5uTZXCAAAfFVAbhGWlJSoc%2BfOmjZtmsLCwtSkSRONGDFC%2B/fvt7s0AADgBwIyYEVGRiojI0ONGjWqHDt9%2BrSio6MrP//Vr36lPn36qGfPnlq4cKEuXbpkR6kAAMAHBewW4eVyc3O1atUq/e53v1Pt2rXVrVs3/fznP9ecOXN09OhRTZo0SQ6HQ08%2B%2BaRH8xUWFsrpdLqNORx13QKcCSEhwW4fYQ49tR49tgaPC7icw%2BEb68Af123AB6xPPvlEEydO1LRp09SrVy9J0ttvv115vEuXLkpLS9PSpUs9Dlg5OTnKzs52G0tPT9fkyZPNFX6ZyMg6lswLWIl1ay36C0mKigqzu4Rq8ad1G9ABa/fu3Xr66af1/PPPa/jw4dc8LzY2Vt98841cLpeCgoJuOG9KSoqSk5PdxhyOuioqKr3pmi8XEhKsyMg6Kik5r/LyCqNzBzp/%2Bi3KW7FurcHjAi5n%2BueOVaxct3aFzIANWH/96181Y8YMvfLKK%2BrTp0/l%2BL59%2B3TgwIHKVxNK0vHjxxUbG%2BtRuJKk6OjoKtuBTudZlZVZ82BXXl5h2dyAVVi31qK/kKSfZ%2B61uwSP7Z8zyK/WbUD%2Bml5WVqZZs2Zp%2BvTpbuFKkiIiIrR48WJt2LBBly5dUm5urv7zP/9To0ePtqlaAADgawLyCtaBAweUn5%2Bv2bNna/bs2W7Htm3bpqysLGVnZ%2Bv//b//p4iICI0ZM0bjxo2zqVoAAOBrApgZ36YAAArjSURBVDJg9ejRQ5999tk1j8fGxurnP/95DVYEAAD8SUBuEQIAAFiJgAUAAGBYQG4R%2BpMez22zuwSPvTelt90lAABQI7iCBQAAYBgBCwAAwDACFgAAgGEELAAAAMMIWAAAAIYRsAAAAAwjYAEAABhGwAIAADCMgAUAAGAYAQsAAMAwAhYAAIBhBCwAAADDCFgAAACGEbAAAAAMI2ABAAAYRsACAAAwjIAFAABgGAELAADAMIfdBQAIPD2e22Z3CdXy3pTedpcAwMdwBQsAAMAwAhYAAIBhbBGixtz38od2lwAEBF/bggX8EVewAAAADCNgAQAAGEbAAgAAMIyABQAAYBgBCwAAwDACFgAAgGEELAAAAMMIWFdx6tQp/fKXv1RiYqL69eunBQsWqKKiwu6yAACAj%2BCNRq9i0qRJ6tSpk3bu3Kl//OMfSktLU6NGjfSLX/zC7tIAAIAP4ArWFXJzc3Xs2DFNnz5dERERatmypcaPH6%2BcnBy7SwMAAD6CK1hXOHz4sGJjY1WvXr3KsU6dOqmgoEDnzp1TeHj4DecoLCyU0%2Bl0G3M46io6OtporSEh5GOgJjgcvvO9xuMCfJk/rV8C1hWKi4sVGRnpNvZj2CoqKvIoYOXk5Cg7O9tt7IknntCkSZPMFaofgty4Jn9XSkqK8fAW6AoLC5WTk0NvLUBvrcXjgnVYu9YpLCzUq6%2B%2B6le99Z%2BoaJDL5bqpr09JSdG6devc/qWkpBiq7p%2BcTqeys7OrXC3DzaO31qG31qK/1qG31vHH3nIF6woNGjRQcXGx21hxcbGCgoLUoEEDj%2BaIjo72mwQOAACqjytYV%2BjcubNOnz6tM2fOVI7l5uaqbdu2CgsLs7EyAADgKwhYV%2BjYsaPi4%2BO1cOFCnTt3Tvn5%2BVqxYoVGjx5td2kAAMBHhLzwwgsv2F2Et7n77ru1efNmvfTSS9qyZYsefPBBTZgwQUFBQXaXVkVYWJjuvPNOrq5ZgN5ah95ai/5ah95ax996G%2BS62Wd0AwAAwA1bhAAAAIYRsAAAAAwjYAEAABhGwAIAADCMgAUAAGAYAQsAAMAwAhYAAIBhBCwAAADDCFgAAACGEbC83KlTp/TLX/5SiYmJ6tevnxYsWKCKioqrnrty5Urde%2B%2B9uuOOOzR69GgdOnSohqv1LdXp7VtvvaV7771X3bp107Bhw7Rz584arta3VKe3P/r666/VrVs3vfrqqzVUpe%2BqTn/z8/M1ZswYde3aVUlJSXr99ddrtlgf42lvKyoqtGjRIiUnJ6tbt24aMmSItm7dakPFvmXv3r3q1auXpk6det3zKioqlJWVpf79%2ByshIUETJkzQyZMna6hKQ1zwaiNGjHDNmjXLVVJS4iooKHANHDjQ9dprr1U5b9euXa4ePXq4Dhw44Dp//rxr6dKlrt69e7tKS0ttqNo3eNrbbdu2ubp37%2B7av3%2B/6%2BLFi6533nnH1alTJ9eJEydsqNo3eNrbyz3xxBOu7t27uxYtWlRDVfouT/t7/vx5V9%2B%2BfV3Lly93fffdd66DBw%2B6Bg8e7MrLy7Ohat/gaW9XrVrl6tOnjys/P99VVlbm2r17t6tjx46uo0eP2lC1b1i2bJlr4MCBrtTUVNeUKVOue%2B7KlStd/fr1c%2BXl5bnOnj3r%2Bs1vfuMaMmSIq6KiooaqvXlcwfJiubm5OnbsmKZPn66IiAi1bNlS48ePV05OTpVzc3Jy9MADD6hr16665ZZb9Oijj0qS/vSnP9V02T6hOr29cOGCnnrqKXXv3l21atXSqFGjFBYWpgMHDthQuferTm9/tGfPHuXl5alv3741V6iPqk5/33vvPYWHh%2BvRRx9VnTp11KVLF23evFlt2rSxoXLvV53eHj58WN27d1fr1q0VEhKifv36qX79%2Bvrss89sqNw3hIaGau3atWrRosUNz83JydH48ePVpk0bhYeHa%2BrUqcrPz9fBgwdroFIzCFhe7PDhw4qNjVW9evUqxzp16qSCggKdO3euyrkdO3as/Dw4OFgdOnRQbm5ujdXrS6rT22HDhunhhx%2Bu/LykpESlpaWKiYmpsXp9SXV6K/0QYH/zm9/o17/%2BtRwOR02W6pOq099PPvlE7du317PPPqsePXpo0KBB2rhxY02X7DOq09u%2Bffvqo48%2B0tGjR3Xx4kXt2rVL58%2Bf15133lnTZfuMsWPHKiIi4obnXbhwQXl5eW4/08LDw9WiRQuf%2BplGwPJixcXFioyMdBv78Ru/qKioyrmXPyj8eO6V5%2BEH1ent5Vwul2bNmqWuXbvyQHoN1e3t4sWLdfvtt6tnz541Up%2Bvq05/v/rqK%2B3atUu9evXS3r17lZaWphkzZujIkSM1Vq8vqU5vBw4cqJSUFA0fPlzx8fGaNm2aMjIy1LRp0xqr1199%2B%2B23crlcPv8zjV8XvZzL5bLkXFS/X5cuXdIzzzyjvLw8rVy50qKq/IOnvc3Ly9OaNWu0adMmiyvyL5721%2BVyqVOnThoyZIgkacSIEXr77be1bds2t6sD%2BCdPe7t%2B/XqtX79ea9as0W233aZ9%2B/Zp2rRpatq0qbp06WJxlYHB13%2BmcQXLizVo0EDFxcVuY8XFxQoKClKDBg3cxqOioq567pXn4QfV6a30wyXrtLQ0ffnll1q9erUaNWpUU6X6HE9763K59MILL2jSpElq3LhxTZfps6qzdhs3blxlSyY2NlZOp9PyOn1RdXq7atUqpaSkqEuXLgoNDVXfvn3Vs2dPtmANqF%2B/voKDg6/6/6Jhw4Y2VVV9BCwv1rlzZ50%2BfVpnzpypHMvNzVXbtm0VFhZW5dzDhw9Xfl5eXq4jR46oa9euNVavL6lOb10ul6ZOnSqHw6HXX39dUVFRNV2uT/G0t19%2B%2BaU%2B/vhjLVq0SImJiUpMTNSWLVv0%2B9//XiNGjLCjdJ9QnbXbpk0b/e1vf3O7EnDq1CnFxsbWWL2%2BpDq9raioUHl5udvYxYsXa6ROfxcaGqp27dq5/UwrKSnRiRMnfOrqIAHLi3Xs2FHx8fFauHChzp07p/z8fK1YsUKjR4%2BWJA0aNEj79%2B%2BXJI0ePVrr16/XgQMHdP78ef3ud79T7dq1eVXWNVSnt5s2bVJeXp5eeeUVhYaG2lm2T/C0t02aNNGePXu0YcOGyn/JyclKTU3VsmXLbL4X3qs6a3fo0KEqKirSkiVLdOHCBW3evFmHDx/W0KFD7bwLXqs6vU1OTtbatWt17NgxlZWV6YMPPtC%2BffvUv39/O%2B%2BCz/r66681aNCgyve6Gj16tFauXKn8/HydO3dOmZmZ6tChg%2BLj422u1HM8B8vLLVq0SM8//7x69%2B6t8PBwpaamVr6iraCgQN99950k6Z577tFTTz2lKVOm6B//%2BIfi4%2BO1bNky3XLLLXaW79U87e27776rU6dOVXlS%2B7BhwzR79uwar9sXeNLbkJAQNWnSxO3r6tSpo/DwcLYMb8DTtRsTE6OlS5dqzpw5%2Bu1vf6tbb71VixcvVvPmze0s36t52tu0tDSVlZUpPT1dZ86cUWxsrGbPnq277rrLzvK92o/hqKysTJIq37A5NzdXly5dUkFBQeVVwNTUVDmdTo0ZM0alpaVKTExUdna2PYX/REEuX38WGQAAgJdhixAAAMAwAhYAAIBhBCwAAADDCFgAAACGEbAAAAAMI2ABAAAYRsACAAAwjIAFAABgGAELAADAMAIWAACAYQQsAAAAwwhYAAAAhhGwAAAADPv/iSWTQ6zcCBkAAAAASUVORK5CYII%3D\"/>\n",
              "        </div>\n",
              "        <div role=\"tabpanel\" class=\"tab-pane col-md-12\" id=\"common2796917994260347429\">\n",
              "            \n",
              "<table class=\"freq table table-hover\">\n",
              "    <thead>\n",
              "    <tr>\n",
              "        <td class=\"fillremaining\">Value</td>\n",
              "        <td class=\"number\">Count</td>\n",
              "        <td class=\"number\">Frequency (%)</td>\n",
              "        <td style=\"min-width:200px\">&nbsp;</td>\n",
              "    </tr>\n",
              "    </thead>\n",
              "    <tr class=\"\">\n",
              "        <td class=\"fillremaining\">0.7864400503429185</td>\n",
              "        <td class=\"number\">1</td>\n",
              "        <td class=\"number\">0.2%</td>\n",
              "        <td>\n",
              "            <div class=\"bar\" style=\"width:1%\">&nbsp;</div>\n",
              "        </td>\n",
              "</tr><tr class=\"\">\n",
              "        <td class=\"fillremaining\">0.06327285129660287</td>\n",
              "        <td class=\"number\">1</td>\n",
              "        <td class=\"number\">0.2%</td>\n",
              "        <td>\n",
              "            <div class=\"bar\" style=\"width:1%\">&nbsp;</div>\n",
              "        </td>\n",
              "</tr><tr class=\"\">\n",
              "        <td class=\"fillremaining\">0.3141730453838618</td>\n",
              "        <td class=\"number\">1</td>\n",
              "        <td class=\"number\">0.2%</td>\n",
              "        <td>\n",
              "            <div class=\"bar\" style=\"width:1%\">&nbsp;</div>\n",
              "        </td>\n",
              "</tr><tr class=\"\">\n",
              "        <td class=\"fillremaining\">0.7323186222078123</td>\n",
              "        <td class=\"number\">1</td>\n",
              "        <td class=\"number\">0.2%</td>\n",
              "        <td>\n",
              "            <div class=\"bar\" style=\"width:1%\">&nbsp;</div>\n",
              "        </td>\n",
              "</tr><tr class=\"\">\n",
              "        <td class=\"fillremaining\">0.8250298045601994</td>\n",
              "        <td class=\"number\">1</td>\n",
              "        <td class=\"number\">0.2%</td>\n",
              "        <td>\n",
              "            <div class=\"bar\" style=\"width:1%\">&nbsp;</div>\n",
              "        </td>\n",
              "</tr><tr class=\"\">\n",
              "        <td class=\"fillremaining\">0.3336031402694437</td>\n",
              "        <td class=\"number\">1</td>\n",
              "        <td class=\"number\">0.2%</td>\n",
              "        <td>\n",
              "            <div class=\"bar\" style=\"width:1%\">&nbsp;</div>\n",
              "        </td>\n",
              "</tr><tr class=\"\">\n",
              "        <td class=\"fillremaining\">0.3311418077630257</td>\n",
              "        <td class=\"number\">1</td>\n",
              "        <td class=\"number\">0.2%</td>\n",
              "        <td>\n",
              "            <div class=\"bar\" style=\"width:1%\">&nbsp;</div>\n",
              "        </td>\n",
              "</tr><tr class=\"\">\n",
              "        <td class=\"fillremaining\">0.7086131723969877</td>\n",
              "        <td class=\"number\">1</td>\n",
              "        <td class=\"number\">0.2%</td>\n",
              "        <td>\n",
              "            <div class=\"bar\" style=\"width:1%\">&nbsp;</div>\n",
              "        </td>\n",
              "</tr><tr class=\"\">\n",
              "        <td class=\"fillremaining\">0.030751314393913882</td>\n",
              "        <td class=\"number\">1</td>\n",
              "        <td class=\"number\">0.2%</td>\n",
              "        <td>\n",
              "            <div class=\"bar\" style=\"width:1%\">&nbsp;</div>\n",
              "        </td>\n",
              "</tr><tr class=\"\">\n",
              "        <td class=\"fillremaining\">0.2792568364789493</td>\n",
              "        <td class=\"number\">1</td>\n",
              "        <td class=\"number\">0.2%</td>\n",
              "        <td>\n",
              "            <div class=\"bar\" style=\"width:1%\">&nbsp;</div>\n",
              "        </td>\n",
              "</tr><tr class=\"other\">\n",
              "        <td class=\"fillremaining\">Other values (495)</td>\n",
              "        <td class=\"number\">495</td>\n",
              "        <td class=\"number\">98.0%</td>\n",
              "        <td>\n",
              "            <div class=\"bar\" style=\"width:100%\">&nbsp;</div>\n",
              "        </td>\n",
              "</tr>\n",
              "</table>\n",
              "        </div>\n",
              "        <div role=\"tabpanel\" class=\"tab-pane col-md-12\"  id=\"extreme2796917994260347429\">\n",
              "            <p class=\"h4\">Minimum 5 values</p>\n",
              "            \n",
              "<table class=\"freq table table-hover\">\n",
              "    <thead>\n",
              "    <tr>\n",
              "        <td class=\"fillremaining\">Value</td>\n",
              "        <td class=\"number\">Count</td>\n",
              "        <td class=\"number\">Frequency (%)</td>\n",
              "        <td style=\"min-width:200px\">&nbsp;</td>\n",
              "    </tr>\n",
              "    </thead>\n",
              "    <tr class=\"\">\n",
              "        <td class=\"fillremaining\">0.0</td>\n",
              "        <td class=\"number\">1</td>\n",
              "        <td class=\"number\">0.2%</td>\n",
              "        <td>\n",
              "            <div class=\"bar\" style=\"width:100%\">&nbsp;</div>\n",
              "        </td>\n",
              "</tr><tr class=\"\">\n",
              "        <td class=\"fillremaining\">0.0192120658984376</td>\n",
              "        <td class=\"number\">1</td>\n",
              "        <td class=\"number\">0.2%</td>\n",
              "        <td>\n",
              "            <div class=\"bar\" style=\"width:100%\">&nbsp;</div>\n",
              "        </td>\n",
              "</tr><tr class=\"\">\n",
              "        <td class=\"fillremaining\">0.025170169477345742</td>\n",
              "        <td class=\"number\">1</td>\n",
              "        <td class=\"number\">0.2%</td>\n",
              "        <td>\n",
              "            <div class=\"bar\" style=\"width:100%\">&nbsp;</div>\n",
              "        </td>\n",
              "</tr><tr class=\"\">\n",
              "        <td class=\"fillremaining\">0.02902714029105191</td>\n",
              "        <td class=\"number\">1</td>\n",
              "        <td class=\"number\">0.2%</td>\n",
              "        <td>\n",
              "            <div class=\"bar\" style=\"width:100%\">&nbsp;</div>\n",
              "        </td>\n",
              "</tr><tr class=\"\">\n",
              "        <td class=\"fillremaining\">0.030751314393913882</td>\n",
              "        <td class=\"number\">1</td>\n",
              "        <td class=\"number\">0.2%</td>\n",
              "        <td>\n",
              "            <div class=\"bar\" style=\"width:100%\">&nbsp;</div>\n",
              "        </td>\n",
              "</tr>\n",
              "</table>\n",
              "            <p class=\"h4\">Maximum 5 values</p>\n",
              "            \n",
              "<table class=\"freq table table-hover\">\n",
              "    <thead>\n",
              "    <tr>\n",
              "        <td class=\"fillremaining\">Value</td>\n",
              "        <td class=\"number\">Count</td>\n",
              "        <td class=\"number\">Frequency (%)</td>\n",
              "        <td style=\"min-width:200px\">&nbsp;</td>\n",
              "    </tr>\n",
              "    </thead>\n",
              "    <tr class=\"\">\n",
              "        <td class=\"fillremaining\">0.9517923119702948</td>\n",
              "        <td class=\"number\">1</td>\n",
              "        <td class=\"number\">0.2%</td>\n",
              "        <td>\n",
              "            <div class=\"bar\" style=\"width:100%\">&nbsp;</div>\n",
              "        </td>\n",
              "</tr><tr class=\"\">\n",
              "        <td class=\"fillremaining\">0.9596454072349518</td>\n",
              "        <td class=\"number\">1</td>\n",
              "        <td class=\"number\">0.2%</td>\n",
              "        <td>\n",
              "            <div class=\"bar\" style=\"width:100%\">&nbsp;</div>\n",
              "        </td>\n",
              "</tr><tr class=\"\">\n",
              "        <td class=\"fillremaining\">0.9842407862639496</td>\n",
              "        <td class=\"number\">1</td>\n",
              "        <td class=\"number\">0.2%</td>\n",
              "        <td>\n",
              "            <div class=\"bar\" style=\"width:100%\">&nbsp;</div>\n",
              "        </td>\n",
              "</tr><tr class=\"\">\n",
              "        <td class=\"fillremaining\">0.9845261943505972</td>\n",
              "        <td class=\"number\">1</td>\n",
              "        <td class=\"number\">0.2%</td>\n",
              "        <td>\n",
              "            <div class=\"bar\" style=\"width:100%\">&nbsp;</div>\n",
              "        </td>\n",
              "</tr><tr class=\"\">\n",
              "        <td class=\"fillremaining\">1.0</td>\n",
              "        <td class=\"number\">1</td>\n",
              "        <td class=\"number\">0.2%</td>\n",
              "        <td>\n",
              "            <div class=\"bar\" style=\"width:100%\">&nbsp;</div>\n",
              "        </td>\n",
              "</tr>\n",
              "</table>\n",
              "        </div>\n",
              "    </div>\n",
              "</div>\n",
              "</div><div class=\"row variablerow\">\n",
              "    <div class=\"col-md-3 namecol\">\n",
              "        <p class=\"h4 pp-anchor\" id=\"pp_var_Savings\">Savings<br/>\n",
              "            <small>Numeric</small>\n",
              "        </p>\n",
              "    </div><div class=\"col-md-6\">\n",
              "    <div class=\"row\">\n",
              "        <div class=\"col-sm-6\">\n",
              "            <table class=\"stats \">\n",
              "                <tr>\n",
              "                    <th>Distinct count</th>\n",
              "                    <td>505</td>\n",
              "                </tr>\n",
              "                <tr>\n",
              "                    <th>Unique (%)</th>\n",
              "                    <td>100.0%</td>\n",
              "                </tr>\n",
              "                <tr class=\"ignore\">\n",
              "                    <th>Missing (%)</th>\n",
              "                    <td>0.0%</td>\n",
              "                </tr>\n",
              "                <tr class=\"ignore\">\n",
              "                    <th>Missing (n)</th>\n",
              "                    <td>0</td>\n",
              "                </tr>\n",
              "                <tr class=\"ignore\">\n",
              "                    <th>Infinite (%)</th>\n",
              "                    <td>0.0%</td>\n",
              "                </tr>\n",
              "                <tr class=\"ignore\">\n",
              "                    <th>Infinite (n)</th>\n",
              "                    <td>0</td>\n",
              "                </tr>\n",
              "            </table>\n",
              "\n",
              "        </div>\n",
              "        <div class=\"col-sm-6\">\n",
              "            <table class=\"stats \">\n",
              "\n",
              "                <tr>\n",
              "                    <th>Mean</th>\n",
              "                    <td>11862</td>\n",
              "                </tr>\n",
              "                <tr>\n",
              "                    <th>Minimum</th>\n",
              "                    <td>0</td>\n",
              "                </tr>\n",
              "                <tr>\n",
              "                    <th>Maximum</th>\n",
              "                    <td>20000</td>\n",
              "                </tr>\n",
              "                <tr class=\"ignore\">\n",
              "                    <th>Zeros (%)</th>\n",
              "                    <td>0.2%</td>\n",
              "                </tr>\n",
              "            </table>\n",
              "        </div>\n",
              "    </div>\n",
              "</div>\n",
              "<div class=\"col-md-3 collapse in\" id=\"minihistogram-7133758896445380073\">\n",
              "    <img src=\"data:image/png;base64,iVBORw0KGgoAAAANSUhEUgAAAMgAAABLCAYAAAA1fMjoAAAABHNCSVQICAgIfAhkiAAAAAlwSFlzAAAPYQAAD2EBqD%2BnaQAAADh0RVh0U29mdHdhcmUAbWF0cGxvdGxpYiB2ZXJzaW9uMy4xLjEsIGh0dHA6Ly9tYXRwbG90bGliLm9yZy8QZhcZAAABNklEQVR4nO3d0U3DMBRA0bZiJIZgp36zE0Owk1kAXTVIIZZ9zn8k9%2BPWz2mi3scY4wb86nH1AmBmb1cvgP/3/vw6fM3358cJK5mfHQSCQCAIBIJAIAgEgrtYvGTXO192EAgCgWDEOuDomLHCiLE7OwgEgUAQCASBQBAIBIFAEAgEgUAQCASBQBAIBIFAEAgEgUAQCASBQNj2ham/vGPNfuwgEAQCQSAQBAJBIBAEAkEgEAQCQSAQtv0lfSWeCjiPHQSCQCAIBIIzyIl2/VemlSwRiEPqnFb4gjBiQRAIBIFAEAiE6Q7pux%2B4d//8s7mPMcbVi4BZGbEgCASCQCAIBIJAIAgEgkAgCASCQCAIBIJAIAgEgkAgCASCQCAIBIJAIAgEgkAgCASCQCAIBIJAIAgEgkAg/AAIgR6gN81iuwAAAABJRU5ErkJggg%3D%3D\">\n",
              "\n",
              "</div>\n",
              "<div class=\"col-md-12 text-right\">\n",
              "    <a role=\"button\" data-toggle=\"collapse\" data-target=\"#descriptives-7133758896445380073,#minihistogram-7133758896445380073\"\n",
              "       aria-expanded=\"false\" aria-controls=\"collapseExample\">\n",
              "        Toggle details\n",
              "    </a>\n",
              "</div>\n",
              "<div class=\"row collapse col-md-12\" id=\"descriptives-7133758896445380073\">\n",
              "    <ul class=\"nav nav-tabs\" role=\"tablist\">\n",
              "        <li role=\"presentation\" class=\"active\"><a href=\"#quantiles-7133758896445380073\"\n",
              "                                                  aria-controls=\"quantiles-7133758896445380073\" role=\"tab\"\n",
              "                                                  data-toggle=\"tab\">Statistics</a></li>\n",
              "        <li role=\"presentation\"><a href=\"#histogram-7133758896445380073\" aria-controls=\"histogram-7133758896445380073\"\n",
              "                                   role=\"tab\" data-toggle=\"tab\">Histogram</a></li>\n",
              "        <li role=\"presentation\"><a href=\"#common-7133758896445380073\" aria-controls=\"common-7133758896445380073\"\n",
              "                                   role=\"tab\" data-toggle=\"tab\">Common Values</a></li>\n",
              "        <li role=\"presentation\"><a href=\"#extreme-7133758896445380073\" aria-controls=\"extreme-7133758896445380073\"\n",
              "                                   role=\"tab\" data-toggle=\"tab\">Extreme Values</a></li>\n",
              "\n",
              "    </ul>\n",
              "\n",
              "    <div class=\"tab-content\">\n",
              "        <div role=\"tabpanel\" class=\"tab-pane active row\" id=\"quantiles-7133758896445380073\">\n",
              "            <div class=\"col-md-4 col-md-offset-1\">\n",
              "                <p class=\"h4\">Quantile statistics</p>\n",
              "                <table class=\"stats indent\">\n",
              "                    <tr>\n",
              "                        <th>Minimum</th>\n",
              "                        <td>0</td>\n",
              "                    </tr>\n",
              "                    <tr>\n",
              "                        <th>5-th percentile</th>\n",
              "                        <td>4356.4</td>\n",
              "                    </tr>\n",
              "                    <tr>\n",
              "                        <th>Q1</th>\n",
              "                        <td>6828.7</td>\n",
              "                    </tr>\n",
              "                    <tr>\n",
              "                        <th>Median</th>\n",
              "                        <td>14210</td>\n",
              "                    </tr>\n",
              "                    <tr>\n",
              "                        <th>Q3</th>\n",
              "                        <td>16047</td>\n",
              "                    </tr>\n",
              "                    <tr>\n",
              "                        <th>95-th percentile</th>\n",
              "                        <td>17830</td>\n",
              "                    </tr>\n",
              "                    <tr>\n",
              "                        <th>Maximum</th>\n",
              "                        <td>20000</td>\n",
              "                    </tr>\n",
              "                    <tr>\n",
              "                        <th>Range</th>\n",
              "                        <td>20000</td>\n",
              "                    </tr>\n",
              "                    <tr>\n",
              "                        <th>Interquartile range</th>\n",
              "                        <td>9218.6</td>\n",
              "                    </tr>\n",
              "                </table>\n",
              "            </div>\n",
              "            <div class=\"col-md-4 col-md-offset-2\">\n",
              "                <p class=\"h4\">Descriptive statistics</p>\n",
              "                <table class=\"stats indent\">\n",
              "                    <tr>\n",
              "                        <th>Standard deviation</th>\n",
              "                        <td>4949.2</td>\n",
              "                    </tr>\n",
              "                    <tr>\n",
              "                        <th>Coef of variation</th>\n",
              "                        <td>0.41722</td>\n",
              "                    </tr>\n",
              "                    <tr>\n",
              "                        <th>Kurtosis</th>\n",
              "                        <td>-1.4541</td>\n",
              "                    </tr>\n",
              "                    <tr>\n",
              "                        <th>Mean</th>\n",
              "                        <td>11862</td>\n",
              "                    </tr>\n",
              "                    <tr>\n",
              "                        <th>MAD</th>\n",
              "                        <td>4631.4</td>\n",
              "                    </tr>\n",
              "                    <tr class=\"\">\n",
              "                        <th>Skewness</th>\n",
              "                        <td>-0.36389</td>\n",
              "                    </tr>\n",
              "                    <tr>\n",
              "                        <th>Sum</th>\n",
              "                        <td>5990500</td>\n",
              "                    </tr>\n",
              "                    <tr>\n",
              "                        <th>Variance</th>\n",
              "                        <td>24495000</td>\n",
              "                    </tr>\n",
              "                    <tr>\n",
              "                        <th>Memory size</th>\n",
              "                        <td>4.1 KiB</td>\n",
              "                    </tr>\n",
              "                </table>\n",
              "            </div>\n",
              "        </div>\n",
              "        <div role=\"tabpanel\" class=\"tab-pane col-md-8 col-md-offset-2\" id=\"histogram-7133758896445380073\">\n",
              "            <img src=\"data:image/png;base64,iVBORw0KGgoAAAANSUhEUgAAAlgAAAGQCAYAAAByNR6YAAAABHNCSVQICAgIfAhkiAAAAAlwSFlzAAAPYQAAD2EBqD%2BnaQAAADh0RVh0U29mdHdhcmUAbWF0cGxvdGxpYiB2ZXJzaW9uMy4xLjEsIGh0dHA6Ly9tYXRwbG90bGliLm9yZy8QZhcZAAAgAElEQVR4nO3deXRUVbr%2B8ScDiUwBoh20EUFlDAmTBDTMEQMtDQoCAZdXURTQKA2Cl9GrXGnARWgHQjOI0KK0RtArg3DhIoKI0badSAJNy%2BBFcsFESBmICWTYvz/4UW0RIInsoqpOvp%2B1WKzsXTnnfd3nHB7PqVSCjDFGAAAAsCbY1wUAAAA4DQELAADAMgIWAACAZQQsAAAAywhYAAAAlhGwAAAALCNgAQAAWEbAAgAAsIyABQAAYBkBCwAAwDICFgAAgGUELAAAAMsIWAAAAJYRsAAAACwjYAEAAFhGwAIAALCMgAUAAGAZAQsAAMAyAhYAAIBlBCwAAADLCFgAAACWEbAAAAAsI2ABAABYRsACAACwjIAFAABgGQELAADAMgIWAACAZQQsAAAAywhYAAAAlhGwAAAALCNgAQAAWEbAAgAAsIyABQAAYBkBCwAAwDICFgAAgGUELAAAAMsIWAAAAJYRsAAAACwjYAEAAFgW6usCqovc3JPWtxkcHKTIyNo6caJAZWXG%2BvZ9xal9Sc7tzal9SfQWiJzal%2BTc3rzZ129%2BU9fq9iqLO1gBLDg4SEFBQQoODvJ1KVY5tS/Jub05tS%2BJ3gKRU/uSnNubE/siYAEAAFhGwAIAALCMgAUAAGAZAQsAAMAyAhYAAIBlBCwAAADLCFgAAACWEbAAAAAsI2ABAABYRsACAACwjIAFAABgGQELAADAMgIWAACAZaG%2BLgAAUH397sVdvi6hSjaN7%2BrrEhAguIMFAABgGQELAADAMgIWAACAZQQsAAAAywhYAAAAlhGwAAAALCNgAQAAWEbAAgAAsIyABQAAYBkBCwAAwDICFgAAgGUELAAAAMsIWAAAAJYRsAAAACwjYAEAAFhGwAIAALCMgAUAAGAZAQsAAMAyAhYAAIBlBCwAAADLCFgAAACWEbAAAAAsI2ABAABYRsACAACwjIAFAABgmWMD1s6dOxUfH68JEyaUm9uyZYsGDhyoDh06qG/fvnr77bc95leuXKm%2BffuqY8eOGjFihDIzM69U2QAAwAFCfV2AN7zyyitas2aNmjRpUm5u9%2B7dmjRpkv70pz%2BpV69e2rVrl5KTk3XTTTepU6dO2rZtmxYsWKBly5apZcuWWrlypcaOHastW7aoVq1aPugGAAAEGkfewQoPD79owHK5XBozZoz69Omj0NBQ9ezZUy1atNDf//53SVJaWpoGDx6sdu3a6aqrrtLDDz8sSfrwww%2BvaA8AACBwOfIO1v3333/RuR49eqhHjx7ur0tKSpSbm6uGDRtKkrKysnTnnXe654ODg9W6dWtlZGSof//%2Bldp/Tk6OcnNzPcZCQ2spKiqqKm1UKCQk2ONvp3BqX5Jze3NqXxK9wVNoqG//Wzl1zZzYlyMDVlWkpKSoVq1a7lDlcrlUr149j9fUq1dPeXl5ld5mWlqaUlNTPcaSk5M1bty4yy/4AiIianplu77m1L4k5/bm1L4kesNZDRrU9nUJkpy7Zk7qq9oGLGOMUlJStGHDBq1cuVLh4eEec5cjKSlJCQkJHmOhobWUl1dwWds9X0hIsCIiaio/v1ClpWVWt%2B1LTu1Lcm5vTu1Lojd4sn0dryqnrpk3%2B/JVKK6WAausrExTp07V7t279eabb6px48buuQYNGsjlcnm83uVyqXnz5pXeflRUVLnHgbm5J1VS4p2TobS0zGvb9iWn9iU5tzen9iXRG87yl/9OTl0zJ/XlnIedVTB79mx9%2B%2B235cKVJMXExCgrK8v9dWlpqfbs2aN27dpd6TIBAECAqnYB64svvtC6deu0dOlS1a9fv9z8iBEj9N577%2Bnrr79WYWGhFi1apLCwMPXq1evKFwsAAAKSIx8RxsbGSjr7E4KStHXrVklSRkaG3nnnHZ08eVK9e/f2%2BJ64uDgtX75cPXr00JNPPqnx48fr%2BPHjio2N1dKlS3XVVVdd2SYAAEDAcmTAysjIuOjc7NmzNXv27Et%2B/7333qt7773XdlkAAKCaqHaPCAEAALyNgAUAAGCZIx8RAgDgDb97cZevS6iSTeO7%2BrqEaos7WAAAAJYRsAAAACwjYAEAAFhGwAIAALCMgAUAAGAZAQsAAMAyAhYAAIBlBCwAAADLCFgAAACWEbAAAAAsI2ABAABYRsACAACwjIAFAABgGQELAADAMgIWAACAZQQsAAAAywhYAAAAlhGwAAAALCNgAQAAWEbAAgAAsCzU1wUAsON3L%2B7ydQmVtml8V1%2BXAABexR0sAAAAywhYAAAAlhGwAAAALCNgAQAAWEbAAgAAsIyABQAAYBkBCwAAwDICFgAAgGUELAAAAMsIWAAAAJY5NmDt3LlT8fHxmjBhQrm5jRs3asCAAerQoYMGDx6sjz/%2B2D1XVlamF154Qbfffrvi4uI0atQoff/991eydAAAEOAcGbBeeeUVzZo1S02aNCk3t3fvXk2ePFmTJk3Sp59%2BqpEjR%2Brxxx/XsWPHJEmrVq3S%2BvXrtXTpUn344Ydq2rSpkpOTZYy50m0AAIAA5ciAFR4erjVr1lwwYK1evVo9e/ZUz549FR4eroEDB6pFixZat26dJCktLU0jR47UzTffrDp16mjChAk6cOCAvvnmmyvdBgAACFCODFj333%2B/6tate8G5rKwsRUdHe4xFR0crIyNDRUVF2r9/v8d8nTp11KRJE2VkZHi1ZgAA4Byhvi7gSnO5XKpXr57HWL169bR//3799NNPMsZccD4vL6/S%2B8jJyVFubq7HWGhoLUVFRf36wi8gJCTY42%2BncGpfkrN7q4rQ0MDp38lr5uTecFagnGtOPBarXcCSVOH7qS73/VZpaWlKTU31GEtOTta4ceMua7sXExFR0yvb9TWn9iU5u7fKaNCgtq9LqDInr5mTe6vuAu1cc9KxWO0CVoMGDeRyuTzGXC6XIiMjVb9%2BfQUHB19w/uqrr670PpKSkpSQkOAxFhpaS3l5Bb%2B%2B8AsICQlWRERN5ecXqrS0zOq2fcmpfUnO7q0qbJ8L3uTkNXNybzgrUM41bx6LvgqZ1S5gxcTEKDMz02MsIyND/fv3V3h4uJo3b66srCx17txZkpSfn6/Dhw%2Brbdu2ld5HVFRUuceBubknVVLinQtYaWmZ17btS07tS3J2b5URiL07ec2c3Ft1F2jr6qRj0TkPOytp2LBh%2BuSTT7R9%2B3adPn1aa9as0XfffaeBAwdKkkaMGKGVK1fqwIEDOnXqlFJSUtS6dWvFxsb6uHIAABAoHHkH61wYKikpkSRt3bpV0tk7VS1atFBKSormzJmj7OxsNWvWTEuWLNFvfvMbSdLw4cOVm5urf/u3f1NBQYG6dOlS7v1UAAAAl%2BLIgFXRRyokJiYqMTHxgnNBQUEaN26c196QDgAAnK/aPSIEAADwNgIWAACAZQQsAAAAywhYAAAAlhGwAAAALCNgAQAAWEbAAgAAsIyABQAAYBkBCwAAwDICFgAAgGUELAAAAMsIWAAAAJYRsAAAACwjYAEAAFhGwAIAALCMgAUAAGAZAQsAAMAyAhYAAIBlBCwAAADLCFgAAACWEbAAAAAsI2ABAABYRsACAACwjIAFAABgGQELAADAMgIWAACAZQQsAAAAywhYAAAAlhGwAAAALCNgAQAAWOZ3ASshIUGpqak6evSor0sBAAD4VfwuYN1zzz3auHGj%2BvTpo4cfflhbtmxRSUmJr8sCAACoNL8LWMnJydq4caPefvttNW/eXLNnz1bPnj01b948HTp0yNflAQAAVMjvAtY5bdq00eTJk/Xhhx9q2rRpevvtt3XnnXdq1KhR2r17t6/LAwAAuCi/DVjFxcXauHGjHnnkEU2ePFkNGzbU1KlT1bp1a40cOVLr16/3dYkAAAAXFOrrAs534MABrVmzRu%2B9954KCgrUt29fvfbaa7rlllvcr4mLi9Ozzz6rAQMG/Or97NmzR3PnztWePXsUHh6u2267TdOmTVNkZKTS09M1f/58HTx4UNddd53GjBmjgQMH2mgPAABUA353B6t///7avn27xowZo48%2B%2Bkjz5s3zCFeS1LNnT504ceJX76OkpESjR49W%2B/bt9cknn2jDhg06ceKEnn32WeXk5Oixxx7T8OHDlZ6erunTp%2Bvpp59WRkbG5bYGAACqCb%2B7g7Vy5Up17ty5wtd98803v3ofubm5ys3N1V133aWwsDCFhYXpjjvu0PLly7V%2B/Xo1bdpUQ4YMkSTFx8crISFBq1evVmxs7K/eJwAAqD787g5Wy5YtNXbsWG3dutU99pe//EWPPPKIXC6XlX00bNhQrVu3VlpamgoKCnT8%2BHFt2bJFvXr1UlZWlqKjoz1eHx0drczMTCv7BgAAzud3d7DmzJmjkydPqlmzZu6xXr16aefOnZo7d67mzp172fsIDg7WggULNHLkSL322muSpM6dO2vixIl67LHH1LBhQ4/X169fX3l5eZXefk5OjnJzcz3GQkNrKSoq6rJr/6WQkGCPv53CqX1Jzu6tKkJDA6d/J6%2BZk3vDWYFyrjnxWPS7gPXxxx9r/fr1atCggXusadOmSklJ0e9//3sr%2Bzhz5ozGjh2rfv36aezYsfr55581c%2BZMTZo0ycr209LSlJqa6jGWnJyscePGWdn%2B%2BSIianplu77m1L4kZ/dWGQ0a1PZ1CVXm5DVzcm/VXaCda046Fv0uYBUVFSk8PLzceHBwsAoLC63sIz09XUeOHNGTTz6pkJAQ1a1bV%2BPGjdNdd92l7t27l3sUmZeXp8jIyEpvPykpSQkJCR5joaG1lJdXYKX%2Bc0JCghURUVP5%2BYUqLS2zum1fcmpfkrN7qwrb54I3OXnNnNwbzgqUc82bx6KvQqbfBay4uDjNnTtXEydOVL169SRJP/zwg55//vlyP034a5WWlqqsrEzGGPfYmTNnJJ19U/t//dd/ebw%2BMzNT7dq1q/T2o6Kiyj0OzM09qZIS71zASkvLvLZtX3JqX5Kze6uMQOzdyWvm5N6qu0BbVycdi373sHPatGlKT0/Xbbfdps6dO6tTp07q1auXMjMzNWvWLCv76NChg2rVqqUFCxaosLBQeXl5WrRokeLi4nTXXXcpOztbq1ev1unTp7Vjxw7t2LFDw4YNs7JvAADgfH53B6tx48Z6//339dFHH%2Bnw4cMKDg7WjTfeqG7duikkJMTKPho0aKBXX31Vzz//vHr06KGwsDB17txZzz77rK6%2B%2BmotWbJEs2bN0syZM9WoUSPNmzdPrVq1srJvAADgfH4XsCQpLCxMffr08eo%2BYmJi9Prrr19wLi4uTmvXrvXq/gEAgHP5XcD6/vvvNX/%2BfH377bcqKioqN//BBx/4oCoAAIDK87uANW3aNOXk5Khbt26qVauWr8sBAACoMr8LWJmZmfrggw%2Bq9LEIAAAA/sTvforw6quv5s4VAAAIaH4XsMaMGaPU1FSPz6gCAAAIJH73iPCjjz7Sl19%2BqXfffVfXX3%2B9goM9M%2BBbb73lo8oAAAAqx%2B8CVp06ddSjRw9flwEAAPCr%2BV3AmjNnjq9LAAAAuCx%2B9x4sSTp48KAWLFigqVOnuse%2B%2BuorH1YEAABQeX4XsNLT0zVw4EBt2bJFGzZskHT2w0fvv/9%2BPmQUAAAEBL8LWC%2B88IKeeuoprV%2B/XkFBQZLO/n7CuXPnauHChT6uDgAAoGJ%2BF7D%2B%2Bc9/asSIEZLkDliS1K9fPx04cMBXZQEAAFSa3wWsunXrXvB3EObk5CgsLMwHFQEAAFSN3wWsjh07avbs2Tp16pR77NChQ5o8ebJuu%2B02H1YGAABQOX73MQ1Tp07VAw88oC5duqi0tFQdO3ZUYWGhmjdvrrlz5/q6PAAAgAr5XcC69tprtWHDBu3YsUOHDh3SVVddpRtvvFFdu3b1eE8WAACAv/K7gCVJNWrUUJ8%2BfXxdBgAAwK/idwErISHhkneq%2BCwsAADg7/wuYN15550eAau0tFSHDh1SRkaGHnjgAR9WBgAAUDl%2BF7AmTZp0wfHNmzfrs88%2Bu8LVAAAAVJ3ffUzDxfTp00fvv/%2B%2Br8sAAACoUMAErD179sgY4%2BsyAAAAKuR3jwiHDx9ebqywsFAHDhxQYmKiDyoCAACoGr8LWE2bNi33U4Th4eEaMmSIhg4d6qOqAAAAKs/vAhaf1g4AAAKd3wWs9957r9Kvvfvuu71YCQAAwK/jdwFr%2BvTpKisrK/eG9qCgII%2BxoKAgAhYAAPBLfhewli1bpuXLl2vs2LFq2bKljDHat2%2BfXnnlFd13333q0qWLr0sEAAC4JL8LWHPnztXSpUvVsGFD91inTp3UuHFjjRo1Shs2bPBhdQAAABXzu8/B%2Bu6771SvXr1y4xEREcrOzvZBRQAAAFXjdwGrUaNGmjt3rvLy8txj%2Bfn5mj9/vm644QYfVgYAAFA5fveIcNq0aZo4caLS0tJUu3ZtBQcH69SpU7rqqqu0cOFCX5cHAABQIb8LWN26ddP27du1Y8cOHTt2TMYYNWzYUN27d1fdunV9XR4AAECF/C5gSVLNmjV1%2B%2B2369ixY2rcuLGvywEAAKgSv3sPVlFRkSZPnqwOHTrod7/7naSz78F6%2BOGHlZ%2Bf7%2BPqAAAAKuZ3AWvevHnau3evUlJSFBz8r/JKS0uVkpJidV%2BLFi1St27d1L59e40cOVJHjhyRJKWnp2vIkCHq2LGj%2Bvfvr3Xr1lndLwAAcDa/C1ibN2/Wyy%2B/rH79%2Brl/6XNERITmzJmjLVu2WNvPqlWrtG7dOq1cuVIff/yxmjVrpr/85S/KycnRY489puHDhys9PV3Tp0/X008/rYyMDGv7BgAAzuZ378EqKChQ06ZNy41HRkbq559/traf5cuXa/LkybrpppskSTNmzJAkvfrqq2ratKmGDBkiSYqPj1dCQoJWr16t2NhYa/sHAADO5Xd3sG644QZ99tlnkuTxuwf/%2B7//W7/97W%2Bt7OOHH37QkSNH9NNPP%2BnOO%2B9Uly5dNG7cOJ04cUJZWVmKjo72eH10dLQyMzOt7BsAADif393Buvfee/XEE0/onnvuUVlZmVasWKHMzExt3rxZ06dPt7KPY8eOSTob2lasWCFjjMaNG6cZM2aoqKjI49f0SFL9%2BvU9Pvi0Ijk5OcrNzfUYCw2tpaioqMsv/hdCQoI9/nYKp/YlObu3qggNDZz%2BnbxmTu4NZwXKuebEY9HvAlZSUpJCQ0P1xhtvKCQkRIsXL9aNN96olJQU9evXz8o%2Bzt0Ze/jhh91h6oknntAjjzyi%2BPj4y95%2BWlqaUlNTPcaSk5M1bty4y972hURE1PTKdn3N1311mv7fPt2/kzVoUNvXJVSZr49Hb3Jyb9VdoJ1rTjoW/S5gnThxQvfcc4/uuecer%2B3jmmuukXT2zfPnNGrUSMYYFRcXy%2BVyebw%2BLy9PkZGRld5%2BUlKSEhISPMZCQ2spL6/gMqouLyQkWBERNZWfX6jS0jKr2/Ylp/aFf7F9LniTk49HJ/eGswLlXPPmseirkOl3Aev222/Xl19%2B6f4JQm%2B49tprVadOHe3du1dt2rSRJGVnZ6tGjRrq2bOn1q5d6/H6zMxMtWvXrtLbj4qKKvc4MDf3pEpKvHMBKy0t89q2fcmpfUEBua5OPh6d3Ft1F2jr6qRj0e8ednbp0kWbNm3y6j5CQ0M1ZMgQLV68WP/7v/%2Br48ePa%2BHChRowYIAGDRqk7OxsrV69WqdPn9aOHTu0Y8cODRs2zKs1AQAA5/C7O1jXXXed/vjHP2rp0qW64YYbVKNGDY/5%2BfPnW9nPxIkTdebMGQ0dOlTFxcXq27evZsyYodq1a2vJkiWaNWuWZs6cqUaNGmnevHlq1aqVlf0CAADn87uAtX//fvdnU1XlJ/eqKiwsTM8884yeeeaZcnNxcXHlHhMCAABUlt8ErAkTJuiFF17Q66%2B/7h5buHChkpOTfVgVAABA1fnNe7C2bdtWbmzp0qU%2BqAQAAODy%2BE3A%2BuWntl9qDAAAwN/5TcC60McyePOjGgAAALzFbwIWAACAUxCwAAAALPObnyIsLi7WxIkTKxyz9TlYAAAA3uI3AeuWW25RTk5OhWMAAAD%2Bzm8C1i8//woAACCQ8R4sAAAAywhYAAAAlhGwAAAALCNgAQAAWEbAAgAAsIyABQAAYBkBCwAAwDICFgAAgGUELAAAAMsIWAAAAJYRsAAAACwjYAEAAFhGwAIAALCMgAUAAGAZAQsAAMAyAhYAAIBlBCwAAADLCFgAAACWEbAAAAAsI2ABAABYRsACAACwjIAFAABgGQELAADAMgIWAACAZQQsAAAAywhYAAAAllX7gDV79my1bNnS/XV6erqGDBmijh07qn///lq3bp0PqwMAAIEo1NcF%2BNLevXu1du1a99c5OTl67LHHNH36dA0YMEBffPGFHn30Ud14442KjY31YaUAACCQVNs7WGVlZXrmmWc0cuRI99j69evVtGlTDRkyROHh4YqPj1dCQoJWr17tu0IBAEDAqbZ3sN566y2Fh4drwIABevHFFyVJWVlZio6O9nhddHS0Nm3aVKVt5%2BTkKDc312MsNLSWoqKiLq/o84SEBHv87RRO7Qv/EhoaOGvr5OPRyb3hrEA515x4LFbLgPXjjz9qwYIFev311z3GXS6XGjZs6DFWv3595eXlVWn7aWlpSk1N9RhLTk7WuHHjfl3BFYiIqOmV7fqaU/uC1KBBbV%2BXUGVOPh6d3Ft1F2jnmpOOxWoZsObMmaPBgwerWbNmOnLkiPXtJyUlKSEhwWMsNLSW8vIKrO4nJCRYERE1lZ9fqNLSMqvb9iWn9oV/sX0ueJOTj0cn94azAuVc8%2Bax6KuQWe0CVnp6ur766itt2LCh3FyDBg3kcrk8xvLy8hQZGVmlfURFRZV7HJibe1IlJd65gJWWlnlt277k1L6ggFxXJx%2BPTu6tugu0dXXSsVjtAta6det0/Phx9e7dW5JkjJEkdenSRQ899FC54JWZmal27dpd8ToBAEDgqnYBa8qUKfrDH/7g/vrYsWNKSkrS2rVrVVZWpiVLlmj16tUaOHCgPv30U%2B3YsUNpaWk%2BrBgAAASaahew6tWrp3r16rm/LikpkSRde%2B21kqQlS5Zo1qxZmjlzpho1aqR58%2BapVatWPqkVAAAEpmoXsM53/fXXa9%2B%2Bfe6v4%2BLiPD58FAAAoKqc84ETAAAAfoKABQAAYBkBCwAAwDICFgAAgGUELAAAAMsIWAAAAJYRsAAAACwjYAEAAFhGwAIAALCMgAUAAGAZAQsAAMAyAhYAAIBl1f6XPQOA0/zuxV2%2BLgGo9riDBQAAYBkBCwAAwDICFgAAgGUELAAAAMsIWAAAAJYRsAAAACwjYAEAAFhGwAIAALCMgAUAAGAZAQsAAMAyAhYAAIBlBCwAAADLCFgAAACWEbAAAAAsI2ABAABYRsACAACwjIAFAABgGQELAADAMgIWAACAZQQsAAAAywhYAAAAlhGwAAAALKu2ASs7O1vJycnq0qWL4uPjNWXKFOXn50uS9u7dq/vuu0%2B33HKLEhMTtXz5ch9XCwAAAkm1DVhjx45VRESEtm3bpnfffVfffvutnn/%2BeRUVFWnMmDG69dZbtXPnTr3wwgtasmSJtmzZ4uuSAQBAgKiWASs/P18xMTGaOHGiateurWuvvVaDBg3S3//%2Bd23fvl3FxcV69NFHVatWLbVp00ZDhw5VWlqar8sGAAABItTXBfhCRESE5syZ4zF29OhRRUVFKSsrSy1btlRISIh7Ljo6WqtXr6709nNycpSbm%2BsxFhpaS1FRUZdX%2BHlCQoI9/nYKp/aFfwkNDZy15XhEIAuUc82J51m1DFjny8jI0BtvvKFFixZp06ZNioiI8JivX7%2B%2BXC6XysrKFBxc8eKnpaUpNTXVYyw5OVnjxo2zWvc5ERE1vbJdX3NqX5AaNKjt6xKqjOMRgSjQzjUnnWfVPmB98cUXevTRRzVx4kTFx8dr06ZNF3xdUFBQpbeZlJSkhIQEj7HQ0FrKyyu4rFrPFxISrIiImsrPL1RpaZnVbfuSU/vCv9g%2BF7yJ4xGBLFDONW%2BeZ74KmdU6YG3btk1PPfWUnn76ad19992SpMjISH333Xcer3O5XKpfv36l7l5JUlRUVLnHgbm5J1VS4p2Lc2lpmde27UtO7QvSHSk7fV1Clfz9j/04HhGQAu2YddJ55pyHnVX05ZdfavLkyXrppZfc4UqSYmJitG/fPpWUlLjHMjIy1K5dO1%2BUCQAAAlC1DFglJSWaMWOGJk2apG7dunnM9ezZU3Xq1NGiRYtUWFiob775RmvWrNGIESN8VC0AAAg01TJgff311zpw4IBmzZql2NhYjz%2B5ublavHixPvnkE3Xu3Fnjx4/XhAkT1KtXL1%2BXDQAAAkS1fA9Wp06dtG/fvku%2B5s0337xC1QAAAKeplgELvvG7F3f5ugQAqFYC6br79z/283UJVlXLR4QAAADeRMACAACwjIAFAABgGQELAADAMgIWAACAZQQsAAAAywhYAAAAlhGwAAAALCNgAQAAWEbAAgAAsIyABQAAYBkBCwAAwDICFgAAgGUELAAAAMsIWAAAAJYRsAAAACwjYAEAAFhGwAIAALCMgAUAAGAZAQsAAMAyAhYAAIBlBCwAAADLCFgAAACWEbAAAAAsI2ABAABYRsACAACwjIAFAABgGQELAADAMgIWAACAZQQsAAAAywhYAAAAloX6ugBcnk7T/9vXJQAAgPNwBwsAAMAyAhYAAIBlBKwLyM7O1ujRo9WlSxf17t1b8%2BbNU1lZma/LAgAAAYL3YF3AE088oTZt2mjr1q06fvy4xowZo2uuuUYPPvigr0sDAAABgIB1noyMDP3jH//QihUrVLduXdWtW1cjR47Ua6%2B9RsACqil%2BmARAVRGwzpOVlaVGjRqpXr167rE2bdro0KFDOnXqlOrUqVPhNnJycpSbm%2BsxFhpaS1FRUVZrDQnhCS8AwDmc9O8aAes8LpdLERERHmPnwtX8W4YAAA%2B7SURBVFZeXl6lAlZaWppSU1M9xh5//HE98cQT9grV2SD3wLXfKikpyXp486WcnBylpaU5ri/Jub05tS%2BJ3gKRU/uSnNtbTk6OFixY4Ki%2BnBMVLTLGXNb3JyUl6d133/X4k5SUZKm6f8nNzVVqamq5u2WBzql9Sc7tzal9SfQWiJzal%2BTc3pzYF3ewzhMZGSmXy%2BUx5nK5FBQUpMjIyEptIyoqyjEJHAAAVB13sM4TExOjo0eP6sSJE%2B6xjIwMNWvWTLVr1/ZhZQAAIFAQsM4THR2t2NhYzZ8/X6dOndKBAwe0YsUKjRgxwtelAQCAABHy7LPPPuvrIvxN9%2B7dtWHDBj333HN6//33NWTIEI0aNUpBQUG%2BLq2c2rVrq3Pnzo67u%2BbUviTn9ubUviR6C0RO7Utybm9O6yvIXO47ugEAAOCBR4QAAACWEbAAAAAsI2ABAABYRsACAACwjIAFAABgGQELAADAMgIWAACAZQQsAAAAywhYAAAAlhGwAlB2drZGjx6tLl26qHfv3po3b57Kysp8XdZFZWdnKzk5WV26dFF8fLymTJmi/Px8HTlyRC1btlRsbKzHn1dffdX9vRs3btSAAQPUoUMHDR48WB9//LF7rqysTC%2B88IJuv/12xcXFadSoUfr%2B%2B%2B%2BvWF8tW7ZUTEyMR%2B3PPfecJCk9PV1DhgxRx44d1b9/f61bt87je1euXKm%2BffuqY8eOGjFihDIzM91zp0%2Bf1n/8x3%2BoR48e6tKli8aNG6e8vLwr1tfnn39ebk1iYmLUsmVLffbZZxdcs02bNvltbzt37lR8fLwmTJhQbu5yji%2BXy6Xx48crPj5e3bp10/Tp01VUVOSe37t3r%2B677z7dcsstSkxM1PLly69YX1u2bNHAgQPVoUMH9e3bV2%2B//bZ7bsGCBWrdunW5Nfzxxx8lVbxGV%2BL6c7He3n33XbVq1apc7bt375YUuGs2Y8aMcj1FR0dr6tSpkqQpU6a4f0/uuT%2BdOnXym74udo2vzL69eQ76nEHAGTRokJkxY4bJz883hw4dMomJiWb58uW%2BLuuifv/735spU6aYU6dOmaNHj5rBgwebadOmme%2B//960aNHiot%2B3Z88eExMTY7Zv326KiorM2rVrTbt27czRo0eNMcasXLnS9O7d2%2Bzfv9%2BcPHnS/Od//qcZMGCAKSsruyJ9tWjRwnz//fflxn/44QfTvn17s3r1alNUVGR27dpl2rZta3bv3m2MMeaDDz4wnTp1Ml9//bUpLCw0S5YsMV27djUFBQXGGGPmzJljBg8ebP7v//7P5OXlmccff9yMGTPmivR0MYsWLTJ/%2BMMfzKeffmp69%2B590df5W29Lly41iYmJZvjw4Wb8%2BPEec5d7fD3%2B%2BONm9OjR5vjx4%2BbYsWMmKSnJPPfcc8YYYwoLC0337t3NggULTEFBgcnMzDSdO3c2mzdv9npf33zzjYmNjTX/8z//Y4qLi8327dtNmzZtzOeff26MMebll182kydPvui2K1ojb19/LtXbO%2B%2B8Y%2B67776Lfm%2Bgrtn5iouLTf/%2B/c327duNMcZMnjzZvPzyyxd9vS/7Mubi1/iK9u3Nc9AfELACzO7du03r1q2Ny%2BVyj/31r381ffv29WFVF/fTTz%2BZKVOmmNzcXPfY66%2B/bhITEysMWDNnzjTJyckeY0OHDjVLliwxxhjTv39/89prr7nnTp48aaKjo81XX31luYsLu1jAWrZsmbn77rs9xsaPH2%2BefvppY4wxo0ePNrNnz3bPlZaWmq5du5oNGzaY4uJic8stt5itW7e65/fv329atmxpjh075qVOLi07O9t07tzZZGdnVxiw/K231157zeTn55vJkyeX%2B0ftco6v3Nxc06pVK7N37173/I4dO0z79u3NmTNnzKZNm8ytt95qSkpK3PPz5s0zDz30kNf72rFjh0lNTfUYGzRokFm0aJEx5tIBq6I1uhLXn0v1VlHACtQ1O9%2ByZcvMI4884v76UgHL131d6hpf0b69eQ76Ax4RBpisrCw1atRI9erVc4%2B1adNGhw4d0qlTp3xY2YVFRERozpw5uuaaa9xjR48eVVRUlPvrf//3f1e3bt106623av78%2BSouLpZ0ttfo6GiP7UVHRysjI0NFRUXav3%2B/x3ydOnXUpEkTZWRkeLmrf5k/f7569eqlTp066emnn1ZBQcFF6z73qOz8%2BeDgYLVu3VoZGRk6fPiwTp48qTZt2rjnb775Zl111VXKysq6Mk2d56WXXtI999yj3/72t5KkgoIC9%2BOA7t27a8WKFTL//3fG%2B1tv999/v%2BrWrXvBucs5vvbu3auQkBC1bNnSPd%2BmTRv9/PPPOnjwoLKystSyZUuFhIR4bPuXj0u91VePHj2UnJzs/rqkpES5ublq2LChe2zfvn0aPny4%2BxH2uccyFa3Rlbj%2BXKo36ez148EHH1RcXJxuv/12rV27VpICes1%2BKT8/X4sXL9ZTTz3lMf7pp5/q7rvvVocOHTRkyBB3Xb7u61LX%2BIr27c1z0B8QsAKMy%2BVSRESEx9i5i92VfJ/Or5WRkaE33nhDjz76qMLCwtShQwfdcccd%2BvDDD7V06VKtW7dOf/7znyWd7fWXF3LpbK95eXn66aefZIy56PyV0L59e8XHx2vLli1KS0vT119/rZkzZ15wjerXr%2B%2Bu61J9uVwuSSr3/RERET5Z3yNHjmjLli168MEHJZ29wLVo0UIPPPCAdu7cqTlz5ig1NVXvvPOOpMDq7XKOL5fLpTp16igoKMhjTpJ7/kLHgMvluuLvl0xJSVGtWrV05513SpKuvfZaNW7cWM8//7x27dqloUOHauzYsTp48GCFa%2BTr609kZKSaNm2qp556Srt27dKTTz6padOmKT093TFr9sYbbyguLk7Nmzd3jzVu3FhNmjTRkiVLtHPnTnXq1EkPPfSQX/b1y2t8Rfv25jnoDwhYAejc3YJA88UXX2jUqFGaOHGi4uPjFRUVpbfeekt33HGHatSoobZt22rMmDF699133d9TUa%2B%2B/G%2BRlpamoUOHKiwsTDfffLMmTZqkDRs2uO/AXYo/9/VLq1atUmJion7zm99IOvt/iK%2B//ro6d%2B6ssLAwdevWTcOHDw%2BYNTvf5dT6a/r45T8G3maM0bx587RhwwYtWrRI4eHhkqShQ4fq5ZdfVpMmTVSzZk2NHDlSrVu39vhBDNt929KrVy8tW7ZM0dHRCgsLU//%2B/XXHHXdU%2Bvjz9zUrLS3VqlWrdP/993uMJycna/bs2WrYsKHq1Kmjp556SmFhYdq6dask/%2Bnr/Gt8ZfZ9pc/BK4mAFWAiIyPd/5d5jsvlUlBQkCIjI31UVcW2bdum0aNHa9q0aeUuHr/UqFEj/fjjjzLGqEGDBhfsNTIyUvXr11dwcPAF56%2B%2B%2Bmqv9FCR66%2B/XqWlpResKy8vz70%2Bl%2Brr3GvOn//pp5980tfmzZuVkJBwydc0atRIOTk5kgKrt8s5viIjI3Xq1CmVlpZ6zElyz5//f9Eul8u9XW8rKyvTlClTtG3bNr355pu66aabLvn6c2tY0Rr54/XnXO2BvmbS2Z/gPXPmjMdPCF5ISEiIrrvuOvea%2BUNfF7rGV7Rvb56D/oCAFWBiYmJ09OhRnThxwj2WkZGhZs2aqXbt2j6s7OK%2B/PJLTZ48WS%2B99JLuvvtu93h6eroWLVrk8dqDBw%2BqUaNGCgoKUkxMTLn3CWRkZKhdu3YKDw9X8%2BbNPd67k5%2Bfr8OHD6tt27bebUjSnj17NHfuXI%2BxAwcOKCwsTD179ixXd2Zmptq1ayfp7Br%2Bsu7S0lLt2bNH7dq1U%2BPGjVWvXj2P%2BX/%2B8586c%2BaMYmJivNhReXv37lV2dra6du3qHtu0aZP%2B%2Bte/erzu4MGDaty4saTA6e1crb/2%2BGrdurWMMfrHP/7h8b0RERG68cYbFRMTo3379qmkpKTctq%2BE2bNn69tvv9Wbb77pXptz/vznPys9Pd1j7MCBA2rcuHGFa%2BTr68%2Bbb76pjRs3XrD2QF8zSfrggw906623KjQ01D1mjNGcOXM86j5z5owOHz6sxo0b%2B0VfF7vGV7Rvb56D/oCAFWDOfRbK/PnzderUKR04cEArVqzQiBEjfF3aBZWUlGjGjBmaNGmSunXr5jFXt25dLVy4UGvXrlVxcbEyMjL06quvunsZNmyYPvnkE23fvl2nT5/WmjVr9N1332ngwIGSpBEjRmjlypU6cOCATp06pZSUFPfn%2B3jb1VdfrbS0NC1dulRnzpzRoUOH9NJLLykpKUl33XWXsrOztXr1ap0%2BfVo7duzQjh07NGzYMHfd7733nr7%2B%2BmsVFhZq0aJFCgsLU69evRQSEqJhw4Zp8eLFOnr0qPLy8vSnP/1Jd9xxh8ebSK%2BEPXv2qH79%2BqpTp457rEaNGnr%2B%2Bef18ccfq7i4WLt27dI777zjXrNA6U26vOMrMjJSffv21YsvvqgTJ07o2LFjWrhwoYYMGaLQ0FD17NlTderU0aJFi1RYWKhvvvlGa9asuSLn6RdffKF169Zp6dKlql%2B/frl5l8ulmTNn6uDBgzp9%2BrSWL1%2Buw4cPa9CgQRWuka%2BvP2fOnNFzzz2njIwMFRcXa8OGDfroo480fPhwSYG7Zufs3btX119/vcdYUFCQjhw5opkzZ%2BqHH35QQUGBUlJSVKNGDfXp08fnfV3qGl/Rvr15DvqFK/GjirDr6NGj5uGHHzZt27Y18fHx5uWXX75in/1UVZ9//rlp0aKFiYmJKffnyJEjZsuWLWbgwIGmbdu2pmvXrmbx4sWmtLTU/f2bN282iYmJpk2bNuauu%2B4yf/vb39xzZWVl5qWXXjK33Xabadu2rXnkkUfcn59yJfztb38zSUlJpn379qZz585mzpw5pqioyD03cOBA06ZNG5OYmFjuM2dWrVplevbsaWJiYsyIESPMvn373HOnT582zz77rImLizMdOnQwTz75pMnPz79ifZ2zePFi079//3Ljb731lklMTDSxsbGmd%2B/e5u233/aY96fezh1rrVq1Mq1atXJ/fc7lHF/5%2BflmwoQJpn379iYuLs7MnDnTnD592j2/b98%2BM3z4cBMTE2N69eplVq1adUX6mjp1qsfYuT8PPvigMcaYoqIi88c//tF0797dxMbGmkGDBpkvv/zSve2K1sjb159L9VZWVmYWLlxoevfubWJiYky/fv3Mtm3b3N8bqGt2TmJiolm2bFm5783LyzNTpkwx8fHxpm3btua%2B%2B%2B4z%2B/fv94u%2BKrrGV7Rvb56DvhZkjJ%2B/SwwAACDA8IgQAADAMgIWAACAZQQsAAAAywhYAAAAlhGwAAAALCNgAQAAWEbAAgAAsIyABQAAYBkBCwAAwDICFgAAgGUELAAAAMsIWAAAAJYRsAAAACz7f4NBWw8NGGPMAAAAAElFTkSuQmCC\"/>\n",
              "        </div>\n",
              "        <div role=\"tabpanel\" class=\"tab-pane col-md-12\" id=\"common-7133758896445380073\">\n",
              "            \n",
              "<table class=\"freq table table-hover\">\n",
              "    <thead>\n",
              "    <tr>\n",
              "        <td class=\"fillremaining\">Value</td>\n",
              "        <td class=\"number\">Count</td>\n",
              "        <td class=\"number\">Frequency (%)</td>\n",
              "        <td style=\"min-width:200px\">&nbsp;</td>\n",
              "    </tr>\n",
              "    </thead>\n",
              "    <tr class=\"\">\n",
              "        <td class=\"fillremaining\">6673.909711092488</td>\n",
              "        <td class=\"number\">1</td>\n",
              "        <td class=\"number\">0.2%</td>\n",
              "        <td>\n",
              "            <div class=\"bar\" style=\"width:1%\">&nbsp;</div>\n",
              "        </td>\n",
              "</tr><tr class=\"\">\n",
              "        <td class=\"fillremaining\">6746.281083820821</td>\n",
              "        <td class=\"number\">1</td>\n",
              "        <td class=\"number\">0.2%</td>\n",
              "        <td>\n",
              "            <div class=\"bar\" style=\"width:1%\">&nbsp;</div>\n",
              "        </td>\n",
              "</tr><tr class=\"\">\n",
              "        <td class=\"fillremaining\">14352.643773230728</td>\n",
              "        <td class=\"number\">1</td>\n",
              "        <td class=\"number\">0.2%</td>\n",
              "        <td>\n",
              "            <div class=\"bar\" style=\"width:1%\">&nbsp;</div>\n",
              "        </td>\n",
              "</tr><tr class=\"\">\n",
              "        <td class=\"fillremaining\">15924.071707885845</td>\n",
              "        <td class=\"number\">1</td>\n",
              "        <td class=\"number\">0.2%</td>\n",
              "        <td>\n",
              "            <div class=\"bar\" style=\"width:1%\">&nbsp;</div>\n",
              "        </td>\n",
              "</tr><tr class=\"\">\n",
              "        <td class=\"fillremaining\">3942.389134492165</td>\n",
              "        <td class=\"number\">1</td>\n",
              "        <td class=\"number\">0.2%</td>\n",
              "        <td>\n",
              "            <div class=\"bar\" style=\"width:1%\">&nbsp;</div>\n",
              "        </td>\n",
              "</tr><tr class=\"\">\n",
              "        <td class=\"fillremaining\">15866.913937696345</td>\n",
              "        <td class=\"number\">1</td>\n",
              "        <td class=\"number\">0.2%</td>\n",
              "        <td>\n",
              "            <div class=\"bar\" style=\"width:1%\">&nbsp;</div>\n",
              "        </td>\n",
              "</tr><tr class=\"\">\n",
              "        <td class=\"fillremaining\">17532.16478349903</td>\n",
              "        <td class=\"number\">1</td>\n",
              "        <td class=\"number\">0.2%</td>\n",
              "        <td>\n",
              "            <div class=\"bar\" style=\"width:1%\">&nbsp;</div>\n",
              "        </td>\n",
              "</tr><tr class=\"\">\n",
              "        <td class=\"fillremaining\">16458.398097731253</td>\n",
              "        <td class=\"number\">1</td>\n",
              "        <td class=\"number\">0.2%</td>\n",
              "        <td>\n",
              "            <div class=\"bar\" style=\"width:1%\">&nbsp;</div>\n",
              "        </td>\n",
              "</tr><tr class=\"\">\n",
              "        <td class=\"fillremaining\">16330.081190027211</td>\n",
              "        <td class=\"number\">1</td>\n",
              "        <td class=\"number\">0.2%</td>\n",
              "        <td>\n",
              "            <div class=\"bar\" style=\"width:1%\">&nbsp;</div>\n",
              "        </td>\n",
              "</tr><tr class=\"\">\n",
              "        <td class=\"fillremaining\">13316.767286164832</td>\n",
              "        <td class=\"number\">1</td>\n",
              "        <td class=\"number\">0.2%</td>\n",
              "        <td>\n",
              "            <div class=\"bar\" style=\"width:1%\">&nbsp;</div>\n",
              "        </td>\n",
              "</tr><tr class=\"other\">\n",
              "        <td class=\"fillremaining\">Other values (495)</td>\n",
              "        <td class=\"number\">495</td>\n",
              "        <td class=\"number\">98.0%</td>\n",
              "        <td>\n",
              "            <div class=\"bar\" style=\"width:100%\">&nbsp;</div>\n",
              "        </td>\n",
              "</tr>\n",
              "</table>\n",
              "        </div>\n",
              "        <div role=\"tabpanel\" class=\"tab-pane col-md-12\"  id=\"extreme-7133758896445380073\">\n",
              "            <p class=\"h4\">Minimum 5 values</p>\n",
              "            \n",
              "<table class=\"freq table table-hover\">\n",
              "    <thead>\n",
              "    <tr>\n",
              "        <td class=\"fillremaining\">Value</td>\n",
              "        <td class=\"number\">Count</td>\n",
              "        <td class=\"number\">Frequency (%)</td>\n",
              "        <td style=\"min-width:200px\">&nbsp;</td>\n",
              "    </tr>\n",
              "    </thead>\n",
              "    <tr class=\"\">\n",
              "        <td class=\"fillremaining\">0.0</td>\n",
              "        <td class=\"number\">1</td>\n",
              "        <td class=\"number\">0.2%</td>\n",
              "        <td>\n",
              "            <div class=\"bar\" style=\"width:100%\">&nbsp;</div>\n",
              "        </td>\n",
              "</tr><tr class=\"\">\n",
              "        <td class=\"fillremaining\">610.4462190811464</td>\n",
              "        <td class=\"number\">1</td>\n",
              "        <td class=\"number\">0.2%</td>\n",
              "        <td>\n",
              "            <div class=\"bar\" style=\"width:100%\">&nbsp;</div>\n",
              "        </td>\n",
              "</tr><tr class=\"\">\n",
              "        <td class=\"fillremaining\">1617.2257000775644</td>\n",
              "        <td class=\"number\">1</td>\n",
              "        <td class=\"number\">0.2%</td>\n",
              "        <td>\n",
              "            <div class=\"bar\" style=\"width:100%\">&nbsp;</div>\n",
              "        </td>\n",
              "</tr><tr class=\"\">\n",
              "        <td class=\"fillremaining\">2494.55627432471</td>\n",
              "        <td class=\"number\">1</td>\n",
              "        <td class=\"number\">0.2%</td>\n",
              "        <td>\n",
              "            <div class=\"bar\" style=\"width:100%\">&nbsp;</div>\n",
              "        </td>\n",
              "</tr><tr class=\"\">\n",
              "        <td class=\"fillremaining\">2838.8158208359087</td>\n",
              "        <td class=\"number\">1</td>\n",
              "        <td class=\"number\">0.2%</td>\n",
              "        <td>\n",
              "            <div class=\"bar\" style=\"width:100%\">&nbsp;</div>\n",
              "        </td>\n",
              "</tr>\n",
              "</table>\n",
              "            <p class=\"h4\">Maximum 5 values</p>\n",
              "            \n",
              "<table class=\"freq table table-hover\">\n",
              "    <thead>\n",
              "    <tr>\n",
              "        <td class=\"fillremaining\">Value</td>\n",
              "        <td class=\"number\">Count</td>\n",
              "        <td class=\"number\">Frequency (%)</td>\n",
              "        <td style=\"min-width:200px\">&nbsp;</td>\n",
              "    </tr>\n",
              "    </thead>\n",
              "    <tr class=\"\">\n",
              "        <td class=\"fillremaining\">18794.488169074688</td>\n",
              "        <td class=\"number\">1</td>\n",
              "        <td class=\"number\">0.2%</td>\n",
              "        <td>\n",
              "            <div class=\"bar\" style=\"width:100%\">&nbsp;</div>\n",
              "        </td>\n",
              "</tr><tr class=\"\">\n",
              "        <td class=\"fillremaining\">18868.24161249696</td>\n",
              "        <td class=\"number\">1</td>\n",
              "        <td class=\"number\">0.2%</td>\n",
              "        <td>\n",
              "            <div class=\"bar\" style=\"width:100%\">&nbsp;</div>\n",
              "        </td>\n",
              "</tr><tr class=\"\">\n",
              "        <td class=\"fillremaining\">19047.77233878285</td>\n",
              "        <td class=\"number\">1</td>\n",
              "        <td class=\"number\">0.2%</td>\n",
              "        <td>\n",
              "            <div class=\"bar\" style=\"width:100%\">&nbsp;</div>\n",
              "        </td>\n",
              "</tr><tr class=\"\">\n",
              "        <td class=\"fillremaining\">19201.11991627576</td>\n",
              "        <td class=\"number\">1</td>\n",
              "        <td class=\"number\">0.2%</td>\n",
              "        <td>\n",
              "            <div class=\"bar\" style=\"width:100%\">&nbsp;</div>\n",
              "        </td>\n",
              "</tr><tr class=\"\">\n",
              "        <td class=\"fillremaining\">20000.0</td>\n",
              "        <td class=\"number\">1</td>\n",
              "        <td class=\"number\">0.2%</td>\n",
              "        <td>\n",
              "            <div class=\"bar\" style=\"width:100%\">&nbsp;</div>\n",
              "        </td>\n",
              "</tr>\n",
              "</table>\n",
              "        </div>\n",
              "    </div>\n",
              "</div>\n",
              "</div>\n",
              "    <div class=\"row headerrow highlight\">\n",
              "        <h1>Correlations</h1>\n",
              "    </div>\n",
              "    <div class=\"row variablerow\">\n",
              "    <img src=\"data:image/png;base64,iVBORw0KGgoAAAANSUhEUgAAAtcAAAIVCAYAAAAartPiAAAABHNCSVQICAgIfAhkiAAAAAlwSFlzAAAPYQAAD2EBqD%2BnaQAAADh0RVh0U29mdHdhcmUAbWF0cGxvdGxpYiB2ZXJzaW9uMy4xLjEsIGh0dHA6Ly9tYXRwbG90bGliLm9yZy8QZhcZAAAgAElEQVR4nOzde3zPdf/H8ec2zGGMsSEmxw3b1GjNqbAR6TDJGq6Kksh5kcshIXScRCRUDleplbmicV1dJqqfVJeImWObcgib7IsxdvD9/eHy%2BfpmMj6f7Ut73G%2B3723b%2B3P4vr5v0svT%2B/P5uNntdrsAAAAAmObu6gIAAACAvwqaawAAAMAiNNcAAACARWiuAQAAAIvQXAMAAAAWobkGAAAALEJzDQAAAFiE5hoAAACwCM01AAAAYBGaawAAAMAiNNcAAAC44X3zzTdq3bq1YmNj/3S/8%2BfPa8aMGYqMjFRYWJj69eunAwcOGNttNptGjBih1q1bq23btho/frzOnj1rWZ001wAAALihLViwQFOnTtWtt9561X0//PBDff7555o/f77WrVununXravDgwbLb7ZKkCRMmKDs7W4mJiUpISFBqaqri4uIsq5XmGgAAADc0T09PLVu2rFDNdXx8vPr27asGDRrIy8tLsbGxSk1N1datW3Xs2DElJSUpNjZWPj4%2Bql69ugYNGqSEhATl5uZaUmspS84CAAAAXEF6eroyMjKcxnx9feXn51eo4x9//PFC7Xf27Fn9/PPPatq0qTHm5eWlW2%2B9VcnJyTp16pQ8PDwUGBhobA8KCtKZM2eUlpbmNH69aK4BQPrTP1BLly6typUrKzg4WN26dVPnzp3l5uZWjNUBQDEqgj/f4mfN0uzZs53GhgwZoqFDh1r6PidOnJDdbpe3t7fTuLe3tzIzM1W5cmV5eXk5/Rl%2Bcd/MzExLaqC5BoBLNGvWTL6%2Bvk5j586dU1pamtatW6d169apQ4cOmjVrlsqUKeOiKgHg5hITE6OIiAinsT/%2BWWuli%2Burr3WbFWiuAeASAwYMUMeOHQvclpSUpOeee07r1q3TjBkz9Pe//72YqwOAYuBu/SV5fn5%2BhV4CYkblypXl7u4um83mNG6z2VS1alX5%2BPgoKytL%2Bfn58vDwMLZJUtWqVS2pgQsaAaCQOnbsqJEjR0qSPvroI507d87FFQEALuXp6alGjRopJSXFGDt58qT279%2BvZs2aqUmTJrLb7dq1a5exPTk5WZUqVVK9evUsqYHmGgCuwT333CNJys7O1o4dOy7bvnHjRg0ZMkRt27ZVcHCwWrZsqb59%2B%2Brzzz%2B/4jltNptmzJihbt26KTQ0VEFBQWrdurUGDhyo77//vsBjIiIiFBgYqK%2B//lpr1qxR165dFRISoh9//NHYZ8%2BePRozZow6duyokJAQhYaGqnPnzpowYYJ2795d4HlPnTql2bNn66GHHlLz5s0VEhKiDh06aOTIkUpOTr5s/4MHDyowMFCBgYE6d%2B6cduzYoaFDhxqfPyIiQtOmTdOZM2f%2BdF4B3EDc3a1/FaGjR4%2BqS5cuxr2se/XqpSVLlig1NVVZWVmKi4tTkyZNFBISIh8fH3Xu3Flvvvmmjh8/riNHjmjOnDnq0aOHSpWyZkEHy0IA4BpUrlzZ%2BP7kyZNO22bMmKF33nlHklSvXj0FBgbq8OHD2rhxozZu3Ki1a9dq%2BvTpxj9FSlJGRoZiYmJ06NAheXp6KiQkRGXLllVqaqrWrVun9evXa9q0aXr44YcLrCctLU1xcXFq0KCBWrZsqbJly0qSfvjhB/Xr1085OTny8/NTixYt5O7urt27d%2BuTTz7RypUr9c4776hVq1bGuQ4dOqQ%2BffrowIEDKlOmjEJCQlShQgXt3btXiYmJWr16taZMmaIePXoUWMvmzZv1zDPPyMfHR40bN9bRo0e1Z88eLVmyRGlpaXrvvfeub9IBlHghISGSpLy8PEkXlulJF1Ln3Nxc7du3Tzk5OZKknj17KiMjQ4899phOnz6t8PBwp4spX3zxRU2cOFGRkZEqXbq07r///qs%2BmOaa2AEA9oCAAHtAQIB9zZo1f7pfamqqse%2B2bduM8f/85z/2gIAAe1hYmP377793OuaHH36wt27d2h4QEGBfuHCh07apU6faAwIC7J07d7YfO3bMGM/Ly7NPmzbNHhAQYG/RooU9KyvL6bgOHTrYAwIC7BEREfa5c%2BdeVmd0dLQ9ICDA/sorr9jz8/Odzjtjxgx7QECA/f7773c6pnfv3vaAgAB79%2B7d7UePHjXG8/Pz7W%2B99ZY9ICDAHhwcbE9LSzO2HThwwJiP9u3b2%2BfPn28/f/68sf2f//ynsX3nzp1/NrUAbhRlylj/KkFYFgIA1%2BA///mPpAu3bmrSpIkxPnfuXEnS3//%2Bd915551Ox4SFhWn06NGSpMWLFztt8/Pz03333achQ4Y4XUzj4eGh2NhYubu769SpU/rpp58KrOf8%2BfN6%2BumnLxvfuXOnJKl79%2B5yv%2BSfZD08PDRs2DANGzZMjz32mJH0bN26VZs2bZIkvfbaa04XHrm7u2vIkCEKCgpSTk6OPv744wJradSokfr37%2B90i6uoqCj5%2BPgY7wHgJnCTLQu50bAsBAAK6auvvtK8efMkSU899ZSxPu/o0aPGxTOdOnUq8NiOHTvKzc1Nv/32m/bt22dcONO/f/8rvl%2B5cuVUtWpVZWRkXPbwhYtatmzp1DxfVKlSJR07dkyrV6/W8OHDnba5u7tr8ODBTmPffPONpAv3%2B27QoMEVP0NKSoo2btxY4PYHHnjgsjE3Nzf5%2B/vr%2BPHjlt1DFgBuZDTXAHCJefPmafny5U5jOTk5%2BuWXX4yLZbp3766nnnrK2L5nzx7j%2BzFjxlzx3KVKlVJubq5%2B%2BeUXp6vSc3Jy9NVXX2n79u1KT0/XyZMnjfuwnjp1StKFhLog1atXL3C8T58%2Bmj59ut5%2B%2B2198803uv/%2B%2B9WqVasrPizn559/lnQhfb6S%2BvXrS7qwzrsgderUKXDc09NTkix7tDCAIlbCkmar0VwDwCW2bdt22ZiHh4eqVKmiyMhIxcTEqF27dk7bT5w4YXy/du3aq77HxYZZknbt2qXBgwfr4MGD11XvH59CdtHFpSLz5s1TcnKycacPX19fdenSRX369JG/v/9lNVWqVOmK71WxYkVJF5rks2fPGhdPXsRDdQCA5hoAnMyZM%2BeKD5G5kotrjEuXLq3k5ORCPxr97NmzeuaZZ/Tbb7%2Bpbt26GjRokFq1aqUqVaqodOnSki7ccu/QoUNXfe%2BCPP300%2BrZs6eSkpL01Vdf6dtvv1VGRob%2B8Y9/KD4%2BXq%2B99pruvffeQn9O%2ByVPNStoKQqAvwj%2B%2BzaF5hoATLp4e77c3FxlZmYaF/Bdzddff63ffvtNbm5umj9/vm699dbL9jl79qyp2ipVqqTu3bure/fuys/P17fffqs5c%2BZoy5YtGj9%2BvFq2bKkqVaoYCfgfby94qYvbypYtS0oN/JXRXJvC7AGASQEBAcb3e/fuLfRxv/zyi6QLa5ULaqz379%2Bv33//3XR9F3l4eOiuu%2B7SkiVLVL16dZ0%2BfdpYBnNxrfWl68f/6OK2P1uXDQAlHc01AJjk6%2BuroKAgSdInn3xS4D779u1TVFSUccs%2BybGG%2BUqPUZ8zZ47xfX5%2BfqHr2bp1q8aNG6f333%2B/wO1lypRRtWrVJDmS8YvryPfs2VNgg33%2B/HnjNoR33XVXoWsBcBPiVnymlKxPCwBFZODAgZKkxMRELVq0yGl98q%2B//qphw4Zp165dOnz4sDHeuHFjSdKRI0eMp41JFx6tPnXqVCUnJys0NFTSle/QURAPDw8lJCRo1qxZWr9%2B/WXb16xZo507d6p06dJq3ry5JKlp06Zq27atJGncuHE6fvy4sX9eXp5ef/11paamqmLFiurZs2ehawGAkoY11wBggXvuuUdPP/205s%2Bfr5dffllLlixR/fr1lZmZqZ07dyo/P19NmzbVqFGjjGNCQ0PVtm1b/d///Z%2BGDh2q2267TZ6entq%2BfbtKlSqlhQsXatWqVdqyZYuWLFmi3bt365lnnlFYWNif1hIcHKwnn3xS77//vgYMGKBatWrp1ltvlbu7uw4ePGgsRxk/frx8fX2N41566SX16dNHycnJioiIUEBAgDw9PbV3715lZmaqbNmymj59%2BhVv/wfgL6KEJc1Wo7kGAIuMHDlSrVu31gcffKCffvpJGzdulKenp4KDg9W1a1f17t37sgsB33zzTcXFxWnt2rXavn27/Pz81LlzZw0cOFB16tRRjRo1tGPHDm3evFl79%2B4t9J1I/v73vyssLEyfffaZtm/fri1btigvL0%2B%2Bvr66//779eijjxqp%2BEXVq1fXsmXLtGjRIq1Zs0Z79%2B5VXl6eqlevrnvuuUf9%2BvUrcG04gL8YmmtT3OyX/tslAAAASrZL/kXLMld4yuxfEck1AAAAHEiuTWH2AAAAAIuQXAMAAMCB5NoUZs9i//d//6fAwEBNnjzZ1aUAAABcO%2B5zbUrJ%2BrTF4NNPP9V9992nVatWXfHBEAAAAPhrorm2UGZmpr788ksNGzZMVapU0Zo1a4xtx48fV58%2BfdSsWTNFRUXpq6%2B%2BUmBgoA4ePChJOnTokAYOHKjw8HCFhYVp9OjRysrKctVHAQAAJRXJtSkl69MWsRUrVqhJkyaqW7euHnjgAS1btszYNn78eOXm5urrr7/Wm2%2B%2BqZkzZxrb7Ha7Bg0apJo1a2r9%2BvX697//raNHj%2BrVV1%2B9pvdPT09XSkqK0ys9Pd2yzwcAAIA/R3NtoWXLlikqKkqSFBUVpe%2B//14HDx7U%2BfPn9c033%2BjJJ59U5cqVVa9ePcXExBjHJScna%2B/evXruuedUrlw5Va1aVUOHDtXKlSt1Lbchj4%2BPV/fu3Z1e8R99ZPnnBAAARWzuXNe9N8m1KdwtxCI//fSTfvnlF917772SJH9/f91%2B%2B%2B1avny5Hn30UeXm5qpWrVrG/iEhIcb3Bw4cUH5%2BvsLDw53OmZ%2Bfr8zMTPn4%2BBSqhpiYGEVERDiN%2BT7wgLR48fV%2BrJtT48bS0qVS797Srl2urqZY9ai/2dUlFLt69aTXX5eee07at8/V1RSvAQNcXUHxq1hRatlS%2Bu476dQpV1dT/DrZPnV1CcWrcmWpUydpzRrJZnN1NSVHCWuGrUZzbZFPP/1UeXl5ioyMNMZyc3N19OhR/e1vf5MklSrlmG73S37jenp6qnz58tqyZYupGvz8/OTn5%2Bc8WNK6jUvt2iWZnNObzc4SfA3tvn3Szp2urqJ4leRe49SpEvr5jx1zdQWuYbOV3M%2BOmw7NtQVOnz6t1atXa/LkyWrZsqUxnp2drR49emjHjh3y8PDQb7/9pkaNGkm6sBTkojp16ujMmTM6cOCA/P39JUlZWVnKzc1VlSpVivfDAACAko3k2hSaawusXr1anp6eeuihh1SmTBmnbREREVq%2BfLnuuOMOLVy4UM2bN9exY8f06aeOf9oLCAhQaGiopk2bppdeekmlSpXS5MmTdfLkSS1YsKC4Pw4AAACuE381sUBCQoIeeOCByxprSXr44YeVlJSk0aNH6%2BTJk2rTpo3Gjh2rAf9bLHlxecj06dNlt9sVGRmpTp06KT8/X6%2B88kqxfg4AAAAuaDSH5NoCH3/88RW3tWvXzlgC8vHHHxsN%2BHfffSd3d3dVq1ZNklSrVi3Nmzev6IsFAAD4MyWsGbYas1dMxo0bp/79%2B%2BvkyZM6deqUFi5cqNatWxeYdgMAAODmRHNdTJ577jl5e3urY8eO6tixozw8PDRt2jRXlwUAAOCMZSGmsCykmFSpUkWzZs1ydRkAAAAoQjTXAAAAcChhSbPVaK4BAADgQHNtCrMHAAAAWITkGgAAAA4k16bQXAMAAMCB5toUZg8AAACwCMk1AAAAHEiuTWH2AAAAAIuQXAMAAMCB5NoUmmsAAAA40FybwuwBAAAAFiG5BgAAgAPJtSnMHgAAAGARkmsAAAA43IDJ9aFDhzR58mRt3bpV5cuXV9euXTVy5Ei5/6HWJ598Uv/973%2BdxvLy8jR48GANGTJEjz32mDZv3ux0XL169bRy5UrLaqW5BgAAgMMN2FwPHTpUQUFBSkpK0u%2B//64BAwaoWrVqeuKJJ5z2e//9951%2BPnnypLp27apOnToZY1OmTFH37t2LrNYbb/YAAACA/0lOTtauXbs0atQoVaxYUXXr1lXfvn0VHx9/1WPffPNNderUSYGBgcVQ6QUk1wAAAHAoguQ6PT1dGRkZTmO%2Bvr7y8/O76rEpKSmqVauWvL29jbGgoCDt27dPWVlZ8vLyKvC4X3/9VZ999pmSkpKcxlevXq13331Xhw8f1m233aYXX3xRderUuY5PVTCSawAAABSp%2BPh4de/e3elVmORZkmw2mypVquQ0drHRzszMvOJx8%2BfP18MPPywfHx9jrEGDBmrUqJGWLl2qtWvXysfHR0899ZRycnKu41MVjOQaAAAADkWQXMfExCgiIsJpzNfXt9DH2%2B32a3o/m82mFStW6F//%2BpfT%2BKRJk5x%2BfvHFFxUeHq4ff/xRrVq1uqb3uBKaawAAADgUQXPt5%2BdXqCUgBfHx8ZHNZnMas9lscnNzc0qlL7V27VrVq1dP/v7%2Bf3puLy8veXt76%2BjRo9dVW0FYFgIAAIAbVnBwsA4fPqzjx48bY8nJyWrYsKEqVKhQ4DFr165VmzZtnMaysrI0adIkp0b6%2BPHjOn78%2BFWb8GtBcw0AAAAHd3frXyY0bdpUISEhmj59urKyspSamqqFCxeqV69ekqQuXbpo06ZNTsfs3LlTtWvXdhrz8vLS1q1bNXXqVNlsNp04cUKTJ09WYGCgQkNDTdV4KZprAAAA3NBmzZql9PR0tWnTRo8//ri6deum3r17S5L27dunM2fOOO2fkZGhatWqXXaeOXPmyG63q3Pnzmrfvr1yc3M1f/78yx5GYwZrrgEAAOBwAz5EpkaNGlqwYEGB23bv3n3Z2Pbt2wvc95ZbbtHs2bMtre2PaK4BAADgcAM21zcTZg8AAACwCMk1AAAAHEiuTWH2AAAAAIuQXAMAAMCB5NoUmmsAAAA40FybwuwBAAAAFiG5BgAAgAPJtSnMHgAAAGARkmsAAAA4kFybQnMNAAAAB5prU5g9AAAAwCIk1wAAAHAguTaF2QMAAAAsQnINAAAAB5JrU2iuAQAA4EBzbQqzBwAAAFiE5BoAAAAOJNemMHsAAACARUiuAQAA4EBybQrNNQAAABxork1h9gAAAACLkFwDAADAgeTaFGYPAAAAsAjJNQAAABxIrk2huQYAAIADzbUpzB4AAABgEZLrv7igpnZXl1DsmtSXlknqUX%2Bzdp5zdTXFK2WHm6tLKH6eoZI2a1lac2nHFldXU7zqb3J1BcWvXDlJTdWp1g7JJ9vV1RS7uceecXUJxaqapGhJnypax1xdjAu47Feb5NoUmmsAAAA40FybwuwBAAAAFiG5BgAAgAPJtSnMHgAAAGARkmsAAAA4kFybQnMNAAAAB5prU5g9AAAAwCIk1wAAAHAguTaF2QMAAAAsQnINAAAAB5JrU2iuAQAA4EBzbQqzBwAAAFiE5BoAAAAOJNemMHsAAACARUiuAQAA4HADJteHDh3S5MmTtXXrVpUvX15du3bVyJEj5f6HWt966y29/fbbKlXKucVdt26dqlWrpnPnzmnatGlav369zp07p/DwcE2ePFlVqlSxrNYbb/YAAADgOu7u1r9MGjp0qKpXr66kpCQtXLhQSUlJWrx4cYH7RkVFKTk52elVrVo1SdKMGTOUkpKi%2BPh4ffHFF7Lb7Ro7dqzp%2Bi5Fcw0AAIAbVnJysnbt2qVRo0apYsWKqlu3rvr27av4%2BPhrOk9eXp6WLVumQYMGqWbNmqpcubJGjBih9evX6%2BjRo5bVy7IQAAAAOBTBspD09HRlZGQ4jfn6%2BsrPz%2B%2Bqx6akpKhWrVry9vY2xoKCgrRv3z5lZWXJy8vLaf/du3erZ8%2Be2rNnj2rWrKmxY8eqbdu22r9/v06dOqWgoCBj3wYNGqhs2bJKSUlR9erVTX7KC2iuAQAAUKTi4%2BM1e/Zsp7EhQ4Zo6NChVz3WZrOpUqVKTmMXG%2B3MzEyn5rpGjRry9/fXyJEj5efnp/j4eA0cOFArV66UzWaTpMvOValSJWVmZl7X5yoIzTUAAAAciiC5jomJUUREhNOYr69voY%2B32%2B2F2i86OlrR0dHGz3379tWqVau0cuVK3X333dd0rutFcw0AAACHImiu/fz8CrUEpCA%2BPj5G6nyRzWaTm5ubfHx8rnp8rVq1lJ6ebuxrs9lUoUIFY/uJEydUtWrV66qtIFzQCAAAgBtWcHCwDh8%2BrOPHjxtjycnJatiwoVOTLElvv/22Nm7c6DSWmpoqf39/%2Bfv7y9vbWykpKca2PXv2KCcnR8HBwZbVS3MNAAAAhxvsVnxNmzZVSEiIpk%2BfrqysLKWmpmrhwoXq1auXJKlLly7atGmTpAup9OTJk5WWlqZz587p/fff1/79%2B/XQQw/Jw8NDjzzyiN555x0dPnxYmZmZeuONN9SpUyfjVn1WYFkIAAAAbmizZs3ShAkT1KZNG3l5ealnz57q3bu3JGnfvn06c%2BaMJGnkyJGSLqy1ttlsatiwoRYtWqQaNWpIkoYNG6bTp08rKipKeXl56tChgyZNmmRprTTXAAAAcLgBn9BYo0YNLViwoMBtu3fvNr739PTUuHHjNG7cuAL3LVOmjCZOnKiJEycWSZ0SzTUAAAAudQM21zcTZg8AAACwCMk1AAAAHEiuTWH2AAAAAIuQXAMAAMCB5NoUmmsAAAA40FybwuwBAAAAFiG5BgAAgAPJtSnMHgAAAGARkmsAAAA4kFybQnMNAAAAB5prU5g9AAAAwCIk1wAAAHAguTaF2QMAAAAsQnINAAAAB5JrU2iuAQAA4EBzbQqzBwAAAFiE5BoAAAAOJNem0FwDAADAgebaFGYPAAAAsAjJNQAAABxIrk1h9gAAAACLkFwDAADAgeTaFJprAAAAONBcm8LsAQAAABYhuQYAAIADybUpzB4AAABgEZJrAAAAOJBcm0JzDQAAAAeaa1OYPQAAAMAiJNcAAABwILk2hdkDAAAALEJyDQAAAAeSa1NK5Ow99thjiouLc3UZAAAANx53d%2BtfJUjJ%2BrQAAABAESrRzfXBgwcVGBioDRs2qFu3brr99tvVs2dPHTx40NhnxYoV6ty5s0JDQ9WzZ0/t3LnT2JaUlKQHH3xQt99%2BuyIiIrRkyRJj25gxYzR58mS98MILCg0NVWRkpDZv3qz58%2BerVatWatWqlZYvX27sf%2BjQIQ0cOFDh4eEKCwvT6NGjlZWVVTwTAQAAcBHJtSmsuZa0ZMkSzZs3T56ennr88cf17rvvatKkSdq%2BfbsmTZqkuXPnqkWLFpo3b54GDRqkpKQk7d27V8OHD9fMmTPVrl07bdq0SQMHDtStt96qdu3aSZJWr16tV155RePHj9eQIUP07LPPKjo6Wl999ZXeffddvfTSS%2BrWrZvc3Nw0aNAgNW/eXDNmzNCZM2f07LPP6tVXX9WUKVMK/TnS09OVkZHhNFajhq%2BqVPGzdL5udPXqOX8tUTxDXV1B8Wvc2PlrSVKunKsrKH5lyzp/LWGqVXN1BcWrcmXnryXJsWOurgDXi%2BZaUq9evVS9enVJUtu2bZWcnCxJ%2Buyzz9SyZUu1bNlSktSvXz/Vq1dP586dU0JCglq1aqWOHTtKklq1aqX27dtr9erVRnNdt25ddejQQZLUpk0bff/99%2Brfv7/KlCmjDh06aObMmfr99991%2BPBh7d27Vx999JHKlSuncuXKaejQoerXr59efPFFubm5FepzxMfHa/bs2U5jgwYN0fDhQ81P0k3o9dddXYErbHZ1Aa6zdKmrK0Bxql/f1RW4RHRTV1fgGp06ubqC4jd3rgvfvIQlzVajuZZUu3Zt4/ty5crp3LlzkqQDBw6oTp06Ttvuu%2B8%2BSReWlDRo0MDpPLfeeqs2b3Y0NzVq1DC%2B9/T0lI%2BPj8qUKSNJxtdz587pwIEDys/PV3h4uNP58vPzlZmZKR8fn0J9jpiYGEVERDiNDRvmq2%2B%2BKdThfxn16l1orJ97Ttq3z9XVFK9lac1dXULxa9z4QmPdu7e0a5erqyleH3zg6gqKX9myFxrrtDTp7FlXV1PsPk0pWd115coXGus1aySbzdXVlCA016bQXEtXTIbd3Nxkt9sL3JaTk3PVc7n/4TfnH3%2B%2ByNPTU%2BXLl9eWLVsKU%2B4V%2Bfn5yc/PeQnIkSMXXiXRvn3SJUvkS4Yd5n4P3dR27ZJM/jd008nOdnUFrnP2bIn8/CV1qYDNVnI/O24%2B/NXkT/j7%2B2vfJdFnTk6O3nvvPWVmZqpOnTpKS0tz2j8tLU3%2B/v7X/D516tTRmTNndODAAWMsKytLmZmZ1188AADA9eCCRlNK1qe9Rt27d9f333%2BvdevWKTc3V4sWLdKSJUvk5eWlBx98UBs2bNC6deuUl5enb775RuvXr1e3bt2u%2BX0CAgIUGhqqadOm6fjx4zp58qQmTpyo0aNHF8GnAgAAQFGhuf4TTZo0UVxcnKZMmaKwsDB9%2BeWXmjt3rkqXLm00w9OnT1dYWJhee%2B01xcXF6c4777yu95o%2BfbrsdrsiIyPVqVMn5efn65VXXrH4EwEAAFzFDZhcHzp0SE8//bTCw8PVoUMHvf766zp//nyB%2B3700UfGbZSjoqKUlJRkbBszZoyaNm2qkJAQ43XHHXeYru9SbvYrLSrGX0JQkKsrKH5NmkjLlkk9epS8NdcpOwp3Z5m/lNBQafNmqXnzkrfmetMmV1dQ/MqVk5o2lXbsKJFrruf%2B0MLVJRSratWk6Gjp009L5prrZ55x0RuvXWv9OSMjTR3evXt3BQUFafTo0fr99981YMAA9ezZU0888YTTfl988YXGjx%2BvefPmqVmzZvrss880efJk/etf/5K/v7/GjBmjWrVqaejQoruTGsk1AAAAbljJycnatWuXRo0apYoVK6pu3brq27ev4uPjL9v37NmzevbZZ9WiRQuVLl1a0dHRqlChgn766adiq5e7hQAAAMChCC5ALOhBd76%2BvqGehJkAACAASURBVJfd5awgKSkpqlWrlry9vY2xoKAg7du3T1lZWfLy8jLGo6KinI49efKkTp8%2BbTzPRJK%2B%2B%2B47rV27Vr/%2B%2BqsaNGigSZMmKTg4%2BHo/2mVorgEAAFCkCnrQ3ZAhQwq1PMNms6lSpUpOYxcb7czMTKfm%2BlJ2u13PP/%2B8brvtNuOaOH9/f7m7u2v48OGqUKGCZs%2BerSeffFJffPGFqlSpcj0f7TI01wAAAHAoguS6oAfd%2Bfr6Fvr4a71EMDc3V2PGjNHPP/%2BsJUuWGOODBw922u%2B5555TYmKikpKSFB0dfU3vcSU01wAAAHAogua6oAfdFZaPj49sf3hEp81mk5ubW4FPsT579qwGDRqk7Oxsffjhh3%2BaSHt4eKhmzZpKT0%2B/rtoKwgWNAAAAuGEFBwfr8OHDOn78uDGWnJyshg0bqkKFCk772u12xcbGqlSpUlq0aJFTY2232/Xyyy9r165dxlhOTo72799/XQ8BvBKaawAAADjcYPe5vnhf6unTpysrK0upqalauHChevXqJUnq0qWLNv3v1qSff/65fv75Z82cOVOenp5O53Fzc9PBgwc1efJkHT16VKdPn1ZcXJxKly6tjh07mqrxUjTXAAAAuKHNmjVL6enpatOmjR5//HF169ZNvXv3liTt27dPZ86ckSQlJCTo0KFDuvPOO50eFPP8889LkqZNm6a6deuqe/fuat26tXbu3KnFixerfPnyltXKmmsAAAA4FMGaa7Nq1KihBQsWFLht9%2B7dxveLFy/%2B0/NUrlxZL7/8sqW1/RHNNQAAABxuwOb6ZsLsAQAAABYhuQYAAIADybUpzB4AAABgEZJrAAAAOJBcm0JzDQAAAAeaa1OYPQAAAMAiJNcAAABwILk2heYaAAAADjTXpjB7AAAAgEVIrgEAAOBAcm0KswcAAABYhOQaAAAADiTXptBcAwAAwIHm2hRmDwAAALAIyTUAAAAcSK5NYfYAAAAAi5BcAwAAwIHk2hSaawAAADjQXJvC7AEAAAAWIbkGAACAA8m1KcweAAAAYBGSawAAADiQXJtCcw0AAAAHmmtTmD0AAADAIiTXAAAAcCC5NoXZAwAAACxCcg0AAAAHkmtTaK4BAADgQHNtCrMHAAAAWITkGgAAAA4k16YwewAAAIBFSK4BAADgQHJtCs01AAAAHGiuTWH2AAAAAIuQXAMAAMCB5NoUZg8AAACwCMk1AAAAHEiuTaG5BgAAgAPNtSnMHgAAAGARkmsAAAA4kFybwuwBAAAAFqG5BgAAgIO7u/Uvkw4dOqSnn35a4eHh6tChg15//XWdP3%2B%2BwH2XLFmizp07q3nz5urVq5e2b99ubDt37pxeeOEF3X333QoPD9ewYcOUmZlpur5L0VwDAADA4QZsrocOHarq1asrKSlJCxcuVFJSkhYvXnzZfl9%2B%2BaXeeustvfbaa/r222/VoUMHDRw4UGfOnJEkzZgxQykpKYqPj9cXX3whu92usWPHmq7vUjTXAAAAuGElJydr165dGjVqlCpWrKi6deuqb9%2B%2Bio%2BPv2zf%2BPh4de/eXbfddpvKli2rp556SpK0bt065eXladmyZRo0aJBq1qypypUra8SIEVq/fr2OHj1qWb1c0PgXN2mSqysofpUrX/g6YIBks7m2lmJXf5OrKyh%2B5cpd%2BPrBB1J2tmtrKW533OHqCopfaKi0ebP06KPSli2urqbYvVDN7uoSilWzZlJ0tPTOO9K2ba6upvg984yL3rgILmhMT09XRkaG05ivr6/8/PyuemxKSopq1aolb29vYywoKEj79u1TVlaWvLy8nPbt2rWr8bO7u7uaNGmi5ORkNWnSRKdOnVJQUJCxvUGDBipbtqxSUlJUvXp1Mx/RQHMNAACAIhUfH6/Zs2c7jQ0ZMkRDhw696rE2m02VKlVyGrvYaGdmZjo11zabzakJv7hvZmambP9L3P54rkqVKlm67prmGgAAAAa73Cw/Z0xMjCIiIpzGfH19C3283V74f7W52r7Xcq7rQXMNAAAAwxVuwmGKn59foZaAFMTHx8dInS%2By2Wxyc3OTj4%2BP03iVKlUK3LdRo0bGvjabTRUqVDC2nzhxQlWrVr2u2grCBY0AAAC4YQUHB%2Bvw4cM6fvy4MZacnKyGDRs6NckX901JSTF%2Bzs/P144dO3TbbbfJ399f3t7eTtv37NmjnJwcBQcHW1YvzTUAAAAM589b/zKjadOmCgkJ0fTp05WVlaXU1FQtXLhQvXr1kiR16dJFmzZduKC/V69e%2Buyzz/TTTz8pOztbc%2BfOVZkyZdS%2BfXt5eHjokUce0TvvvKPDhw8rMzNTb7zxhjp16qRq1aqZnTYDy0IAAABwQ5s1a5YmTJigNm3ayMvLSz179lTv3r0lSfv27TPuY3333Xfr2Wef1YgRI/T7778rJCRE8%2BfPV9myZSVJw4YN0%2BnTpxUVFaW8vDx16NBBkyy%2BtRrNNQAAAAxFsebarBo1amjBggUFbtu9e7fTz7179zYa7z8qU6aMJk6cqIkTJ1pe40U01wAAADDciM31zYQ11wAAAIBFSK4BAABgILk2h%2BYaAAAABpprc1gWAgAAAFiE5BoAAAAGkmtzSK4BAAAAi5BcAwAAwEBybQ7NNQAAAAw01%2BawLAQAAACwCMk1AAAADCTX5pBcAwAAABYhuQYAAICB5NocmmsAAAAYaK7NYVkIAAAAYBGSawAAABhIrs0huQYAAAAsQnINAAAAA8m1OTTXAAAAMNBcm8OyEAAAAMAiJNcAAAAwkFybQ3INAAAAWITkGgAAAAaSa3NorgEAAGCguTaHZSEAAACARUiuAQAAYCC5NofkGgAAALAIyTUAAAAMJNfm0FwDAADAQHNtDstCAAAAAIuQXAMAAMBAcm0OyTUAAABgEZJrAAAAGEiuzaG5BgAAgIHm2hyWhQAAAAAWIbkGAACAgeTaHJJrAAAAwCIk1wAAADCQXJtDcw0AAAADzbU5LAsBAAAALEJyDQAAAAPJtTkk1wAAAIBFaK4BAABgOH/e%2BldRstlsGjFihFq3bq22bdtq/PjxOnv27BX3/89//qMHH3xQoaGh6ty5sz755BNj21tvvaUmTZooJCTE6XXs2LFC18OyEAAAABhutmUhEyZMUE5OjhITE5Wbm6vhw4crLi5Ozz///GX7btu2TaNGjdIbb7yh9u3ba8OGDRo8eLDq16%2BvO%2B64Q5IUFRWlV1555brrIbkGAADATenYsWNKSkpSbGysfHx8VL16dQ0aNEgJCQnKzc29bH%2BbzaYBAwaoY8eOKlWqlNq1a6eAgABt2rTJsppIrgEAAGAoiuQ6PT1dGRkZTmO%2Bvr7y8/Mzdd6dO3fKw8NDgYGBxlhQUJDOnDmjtLQ0p3FJuvvuu3X33XcbP%2Bfl5SkjI0PVq1c3xnbv3q2ePXtqz549qlmzpsaOHau2bdsWuiaaawAAABiKormOj4/X7NmzncaGDBmioUOHmjqvzWaTl5eX3NzcjDFvb29JUmZm5lWPj4uLU/ny5dW1a1dJUo0aNeTv76%2BRI0fKz89P8fHxGjhwoFauXKn69esXqiaaawAAABSpmJgYRUREOI35%2BvoW6tgVK1Zo9OjRBW6LjY2V3W6/5nrsdrvi4uKUmJioJUuWyNPTU5IUHR2t6OhoY7%2B%2Bfftq1apVWrlypUaMGFGoc9NcAwAAwFAUybWfn991LwGJiopSVFRUgds2bNigrKws5efny8PDQ9KFNFuSqlatWuAx58%2Bf19ixY7Vt2zZ99NFH8vf3/9P3r1WrltLT0wtdLxc0AgAA4KbUpEkT2e127dq1yxhLTk5WpUqVVK9evQKPeemll7R3794CG%2Bu3335bGzdudBpLTU29agN%2BqZu%2BuW7Tpo2WL18uSercubM%2B/fRTF1cEAABw87qZ7nPt4%2BOjzp07680339Tx48d15MgRzZkzRz169FCpUhcWaPTp00erV6%2BWJP34449auXKl5s%2Bfr8qVK192PpvNpsmTJystLU3nzp3T%2B%2B%2B/r/379%2Buhhx4qdE3XvCwkNzdXc%2BfO1apVq3T06FG5ubkpODhYw4cPN%2B4P6CpffPGFZefKysrSzJkztXbtWh07dkylS5dWWFiYYmNjL7vyFAAA4K/iZrvP9YsvvqiJEycqMjJSpUuX1v3336/Y2Fhj%2B4EDB3TixAlJUkJCgk6dOqUOHTo4nSMsLEzvv/%2B%2BRo4cKenCWmubzaaGDRtq0aJFqlGjRqHruebm%2BpVXXtGPP/6oWbNmqWHDhsrOztY//vEPPfnkk1q1atU1xeY3slGjRuncuXNatGiR/P39lZmZqbfeekt9%2BvRRUlKSvLy8XF0iAABAiVexYkW98cYbV9z%2B5ZdfGt%2B/9NJLeumll664r6enp8aNG6dx48Zddz3XvCxkw4YNuu%2B%2B%2BxQYGCgPDw95eXnpmWee0dSpU1WmTBlFRERo0aJFeuKJJ9SsWTPdc8892rx5s3H8oUOHNHDgQIWHhyssLEyjR49WVlaWJOn7779XixYt9PXXX6tLly66/fbb1a9fP%2BNvG3l5eZoyZYrCw8N11113XbYEJCIiQh999JEkacyYMZoyZYpefvll3XnnnWrZsqUWLFhg7Lt//351795dzZo109/%2B9jclJiY6JdIbNmxQdHS06tSpIzc3N/n4%2BGjs2LEaM2aM8vPzJUnHjx/XsGHD1KJFC7Vt21ZvvPGGccXqiRMnNHr0aLVt21ahoaF6%2BumndfDgQUnSwYMHFRgYqKVLl%2BrOO%2B9UYmKiJGn16tWKiorS7bffrsjISMXHx1/rLw8AAIApN9OykBvRNSfX9erV0z//%2BU%2B1bdtWTZo0McYffPBB4/uFCxdq5syZatKkiWbNmqXBgwfrm2%2B%2BkYeHhwYNGqTmzZtrxowZOnPmjJ599lm9%2BuqrmjJliiQpOztbq1atUnx8vLKzs9WjRw998skn6t%2B/vxISEvTvf/9bS5cuVc2aNfXqq68ajXdBEhMTNWbMGG3YsEErV67UhAkTFBUVJT8/Pw0ZMkT169fXBx98oL1792rUqFGXfc4PPvhAwcHBqlOnjiSpTJky6tatm7HP888/r1KlSumrr76SzWbTo48%2Bqtq1a%2BuRRx7R888/r6ysLK1cuVJlypTRuHHjNGLECC1btsw4/ocfftCXX36pChUqKDk5WePHj9dbb72lVq1aacuWLerfv78aNWqk5s2bF%2BrXpqAbtOfl%2BapaNXM3aL/ZVKzo/LVEKVfO1RUUv7Jlnb%2BWJKGhrq6g%2BDVu7Py1hGlWxdUVFK9GjZy/liTbtrm6Alyva26uJ0yYoGeffVbdunVTrVq11KJFC7Vr10733HOPypQpI%2BlCgnz77bdLkgYMGKD33ntPW7duVenSpY2rM8uVK6dy5cpp6NCh6tevn1588UVJUn5%2Bvp566il5e3vL29tbLVq0UFpamiRpzZo1euCBB9SgQQNJ0vDhw/803a1du7axAL1r164aN26cfvnlF9ntdu3evVuvvvqqypcvr9tuu0333nuv5s2bZxz72muvaeTIkerUqZPq1q2rO%2B%2B8U%2B3bt1f79u3l4eGhzMxMrVu3TgkJCfLy8pKXl5dmzJihUqVKyWazac2aNYqPj5ePj48kadiwYbrvvvt04MAB40bn3bp1M5aXLF%2B%2BXO3btzeeAHTHHXfo3nvv1YoVKwrdXBd0g/bBg4eoVy9zN2i/WbVs6eoKXKGpqwtwnULe3P8v5ZJ/FSxxli51dQUusdbVBbjIO%2B%2B4uoLiV8hbQBeJkpY0W%2B2am%2BtbbrlFH3/8sX7%2B%2BWd9%2B%2B23%2Bu9//6vnn39eM2fO1AcffCBJTrc%2BqVSpkipWrKj09HSdP39e%2Bfn5Cg8Pdzpnfn6%2B01N0ateubXxfrlw5nT17VpJ09OhRtW/f3tjm4%2BNjPIWnIH88jySdPXvWuFdhrVq1jO0hISFOxzZu3FirVq3S9u3btXHjRv3www8aPny4AgMDtWTJEh08eFDnz593eo/Q/6VIO3bskN1uN/4SIMlIvw8dOmQcc8sttxjb9%2B/fr40bNzrVYbfbr%2BlxmwXdoH3bNl%2BtWVPoU/wlVKx4obH%2B7jvp1ClXV1O8OtXa4eoSil/Zshca67Q06X9/VpQYjz7q6gqKX%2BPGFxrr3r2lS269VVJEVilZf6Fq1OhCYz1woLR3r6urKTlors257ofINGzYUA0bNtTjjz%2BujIwMRUdHa/HixZIu3Jz7Una7XW5ubvL09FT58uW1ZcuWPz23u3vBS8FzcnKUl5fnNPbH9yrMeS6ui754ixZJTo/NvFRwcLCCg4PVv39/paWl6eGHH9Znn31mJPMFvX9OTs4Va7r0fS7e7FySypYtq169emnChAlXPPZqCrpB%2B44d0v/upV7inDpVAj%2B7T7arK3Cds2el7BL2%2Ba/yZ%2Blf2q5dJfLzb6vm6gpcY%2B9elkng5nFNFzQeOXJEkyZNMi5AvMjX11eNGzdW9v/%2Bx7Z//35j24kTJ5SVlaUaNWqoTp06OnPmjA4cOGBsz8rKKtSz36ULzeORI0eMn9PT03Xy5Mlr%2BQiSZCzV%2BO2334yx5ORk4/s9e/Zo6tSplzXO9evXV%2B3atZWdna1atWrJ3d1d%2B/btM7Z/9913%2BvLLL407plxcznLp9xcT7D%2BqU6eOdu/e7TR25MgR4%2BJJAACA4sAFjeZcU3Pt4%2BOjb7/9Vs8995zS0tJ0/vx5ZWdnKzExURs3bjSWJKxbt04pKSk6d%2B6c5s2bp2rVqikkJEQBAQEKDQ3VtGnTdPz4cZ08eVITJ0684vPi/%2Biuu%2B5SYmKifvnlF2VlZWnGjBnGs%2BCvRe3atVW7dm0tWLBA2dnZ2rZtm9M9sqtVq6bPP/9cL7zwgn777TfZ7XZlZWVpyZIl%2BuWXX3T33XercuXKioyM1Jw5c2Sz2fTbb79pwoQJOnr0qKpWraq2bdtq5syZstlsOnHihN58802Fh4erZs2aBdbUo0cPbd68WQkJCcrJydHOnTsVHR1t6b27AQAAULSuqbkuU6aM/vGPf6hq1arq16%2BfQkND1bp1ay1dulTTp0/XXXfdJUl6%2BOGHFRcXp7CwMCUlJWn27NnGEojp06fLbrcrMjJSnTp1Un5%2Bvl555ZVCvX/fvn3VoUMHPfLII%2BrSpYtCQ0Ov6abel5o5c6Z%2B%2BukntWzZUrNmzdKAAQOMJRs%2BPj5aunSpTp8%2BrZiYGDVr1kzt27fX%2BvXrtXDhQgUEBEiSXn75ZZUvX14dOnRQTEyMunTpopiYGEkyLpa899571bVrV3l5eWnmzJlXrKdBgwaaPn263n33Xd1xxx3GhZ5du3a9rs8HAABwPUiuzXGzX1yAbJGIiAj1799fvXr1svK0lrPb7crLy1Pp0qUlXXhiz6xZs/TVV1%2B5uDJrlcSnwVeuLHXqJK1ZU/LWXEfX/9HVJRS/cuWkpk0vXGBQ0tZcu/ipuC4RGnrhLinNm5fINde%2B1Sz9X/YNr1kzae1aKTKyZK65/sPddYtNQoL153z4YevPeaO65ofI/FX07dtXY8eOVXZ2ttLT07V06VK1a9fO1WUBAADgJlZim%2BupU6cqMzNTbdu2Vbdu3dSwYcPLHiQDAABQ0rAsxJzrvhXflVz6/PYbmb%2B/v9577z1XlwEAAIC/EMubawAAANy8SlrSbDWaawAAABhors0psWuuAQAAAKuRXAMAAMBAcm0OyTUAAABgEZJrAAAAGEiuzaG5BgAAgIHm2hyWhQAAAAAWIbkGAACAgeTaHJJrAAAAwCIk1wAAADCQXJtDcw0AAAADzbU5LAsBAAAALEJyDQAAAAPJtTkk1wAAAIBFSK4BAABgILk2h%2BYaAAAABpprc1gWAgAAAFiE5BoAAAAGkmtzSK4BAAAAi5BcAwAAwEBybQ7NNQAAAAw01%2BawLAQAAACwCMk1AAAADCTX5tBcAwAAwEBzbQ7LQgAAAACLkFwDAADAQHJtDsk1AAAAYBGSawAAABhIrs2huQYAAICB5tocloUAAADgpmWz2TRixAi1bt1abdu21fjx43X27NkC912%2BfLkaN26skJAQp9e2bdskSefPn9eMGTMUGRmpsLAw9evXTwcOHLimemiuAQAAYDh/3vpXUZowYYKys7OVmJiohIQEpaamKi4u7or7h4WFKTk52enVrFkzSdKHH36ozz//XPPnz9e6detUt25dDR48WHa7vdD10FwDAADgpnTs2DElJSUpNjZWPj4%2Bql69ugYNGqSEhATl5uZe8/ni4%2BPVt29fNWjQQF5eXoqNjVVqaqq2bt1a6HOw5hoAAACGokia09PTlZGR4TTm6%2BsrPz8/U%2BfduXOnPDw8FBgYaIwFBQXpzJkzSktLcxq/6PDhw3riiSe0fft2VapUScOGDVNUVJTOnj2rn3/%2BWU2bNjX29fLy0q233qrk5GTdfvvthaqJ5hoAAACGomiu4%2BPjNXv2bKexIUOGaOjQoabOa7PZ5OXlJTc3N2PM29tbkpSZmXnZ/j4%2BPqpbt66effZZNWzYUGvWrNHo0aPl5%2Ben%2BvXry263G8dfer6CznUlNNcAAAAoUjExMYqIiHAa8/X1LdSxK1as0OjRowvcFhsbe03rodu3b6/27dsbP993331as2aNli9frlGjRknSNZ2vIDTXAAAAMBRFcu3n53fdS0CioqIUFRVV4LYNGzYoKytL%2Bfn58vDwkHQhzZakqlWrFur8tWrV0vbt21W5cmW5u7sbx19ks9kKfS6JCxoBAABwk2rSpInsdrt27dpljCUnJ6tSpUqqV6/eZft/9NFHWr16tdNYamqq/P395enpqUaNGiklJcXYdvLkSe3fv9%2B4m0hh0FwDAADAcDPdis/Hx0edO3fWm2%2B%2BqePHj%2BvIkSOaM2eOevTooVKlLizQ6NOnj9FQ5%2BTkaMqUKUpOTlZubq4SExP19ddfq2fPnpKkXr16acmSJUpNTVVWVpbi4uLUpEkThYSEFLomloUAAADAcLM9ofHFF1/UxIkTFRkZqdKlS%2Bv%2B%2B%2B9XbGyssf3AgQM6ceKEJOnxxx/X6dOnNXz4cGVkZKh27dqaM2eOgoODJUk9e/ZURkaGHnvsMZ0%2BfVrh4eGXXYh5NTTXAAAAuGlVrFhRb7zxxhW3f/nll8b3bm5uGjRokAYNGlTgvm5ubho2bJiGDRt23fXQXAMAAMBwsyXXNxrWXAMAAAAWIbkGAACAgeTaHJprAAAAGGiuzWFZCAAAAGARkmsAAAAYSK7NIbkGAAAALEJyDQAAAAPJtTk01wAAADDQXJvDshAAAADAIiTXAAAAMJBcm0Nz/RcXfWyuq0twgWqSotXJ9ql07JiriylWc4894%2BoSil21alJ0U%2BnTlKYl7ZdbL1Szu7qEYtesirRWUmSVzdpWzdXVFL%2BMY26uLqF4ZYZK2qy1mc2lY1tcXY0LlLz/xv8KaK4BAABgILk2h%2BYaAAAABpprc7igEQAAALAIyTUAAAAMJNfmkFwDAAAAFiG5BgAAgIHk2hyaawAAABhors1hWQgAAABgEZJrAAAAGEiuzSG5BgAAACxCcg0AAAADybU5NNcAAAAw0Fybw7IQAAAAwCIk1wAAADCQXJtDcg0AAABYhOQaAAAABpJrc2iuAQAAYKC5NodlIQAAAIBFSK4BAABgILk2h%2BYaAAAABpprc1gWAgAAAFiE5BoAAAAGkmtzSK4BAAAAi5BcAwAAwEBybQ7NNQAAAAw01%2BawLAQAAACwCMk1AAAADCTX5pBcAwAAABYhuQYAAICB5NocmmsAAAAYaK7NobkGAADATctms2nSpEn64Ycf5O7urnbt2mnChAkqW7bsZfs%2B//zzWrFihdNYfn6%2BoqKi9PLLL2vMmDFauXKlPDw8jO2enp7atGlToethzTUAAAAM589b/ypKEyZMUHZ2thITE5WQkKDU1FTFxcUVuO/UqVOVnJxsvLZs2aL69eurS5cuxj7PPPOM0z7X0lhLNNcAAAC4SR07dkxJSUmKjY2Vj4%2BPqlevrkGDBikhIUG5ublXPX7x4sW65ZZb1K5dO8tqYlkIAAAADEWRNKenpysjI8NpzNfXV35%2BfqbOu3PnTnl4eCgwMNAYCwoK0pkzZ5SWluY0/kcnT57UO%2B%2B8o6VLlzqNf/fdd1q7dq1%2B/fVXNWjQQJMmTVJwcHCha6K5BgAAgKEomuv4%2BHjNnj3baWzIkCEaOnSoqfPabDZ5eXnJzc3NGPP29pYkZWZm/umxH3zwgcLCwtSoUSNjzN/fX%2B7u7ho%2BfLgqVKig2bNn68knn9QXX3yhKlWqFKommmsAAAAUqZiYGEVERDiN%2Bfr6FurYFStWaPTo0QVui42Nld1uv%2BZ68vPz9eGHH2r69OlO44MHD3b6%2BbnnnlNiYqKSkpIUHR1dqHPTXAMAAMBQFMm1n5/fdS8BiYqKUlRUVIHbNmzYoKysLOXn5xt3%2BLDZbJKkqlWrXvGc//3vf5WT8//t3X1czXf/B/DXKd2QSkWhQhtzm4kKKSltqSzmYmaPq81lm7DcT9dcoZuVaCHF5f4xG7PIZO5iRGiYm7lJai65WU6pUG5SnTrn/P7w2/fauXKTdep7Tuf1fDx6cD7fc/PSt/Q%2B797f71cGZ2fnF762vr4%2B2rVrh%2BLi4jrn5QGNRERERKSVunfvDqVSidzcXGEtKysLZmZmcHBweO7j0tPTMWDAADRr9t8%2Bs1KpRGxsrMpzyWQy/P7777C3t69zJhbXRERERCTQplPxWVpawtfXFwkJCbh//z7u3LmDlStXYvTo0ULh/NFHH2Hfvn0qj8vJyYGdnZ3KmkQiwe3btxEZGYmioiKUl5cjPj4eBgYG8PHxqXMmFtdEREREJNCm4hoAoqKiYGpqiqFDhyIwMBC9e/fGzJkzhe35%2Bfl48OCBymNKSkrQunXrWs8VExODTp06YdSoUXBzc0NOTg6%2B%2BeYbtGjRos55OHNNRERERFrL1NQUS5cufe72w4cP11o7cODAM%2B/bqlUrxMbG1isPi2sib4Xr4gAAIABJREFUIiIiEjR0p7mp41gIEREREZGasHNNRERERAJ2ruuHxTURERERCVhc1w/HQoiIiIiI1ISdayIiIiISsHNdP%2BxcExERERGpCTvXRERERCRg57p%2BWFwTERERkYDFdf1wLISIiIiISE3YuSYiIiIiATvX9cPONRERERGRmrBzTUREREQCdq7rh8U1EREREQlYXNcPx0KIiIiIiNSExXU9SaVSODo64saNG2JHISIiIqo3hUL9H7pEZ8ZCqqursWrVKuzduxdFRUWQSCTo1asXpk%2BfDmdn57/8vLa2tsjKylJjUiIiIiLSVjrTuV60aBEOHz6MxMREnDt3DsePH4ebmxsmTJiA/Px8seMRERERaQR2rutHZ4rrn3/%2BGQEBAejatSv09fXRsmVLTJ48GdHR0TA0NMT9%2B/cxbdo0DBw4EM7Ozvj0009RWFgIABgzZgxWrFih8nzR0dH4%2BOOPcfv2bXTt2hV5eXkAAG9vb6SkpGDixIlwcnKCj48PMjMzhcdlZGRgyJAhcHJywty5c7F8%2BXIEBQUBAO7evYvPPvsM/fv3R9%2B%2BfTF%2B/HgW/kRERNSoWFzXj86MhTg4OCA1NRXu7u7o3r27sB4YGAgAmDt3LsrLy5Geng6lUokZM2Zg4cKFSEpKwrBhw7B7926EhIQIj0tPT8fUqVOf%2BVobNmxAXFwcunXrhoiICCxcuBD79u1DcXExpk6ditmzZ%2BODDz7Arl27EBcXh65duwIAli9fDnNzcxw7dgxyuRyLFi3C4sWLaxX2z1NcXIySkhKVtTYArFu3fpVPlfZr1Ur1Tx2iY3sagE7vbvTuLXaCxteli%2BqfOqfUSewEjatbN9U/dcn582InoL9IZ4rr%2BfPnY9asWRg5ciRsbW3Rr18/eHp64u2334ahoSEiIyNRU1ODFi1aAAB8fHywevVqAMCwYcPw1VdfQSqVwtbWFpcvX0ZJSQl8fHzw8OHDWq/l5eWF3v//U8/X1xc7d%2B6EQqHAqVOn0KJFCwQFBUFfXx%2BjR4/G9u3bhcc9fPgQrVq1gqGhISQSCSIiIqCnV/dfLmzdurVWIR4SEoKpY8a88udLmxUXF2NrUhLGjh0La2trseM0Kt3a008VFxcjKWmrbu5vHdzhf%2BzvqCjd299P/Sp2gEYl/H%2BekKCj%2B1scutZpVjedGQtp3749kpOTsXfvXowfPx6VlZWYN28eAgICUFRUhFu3bmHq1KlwcXGBo6MjoqKiIJPJADw9aNHR0RGHDh0CABw8eBAeHh4wMzN75mvZ2dkJfzc2NoZcLkd1dTVKSkrQtm1b6OvrC9t79eol/P2TTz5Beno6hg4digULFuCXX355pX/j2LFjsWPHDpWPsWPHvtJzNAUlJSVYsWJFrS4%2BNU3c37qF%2B1u3cH%2BLg2Mh9aMzxfUfOnfujA8//BBJSUk4ePAgqqur8c033yA4OBiWlpY4cOAAsrKyEBERofI4Pz8/leLa39//ua/xvG6zQqFAs2bNnntfR0dHHD58GGFhYVAqlQgJCcHixYvr/G%2BztrZGz549VT74Tp%2BIiIio8ehEcX3nzh1ERETg8ePHKutt2rRBt27dUFZWBqlUiqCgIFhaWgIArly5onJfX19f/Prrr7h48SKkUim8vb1fOYeVlRXu3LkDpVIprP35NH5lZWUwMDDA0KFD8eWXX2LVqlVITk5%2B5dchIiIi%2BqvYua4fnSiuLS0tceLECcyZMwfXr1%2BHQqFARUUF9uzZg5MnT8LPzw8tWrTAhQsXUFVVhd27dyMnJwePHz9GeXk5gKejIT179kRcXBw8PT1hYmLyyjlcXFxw//59JCcnQyaT4YcffsCtW7eE7e%2B//z7WrVuHqqoqVFdX4%2BLFi%2BjYsaPaPg9ERERE1LB0org2NDTEpk2bYGVlhY8//hhOTk5wc3PDli1bsGTJEnh4eCAiIgJr166Fm5sbzpw5g6SkJLRt2xZvv/228DzDhg3D2bNnERAQ8Jdy2NvbIyYmBomJiRg0aBByc3MxYsQISCQSAEBCQgKOHDmCAQMGwM3NDSdPnkR8fLxaPge6pE2bNggJCUGbNm3EjkKNgPtbt3B/6xbub3Gwc10/EuWfZxSowclkMhgYGAgF9T//%2BU8oFAp89dVXIicjIiIiAmxs1P%2BcRUXqf05NpROda03x5MkTDBw4EFu2bIFCoUB2djbS09Ph6ekpdjQiIiIiUgN2rhtZZmYm4uPjcfPmTVhaWmL06NGYPHmy0MkmIiIiElNDTOHo0tkUWVwTERERkYDFdf3ozBUaiYiIiOjldO0ARHVjcU1EREREAhbX9cMDGomIiIiI1ISdayIiIiISsHNdP%2BxcExERERGpCTvXRERERCRg57p%2BWFwTERERkYDFdf1wLISalNLSUrEjEFEDuHDhAiIjIzFlyhQAgEKhwP79%2B0VORQ0hPz8f06ZNE27HxcWhX79%2BGDVqFPLy8kRMRlQ3LK5J65WXl2PBggXo06cPPDw8AABlZWUIDg7G/fv3RU5HDY1vqJq%2Bbdu2YcKECZDJZDh%2B/DgAoKSkBAsXLsS3334rcjpSt/DwcFhYWAAATp06hZSUFKxevRp%2Bfn5YuHChyOl0g0Kh/g9dwuKatF5UVBTy8/Oxfv166Ok9/ZI2MDBAy5YtER0dLXI6agh8Q6Vb1q1bh3Xr1iEmJgYSiQQAYGNjgzVr1mDz5s0ipyN1u3TpEubOnQsASEtLg5%2BfH1xcXDB%2B/HhcvnxZ5HREL8fimrReRkYGlixZAmdnZ%2BEHr4mJCcLDw3Hy5EmR01FD4Bsq3XL37l307dsXAITvcQDo3LkziouLxYpFDURfXx/6%2BvoAgMzMTHh5eQEAlEolqqurxYymM9i5rh8e0EhaTyKRoGXLlrXW5XI5qqqqREhEDS0jIwNpaWmwtLSs9YbK19dX5HSkbh07dsSpU6cwcOBAlfU9e/agffv2IqWihuLi4oLIyEgYGBhAJpPB3d0dALBx40Z069ZN5HS6QRuL4aysLMyaNQsWFhbYtm3bC%2B/77bff4rvvvkNJSQm6du2KsLAw9OrVCwBQVVWFmJgYZGRkoKqqCv3790dkZKQwqlQX7FyT1nNyckJcXBwqKyuFNalUirCwMLi6uoqYjBoK31DplokTJ2LKlCmYPXs2ampqEB0djaCgIMyfPx/Tp08XOx6pWWRkJPT09FBaWopVq1bBwMAADx48QGpqKsLDw8WORxpo165dmDp1Kjp27PjS%2Bx4%2BfBhJSUmIi4vDiRMn4OXlhUmTJuHJkycAgGXLliE7Oxtbt27FgQMHoFQqhTGlupIolUrlX/qXEGmIgoICTJkyBdeuXUNNTQ1MTEzw5MkT9OnTB0uXLkW7du3EjkhqNnnyZNja2uLzzz9H//79cfHiRUilUsTExEChUGD16tViRyQ1y8rKQmpqKn7//XcYGxvD3t4eY8aMwWuvvSZ2NKIm5/%2BnctRKLlf/c/4hJSUFgwcPxrZt23D8%2BPEXdq6Dg4PRqVMnoWBWKBQYPHgw5s6dC19fXwwYMACLFy/G0KFDAQB5eXkICAjA0aNHYWNjU6c8HAshrde%2BfXvs3LkTly5dwu3bt2FkZIQOHTqgS5cuYkejBjJ//nxMmTIFzs7OqKmpQb9%2B/VTeUFHTsm/fPvj7%2B8PR0VHsKNQIgoKCVGbr/0xPTw82Njbw9PSEv79/IycjTTVmzJg63zc7O1vla0dPTw/du3dHVlYWunfvjkePHqFnz57C9tdffx3GxsbIzs5mcU26o6CgAADQunVrtG7dWmVdT08PrVu3RrNm/FJvSviGSrdERkZiyJAhaNGihdhRqBG4uLjgu%2B%2B%2Bg4ODAxwdHaGnp4esrCzcunULgYGBKC0tRXh4OPLz8xEcHCx23CapIWaui4uLUVJSorLWpk0bWFtbq//FXqCsrAzm5uYqa%2Bbm5igtLUVZWRkAwMzMTGW7mZnZK532lRUHaT1vb%2B/ndjmAp%2B9K3dzcEB0dXed3naQdbG1ta72hAsCD3JqYGTNmYN68eRg5ciTat28vnEniDw4ODiIlo4ZQVFSE0NBQ/O1vf1NZ/%2BGHH3D16lUsWrQI2dnZmDZtGovrBtIQA8NJSVuxYsUKlbWQkBBMnTr1pY/98ccfERoa%2BsxtsbGxGDVq1CtledlEdH0npllck9Zbs2YNli9fjvfffx%2BOjo6QSCTIysrC9u3bMWnSJDRv3hwbN27El19%2BWesbm7RTamoqYmNj8ejRI5V1pVIJiUSCnJwckZJRQ4iMjATwdDzkDxKJhPu7iUpLS0NERESt9cDAQLi7u2Pu3Lno0aMHz2mvZcaOHQtvb2%2BVtTZt2tTpsSNGjMCIESPUksPCwkLoUP%2BhrKwMXbp0gaWlpXDbxMRE2P7gwQNYWVnV%2BTVYXJPWS0hIQEJCgspRwt26dYOzszPCwsKwZcsW9OzZE2%2B//baIKUmd4uPj8Y9//ANeXl4wNDQUOw41sPT0dLEjUCMyNzdHcnIy/v73v6v8VnLHjh3CiN%2BWLVvQqVMnkRLSX2Ftbd3oIyDP0qtXL2RnZ%2BPdd98F8PQsU1euXMHo0aNhb28Pc3NzZGdnw9bWFgBw9epVyGQy4VR9dcHimrTe9evXhXebf9amTRtcuXJFuK3QxhN30jMplUp8%2BumnnKXXEX/8kJNKpZBKpZBIJOjQoQPHvJqo8PBwTJs2DStXrkS7du3QrFkzFBYWorS0FDExMaiursayZcuQmJgodlTSEsOGDUN0dDScnZ0xbtw4zJo1C8OHD0fXrl2xYcMGGBoaYsiQIdDX18d7772H1atXw9HREcbGxli6dCneeustlRHEl%2BGp%2BEjrffTRR5DL5ZgwYQLat28PAwMDSKVSfP3113j06BGSk5PxySefoFWrVkhISBA7LqnB2rVrIZfLWWDrCKlUihkzZiArK0tYk0gkGDBgABISEmodnETar7i4GKdOncLdu3ehUChgZWUFFxcX2NnZAQAqKirQvHlzkVOSpvD19UVBQQHkcjkUCgUMDAwAAPv374etrS26du2KdevWYfDgwQCe/uZj7dq1uHfvHhwdHREREYE33ngDACCTyRAbG4u9e/eipqYGXl5eiIiIgKmpaZ3zsLgmrVdaWop//etfyMzMFC6Nq6%2BvDxcXF4SGhqJHjx4ICwtDaGgofwg3EefPn8esWbNQWlqqcpXGP3CMoGmZNGkSjIyMMG3aNHTo0AHA03PP/lFYL168WOSE1FBkMlmtNY6CkaZjcU1NhlKpRFlZGZRKJa5cuYIdO3YgPT0dFy9eFDsaqdlbb70FBwcHDBo0CEZGRrW2v//%2B%2ByKkoobSt29fHD9%2BXOUAI%2BDpQUYBAQHIzMwUKRk1hBMnTmDhwoW4efMm5M%2B48ggPYCVNx9%2BnUpNRWFiIHTt2IDU1FSUlJfD29kZSUpLYsagB3Lt3D3v37mUHS0e0aNFC%2BK3U/%2BKxFE1PeHg4XF1dMWfOHI5%2BkFZicU1aTSaT4dChQ0hJScHp06fx5ptvori4GCkpKejWrZvY8aiBDB8%2BHCdPnoSnp6fYUagRuLm5Yfbs2ZgxY4ZwufPr169j%2BfLlcHZ2Fjkdqdvdu3cRGRnJ4ylIa/Erl7TWl19%2BiT179qBVq1Z45513EBUVBXt7ezg5OdX69TE1Lc2aNcMXX3yBjh07ol27dtDT01PZvmTJEpGSUUOYN28ewsLC8N577wlrSqUS7u7uzzwfMmk3V1dX5ObmvtKpz4g0CYtr0lrfffcdAgICMH36dOEgJ9INFRUVGDJkiNgxqJGYmZkhKSkJDx48QEFBAWQyGezt7Z95Ck7Sfj4%2BPggNDYWXlxfs7OxqvXkeO3asSMmI6oYHNJLWyszMxPbt23HkyBF0794dI0aMgJ%2BfH7y8vLBr1y7Y29uLHZGI1CQlJQU9evRAz549AQAZGRkoKipiodUE/e9V/P5MIpHwbECk8di5Jq3l7u4Od3d3lJaW4scff8SWLVsQExMDhUKBU6dOCRcfoKbp2LFjSEtLw%2B3bt4WLiowcOZIzuE3QsmXLsHv3bixbtkxYa968OTZs2ICCggLMnDlTxHSkbocPHxY7AlG9sHNNTcqFCxeQkpKCtLQ0GBsbIzAwEF988YXYsUjNNm3ahCVLlmDIkCHCZe%2BvX7%2BOjIwM4Wpa1HR4eHggOTlZuFLjHwoKCjBu3DgcPXpUpGSkLrdu3RK%2Bl2/cuPHC%2Bzo4ODRGJKK/jG09alL69OmDPn36ICwsDHv37sUPP/wgdiRqABs3bsTq1asxYMAAlfXjx48jPj6exXUTU1FRAQsLi1rrJiYmePjwoQiJSN3eeecdXLp0CQDg5%2BcHiUSCZ/X%2BJBIJz3NNGo%2BdayLSOk5OTjh79iz09fVV1uVyOVxdXXHu3DmRklFDmDZtGvT09DBp0iTY2dlBoVDgxo0bWLlyJYyNjZGYmCh2RKqngoICtG/fHsDTy92/yP/%2BBoNI0%2Bi9/C5ERJqlQ4cOzxwFyMzMFH5AU9MREREBmUyGUaNGwcXFBf3798e4ceNgbGyMhQsXih2P1ODP37cRERE4c%2BYMzM3NYWtrW%2BuDSNOxc01EWufQoUOYMWMG3Nzc8PrrrwN4OnP9888/Izo6GiNHjhQ5ITWEsrIy3L59G3p6erC1tYW5ubnYkagBREdH4/Dhw7h79y48PDzg7%2B8Pb29vXq2RtAaLayLSSrm5udixYwdu374NmUyGDh06IDAwEH369BE7GqnRkydPIJfLYWpqCuDp/PXOnTtRUVEBT09P4c0VNT2XL1/GoUOHcPDgQRQUFMDT0xPDhw%2BHj4%2BP2NGIXojFNRFpJaVSicrKSqGbVVZWBlNT01pz2KS9rl69ivHjx%2BOLL75AYGAgFAoFxo4di2vXrsHOzg6///47vv76a/Tt21fsqNTALl26hLi4OJw7d44HNJLG48w1EWmd3NxcDB06FEeOHBHWduzYAR8fH%2BTm5oqYjNRp2bJlGDZsGPz9/QE8vXBMTk4OUlNTsXv3bsyePRsrV64UOSU1lMLCQmzatAkfffQRPvjgA1RXVyM0NFTsWEQvxc41EWmdcePGwd3dHR9//DGMjY0BADKZDBs3bkRGRga2bNkickJSBxcXFxw8eBCtWrUCACxYsABFRUVYs2YNAODx48fw9vbG6dOnxYxJarZy5Uqkp6cjNzcXvXr1gp%2BfH3x9fXmwMmkNnueaiLTOb7/9hs2bN6uMgBgaGmLChAlYtWqViMlInWQymVBYA8Dp06cxZswY4XbLli1RVVUlRjRqQEePHsXw4cOxYsUKFtSklTgWQkRax9raGr/%2B%2Bmut9Z9//hmWlpYiJKKG0Lp1a9y%2BfRsAkJ%2Bfj1u3bmHgwIHC9sLCQp4xpAnatm0bJkyYUKuwfvLkCdzd3UVKRVR37FwTkdaZPHkyJk6cCDc3N5WLipw%2BfRrx8fFixyM18fb2Rnh4OMaMGYPNmzejc%2BfO6NGjh7B91apVcHFxETEhNYSioiLExMTg8uXLkMlkwnp5eTmsra1FTEZUN5y5JiKtdPnyZfz444/Iz8%2BHRCKBvb09Ro0ahW7duokdjdTk8ePH%2BPzzz3HixAk4ODhg8eLFwv6NiYnB7t27sWXLFrz22msiJyV1mjhxIgDAx8cHUVFRiIiIQHZ2NnJycrBy5UpYWVmJnJDoxVhcExGR1vnPf/4DKysrjgE1Qa6urjh69CiaN2%2BON998ExcvXgQA7NmzB2fPnkVERIS4AYlegsU1EWmdgoICrF%2B/Hnl5ec88oC05OVmEVESkDm5ubjhy5AiMjIzg6uqKn376Ca1atYJMJsOgQYNw5swZsSMSvRBnrolI68yaNQsVFRVwd3fnJZF1QLdu3SCRSJ65TSKRwMbGBp6envj888/RsmXLRk5H6ubs7IyQkBAkJibC0dERsbGxCAoKwoULF2BkZCR2PKKXYueaiLSOk5MTjh49CjMzM7GjUCPYu3cvli9fDj8/Pzg6OkIikeDSpUv46aefEBwcDLlcju%2B//x5dunRBbGys2HGpnkpLS/HVV18hMjISN2/eRHBwMAoLC9G8eXNEREQgMDBQ7IhEL8TONRFpnU6dOqmcRYCatuTkZMTHx6N3797C2tChQzF06FCsWLECa9euhYeHB0aNGiViSlIHqVQKQ0NDLFy4EABgbm4OPz8/lJWVwd/fH4MGDRI5IdHL8TzXRKR15syZg3nz5uHYsWPIy8vDjRs3VD6oacnKykLXrl1rrb/xxhvC/K2ZmRkqKysbOxqp0dmzZxEQEIBffvkFwNOLCAUFBSEtLQ337t1DSEgIjhw5InJKopdj55qItM6ECRMAABkZGbW2SSQS5OTkNHIiakivvfYa/vWvf2HixImwtbVFs2bNIJVKsX79erRt2xZyuRzz58%2BHk5OT2FGpHpKSkjBp0iQMHz4cAHDw4EEUFxfj0KFDsLKywp49e7BhwwZ4eXmJnJToxThzTURaRyqVvnC7ra1tIyWhxpCfn4/PPvsMV69eFQ5sVCqVsLOzQ2JiInr06IHx48cjOjoadnZ2Iqelv6pv377IzMxEixYtAAChoaGorKxEYmIiAKCyshKDBg3CuXPnxIxJ9FLsXBOR1li6dOlL7yORSDBz5sxGSEONxd7eHrt27UJRURFKSkqgUChgZWWl8iZq48aN4gUktVAqlSpn/zl79qzwWyoAMDIygkKhECMa0SthcU1EWuP8%2BfMvvc/zTtlG2u3u3bvIz88X5qofPnwozNe7u7uLGY3UxMbGBnl5eejcuTNyc3NRWFiIgQMHCttv3rwJCwsLERMS1Q3HQoiISKOtX78ey5Ytg1wur7WNM/ZNR2JiIjIyMhAQEIDU1FSYmpri%2B%2B%2B/BwCUl5cjNDQUVlZWiIqKEjkp0YuxuCYiIo02cOBAzJkzB/7%2B/jA2NhY7DjWQmpoaxMbG4sSJE3BwcMD8%2BfPRrl07AEBkZCROnDiBTZs2wdraWuSkRC/G4pqIiDRa//79ceLECejr64sdhURSVFQES0tLGBgYiB2F6KV4nmsiItJo7777Lvbs2SN2DBKRjY0NC2vSGjygkYiINFpNTQ0WLVqEzZs3w87ODnp6qn2hJUuWiJSMiKg2FtdERKTRysvLMWTIELFjEBHVCWeuiYiIiIjUhJ1rIiLSONu3b8fo0aMBAFu3bn3u/SQSCd57773GikVE9FLsXBMRkcYZNmwY9u/fDwDw9vZ%2B7v0kEgnS09MbKxYR0UuxuCYiIiIiUhOOhRARkcbZuXNnne87cuTIBkxCRPRq2LkmIiKN4%2B7urnL74cOHqK6uhpmZGZRKJR4%2BfAhjY2PY2NjgwIEDIqUkIqqNnWsiItI4mZmZwt9TUlKQnZ2N6dOnw8LCAgBQXFyMhIQEODk5iRWRiOiZ2LkmIiKN5unpiQMHDsDY2Fhl/fHjx/D398exY8dESkZEVBsvf05ERBqtsrIShYWFtdbv3buHqqoqERIRET0fx0KIiEijDR8%2BHEFBQXjnnXdgZ2cHuVyOwsJC7N27F76%2BvmLHIyJSwbEQIiLSaHK5HNu3b8ehQ4dw584dyGQyWFtbY/DgwRg/fjwMDAzEjkhEJGBxTURERESkJhwLISIijfbo0SNs27YNeXl5z5yxXrJkiQipiIiejcU1ERFptJkzZ%2BK3335Dv3790Lx5c7HjEBG9EMdCiIhIozk5OWH//v2wsbEROwoR0UvxVHxERKTR2rZtCxMTE7FjEBHVCTvXRESk0Y4fP459%2B/bhk08%2BgZ2dHSQSicp2Q0NDkZIREdXG4pqIiDSas7MzKioqoFAonrk9JyenkRMRET0fD2gkIiKN9u9//1vsCEREdcbONRERaY3S0lJYWFiIHYOI6Ll4QCMREWm08vJyLFiwAH369IGHhwcAoKysDMHBwbh//77I6YiIVLG4JiIijRYVFYX8/HysX78eenpPf2wZGBigZcuWiI6OFjkdEZEqzlwTEZFGy8jIQFpaGiwtLYUzhZiYmCA8PBy%2Bvr4ipyMiUsXONRERaTSJRIKWLVvWWpfL5c%2B8HDoRkZhYXBMRkUZzcnJCXFwcKisrhTWpVIqwsDC4urqKmIyIqDaeLYSIiDRaQUEBpkyZgmvXrqGmpgYmJiZ48uQJnJycsGTJErRr107siEREAhbXRESkFbKyspCfnw8jIyN06NABXbp0ETsSEVEtHAshIiKNp1AoUFNTA319fcjlclRUVIC9ISLSRDxbCBERabTz58/js88%2BQ2lpKUxNTaFUKvH48WO0bt0aK1euRO/evcWOSEQk4FgIERFpNF9fX7z11lsIDg6GqakpAODBgwdYs2YN0tPTceDAAZETEhH9F4trIiLSaG%2B%2B%2BSbOnDkDQ0NDlfWqqiq4urri4sWLIiUjIqqNM9dERKTR%2BvXrh9zc3Frr169fR79%2B/URIRET0fOxcExGRRtu4cSO%2B%2BeYbeHt7w8HBAXK5HPn5%2BTh8%2BDBGjx4NKysr4b5jx44VMSkREYtrIiLScN7e3nW6n0QiQXp6egOnISJ6MRbXRESksaRSKQwMDGBtbQ0AKCoqwrfffovKykp4e3tj0KBBIickIlLFmWsiItJIZ8%2BeRUBAAE6fPg0AkMlk%2BPDDD5GWlgapVIqQkBAcOXJE5JRERKp4nmsiItJISUlJmDRpEoYPHw4AOHjwIIqLi3Ho0CFYWVlhz5492LBhA7y8vEROSkT0X%2BxcExGRRsrKysKHH34o3D569Cg8PDyEAxh9fHyQk5MjVjwiomdicU1ERBpJqVSiefPmwu2zZ8/C1dVVuG1kZASFQiFGNCKi52JxTUREGsnGxgZ5eXkAgNzcXBQWFmLgwIHC9ps3b8LCwkKseEREz8SZayIi0kj%2B/v4IDQ1FQEAAUlNT0adPH7z%2B%2BusAgPLycsTHx8Pd3V3klEREqlhcExGRRpoyZQoePHiA7du3w8HBAfPnzxe2xcfH49q1awgPDxcxIRFRbTzPNRERaZ2ioiJYWlrCwMBA7ChERCpYXBOP2uRjAAAAUUlEQVQRERERqQkPaCQiIiIiUhMW10REREREasLimoiIiIhITVhcExERERGpCYtrIiIiIiI1YXFNRERERKQmLK6JiIiIiNSExTURERERkZr8H97Rb4EWfg80AAAAAElFTkSuQmCC\" class=\"center-img\">\n",
              "    <img src=\"data:image/png;base64,iVBORw0KGgoAAAANSUhEUgAAAtcAAAIVCAYAAAAartPiAAAABHNCSVQICAgIfAhkiAAAAAlwSFlzAAAPYQAAD2EBqD%2BnaQAAADh0RVh0U29mdHdhcmUAbWF0cGxvdGxpYiB2ZXJzaW9uMy4xLjEsIGh0dHA6Ly9tYXRwbG90bGliLm9yZy8QZhcZAAAgAElEQVR4nOzdfXzP9f7H8ec221yMMTY0c93mYpMRc1XN5JDSJHLxK62kHMxF5CBCIjqTy%2BpEJRLtFCeMczqGUpKSi2Yum5VrW%2ByL74zNfH9/OPt8fTOMz9e%2B2ON%2Bu%2B02e38uvq/Pu%2BLl2fvz%2BbjZbDabAAAAAJjm7uoCAAAAgLsFzTUAAADgJDTXAAAAgJPQXAMAAABOQnMNAAAAOAnNNQAAAOAkNNcAAACAk9BcAwAAAE5Ccw0AAAA4Cc01AAAA4CQ01wAAALjtffvtt2rRooWGDBlyzf0uXryoadOmqU2bNmrSpIl69%2B6tgwcPGtstFosGDx6sFi1aqFWrVnr11Vd17tw5p9VJcw0AAIDb2ty5c/XGG2%2BoWrVq1933008/1YoVKzRnzhytW7dO1atXV//%2B/WWz2SRJY8aMUVZWlhISErRkyRKlpKQoLi7OabXSXAMAAOC25u3trS%2B%2B%2BKJAzXV8fLxiYmJUq1Yt%2Bfj4aMiQIUpJSdH27dv1xx9/KDExUUOGDJGfn58qVqyofv36acmSJcrJyXFKrcWcchYAAADgKtLS0pSenu4w5u/vr4CAgAId36tXrwLtd%2B7cOf3666%2BqV6%2BeMebj46Nq1aopKSlJZ86ckYeHh0JCQozt9evX19mzZ7V//36H8ZtFcw3grvfLL79o6dKl2rp1qw4dOqSsrCx5e3srICBAoaGh6tChg6KiouTm5ubqUgHA9W7B74XxM2dq9uzZDmMDBgxQbGysUz/n1KlTstls8vX1dRj39fVVRkaGypYtKx8fH4ff7/P2zcjIcEoNNNcA7lo2m00TJ07UJ598IunSb6B169aVj4%2BPrFardu3apYSEBCUkJKh169aaOXOmvLy8XFw1ANx9unXrpqioKIcxf3//W/Z5eeurb3SbM9BcA7hrLVq0SJ988omKFy%2Bu8ePHq2PHjvLw8DC2nzt3Tp999pmmTJmidevWadasWRo6dKgLKwaA24C782/JCwgIKPASEDPKli0rd3d3WSwWh3GLxaLy5cvLz89PVqtVubm5xp8HefuWL1/eKTVwQyOAu9bixYslXVqr16lTJ4fGWpKKFy%2BumJgY9enTR5K0cOFCpz6OCQBQuLy9vXXvvfcqOTnZGDt9%2BrQOHDigBg0aqG7durLZbNq9e7exPSkpSWXKlFGNGjWcUgPNNYC71oEDByTpujeoxMTE6IMPPtDq1atVvHhxSdKIESMUEhKiKVOmKDMzU2%2B%2B%2BaaioqIUFhamZs2aacCAAdq7d%2B9Vz7lx40YNGDBArVq1UmhoqJo1a6aYmBitWLHiqsdYLBZNmzZNnTp1Unh4uOrXr68WLVqob9%2B%2B2rRpU77HREVFKSQkROvXr9fq1avVoUMHhYWF6eeff5YkzZo1SyEhIRoxYoSys7M1a9YstWvXTg0aNNBDDz2kCRMm6OzZs5Kkffv2aeDAgWrZsqXCwsLUsWNHLV%2B%2BPN/PzcrK0ty5c/XUU0/p/vvvV7169RQREaHnnntOq1evzveYZ555RiEhIVq8eLEyMzM1bdo0o5YmTZqoT58%2B2rFjx1XnB0AhcXd3/tctdPz4cbVv3954lnWPHj20YMECpaSkyGq1Ki4uTnXr1lVYWJj8/PzUrl07TZ8%2BXSdPntSxY8f0zjvvqEuXLipWzDkLOlgWAuCu5efnp6NHj2rbtm167LHHrrnfAw88kO%2B2zMxMxcTEaM%2BePbr33ntVvXp1JSUlafXq1fr222/16aefKjQ01OGYadOm6R//%2BIckqUaNGgoJCdHRo0e1ceNGbdy4UWvWrNHUqVMdkvT09HR169ZNhw8flre3t8LCwlS8eHGlpKRo3bp1%2BvrrrzVx4kQ9%2BeST%2Bda5f/9%2BxcXFqVatWmrWrJnxl4TLvfLKK1q/fr3Cw8Pl4%2BOjnTt3auHChUpLS1NsbKx69uwpPz8/1alTR6mpqdq7d69eeeUVlSlTRpGRkcZ5srKy1LNnT%2B3cuVPFihVTaGiofHx8dPDgQX3//ff6/vvvr3mjUnZ2tmJiYrRv3z41bNhQfn5%2B2rNnj9avX6/Nmzdr2bJlqlq16lX/eQEoesLCwiRJFy5ckCQlJiZKupQ65%2BTkKDU1VdnZ2ZKk7t27Kz09Xc8884wyMzMVERHhcDPl66%2B/rrFjx6pNmzby9PTUY489dt0X09wQGwDcpf72t7/ZgoODbSEhIbYpU6bYjh8/fsPHNmrUyPbYY485HHv69Glbly5dbMHBwbYuXbo4HPff//7XFhwcbGvSpIlt06ZNDtt%2B/PFHW4sWLWzBwcG2efPmOWx74403bMHBwbZ27drZ/vjjD2P8woULtokTJ9qCg4NtjRs3tlmtVofjWrdubQsODrZFRUXZ3nvvvSuuY%2BbMmbbg4GBbq1atbI8//rgtPT3d2LZ69Wpjftq3b2%2BbNWuW7eLFizabzWbLzc219e/f3xYcHGzr3bu3wznnzZtnCw4OtjVr1syWmpqa77a6devaDhw44LDt6aeftgUHB9siIyNtPXv2tJ04ccLYlpaWZmvZsqUtODjYNmnSpCuuA0Ah8vJy/lcRwrIQAHetwYMHq3LlyrLZbPrwww8VGRmpp59%2BWtOnT9f333%2BvrKys657DarVq3LhxDjfilC5dWiNGjJB06TF/v/32m7HtvffekyT97W9/U9OmTR3O1aRJEw0fPlySNH/%2BfIdtAQEBevTRRzVgwACHm2o8PDw0ZMgQubu768yZM9q2bVu%2BdV68eFEvvvjiVa8jLS1N48ePV4UKFYyxhx9%2BWP7%2B/rLZbCpWrJj69%2B9vPJ7K3d1d3bp1kyTt3LnT4VylSpVSx44d1bdvX1WvXt1h27PPPit/f3/l5uZq48aN%2BdaSnp6ut99%2BW35%2BfsaYv7%2B/OnbsKEnavn37Va8DQCG4w5aF3G5YFgLgrlWpUiV9/vnn%2Bvvf/66EhATl5ubqp59%2B0k8//aT33ntPnp6eioiI0OOPP65HH3003/V2AQEBaty48RXj4eHhKlWqlDIzM7Vt2zZVr15dx48fN26iadu2bb41Pfzww3Jzc9ORI0eUmppq3ECTd1NlfkqUKKHy5csrPT39ipcw5GnWrJncr/EHmL%2B/vxo2bHjFeGBgoNLT09W6desrnvMdGBgo6dJzYy/XtWtXde3aNd/PcXNzU5UqVa5Za9OmTVWxYsUrxvOWgjjrWbMA4Ao01wDuav7%2B/nrrrbc0fPhwrV69Whs3btTmzZt14sQJ5eTk6LvvvtN3332nuXPn6t13371irW9wcHC%2B53V3d1dgYKD27t2rQ4cOSZLDDY55yXZ%2BihUrppycHP32228Od6dnZ2frm2%2B%2B0Y4dO5SWlqbTp08bz2M9c%2BaMpEsJdX7ya1YvV6VKlXzH857rnddI57ctb43j5S5evKgNGzZo69atSktLk8ViMWpLTU29Zq1BQUH5jnt7e0uS015BDOAmFbGk2dlorgEUCRUqVFCPHj3Uo0cPSZduANy0aZOWLVumrVu3at%2B%2BfXrxxRe1YsUKeXp6Gsf9%2BS1flytdurSkSzc9So4J75o1a65bU17DLEm7d%2B9W//79jUb9Rl2rTkkO13Qz2y935MgR9e/f/4rlIgXFi3oA3M1orgEUSTVr1lTNmjXVo0cPzZ8/X5MmTVJqaqpWrVql6OhoY79rLbXIS2bz9slbVuHp6amkpKQCv0793Llz%2Butf/6ojR46oevXq6tevn5o3b65y5coZTW9UVJQOHz581XMU5qvbBw4cqJ07d6pChQqKjY3Vgw8%2BqAoVKhhN8zPPPKMff/yx0OoB4GQk16bQXAMo8p599lktXLhQBw4c0L59%2Bxy2Wa3Wqx6Xty0vwS5btqykS8saMjIyHG7Yu5b169fryJEjcnNz05w5c1StWrUr9rldXm6TnJyspKQkSVJcXJyaN29%2BxT63S60AbhLNtSnMHoC70urVq/Xaa69pzpw5Bdo/b1lF3rrfPL/%2B%2Bmu%2B%2B%2Bfm5hpJct4a4svXZ/%2B5Sb%2BWvKeNVK1aNd/G%2BsCBAzpx4kSBz3cr/f7775IupfPNmjW7YntmZuY1X64DAHc7mmsAd6WkpCTFx8drzpw5OnLkyDX3PX78uPEq3D8/UePgwYPatWvXFcf8/PPPxpsNw8PDJV26ebJ%2B/fqSpH/%2B85/5flZqaqqio6ONR/ZJ9uT7/Pnz%2BR7zzjvvGL/Ozc295rXcaj4%2BPpIuLYnJ78bDDz/80Eiu87sREsAdgEfxmVK0rhZAkfHcc8/J399fZ86c0bPPPpvv68NtNpt%2B%2BOEHvfDCC8rJyVHDhg3VsmVLh31Kly6t0aNHOyTHFotFkydPlnTpEXj33HOPsa1v376SpISEBH388cfG0z6kS6nvwIEDtXv3bh09etQYr1OnjiTp2LFjxlvHpEtvQnzjjTeUlJRkNPD79%2B%2B/6TlxhuDgYHl4eCg3N1eLFi0yxi9cuKD3339f8fHxat26tST7U0MAoChhzTWAu1K5cuX00UcfKTY2Vr/99pt69eolf39/1axZUyVLlpTFYtGhQ4eMZzE3btxYs2fPvuIGxqioKB08eFBt2rRRWFiYPD09tX37dlmtVvn4%2BOi1115z2P8vf/mLXnzxRc2ZM0dvvvmmFixYoJo1ayojI0O7du1Sbm6u6tWrp2HDhhnHhIeHq1WrVvruu%2B8UGxur%2B%2B67T97e3tqxY4eKFSumefPmaeXKldq6dasWLFigPXv26K9//auaNGly6yfyTypVqqQuXbooPj5eb775ppYvX66yZctq165dyszM1OzZs3Xo0CGtW7dOX331lZ555hn17NlTjzzySKHXCuAmFbGk2dlorgHctYKDg7VixQqtXLlSa9eu1e7du/XLL78oOztbxYsXV8WKFdW8eXN16NBBkZGR%2BT5xw93dXR999JHeffdd/fe//9WRI0dUqlQptWvXTkOGDHF4TnWeoUOHqkWLFlq4cKG2bdumjRs3ytvbW6GhoerQoYN69ux5xePopk%2Bfrri4OK1Zs0Y7duxQQECA2rVrp759%2B6pq1aqqVKmSdu7cqS1btmjfvn2F%2BnSQPxs9erR8fX2VkJCgvXv3qnz58oqIiNBLL72kunXr6ty5c9q0aZPWr1%2Bvffv2OaT3AO4ANNemuNn4XQ8ArjBixAj961//0hNPPGEsAQGAIsHf3/nnvMobW%2B9GJNcAAACwI7k2hdkDAAAAnITkGgAAAHYk16Ywe0723XffKSQkROPHj3d1KQAAADeO51ybwg2NTjZo0CB5eHjou%2B%2B%2B07fffnvF294AAABua4GBzj/n/95oWxQUrb9K3GIZGRlau3atBg4cqHLlymn16tXGtpMnT%2BrZZ59VgwYNFB0drW%2B%2B%2BUYhISE6dOiQJOnw4cPq27evIiIi1KRJEw0fPlxWq9VVlwIAAIoqkmtTitbV3mLLli1T3bp1Vb16dXXs2FFffPGFse3VV19VTk6O1q9fr%2BnTp2vGjBnGNpvNpn79%2Bqly5cr6%2Buuv9Z///EfHjx/XlClTbujz09LSlJyc7PCVlpbmtOsDAADAtdFcO9EXX3yh6OhoSVJ0dLQ2bdqkQ4cO6eLFi/r222/1/PPPq2zZsqpRo4a6detmHJeUlKR9%2B/bplVdeUYkSJVS%2BfHnFxsZq%2BfLlN/Tyhfj4eHXu3NnhK37xYqdfJwAAuMVGjXLdZ5Ncm8LTQpxk27Zt%2Bu2334xX/AYFBalhw4ZaunSpnn76aeXk5CjwsjVMYWFhxq8PHjyo3NxcRUREOJwzNzdXGRkZ8vPzK1AN3bp1U1RUlMOYf8eO0vz5N3tZd6Y6daRFi6SePaXdu11dTaHqFbrF1SUUumrVpAkTpDFjpN9/d3U1hSsmxtUVFD4fH6lpU%2BnHH6WiuHIuaudsV5dQuPz9pW7dpPj4IvUSEpcrYs2ws9FcO8nnn3%2BuCxcuqE2bNsZYTk6Ojh8/rv/7v/%2BTJBUrZp9u98v%2BxfX29lbJkiW1detWUzUEBAQoICDAcTA11dQ572i7d0sm5/ROs8fT1RW4zu%2B/S3v2uLqKwnXqlKsrcB2rtYhe/5Ejrq7ANdLTi%2B61445Dc%2B0EmZmZWrVqlcaPH69mzZoZ41lZWerSpYt27twpDw8PHTlyRPfee6%2BkS0tB8lStWlVnz57VwYMHFRQUJEmyWq3KyclRuXLlCvdiAABA0UZybQrNtROsWrVK3t7eeuKJJ%2BTl5eWwLSoqSkuXLtX999%2BvefPmqVGjRvrjjz/0%2BeefG/sEBwcrPDxcEydO1KRJk1SsWDGNHz9ep0%2Bf1ty5cwv7cgAAAHCT%2BKuJEyxZskQdO3a8orGWpCeffFKJiYkaPny4Tp8%2BrZYtW2rkyJF66aWXJNmXh0ydOlU2m01t2rRR27ZtlZubq8mTJxfqdQAAAHBDozkk107w2WefXXXbQw89ZCwB%2Beyzz4wG/IcffpC7u7sqVKggSQoMDNT7779/64sFAAC4liLWDDsbs1dIRo0apT59%2Buj06dM6c%2BaM5s2bpxYtWuSbdgMAAODORHNdSF555RX5%2Bvrq4Ycf1sMPPywPDw9NnDjR1WUBAAA4YlmIKSwLKSTlypXTzJkzXV0GAAAAbiGaawAAANgVsaTZ2WiuAQAAYEdzbQqzBwAAADgJyTUAAADsSK5NobkGAACAHc21KcweAAAA4CQk1wAAALAjuTaF2QMAAACchOQaAAAAdiTXptBcAwAAwI7m2hRmDwAAAHASkmsAAADYkVybwuwBAAAATkJyDQAAALvbMLk%2BfPiwxo8fr%2B3bt6tkyZLq0KGDhg4dKvc/1fr888/rp59%2Bchi7cOGC%2BvfvrwEDBuiZZ57Rli1bHI6rUaOGli9f7rRaaa4BAABgdxs217Gxsapfv74SExN14sQJvfTSS6pQoYKee%2B45h/0%2B%2Bugjh59Pnz6tDh06qG3btsbYhAkT1Llz51tW6%2B03ewAAAMD/JCUlaffu3Ro2bJhKly6t6tWrKyYmRvHx8dc9dvr06Wrbtq1CQkIKodJLSK4BAABgdwuS67S0NKWnpzuM%2Bfv7KyAg4LrHJicnKzAwUL6%2BvsZY/fr1lZqaKqvVKh8fn3yP%2B/333/Xll18qMTHRYXzVqlX64IMPdPToUd133316/fXXVbVq1Zu4qvyRXAMAAOCWio%2BPV%2BfOnR2%2BCpI8S5LFYlGZMmUcxvIa7YyMjKseN2fOHD355JPy8/MzxmrVqqV7771XixYt0po1a%2BTn56cXXnhB2dnZN3FV%2BSO5BgAAgN0tSK67deumqKgohzF/f/8CH2%2Bz2W7o8ywWi5YtW6Z///vfDuPjxo1z%2BPn1119XRESEfv75ZzVv3vyGPuNqaK4BAABgdwua64CAgAItAcmPn5%2BfLBaLw5jFYpGbm5tDKn25NWvWqEaNGgoKCrrmuX18fOTr66vjx4/fVG35YVkIAAAAbluhoaE6evSoTp48aYwlJSWpdu3aKlWqVL7HrFmzRi1btnQYs1qtGjdunEMjffLkSZ08efK6TfiNoLkGAACAnbu7879MqFevnsLCwjR16lRZrValpKRo3rx56tGjhySpffv22rx5s8Mxu3btUpUqVRzGfHx8tH37dr3xxhuyWCw6deqUxo8fr5CQEIWHh5uq8XI01wAAALitzZw5U2lpaWrZsqV69eqlTp06qWfPnpKk1NRUnT171mH/9PR0VahQ4YrzvPPOO7LZbGrXrp0iIyOVk5OjOXPmXPEyGjNYcw0AAAC72/AlMpUqVdLcuXPz3bZnz54rxnbs2JHvvvfcc49mz57t1Nr%2BjOYaAAAAdrdhc30nYfYAAAAAJyG5BgAAgB3JtSnMHgAAAOAkJNcAAACwI7k2heYaAAAAdjTXpjB7AAAAgJOQXAMAAMCO5NoUZg8AAABwEpJrAAAA2JFcm0JzDQAAADuaa1OYPQAAAMBJSK4BAABgR3JtCrMHAAAAOAnJNQAAAOxIrk2huQYAAIAdzbUpzB4AAADgJCTXAAAAsCO5NoXZAwAAAJyE5BoAAAB2JNem0FwDAADAjubaFGYPAAAAcBKSawAAANiRXJvC7AEAAABOQnINAAAAO5JrU2iuAQAAYEdzbQqzBwAAADgJyfVdLqKpzdUlFLqQEGmBpF6hW7TH09XVFK5NP7q5uoTClxMuaYsW7Ggkbd3q6moKV8P9rq6g8Hl5SQpUVMhhKTvb1dUUugk7Jrm6hEJVyVvqI2mu9wAdK%2BHqagrfGFd9MMm1KTTXAAAAsKO5NoXZAwAAAJyE5BoAAAB2JNemMHsAAACAk5BcAwAAwI7k2hSaawAAANjRXJvC7AEAAABOQnINAAAAO5JrU5g9AAAAwElIrgEAAGBHcm0KzTUAAADsaK5NYfYAAAAAJyG5BgAAgB3JtSnMHgAAAOAkJNcAAACwuw2T68OHD2v8%2BPHavn27SpYsqQ4dOmjo0KFy/1Ots2bN0rvvvqtixRxb3HXr1qlChQo6f/68Jk6cqK%2B//lrnz59XRESExo8fr3Llyjmt1ttv9gAAAOA67u7O/zIpNjZWFStWVGJioubNm6fExETNnz8/332jo6OVlJTk8FWhQgVJ0rRp05ScnKz4%2BHh99dVXstlsGjlypOn6LkdzDQAAgNtWUlKSdu/erWHDhql06dKqXr26YmJiFB8ff0PnuXDhgr744gv169dPlStXVtmyZTV48GB9/fXXOn78uNPqZVkIAAAA7G7BspC0tDSlp6c7jPn7%2BysgIOC6xyYnJyswMFC%2Bvr7GWP369ZWamiqr1SofHx%2BH/ffs2aPu3btr7969qly5skaOHKlWrVrpwIEDOnPmjOrXr2/sW6tWLRUvXlzJycmqWLGiyau8hOYaAAAAt1R8fLxmz57tMDZgwADFxsZe91iLxaIyZco4jOU12hkZGQ7NdaVKlRQUFKShQ4cqICBA8fHx6tu3r5YvXy6LxSJJV5yrTJkyysjIuKnryg/NNQAAAOxuQXLdrVs3RUVFOYz5%2B/sX%2BHibzVag/bp27aquXbsaP8fExGjlypVavny5HnzwwRs6182iuQYAAIDdLWiuAwICCrQEJD9%2Bfn5G6pzHYrHIzc1Nfn5%2B1z0%2BMDBQaWlpxr4Wi0WlSpUytp86dUrly5e/qdryww2NAAAAuG2Fhobq6NGjOnnypDGWlJSk2rVrOzTJkvTuu%2B9q48aNDmMpKSkKCgpSUFCQfH19lZycbGzbu3evsrOzFRoa6rR6aa4BAABgd5s9iq9evXoKCwvT1KlTZbValZKSonnz5qlHjx6SpPbt22vz5s2SLqXS48eP1/79%2B3X%2B/Hl99NFHOnDggJ544gl5eHjoqaee0j/%2B8Q8dPXpUGRkZevvtt9W2bVvjUX3OwLIQAAAA3NZmzpypMWPGqGXLlvLx8VH37t3Vs2dPSVJqaqrOnj0rSRo6dKikS2utLRaLateurY8//liVKlWSJA0cOFCZmZmKjo7WhQsX1Lp1a40bN86ptdJcAwAAwO42fENjpUqVNHfu3Hy37dmzx/i1t7e3Ro0apVGjRuW7r5eXl8aOHauxY8fekjolmmsAAABc7jZsru8kzB4AAADgJCTXAAAAsCO5NoXZAwAAAJyE5BoAAAB2JNem0FwDAADAjubaFGYPAAAAcBKSawAAANiRXJvC7AEAAABOQnINAAAAO5JrU2iuAQAAYEdzbQqzBwAAADgJyTUAAADsSK5NYfYAAAAAJyG5BgAAgB3JtSk01wAAALCjuTaF2QMAAACchOQaAAAAdiTXptBcAwAAwI7m2hRmDwAAAHASkmsAAADYkVybwuwBAAAATkJyDQAAADuSa1NorgEAAGBHc20KswcAAAA4Cck1AAAA7EiuTWH2AAAAACchuQYAAIAdybUpNNcAAACwo7k2hdkDAAAAnITkGgAAAHYk16YwewAAAICTkFwDAADAjuTalCI5e88884zi4uJcXQYAAMDtx93d%2BV9FSNG6WgAAAOAWKtLN9aFDhxQSEqINGzaoU6dOatiwobp3765Dhw4Z%2Byxbtkzt2rVTeHi4unfvrl27dhnbEhMT9fjjj6thw4aKiorSggULjG0jRozQ%2BPHj9dprryk8PFxt2rTRli1bNGfOHDVv3lzNmzfX0qVLjf0PHz6svn37KiIiQk2aNNHw4cNltVoLZyIAAADykFybwpprSQsWLND7778vb29v9erVSx988IHGjRunHTt2aNy4cXrvvffUuHFjvf/%2B%2B%2BrXr58SExO1b98%2BDRo0SDNmzNBDDz2kzZs3q2/fvqpWrZoeeughSdKqVas0efJkvfrqqxowYIBefvllde3aVd98840%2B%2BOADTZo0SZ06dZKbm5v69eunRo0aadq0aTp79qxefvllTZkyRRMmTCjwdaSlpSk9Pd1hzN/fX35%2BAU6dr9tdtWqO34uUnHBXV1D46tRx/F6UeHm5uoLC5%2Bnp%2BL2IqVTJ1RUUrvLlHb8XJceOuboC3Cyaa0k9evRQxYoVJUmtWrVSUlKSJOnLL79Us2bN1KxZM0lS7969VaNGDZ0/f15LlixR8%2BbN9fDDD0uSmjdvrsjISK1atcporqtXr67WrVtLklq2bKlNmzapT58%2B8vLyUuvWrTVjxgydOHFCR48e1b59%2B7R48WKVKFFCJUqUUGxsrHr37q3XX39dbm5uBbqO%2BPh4zZ4922GsX78BGjQo1vwk3YFu4O8ld5Etri7AdRYtcnUFKEwBRSs0yNOnj6srcI3OnV1dQeFz6Z9hRSxpdjaaa0lVqlQxfl2iRAmdP39eknTw4EFVrVrVYdujjz4q6dKSklq1ajmcp1q1atqyxd7cVLosYvD29pafn5%2B8/pc05X0/f/68Dh48qNzcXEVERDicLzc3VxkZGfLz8yvQdXTr1k1RUVEOY3/7m79%2B/rlAh981qlW79JvSmDHS77%2B7uprCtWBHI1eXUPjq1LnUWPfsKe3e7epqCteKFa6uoPB5el5qrNPSpJwcV1dT6OauCnR1CYWqfPlLjfXSpdKJE66upgihuTaF5lq6ajLs5uYmm82W7ySwohEAACAASURBVLbs7Ozrnsv9T/9y/vnnPN7e3ipZsqS2bt1akHKvKiAgQAF/SnPS0y99FUW//y7t2ePqKgqZyX%2BH7mi7dxe967/K70NFQk5Okbz%2BorpU4MSJonvtuPPwV5NrCAoKUmpqqvFzdna2PvzwQ2VkZKhq1arav3%2B/w/779%2B9XUFDQDX9O1apVdfbsWR08eNAYs1qtysjIuPniAQAAbgY3NJpStK72BnXu3FmbNm3SunXrlJOTo48//lgLFiyQj4%2BPHn/8cW3YsEHr1q3ThQsX9O233%2Brrr79Wp06dbvhzgoODFR4erokTJ%2BrkyZM6ffq0xo4dq%2BHDh9%2BCqwIAAMCtQnN9DXXr1lVcXJwmTJigJk2aaO3atXrvvffk6elpNMNTp05VkyZN9NZbbykuLk5Nmza9qc%2BaOnWqbDab2rRpo7Zt2yo3N1eTJ0928hUBAABcx22YXB8%2BfFgvvviiIiIi1Lp1a/3973/XxYsX89138eLFxmOUo6OjlZiYaGwbMWKE6tWrp7CwMOPr/vvvN13f5dxsV1tUjLvCn%2B6RLBJCQqQFC6RevYremutNPxbsyTJ3lfBwacsWqVGjorfm%2Bk9L04oELy8pMFA6fLhIrrmesLCGq0soVJUqXXpCyty5RXPN9ZgxLvrgNWucf842bUwd3rlzZ9WvX1/Dhw/XiRMn9NJLL6l79%2B567rnnHPb76quv9Oqrr%2Br9999XgwYN9OWXX2r8%2BPH697//raCgII0YMUKBgYGKjb11T1IjuQYAAMBtKykpSbt379awYcNUunRpVa9eXTExMYqPj79i33Pnzunll19W48aN5enpqa5du6pUqVLatm1bodXL00IAAABgdwtuQLzai%2B7%2B/JSz/CQnJyswMFC%2Bvr7GWP369ZWamiqr1SofHx9jPDo62uHY06dPKzMz03ifiST98MMPWrNmjX7//XfVqlVL48aNU2ho6M1e2hVorgEAAHBL5feiuwEDBhRoeYbFYlGZMmUcxvIa7YyMDIfm%2BnI2m02jR4/WfffdZ9wTFxQUJHd3dw0aNEilSpXS7Nmz9fzzz%2Burr75SuXLlbubSrkBzDQAAALtbkFzn96I7f3//Ah9/o7cI5uTkaMSIEfr111%2B1YMECY7x///4O%2B73yyitKSEhQYmKiunbtekOfcTU01wAAALC7Bc11fi%2B6Kyg/Pz9ZLBaHMYvFIjc3t3zfYn3u3Dn169dPWVlZ%2BvTTT6%2BZSHt4eKhy5cpKS0u7qdryww2NAAAAuG2Fhobq6NGjOnnypDGWlJSk2rVrq1SpUg772mw2DRkyRMWKFdPHH3/s0FjbbDa9%2Beab2r17tzGWnZ2tAwcO3NRLAK%2BG5hoAAAB2t9lzrvOeSz116lRZrValpKRo3rx56tGjhySpffv22rx5syRpxYoV%2BvXXXzVjxgx5e3s7nMfNzU2HDh3S%2BPHjdfz4cWVmZiouLk6enp56%2BOGHTdV4OZprAAAA3NZmzpyptLQ0tWzZUr169VKnTp3Us2dPSVJqaqrOnj0rSVqyZIkOHz6spk2bOrwoZvTo0ZKkiRMnqnr16urcubNatGihXbt2af78%2BSpZsqTTamXNNQAAAOxuwZprsypVqqS5c%2Bfmu23PZW%2BMmz9//jXPU7ZsWb355ptOre3PaK4BAABgdxs213cSZg8AAABwEpJrAAAA2JFcm8LsAQAAAE5Ccg0AAAA7kmtTaK4BAABgR3NtCrMHAAAAOAnJNQAAAOxIrk2huQYAAIAdzbUpzB4AAADgJCTXAAAAsCO5NoXZAwAAAJyE5BoAAAB2JNem0FwDAADAjubaFGYPAAAAcBKSawAAANiRXJvC7AEAAABOQnINAAAAO5JrU2iuAQAAYEdzbQqzBwAAADgJyTUAAADsSK5NYfYAAAAAJyG5BgAAgB3JtSk01wAAALCjuTaF2QMAAACchOQaAAAAdiTXpjB7AAAAgJOQXAMAAMCO5NoUmmsAAADY0VybwuwBAAAATkJyDQAAADuSa1OYPQAAAMBJSK4BAABgR3JtCs01AAAA7GiuTWH2AAAAACchuQYAAIAdybUpzB4AAADgJCTXAAAAsCO5NoXmGgAAAHY016YwewAAAICTkFwDAADAjuTaFGYPAAAAcBKaawAAANi5uzv/y6TDhw/rxRdfVEREhFq3bq2///3vunjxYr77LliwQO3atVOjRo3Uo0cP7dixw9h2/vx5vfbaa3rwwQcVERGhgQMHKiMjw3R9l6O5BgAAgN1t2FzHxsaqYsWKSkxM1Lx585SYmKj58%2Bdfsd/atWs1a9YsvfXWW/r%2B%2B%2B/VunVr9e3bV2fPnpUkTZs2TcnJyYqPj9dXX30lm82mkSNHmq7vcjTXAAAAuG0lJSVp9%2B7dGjZsmEqXLq3q1asrJiZG8fHxV%2BwbHx%2Bvzp0767777lPx4sX1wgsvSJLWrVunCxcu6IsvvlC/fv1UuXJllS1bVoMHD9bXX3%2Bt48ePO61ebmi8y40Y4eoKCp%2Bv76XvMTHSqVMuLaXwNdzv6goKn5fXpe8rVkjZ2a6tpbDVrOnqCgpfeLi0ZYvUsaO0daurqyl037e3ubqEQlWr1qXv27dLKSmuraVIuQU3NKalpSk9Pd1hzN/fXwEBAdc9Njk5WYGBgfLN%2BwNeUv369ZWamiqr1SofHx%2BHfTt06GD87O7urrp16yopKUl169bVmTNnVL9%2BfWN7rVq1VLx4cSUnJ6tixYpmLtFAcw0AAIBbKj4%2BXrNnz3YYGzBggGJjY697rMViUZkyZRzG8hrtjIwMh%2BbaYrE4NOF5%2B2ZkZMhisUjSFecqU6aMU9dd01wDAADAYJOb08/ZrVs3RUVFOYz5%2B/sX%2BHibreD/1%2BZ6%2B97IuW4GzTUAAAAMV3kIhykBAQEFWgKSHz8/PyN1zmOxWOTm5iY/Pz%2BH8XLlyuW777333mvsa7FYVKpUKWP7qVOnVL58%2BZuqLT/c0AgAAIDbVmhoqI4ePaqTJ08aY0lJSapdu7ZDk5y3b3JysvFzbm6udu7cqfvuu09BQUHy9fV12L53715lZ2crNDTUafXSXAMAAMBw8aLzv8yoV6%2BewsLCNHXqVFmtVqWkpGjevHnq0aOHJKl9%2B/bavHmzJKlHjx768ssvtW3bNmVlZem9996Tl5eXIiMj5eHhoaeeekr/%2BMc/dPToUWVkZOjtt99W27ZtVaFCBbPTZmBZCAAAAG5rM2fO1JgxY9SyZUv5%2BPioe/fu6tmzpyQpNTXVeI71gw8%2BqJdfflmDBw/WiRMnFBYWpjlz5qh48eKSpIEDByozM1PR0dG6cOGCWrdurXHjxjm1VpprAAAAGG7FmmuzKlWqpLlz5%2Ba7bc%2BePQ4/9%2BzZ02i8/8zLy0tjx47V2LFjnV5jHpprAAAAGG7H5vpOwpprAAAAwElIrgEAAGAguTaH5hoAAAAGmmtzWBYCAAAAOAnJNQAAAAwk1%2BaQXAMAAABOQnINAAAAA8m1OTTXAAAAMNBcm8OyEAAAAMBJSK4BAABgILk2h%2BQaAAAAcBKSawAAABhIrs2huQYAAICB5tocloUAAAAATkJyDQAAAAPJtTkk1wAAAICTkFwDAADAQHJtDs01AAAADDTX5rAsBAAAAHASkmsAAAAYSK7NIbkGAAAAnITkGgAAAAaSa3NorgEAAGCguTaHZSEAAACAk5BcAwAAwEBybQ7JNQAAAOAkJNcAAAAwkFybQ3MNAAAAA821OSwLAQAAAJyE5BoAAAAGkmtzSK4BAAAAJyG5BgAAgIHk2hyaawAAABhors1hWQgAAADgJCTXAAAAMJBcm0NyDQAAADgJyTUAAAAMJNfm0FwDAADAQHNtDstCAAAAACchuQYAAICB5NockmsAAADASWiuAQAAYLh40flft5LFYtHgwYPVokULtWrVSq%2B%2B%2BqrOnTt31f3/%2B9//6vHHH1d4eLjatWunf/7zn8a2WbNmqW7dugoLC3P4%2BuOPPwpcD8tCAAAAYLjTloWMGTNG2dnZSkhIUE5OjgYNGqS4uDiNHj36in1/%2BeUXDRs2TG%2B//bYiIyO1YcMG9e/fXzVr1tT9998vSYqOjtbkyZNvuh6SawAAANyR/vjjDyUmJmrIkCHy8/NTxYoV1a9fPy1ZskQ5OTlX7G%2BxWPTSSy/p4YcfVrFixfTQQw8pODhYmzdvdlpNJNcAAAAw3IrkOi0tTenp6Q5j/v7%2BCggIMHXeXbt2ycPDQyEhIcZY/fr1dfbsWe3fv99hXJIefPBBPfjgg8bPFy5cUHp6uipWrGiM7dmzR927d9fevXtVuXJljRw5Uq1atSpwTTTXAAAAMNyK5jo%2BPl6zZ892GBswYIBiY2NNnddiscjHx0dubm7GmK%2BvryQpIyPjusfHxcWpZMmS6tChgySpUqVKCgoK0tChQxUQEKD4%2BHj17dtXy5cvV82aNQtUE801AAAAbqlu3bopKirKYczf379Axy5btkzDhw/Pd9uQIUNks9luuB6bzaa4uDglJCRowYIF8vb2liR17dpVXbt2NfaLiYnRypUrtXz5cg0ePLhA56a5BgAAgOFWJNcBAQE3vQQkOjpa0dHR%2BW7bsGGDrFarcnNz5eHhIelSmi1J5cuXz/eYixcvauTIkfrll1%2B0ePFiBQUFXfPzAwMDlZaWVuB6uaERAAAAd6S6devKZrNp9%2B7dxlhSUpLKlCmjGjVq5HvMpEmTtG/fvnwb63fffVcbN250GEtJSbluA365O765btmypZYuXSpJateunT7//HMXVwQAAHDnupOec%2B3n56d27dpp%2BvTpOnnypI4dO6Z33nlHXbp0UbFilxZoPPvss1q1apUk6eeff9by5cs1Z84clS1b9orzWSwWjR8/Xvv379f58%2Bf10Ucf6cCBA3riiScKXNMNLwvJycnRe%2B%2B9p5UrV%2Br48eNyc3NTaGioBg0aZDwf0FW%2B%2Buorp53LarVqxowZWrNmjf744w95enqqSZMmGjJkyBV3ngIAANwt7rTnXL/%2B%2BusaO3as2rRpI09PTz322GMaMmSIsf3gwYM6deqUJGnJkiU6c%2BaMWrdu7XCOJk2a6KOPPtLQoUMlXVprbbFYVLt2bX388ceqVKlSgeu54eZ68uTJ%2BvnnnzVz5kzVrl1bWVlZ%2BuSTT/T8889r5cqVNxSb386GDRum8%2BfP6%2BOPP1ZQUJAyMjI0a9YsPfvss0pMTJSPj4%2BrSwQAACjySpcurbfffvuq29euXWv8etKkSZo0adJV9/X29taoUaM0atSom67nhpeFbNiwQY8%2B%2BqhCQkLk4eEhHx8f/fWvf9Ubb7whLy8vRUVF6eOPP9Zzzz2nBg0a6C9/%2BYu2bNliHH/48GH17dtXERERatKkiYYPHy6r1SpJ2rRpkxo3bqz169erffv2atiwoXr37m38bePChQuaMGGCIiIi9MADD1yxBCQqKkqLFy%2BWJI0YMUITJkzQm2%2B%2BqaZNm6pZs2aaO3euse%2BBAwfUuXNnNWjQQP/3f/%2BnhIQEh0R6w4YN6tq1q6pWrSo3Nzf5%2Bflp5MiRGjFihHJzcyVJJ0%2Be1MCBA9W4cWO1atVKb7/9tnHH6qlTpzR8%2BHC1atVK4eHhevHFF3Xo0CFJ0qFDhxQSEqJFixapadOmSkhIkCStWrVK0dHRatiwodq0aaP4%2BPgb/ccDAABgyp20LOR2dMPJdY0aNfSvf/1LrVq1Ut26dY3xxx9/3Pj1vHnzNGPGDNWtW1czZ85U//799e2338rDw0P9%2BvVTo0aNNG3aNJ09e1Yvv/yypkyZogkTJkiSsrKytHLlSsXHxysrK0tdunTRP//5T/Xp00dLlizRf/7zHy1atEiVK1fWlClTjMY7PwkJCRoxYoQ2bNig5cuXa8yYMYqOjlZAQIAGDBigmjVrauHChdq3b5%2BGDRt2xXUuXLhQoaGhqlq1qiTJy8tLnTp1MvYZPXq0ihUrpm%2B%2B%2BUYWi0VPP/20qlSpoqeeekqjR4%2BW1WrV8uXL5eXlpVGjRmnw4MH64osvjON//PFHrV27VqVKlVJSUpJeffVVzZo1S82bN9fWrVvVp08f3XvvvWrUqFGB/tnk94D2nBx/Vahg7gHtd5q8/6lQJP/ngpeXqysofJ6ejt%2BLkvBwV1dQ%2BOrUcfxexNSq5eoKCleVKo7fi5KUFFdXgJt1w831mDFj9PLLL6tTp04KDAxU48aN9dBDD%2Bkvf/mLvP73B3tUVJQaNmwoSXrppZf04Ycfavv27fL09DTuzixRooRKlCih2NhY9e7dW6%2B//rokKTc3Vy%2B88IJ8fX3l6%2Burxo0ba//%2B/ZKk1atXq2PHjqr1v99dBg0adM10t0qVKsYC9A4dOmjUqFH67bffZLPZtGfPHk2ZMkUlS5bUfffdp0ceeUTvv/%2B%2Bcexbb72loUOHqm3btqpevbqaNm2qyMhIRUZGysPDQxkZGVq3bp2WLFkiHx8f%2Bfj4aNq0aSpWrJgsFotWr16t%2BPh4%2Bfn5SZIGDhyoRx99VAcPHjQedN6pUydjecnSpUsVGRlpvAHo/vvv1yOPPKJly5YVuLnO7wHt/fsP0FNPmXtA%2B52qaVNXV%2BAKga4uwHVMvuXrjnTZ/xUschYtcnUFLjH7%2BrvclUaMcHUFhe%2BRR1z32UUtaXa2G26u77nnHn322Wf69ddf9f333%2Bunn37S6NGjNWPGDC1cuFCSHB59UqZMGZUuXVppaWm6ePGicnNzFRER4XDO3Nxch7foVLnsr6glSpTQuXPnJEnHjx9XZGSksc3Pz894C09%2B/nweSTp37pzxrMLAQHsjEhYW5nBsnTp1tHLlSu3YsUMbN27Ujz/%2BqEGDBikkJEQLFizQoUOHdPHiRYfPCP9firRz507ZbDbjLwGSjPT78OHDxjH33HOPsf3AgQPauHGjQx02m%2B2GXreZ3wPak5P9ddlSoyLBx%2BdSY/3jj9L/VhwVGVEhh11dQuHz9LzUWKelSTk5rq6mcHXs6OoKCl%2BdOpca6549pcsevVVUDGhRtP5CVaXKpcZ68mTpfysrUQhors256ZfI1K5dW7Vr11avXr2Unp6url27av78%2BZIuPZz7cjabTW5ubvL29lbJkiW1devWa57b3T3/peDZ2dm6cOGCw9ifP6sg58lbF533iBZJDq/NvFxoaKhCQ0PVp08f7d%2B/X08%2B%2BaS%2B/PJLI5nP7/Ozs7OvWtPln5P3sHNJKl68uHr06KExY8Zc9djrye8B7Xv3StdYOXNXs1qL4LVf49%2B9u15OTtG7/uv8XnpX2727SF5/SkVXV%2BAahw6xTAJ3jhu6ofHYsWMaN26ccQNiHn9/f9WpU0dZWVmSLqWweU6dOiWr1apKlSqpatWqOnv2rA4ePGhst1qtBXr3u3SpeTx27Jjxc1pamk6fPn0jlyBJxlKNI0eOGGNJSUnGr/fu3as33njjisa5Zs2aqlKlirKyshQYGCh3d3elpqYa23/44QetXbvWeGJK3nKWy3%2Bdl2D/WdWqVbVnzx6HsWPHjhk3TwIAABQGbmg054aaaz8/P33//fd65ZVXtH//fl28eFFZWVlKSEjQxo0bjSUJ69atU3Jyss6fP6/3339fFSpUUFhYmIKDgxUeHq6JEyfq5MmTOn36tMaOHXvV98X/2QMPPKCEhAT99ttvslqtmjZtmvEu%2BBtRpUoVValSRXPnzlVWVpZ%2B%2BeUXh2dkV6hQQStWrNBrr72mI0eOyGazyWq1asGCBfrtt9/04IMPqmzZsmrTpo3eeecdWSwWHTlyRGPGjNHx48dVvnx5tWrVSjNmzJDFYtGpU6c0ffp0RUREqHLlyvnW1KVLF23ZskVLlixRdna2du3apa5duzr12d0AAAC4tW6oufby8tInn3yi8uXLq3fv3goPD1eLFi20aNEiTZ06VQ888IAk6cknn1RcXJyaNGmixMREzZ4921gCMXXqVNlsNrVp00Zt27ZVbm6uJk%2BeXKDPj4mJUevWrfXUU0%2Bpffv2Cg8Pv6GHel9uxowZ2rZtm5o1a6aZM2fqpZdeMpZs%2BPn5adGiRcrMzFS3bt3UoEEDRUZG6uuvv9a8efMUHBwsSXrzzTdVsmRJtW7dWt26dVP79u3VrVs3STJulnzkkUfUoUMH%2Bfj4aMaMGVetp1atWpo6dao%2B%2BOAD3X///caNnh06dLip6wMAALgZJNfmuNnyFiA7SVRUlPr06aMePXo487ROZ7PZdOHCBXn%2B7/FdS5Ys0cyZM/XNN9%2B4uDLn%2Bte/XF1B4fP1laKipLVri96a6ycapl5/p7uNl5cUGCgdPlz01lzXrOnqCgpfePilp6Q0alQk11w/0t6pf2Tf9mrVkmbPlgYMKJprrv/9b9d87pIlzj/nk086/5y3qxt%2BiczdIiYmRiNHjlRWVpbS0tK0aNEiPfTQQ64uCwAAAHewIttcv/HGG8rIyFCrVq3UqVMn1a5d%2B4oXyQAAABQ1LAsx56YfxXc1a%2B%2BQhyoHBQXpww8/dHUZAAAAuIs4vbkGAADAnauoJc3ORnMNAAAAA821OUV2zTUAAADgbCTXAAAAMJBcm0NyDQAAADgJyTUAAAAMJNfm0FwDAADAQHNtDstCAAAAACchuQYAAICB5NockmsAAADASUiuAQAAYCC5NofmGgAAAAaaa3NYFgIAAAA4Cck1AAAADCTX5pBcAwAAAE5Ccg0AAAADybU5NNcAAAAw0Fybw7IQAAAAwElIrgEAAGAguTaH5BoAAABwEpJrAAAAGEiuzaG5BgAAgIHm2hyWhQAAAABOQnINAAAAA8m1OTTXAAAAMNBcm8OyEAAAAMBJSK4BAABgILk2h%2BQaAAAAcBKSawAAABhIrs2huQYAAICB5tocloUAAADgjmWxWDR48GC1aNFCrVq10quvvqpz587lu%2B/SpUtVp04dhYWFOXz98ssvkqSLFy9q2rRpatOmjZo0aaLevXvr4MGDN1QPzTUAAAAMFy86/%2BtWGjNmjLKyspSQkKAlS5YoJSVFcXFxV92/SZMmSkpKcvhq0KCBJOnTTz/VihUrNGfOHK1bt07Vq1dX//79ZbPZClwPzTUAAADuSH/88YcSExM1ZMgQ%2Bfn5qWLFiurXr5%2BWLFminJycGz5ffHy8YmJiVKtWLfn4%2BGjIkCFKSUnR9u3bC3wO1lwDAADAcCuS5rS0NKWnpzuM%2Bfv7KyAgwNR5d%2B3aJQ8PD4WEhBhj9evX19mzZ7V//36H8TxHjx7Vc889px07dqhMmTIaOHCgoqOjde7cOf3666%2BqV6%2Besa%2BPj4%2BqVaumpKQkNWzYsEA10VwDAADAcCua6/j4eM2ePdthbMCAAYqNjTV1XovFIh8fH7m5uRljvr6%2BkqSMjIwr9vfz81P16tX18ssvq3bt2lq9erWGDx%2BugIAA1axZUzabzTj%2B8vPld66robkGAADALdWtWzdFRUU5jPn7%2Bxfo2GXLlmn48OH5bhsyZMgNrYeOjIxUZGSk8fOjjz6q1atXa%2BnSpRo2bJgk3dD58kNzDQAAAMOtSK4DAgJueglIdHS0oqOj8922YcMGWa1W5ebmysPDQ9KlNFuSypcvX6DzBwYGaseOHSpbtqzc3d2N4/NYLJYCn0vihkYAAADcoerWrSubzabdu3cbY0lJSSpTpoxq1Khxxf6LFy/WqlWrHMZSUlIUFBQkb29v3XvvvUpOTja2nT59WgcOHDCeJlIQNNcAAAAw3EmP4vPz81O7du00ffp0nTx5UseOHdM777yjLl26qFixSws0nn32WaOhzs7O1oQJE5SUlKScnBwlJCRo/fr16t69uySpR48eWrBggVJSUmS1WhUXF6e6desqLCyswDWxLAQAAACGO%2B0Nja%2B//rrGjh2rNm3ayNPTU4899piGDBlibD948KBOnTolSerVq5cyMzM1aNAgpaenq0qVKnrnnXcUGhoqSerevbvS09P1zDPPKDMzUxEREVfciHk9NNcAAAC4Y5UuXVpvv/32VbevXbvW%2BLWbm5v69eunfv365buvm5ubBg4cqIEDB950PTTXAAAAMNxpyfXthjXXAAAAgJOQXAMAAMBAcm0OzTUAAAAMNNfmsCwEAAAAcBKSawAAABhIrs0huQYAAACchOQaAAAABpJrc2iuAQAAYKC5NodlIQAAAICTkFwDAADAQHJtDs31Xe6Jn0a5uoTCd889UtQARe2cLR054upqCtWEHZNcXUKhq1RJ6tNHmrsqUMeOubqawvV9e5urSyh0tWpJsyUNaLFFKRVdXU3h%2B/d/3FxdQuEKD5e0RbO/byRt3erqalyg6P03fjeguQYAAICB5NocmmsAAAAYaK7N4YZGAAAAwElIrgEAAGAguTaH5BoAAABwEpJrAAAAGEiuzaG5BgAAgIHm2hyWhQAAAABOQnINAAAAA8m1OSTXAAAAgJOQXAMAAMBAcm0OzTUAAAAMNNfmsCwEAAAAcBKSawAAABhIrs0huQYAAACchOQaAAAABpJrc2iuAQAAYKC5NodlIQAAAICTkFwDAADAQHJtDs01AAAADDTX5rAsBAAAAHASkmsAAAAYSK7NIbkGAAAAnITkGgAAAAaSa3NorgEAwP%2B3d%2B9xMeb9/8BfUzoQpVKhQg6bU1ZUSDal3VQ21s1a%2B7jtuu2uHHJefVlS2RJtORS382NZtJGznFYRcliyDkmtWw6bSoVySDU1M78//Pa6d%2B4csk1dM/V6Ph7zsPO5rpleTG3vec/7ui4iAYvrmuFYCBERERGRirBzTUREREQCdq5rhp1rIiIiIiIVYeeaiIiIiATsXNcMi2siIiIiErC4rhkW10RERESksYqLixEcHIwLFy5AS0sLrq6uCAwMhL6%2BfpV958%2Bfj3379imtyWQyDB06FOHh4ZgzZw72798PbW1tYbuenh5SU1OrnYcz10REREQkkMtVf6tNgYGBKC0tRUJCAnbt2oWsrCxERka%2Bct/Q0FCkpaUJt8uXL6N9%2B/YYPHiwsM/EiROV9nmXwhpgcU1EREREGurhw4dIAHmRjgAAIABJREFUTEzEjBkzYGJiAgsLC0yaNAm7du1CRUXFWx%2B/efNmtG7dGq6urirLxLEQIiIiIhLURqe5oKAAhYWFSmtmZmYwNzev0fNmZGRAW1sbtra2wlq3bt3w4sUL3L59W2n9fz19%2BhRr1qxBbGys0vr58%2BeRlJSEe/fuoUOHDggODkb37t2rnYnFNREREREJaqO43r59O1auXKm05u/vjylTptToeYuLi9G0aVNIJBJhzcjICABQVFT0xsdu3boVjo6O6NSpk7BmbW0NLS0tTJs2DQYGBli5ciXGjRuHo0ePwtjYuFqZWFwTERERUa0aNWoU3N3dldbMzMyq9dh9%2B/YhICDgldtmzJgBhULxznlkMhm2bduGqKgopfXJkycr3Z89ezYSEhKQmJiIkSNHVuu5WVwTERERkaA2Otfm5uZ/ewRk6NChGDp06Cu3nTlzBs%2BfP4dMJhPO8FFcXAwAMDU1fe1zXrx4EVKpFA4ODm/82tra2mjVqhUKCgqqnZcHNBIRERGRRurSpQsUCgUyMzOFtbS0NBgaGsLGxua1j0tKSkLfvn3RqNF/%2B8wKhQLh4eFKzyWVSvHHH3/A2tq62plYXBMRERGRQJNOxWdiYgJPT08sX74cjx8/xoMHD7Bq1SqMGDFCKJy//PJLHDp0SOlxGRkZsLKyUlqTSCS4f/8%2BQkJCkJ%2Bfj5KSEkRGRkJHRwceHh7VzsTimoiIiIgEmlRcA8DChQvRrFkzDBo0CL6%2BvujRowdmzJghbM/OzsaTJ0%2BUHlNYWIgWLVpUea6wsDC0a9cOw4cPh7OzMzIyMrB582Y0adKk2nk4c01EREREGqtZs2ZYunTpa7cfP368ytrRo0dfuW/z5s0RHh5eozwsromIiIhIUNud5vqOYyFERERERCrCzjURERERCdi5rhkW10REREQkYHFdMxwLISIiIiJSEXauiYiIiEjAznXNsHNNRERERKQi7FwTERERkYCd65phcU1EREREAhbXNcOxECIiIiIiFWHnmoiIiIgE7FzXDDvXREREREQqws41EREREQnYua4ZFtdEREREJGBxXTMcCyEiIiIiUhEW1zWUk5MDOzs73LlzR%2BwoRERERDUml6v%2B1pA0mLGQiooKrF69GgcPHkR%2Bfj4kEgm6d%2B%2BOadOmwcHB4W8/r6WlJdLS0lSYlIiIiIg0VYPpXC9evBjHjx9HdHQ0Ll26hNOnT8PZ2Rnjxo1Ddna22PGIiIiI1AI71zXTYIrrM2fOwMfHB7a2ttDW1kbTpk0xceJEhIaGQldXF48fP8bUqVPRr18/ODg44JtvvkFeXh4AYOTIkVi5cqXS84WGhuKrr77C/fv3YWtri6ysLACAu7s74uPjMX78eNjb28PDwwMpKSnC45KTkzFw4EDY29tj7ty5WLFiBcaMGQMAePjwISZPnow%2BffqgV69eGDt2LAt/IiIiqlMsrmumwYyF2NjYYM%2BePXBxcUGXLl2EdV9fXwDA3LlzUVJSgqSkJCgUCkyfPh2LFi1CTEwMBg8ejAMHDsDf3194XFJSEqZMmfLKr7Vx40ZERESgc%2BfOCA4OxqJFi3Do0CEUFBRgypQpmDVrFj7//HPs378fERERsLW1BQCsWLECRkZGOHXqFGQyGRYvXowlS5ZUKexfp6CgAIWFhUprZnp6MDc1fad/K41nZqb8ZwPSUk/sBHXvz2/vhvZtDgAdOoidoO5ZWSn/2eDY24udoG517qz8Z0Ny%2BbLYCehvajDFdWBgIGbOnIlhw4bB0tISvXv3hqurKz766CPo6uoiJCQElZWVaNKkCQDAw8MDa9asAQAMHjwYP/zwA3JycmBpaYnr16%2BjsLAQHh4eePr0aZWv5ebmhh49egAAPD09sXfvXsjlcpw/fx5NmjTBmDFjoK2tjREjRmDnzp3C454%2BfYrmzZtDV1cXEokEwcHB0NKq/ocL27dvr1KI%2B/v7Y8pf3hQ0BAUFBdgeE4NRo0bB3Nxc7Dh16huxA4igoKAAMTHbG%2BTr3RD9%2BXqPG9dQX%2B/fxA5Qp4T/ny9f3kBfb3E0tE6zqjWYsZDWrVsjLi4OBw8exNixY1FWVob58%2BfDx8cH%2Bfn5uHfvHqZMmQJHR0fY2dlh4cKFkEqlAF4etGhnZ4fExEQAwLFjxzBgwAAYGhq%2B8mtZ/aWloq%2BvD5lMhoqKChQWFqJly5bQ1tYWtnfv3l3476%2B//hpJSUkYNGgQFixYgF9//fWd/o6jRo3C7t27lW6jRo16p%2BeoDwoLC7Fy5coqXXyqn/h6Nyx8vRsWvt7i4FhIzTSY4vpPHTt2xBdffIGYmBgcO3YMFRUV2Lx5M/z8/GBiYoKjR48iLS0NwcHBSo/z8vJSKq69vb1f%2BzVe122Wy%2BVo1KjRa/e1s7PD8ePHMW/ePCgUCvj7%2B2PJkiXV/ruZm5ujW7duSje%2B0yciIiKqOw2iuH7w4AGCg4Px/PlzpXUzMzN07twZxcXFyMnJwZgxY2BiYgIAuHHjhtK%2Bnp6e%2BO2333D16lXk5OTA3d39nXOYmpriwYMHUCgUwtpfT%2BNXXFwMHR0dDBo0CN9//z1Wr16NuLi4d/46RERERH8XO9c10yCKaxMTE5w9exazZ8/G7du3IZfLUVpaioSEBJw7dw5eXl5o0qQJrly5gvLychw4cAAZGRl4/vw5SkpKALwcDenWrRsiIiLg6uoKAwODd87h6OiIx48fIy4uDlKpFLt27cK9e/eE7Z999hnWr1%2BP8vJyVFRU4OrVq2jbtq3K/h2IiIiIqHY1iOJaV1cXW7ZsgampKb766ivY29vD2dkZsbGxiIqKwoABAxAcHIx169bB2dkZFy9eRExMDFq2bImPPvpIeJ7BgwcjNTUVPj4%2BfyuHtbU1wsLCEB0djf79%2ByMzMxNDhw6FRCIBACxfvhwnTpxA37594ezsjHPnziEyMlIl/wYNiZmZGfz9/WHWAM8W0hDx9W5Y%2BHo3LHy9xcHOdc1IFH%2BdUaBaJ5VKoaOjIxTU//d//we5XI4ffvhB5GREREREgIWF6p8zP1/1z6muGkTnWl28ePEC/fr1Q2xsLORyOdLT05GUlARXV1exoxERERGRCrBzXcdSUlIQGRmJu3fvwsTEBCNGjMDEiROFTjYRERGRmGpjCqchnU2RxTURERERCVhc10yDuUIjEREREb1dQzsAUdVYXBMRERGRgMV1zfCARiIiIiIiFWHnmoiIiIgE7FzXDDvXREREREQqws41EREREQnYua4ZFtdEREREJGBxXTMcC6F6paioSOwIRFQLrly5gpCQEEyaNAkAIJfLceTIEZFTUW3Izs7G1KlThfsRERHo3bs3hg8fjqysLBGTEVUPi2vSeCUlJViwYAF69uyJAQMGAACKi4vh5%2BeHx48fi5yOahvfUNV/O3bswLhx4yCVSnH69GkAQGFhIRYtWoSffvpJ5HSkakFBQTA2NgYAnD9/HvHx8VizZg28vLywaNEikdM1DHK56m8NCYtr0ngLFy5EdnY2NmzYAC2tl9/SOjo6aNq0KUJDQ0VOR7WBb6galvXr12P9%2BvUICwuDRCIBAFhYWGDt2rXYunWryOlI1a5du4a5c%2BcCAA4fPgwvLy84Ojpi7NixuH79usjpiN6OxTVpvOTkZERFRcHBwUH4xWtgYICgoCCcO3dO5HRUG/iGqmF5%2BPAhevXqBQDCzzgAdOzYEQUFBWLFolqira0NbW1tAEBKSgrc3NwAAAqFAhUVFWJGazDYua4ZHtBIGk8ikaBp06ZV1mUyGcrLy0VIRLUtOTkZhw8fhomJSZU3VJ6eniKnI1Vr27Ytzp8/j379%2BimtJyQkoHXr1iKlotri6OiIkJAQ6OjoQCqVwsXFBQCwadMmdO7cWeR0DYMmFsNpaWmYOXMmjI2NsWPHjjfu%2B9NPP2Hbtm0oLCyEra0t5s2bh%2B7duwMAysvLERYWhuTkZJSXl6NPnz4ICQkRRpWqg51r0nj29vaIiIhAWVmZsJaTk4N58%2BbByclJxGRUW/iGqmEZP348Jk2ahFmzZqGyshKhoaEYM2YMAgMDMW3aNLHjkYqFhIRAS0sLRUVFWL16NXR0dPDkyRPs2bMHQUFBYscjNbR//35MmTIFbdu2feu%2Bx48fR0xMDCIiInD27Fm4ublhwoQJePHiBQBg2bJlSE9Px/bt23H06FEoFAphTKm6JAqFQvG3/iZEaiI3NxeTJk3CrVu3UFlZCQMDA7x48QI9e/bE0qVL0apVK7EjkopNnDgRlpaW%2BPbbb9GnTx9cvXoVOTk5CAsLg1wux5o1a8SOSCqWlpaGPXv24I8//oC%2Bvj6sra0xcuRItG/fXuxoRPXO/5/KUSmZTPXP%2Baf4%2BHh88MEH2LFjB06fPv3GzrWfnx/atWsnFMxyuRwffPAB5s6dC09PT/Tt2xdLlizBoEGDAABZWVnw8fHByZMnYWFhUa08HAshjde6dWvs3bsX165dw/3796Gnp4c2bdqgU6dOYkejWhIYGIhJkybBwcEBlZWV6N27t9IbKqpfDh06BG9vb9jZ2YkdherAmDFjlGbr/0pLSwsWFhZwdXWFt7d3HScjdTVy5Mhq75uenq70vaOlpYUuXbogLS0NXbp0wbNnz9CtWzdhe4cOHaCvr4/09HQW19Rw5ObmAgBatGiBFi1aKK1raWmhRYsWaNSI3%2Br1Cd9QNSwhISEYOHAgmjRpInYUqgOOjo7Ytm0bbGxsYGdnBy0tLaSlpeHevXvw9fVFUVERgoKCkJ2dDT8/P7Hj1ku1MXNdUFCAwsJCpTUzMzOYm5ur/ou9QXFxMYyMjJTWjIyMUFRUhOLiYgCAoaGh0nZDQ8N3Ou0rKw7SeO7u7q/tcgAv35U6OzsjNDS02u86STNYWlpWeUMFgAe51TPTp0/H/PnzMWzYMLRu3Vo4k8SfbGxsREpGtSE/Px8BAQH4xz/%2BobS%2Ba9cu3Lx5E4sXL0Z6ejqmTp3K4rqW1MbAcEzMdqxcuVJpzd/fH1OmTHnrY/ft24eAgIBXbgsPD8fw4cPfKcvbJqJrOjHN4po03tq1a7FixQp89tlnsLOzg0QiQVpaGnbu3IkJEyagcePG2LRpE77//vsqP9ikmfbs2YPw8HA8e/ZMaV2hUEAikSAjI0OkZFQbQkJCALwcD/mTRCLh611PHT58GMHBwVXWfX194eLigrlz56Jr1648p72GGTVqFNzd3ZXWzMzMqvXYoUOHYujQoSrJYWxsLHSo/1RcXIxOnTrBxMREuG9gYCBsf/LkCUxNTav9NVhck8Zbvnw5li9frnSUcOfOneHg4IB58%2BYhNjYW3bp1w0cffSRiSlKlyMhI/Otf/4Kbmxt0dXXFjkO1LCkpSewIVIeMjIwQFxeHf/7zn0qfSu7evVsY8YuNjUW7du1ESkh/h7m5eZ2PgLxK9%2B7dkZ6ejk8%2B%2BQTAy7NM3bhxAyNGjIC1tTWMjIyQnp4OS0tLAMDNmzchlUqFU/VVB4tr0ni3b98W3m3%2BlZmZGW7cuCHcl2viiTvplRQKBb755hvO0jcQf/6Sy8nJQU5ODiQSCdq0acMxr3oqKCgIU6dOxapVq9CqVSs0atQIeXl5KCoqQlhYGCoqKrBs2TJER0eLHZU0xODBgxEaGgoHBweMHj0aM2fOxJAhQ2Bra4uNGzdCV1cXAwcOhLa2Nj799FOsWbMGdnZ20NfXx9KlS/Hhhx8qjSC%2BDU/FRxrvyy%2B/hEwmw7hx49C6dWvo6OggJycHP/74I549e4a4uDh8/fXXaN68OZYvXy52XFKBdevWQSaTscBuIHJycjB9%2BnSkpaUJaxKJBH379sXy5curHJxEmq%2BgoADnz5/Hw4cPIZfLYWpqCkdHR1hZWQEASktL0bhxY5FTkrrw9PREbm4uZDIZ5HI5dHR0AABHjhyBpaUlbG1tsX79enzwwQcAXn7ysW7dOjx69Ah2dnYIDg7Ge%2B%2B9BwCQSqUIDw/HwYMHUVlZCTc3NwQHB6NZs2bVzsPimjReUVERvvvuO6SkpAiXxtXW1oajoyMCAgLQtWtXzJs3DwEBAfwlXE9cvnwZM2fORFFRkdJVGv/EMYL6ZcKECdDT08PUqVPRpk0bAC/PPftnYb1kyRKRE1JtkUqlVdY4CkbqjsU11RsKhQLFxcVQKBS4ceMGdu/ejaSkJFy9elXsaKRiH374IWxsbNC/f3/o6elV2f7ZZ5%2BJkIpqS69evXD69GmlA4yAlwcZ%2Bfj4ICUlRaRkVBvOnj2LRYsW4e7du5C94sojPICV1B0/T6V6Iy8vD7t378aePXtQWFgId3d3xMTEiB2LasGjR49w8OBBdrAaiCZNmgifSv0vHktR/wQFBcHJyQmzZ8/m6AdpJBbXpNGkUikSExMRHx%2BPCxcu4P3330dBQQHi4%2BPRuXNnseNRLRkyZAjOnTsHV1dXsaNQHXB2dsasWbMwffp04XLnt2/fxooVK%2BDg4CByOlK1hw8fIiQkhMdTkMbidy5prO%2B//x4JCQlo3rw5Pv74YyxcuBDW1tawt7ev8vEx1S%2BNGjXCnDlz0LZtW7Rq1QpaWlpK26OiokRKRrVh/vz5mDdvHj799FNhTaFQwMXF5ZXnQybN5uTkhMzMzHc69RmROmFxTRpr27Zt8PHxwbRp04SDnKhhKC0txcCBA8WOQXXE0NAQMTExePLkCXJzcyGVSmFtbf3KU3CS5vPw8EBAQADc3NxgZWVV5c3zqFGjREpGVD08oJE0VkpKCnbu3IkTJ06gS5cuGDp0KLy8vODm5ob9%2B/fD2tpa7IhEpCLx8fHo2rUrunXrBgBITk5Gfn4%2BC6166H%2Bv4vdXEomEZwMitcfONWksFxcXuLi4oKioCPv27UNsbCzCwsIgl8tx/vx54eIDVD%2BdOnUKhw8fxv3794WLigwbNowzuPXQsmXLcODAASxbtkxYa9y4MTZu3Ijc3FzMmDFDxHSkasePHxc7AlGNsHNN9cqVK1cQHx%2BPw4cPQ19fH76%2BvpgzZ47YsUjFtmzZgqioKAwcOFC47P3t27eRnJwsXE2L6o8BAwYgLi5OuFLjn3JzczF69GicPHlSpGSkKvfu3RN%2Blu/cufPGfW1sbOoiEtHfxrYe1Ss9e/ZEz549MW/ePBw8eBC7du0SOxLVgk2bNmHNmjXo27ev0vrp06cRGRnJ4rqeKS0thbGxcZV1AwMDPH36VIREpGoff/wxrl27BgDw8vKCRCLBq3p/EomE57kmtcfONRFpHHt7e6SmpkJbW1tpXSaTwcnJCZcuXRIpGdWGqVOnQktLCxMmTICVlRXkcjnu3LmDVatWQV9fH9HR0WJHpBrKzc1F69atAby83P2b/O8nGETqRuvtuxARqZc2bdq8chQgJSVF%2BAVN9UdwcDCkUimGDx8OR0dH9OnTB6NHj4a%2Bvj4WLVokdjxSgb/%2B3AYHB%2BPixYswMjKCpaVllRuRumPnmog0TmJiIqZPnw5nZ2d06NABwMuZ6zNnziA0NBTDhg0TOSHVhuLiYty/fx9aWlqwtLSEkZGR2JGoFoSGhuL48eN4%2BPAhBgwYAG9vb7i7u/NqjaQxWFwTkUbKzMzE7t27cf/%2BfUilUrRp0wa%2Bvr7o2bOn2NFIhV68eAGZTIZmzZoBeDl/vXfvXpSWlsLV1VV4c0X1z/Xr15GYmIhjx44hNzcXrq6uGDJkCDw8PMSORvRGLK6JSCMpFAqUlZUJ3azi4mI0a9asyhw2aa6bN29i7NixmDNnDnx9fSGXyzFq1CjcunULVlZW%2BOOPP/Djjz%2BiV69eYkelWnbt2jVERETg0qVLPKCR1B5nrolI42RmZmLQoEE4ceKEsLZ79254eHggMzNTxGSkSsuWLcPgwYPh7e0N4OWFYzIyMrBnzx4cOHAAs2bNwqpVq0ROSbUlLy8PW7ZswZdffonPP/8cFRUVCAgIEDsW0Vuxc01EGmf06NFwcXHBV199BX19fQCAVCrFpk2bkJycjNjYWJETkio4Ojri2LFjaN68OQBgwYIFyM/Px9q1awEAz58/h7u7Oy5cuCBmTFKxVatWISkpCZmZmejevTu8vLzg6enJg5VJY/A810SkcX7//Xds3bpVaQREV1cX48aNw%2BrVq0VMRqoklUqFwhoALly4gJEjRwr3mzZtivLycjGiUS06efIkhgwZgpUrV7KgJo3EsRAi0jjm5ub47bffqqyfOXMGJiYmIiSi2tCiRQvcv38fAJCdnY179%2B6hX79%2Bwva8vDyeMaQe2rFjB8aNG1elsH7x4gVcXFxESkVUfexcE5HGmThxIsaPHw9nZ2eli4pcuHABkZGRYscjFXF3d0dQUBBGjhyJrVu3omPHjujatauwffXq1XB0dBQxIdWG/Px8hIWF4fr165BKpcJ6SUkJzM3NRUxGVD2cuSYijXT9%2BnXs27cP2dnZkEgksLa2xvDhw9G5c2exo5GKPH/%2BHN9%2B%2By3Onj0LGxsbLFmyRHh9w8LCcODAAcTGxqJ9%2B/YiJyVVGj9%2BPADAw8MDCxcuRHBwMNLT05GRkYFVq1bB1NRU5IREb8bimoiINM5//vMfmJqacgyoHnJycsLJkyfRuHFjvP/%2B%2B7h69SoAICEhAampqQgODhY3INFbsLgmIo2Tm5uLDRs2ICsr65UHtMXFxYmQiohUwdnZGSdOnICenh6cnJzwyy%2B/oHnz5pBKpejfvz8uXrwodkSiN%2BLMNRFpnJkzZ6K0tBQuLi68JHID0LlzZ0gkklduk0gksLCwgKurK7799ls0bdq0jtORqjk4OMDf3x/R0dGws7NDeHg4xowZgytXrkBPT0/seERvxc41EWkce3t7nDx5EoaGhmJHoTpw8OBBrFixAl5eXrCzs4NEIsG1a9fwyy%2B/wM/PDzKZDD///DM6deqE8PBwseNSDRUVFeGHH35ASEgI7t69Cz8/P%2BTl5aFx48YIDg6Gr6%2Bv2BGJ3oidayLSOO3atVM6iwDVb3FxcYiMjESPHj2EtUGDBmHQoEFYuXIl1q1bhwEDBmD48OEipiRVyMnJga6uLhYtWgQAMDIygpeXF4qLi%2BHt7Y3%2B/fuLnJDo7XieayLSOLNnz8b8%2BfNx6tQpZGVl4c6dO0o3ql/S0tJga2tbZf29994T5m8NDQ1RVlZW19FIhVJTU%2BHj44Nff/0VwMuLCI0ZMwaHDx/Go0eP4O/vjxMnToickujt2LkmIo0zbtw4AEBycnKVbRKJBBkZGXWciGpT%2B/bt8d1332H8%2BPGwtLREo0aNkJOTgw0bNqBly5aQyWQIDAyEvb292FGpBmJiYjBhwgQMGTIEAHDs2DEUFBQgMTERpqamSEhIwMaNG%2BHm5iZyUqI348w1EWmcnJycN263tLSsoyRUF7KzszF58mTcvHlTOLBRoVDAysoK0dHR6Nq1K8aOHYvQ0FBYWVmJnJb%2Brl69eiElJQVNmjQBAAQEBKCsrAzR0dEAgLKyMvTv3x%2BXLl0SMybRW7FzTUQaY%2BnSpW/dRyKRYMaMGXWQhuqKtbU19u/fj/z8fBQWFkIul8PU1FTpTdSmTZvEC0gqoVAolM7%2Bk5qaKnxKBQB6enqQy%2BViRCN6JyyuiUhjXL58%2Ba37vO6UbaTZHj58iOzsbGGu%2BunTp8J8vYuLi5jRSEUsLCyQlZWFjh07IjMzE3l5eejXr5%2Bw/e7duzA2NhYxIVH1cCyEiIjU2oYNG7Bs2TLIZLIq2zhjX39ER0cjOTkZPj4%2B2LNnD5o1a4aff/4ZAFBSUoKAgACYmppi4cKFIiclejMW10REpNb69euH2bNnw9vbG/r6%2BmLHoVpSWVmJ8PBwnD17FjY2NggMDESrVq0AACEhITh79iy2bNkCc3NzkZMSvRmLayIiUmt9%2BvTB2bNnoa2tLXYUEkl%2Bfj5MTEygo6MjdhSit%2BJ5romISK198sknSEhIEDsGicjCwoKFNWkMHtBIRERqrbKyEosXL8bWrVthZWUFLS3lvlBUVJRIyYiIqmJxTUREaq2kpAQDBw4UOwYRUbVw5pqIiIiISEXYuSYiIrWzc%2BdOjBgxAgCwffv21%2B4nkUjw6aef1lUsIqK3YueaiIjUzuDBg3HkyBEAgLu7%2B2v3k0gkSEpKqqtYRERvxeKaiIiIiEhFOBZCRERqZ%2B/evdXed9iwYbWYhIjo3bBzTUREasfFxUXp/tOnT1FRUQFDQ0MoFAo8ffoU%2Bvr6sLCwwNGjR0VKSURUFTvXRESkdlJSUoT/jo%2BPR3p6OqZNmwZjY2MAQEFBAZYvXw57e3uxIhIRvRI710REpNZcXV1x9OhR6OvrK60/f/4c3t7eOHXqlEjJiIiq4uXPiYhIrZWVlSEvL6/K%2BqNHj1BeXi5CIiKi1%2BNYCBERqbUhQ4ZgzJgx%2BPjjj2FlZQWZTIa8vDwcPHgQnp6eYscjIlLCsRAiIlJrMpkMO3fuRGJiIh48eACpVApzc3N88MEHGDt2LHR0dMSOSEQkYHFNRERERKQiHAshIiK19uzZM%2BzYsQNZWVmvnLGOiooSIRUR0auxuCYiIrU2Y8YM/P777%2BjduzcaN24sdhwiojfiWAgREak1e3t7HDlyBBYWFmJHISJ6K56Kj4iI1FrLli1hYGAgdgwiomph55qIiNTa6dOncejQIXz99dewsrKCRCJR2q6rqytSMiKiqlhcExGRWnNwcEBpaSnkcvkrt2dkZNRxIiKi1%2BMBjUREpNb%2B/e9/ix2BiKja2LkmIiKNUVRUBGNjY7FjEBG9Fg9oJCIitVZSUoIFCxagZ8%2BeGDBgAACguLgYfn5%2BePz4scjpiIiUsbgmIiK1tnDhQmRnZ2PDhg3Q0nr5a0tHRwdNmzZFaGioyOmIiJRx5pqIiNRacnIyDh8%2BDBMTE%2BFMIQYGBggKCoKnp6fI6YiIlLFzTUREak0ikaBp06ZV1mUy2Ssvh05EJCYW10REpNbs7e0RERGBsrIyYS0nJwfz5s2Dk5OTiMmIiKri2UKIiEit5ebmYtKkSbh16xYqKyuh9Av0AAAC5UlEQVRhYGCAFy9ewN7eHlFRUWjVqpXYEYmIBCyuiYhII6SlpSE7Oxt6enpo06YNOnXqJHYkIqIqOBZCRERqTy6Xo7KyEtra2pDJZCgtLQV7Q0Skjni2ECIiUmuXL1/G5MmTUVRUhGbNmkGhUOD58%2Bdo0aIFVq1ahR49eogdkYhIwLEQIiJSa56envjwww/h5%2BeHZs2aAQCePHmCtWvXIikpCUePHhU5IRHRf7G4JiIitfb%2B%2B%2B/j4sWL0NXVVVovLy%2BHk5MTrl69KlIyIqKqOHNNRERqrXfv3sjMzKyyfvv2bfTu3VuEREREr8fONRERqbVNmzZh8%2BbNcHd3h42NDWQyGbKzs3H8%2BHGMGDECpqamwr6jRo0SMSkREYtrIiJSc%2B7u7tXaTyKRICkpqZbTEBG9GYtrIiJSWzk5OdDR0YG5uTkAID8/Hz/99BPKysrg7u6O/v37i5yQiEgZZ66JiEgtpaamwsfHBxcuXAAASKVSfPHFFzh8%2BDBycnLg7%2B%2BPEydOiJySiEgZz3NNRERqKSYmBhMmTMCQIUMAAMeOHUNBQQESExNhamqKhIQEbNy4EW5ubiInJSL6L3auiYhILaWlpeGLL74Q7p88eRIDBgwQDmD08PBARkaGWPGIiF6JxTUREaklhUKBxo0bC/dTU1Ph5OQk3NfT04NcLhcjGhHRa7G4JiIitWRhYYGsrCwAQGZmJvLy8tCvXz9h%2B927d2FsbCxWPCKiV%2BLMNRERqSVvb28EBATAx8cHe/bsQc%2BePdGhQwcAQElJCSIjI%2BHi4iJySiIiZSyuiYhILU2aNAlPnjzBzp07YWNjg8DAQGFbZGQkbt26haCgIBETEhFVxfNcExGRxsnPz4eJiQl0dHTEjkJEpITFNRERERGRivCARiIiIiIiFWFxTURERESkIiyuiYiIiIhUhMU1EREREZGKsLgmIiIiIlIRFtdERERERCrC4pqIiIiISEVYXBMRERERqcj/A1d3X5QDGAlGAAAAAElFTkSuQmCC\" class=\"center-img\">\n",
              "</div>\n",
              "    <div class=\"row headerrow highlight\">\n",
              "        <h1>Sample</h1>\n",
              "    </div>\n",
              "    <div class=\"row variablerow\">\n",
              "    <div class=\"col-md-12\" style=\"overflow:scroll; width: 100%%; overflow-y: hidden;\">\n",
              "        <table border=\"1\" class=\"dataframe sample\">\n",
              "  <thead>\n",
              "    <tr style=\"text-align: right;\">\n",
              "      <th></th>\n",
              "      <th>Age</th>\n",
              "      <th>Income</th>\n",
              "      <th>SpendingScore</th>\n",
              "      <th>Savings</th>\n",
              "    </tr>\n",
              "  </thead>\n",
              "  <tbody>\n",
              "    <tr>\n",
              "      <th>0</th>\n",
              "      <td>58</td>\n",
              "      <td>77769</td>\n",
              "      <td>0.791329</td>\n",
              "      <td>6559.829923</td>\n",
              "    </tr>\n",
              "    <tr>\n",
              "      <th>1</th>\n",
              "      <td>59</td>\n",
              "      <td>81799</td>\n",
              "      <td>0.791082</td>\n",
              "      <td>5417.661426</td>\n",
              "    </tr>\n",
              "    <tr>\n",
              "      <th>2</th>\n",
              "      <td>62</td>\n",
              "      <td>74751</td>\n",
              "      <td>0.702657</td>\n",
              "      <td>9258.992965</td>\n",
              "    </tr>\n",
              "    <tr>\n",
              "      <th>3</th>\n",
              "      <td>59</td>\n",
              "      <td>74373</td>\n",
              "      <td>0.765680</td>\n",
              "      <td>7346.334504</td>\n",
              "    </tr>\n",
              "    <tr>\n",
              "      <th>4</th>\n",
              "      <td>87</td>\n",
              "      <td>17760</td>\n",
              "      <td>0.348778</td>\n",
              "      <td>16869.507130</td>\n",
              "    </tr>\n",
              "  </tbody>\n",
              "</table>\n",
              "    </div>\n",
              "</div>\n",
              "</div>"
            ],
            "text/plain": [
              "<pandas_profiling.ProfileReport at 0x7fd88f749198>"
            ]
          },
          "metadata": {
            "tags": []
          },
          "execution_count": 6
        }
      ]
    },
    {
      "cell_type": "code",
      "metadata": {
        "id": "EuzKpkQ_ahK6",
        "colab_type": "code",
        "outputId": "ecfbb7c3-1252-4fa0-db8a-9a1240d8e2c2",
        "colab": {
          "base_uri": "https://localhost:8080/",
          "height": 343
        }
      },
      "source": [
        "X = df.copy()\n",
        "X = X.drop(['Age', 'Savings'], axis=1)\n",
        "X.head(10)"
      ],
      "execution_count": 0,
      "outputs": [
        {
          "output_type": "execute_result",
          "data": {
            "text/html": [
              "<div>\n",
              "<style scoped>\n",
              "    .dataframe tbody tr th:only-of-type {\n",
              "        vertical-align: middle;\n",
              "    }\n",
              "\n",
              "    .dataframe tbody tr th {\n",
              "        vertical-align: top;\n",
              "    }\n",
              "\n",
              "    .dataframe thead th {\n",
              "        text-align: right;\n",
              "    }\n",
              "</style>\n",
              "<table border=\"1\" class=\"dataframe\">\n",
              "  <thead>\n",
              "    <tr style=\"text-align: right;\">\n",
              "      <th></th>\n",
              "      <th>Income</th>\n",
              "      <th>SpendingScore</th>\n",
              "    </tr>\n",
              "  </thead>\n",
              "  <tbody>\n",
              "    <tr>\n",
              "      <th>0</th>\n",
              "      <td>77769</td>\n",
              "      <td>0.791329</td>\n",
              "    </tr>\n",
              "    <tr>\n",
              "      <th>1</th>\n",
              "      <td>81799</td>\n",
              "      <td>0.791082</td>\n",
              "    </tr>\n",
              "    <tr>\n",
              "      <th>2</th>\n",
              "      <td>74751</td>\n",
              "      <td>0.702657</td>\n",
              "    </tr>\n",
              "    <tr>\n",
              "      <th>3</th>\n",
              "      <td>74373</td>\n",
              "      <td>0.765680</td>\n",
              "    </tr>\n",
              "    <tr>\n",
              "      <th>4</th>\n",
              "      <td>17760</td>\n",
              "      <td>0.348778</td>\n",
              "    </tr>\n",
              "    <tr>\n",
              "      <th>5</th>\n",
              "      <td>131578</td>\n",
              "      <td>0.847034</td>\n",
              "    </tr>\n",
              "    <tr>\n",
              "      <th>6</th>\n",
              "      <td>76500</td>\n",
              "      <td>0.785198</td>\n",
              "    </tr>\n",
              "    <tr>\n",
              "      <th>7</th>\n",
              "      <td>42592</td>\n",
              "      <td>0.355290</td>\n",
              "    </tr>\n",
              "    <tr>\n",
              "      <th>8</th>\n",
              "      <td>34384</td>\n",
              "      <td>0.324719</td>\n",
              "    </tr>\n",
              "    <tr>\n",
              "      <th>9</th>\n",
              "      <td>27693</td>\n",
              "      <td>0.367063</td>\n",
              "    </tr>\n",
              "  </tbody>\n",
              "</table>\n",
              "</div>"
            ],
            "text/plain": [
              "   Income  SpendingScore\n",
              "0   77769       0.791329\n",
              "1   81799       0.791082\n",
              "2   74751       0.702657\n",
              "3   74373       0.765680\n",
              "4   17760       0.348778\n",
              "5  131578       0.847034\n",
              "6   76500       0.785198\n",
              "7   42592       0.355290\n",
              "8   34384       0.324719\n",
              "9   27693       0.367063"
            ]
          },
          "metadata": {
            "tags": []
          },
          "execution_count": 7
        }
      ]
    },
    {
      "cell_type": "code",
      "metadata": {
        "id": "Zne-v6P_ahK7",
        "colab_type": "code",
        "colab": {}
      },
      "source": [
        "scaler = StandardScaler()\n",
        "features = ['Income', 'SpendingScore']\n",
        "X[features] = scaler.fit_transform(X[features])"
      ],
      "execution_count": 0,
      "outputs": []
    },
    {
      "cell_type": "code",
      "metadata": {
        "id": "E9OumIUlahK-",
        "colab_type": "code",
        "outputId": "0f17ecd7-e938-4c7e-cc9d-d3f606cd9b2b",
        "colab": {
          "base_uri": "https://localhost:8080/",
          "height": 729
        }
      },
      "source": [
        "X.shape\n",
        "X.info()\n",
        "X.describe().transpose()\n",
        "X.head(10)\n",
        "X.tail()"
      ],
      "execution_count": 0,
      "outputs": [
        {
          "output_type": "execute_result",
          "data": {
            "text/plain": [
              "(505, 2)"
            ]
          },
          "metadata": {
            "tags": []
          },
          "execution_count": 9
        },
        {
          "output_type": "stream",
          "text": [
            "<class 'pandas.core.frame.DataFrame'>\n",
            "RangeIndex: 505 entries, 0 to 504\n",
            "Data columns (total 2 columns):\n",
            "Income           505 non-null float64\n",
            "SpendingScore    505 non-null float64\n",
            "dtypes: float64(2)\n",
            "memory usage: 8.0 KB\n"
          ],
          "name": "stdout"
        },
        {
          "output_type": "execute_result",
          "data": {
            "text/html": [
              "<div>\n",
              "<style scoped>\n",
              "    .dataframe tbody tr th:only-of-type {\n",
              "        vertical-align: middle;\n",
              "    }\n",
              "\n",
              "    .dataframe tbody tr th {\n",
              "        vertical-align: top;\n",
              "    }\n",
              "\n",
              "    .dataframe thead th {\n",
              "        text-align: right;\n",
              "    }\n",
              "</style>\n",
              "<table border=\"1\" class=\"dataframe\">\n",
              "  <thead>\n",
              "    <tr style=\"text-align: right;\">\n",
              "      <th></th>\n",
              "      <th>count</th>\n",
              "      <th>mean</th>\n",
              "      <th>std</th>\n",
              "      <th>min</th>\n",
              "      <th>25%</th>\n",
              "      <th>50%</th>\n",
              "      <th>75%</th>\n",
              "      <th>max</th>\n",
              "    </tr>\n",
              "  </thead>\n",
              "  <tbody>\n",
              "    <tr>\n",
              "      <th>Income</th>\n",
              "      <td>505.0</td>\n",
              "      <td>-2.638154e-17</td>\n",
              "      <td>1.000992</td>\n",
              "      <td>-1.766355</td>\n",
              "      <td>-1.139805</td>\n",
              "      <td>-0.012106</td>\n",
              "      <td>0.878451</td>\n",
              "      <td>1.849048</td>\n",
              "    </tr>\n",
              "    <tr>\n",
              "      <th>SpendingScore</th>\n",
              "      <td>505.0</td>\n",
              "      <td>-1.954432e-16</td>\n",
              "      <td>1.000992</td>\n",
              "      <td>-1.947295</td>\n",
              "      <td>-0.772201</td>\n",
              "      <td>-0.527678</td>\n",
              "      <td>1.014725</td>\n",
              "      <td>1.908103</td>\n",
              "    </tr>\n",
              "  </tbody>\n",
              "</table>\n",
              "</div>"
            ],
            "text/plain": [
              "               count          mean       std  ...       50%       75%       max\n",
              "Income         505.0 -2.638154e-17  1.000992  ... -0.012106  0.878451  1.849048\n",
              "SpendingScore  505.0 -1.954432e-16  1.000992  ... -0.527678  1.014725  1.908103\n",
              "\n",
              "[2 rows x 8 columns]"
            ]
          },
          "metadata": {
            "tags": []
          },
          "execution_count": 9
        },
        {
          "output_type": "execute_result",
          "data": {
            "text/html": [
              "<div>\n",
              "<style scoped>\n",
              "    .dataframe tbody tr th:only-of-type {\n",
              "        vertical-align: middle;\n",
              "    }\n",
              "\n",
              "    .dataframe tbody tr th {\n",
              "        vertical-align: top;\n",
              "    }\n",
              "\n",
              "    .dataframe thead th {\n",
              "        text-align: right;\n",
              "    }\n",
              "</style>\n",
              "<table border=\"1\" class=\"dataframe\">\n",
              "  <thead>\n",
              "    <tr style=\"text-align: right;\">\n",
              "      <th></th>\n",
              "      <th>Income</th>\n",
              "      <th>SpendingScore</th>\n",
              "    </tr>\n",
              "  </thead>\n",
              "  <tbody>\n",
              "    <tr>\n",
              "      <th>0</th>\n",
              "      <td>0.062733</td>\n",
              "      <td>1.103593</td>\n",
              "    </tr>\n",
              "    <tr>\n",
              "      <th>1</th>\n",
              "      <td>0.174811</td>\n",
              "      <td>1.102641</td>\n",
              "    </tr>\n",
              "    <tr>\n",
              "      <th>2</th>\n",
              "      <td>-0.021200</td>\n",
              "      <td>0.761727</td>\n",
              "    </tr>\n",
              "    <tr>\n",
              "      <th>3</th>\n",
              "      <td>-0.031712</td>\n",
              "      <td>1.004705</td>\n",
              "    </tr>\n",
              "    <tr>\n",
              "      <th>4</th>\n",
              "      <td>-1.606165</td>\n",
              "      <td>-0.602619</td>\n",
              "    </tr>\n",
              "    <tr>\n",
              "      <th>5</th>\n",
              "      <td>1.559204</td>\n",
              "      <td>1.318359</td>\n",
              "    </tr>\n",
              "    <tr>\n",
              "      <th>6</th>\n",
              "      <td>0.027441</td>\n",
              "      <td>1.079955</td>\n",
              "    </tr>\n",
              "    <tr>\n",
              "      <th>7</th>\n",
              "      <td>-0.915567</td>\n",
              "      <td>-0.577512</td>\n",
              "    </tr>\n",
              "    <tr>\n",
              "      <th>8</th>\n",
              "      <td>-1.143838</td>\n",
              "      <td>-0.695375</td>\n",
              "    </tr>\n",
              "    <tr>\n",
              "      <th>9</th>\n",
              "      <td>-1.329920</td>\n",
              "      <td>-0.532121</td>\n",
              "    </tr>\n",
              "  </tbody>\n",
              "</table>\n",
              "</div>"
            ],
            "text/plain": [
              "     Income  SpendingScore\n",
              "0  0.062733       1.103593\n",
              "1  0.174811       1.102641\n",
              "2 -0.021200       0.761727\n",
              "3 -0.031712       1.004705\n",
              "4 -1.606165      -0.602619\n",
              "5  1.559204       1.318359\n",
              "6  0.027441       1.079955\n",
              "7 -0.915567      -0.577512\n",
              "8 -1.143838      -0.695375\n",
              "9 -1.329920      -0.532121"
            ]
          },
          "metadata": {
            "tags": []
          },
          "execution_count": 9
        },
        {
          "output_type": "execute_result",
          "data": {
            "text/html": [
              "<div>\n",
              "<style scoped>\n",
              "    .dataframe tbody tr th:only-of-type {\n",
              "        vertical-align: middle;\n",
              "    }\n",
              "\n",
              "    .dataframe tbody tr th {\n",
              "        vertical-align: top;\n",
              "    }\n",
              "\n",
              "    .dataframe thead th {\n",
              "        text-align: right;\n",
              "    }\n",
              "</style>\n",
              "<table border=\"1\" class=\"dataframe\">\n",
              "  <thead>\n",
              "    <tr style=\"text-align: right;\">\n",
              "      <th></th>\n",
              "      <th>Income</th>\n",
              "      <th>SpendingScore</th>\n",
              "    </tr>\n",
              "  </thead>\n",
              "  <tbody>\n",
              "    <tr>\n",
              "      <th>500</th>\n",
              "      <td>0.714535</td>\n",
              "      <td>-0.453557</td>\n",
              "    </tr>\n",
              "    <tr>\n",
              "      <th>501</th>\n",
              "      <td>-1.545704</td>\n",
              "      <td>-1.164109</td>\n",
              "    </tr>\n",
              "    <tr>\n",
              "      <th>502</th>\n",
              "      <td>-1.118447</td>\n",
              "      <td>-0.578054</td>\n",
              "    </tr>\n",
              "    <tr>\n",
              "      <th>503</th>\n",
              "      <td>-1.524929</td>\n",
              "      <td>-0.579866</td>\n",
              "    </tr>\n",
              "    <tr>\n",
              "      <th>504</th>\n",
              "      <td>-1.258335</td>\n",
              "      <td>-0.831890</td>\n",
              "    </tr>\n",
              "  </tbody>\n",
              "</table>\n",
              "</div>"
            ],
            "text/plain": [
              "       Income  SpendingScore\n",
              "500  0.714535      -0.453557\n",
              "501 -1.545704      -1.164109\n",
              "502 -1.118447      -0.578054\n",
              "503 -1.524929      -0.579866\n",
              "504 -1.258335      -0.831890"
            ]
          },
          "metadata": {
            "tags": []
          },
          "execution_count": 9
        }
      ]
    },
    {
      "cell_type": "code",
      "metadata": {
        "id": "Fe2PZinlXCUs",
        "colab_type": "code",
        "cellView": "code",
        "colab": {}
      },
      "source": [
        "#@title Default title text\n",
        "plt.style.use('default');\n",
        "\n",
        "plt.figure(figsize=(16, 10));\n",
        "plt.grid(True);\n",
        "\n",
        "plt.scatter(X.iloc[:, 0], X.iloc[:, 1], c=\"black\", s=200);\n",
        "plt.title(\"Customer Data\", fontsize=20);\n",
        "plt.xlabel('Annual Income (K)', fontsize=22);\n",
        "plt.ylabel('Spending Score', fontsize=22);\n",
        "plt.xticks(fontsize=18);\n",
        "plt.yticks(fontsize=18);"
      ],
      "execution_count": 0,
      "outputs": []
    },
    {
      "cell_type": "code",
      "metadata": {
        "id": "LXsVTmtVd5X8",
        "colab_type": "code",
        "colab": {}
      },
      "source": [
        ""
      ],
      "execution_count": 0,
      "outputs": []
    },
    {
      "cell_type": "code",
      "metadata": {
        "id": "5K_KtI7qXcN7",
        "colab_type": "code",
        "outputId": "b2b11c32-abac-4fa2-ebe7-883cb8a71a56",
        "colab": {
          "base_uri": "https://localhost:8080/",
          "height": 67
        }
      },
      "source": [
        "k_means = KMeans(init='k-means++', n_clusters=5, n_init=10, random_state=42)\n",
        "k_means.fit(X)"
      ],
      "execution_count": 0,
      "outputs": [
        {
          "output_type": "execute_result",
          "data": {
            "text/plain": [
              "KMeans(algorithm='auto', copy_x=True, init='k-means++', max_iter=300,\n",
              "       n_clusters=5, n_init=10, n_jobs=None, precompute_distances='auto',\n",
              "       random_state=42, tol=0.0001, verbose=0)"
            ]
          },
          "metadata": {
            "tags": []
          },
          "execution_count": 11
        }
      ]
    },
    {
      "cell_type": "code",
      "metadata": {
        "id": "MHkirz1aXB9y",
        "colab_type": "code",
        "outputId": "4b06d343-6781-41e8-f9e5-3329ad2b293d",
        "colab": {
          "base_uri": "https://localhost:8080/",
          "height": 420
        }
      },
      "source": [
        "k_means.labels_"
      ],
      "execution_count": 0,
      "outputs": [
        {
          "output_type": "execute_result",
          "data": {
            "text/plain": [
              "array([1, 1, 1, 1, 2, 3, 1, 2, 2, 2, 4, 0, 0, 0, 1, 4, 1, 2, 2, 4, 0, 4,\n",
              "       1, 2, 4, 3, 3, 1, 2, 1, 1, 1, 2, 1, 0, 1, 2, 1, 0, 0, 1, 2, 3, 1,\n",
              "       1, 3, 4, 3, 0, 1, 2, 0, 3, 2, 1, 2, 0, 2, 2, 2, 2, 2, 2, 1, 1, 1,\n",
              "       2, 3, 3, 1, 1, 0, 2, 2, 0, 1, 0, 1, 1, 3, 1, 4, 1, 2, 2, 0, 0, 1,\n",
              "       1, 1, 1, 1, 3, 2, 1, 3, 0, 1, 1, 0, 0, 3, 0, 3, 0, 2, 2, 0, 0, 1,\n",
              "       2, 0, 1, 0, 0, 0, 1, 0, 3, 2, 0, 2, 2, 2, 0, 4, 1, 2, 1, 1, 0, 1,\n",
              "       0, 1, 3, 2, 4, 3, 1, 0, 2, 1, 1, 3, 1, 3, 1, 4, 1, 2, 1, 0, 2, 1,\n",
              "       2, 4, 0, 1, 2, 1, 0, 2, 1, 0, 2, 0, 2, 1, 0, 1, 2, 1, 0, 1, 2, 1,\n",
              "       1, 2, 2, 2, 1, 1, 0, 3, 3, 2, 0, 1, 1, 1, 0, 2, 1, 1, 1, 2, 3, 0,\n",
              "       2, 2, 2, 0, 1, 0, 1, 0, 1, 2, 3, 1, 2, 2, 2, 2, 1, 2, 0, 3, 0, 2,\n",
              "       1, 1, 0, 2, 0, 3, 0, 1, 1, 2, 1, 1, 2, 1, 1, 1, 0, 1, 0, 0, 3, 1,\n",
              "       1, 1, 4, 1, 0, 2, 3, 3, 3, 2, 1, 0, 2, 2, 0, 0, 1, 1, 4, 1, 1, 2,\n",
              "       1, 2, 0, 3, 1, 0, 2, 1, 2, 2, 0, 1, 2, 2, 1, 1, 2, 0, 0, 4, 0, 2,\n",
              "       2, 0, 4, 2, 2, 3, 1, 0, 0, 1, 0, 2, 2, 0, 1, 0, 2, 1, 0, 3, 1, 2,\n",
              "       0, 0, 2, 4, 4, 1, 2, 0, 1, 1, 2, 0, 2, 0, 2, 0, 2, 2, 0, 2, 0, 1,\n",
              "       0, 1, 1, 0, 0, 2, 2, 3, 3, 0, 2, 3, 2, 4, 1, 1, 1, 2, 2, 0, 0, 4,\n",
              "       0, 4, 1, 0, 3, 2, 1, 2, 3, 1, 2, 2, 1, 2, 0, 1, 4, 0, 0, 1, 2, 2,\n",
              "       2, 2, 2, 0, 0, 2, 1, 0, 1, 4, 2, 2, 1, 2, 2, 1, 2, 2, 0, 2, 1, 0,\n",
              "       3, 0, 1, 2, 0, 1, 1, 1, 2, 0, 3, 0, 1, 0, 1, 1, 3, 0, 4, 3, 0, 0,\n",
              "       2, 1, 2, 0, 2, 0, 1, 1, 2, 4, 0, 2, 0, 1, 1, 0, 1, 2, 1, 0, 1, 2,\n",
              "       1, 2, 3, 0, 0, 3, 0, 0, 2, 2, 1, 3, 1, 0, 0, 4, 3, 0, 3, 2, 0, 0,\n",
              "       1, 0, 2, 2, 3, 1, 0, 1, 1, 0, 1, 1, 1, 2, 0, 0, 1, 1, 1, 2, 0, 2,\n",
              "       2, 2, 2, 3, 2, 2, 2, 1, 1, 2, 2, 1, 3, 2, 0, 3, 0, 2, 2, 2, 2],\n",
              "      dtype=int32)"
            ]
          },
          "metadata": {
            "tags": []
          },
          "execution_count": 12
        }
      ]
    },
    {
      "cell_type": "code",
      "metadata": {
        "id": "R-oxtBNpdJJp",
        "colab_type": "code",
        "outputId": "07d62de4-448b-46ca-c4b5-c7c1130b744e",
        "colab": {
          "base_uri": "https://localhost:8080/",
          "height": 101
        }
      },
      "source": [
        "# Let's look at the centers\n",
        "k_means.cluster_centers_"
      ],
      "execution_count": 0,
      "outputs": [
        {
          "output_type": "execute_result",
          "data": {
            "text/plain": [
              "array([[ 0.82744102, -0.75240648],\n",
              "       [-0.08524639,  1.02721559],\n",
              "       [-1.32510593, -0.67963841],\n",
              "       [ 1.46050665,  1.51057952],\n",
              "       [ 1.23565419, -1.68367042]])"
            ]
          },
          "metadata": {
            "tags": []
          },
          "execution_count": 13
        }
      ]
    },
    {
      "cell_type": "code",
      "metadata": {
        "id": "n0-T0KrodI_c",
        "colab_type": "code",
        "outputId": "bae922b5-694c-4ffd-ebb8-28d07fae63cd",
        "colab": {
          "base_uri": "https://localhost:8080/",
          "height": 104
        }
      },
      "source": [
        "plt.style.use('default');\n",
        "\n",
        "plt.figure(figsize=(16, 10));\n",
        "plt.grid(True);\n",
        "\n",
        "sc = plt.scatter(X.iloc[:, 0], X.iloc[:, 1], s=200, c=k_means.labels_);\n",
        "#plt.scatter(k_means.cluster_centers_[:, 0], k_means.cluster_centers_[:, 1], marker='x', s=500, c=\"black\")\n",
        "plt.title(\"K-Means (K=5)\", fontsize=20);\n",
        "plt.xlabel('Annual Income (K)', fontsize=22);\n",
        "plt.ylabel('Spending Score', fontsize=22);\n",
        "plt.xticks(fontsize=18);\n",
        "plt.yticks(fontsize=18);\n",
        "\n",
        "for label in k_means.labels_:\n",
        "    plt.text(x=k_means.cluster_centers_[label, 0], y=k_means.cluster_centers_[label, 1], s=label, fontsize=32, \n",
        "             horizontalalignment='center', verticalalignment='center', color='black',\n",
        "             bbox=dict(facecolor='white', edgecolor='black', boxstyle='round,pad=0.1', alpha=0.02));"
      ],
      "execution_count": 0,
      "outputs": [
        {
          "output_type": "execute_result",
          "data": {
            "text/plain": [
              "<Figure size 1600x1000 with 0 Axes>"
            ]
          },
          "metadata": {
            "tags": []
          },
          "execution_count": 14
        },
        {
          "output_type": "execute_result",
          "data": {
            "text/plain": [
              "Text(0.5, 1.0, 'K-Means (K=5)')"
            ]
          },
          "metadata": {
            "tags": []
          },
          "execution_count": 14
        },
        {
          "output_type": "execute_result",
          "data": {
            "text/plain": [
              "Text(0.5, 0, 'Annual Income (K)')"
            ]
          },
          "metadata": {
            "tags": []
          },
          "execution_count": 14
        },
        {
          "output_type": "execute_result",
          "data": {
            "text/plain": [
              "Text(0, 0.5, 'Spending Score')"
            ]
          },
          "metadata": {
            "tags": []
          },
          "execution_count": 14
        },
        {
          "output_type": "execute_result",
          "data": {
            "text/plain": [
              "(array([-2. , -1.5, -1. , -0.5,  0. ,  0.5,  1. ,  1.5,  2. ,  2.5]),\n",
              " <a list of 10 Text xticklabel objects>)"
            ]
          },
          "metadata": {
            "tags": []
          },
          "execution_count": 14
        },
        {
          "output_type": "execute_result",
          "data": {
            "text/plain": [
              "(array([-2.5, -2. , -1.5, -1. , -0.5,  0. ,  0.5,  1. ,  1.5,  2. ,  2.5]),\n",
              " <a list of 11 Text yticklabel objects>)"
            ]
          },
          "metadata": {
            "tags": []
          },
          "execution_count": 14
        },
        {
          "output_type": "execute_result",
          "data": {
            "text/plain": [
              "Text(-0.08524639295632358, 1.0272155856309708, '1')"
            ]
          },
          "metadata": {
            "tags": []
          },
          "execution_count": 14
        },
        {
          "output_type": "execute_result",
          "data": {
            "text/plain": [
              "Text(-0.08524639295632358, 1.0272155856309708, '1')"
            ]
          },
          "metadata": {
            "tags": []
          },
          "execution_count": 14
        },
        {
          "output_type": "execute_result",
          "data": {
            "text/plain": [
              "Text(-0.08524639295632358, 1.0272155856309708, '1')"
            ]
          },
          "metadata": {
            "tags": []
          },
          "execution_count": 14
        },
        {
          "output_type": "execute_result",
          "data": {
            "text/plain": [
              "Text(-0.08524639295632358, 1.0272155856309708, '1')"
            ]
          },
          "metadata": {
            "tags": []
          },
          "execution_count": 14
        },
        {
          "output_type": "execute_result",
          "data": {
            "text/plain": [
              "Text(-1.3251059310349, -0.6796384100714644, '2')"
            ]
          },
          "metadata": {
            "tags": []
          },
          "execution_count": 14
        },
        {
          "output_type": "execute_result",
          "data": {
            "text/plain": [
              "Text(1.4605066479893327, 1.510579518746934, '3')"
            ]
          },
          "metadata": {
            "tags": []
          },
          "execution_count": 14
        },
        {
          "output_type": "execute_result",
          "data": {
            "text/plain": [
              "Text(-0.08524639295632358, 1.0272155856309708, '1')"
            ]
          },
          "metadata": {
            "tags": []
          },
          "execution_count": 14
        },
        {
          "output_type": "execute_result",
          "data": {
            "text/plain": [
              "Text(-1.3251059310349, -0.6796384100714644, '2')"
            ]
          },
          "metadata": {
            "tags": []
          },
          "execution_count": 14
        },
        {
          "output_type": "execute_result",
          "data": {
            "text/plain": [
              "Text(-1.3251059310349, -0.6796384100714644, '2')"
            ]
          },
          "metadata": {
            "tags": []
          },
          "execution_count": 14
        },
        {
          "output_type": "execute_result",
          "data": {
            "text/plain": [
              "Text(-1.3251059310349, -0.6796384100714644, '2')"
            ]
          },
          "metadata": {
            "tags": []
          },
          "execution_count": 14
        },
        {
          "output_type": "execute_result",
          "data": {
            "text/plain": [
              "Text(1.235654192369486, -1.6836704150389112, '4')"
            ]
          },
          "metadata": {
            "tags": []
          },
          "execution_count": 14
        },
        {
          "output_type": "execute_result",
          "data": {
            "text/plain": [
              "Text(0.8274410186315021, -0.7524064779756431, '0')"
            ]
          },
          "metadata": {
            "tags": []
          },
          "execution_count": 14
        },
        {
          "output_type": "execute_result",
          "data": {
            "text/plain": [
              "Text(0.8274410186315021, -0.7524064779756431, '0')"
            ]
          },
          "metadata": {
            "tags": []
          },
          "execution_count": 14
        },
        {
          "output_type": "execute_result",
          "data": {
            "text/plain": [
              "Text(0.8274410186315021, -0.7524064779756431, '0')"
            ]
          },
          "metadata": {
            "tags": []
          },
          "execution_count": 14
        },
        {
          "output_type": "execute_result",
          "data": {
            "text/plain": [
              "Text(-0.08524639295632358, 1.0272155856309708, '1')"
            ]
          },
          "metadata": {
            "tags": []
          },
          "execution_count": 14
        },
        {
          "output_type": "execute_result",
          "data": {
            "text/plain": [
              "Text(1.235654192369486, -1.6836704150389112, '4')"
            ]
          },
          "metadata": {
            "tags": []
          },
          "execution_count": 14
        },
        {
          "output_type": "execute_result",
          "data": {
            "text/plain": [
              "Text(-0.08524639295632358, 1.0272155856309708, '1')"
            ]
          },
          "metadata": {
            "tags": []
          },
          "execution_count": 14
        },
        {
          "output_type": "execute_result",
          "data": {
            "text/plain": [
              "Text(-1.3251059310349, -0.6796384100714644, '2')"
            ]
          },
          "metadata": {
            "tags": []
          },
          "execution_count": 14
        },
        {
          "output_type": "execute_result",
          "data": {
            "text/plain": [
              "Text(-1.3251059310349, -0.6796384100714644, '2')"
            ]
          },
          "metadata": {
            "tags": []
          },
          "execution_count": 14
        },
        {
          "output_type": "execute_result",
          "data": {
            "text/plain": [
              "Text(1.235654192369486, -1.6836704150389112, '4')"
            ]
          },
          "metadata": {
            "tags": []
          },
          "execution_count": 14
        },
        {
          "output_type": "execute_result",
          "data": {
            "text/plain": [
              "Text(0.8274410186315021, -0.7524064779756431, '0')"
            ]
          },
          "metadata": {
            "tags": []
          },
          "execution_count": 14
        },
        {
          "output_type": "execute_result",
          "data": {
            "text/plain": [
              "Text(1.235654192369486, -1.6836704150389112, '4')"
            ]
          },
          "metadata": {
            "tags": []
          },
          "execution_count": 14
        },
        {
          "output_type": "execute_result",
          "data": {
            "text/plain": [
              "Text(-0.08524639295632358, 1.0272155856309708, '1')"
            ]
          },
          "metadata": {
            "tags": []
          },
          "execution_count": 14
        },
        {
          "output_type": "execute_result",
          "data": {
            "text/plain": [
              "Text(-1.3251059310349, -0.6796384100714644, '2')"
            ]
          },
          "metadata": {
            "tags": []
          },
          "execution_count": 14
        },
        {
          "output_type": "execute_result",
          "data": {
            "text/plain": [
              "Text(1.235654192369486, -1.6836704150389112, '4')"
            ]
          },
          "metadata": {
            "tags": []
          },
          "execution_count": 14
        },
        {
          "output_type": "execute_result",
          "data": {
            "text/plain": [
              "Text(1.4605066479893327, 1.510579518746934, '3')"
            ]
          },
          "metadata": {
            "tags": []
          },
          "execution_count": 14
        },
        {
          "output_type": "execute_result",
          "data": {
            "text/plain": [
              "Text(1.4605066479893327, 1.510579518746934, '3')"
            ]
          },
          "metadata": {
            "tags": []
          },
          "execution_count": 14
        },
        {
          "output_type": "execute_result",
          "data": {
            "text/plain": [
              "Text(-0.08524639295632358, 1.0272155856309708, '1')"
            ]
          },
          "metadata": {
            "tags": []
          },
          "execution_count": 14
        },
        {
          "output_type": "execute_result",
          "data": {
            "text/plain": [
              "Text(-1.3251059310349, -0.6796384100714644, '2')"
            ]
          },
          "metadata": {
            "tags": []
          },
          "execution_count": 14
        },
        {
          "output_type": "execute_result",
          "data": {
            "text/plain": [
              "Text(-0.08524639295632358, 1.0272155856309708, '1')"
            ]
          },
          "metadata": {
            "tags": []
          },
          "execution_count": 14
        },
        {
          "output_type": "execute_result",
          "data": {
            "text/plain": [
              "Text(-0.08524639295632358, 1.0272155856309708, '1')"
            ]
          },
          "metadata": {
            "tags": []
          },
          "execution_count": 14
        },
        {
          "output_type": "execute_result",
          "data": {
            "text/plain": [
              "Text(-0.08524639295632358, 1.0272155856309708, '1')"
            ]
          },
          "metadata": {
            "tags": []
          },
          "execution_count": 14
        },
        {
          "output_type": "execute_result",
          "data": {
            "text/plain": [
              "Text(-1.3251059310349, -0.6796384100714644, '2')"
            ]
          },
          "metadata": {
            "tags": []
          },
          "execution_count": 14
        },
        {
          "output_type": "execute_result",
          "data": {
            "text/plain": [
              "Text(-0.08524639295632358, 1.0272155856309708, '1')"
            ]
          },
          "metadata": {
            "tags": []
          },
          "execution_count": 14
        },
        {
          "output_type": "execute_result",
          "data": {
            "text/plain": [
              "Text(0.8274410186315021, -0.7524064779756431, '0')"
            ]
          },
          "metadata": {
            "tags": []
          },
          "execution_count": 14
        },
        {
          "output_type": "execute_result",
          "data": {
            "text/plain": [
              "Text(-0.08524639295632358, 1.0272155856309708, '1')"
            ]
          },
          "metadata": {
            "tags": []
          },
          "execution_count": 14
        },
        {
          "output_type": "execute_result",
          "data": {
            "text/plain": [
              "Text(-1.3251059310349, -0.6796384100714644, '2')"
            ]
          },
          "metadata": {
            "tags": []
          },
          "execution_count": 14
        },
        {
          "output_type": "execute_result",
          "data": {
            "text/plain": [
              "Text(-0.08524639295632358, 1.0272155856309708, '1')"
            ]
          },
          "metadata": {
            "tags": []
          },
          "execution_count": 14
        },
        {
          "output_type": "execute_result",
          "data": {
            "text/plain": [
              "Text(0.8274410186315021, -0.7524064779756431, '0')"
            ]
          },
          "metadata": {
            "tags": []
          },
          "execution_count": 14
        },
        {
          "output_type": "execute_result",
          "data": {
            "text/plain": [
              "Text(0.8274410186315021, -0.7524064779756431, '0')"
            ]
          },
          "metadata": {
            "tags": []
          },
          "execution_count": 14
        },
        {
          "output_type": "execute_result",
          "data": {
            "text/plain": [
              "Text(-0.08524639295632358, 1.0272155856309708, '1')"
            ]
          },
          "metadata": {
            "tags": []
          },
          "execution_count": 14
        },
        {
          "output_type": "execute_result",
          "data": {
            "text/plain": [
              "Text(-1.3251059310349, -0.6796384100714644, '2')"
            ]
          },
          "metadata": {
            "tags": []
          },
          "execution_count": 14
        },
        {
          "output_type": "execute_result",
          "data": {
            "text/plain": [
              "Text(1.4605066479893327, 1.510579518746934, '3')"
            ]
          },
          "metadata": {
            "tags": []
          },
          "execution_count": 14
        },
        {
          "output_type": "execute_result",
          "data": {
            "text/plain": [
              "Text(-0.08524639295632358, 1.0272155856309708, '1')"
            ]
          },
          "metadata": {
            "tags": []
          },
          "execution_count": 14
        },
        {
          "output_type": "execute_result",
          "data": {
            "text/plain": [
              "Text(-0.08524639295632358, 1.0272155856309708, '1')"
            ]
          },
          "metadata": {
            "tags": []
          },
          "execution_count": 14
        },
        {
          "output_type": "execute_result",
          "data": {
            "text/plain": [
              "Text(1.4605066479893327, 1.510579518746934, '3')"
            ]
          },
          "metadata": {
            "tags": []
          },
          "execution_count": 14
        },
        {
          "output_type": "execute_result",
          "data": {
            "text/plain": [
              "Text(1.235654192369486, -1.6836704150389112, '4')"
            ]
          },
          "metadata": {
            "tags": []
          },
          "execution_count": 14
        },
        {
          "output_type": "execute_result",
          "data": {
            "text/plain": [
              "Text(1.4605066479893327, 1.510579518746934, '3')"
            ]
          },
          "metadata": {
            "tags": []
          },
          "execution_count": 14
        },
        {
          "output_type": "execute_result",
          "data": {
            "text/plain": [
              "Text(0.8274410186315021, -0.7524064779756431, '0')"
            ]
          },
          "metadata": {
            "tags": []
          },
          "execution_count": 14
        },
        {
          "output_type": "execute_result",
          "data": {
            "text/plain": [
              "Text(-0.08524639295632358, 1.0272155856309708, '1')"
            ]
          },
          "metadata": {
            "tags": []
          },
          "execution_count": 14
        },
        {
          "output_type": "execute_result",
          "data": {
            "text/plain": [
              "Text(-1.3251059310349, -0.6796384100714644, '2')"
            ]
          },
          "metadata": {
            "tags": []
          },
          "execution_count": 14
        },
        {
          "output_type": "execute_result",
          "data": {
            "text/plain": [
              "Text(0.8274410186315021, -0.7524064779756431, '0')"
            ]
          },
          "metadata": {
            "tags": []
          },
          "execution_count": 14
        },
        {
          "output_type": "execute_result",
          "data": {
            "text/plain": [
              "Text(1.4605066479893327, 1.510579518746934, '3')"
            ]
          },
          "metadata": {
            "tags": []
          },
          "execution_count": 14
        },
        {
          "output_type": "execute_result",
          "data": {
            "text/plain": [
              "Text(-1.3251059310349, -0.6796384100714644, '2')"
            ]
          },
          "metadata": {
            "tags": []
          },
          "execution_count": 14
        },
        {
          "output_type": "execute_result",
          "data": {
            "text/plain": [
              "Text(-0.08524639295632358, 1.0272155856309708, '1')"
            ]
          },
          "metadata": {
            "tags": []
          },
          "execution_count": 14
        },
        {
          "output_type": "execute_result",
          "data": {
            "text/plain": [
              "Text(-1.3251059310349, -0.6796384100714644, '2')"
            ]
          },
          "metadata": {
            "tags": []
          },
          "execution_count": 14
        },
        {
          "output_type": "execute_result",
          "data": {
            "text/plain": [
              "Text(0.8274410186315021, -0.7524064779756431, '0')"
            ]
          },
          "metadata": {
            "tags": []
          },
          "execution_count": 14
        },
        {
          "output_type": "execute_result",
          "data": {
            "text/plain": [
              "Text(-1.3251059310349, -0.6796384100714644, '2')"
            ]
          },
          "metadata": {
            "tags": []
          },
          "execution_count": 14
        },
        {
          "output_type": "execute_result",
          "data": {
            "text/plain": [
              "Text(-1.3251059310349, -0.6796384100714644, '2')"
            ]
          },
          "metadata": {
            "tags": []
          },
          "execution_count": 14
        },
        {
          "output_type": "execute_result",
          "data": {
            "text/plain": [
              "Text(-1.3251059310349, -0.6796384100714644, '2')"
            ]
          },
          "metadata": {
            "tags": []
          },
          "execution_count": 14
        },
        {
          "output_type": "execute_result",
          "data": {
            "text/plain": [
              "Text(-1.3251059310349, -0.6796384100714644, '2')"
            ]
          },
          "metadata": {
            "tags": []
          },
          "execution_count": 14
        },
        {
          "output_type": "execute_result",
          "data": {
            "text/plain": [
              "Text(-1.3251059310349, -0.6796384100714644, '2')"
            ]
          },
          "metadata": {
            "tags": []
          },
          "execution_count": 14
        },
        {
          "output_type": "execute_result",
          "data": {
            "text/plain": [
              "Text(-1.3251059310349, -0.6796384100714644, '2')"
            ]
          },
          "metadata": {
            "tags": []
          },
          "execution_count": 14
        },
        {
          "output_type": "execute_result",
          "data": {
            "text/plain": [
              "Text(-0.08524639295632358, 1.0272155856309708, '1')"
            ]
          },
          "metadata": {
            "tags": []
          },
          "execution_count": 14
        },
        {
          "output_type": "execute_result",
          "data": {
            "text/plain": [
              "Text(-0.08524639295632358, 1.0272155856309708, '1')"
            ]
          },
          "metadata": {
            "tags": []
          },
          "execution_count": 14
        },
        {
          "output_type": "execute_result",
          "data": {
            "text/plain": [
              "Text(-0.08524639295632358, 1.0272155856309708, '1')"
            ]
          },
          "metadata": {
            "tags": []
          },
          "execution_count": 14
        },
        {
          "output_type": "execute_result",
          "data": {
            "text/plain": [
              "Text(-1.3251059310349, -0.6796384100714644, '2')"
            ]
          },
          "metadata": {
            "tags": []
          },
          "execution_count": 14
        },
        {
          "output_type": "execute_result",
          "data": {
            "text/plain": [
              "Text(1.4605066479893327, 1.510579518746934, '3')"
            ]
          },
          "metadata": {
            "tags": []
          },
          "execution_count": 14
        },
        {
          "output_type": "execute_result",
          "data": {
            "text/plain": [
              "Text(1.4605066479893327, 1.510579518746934, '3')"
            ]
          },
          "metadata": {
            "tags": []
          },
          "execution_count": 14
        },
        {
          "output_type": "execute_result",
          "data": {
            "text/plain": [
              "Text(-0.08524639295632358, 1.0272155856309708, '1')"
            ]
          },
          "metadata": {
            "tags": []
          },
          "execution_count": 14
        },
        {
          "output_type": "execute_result",
          "data": {
            "text/plain": [
              "Text(-0.08524639295632358, 1.0272155856309708, '1')"
            ]
          },
          "metadata": {
            "tags": []
          },
          "execution_count": 14
        },
        {
          "output_type": "execute_result",
          "data": {
            "text/plain": [
              "Text(0.8274410186315021, -0.7524064779756431, '0')"
            ]
          },
          "metadata": {
            "tags": []
          },
          "execution_count": 14
        },
        {
          "output_type": "execute_result",
          "data": {
            "text/plain": [
              "Text(-1.3251059310349, -0.6796384100714644, '2')"
            ]
          },
          "metadata": {
            "tags": []
          },
          "execution_count": 14
        },
        {
          "output_type": "execute_result",
          "data": {
            "text/plain": [
              "Text(-1.3251059310349, -0.6796384100714644, '2')"
            ]
          },
          "metadata": {
            "tags": []
          },
          "execution_count": 14
        },
        {
          "output_type": "execute_result",
          "data": {
            "text/plain": [
              "Text(0.8274410186315021, -0.7524064779756431, '0')"
            ]
          },
          "metadata": {
            "tags": []
          },
          "execution_count": 14
        },
        {
          "output_type": "execute_result",
          "data": {
            "text/plain": [
              "Text(-0.08524639295632358, 1.0272155856309708, '1')"
            ]
          },
          "metadata": {
            "tags": []
          },
          "execution_count": 14
        },
        {
          "output_type": "execute_result",
          "data": {
            "text/plain": [
              "Text(0.8274410186315021, -0.7524064779756431, '0')"
            ]
          },
          "metadata": {
            "tags": []
          },
          "execution_count": 14
        },
        {
          "output_type": "execute_result",
          "data": {
            "text/plain": [
              "Text(-0.08524639295632358, 1.0272155856309708, '1')"
            ]
          },
          "metadata": {
            "tags": []
          },
          "execution_count": 14
        },
        {
          "output_type": "execute_result",
          "data": {
            "text/plain": [
              "Text(-0.08524639295632358, 1.0272155856309708, '1')"
            ]
          },
          "metadata": {
            "tags": []
          },
          "execution_count": 14
        },
        {
          "output_type": "execute_result",
          "data": {
            "text/plain": [
              "Text(1.4605066479893327, 1.510579518746934, '3')"
            ]
          },
          "metadata": {
            "tags": []
          },
          "execution_count": 14
        },
        {
          "output_type": "execute_result",
          "data": {
            "text/plain": [
              "Text(-0.08524639295632358, 1.0272155856309708, '1')"
            ]
          },
          "metadata": {
            "tags": []
          },
          "execution_count": 14
        },
        {
          "output_type": "execute_result",
          "data": {
            "text/plain": [
              "Text(1.235654192369486, -1.6836704150389112, '4')"
            ]
          },
          "metadata": {
            "tags": []
          },
          "execution_count": 14
        },
        {
          "output_type": "execute_result",
          "data": {
            "text/plain": [
              "Text(-0.08524639295632358, 1.0272155856309708, '1')"
            ]
          },
          "metadata": {
            "tags": []
          },
          "execution_count": 14
        },
        {
          "output_type": "execute_result",
          "data": {
            "text/plain": [
              "Text(-1.3251059310349, -0.6796384100714644, '2')"
            ]
          },
          "metadata": {
            "tags": []
          },
          "execution_count": 14
        },
        {
          "output_type": "execute_result",
          "data": {
            "text/plain": [
              "Text(-1.3251059310349, -0.6796384100714644, '2')"
            ]
          },
          "metadata": {
            "tags": []
          },
          "execution_count": 14
        },
        {
          "output_type": "execute_result",
          "data": {
            "text/plain": [
              "Text(0.8274410186315021, -0.7524064779756431, '0')"
            ]
          },
          "metadata": {
            "tags": []
          },
          "execution_count": 14
        },
        {
          "output_type": "execute_result",
          "data": {
            "text/plain": [
              "Text(0.8274410186315021, -0.7524064779756431, '0')"
            ]
          },
          "metadata": {
            "tags": []
          },
          "execution_count": 14
        },
        {
          "output_type": "execute_result",
          "data": {
            "text/plain": [
              "Text(-0.08524639295632358, 1.0272155856309708, '1')"
            ]
          },
          "metadata": {
            "tags": []
          },
          "execution_count": 14
        },
        {
          "output_type": "execute_result",
          "data": {
            "text/plain": [
              "Text(-0.08524639295632358, 1.0272155856309708, '1')"
            ]
          },
          "metadata": {
            "tags": []
          },
          "execution_count": 14
        },
        {
          "output_type": "execute_result",
          "data": {
            "text/plain": [
              "Text(-0.08524639295632358, 1.0272155856309708, '1')"
            ]
          },
          "metadata": {
            "tags": []
          },
          "execution_count": 14
        },
        {
          "output_type": "execute_result",
          "data": {
            "text/plain": [
              "Text(-0.08524639295632358, 1.0272155856309708, '1')"
            ]
          },
          "metadata": {
            "tags": []
          },
          "execution_count": 14
        },
        {
          "output_type": "execute_result",
          "data": {
            "text/plain": [
              "Text(-0.08524639295632358, 1.0272155856309708, '1')"
            ]
          },
          "metadata": {
            "tags": []
          },
          "execution_count": 14
        },
        {
          "output_type": "execute_result",
          "data": {
            "text/plain": [
              "Text(1.4605066479893327, 1.510579518746934, '3')"
            ]
          },
          "metadata": {
            "tags": []
          },
          "execution_count": 14
        },
        {
          "output_type": "execute_result",
          "data": {
            "text/plain": [
              "Text(-1.3251059310349, -0.6796384100714644, '2')"
            ]
          },
          "metadata": {
            "tags": []
          },
          "execution_count": 14
        },
        {
          "output_type": "execute_result",
          "data": {
            "text/plain": [
              "Text(-0.08524639295632358, 1.0272155856309708, '1')"
            ]
          },
          "metadata": {
            "tags": []
          },
          "execution_count": 14
        },
        {
          "output_type": "execute_result",
          "data": {
            "text/plain": [
              "Text(1.4605066479893327, 1.510579518746934, '3')"
            ]
          },
          "metadata": {
            "tags": []
          },
          "execution_count": 14
        },
        {
          "output_type": "execute_result",
          "data": {
            "text/plain": [
              "Text(0.8274410186315021, -0.7524064779756431, '0')"
            ]
          },
          "metadata": {
            "tags": []
          },
          "execution_count": 14
        },
        {
          "output_type": "execute_result",
          "data": {
            "text/plain": [
              "Text(-0.08524639295632358, 1.0272155856309708, '1')"
            ]
          },
          "metadata": {
            "tags": []
          },
          "execution_count": 14
        },
        {
          "output_type": "execute_result",
          "data": {
            "text/plain": [
              "Text(-0.08524639295632358, 1.0272155856309708, '1')"
            ]
          },
          "metadata": {
            "tags": []
          },
          "execution_count": 14
        },
        {
          "output_type": "execute_result",
          "data": {
            "text/plain": [
              "Text(0.8274410186315021, -0.7524064779756431, '0')"
            ]
          },
          "metadata": {
            "tags": []
          },
          "execution_count": 14
        },
        {
          "output_type": "execute_result",
          "data": {
            "text/plain": [
              "Text(0.8274410186315021, -0.7524064779756431, '0')"
            ]
          },
          "metadata": {
            "tags": []
          },
          "execution_count": 14
        },
        {
          "output_type": "execute_result",
          "data": {
            "text/plain": [
              "Text(1.4605066479893327, 1.510579518746934, '3')"
            ]
          },
          "metadata": {
            "tags": []
          },
          "execution_count": 14
        },
        {
          "output_type": "execute_result",
          "data": {
            "text/plain": [
              "Text(0.8274410186315021, -0.7524064779756431, '0')"
            ]
          },
          "metadata": {
            "tags": []
          },
          "execution_count": 14
        },
        {
          "output_type": "execute_result",
          "data": {
            "text/plain": [
              "Text(1.4605066479893327, 1.510579518746934, '3')"
            ]
          },
          "metadata": {
            "tags": []
          },
          "execution_count": 14
        },
        {
          "output_type": "execute_result",
          "data": {
            "text/plain": [
              "Text(0.8274410186315021, -0.7524064779756431, '0')"
            ]
          },
          "metadata": {
            "tags": []
          },
          "execution_count": 14
        },
        {
          "output_type": "execute_result",
          "data": {
            "text/plain": [
              "Text(-1.3251059310349, -0.6796384100714644, '2')"
            ]
          },
          "metadata": {
            "tags": []
          },
          "execution_count": 14
        },
        {
          "output_type": "execute_result",
          "data": {
            "text/plain": [
              "Text(-1.3251059310349, -0.6796384100714644, '2')"
            ]
          },
          "metadata": {
            "tags": []
          },
          "execution_count": 14
        },
        {
          "output_type": "execute_result",
          "data": {
            "text/plain": [
              "Text(0.8274410186315021, -0.7524064779756431, '0')"
            ]
          },
          "metadata": {
            "tags": []
          },
          "execution_count": 14
        },
        {
          "output_type": "execute_result",
          "data": {
            "text/plain": [
              "Text(0.8274410186315021, -0.7524064779756431, '0')"
            ]
          },
          "metadata": {
            "tags": []
          },
          "execution_count": 14
        },
        {
          "output_type": "execute_result",
          "data": {
            "text/plain": [
              "Text(-0.08524639295632358, 1.0272155856309708, '1')"
            ]
          },
          "metadata": {
            "tags": []
          },
          "execution_count": 14
        },
        {
          "output_type": "execute_result",
          "data": {
            "text/plain": [
              "Text(-1.3251059310349, -0.6796384100714644, '2')"
            ]
          },
          "metadata": {
            "tags": []
          },
          "execution_count": 14
        },
        {
          "output_type": "execute_result",
          "data": {
            "text/plain": [
              "Text(0.8274410186315021, -0.7524064779756431, '0')"
            ]
          },
          "metadata": {
            "tags": []
          },
          "execution_count": 14
        },
        {
          "output_type": "execute_result",
          "data": {
            "text/plain": [
              "Text(-0.08524639295632358, 1.0272155856309708, '1')"
            ]
          },
          "metadata": {
            "tags": []
          },
          "execution_count": 14
        },
        {
          "output_type": "execute_result",
          "data": {
            "text/plain": [
              "Text(0.8274410186315021, -0.7524064779756431, '0')"
            ]
          },
          "metadata": {
            "tags": []
          },
          "execution_count": 14
        },
        {
          "output_type": "execute_result",
          "data": {
            "text/plain": [
              "Text(0.8274410186315021, -0.7524064779756431, '0')"
            ]
          },
          "metadata": {
            "tags": []
          },
          "execution_count": 14
        },
        {
          "output_type": "execute_result",
          "data": {
            "text/plain": [
              "Text(0.8274410186315021, -0.7524064779756431, '0')"
            ]
          },
          "metadata": {
            "tags": []
          },
          "execution_count": 14
        },
        {
          "output_type": "execute_result",
          "data": {
            "text/plain": [
              "Text(-0.08524639295632358, 1.0272155856309708, '1')"
            ]
          },
          "metadata": {
            "tags": []
          },
          "execution_count": 14
        },
        {
          "output_type": "execute_result",
          "data": {
            "text/plain": [
              "Text(0.8274410186315021, -0.7524064779756431, '0')"
            ]
          },
          "metadata": {
            "tags": []
          },
          "execution_count": 14
        },
        {
          "output_type": "execute_result",
          "data": {
            "text/plain": [
              "Text(1.4605066479893327, 1.510579518746934, '3')"
            ]
          },
          "metadata": {
            "tags": []
          },
          "execution_count": 14
        },
        {
          "output_type": "execute_result",
          "data": {
            "text/plain": [
              "Text(-1.3251059310349, -0.6796384100714644, '2')"
            ]
          },
          "metadata": {
            "tags": []
          },
          "execution_count": 14
        },
        {
          "output_type": "execute_result",
          "data": {
            "text/plain": [
              "Text(0.8274410186315021, -0.7524064779756431, '0')"
            ]
          },
          "metadata": {
            "tags": []
          },
          "execution_count": 14
        },
        {
          "output_type": "execute_result",
          "data": {
            "text/plain": [
              "Text(-1.3251059310349, -0.6796384100714644, '2')"
            ]
          },
          "metadata": {
            "tags": []
          },
          "execution_count": 14
        },
        {
          "output_type": "execute_result",
          "data": {
            "text/plain": [
              "Text(-1.3251059310349, -0.6796384100714644, '2')"
            ]
          },
          "metadata": {
            "tags": []
          },
          "execution_count": 14
        },
        {
          "output_type": "execute_result",
          "data": {
            "text/plain": [
              "Text(-1.3251059310349, -0.6796384100714644, '2')"
            ]
          },
          "metadata": {
            "tags": []
          },
          "execution_count": 14
        },
        {
          "output_type": "execute_result",
          "data": {
            "text/plain": [
              "Text(0.8274410186315021, -0.7524064779756431, '0')"
            ]
          },
          "metadata": {
            "tags": []
          },
          "execution_count": 14
        },
        {
          "output_type": "execute_result",
          "data": {
            "text/plain": [
              "Text(1.235654192369486, -1.6836704150389112, '4')"
            ]
          },
          "metadata": {
            "tags": []
          },
          "execution_count": 14
        },
        {
          "output_type": "execute_result",
          "data": {
            "text/plain": [
              "Text(-0.08524639295632358, 1.0272155856309708, '1')"
            ]
          },
          "metadata": {
            "tags": []
          },
          "execution_count": 14
        },
        {
          "output_type": "execute_result",
          "data": {
            "text/plain": [
              "Text(-1.3251059310349, -0.6796384100714644, '2')"
            ]
          },
          "metadata": {
            "tags": []
          },
          "execution_count": 14
        },
        {
          "output_type": "execute_result",
          "data": {
            "text/plain": [
              "Text(-0.08524639295632358, 1.0272155856309708, '1')"
            ]
          },
          "metadata": {
            "tags": []
          },
          "execution_count": 14
        },
        {
          "output_type": "execute_result",
          "data": {
            "text/plain": [
              "Text(-0.08524639295632358, 1.0272155856309708, '1')"
            ]
          },
          "metadata": {
            "tags": []
          },
          "execution_count": 14
        },
        {
          "output_type": "execute_result",
          "data": {
            "text/plain": [
              "Text(0.8274410186315021, -0.7524064779756431, '0')"
            ]
          },
          "metadata": {
            "tags": []
          },
          "execution_count": 14
        },
        {
          "output_type": "execute_result",
          "data": {
            "text/plain": [
              "Text(-0.08524639295632358, 1.0272155856309708, '1')"
            ]
          },
          "metadata": {
            "tags": []
          },
          "execution_count": 14
        },
        {
          "output_type": "execute_result",
          "data": {
            "text/plain": [
              "Text(0.8274410186315021, -0.7524064779756431, '0')"
            ]
          },
          "metadata": {
            "tags": []
          },
          "execution_count": 14
        },
        {
          "output_type": "execute_result",
          "data": {
            "text/plain": [
              "Text(-0.08524639295632358, 1.0272155856309708, '1')"
            ]
          },
          "metadata": {
            "tags": []
          },
          "execution_count": 14
        },
        {
          "output_type": "execute_result",
          "data": {
            "text/plain": [
              "Text(1.4605066479893327, 1.510579518746934, '3')"
            ]
          },
          "metadata": {
            "tags": []
          },
          "execution_count": 14
        },
        {
          "output_type": "execute_result",
          "data": {
            "text/plain": [
              "Text(-1.3251059310349, -0.6796384100714644, '2')"
            ]
          },
          "metadata": {
            "tags": []
          },
          "execution_count": 14
        },
        {
          "output_type": "execute_result",
          "data": {
            "text/plain": [
              "Text(1.235654192369486, -1.6836704150389112, '4')"
            ]
          },
          "metadata": {
            "tags": []
          },
          "execution_count": 14
        },
        {
          "output_type": "execute_result",
          "data": {
            "text/plain": [
              "Text(1.4605066479893327, 1.510579518746934, '3')"
            ]
          },
          "metadata": {
            "tags": []
          },
          "execution_count": 14
        },
        {
          "output_type": "execute_result",
          "data": {
            "text/plain": [
              "Text(-0.08524639295632358, 1.0272155856309708, '1')"
            ]
          },
          "metadata": {
            "tags": []
          },
          "execution_count": 14
        },
        {
          "output_type": "execute_result",
          "data": {
            "text/plain": [
              "Text(0.8274410186315021, -0.7524064779756431, '0')"
            ]
          },
          "metadata": {
            "tags": []
          },
          "execution_count": 14
        },
        {
          "output_type": "execute_result",
          "data": {
            "text/plain": [
              "Text(-1.3251059310349, -0.6796384100714644, '2')"
            ]
          },
          "metadata": {
            "tags": []
          },
          "execution_count": 14
        },
        {
          "output_type": "execute_result",
          "data": {
            "text/plain": [
              "Text(-0.08524639295632358, 1.0272155856309708, '1')"
            ]
          },
          "metadata": {
            "tags": []
          },
          "execution_count": 14
        },
        {
          "output_type": "execute_result",
          "data": {
            "text/plain": [
              "Text(-0.08524639295632358, 1.0272155856309708, '1')"
            ]
          },
          "metadata": {
            "tags": []
          },
          "execution_count": 14
        },
        {
          "output_type": "execute_result",
          "data": {
            "text/plain": [
              "Text(1.4605066479893327, 1.510579518746934, '3')"
            ]
          },
          "metadata": {
            "tags": []
          },
          "execution_count": 14
        },
        {
          "output_type": "execute_result",
          "data": {
            "text/plain": [
              "Text(-0.08524639295632358, 1.0272155856309708, '1')"
            ]
          },
          "metadata": {
            "tags": []
          },
          "execution_count": 14
        },
        {
          "output_type": "execute_result",
          "data": {
            "text/plain": [
              "Text(1.4605066479893327, 1.510579518746934, '3')"
            ]
          },
          "metadata": {
            "tags": []
          },
          "execution_count": 14
        },
        {
          "output_type": "execute_result",
          "data": {
            "text/plain": [
              "Text(-0.08524639295632358, 1.0272155856309708, '1')"
            ]
          },
          "metadata": {
            "tags": []
          },
          "execution_count": 14
        },
        {
          "output_type": "execute_result",
          "data": {
            "text/plain": [
              "Text(1.235654192369486, -1.6836704150389112, '4')"
            ]
          },
          "metadata": {
            "tags": []
          },
          "execution_count": 14
        },
        {
          "output_type": "execute_result",
          "data": {
            "text/plain": [
              "Text(-0.08524639295632358, 1.0272155856309708, '1')"
            ]
          },
          "metadata": {
            "tags": []
          },
          "execution_count": 14
        },
        {
          "output_type": "execute_result",
          "data": {
            "text/plain": [
              "Text(-1.3251059310349, -0.6796384100714644, '2')"
            ]
          },
          "metadata": {
            "tags": []
          },
          "execution_count": 14
        },
        {
          "output_type": "execute_result",
          "data": {
            "text/plain": [
              "Text(-0.08524639295632358, 1.0272155856309708, '1')"
            ]
          },
          "metadata": {
            "tags": []
          },
          "execution_count": 14
        },
        {
          "output_type": "execute_result",
          "data": {
            "text/plain": [
              "Text(0.8274410186315021, -0.7524064779756431, '0')"
            ]
          },
          "metadata": {
            "tags": []
          },
          "execution_count": 14
        },
        {
          "output_type": "execute_result",
          "data": {
            "text/plain": [
              "Text(-1.3251059310349, -0.6796384100714644, '2')"
            ]
          },
          "metadata": {
            "tags": []
          },
          "execution_count": 14
        },
        {
          "output_type": "execute_result",
          "data": {
            "text/plain": [
              "Text(-0.08524639295632358, 1.0272155856309708, '1')"
            ]
          },
          "metadata": {
            "tags": []
          },
          "execution_count": 14
        },
        {
          "output_type": "execute_result",
          "data": {
            "text/plain": [
              "Text(-1.3251059310349, -0.6796384100714644, '2')"
            ]
          },
          "metadata": {
            "tags": []
          },
          "execution_count": 14
        },
        {
          "output_type": "execute_result",
          "data": {
            "text/plain": [
              "Text(1.235654192369486, -1.6836704150389112, '4')"
            ]
          },
          "metadata": {
            "tags": []
          },
          "execution_count": 14
        },
        {
          "output_type": "execute_result",
          "data": {
            "text/plain": [
              "Text(0.8274410186315021, -0.7524064779756431, '0')"
            ]
          },
          "metadata": {
            "tags": []
          },
          "execution_count": 14
        },
        {
          "output_type": "execute_result",
          "data": {
            "text/plain": [
              "Text(-0.08524639295632358, 1.0272155856309708, '1')"
            ]
          },
          "metadata": {
            "tags": []
          },
          "execution_count": 14
        },
        {
          "output_type": "execute_result",
          "data": {
            "text/plain": [
              "Text(-1.3251059310349, -0.6796384100714644, '2')"
            ]
          },
          "metadata": {
            "tags": []
          },
          "execution_count": 14
        },
        {
          "output_type": "execute_result",
          "data": {
            "text/plain": [
              "Text(-0.08524639295632358, 1.0272155856309708, '1')"
            ]
          },
          "metadata": {
            "tags": []
          },
          "execution_count": 14
        },
        {
          "output_type": "execute_result",
          "data": {
            "text/plain": [
              "Text(0.8274410186315021, -0.7524064779756431, '0')"
            ]
          },
          "metadata": {
            "tags": []
          },
          "execution_count": 14
        },
        {
          "output_type": "execute_result",
          "data": {
            "text/plain": [
              "Text(-1.3251059310349, -0.6796384100714644, '2')"
            ]
          },
          "metadata": {
            "tags": []
          },
          "execution_count": 14
        },
        {
          "output_type": "execute_result",
          "data": {
            "text/plain": [
              "Text(-0.08524639295632358, 1.0272155856309708, '1')"
            ]
          },
          "metadata": {
            "tags": []
          },
          "execution_count": 14
        },
        {
          "output_type": "execute_result",
          "data": {
            "text/plain": [
              "Text(0.8274410186315021, -0.7524064779756431, '0')"
            ]
          },
          "metadata": {
            "tags": []
          },
          "execution_count": 14
        },
        {
          "output_type": "execute_result",
          "data": {
            "text/plain": [
              "Text(-1.3251059310349, -0.6796384100714644, '2')"
            ]
          },
          "metadata": {
            "tags": []
          },
          "execution_count": 14
        },
        {
          "output_type": "execute_result",
          "data": {
            "text/plain": [
              "Text(0.8274410186315021, -0.7524064779756431, '0')"
            ]
          },
          "metadata": {
            "tags": []
          },
          "execution_count": 14
        },
        {
          "output_type": "execute_result",
          "data": {
            "text/plain": [
              "Text(-1.3251059310349, -0.6796384100714644, '2')"
            ]
          },
          "metadata": {
            "tags": []
          },
          "execution_count": 14
        },
        {
          "output_type": "execute_result",
          "data": {
            "text/plain": [
              "Text(-0.08524639295632358, 1.0272155856309708, '1')"
            ]
          },
          "metadata": {
            "tags": []
          },
          "execution_count": 14
        },
        {
          "output_type": "execute_result",
          "data": {
            "text/plain": [
              "Text(0.8274410186315021, -0.7524064779756431, '0')"
            ]
          },
          "metadata": {
            "tags": []
          },
          "execution_count": 14
        },
        {
          "output_type": "execute_result",
          "data": {
            "text/plain": [
              "Text(-0.08524639295632358, 1.0272155856309708, '1')"
            ]
          },
          "metadata": {
            "tags": []
          },
          "execution_count": 14
        },
        {
          "output_type": "execute_result",
          "data": {
            "text/plain": [
              "Text(-1.3251059310349, -0.6796384100714644, '2')"
            ]
          },
          "metadata": {
            "tags": []
          },
          "execution_count": 14
        },
        {
          "output_type": "execute_result",
          "data": {
            "text/plain": [
              "Text(-0.08524639295632358, 1.0272155856309708, '1')"
            ]
          },
          "metadata": {
            "tags": []
          },
          "execution_count": 14
        },
        {
          "output_type": "execute_result",
          "data": {
            "text/plain": [
              "Text(0.8274410186315021, -0.7524064779756431, '0')"
            ]
          },
          "metadata": {
            "tags": []
          },
          "execution_count": 14
        },
        {
          "output_type": "execute_result",
          "data": {
            "text/plain": [
              "Text(-0.08524639295632358, 1.0272155856309708, '1')"
            ]
          },
          "metadata": {
            "tags": []
          },
          "execution_count": 14
        },
        {
          "output_type": "execute_result",
          "data": {
            "text/plain": [
              "Text(-1.3251059310349, -0.6796384100714644, '2')"
            ]
          },
          "metadata": {
            "tags": []
          },
          "execution_count": 14
        },
        {
          "output_type": "execute_result",
          "data": {
            "text/plain": [
              "Text(-0.08524639295632358, 1.0272155856309708, '1')"
            ]
          },
          "metadata": {
            "tags": []
          },
          "execution_count": 14
        },
        {
          "output_type": "execute_result",
          "data": {
            "text/plain": [
              "Text(-0.08524639295632358, 1.0272155856309708, '1')"
            ]
          },
          "metadata": {
            "tags": []
          },
          "execution_count": 14
        },
        {
          "output_type": "execute_result",
          "data": {
            "text/plain": [
              "Text(-1.3251059310349, -0.6796384100714644, '2')"
            ]
          },
          "metadata": {
            "tags": []
          },
          "execution_count": 14
        },
        {
          "output_type": "execute_result",
          "data": {
            "text/plain": [
              "Text(-1.3251059310349, -0.6796384100714644, '2')"
            ]
          },
          "metadata": {
            "tags": []
          },
          "execution_count": 14
        },
        {
          "output_type": "execute_result",
          "data": {
            "text/plain": [
              "Text(-1.3251059310349, -0.6796384100714644, '2')"
            ]
          },
          "metadata": {
            "tags": []
          },
          "execution_count": 14
        },
        {
          "output_type": "execute_result",
          "data": {
            "text/plain": [
              "Text(-0.08524639295632358, 1.0272155856309708, '1')"
            ]
          },
          "metadata": {
            "tags": []
          },
          "execution_count": 14
        },
        {
          "output_type": "execute_result",
          "data": {
            "text/plain": [
              "Text(-0.08524639295632358, 1.0272155856309708, '1')"
            ]
          },
          "metadata": {
            "tags": []
          },
          "execution_count": 14
        },
        {
          "output_type": "execute_result",
          "data": {
            "text/plain": [
              "Text(0.8274410186315021, -0.7524064779756431, '0')"
            ]
          },
          "metadata": {
            "tags": []
          },
          "execution_count": 14
        },
        {
          "output_type": "execute_result",
          "data": {
            "text/plain": [
              "Text(1.4605066479893327, 1.510579518746934, '3')"
            ]
          },
          "metadata": {
            "tags": []
          },
          "execution_count": 14
        },
        {
          "output_type": "execute_result",
          "data": {
            "text/plain": [
              "Text(1.4605066479893327, 1.510579518746934, '3')"
            ]
          },
          "metadata": {
            "tags": []
          },
          "execution_count": 14
        },
        {
          "output_type": "execute_result",
          "data": {
            "text/plain": [
              "Text(-1.3251059310349, -0.6796384100714644, '2')"
            ]
          },
          "metadata": {
            "tags": []
          },
          "execution_count": 14
        },
        {
          "output_type": "execute_result",
          "data": {
            "text/plain": [
              "Text(0.8274410186315021, -0.7524064779756431, '0')"
            ]
          },
          "metadata": {
            "tags": []
          },
          "execution_count": 14
        },
        {
          "output_type": "execute_result",
          "data": {
            "text/plain": [
              "Text(-0.08524639295632358, 1.0272155856309708, '1')"
            ]
          },
          "metadata": {
            "tags": []
          },
          "execution_count": 14
        },
        {
          "output_type": "execute_result",
          "data": {
            "text/plain": [
              "Text(-0.08524639295632358, 1.0272155856309708, '1')"
            ]
          },
          "metadata": {
            "tags": []
          },
          "execution_count": 14
        },
        {
          "output_type": "execute_result",
          "data": {
            "text/plain": [
              "Text(-0.08524639295632358, 1.0272155856309708, '1')"
            ]
          },
          "metadata": {
            "tags": []
          },
          "execution_count": 14
        },
        {
          "output_type": "execute_result",
          "data": {
            "text/plain": [
              "Text(0.8274410186315021, -0.7524064779756431, '0')"
            ]
          },
          "metadata": {
            "tags": []
          },
          "execution_count": 14
        },
        {
          "output_type": "execute_result",
          "data": {
            "text/plain": [
              "Text(-1.3251059310349, -0.6796384100714644, '2')"
            ]
          },
          "metadata": {
            "tags": []
          },
          "execution_count": 14
        },
        {
          "output_type": "execute_result",
          "data": {
            "text/plain": [
              "Text(-0.08524639295632358, 1.0272155856309708, '1')"
            ]
          },
          "metadata": {
            "tags": []
          },
          "execution_count": 14
        },
        {
          "output_type": "execute_result",
          "data": {
            "text/plain": [
              "Text(-0.08524639295632358, 1.0272155856309708, '1')"
            ]
          },
          "metadata": {
            "tags": []
          },
          "execution_count": 14
        },
        {
          "output_type": "execute_result",
          "data": {
            "text/plain": [
              "Text(-0.08524639295632358, 1.0272155856309708, '1')"
            ]
          },
          "metadata": {
            "tags": []
          },
          "execution_count": 14
        },
        {
          "output_type": "execute_result",
          "data": {
            "text/plain": [
              "Text(-1.3251059310349, -0.6796384100714644, '2')"
            ]
          },
          "metadata": {
            "tags": []
          },
          "execution_count": 14
        },
        {
          "output_type": "execute_result",
          "data": {
            "text/plain": [
              "Text(1.4605066479893327, 1.510579518746934, '3')"
            ]
          },
          "metadata": {
            "tags": []
          },
          "execution_count": 14
        },
        {
          "output_type": "execute_result",
          "data": {
            "text/plain": [
              "Text(0.8274410186315021, -0.7524064779756431, '0')"
            ]
          },
          "metadata": {
            "tags": []
          },
          "execution_count": 14
        },
        {
          "output_type": "execute_result",
          "data": {
            "text/plain": [
              "Text(-1.3251059310349, -0.6796384100714644, '2')"
            ]
          },
          "metadata": {
            "tags": []
          },
          "execution_count": 14
        },
        {
          "output_type": "execute_result",
          "data": {
            "text/plain": [
              "Text(-1.3251059310349, -0.6796384100714644, '2')"
            ]
          },
          "metadata": {
            "tags": []
          },
          "execution_count": 14
        },
        {
          "output_type": "execute_result",
          "data": {
            "text/plain": [
              "Text(-1.3251059310349, -0.6796384100714644, '2')"
            ]
          },
          "metadata": {
            "tags": []
          },
          "execution_count": 14
        },
        {
          "output_type": "execute_result",
          "data": {
            "text/plain": [
              "Text(0.8274410186315021, -0.7524064779756431, '0')"
            ]
          },
          "metadata": {
            "tags": []
          },
          "execution_count": 14
        },
        {
          "output_type": "execute_result",
          "data": {
            "text/plain": [
              "Text(-0.08524639295632358, 1.0272155856309708, '1')"
            ]
          },
          "metadata": {
            "tags": []
          },
          "execution_count": 14
        },
        {
          "output_type": "execute_result",
          "data": {
            "text/plain": [
              "Text(0.8274410186315021, -0.7524064779756431, '0')"
            ]
          },
          "metadata": {
            "tags": []
          },
          "execution_count": 14
        },
        {
          "output_type": "execute_result",
          "data": {
            "text/plain": [
              "Text(-0.08524639295632358, 1.0272155856309708, '1')"
            ]
          },
          "metadata": {
            "tags": []
          },
          "execution_count": 14
        },
        {
          "output_type": "execute_result",
          "data": {
            "text/plain": [
              "Text(0.8274410186315021, -0.7524064779756431, '0')"
            ]
          },
          "metadata": {
            "tags": []
          },
          "execution_count": 14
        },
        {
          "output_type": "execute_result",
          "data": {
            "text/plain": [
              "Text(-0.08524639295632358, 1.0272155856309708, '1')"
            ]
          },
          "metadata": {
            "tags": []
          },
          "execution_count": 14
        },
        {
          "output_type": "execute_result",
          "data": {
            "text/plain": [
              "Text(-1.3251059310349, -0.6796384100714644, '2')"
            ]
          },
          "metadata": {
            "tags": []
          },
          "execution_count": 14
        },
        {
          "output_type": "execute_result",
          "data": {
            "text/plain": [
              "Text(1.4605066479893327, 1.510579518746934, '3')"
            ]
          },
          "metadata": {
            "tags": []
          },
          "execution_count": 14
        },
        {
          "output_type": "execute_result",
          "data": {
            "text/plain": [
              "Text(-0.08524639295632358, 1.0272155856309708, '1')"
            ]
          },
          "metadata": {
            "tags": []
          },
          "execution_count": 14
        },
        {
          "output_type": "execute_result",
          "data": {
            "text/plain": [
              "Text(-1.3251059310349, -0.6796384100714644, '2')"
            ]
          },
          "metadata": {
            "tags": []
          },
          "execution_count": 14
        },
        {
          "output_type": "execute_result",
          "data": {
            "text/plain": [
              "Text(-1.3251059310349, -0.6796384100714644, '2')"
            ]
          },
          "metadata": {
            "tags": []
          },
          "execution_count": 14
        },
        {
          "output_type": "execute_result",
          "data": {
            "text/plain": [
              "Text(-1.3251059310349, -0.6796384100714644, '2')"
            ]
          },
          "metadata": {
            "tags": []
          },
          "execution_count": 14
        },
        {
          "output_type": "execute_result",
          "data": {
            "text/plain": [
              "Text(-1.3251059310349, -0.6796384100714644, '2')"
            ]
          },
          "metadata": {
            "tags": []
          },
          "execution_count": 14
        },
        {
          "output_type": "execute_result",
          "data": {
            "text/plain": [
              "Text(-0.08524639295632358, 1.0272155856309708, '1')"
            ]
          },
          "metadata": {
            "tags": []
          },
          "execution_count": 14
        },
        {
          "output_type": "execute_result",
          "data": {
            "text/plain": [
              "Text(-1.3251059310349, -0.6796384100714644, '2')"
            ]
          },
          "metadata": {
            "tags": []
          },
          "execution_count": 14
        },
        {
          "output_type": "execute_result",
          "data": {
            "text/plain": [
              "Text(0.8274410186315021, -0.7524064779756431, '0')"
            ]
          },
          "metadata": {
            "tags": []
          },
          "execution_count": 14
        },
        {
          "output_type": "execute_result",
          "data": {
            "text/plain": [
              "Text(1.4605066479893327, 1.510579518746934, '3')"
            ]
          },
          "metadata": {
            "tags": []
          },
          "execution_count": 14
        },
        {
          "output_type": "execute_result",
          "data": {
            "text/plain": [
              "Text(0.8274410186315021, -0.7524064779756431, '0')"
            ]
          },
          "metadata": {
            "tags": []
          },
          "execution_count": 14
        },
        {
          "output_type": "execute_result",
          "data": {
            "text/plain": [
              "Text(-1.3251059310349, -0.6796384100714644, '2')"
            ]
          },
          "metadata": {
            "tags": []
          },
          "execution_count": 14
        },
        {
          "output_type": "execute_result",
          "data": {
            "text/plain": [
              "Text(-0.08524639295632358, 1.0272155856309708, '1')"
            ]
          },
          "metadata": {
            "tags": []
          },
          "execution_count": 14
        },
        {
          "output_type": "execute_result",
          "data": {
            "text/plain": [
              "Text(-0.08524639295632358, 1.0272155856309708, '1')"
            ]
          },
          "metadata": {
            "tags": []
          },
          "execution_count": 14
        },
        {
          "output_type": "execute_result",
          "data": {
            "text/plain": [
              "Text(0.8274410186315021, -0.7524064779756431, '0')"
            ]
          },
          "metadata": {
            "tags": []
          },
          "execution_count": 14
        },
        {
          "output_type": "execute_result",
          "data": {
            "text/plain": [
              "Text(-1.3251059310349, -0.6796384100714644, '2')"
            ]
          },
          "metadata": {
            "tags": []
          },
          "execution_count": 14
        },
        {
          "output_type": "execute_result",
          "data": {
            "text/plain": [
              "Text(0.8274410186315021, -0.7524064779756431, '0')"
            ]
          },
          "metadata": {
            "tags": []
          },
          "execution_count": 14
        },
        {
          "output_type": "execute_result",
          "data": {
            "text/plain": [
              "Text(1.4605066479893327, 1.510579518746934, '3')"
            ]
          },
          "metadata": {
            "tags": []
          },
          "execution_count": 14
        },
        {
          "output_type": "execute_result",
          "data": {
            "text/plain": [
              "Text(0.8274410186315021, -0.7524064779756431, '0')"
            ]
          },
          "metadata": {
            "tags": []
          },
          "execution_count": 14
        },
        {
          "output_type": "execute_result",
          "data": {
            "text/plain": [
              "Text(-0.08524639295632358, 1.0272155856309708, '1')"
            ]
          },
          "metadata": {
            "tags": []
          },
          "execution_count": 14
        },
        {
          "output_type": "execute_result",
          "data": {
            "text/plain": [
              "Text(-0.08524639295632358, 1.0272155856309708, '1')"
            ]
          },
          "metadata": {
            "tags": []
          },
          "execution_count": 14
        },
        {
          "output_type": "execute_result",
          "data": {
            "text/plain": [
              "Text(-1.3251059310349, -0.6796384100714644, '2')"
            ]
          },
          "metadata": {
            "tags": []
          },
          "execution_count": 14
        },
        {
          "output_type": "execute_result",
          "data": {
            "text/plain": [
              "Text(-0.08524639295632358, 1.0272155856309708, '1')"
            ]
          },
          "metadata": {
            "tags": []
          },
          "execution_count": 14
        },
        {
          "output_type": "execute_result",
          "data": {
            "text/plain": [
              "Text(-0.08524639295632358, 1.0272155856309708, '1')"
            ]
          },
          "metadata": {
            "tags": []
          },
          "execution_count": 14
        },
        {
          "output_type": "execute_result",
          "data": {
            "text/plain": [
              "Text(-1.3251059310349, -0.6796384100714644, '2')"
            ]
          },
          "metadata": {
            "tags": []
          },
          "execution_count": 14
        },
        {
          "output_type": "execute_result",
          "data": {
            "text/plain": [
              "Text(-0.08524639295632358, 1.0272155856309708, '1')"
            ]
          },
          "metadata": {
            "tags": []
          },
          "execution_count": 14
        },
        {
          "output_type": "execute_result",
          "data": {
            "text/plain": [
              "Text(-0.08524639295632358, 1.0272155856309708, '1')"
            ]
          },
          "metadata": {
            "tags": []
          },
          "execution_count": 14
        },
        {
          "output_type": "execute_result",
          "data": {
            "text/plain": [
              "Text(-0.08524639295632358, 1.0272155856309708, '1')"
            ]
          },
          "metadata": {
            "tags": []
          },
          "execution_count": 14
        },
        {
          "output_type": "execute_result",
          "data": {
            "text/plain": [
              "Text(0.8274410186315021, -0.7524064779756431, '0')"
            ]
          },
          "metadata": {
            "tags": []
          },
          "execution_count": 14
        },
        {
          "output_type": "execute_result",
          "data": {
            "text/plain": [
              "Text(-0.08524639295632358, 1.0272155856309708, '1')"
            ]
          },
          "metadata": {
            "tags": []
          },
          "execution_count": 14
        },
        {
          "output_type": "execute_result",
          "data": {
            "text/plain": [
              "Text(0.8274410186315021, -0.7524064779756431, '0')"
            ]
          },
          "metadata": {
            "tags": []
          },
          "execution_count": 14
        },
        {
          "output_type": "execute_result",
          "data": {
            "text/plain": [
              "Text(0.8274410186315021, -0.7524064779756431, '0')"
            ]
          },
          "metadata": {
            "tags": []
          },
          "execution_count": 14
        },
        {
          "output_type": "execute_result",
          "data": {
            "text/plain": [
              "Text(1.4605066479893327, 1.510579518746934, '3')"
            ]
          },
          "metadata": {
            "tags": []
          },
          "execution_count": 14
        },
        {
          "output_type": "execute_result",
          "data": {
            "text/plain": [
              "Text(-0.08524639295632358, 1.0272155856309708, '1')"
            ]
          },
          "metadata": {
            "tags": []
          },
          "execution_count": 14
        },
        {
          "output_type": "execute_result",
          "data": {
            "text/plain": [
              "Text(-0.08524639295632358, 1.0272155856309708, '1')"
            ]
          },
          "metadata": {
            "tags": []
          },
          "execution_count": 14
        },
        {
          "output_type": "execute_result",
          "data": {
            "text/plain": [
              "Text(-0.08524639295632358, 1.0272155856309708, '1')"
            ]
          },
          "metadata": {
            "tags": []
          },
          "execution_count": 14
        },
        {
          "output_type": "execute_result",
          "data": {
            "text/plain": [
              "Text(1.235654192369486, -1.6836704150389112, '4')"
            ]
          },
          "metadata": {
            "tags": []
          },
          "execution_count": 14
        },
        {
          "output_type": "execute_result",
          "data": {
            "text/plain": [
              "Text(-0.08524639295632358, 1.0272155856309708, '1')"
            ]
          },
          "metadata": {
            "tags": []
          },
          "execution_count": 14
        },
        {
          "output_type": "execute_result",
          "data": {
            "text/plain": [
              "Text(0.8274410186315021, -0.7524064779756431, '0')"
            ]
          },
          "metadata": {
            "tags": []
          },
          "execution_count": 14
        },
        {
          "output_type": "execute_result",
          "data": {
            "text/plain": [
              "Text(-1.3251059310349, -0.6796384100714644, '2')"
            ]
          },
          "metadata": {
            "tags": []
          },
          "execution_count": 14
        },
        {
          "output_type": "execute_result",
          "data": {
            "text/plain": [
              "Text(1.4605066479893327, 1.510579518746934, '3')"
            ]
          },
          "metadata": {
            "tags": []
          },
          "execution_count": 14
        },
        {
          "output_type": "execute_result",
          "data": {
            "text/plain": [
              "Text(1.4605066479893327, 1.510579518746934, '3')"
            ]
          },
          "metadata": {
            "tags": []
          },
          "execution_count": 14
        },
        {
          "output_type": "execute_result",
          "data": {
            "text/plain": [
              "Text(1.4605066479893327, 1.510579518746934, '3')"
            ]
          },
          "metadata": {
            "tags": []
          },
          "execution_count": 14
        },
        {
          "output_type": "execute_result",
          "data": {
            "text/plain": [
              "Text(-1.3251059310349, -0.6796384100714644, '2')"
            ]
          },
          "metadata": {
            "tags": []
          },
          "execution_count": 14
        },
        {
          "output_type": "execute_result",
          "data": {
            "text/plain": [
              "Text(-0.08524639295632358, 1.0272155856309708, '1')"
            ]
          },
          "metadata": {
            "tags": []
          },
          "execution_count": 14
        },
        {
          "output_type": "execute_result",
          "data": {
            "text/plain": [
              "Text(0.8274410186315021, -0.7524064779756431, '0')"
            ]
          },
          "metadata": {
            "tags": []
          },
          "execution_count": 14
        },
        {
          "output_type": "execute_result",
          "data": {
            "text/plain": [
              "Text(-1.3251059310349, -0.6796384100714644, '2')"
            ]
          },
          "metadata": {
            "tags": []
          },
          "execution_count": 14
        },
        {
          "output_type": "execute_result",
          "data": {
            "text/plain": [
              "Text(-1.3251059310349, -0.6796384100714644, '2')"
            ]
          },
          "metadata": {
            "tags": []
          },
          "execution_count": 14
        },
        {
          "output_type": "execute_result",
          "data": {
            "text/plain": [
              "Text(0.8274410186315021, -0.7524064779756431, '0')"
            ]
          },
          "metadata": {
            "tags": []
          },
          "execution_count": 14
        },
        {
          "output_type": "execute_result",
          "data": {
            "text/plain": [
              "Text(0.8274410186315021, -0.7524064779756431, '0')"
            ]
          },
          "metadata": {
            "tags": []
          },
          "execution_count": 14
        },
        {
          "output_type": "execute_result",
          "data": {
            "text/plain": [
              "Text(-0.08524639295632358, 1.0272155856309708, '1')"
            ]
          },
          "metadata": {
            "tags": []
          },
          "execution_count": 14
        },
        {
          "output_type": "execute_result",
          "data": {
            "text/plain": [
              "Text(-0.08524639295632358, 1.0272155856309708, '1')"
            ]
          },
          "metadata": {
            "tags": []
          },
          "execution_count": 14
        },
        {
          "output_type": "execute_result",
          "data": {
            "text/plain": [
              "Text(1.235654192369486, -1.6836704150389112, '4')"
            ]
          },
          "metadata": {
            "tags": []
          },
          "execution_count": 14
        },
        {
          "output_type": "execute_result",
          "data": {
            "text/plain": [
              "Text(-0.08524639295632358, 1.0272155856309708, '1')"
            ]
          },
          "metadata": {
            "tags": []
          },
          "execution_count": 14
        },
        {
          "output_type": "execute_result",
          "data": {
            "text/plain": [
              "Text(-0.08524639295632358, 1.0272155856309708, '1')"
            ]
          },
          "metadata": {
            "tags": []
          },
          "execution_count": 14
        },
        {
          "output_type": "execute_result",
          "data": {
            "text/plain": [
              "Text(-1.3251059310349, -0.6796384100714644, '2')"
            ]
          },
          "metadata": {
            "tags": []
          },
          "execution_count": 14
        },
        {
          "output_type": "execute_result",
          "data": {
            "text/plain": [
              "Text(-0.08524639295632358, 1.0272155856309708, '1')"
            ]
          },
          "metadata": {
            "tags": []
          },
          "execution_count": 14
        },
        {
          "output_type": "execute_result",
          "data": {
            "text/plain": [
              "Text(-1.3251059310349, -0.6796384100714644, '2')"
            ]
          },
          "metadata": {
            "tags": []
          },
          "execution_count": 14
        },
        {
          "output_type": "execute_result",
          "data": {
            "text/plain": [
              "Text(0.8274410186315021, -0.7524064779756431, '0')"
            ]
          },
          "metadata": {
            "tags": []
          },
          "execution_count": 14
        },
        {
          "output_type": "execute_result",
          "data": {
            "text/plain": [
              "Text(1.4605066479893327, 1.510579518746934, '3')"
            ]
          },
          "metadata": {
            "tags": []
          },
          "execution_count": 14
        },
        {
          "output_type": "execute_result",
          "data": {
            "text/plain": [
              "Text(-0.08524639295632358, 1.0272155856309708, '1')"
            ]
          },
          "metadata": {
            "tags": []
          },
          "execution_count": 14
        },
        {
          "output_type": "execute_result",
          "data": {
            "text/plain": [
              "Text(0.8274410186315021, -0.7524064779756431, '0')"
            ]
          },
          "metadata": {
            "tags": []
          },
          "execution_count": 14
        },
        {
          "output_type": "execute_result",
          "data": {
            "text/plain": [
              "Text(-1.3251059310349, -0.6796384100714644, '2')"
            ]
          },
          "metadata": {
            "tags": []
          },
          "execution_count": 14
        },
        {
          "output_type": "execute_result",
          "data": {
            "text/plain": [
              "Text(-0.08524639295632358, 1.0272155856309708, '1')"
            ]
          },
          "metadata": {
            "tags": []
          },
          "execution_count": 14
        },
        {
          "output_type": "execute_result",
          "data": {
            "text/plain": [
              "Text(-1.3251059310349, -0.6796384100714644, '2')"
            ]
          },
          "metadata": {
            "tags": []
          },
          "execution_count": 14
        },
        {
          "output_type": "execute_result",
          "data": {
            "text/plain": [
              "Text(-1.3251059310349, -0.6796384100714644, '2')"
            ]
          },
          "metadata": {
            "tags": []
          },
          "execution_count": 14
        },
        {
          "output_type": "execute_result",
          "data": {
            "text/plain": [
              "Text(0.8274410186315021, -0.7524064779756431, '0')"
            ]
          },
          "metadata": {
            "tags": []
          },
          "execution_count": 14
        },
        {
          "output_type": "execute_result",
          "data": {
            "text/plain": [
              "Text(-0.08524639295632358, 1.0272155856309708, '1')"
            ]
          },
          "metadata": {
            "tags": []
          },
          "execution_count": 14
        },
        {
          "output_type": "execute_result",
          "data": {
            "text/plain": [
              "Text(-1.3251059310349, -0.6796384100714644, '2')"
            ]
          },
          "metadata": {
            "tags": []
          },
          "execution_count": 14
        },
        {
          "output_type": "execute_result",
          "data": {
            "text/plain": [
              "Text(-1.3251059310349, -0.6796384100714644, '2')"
            ]
          },
          "metadata": {
            "tags": []
          },
          "execution_count": 14
        },
        {
          "output_type": "execute_result",
          "data": {
            "text/plain": [
              "Text(-0.08524639295632358, 1.0272155856309708, '1')"
            ]
          },
          "metadata": {
            "tags": []
          },
          "execution_count": 14
        },
        {
          "output_type": "execute_result",
          "data": {
            "text/plain": [
              "Text(-0.08524639295632358, 1.0272155856309708, '1')"
            ]
          },
          "metadata": {
            "tags": []
          },
          "execution_count": 14
        },
        {
          "output_type": "execute_result",
          "data": {
            "text/plain": [
              "Text(-1.3251059310349, -0.6796384100714644, '2')"
            ]
          },
          "metadata": {
            "tags": []
          },
          "execution_count": 14
        },
        {
          "output_type": "execute_result",
          "data": {
            "text/plain": [
              "Text(0.8274410186315021, -0.7524064779756431, '0')"
            ]
          },
          "metadata": {
            "tags": []
          },
          "execution_count": 14
        },
        {
          "output_type": "execute_result",
          "data": {
            "text/plain": [
              "Text(0.8274410186315021, -0.7524064779756431, '0')"
            ]
          },
          "metadata": {
            "tags": []
          },
          "execution_count": 14
        },
        {
          "output_type": "execute_result",
          "data": {
            "text/plain": [
              "Text(1.235654192369486, -1.6836704150389112, '4')"
            ]
          },
          "metadata": {
            "tags": []
          },
          "execution_count": 14
        },
        {
          "output_type": "execute_result",
          "data": {
            "text/plain": [
              "Text(0.8274410186315021, -0.7524064779756431, '0')"
            ]
          },
          "metadata": {
            "tags": []
          },
          "execution_count": 14
        },
        {
          "output_type": "execute_result",
          "data": {
            "text/plain": [
              "Text(-1.3251059310349, -0.6796384100714644, '2')"
            ]
          },
          "metadata": {
            "tags": []
          },
          "execution_count": 14
        },
        {
          "output_type": "execute_result",
          "data": {
            "text/plain": [
              "Text(-1.3251059310349, -0.6796384100714644, '2')"
            ]
          },
          "metadata": {
            "tags": []
          },
          "execution_count": 14
        },
        {
          "output_type": "execute_result",
          "data": {
            "text/plain": [
              "Text(0.8274410186315021, -0.7524064779756431, '0')"
            ]
          },
          "metadata": {
            "tags": []
          },
          "execution_count": 14
        },
        {
          "output_type": "execute_result",
          "data": {
            "text/plain": [
              "Text(1.235654192369486, -1.6836704150389112, '4')"
            ]
          },
          "metadata": {
            "tags": []
          },
          "execution_count": 14
        },
        {
          "output_type": "execute_result",
          "data": {
            "text/plain": [
              "Text(-1.3251059310349, -0.6796384100714644, '2')"
            ]
          },
          "metadata": {
            "tags": []
          },
          "execution_count": 14
        },
        {
          "output_type": "execute_result",
          "data": {
            "text/plain": [
              "Text(-1.3251059310349, -0.6796384100714644, '2')"
            ]
          },
          "metadata": {
            "tags": []
          },
          "execution_count": 14
        },
        {
          "output_type": "execute_result",
          "data": {
            "text/plain": [
              "Text(1.4605066479893327, 1.510579518746934, '3')"
            ]
          },
          "metadata": {
            "tags": []
          },
          "execution_count": 14
        },
        {
          "output_type": "execute_result",
          "data": {
            "text/plain": [
              "Text(-0.08524639295632358, 1.0272155856309708, '1')"
            ]
          },
          "metadata": {
            "tags": []
          },
          "execution_count": 14
        },
        {
          "output_type": "execute_result",
          "data": {
            "text/plain": [
              "Text(0.8274410186315021, -0.7524064779756431, '0')"
            ]
          },
          "metadata": {
            "tags": []
          },
          "execution_count": 14
        },
        {
          "output_type": "execute_result",
          "data": {
            "text/plain": [
              "Text(0.8274410186315021, -0.7524064779756431, '0')"
            ]
          },
          "metadata": {
            "tags": []
          },
          "execution_count": 14
        },
        {
          "output_type": "execute_result",
          "data": {
            "text/plain": [
              "Text(-0.08524639295632358, 1.0272155856309708, '1')"
            ]
          },
          "metadata": {
            "tags": []
          },
          "execution_count": 14
        },
        {
          "output_type": "execute_result",
          "data": {
            "text/plain": [
              "Text(0.8274410186315021, -0.7524064779756431, '0')"
            ]
          },
          "metadata": {
            "tags": []
          },
          "execution_count": 14
        },
        {
          "output_type": "execute_result",
          "data": {
            "text/plain": [
              "Text(-1.3251059310349, -0.6796384100714644, '2')"
            ]
          },
          "metadata": {
            "tags": []
          },
          "execution_count": 14
        },
        {
          "output_type": "execute_result",
          "data": {
            "text/plain": [
              "Text(-1.3251059310349, -0.6796384100714644, '2')"
            ]
          },
          "metadata": {
            "tags": []
          },
          "execution_count": 14
        },
        {
          "output_type": "execute_result",
          "data": {
            "text/plain": [
              "Text(0.8274410186315021, -0.7524064779756431, '0')"
            ]
          },
          "metadata": {
            "tags": []
          },
          "execution_count": 14
        },
        {
          "output_type": "execute_result",
          "data": {
            "text/plain": [
              "Text(-0.08524639295632358, 1.0272155856309708, '1')"
            ]
          },
          "metadata": {
            "tags": []
          },
          "execution_count": 14
        },
        {
          "output_type": "execute_result",
          "data": {
            "text/plain": [
              "Text(0.8274410186315021, -0.7524064779756431, '0')"
            ]
          },
          "metadata": {
            "tags": []
          },
          "execution_count": 14
        },
        {
          "output_type": "execute_result",
          "data": {
            "text/plain": [
              "Text(-1.3251059310349, -0.6796384100714644, '2')"
            ]
          },
          "metadata": {
            "tags": []
          },
          "execution_count": 14
        },
        {
          "output_type": "execute_result",
          "data": {
            "text/plain": [
              "Text(-0.08524639295632358, 1.0272155856309708, '1')"
            ]
          },
          "metadata": {
            "tags": []
          },
          "execution_count": 14
        },
        {
          "output_type": "execute_result",
          "data": {
            "text/plain": [
              "Text(0.8274410186315021, -0.7524064779756431, '0')"
            ]
          },
          "metadata": {
            "tags": []
          },
          "execution_count": 14
        },
        {
          "output_type": "execute_result",
          "data": {
            "text/plain": [
              "Text(1.4605066479893327, 1.510579518746934, '3')"
            ]
          },
          "metadata": {
            "tags": []
          },
          "execution_count": 14
        },
        {
          "output_type": "execute_result",
          "data": {
            "text/plain": [
              "Text(-0.08524639295632358, 1.0272155856309708, '1')"
            ]
          },
          "metadata": {
            "tags": []
          },
          "execution_count": 14
        },
        {
          "output_type": "execute_result",
          "data": {
            "text/plain": [
              "Text(-1.3251059310349, -0.6796384100714644, '2')"
            ]
          },
          "metadata": {
            "tags": []
          },
          "execution_count": 14
        },
        {
          "output_type": "execute_result",
          "data": {
            "text/plain": [
              "Text(0.8274410186315021, -0.7524064779756431, '0')"
            ]
          },
          "metadata": {
            "tags": []
          },
          "execution_count": 14
        },
        {
          "output_type": "execute_result",
          "data": {
            "text/plain": [
              "Text(0.8274410186315021, -0.7524064779756431, '0')"
            ]
          },
          "metadata": {
            "tags": []
          },
          "execution_count": 14
        },
        {
          "output_type": "execute_result",
          "data": {
            "text/plain": [
              "Text(-1.3251059310349, -0.6796384100714644, '2')"
            ]
          },
          "metadata": {
            "tags": []
          },
          "execution_count": 14
        },
        {
          "output_type": "execute_result",
          "data": {
            "text/plain": [
              "Text(1.235654192369486, -1.6836704150389112, '4')"
            ]
          },
          "metadata": {
            "tags": []
          },
          "execution_count": 14
        },
        {
          "output_type": "execute_result",
          "data": {
            "text/plain": [
              "Text(1.235654192369486, -1.6836704150389112, '4')"
            ]
          },
          "metadata": {
            "tags": []
          },
          "execution_count": 14
        },
        {
          "output_type": "execute_result",
          "data": {
            "text/plain": [
              "Text(-0.08524639295632358, 1.0272155856309708, '1')"
            ]
          },
          "metadata": {
            "tags": []
          },
          "execution_count": 14
        },
        {
          "output_type": "execute_result",
          "data": {
            "text/plain": [
              "Text(-1.3251059310349, -0.6796384100714644, '2')"
            ]
          },
          "metadata": {
            "tags": []
          },
          "execution_count": 14
        },
        {
          "output_type": "execute_result",
          "data": {
            "text/plain": [
              "Text(0.8274410186315021, -0.7524064779756431, '0')"
            ]
          },
          "metadata": {
            "tags": []
          },
          "execution_count": 14
        },
        {
          "output_type": "execute_result",
          "data": {
            "text/plain": [
              "Text(-0.08524639295632358, 1.0272155856309708, '1')"
            ]
          },
          "metadata": {
            "tags": []
          },
          "execution_count": 14
        },
        {
          "output_type": "execute_result",
          "data": {
            "text/plain": [
              "Text(-0.08524639295632358, 1.0272155856309708, '1')"
            ]
          },
          "metadata": {
            "tags": []
          },
          "execution_count": 14
        },
        {
          "output_type": "execute_result",
          "data": {
            "text/plain": [
              "Text(-1.3251059310349, -0.6796384100714644, '2')"
            ]
          },
          "metadata": {
            "tags": []
          },
          "execution_count": 14
        },
        {
          "output_type": "execute_result",
          "data": {
            "text/plain": [
              "Text(0.8274410186315021, -0.7524064779756431, '0')"
            ]
          },
          "metadata": {
            "tags": []
          },
          "execution_count": 14
        },
        {
          "output_type": "execute_result",
          "data": {
            "text/plain": [
              "Text(-1.3251059310349, -0.6796384100714644, '2')"
            ]
          },
          "metadata": {
            "tags": []
          },
          "execution_count": 14
        },
        {
          "output_type": "execute_result",
          "data": {
            "text/plain": [
              "Text(0.8274410186315021, -0.7524064779756431, '0')"
            ]
          },
          "metadata": {
            "tags": []
          },
          "execution_count": 14
        },
        {
          "output_type": "execute_result",
          "data": {
            "text/plain": [
              "Text(-1.3251059310349, -0.6796384100714644, '2')"
            ]
          },
          "metadata": {
            "tags": []
          },
          "execution_count": 14
        },
        {
          "output_type": "execute_result",
          "data": {
            "text/plain": [
              "Text(0.8274410186315021, -0.7524064779756431, '0')"
            ]
          },
          "metadata": {
            "tags": []
          },
          "execution_count": 14
        },
        {
          "output_type": "execute_result",
          "data": {
            "text/plain": [
              "Text(-1.3251059310349, -0.6796384100714644, '2')"
            ]
          },
          "metadata": {
            "tags": []
          },
          "execution_count": 14
        },
        {
          "output_type": "execute_result",
          "data": {
            "text/plain": [
              "Text(-1.3251059310349, -0.6796384100714644, '2')"
            ]
          },
          "metadata": {
            "tags": []
          },
          "execution_count": 14
        },
        {
          "output_type": "execute_result",
          "data": {
            "text/plain": [
              "Text(0.8274410186315021, -0.7524064779756431, '0')"
            ]
          },
          "metadata": {
            "tags": []
          },
          "execution_count": 14
        },
        {
          "output_type": "execute_result",
          "data": {
            "text/plain": [
              "Text(-1.3251059310349, -0.6796384100714644, '2')"
            ]
          },
          "metadata": {
            "tags": []
          },
          "execution_count": 14
        },
        {
          "output_type": "execute_result",
          "data": {
            "text/plain": [
              "Text(0.8274410186315021, -0.7524064779756431, '0')"
            ]
          },
          "metadata": {
            "tags": []
          },
          "execution_count": 14
        },
        {
          "output_type": "execute_result",
          "data": {
            "text/plain": [
              "Text(-0.08524639295632358, 1.0272155856309708, '1')"
            ]
          },
          "metadata": {
            "tags": []
          },
          "execution_count": 14
        },
        {
          "output_type": "execute_result",
          "data": {
            "text/plain": [
              "Text(0.8274410186315021, -0.7524064779756431, '0')"
            ]
          },
          "metadata": {
            "tags": []
          },
          "execution_count": 14
        },
        {
          "output_type": "execute_result",
          "data": {
            "text/plain": [
              "Text(-0.08524639295632358, 1.0272155856309708, '1')"
            ]
          },
          "metadata": {
            "tags": []
          },
          "execution_count": 14
        },
        {
          "output_type": "execute_result",
          "data": {
            "text/plain": [
              "Text(-0.08524639295632358, 1.0272155856309708, '1')"
            ]
          },
          "metadata": {
            "tags": []
          },
          "execution_count": 14
        },
        {
          "output_type": "execute_result",
          "data": {
            "text/plain": [
              "Text(0.8274410186315021, -0.7524064779756431, '0')"
            ]
          },
          "metadata": {
            "tags": []
          },
          "execution_count": 14
        },
        {
          "output_type": "execute_result",
          "data": {
            "text/plain": [
              "Text(0.8274410186315021, -0.7524064779756431, '0')"
            ]
          },
          "metadata": {
            "tags": []
          },
          "execution_count": 14
        },
        {
          "output_type": "execute_result",
          "data": {
            "text/plain": [
              "Text(-1.3251059310349, -0.6796384100714644, '2')"
            ]
          },
          "metadata": {
            "tags": []
          },
          "execution_count": 14
        },
        {
          "output_type": "execute_result",
          "data": {
            "text/plain": [
              "Text(-1.3251059310349, -0.6796384100714644, '2')"
            ]
          },
          "metadata": {
            "tags": []
          },
          "execution_count": 14
        },
        {
          "output_type": "execute_result",
          "data": {
            "text/plain": [
              "Text(1.4605066479893327, 1.510579518746934, '3')"
            ]
          },
          "metadata": {
            "tags": []
          },
          "execution_count": 14
        },
        {
          "output_type": "execute_result",
          "data": {
            "text/plain": [
              "Text(1.4605066479893327, 1.510579518746934, '3')"
            ]
          },
          "metadata": {
            "tags": []
          },
          "execution_count": 14
        },
        {
          "output_type": "execute_result",
          "data": {
            "text/plain": [
              "Text(0.8274410186315021, -0.7524064779756431, '0')"
            ]
          },
          "metadata": {
            "tags": []
          },
          "execution_count": 14
        },
        {
          "output_type": "execute_result",
          "data": {
            "text/plain": [
              "Text(-1.3251059310349, -0.6796384100714644, '2')"
            ]
          },
          "metadata": {
            "tags": []
          },
          "execution_count": 14
        },
        {
          "output_type": "execute_result",
          "data": {
            "text/plain": [
              "Text(1.4605066479893327, 1.510579518746934, '3')"
            ]
          },
          "metadata": {
            "tags": []
          },
          "execution_count": 14
        },
        {
          "output_type": "execute_result",
          "data": {
            "text/plain": [
              "Text(-1.3251059310349, -0.6796384100714644, '2')"
            ]
          },
          "metadata": {
            "tags": []
          },
          "execution_count": 14
        },
        {
          "output_type": "execute_result",
          "data": {
            "text/plain": [
              "Text(1.235654192369486, -1.6836704150389112, '4')"
            ]
          },
          "metadata": {
            "tags": []
          },
          "execution_count": 14
        },
        {
          "output_type": "execute_result",
          "data": {
            "text/plain": [
              "Text(-0.08524639295632358, 1.0272155856309708, '1')"
            ]
          },
          "metadata": {
            "tags": []
          },
          "execution_count": 14
        },
        {
          "output_type": "execute_result",
          "data": {
            "text/plain": [
              "Text(-0.08524639295632358, 1.0272155856309708, '1')"
            ]
          },
          "metadata": {
            "tags": []
          },
          "execution_count": 14
        },
        {
          "output_type": "execute_result",
          "data": {
            "text/plain": [
              "Text(-0.08524639295632358, 1.0272155856309708, '1')"
            ]
          },
          "metadata": {
            "tags": []
          },
          "execution_count": 14
        },
        {
          "output_type": "execute_result",
          "data": {
            "text/plain": [
              "Text(-1.3251059310349, -0.6796384100714644, '2')"
            ]
          },
          "metadata": {
            "tags": []
          },
          "execution_count": 14
        },
        {
          "output_type": "execute_result",
          "data": {
            "text/plain": [
              "Text(-1.3251059310349, -0.6796384100714644, '2')"
            ]
          },
          "metadata": {
            "tags": []
          },
          "execution_count": 14
        },
        {
          "output_type": "execute_result",
          "data": {
            "text/plain": [
              "Text(0.8274410186315021, -0.7524064779756431, '0')"
            ]
          },
          "metadata": {
            "tags": []
          },
          "execution_count": 14
        },
        {
          "output_type": "execute_result",
          "data": {
            "text/plain": [
              "Text(0.8274410186315021, -0.7524064779756431, '0')"
            ]
          },
          "metadata": {
            "tags": []
          },
          "execution_count": 14
        },
        {
          "output_type": "execute_result",
          "data": {
            "text/plain": [
              "Text(1.235654192369486, -1.6836704150389112, '4')"
            ]
          },
          "metadata": {
            "tags": []
          },
          "execution_count": 14
        },
        {
          "output_type": "execute_result",
          "data": {
            "text/plain": [
              "Text(0.8274410186315021, -0.7524064779756431, '0')"
            ]
          },
          "metadata": {
            "tags": []
          },
          "execution_count": 14
        },
        {
          "output_type": "execute_result",
          "data": {
            "text/plain": [
              "Text(1.235654192369486, -1.6836704150389112, '4')"
            ]
          },
          "metadata": {
            "tags": []
          },
          "execution_count": 14
        },
        {
          "output_type": "execute_result",
          "data": {
            "text/plain": [
              "Text(-0.08524639295632358, 1.0272155856309708, '1')"
            ]
          },
          "metadata": {
            "tags": []
          },
          "execution_count": 14
        },
        {
          "output_type": "execute_result",
          "data": {
            "text/plain": [
              "Text(0.8274410186315021, -0.7524064779756431, '0')"
            ]
          },
          "metadata": {
            "tags": []
          },
          "execution_count": 14
        },
        {
          "output_type": "execute_result",
          "data": {
            "text/plain": [
              "Text(1.4605066479893327, 1.510579518746934, '3')"
            ]
          },
          "metadata": {
            "tags": []
          },
          "execution_count": 14
        },
        {
          "output_type": "execute_result",
          "data": {
            "text/plain": [
              "Text(-1.3251059310349, -0.6796384100714644, '2')"
            ]
          },
          "metadata": {
            "tags": []
          },
          "execution_count": 14
        },
        {
          "output_type": "execute_result",
          "data": {
            "text/plain": [
              "Text(-0.08524639295632358, 1.0272155856309708, '1')"
            ]
          },
          "metadata": {
            "tags": []
          },
          "execution_count": 14
        },
        {
          "output_type": "execute_result",
          "data": {
            "text/plain": [
              "Text(-1.3251059310349, -0.6796384100714644, '2')"
            ]
          },
          "metadata": {
            "tags": []
          },
          "execution_count": 14
        },
        {
          "output_type": "execute_result",
          "data": {
            "text/plain": [
              "Text(1.4605066479893327, 1.510579518746934, '3')"
            ]
          },
          "metadata": {
            "tags": []
          },
          "execution_count": 14
        },
        {
          "output_type": "execute_result",
          "data": {
            "text/plain": [
              "Text(-0.08524639295632358, 1.0272155856309708, '1')"
            ]
          },
          "metadata": {
            "tags": []
          },
          "execution_count": 14
        },
        {
          "output_type": "execute_result",
          "data": {
            "text/plain": [
              "Text(-1.3251059310349, -0.6796384100714644, '2')"
            ]
          },
          "metadata": {
            "tags": []
          },
          "execution_count": 14
        },
        {
          "output_type": "execute_result",
          "data": {
            "text/plain": [
              "Text(-1.3251059310349, -0.6796384100714644, '2')"
            ]
          },
          "metadata": {
            "tags": []
          },
          "execution_count": 14
        },
        {
          "output_type": "execute_result",
          "data": {
            "text/plain": [
              "Text(-0.08524639295632358, 1.0272155856309708, '1')"
            ]
          },
          "metadata": {
            "tags": []
          },
          "execution_count": 14
        },
        {
          "output_type": "execute_result",
          "data": {
            "text/plain": [
              "Text(-1.3251059310349, -0.6796384100714644, '2')"
            ]
          },
          "metadata": {
            "tags": []
          },
          "execution_count": 14
        },
        {
          "output_type": "execute_result",
          "data": {
            "text/plain": [
              "Text(0.8274410186315021, -0.7524064779756431, '0')"
            ]
          },
          "metadata": {
            "tags": []
          },
          "execution_count": 14
        },
        {
          "output_type": "execute_result",
          "data": {
            "text/plain": [
              "Text(-0.08524639295632358, 1.0272155856309708, '1')"
            ]
          },
          "metadata": {
            "tags": []
          },
          "execution_count": 14
        },
        {
          "output_type": "execute_result",
          "data": {
            "text/plain": [
              "Text(1.235654192369486, -1.6836704150389112, '4')"
            ]
          },
          "metadata": {
            "tags": []
          },
          "execution_count": 14
        },
        {
          "output_type": "execute_result",
          "data": {
            "text/plain": [
              "Text(0.8274410186315021, -0.7524064779756431, '0')"
            ]
          },
          "metadata": {
            "tags": []
          },
          "execution_count": 14
        },
        {
          "output_type": "execute_result",
          "data": {
            "text/plain": [
              "Text(0.8274410186315021, -0.7524064779756431, '0')"
            ]
          },
          "metadata": {
            "tags": []
          },
          "execution_count": 14
        },
        {
          "output_type": "execute_result",
          "data": {
            "text/plain": [
              "Text(-0.08524639295632358, 1.0272155856309708, '1')"
            ]
          },
          "metadata": {
            "tags": []
          },
          "execution_count": 14
        },
        {
          "output_type": "execute_result",
          "data": {
            "text/plain": [
              "Text(-1.3251059310349, -0.6796384100714644, '2')"
            ]
          },
          "metadata": {
            "tags": []
          },
          "execution_count": 14
        },
        {
          "output_type": "execute_result",
          "data": {
            "text/plain": [
              "Text(-1.3251059310349, -0.6796384100714644, '2')"
            ]
          },
          "metadata": {
            "tags": []
          },
          "execution_count": 14
        },
        {
          "output_type": "execute_result",
          "data": {
            "text/plain": [
              "Text(-1.3251059310349, -0.6796384100714644, '2')"
            ]
          },
          "metadata": {
            "tags": []
          },
          "execution_count": 14
        },
        {
          "output_type": "execute_result",
          "data": {
            "text/plain": [
              "Text(-1.3251059310349, -0.6796384100714644, '2')"
            ]
          },
          "metadata": {
            "tags": []
          },
          "execution_count": 14
        },
        {
          "output_type": "execute_result",
          "data": {
            "text/plain": [
              "Text(-1.3251059310349, -0.6796384100714644, '2')"
            ]
          },
          "metadata": {
            "tags": []
          },
          "execution_count": 14
        },
        {
          "output_type": "execute_result",
          "data": {
            "text/plain": [
              "Text(0.8274410186315021, -0.7524064779756431, '0')"
            ]
          },
          "metadata": {
            "tags": []
          },
          "execution_count": 14
        },
        {
          "output_type": "execute_result",
          "data": {
            "text/plain": [
              "Text(0.8274410186315021, -0.7524064779756431, '0')"
            ]
          },
          "metadata": {
            "tags": []
          },
          "execution_count": 14
        },
        {
          "output_type": "execute_result",
          "data": {
            "text/plain": [
              "Text(-1.3251059310349, -0.6796384100714644, '2')"
            ]
          },
          "metadata": {
            "tags": []
          },
          "execution_count": 14
        },
        {
          "output_type": "execute_result",
          "data": {
            "text/plain": [
              "Text(-0.08524639295632358, 1.0272155856309708, '1')"
            ]
          },
          "metadata": {
            "tags": []
          },
          "execution_count": 14
        },
        {
          "output_type": "execute_result",
          "data": {
            "text/plain": [
              "Text(0.8274410186315021, -0.7524064779756431, '0')"
            ]
          },
          "metadata": {
            "tags": []
          },
          "execution_count": 14
        },
        {
          "output_type": "execute_result",
          "data": {
            "text/plain": [
              "Text(-0.08524639295632358, 1.0272155856309708, '1')"
            ]
          },
          "metadata": {
            "tags": []
          },
          "execution_count": 14
        },
        {
          "output_type": "execute_result",
          "data": {
            "text/plain": [
              "Text(1.235654192369486, -1.6836704150389112, '4')"
            ]
          },
          "metadata": {
            "tags": []
          },
          "execution_count": 14
        },
        {
          "output_type": "execute_result",
          "data": {
            "text/plain": [
              "Text(-1.3251059310349, -0.6796384100714644, '2')"
            ]
          },
          "metadata": {
            "tags": []
          },
          "execution_count": 14
        },
        {
          "output_type": "execute_result",
          "data": {
            "text/plain": [
              "Text(-1.3251059310349, -0.6796384100714644, '2')"
            ]
          },
          "metadata": {
            "tags": []
          },
          "execution_count": 14
        },
        {
          "output_type": "execute_result",
          "data": {
            "text/plain": [
              "Text(-0.08524639295632358, 1.0272155856309708, '1')"
            ]
          },
          "metadata": {
            "tags": []
          },
          "execution_count": 14
        },
        {
          "output_type": "execute_result",
          "data": {
            "text/plain": [
              "Text(-1.3251059310349, -0.6796384100714644, '2')"
            ]
          },
          "metadata": {
            "tags": []
          },
          "execution_count": 14
        },
        {
          "output_type": "execute_result",
          "data": {
            "text/plain": [
              "Text(-1.3251059310349, -0.6796384100714644, '2')"
            ]
          },
          "metadata": {
            "tags": []
          },
          "execution_count": 14
        },
        {
          "output_type": "execute_result",
          "data": {
            "text/plain": [
              "Text(-0.08524639295632358, 1.0272155856309708, '1')"
            ]
          },
          "metadata": {
            "tags": []
          },
          "execution_count": 14
        },
        {
          "output_type": "execute_result",
          "data": {
            "text/plain": [
              "Text(-1.3251059310349, -0.6796384100714644, '2')"
            ]
          },
          "metadata": {
            "tags": []
          },
          "execution_count": 14
        },
        {
          "output_type": "execute_result",
          "data": {
            "text/plain": [
              "Text(-1.3251059310349, -0.6796384100714644, '2')"
            ]
          },
          "metadata": {
            "tags": []
          },
          "execution_count": 14
        },
        {
          "output_type": "execute_result",
          "data": {
            "text/plain": [
              "Text(0.8274410186315021, -0.7524064779756431, '0')"
            ]
          },
          "metadata": {
            "tags": []
          },
          "execution_count": 14
        },
        {
          "output_type": "execute_result",
          "data": {
            "text/plain": [
              "Text(-1.3251059310349, -0.6796384100714644, '2')"
            ]
          },
          "metadata": {
            "tags": []
          },
          "execution_count": 14
        },
        {
          "output_type": "execute_result",
          "data": {
            "text/plain": [
              "Text(-0.08524639295632358, 1.0272155856309708, '1')"
            ]
          },
          "metadata": {
            "tags": []
          },
          "execution_count": 14
        },
        {
          "output_type": "execute_result",
          "data": {
            "text/plain": [
              "Text(0.8274410186315021, -0.7524064779756431, '0')"
            ]
          },
          "metadata": {
            "tags": []
          },
          "execution_count": 14
        },
        {
          "output_type": "execute_result",
          "data": {
            "text/plain": [
              "Text(1.4605066479893327, 1.510579518746934, '3')"
            ]
          },
          "metadata": {
            "tags": []
          },
          "execution_count": 14
        },
        {
          "output_type": "execute_result",
          "data": {
            "text/plain": [
              "Text(0.8274410186315021, -0.7524064779756431, '0')"
            ]
          },
          "metadata": {
            "tags": []
          },
          "execution_count": 14
        },
        {
          "output_type": "execute_result",
          "data": {
            "text/plain": [
              "Text(-0.08524639295632358, 1.0272155856309708, '1')"
            ]
          },
          "metadata": {
            "tags": []
          },
          "execution_count": 14
        },
        {
          "output_type": "execute_result",
          "data": {
            "text/plain": [
              "Text(-1.3251059310349, -0.6796384100714644, '2')"
            ]
          },
          "metadata": {
            "tags": []
          },
          "execution_count": 14
        },
        {
          "output_type": "execute_result",
          "data": {
            "text/plain": [
              "Text(0.8274410186315021, -0.7524064779756431, '0')"
            ]
          },
          "metadata": {
            "tags": []
          },
          "execution_count": 14
        },
        {
          "output_type": "execute_result",
          "data": {
            "text/plain": [
              "Text(-0.08524639295632358, 1.0272155856309708, '1')"
            ]
          },
          "metadata": {
            "tags": []
          },
          "execution_count": 14
        },
        {
          "output_type": "execute_result",
          "data": {
            "text/plain": [
              "Text(-0.08524639295632358, 1.0272155856309708, '1')"
            ]
          },
          "metadata": {
            "tags": []
          },
          "execution_count": 14
        },
        {
          "output_type": "execute_result",
          "data": {
            "text/plain": [
              "Text(-0.08524639295632358, 1.0272155856309708, '1')"
            ]
          },
          "metadata": {
            "tags": []
          },
          "execution_count": 14
        },
        {
          "output_type": "execute_result",
          "data": {
            "text/plain": [
              "Text(-1.3251059310349, -0.6796384100714644, '2')"
            ]
          },
          "metadata": {
            "tags": []
          },
          "execution_count": 14
        },
        {
          "output_type": "execute_result",
          "data": {
            "text/plain": [
              "Text(0.8274410186315021, -0.7524064779756431, '0')"
            ]
          },
          "metadata": {
            "tags": []
          },
          "execution_count": 14
        },
        {
          "output_type": "execute_result",
          "data": {
            "text/plain": [
              "Text(1.4605066479893327, 1.510579518746934, '3')"
            ]
          },
          "metadata": {
            "tags": []
          },
          "execution_count": 14
        },
        {
          "output_type": "execute_result",
          "data": {
            "text/plain": [
              "Text(0.8274410186315021, -0.7524064779756431, '0')"
            ]
          },
          "metadata": {
            "tags": []
          },
          "execution_count": 14
        },
        {
          "output_type": "execute_result",
          "data": {
            "text/plain": [
              "Text(-0.08524639295632358, 1.0272155856309708, '1')"
            ]
          },
          "metadata": {
            "tags": []
          },
          "execution_count": 14
        },
        {
          "output_type": "execute_result",
          "data": {
            "text/plain": [
              "Text(0.8274410186315021, -0.7524064779756431, '0')"
            ]
          },
          "metadata": {
            "tags": []
          },
          "execution_count": 14
        },
        {
          "output_type": "execute_result",
          "data": {
            "text/plain": [
              "Text(-0.08524639295632358, 1.0272155856309708, '1')"
            ]
          },
          "metadata": {
            "tags": []
          },
          "execution_count": 14
        },
        {
          "output_type": "execute_result",
          "data": {
            "text/plain": [
              "Text(-0.08524639295632358, 1.0272155856309708, '1')"
            ]
          },
          "metadata": {
            "tags": []
          },
          "execution_count": 14
        },
        {
          "output_type": "execute_result",
          "data": {
            "text/plain": [
              "Text(1.4605066479893327, 1.510579518746934, '3')"
            ]
          },
          "metadata": {
            "tags": []
          },
          "execution_count": 14
        },
        {
          "output_type": "execute_result",
          "data": {
            "text/plain": [
              "Text(0.8274410186315021, -0.7524064779756431, '0')"
            ]
          },
          "metadata": {
            "tags": []
          },
          "execution_count": 14
        },
        {
          "output_type": "execute_result",
          "data": {
            "text/plain": [
              "Text(1.235654192369486, -1.6836704150389112, '4')"
            ]
          },
          "metadata": {
            "tags": []
          },
          "execution_count": 14
        },
        {
          "output_type": "execute_result",
          "data": {
            "text/plain": [
              "Text(1.4605066479893327, 1.510579518746934, '3')"
            ]
          },
          "metadata": {
            "tags": []
          },
          "execution_count": 14
        },
        {
          "output_type": "execute_result",
          "data": {
            "text/plain": [
              "Text(0.8274410186315021, -0.7524064779756431, '0')"
            ]
          },
          "metadata": {
            "tags": []
          },
          "execution_count": 14
        },
        {
          "output_type": "execute_result",
          "data": {
            "text/plain": [
              "Text(0.8274410186315021, -0.7524064779756431, '0')"
            ]
          },
          "metadata": {
            "tags": []
          },
          "execution_count": 14
        },
        {
          "output_type": "execute_result",
          "data": {
            "text/plain": [
              "Text(-1.3251059310349, -0.6796384100714644, '2')"
            ]
          },
          "metadata": {
            "tags": []
          },
          "execution_count": 14
        },
        {
          "output_type": "execute_result",
          "data": {
            "text/plain": [
              "Text(-0.08524639295632358, 1.0272155856309708, '1')"
            ]
          },
          "metadata": {
            "tags": []
          },
          "execution_count": 14
        },
        {
          "output_type": "execute_result",
          "data": {
            "text/plain": [
              "Text(-1.3251059310349, -0.6796384100714644, '2')"
            ]
          },
          "metadata": {
            "tags": []
          },
          "execution_count": 14
        },
        {
          "output_type": "execute_result",
          "data": {
            "text/plain": [
              "Text(0.8274410186315021, -0.7524064779756431, '0')"
            ]
          },
          "metadata": {
            "tags": []
          },
          "execution_count": 14
        },
        {
          "output_type": "execute_result",
          "data": {
            "text/plain": [
              "Text(-1.3251059310349, -0.6796384100714644, '2')"
            ]
          },
          "metadata": {
            "tags": []
          },
          "execution_count": 14
        },
        {
          "output_type": "execute_result",
          "data": {
            "text/plain": [
              "Text(0.8274410186315021, -0.7524064779756431, '0')"
            ]
          },
          "metadata": {
            "tags": []
          },
          "execution_count": 14
        },
        {
          "output_type": "execute_result",
          "data": {
            "text/plain": [
              "Text(-0.08524639295632358, 1.0272155856309708, '1')"
            ]
          },
          "metadata": {
            "tags": []
          },
          "execution_count": 14
        },
        {
          "output_type": "execute_result",
          "data": {
            "text/plain": [
              "Text(-0.08524639295632358, 1.0272155856309708, '1')"
            ]
          },
          "metadata": {
            "tags": []
          },
          "execution_count": 14
        },
        {
          "output_type": "execute_result",
          "data": {
            "text/plain": [
              "Text(-1.3251059310349, -0.6796384100714644, '2')"
            ]
          },
          "metadata": {
            "tags": []
          },
          "execution_count": 14
        },
        {
          "output_type": "execute_result",
          "data": {
            "text/plain": [
              "Text(1.235654192369486, -1.6836704150389112, '4')"
            ]
          },
          "metadata": {
            "tags": []
          },
          "execution_count": 14
        },
        {
          "output_type": "execute_result",
          "data": {
            "text/plain": [
              "Text(0.8274410186315021, -0.7524064779756431, '0')"
            ]
          },
          "metadata": {
            "tags": []
          },
          "execution_count": 14
        },
        {
          "output_type": "execute_result",
          "data": {
            "text/plain": [
              "Text(-1.3251059310349, -0.6796384100714644, '2')"
            ]
          },
          "metadata": {
            "tags": []
          },
          "execution_count": 14
        },
        {
          "output_type": "execute_result",
          "data": {
            "text/plain": [
              "Text(0.8274410186315021, -0.7524064779756431, '0')"
            ]
          },
          "metadata": {
            "tags": []
          },
          "execution_count": 14
        },
        {
          "output_type": "execute_result",
          "data": {
            "text/plain": [
              "Text(-0.08524639295632358, 1.0272155856309708, '1')"
            ]
          },
          "metadata": {
            "tags": []
          },
          "execution_count": 14
        },
        {
          "output_type": "execute_result",
          "data": {
            "text/plain": [
              "Text(-0.08524639295632358, 1.0272155856309708, '1')"
            ]
          },
          "metadata": {
            "tags": []
          },
          "execution_count": 14
        },
        {
          "output_type": "execute_result",
          "data": {
            "text/plain": [
              "Text(0.8274410186315021, -0.7524064779756431, '0')"
            ]
          },
          "metadata": {
            "tags": []
          },
          "execution_count": 14
        },
        {
          "output_type": "execute_result",
          "data": {
            "text/plain": [
              "Text(-0.08524639295632358, 1.0272155856309708, '1')"
            ]
          },
          "metadata": {
            "tags": []
          },
          "execution_count": 14
        },
        {
          "output_type": "execute_result",
          "data": {
            "text/plain": [
              "Text(-1.3251059310349, -0.6796384100714644, '2')"
            ]
          },
          "metadata": {
            "tags": []
          },
          "execution_count": 14
        },
        {
          "output_type": "execute_result",
          "data": {
            "text/plain": [
              "Text(-0.08524639295632358, 1.0272155856309708, '1')"
            ]
          },
          "metadata": {
            "tags": []
          },
          "execution_count": 14
        },
        {
          "output_type": "execute_result",
          "data": {
            "text/plain": [
              "Text(0.8274410186315021, -0.7524064779756431, '0')"
            ]
          },
          "metadata": {
            "tags": []
          },
          "execution_count": 14
        },
        {
          "output_type": "execute_result",
          "data": {
            "text/plain": [
              "Text(-0.08524639295632358, 1.0272155856309708, '1')"
            ]
          },
          "metadata": {
            "tags": []
          },
          "execution_count": 14
        },
        {
          "output_type": "execute_result",
          "data": {
            "text/plain": [
              "Text(-1.3251059310349, -0.6796384100714644, '2')"
            ]
          },
          "metadata": {
            "tags": []
          },
          "execution_count": 14
        },
        {
          "output_type": "execute_result",
          "data": {
            "text/plain": [
              "Text(-0.08524639295632358, 1.0272155856309708, '1')"
            ]
          },
          "metadata": {
            "tags": []
          },
          "execution_count": 14
        },
        {
          "output_type": "execute_result",
          "data": {
            "text/plain": [
              "Text(-1.3251059310349, -0.6796384100714644, '2')"
            ]
          },
          "metadata": {
            "tags": []
          },
          "execution_count": 14
        },
        {
          "output_type": "execute_result",
          "data": {
            "text/plain": [
              "Text(1.4605066479893327, 1.510579518746934, '3')"
            ]
          },
          "metadata": {
            "tags": []
          },
          "execution_count": 14
        },
        {
          "output_type": "execute_result",
          "data": {
            "text/plain": [
              "Text(0.8274410186315021, -0.7524064779756431, '0')"
            ]
          },
          "metadata": {
            "tags": []
          },
          "execution_count": 14
        },
        {
          "output_type": "execute_result",
          "data": {
            "text/plain": [
              "Text(0.8274410186315021, -0.7524064779756431, '0')"
            ]
          },
          "metadata": {
            "tags": []
          },
          "execution_count": 14
        },
        {
          "output_type": "execute_result",
          "data": {
            "text/plain": [
              "Text(1.4605066479893327, 1.510579518746934, '3')"
            ]
          },
          "metadata": {
            "tags": []
          },
          "execution_count": 14
        },
        {
          "output_type": "execute_result",
          "data": {
            "text/plain": [
              "Text(0.8274410186315021, -0.7524064779756431, '0')"
            ]
          },
          "metadata": {
            "tags": []
          },
          "execution_count": 14
        },
        {
          "output_type": "execute_result",
          "data": {
            "text/plain": [
              "Text(0.8274410186315021, -0.7524064779756431, '0')"
            ]
          },
          "metadata": {
            "tags": []
          },
          "execution_count": 14
        },
        {
          "output_type": "execute_result",
          "data": {
            "text/plain": [
              "Text(-1.3251059310349, -0.6796384100714644, '2')"
            ]
          },
          "metadata": {
            "tags": []
          },
          "execution_count": 14
        },
        {
          "output_type": "execute_result",
          "data": {
            "text/plain": [
              "Text(-1.3251059310349, -0.6796384100714644, '2')"
            ]
          },
          "metadata": {
            "tags": []
          },
          "execution_count": 14
        },
        {
          "output_type": "execute_result",
          "data": {
            "text/plain": [
              "Text(-0.08524639295632358, 1.0272155856309708, '1')"
            ]
          },
          "metadata": {
            "tags": []
          },
          "execution_count": 14
        },
        {
          "output_type": "execute_result",
          "data": {
            "text/plain": [
              "Text(1.4605066479893327, 1.510579518746934, '3')"
            ]
          },
          "metadata": {
            "tags": []
          },
          "execution_count": 14
        },
        {
          "output_type": "execute_result",
          "data": {
            "text/plain": [
              "Text(-0.08524639295632358, 1.0272155856309708, '1')"
            ]
          },
          "metadata": {
            "tags": []
          },
          "execution_count": 14
        },
        {
          "output_type": "execute_result",
          "data": {
            "text/plain": [
              "Text(0.8274410186315021, -0.7524064779756431, '0')"
            ]
          },
          "metadata": {
            "tags": []
          },
          "execution_count": 14
        },
        {
          "output_type": "execute_result",
          "data": {
            "text/plain": [
              "Text(0.8274410186315021, -0.7524064779756431, '0')"
            ]
          },
          "metadata": {
            "tags": []
          },
          "execution_count": 14
        },
        {
          "output_type": "execute_result",
          "data": {
            "text/plain": [
              "Text(1.235654192369486, -1.6836704150389112, '4')"
            ]
          },
          "metadata": {
            "tags": []
          },
          "execution_count": 14
        },
        {
          "output_type": "execute_result",
          "data": {
            "text/plain": [
              "Text(1.4605066479893327, 1.510579518746934, '3')"
            ]
          },
          "metadata": {
            "tags": []
          },
          "execution_count": 14
        },
        {
          "output_type": "execute_result",
          "data": {
            "text/plain": [
              "Text(0.8274410186315021, -0.7524064779756431, '0')"
            ]
          },
          "metadata": {
            "tags": []
          },
          "execution_count": 14
        },
        {
          "output_type": "execute_result",
          "data": {
            "text/plain": [
              "Text(1.4605066479893327, 1.510579518746934, '3')"
            ]
          },
          "metadata": {
            "tags": []
          },
          "execution_count": 14
        },
        {
          "output_type": "execute_result",
          "data": {
            "text/plain": [
              "Text(-1.3251059310349, -0.6796384100714644, '2')"
            ]
          },
          "metadata": {
            "tags": []
          },
          "execution_count": 14
        },
        {
          "output_type": "execute_result",
          "data": {
            "text/plain": [
              "Text(0.8274410186315021, -0.7524064779756431, '0')"
            ]
          },
          "metadata": {
            "tags": []
          },
          "execution_count": 14
        },
        {
          "output_type": "execute_result",
          "data": {
            "text/plain": [
              "Text(0.8274410186315021, -0.7524064779756431, '0')"
            ]
          },
          "metadata": {
            "tags": []
          },
          "execution_count": 14
        },
        {
          "output_type": "execute_result",
          "data": {
            "text/plain": [
              "Text(-0.08524639295632358, 1.0272155856309708, '1')"
            ]
          },
          "metadata": {
            "tags": []
          },
          "execution_count": 14
        },
        {
          "output_type": "execute_result",
          "data": {
            "text/plain": [
              "Text(0.8274410186315021, -0.7524064779756431, '0')"
            ]
          },
          "metadata": {
            "tags": []
          },
          "execution_count": 14
        },
        {
          "output_type": "execute_result",
          "data": {
            "text/plain": [
              "Text(-1.3251059310349, -0.6796384100714644, '2')"
            ]
          },
          "metadata": {
            "tags": []
          },
          "execution_count": 14
        },
        {
          "output_type": "execute_result",
          "data": {
            "text/plain": [
              "Text(-1.3251059310349, -0.6796384100714644, '2')"
            ]
          },
          "metadata": {
            "tags": []
          },
          "execution_count": 14
        },
        {
          "output_type": "execute_result",
          "data": {
            "text/plain": [
              "Text(1.4605066479893327, 1.510579518746934, '3')"
            ]
          },
          "metadata": {
            "tags": []
          },
          "execution_count": 14
        },
        {
          "output_type": "execute_result",
          "data": {
            "text/plain": [
              "Text(-0.08524639295632358, 1.0272155856309708, '1')"
            ]
          },
          "metadata": {
            "tags": []
          },
          "execution_count": 14
        },
        {
          "output_type": "execute_result",
          "data": {
            "text/plain": [
              "Text(0.8274410186315021, -0.7524064779756431, '0')"
            ]
          },
          "metadata": {
            "tags": []
          },
          "execution_count": 14
        },
        {
          "output_type": "execute_result",
          "data": {
            "text/plain": [
              "Text(-0.08524639295632358, 1.0272155856309708, '1')"
            ]
          },
          "metadata": {
            "tags": []
          },
          "execution_count": 14
        },
        {
          "output_type": "execute_result",
          "data": {
            "text/plain": [
              "Text(-0.08524639295632358, 1.0272155856309708, '1')"
            ]
          },
          "metadata": {
            "tags": []
          },
          "execution_count": 14
        },
        {
          "output_type": "execute_result",
          "data": {
            "text/plain": [
              "Text(0.8274410186315021, -0.7524064779756431, '0')"
            ]
          },
          "metadata": {
            "tags": []
          },
          "execution_count": 14
        },
        {
          "output_type": "execute_result",
          "data": {
            "text/plain": [
              "Text(-0.08524639295632358, 1.0272155856309708, '1')"
            ]
          },
          "metadata": {
            "tags": []
          },
          "execution_count": 14
        },
        {
          "output_type": "execute_result",
          "data": {
            "text/plain": [
              "Text(-0.08524639295632358, 1.0272155856309708, '1')"
            ]
          },
          "metadata": {
            "tags": []
          },
          "execution_count": 14
        },
        {
          "output_type": "execute_result",
          "data": {
            "text/plain": [
              "Text(-0.08524639295632358, 1.0272155856309708, '1')"
            ]
          },
          "metadata": {
            "tags": []
          },
          "execution_count": 14
        },
        {
          "output_type": "execute_result",
          "data": {
            "text/plain": [
              "Text(-1.3251059310349, -0.6796384100714644, '2')"
            ]
          },
          "metadata": {
            "tags": []
          },
          "execution_count": 14
        },
        {
          "output_type": "execute_result",
          "data": {
            "text/plain": [
              "Text(0.8274410186315021, -0.7524064779756431, '0')"
            ]
          },
          "metadata": {
            "tags": []
          },
          "execution_count": 14
        },
        {
          "output_type": "execute_result",
          "data": {
            "text/plain": [
              "Text(0.8274410186315021, -0.7524064779756431, '0')"
            ]
          },
          "metadata": {
            "tags": []
          },
          "execution_count": 14
        },
        {
          "output_type": "execute_result",
          "data": {
            "text/plain": [
              "Text(-0.08524639295632358, 1.0272155856309708, '1')"
            ]
          },
          "metadata": {
            "tags": []
          },
          "execution_count": 14
        },
        {
          "output_type": "execute_result",
          "data": {
            "text/plain": [
              "Text(-0.08524639295632358, 1.0272155856309708, '1')"
            ]
          },
          "metadata": {
            "tags": []
          },
          "execution_count": 14
        },
        {
          "output_type": "execute_result",
          "data": {
            "text/plain": [
              "Text(-0.08524639295632358, 1.0272155856309708, '1')"
            ]
          },
          "metadata": {
            "tags": []
          },
          "execution_count": 14
        },
        {
          "output_type": "execute_result",
          "data": {
            "text/plain": [
              "Text(-1.3251059310349, -0.6796384100714644, '2')"
            ]
          },
          "metadata": {
            "tags": []
          },
          "execution_count": 14
        },
        {
          "output_type": "execute_result",
          "data": {
            "text/plain": [
              "Text(0.8274410186315021, -0.7524064779756431, '0')"
            ]
          },
          "metadata": {
            "tags": []
          },
          "execution_count": 14
        },
        {
          "output_type": "execute_result",
          "data": {
            "text/plain": [
              "Text(-1.3251059310349, -0.6796384100714644, '2')"
            ]
          },
          "metadata": {
            "tags": []
          },
          "execution_count": 14
        },
        {
          "output_type": "execute_result",
          "data": {
            "text/plain": [
              "Text(-1.3251059310349, -0.6796384100714644, '2')"
            ]
          },
          "metadata": {
            "tags": []
          },
          "execution_count": 14
        },
        {
          "output_type": "execute_result",
          "data": {
            "text/plain": [
              "Text(-1.3251059310349, -0.6796384100714644, '2')"
            ]
          },
          "metadata": {
            "tags": []
          },
          "execution_count": 14
        },
        {
          "output_type": "execute_result",
          "data": {
            "text/plain": [
              "Text(-1.3251059310349, -0.6796384100714644, '2')"
            ]
          },
          "metadata": {
            "tags": []
          },
          "execution_count": 14
        },
        {
          "output_type": "execute_result",
          "data": {
            "text/plain": [
              "Text(1.4605066479893327, 1.510579518746934, '3')"
            ]
          },
          "metadata": {
            "tags": []
          },
          "execution_count": 14
        },
        {
          "output_type": "execute_result",
          "data": {
            "text/plain": [
              "Text(-1.3251059310349, -0.6796384100714644, '2')"
            ]
          },
          "metadata": {
            "tags": []
          },
          "execution_count": 14
        },
        {
          "output_type": "execute_result",
          "data": {
            "text/plain": [
              "Text(-1.3251059310349, -0.6796384100714644, '2')"
            ]
          },
          "metadata": {
            "tags": []
          },
          "execution_count": 14
        },
        {
          "output_type": "execute_result",
          "data": {
            "text/plain": [
              "Text(-1.3251059310349, -0.6796384100714644, '2')"
            ]
          },
          "metadata": {
            "tags": []
          },
          "execution_count": 14
        },
        {
          "output_type": "execute_result",
          "data": {
            "text/plain": [
              "Text(-0.08524639295632358, 1.0272155856309708, '1')"
            ]
          },
          "metadata": {
            "tags": []
          },
          "execution_count": 14
        },
        {
          "output_type": "execute_result",
          "data": {
            "text/plain": [
              "Text(-0.08524639295632358, 1.0272155856309708, '1')"
            ]
          },
          "metadata": {
            "tags": []
          },
          "execution_count": 14
        },
        {
          "output_type": "execute_result",
          "data": {
            "text/plain": [
              "Text(-1.3251059310349, -0.6796384100714644, '2')"
            ]
          },
          "metadata": {
            "tags": []
          },
          "execution_count": 14
        },
        {
          "output_type": "execute_result",
          "data": {
            "text/plain": [
              "Text(-1.3251059310349, -0.6796384100714644, '2')"
            ]
          },
          "metadata": {
            "tags": []
          },
          "execution_count": 14
        },
        {
          "output_type": "execute_result",
          "data": {
            "text/plain": [
              "Text(-0.08524639295632358, 1.0272155856309708, '1')"
            ]
          },
          "metadata": {
            "tags": []
          },
          "execution_count": 14
        },
        {
          "output_type": "execute_result",
          "data": {
            "text/plain": [
              "Text(1.4605066479893327, 1.510579518746934, '3')"
            ]
          },
          "metadata": {
            "tags": []
          },
          "execution_count": 14
        },
        {
          "output_type": "execute_result",
          "data": {
            "text/plain": [
              "Text(-1.3251059310349, -0.6796384100714644, '2')"
            ]
          },
          "metadata": {
            "tags": []
          },
          "execution_count": 14
        },
        {
          "output_type": "execute_result",
          "data": {
            "text/plain": [
              "Text(0.8274410186315021, -0.7524064779756431, '0')"
            ]
          },
          "metadata": {
            "tags": []
          },
          "execution_count": 14
        },
        {
          "output_type": "execute_result",
          "data": {
            "text/plain": [
              "Text(1.4605066479893327, 1.510579518746934, '3')"
            ]
          },
          "metadata": {
            "tags": []
          },
          "execution_count": 14
        },
        {
          "output_type": "execute_result",
          "data": {
            "text/plain": [
              "Text(0.8274410186315021, -0.7524064779756431, '0')"
            ]
          },
          "metadata": {
            "tags": []
          },
          "execution_count": 14
        },
        {
          "output_type": "execute_result",
          "data": {
            "text/plain": [
              "Text(-1.3251059310349, -0.6796384100714644, '2')"
            ]
          },
          "metadata": {
            "tags": []
          },
          "execution_count": 14
        },
        {
          "output_type": "execute_result",
          "data": {
            "text/plain": [
              "Text(-1.3251059310349, -0.6796384100714644, '2')"
            ]
          },
          "metadata": {
            "tags": []
          },
          "execution_count": 14
        },
        {
          "output_type": "execute_result",
          "data": {
            "text/plain": [
              "Text(-1.3251059310349, -0.6796384100714644, '2')"
            ]
          },
          "metadata": {
            "tags": []
          },
          "execution_count": 14
        },
        {
          "output_type": "execute_result",
          "data": {
            "text/plain": [
              "Text(-1.3251059310349, -0.6796384100714644, '2')"
            ]
          },
          "metadata": {
            "tags": []
          },
          "execution_count": 14
        }
      ]
    },
    {
      "cell_type": "code",
      "metadata": {
        "id": "a8a9PYOldI1M",
        "colab_type": "code",
        "cellView": "code",
        "outputId": "61e3b8d2-4fd0-480f-bbd9-87ca76e4cd17",
        "colab": {
          "base_uri": "https://localhost:8080/",
          "height": 34
        }
      },
      "source": [
        "# WCSS == Inertia\n",
        "k_means.inertia_\n"
      ],
      "execution_count": 0,
      "outputs": [
        {
          "output_type": "execute_result",
          "data": {
            "text/plain": [
              "29.794701197064278"
            ]
          },
          "metadata": {
            "tags": []
          },
          "execution_count": 16
        }
      ]
    },
    {
      "cell_type": "code",
      "metadata": {
        "id": "0pvQxkVGdIlA",
        "colab_type": "code",
        "outputId": "f529a183-2ce5-4abe-e7f3-837780767fe7",
        "colab": {
          "base_uri": "https://localhost:8080/",
          "height": 34
        }
      },
      "source": [
        "silhouette_score(X, k_means.labels_)"
      ],
      "execution_count": 0,
      "outputs": [
        {
          "output_type": "execute_result",
          "data": {
            "text/plain": [
              "0.7884539771968492"
            ]
          },
          "metadata": {
            "tags": []
          },
          "execution_count": 17
        }
      ]
    },
    {
      "cell_type": "code",
      "metadata": {
        "id": "1xd1GQQLkShO",
        "colab_type": "code",
        "colab": {}
      },
      "source": [
        "plt.style.use('default');\n",
        "\n",
        "sample_silhouette_values = silhouette_samples(X, k_means.labels_)\n",
        "sizes = 200*sample_silhouette_values\n",
        "\n",
        "plt.figure(figsize=(16, 10));\n",
        "plt.grid(True);\n",
        "\n",
        "plt.scatter(X.iloc[:, 0], X.iloc[:, 1], s=sizes, c=k_means.labels_)\n",
        "plt.scatter(k_means.cluster_centers_[:, 0], k_means.cluster_centers_[:, 1], marker='x', s=500, c=\"black\")\n",
        "\n",
        "plt.title(\"K-Means (Dot Size = Silhouette Distance)\", fontsize=20);\n",
        "plt.xlabel('Income (K)', fontsize=22);\n",
        "plt.ylabel('Spending Score', fontsize=22);\n",
        "plt.xticks(fontsize=18);\n",
        "plt.yticks(fontsize=18);"
      ],
      "execution_count": 0,
      "outputs": []
    },
    {
      "cell_type": "code",
      "metadata": {
        "id": "TSaJjpcEkSRL",
        "colab_type": "code",
        "colab": {}
      },
      "source": [
        ""
      ],
      "execution_count": 0,
      "outputs": []
    }
  ]
}