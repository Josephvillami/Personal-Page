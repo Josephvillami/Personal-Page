{
  "nbformat": 4,
  "nbformat_minor": 0,
  "metadata": {
    "colab": {
      "name": "Yorkdale_oxford_touchedbylarry_multiclass.ipynb",
      "provenance": [],
      "collapsed_sections": [],
      "toc_visible": true,
      "machine_shape": "hm",
      "include_colab_link": true
    },
    "kernelspec": {
      "display_name": "Python 3",
      "language": "python",
      "name": "python3"
    },
    "language_info": {
      "codemirror_mode": {
        "name": "ipython",
        "version": 3
      },
      "file_extension": ".py",
      "mimetype": "text/x-python",
      "name": "python",
      "nbconvert_exporter": "python",
      "pygments_lexer": "ipython3",
      "version": "3.6.5"
    }
  },
  "cells": [
    {
      "cell_type": "markdown",
      "metadata": {
        "id": "view-in-github",
        "colab_type": "text"
      },
      "source": [
        "<a href=\"https://colab.research.google.com/github/Josephvillami/Personal-Page/blob/master/Mall_stores_multiclass.ipynb\" target=\"_parent\"><img src=\"https://colab.research.google.com/assets/colab-badge.svg\" alt=\"Open In Colab\"/></a>"
      ]
    },
    {
      "cell_type": "code",
      "metadata": {
        "colab_type": "code",
        "id": "Jdm5Bvmnnu3S",
        "colab": {}
      },
      "source": [
        ""
      ],
      "execution_count": 0,
      "outputs": []
    },
    {
      "cell_type": "markdown",
      "metadata": {
        "colab_type": "text",
        "id": "opUPsR1Bn-Ex"
      },
      "source": [
        "Importing all the libraries"
      ]
    },
    {
      "cell_type": "code",
      "metadata": {
        "colab_type": "code",
        "id": "t1lLde8Jn9M6",
        "colab": {}
      },
      "source": [
        "import pandas as pd\n",
        "import numpy as np\n",
        "import datetime as datetime\n",
        "#import missingno as msno\n",
        "\n",
        "import matplotlib\n",
        "import matplotlib.pyplot as plt\n",
        "import seaborn as sns\n",
        "from sklearn.model_selection import StratifiedShuffleSplit\n",
        "from sklearn.model_selection import train_test_split\n",
        "from sklearn.ensemble import RandomForestClassifier\n",
        "from sklearn.metrics import accuracy_score,confusion_matrix,f1_score,recall_score,classification_report\n",
        "from sklearn.utils import resample, shuffle\n",
        "pd.set_option('display.max_columns', 30)\n",
        "pd.set_option('display.max_rows', 30)\n",
        "import xgboost\n",
        "from datetime import datetime,date,time\n",
        "import calendar\n",
        "from sklearn.svm import SVC\n",
        "from sklearn.preprocessing import StandardScaler\n",
        "from sklearn.svm import LinearSVC\n",
        "\n",
        "from keras import Sequential\n",
        "from keras.layers import Dense\n",
        "from keras.utils import np_utils\n",
        "\n",
        "import tensorflow as tf\n",
        "from tensorflow.python.keras.metrics import Precision, Recall\n"
      ],
      "execution_count": 0,
      "outputs": []
    },
    {
      "cell_type": "markdown",
      "metadata": {
        "colab_type": "text",
        "id": "BEMiWQ12oGIF"
      },
      "source": [
        "Reading visit file as a pandas dataframe. The index is the row count of all the data in the visit csv file. There are a total of 178356 instances available"
      ]
    },
    {
      "cell_type": "code",
      "metadata": {
        "colab_type": "code",
        "id": "RSzyvIJqoBQX",
        "outputId": "11ad5764-4b54-4f6e-9c5a-47076f08b5dd",
        "colab": {
          "base_uri": "https://localhost:8080/",
          "height": 188
        }
      },
      "source": [
        "df = pd.read_csv('/content/visits_full.csv',index_col='Unnamed: 0')\n",
        "df.count()\n",
        "# to Salman:  replace \"Colab Notebooks/MMAI896_Yorkdale\" with \"AI\", AI is the folder name you are using"
      ],
      "execution_count": 2,
      "outputs": [
        {
          "output_type": "stream",
          "text": [
            "/usr/local/lib/python3.6/dist-packages/numpy/lib/arraysetops.py:568: FutureWarning: elementwise comparison failed; returning scalar instead, but in the future will perform elementwise comparison\n",
            "  mask |= (ar1 == a)\n"
          ],
          "name": "stderr"
        },
        {
          "output_type": "execute_result",
          "data": {
            "text/plain": [
              "Visit_ID        1783546\n",
              "DateTime        1783543\n",
              "Customer_ID     1783546\n",
              "Sequence_Num    1783546\n",
              "Store_ID        1783546\n",
              "Dwell_Time      1783546\n",
              "dtype: int64"
            ]
          },
          "metadata": {
            "tags": []
          },
          "execution_count": 2
        }
      ]
    },
    {
      "cell_type": "markdown",
      "metadata": {
        "colab_type": "text",
        "id": "HDpQyBWKpHnc"
      },
      "source": [
        "Checking for duplicate records in the file. After runing the code we find no duplicate records."
      ]
    },
    {
      "cell_type": "code",
      "metadata": {
        "colab_type": "code",
        "id": "i-hor7WsoPfn",
        "outputId": "6cf4b11e-d4db-4737-e84b-6ecc8f640efa",
        "colab": {
          "base_uri": "https://localhost:8080/",
          "height": 47
        }
      },
      "source": [
        "df[df.duplicated(subset=None,keep='first')]"
      ],
      "execution_count": 3,
      "outputs": [
        {
          "output_type": "execute_result",
          "data": {
            "text/html": [
              "<div>\n",
              "<style scoped>\n",
              "    .dataframe tbody tr th:only-of-type {\n",
              "        vertical-align: middle;\n",
              "    }\n",
              "\n",
              "    .dataframe tbody tr th {\n",
              "        vertical-align: top;\n",
              "    }\n",
              "\n",
              "    .dataframe thead th {\n",
              "        text-align: right;\n",
              "    }\n",
              "</style>\n",
              "<table border=\"1\" class=\"dataframe\">\n",
              "  <thead>\n",
              "    <tr style=\"text-align: right;\">\n",
              "      <th></th>\n",
              "      <th>Visit_ID</th>\n",
              "      <th>DateTime</th>\n",
              "      <th>Customer_ID</th>\n",
              "      <th>Sequence_Num</th>\n",
              "      <th>Store_ID</th>\n",
              "      <th>Dwell_Time</th>\n",
              "    </tr>\n",
              "  </thead>\n",
              "  <tbody>\n",
              "  </tbody>\n",
              "</table>\n",
              "</div>"
            ],
            "text/plain": [
              "Empty DataFrame\n",
              "Columns: [Visit_ID, DateTime, Customer_ID, Sequence_Num, Store_ID, Dwell_Time]\n",
              "Index: []"
            ]
          },
          "metadata": {
            "tags": []
          },
          "execution_count": 3
        }
      ]
    },
    {
      "cell_type": "markdown",
      "metadata": {
        "colab_type": "text",
        "id": "V8I0LXOmpYzM"
      },
      "source": [
        "Now sorting the dataframe by DateTime, Customer ID and Sequence Number. This will allow us to see how a unique customer on a specfic day went about his day in a mall. Increase in sequence number for a Customer ID means that the customer went to more than one store in a day  "
      ]
    },
    {
      "cell_type": "code",
      "metadata": {
        "colab_type": "code",
        "id": "ibszntQZoc9n",
        "outputId": "daa57765-a547-4109-b4c1-5e8d1f977fa0",
        "colab": {
          "base_uri": "https://localhost:8080/",
          "height": 491
        }
      },
      "source": [
        "df.sort_values(by=['DateTime','Customer_ID','Sequence_Num']).head(15)"
      ],
      "execution_count": 4,
      "outputs": [
        {
          "output_type": "execute_result",
          "data": {
            "text/html": [
              "<div>\n",
              "<style scoped>\n",
              "    .dataframe tbody tr th:only-of-type {\n",
              "        vertical-align: middle;\n",
              "    }\n",
              "\n",
              "    .dataframe tbody tr th {\n",
              "        vertical-align: top;\n",
              "    }\n",
              "\n",
              "    .dataframe thead th {\n",
              "        text-align: right;\n",
              "    }\n",
              "</style>\n",
              "<table border=\"1\" class=\"dataframe\">\n",
              "  <thead>\n",
              "    <tr style=\"text-align: right;\">\n",
              "      <th></th>\n",
              "      <th>Visit_ID</th>\n",
              "      <th>DateTime</th>\n",
              "      <th>Customer_ID</th>\n",
              "      <th>Sequence_Num</th>\n",
              "      <th>Store_ID</th>\n",
              "      <th>Dwell_Time</th>\n",
              "    </tr>\n",
              "  </thead>\n",
              "  <tbody>\n",
              "    <tr>\n",
              "      <th>1</th>\n",
              "      <td>1</td>\n",
              "      <td>2018-01-01 06:00:30</td>\n",
              "      <td>1</td>\n",
              "      <td>0</td>\n",
              "      <td>5079483</td>\n",
              "      <td>56</td>\n",
              "    </tr>\n",
              "    <tr>\n",
              "      <th>2</th>\n",
              "      <td>2</td>\n",
              "      <td>2018-01-01 06:00:30</td>\n",
              "      <td>1</td>\n",
              "      <td>3</td>\n",
              "      <td>5163263</td>\n",
              "      <td>201</td>\n",
              "    </tr>\n",
              "    <tr>\n",
              "      <th>3</th>\n",
              "      <td>3</td>\n",
              "      <td>2018-01-01 06:04:50</td>\n",
              "      <td>2</td>\n",
              "      <td>0</td>\n",
              "      <td>3</td>\n",
              "      <td>40</td>\n",
              "    </tr>\n",
              "    <tr>\n",
              "      <th>4</th>\n",
              "      <td>4</td>\n",
              "      <td>2018-01-01 06:46:50</td>\n",
              "      <td>3</td>\n",
              "      <td>1</td>\n",
              "      <td>5152724</td>\n",
              "      <td>10</td>\n",
              "    </tr>\n",
              "    <tr>\n",
              "      <th>5</th>\n",
              "      <td>5</td>\n",
              "      <td>2018-01-01 06:46:50</td>\n",
              "      <td>3</td>\n",
              "      <td>3</td>\n",
              "      <td>5079580</td>\n",
              "      <td>73</td>\n",
              "    </tr>\n",
              "    <tr>\n",
              "      <th>6</th>\n",
              "      <td>6</td>\n",
              "      <td>2018-01-01 07:28:20</td>\n",
              "      <td>4</td>\n",
              "      <td>2</td>\n",
              "      <td>2</td>\n",
              "      <td>168</td>\n",
              "    </tr>\n",
              "    <tr>\n",
              "      <th>7</th>\n",
              "      <td>7</td>\n",
              "      <td>2018-01-01 07:50:40</td>\n",
              "      <td>5</td>\n",
              "      <td>1</td>\n",
              "      <td>4</td>\n",
              "      <td>39</td>\n",
              "    </tr>\n",
              "    <tr>\n",
              "      <th>8</th>\n",
              "      <td>8</td>\n",
              "      <td>2018-01-01 07:56:50</td>\n",
              "      <td>6</td>\n",
              "      <td>1</td>\n",
              "      <td>3</td>\n",
              "      <td>27</td>\n",
              "    </tr>\n",
              "    <tr>\n",
              "      <th>9</th>\n",
              "      <td>9</td>\n",
              "      <td>2018-01-01 07:56:50</td>\n",
              "      <td>6</td>\n",
              "      <td>4</td>\n",
              "      <td>5080089</td>\n",
              "      <td>6</td>\n",
              "    </tr>\n",
              "    <tr>\n",
              "      <th>10</th>\n",
              "      <td>10</td>\n",
              "      <td>2018-01-01 08:28:40</td>\n",
              "      <td>7</td>\n",
              "      <td>3</td>\n",
              "      <td>2</td>\n",
              "      <td>9</td>\n",
              "    </tr>\n",
              "    <tr>\n",
              "      <th>11</th>\n",
              "      <td>11</td>\n",
              "      <td>2018-01-01 08:49:20</td>\n",
              "      <td>8</td>\n",
              "      <td>4</td>\n",
              "      <td>5080089</td>\n",
              "      <td>145</td>\n",
              "    </tr>\n",
              "    <tr>\n",
              "      <th>12</th>\n",
              "      <td>12</td>\n",
              "      <td>2018-01-01 08:52:00</td>\n",
              "      <td>9</td>\n",
              "      <td>8</td>\n",
              "      <td>5079256</td>\n",
              "      <td>58</td>\n",
              "    </tr>\n",
              "    <tr>\n",
              "      <th>13</th>\n",
              "      <td>13</td>\n",
              "      <td>2018-01-01 08:52:00</td>\n",
              "      <td>9</td>\n",
              "      <td>9</td>\n",
              "      <td>5079256</td>\n",
              "      <td>8</td>\n",
              "    </tr>\n",
              "    <tr>\n",
              "      <th>14</th>\n",
              "      <td>14</td>\n",
              "      <td>2018-01-01 08:52:00</td>\n",
              "      <td>9</td>\n",
              "      <td>10</td>\n",
              "      <td>5079256</td>\n",
              "      <td>17</td>\n",
              "    </tr>\n",
              "    <tr>\n",
              "      <th>15</th>\n",
              "      <td>15</td>\n",
              "      <td>2018-01-01 08:52:00</td>\n",
              "      <td>9</td>\n",
              "      <td>16</td>\n",
              "      <td>3</td>\n",
              "      <td>7</td>\n",
              "    </tr>\n",
              "  </tbody>\n",
              "</table>\n",
              "</div>"
            ],
            "text/plain": [
              "    Visit_ID             DateTime  Customer_ID  Sequence_Num  Store_ID  \\\n",
              "1          1  2018-01-01 06:00:30            1             0   5079483   \n",
              "2          2  2018-01-01 06:00:30            1             3   5163263   \n",
              "3          3  2018-01-01 06:04:50            2             0         3   \n",
              "4          4  2018-01-01 06:46:50            3             1   5152724   \n",
              "5          5  2018-01-01 06:46:50            3             3   5079580   \n",
              "6          6  2018-01-01 07:28:20            4             2         2   \n",
              "7          7  2018-01-01 07:50:40            5             1         4   \n",
              "8          8  2018-01-01 07:56:50            6             1         3   \n",
              "9          9  2018-01-01 07:56:50            6             4   5080089   \n",
              "10        10  2018-01-01 08:28:40            7             3         2   \n",
              "11        11  2018-01-01 08:49:20            8             4   5080089   \n",
              "12        12  2018-01-01 08:52:00            9             8   5079256   \n",
              "13        13  2018-01-01 08:52:00            9             9   5079256   \n",
              "14        14  2018-01-01 08:52:00            9            10   5079256   \n",
              "15        15  2018-01-01 08:52:00            9            16         3   \n",
              "\n",
              "    Dwell_Time  \n",
              "1           56  \n",
              "2          201  \n",
              "3           40  \n",
              "4           10  \n",
              "5           73  \n",
              "6          168  \n",
              "7           39  \n",
              "8           27  \n",
              "9            6  \n",
              "10           9  \n",
              "11         145  \n",
              "12          58  \n",
              "13           8  \n",
              "14          17  \n",
              "15           7  "
            ]
          },
          "metadata": {
            "tags": []
          },
          "execution_count": 4
        }
      ]
    },
    {
      "cell_type": "markdown",
      "metadata": {
        "colab_type": "text",
        "id": "s2QLavrVqUOG"
      },
      "source": [
        "The sequence number are not incrementing by 1. We know that during the data cleaning exercise any visit less than 5 minutes was removed from the dataframe. This resulted in sequence numbers not incrementing consistently. We will fix this issue by making sure that every incremental visit increments by +1 "
      ]
    },
    {
      "cell_type": "code",
      "metadata": {
        "colab_type": "code",
        "id": "dR8RabsFqOvr",
        "colab": {}
      },
      "source": [
        "df['Sequence_Num'] = df.groupby(['DateTime','Customer_ID']).cumcount() + 1"
      ],
      "execution_count": 0,
      "outputs": []
    },
    {
      "cell_type": "markdown",
      "metadata": {
        "colab_type": "text",
        "id": "_SdyL4S8skuk"
      },
      "source": [
        "Now just exploring Customer ID 9, 10 & 11 to see if the Sequence_Num are incrementing as expected. Customer_ID 9 goes to 5 stores on 2018-01-01 and as a result Sequence number increments by + 1 until 5. At this point a new Customer_ID 10 comes in and the Sequence resets to 1. Similarly for Customer_ID 11 where he visits 2 stores. \n",
        "\n",
        "We were able to achieve this by grouping Customer ID and DateTime by Cumalative count. This groupby functionality increases the count by +1 for every unique Date and Customer_ID combination"
      ]
    },
    {
      "cell_type": "code",
      "metadata": {
        "colab_type": "code",
        "id": "dhIOFpn9rdSw",
        "outputId": "e0285693-a9ce-4707-b632-01e8008bcf24",
        "colab": {
          "base_uri": "https://localhost:8080/",
          "height": 284
        }
      },
      "source": [
        "df[(df['Customer_ID']==9) | (df['Customer_ID']==10) | (df['Customer_ID']==11)]"
      ],
      "execution_count": 6,
      "outputs": [
        {
          "output_type": "execute_result",
          "data": {
            "text/html": [
              "<div>\n",
              "<style scoped>\n",
              "    .dataframe tbody tr th:only-of-type {\n",
              "        vertical-align: middle;\n",
              "    }\n",
              "\n",
              "    .dataframe tbody tr th {\n",
              "        vertical-align: top;\n",
              "    }\n",
              "\n",
              "    .dataframe thead th {\n",
              "        text-align: right;\n",
              "    }\n",
              "</style>\n",
              "<table border=\"1\" class=\"dataframe\">\n",
              "  <thead>\n",
              "    <tr style=\"text-align: right;\">\n",
              "      <th></th>\n",
              "      <th>Visit_ID</th>\n",
              "      <th>DateTime</th>\n",
              "      <th>Customer_ID</th>\n",
              "      <th>Sequence_Num</th>\n",
              "      <th>Store_ID</th>\n",
              "      <th>Dwell_Time</th>\n",
              "    </tr>\n",
              "  </thead>\n",
              "  <tbody>\n",
              "    <tr>\n",
              "      <th>12</th>\n",
              "      <td>12</td>\n",
              "      <td>2018-01-01 08:52:00</td>\n",
              "      <td>9</td>\n",
              "      <td>1</td>\n",
              "      <td>5079256</td>\n",
              "      <td>58</td>\n",
              "    </tr>\n",
              "    <tr>\n",
              "      <th>13</th>\n",
              "      <td>13</td>\n",
              "      <td>2018-01-01 08:52:00</td>\n",
              "      <td>9</td>\n",
              "      <td>2</td>\n",
              "      <td>5079256</td>\n",
              "      <td>8</td>\n",
              "    </tr>\n",
              "    <tr>\n",
              "      <th>14</th>\n",
              "      <td>14</td>\n",
              "      <td>2018-01-01 08:52:00</td>\n",
              "      <td>9</td>\n",
              "      <td>3</td>\n",
              "      <td>5079256</td>\n",
              "      <td>17</td>\n",
              "    </tr>\n",
              "    <tr>\n",
              "      <th>15</th>\n",
              "      <td>15</td>\n",
              "      <td>2018-01-01 08:52:00</td>\n",
              "      <td>9</td>\n",
              "      <td>4</td>\n",
              "      <td>3</td>\n",
              "      <td>7</td>\n",
              "    </tr>\n",
              "    <tr>\n",
              "      <th>16</th>\n",
              "      <td>16</td>\n",
              "      <td>2018-01-01 08:52:00</td>\n",
              "      <td>9</td>\n",
              "      <td>5</td>\n",
              "      <td>5079256</td>\n",
              "      <td>10</td>\n",
              "    </tr>\n",
              "    <tr>\n",
              "      <th>17</th>\n",
              "      <td>17</td>\n",
              "      <td>2018-01-01 08:58:20</td>\n",
              "      <td>10</td>\n",
              "      <td>1</td>\n",
              "      <td>5080089</td>\n",
              "      <td>7</td>\n",
              "    </tr>\n",
              "    <tr>\n",
              "      <th>18</th>\n",
              "      <td>18</td>\n",
              "      <td>2018-01-01 09:00:50</td>\n",
              "      <td>11</td>\n",
              "      <td>1</td>\n",
              "      <td>5080089</td>\n",
              "      <td>6</td>\n",
              "    </tr>\n",
              "    <tr>\n",
              "      <th>19</th>\n",
              "      <td>19</td>\n",
              "      <td>2018-01-01 09:00:50</td>\n",
              "      <td>11</td>\n",
              "      <td>2</td>\n",
              "      <td>9713461</td>\n",
              "      <td>15</td>\n",
              "    </tr>\n",
              "  </tbody>\n",
              "</table>\n",
              "</div>"
            ],
            "text/plain": [
              "    Visit_ID             DateTime  Customer_ID  Sequence_Num  Store_ID  \\\n",
              "12        12  2018-01-01 08:52:00            9             1   5079256   \n",
              "13        13  2018-01-01 08:52:00            9             2   5079256   \n",
              "14        14  2018-01-01 08:52:00            9             3   5079256   \n",
              "15        15  2018-01-01 08:52:00            9             4         3   \n",
              "16        16  2018-01-01 08:52:00            9             5   5079256   \n",
              "17        17  2018-01-01 08:58:20           10             1   5080089   \n",
              "18        18  2018-01-01 09:00:50           11             1   5080089   \n",
              "19        19  2018-01-01 09:00:50           11             2   9713461   \n",
              "\n",
              "    Dwell_Time  \n",
              "12          58  \n",
              "13           8  \n",
              "14          17  \n",
              "15           7  \n",
              "16          10  \n",
              "17           7  \n",
              "18           6  \n",
              "19          15  "
            ]
          },
          "metadata": {
            "tags": []
          },
          "execution_count": 6
        }
      ]
    },
    {
      "cell_type": "markdown",
      "metadata": {
        "colab_type": "text",
        "id": "ZmOpLoGpuTRR"
      },
      "source": [
        "Droping Visit_ID as it provides no additional explanation.\n"
      ]
    },
    {
      "cell_type": "code",
      "metadata": {
        "colab_type": "code",
        "id": "eL_oU1q5r2T9",
        "colab": {}
      },
      "source": [
        "df = df.drop(labels=['Visit_ID'],axis=1)\n",
        "df['DateTime'] = pd.to_datetime(df['DateTime'])  #Converting column DateTime which is a str to datetime \n",
        "df['Day'] = df['DateTime'].dt.weekday   # Extracting Day as a new feature from DateTime\n",
        "df['Month'] = df['DateTime'].dt.month   # Extracting Month as a new feature from DateTime    "
      ],
      "execution_count": 0,
      "outputs": []
    },
    {
      "cell_type": "markdown",
      "metadata": {
        "colab_type": "text",
        "id": "_4eO1z5zwuWl"
      },
      "source": [
        "Check for any Null value and return the sum of the total value missing in each column"
      ]
    },
    {
      "cell_type": "code",
      "metadata": {
        "colab_type": "code",
        "id": "2PIU6gPfu3-q",
        "outputId": "0b9e9bd7-561b-41e9-f094-b99b41950ee4",
        "colab": {
          "base_uri": "https://localhost:8080/",
          "height": 151
        }
      },
      "source": [
        "df.isnull().values.any()\n",
        "df.isnull().sum()"
      ],
      "execution_count": 8,
      "outputs": [
        {
          "output_type": "execute_result",
          "data": {
            "text/plain": [
              "DateTime        3\n",
              "Customer_ID     0\n",
              "Sequence_Num    0\n",
              "Store_ID        0\n",
              "Dwell_Time      0\n",
              "Day             3\n",
              "Month           3\n",
              "dtype: int64"
            ]
          },
          "metadata": {
            "tags": []
          },
          "execution_count": 8
        }
      ]
    },
    {
      "cell_type": "code",
      "metadata": {
        "colab_type": "code",
        "id": "rY2A4JDYvFhU",
        "outputId": "cc240686-048e-467d-a218-80adf85d1af4",
        "colab": {
          "base_uri": "https://localhost:8080/",
          "height": 136
        }
      },
      "source": [
        "df[df['Month'].isna()] # returns all the Null values in the dataset"
      ],
      "execution_count": 9,
      "outputs": [
        {
          "output_type": "execute_result",
          "data": {
            "text/html": [
              "<div>\n",
              "<style scoped>\n",
              "    .dataframe tbody tr th:only-of-type {\n",
              "        vertical-align: middle;\n",
              "    }\n",
              "\n",
              "    .dataframe tbody tr th {\n",
              "        vertical-align: top;\n",
              "    }\n",
              "\n",
              "    .dataframe thead th {\n",
              "        text-align: right;\n",
              "    }\n",
              "</style>\n",
              "<table border=\"1\" class=\"dataframe\">\n",
              "  <thead>\n",
              "    <tr style=\"text-align: right;\">\n",
              "      <th></th>\n",
              "      <th>DateTime</th>\n",
              "      <th>Customer_ID</th>\n",
              "      <th>Sequence_Num</th>\n",
              "      <th>Store_ID</th>\n",
              "      <th>Dwell_Time</th>\n",
              "      <th>Day</th>\n",
              "      <th>Month</th>\n",
              "    </tr>\n",
              "  </thead>\n",
              "  <tbody>\n",
              "    <tr>\n",
              "      <th>1500432</th>\n",
              "      <td>NaT</td>\n",
              "      <td>464411</td>\n",
              "      <td>1</td>\n",
              "      <td>5080126</td>\n",
              "      <td>8</td>\n",
              "      <td>NaN</td>\n",
              "      <td>NaN</td>\n",
              "    </tr>\n",
              "    <tr>\n",
              "      <th>1500433</th>\n",
              "      <td>NaT</td>\n",
              "      <td>464411</td>\n",
              "      <td>2</td>\n",
              "      <td>9474122</td>\n",
              "      <td>6</td>\n",
              "      <td>NaN</td>\n",
              "      <td>NaN</td>\n",
              "    </tr>\n",
              "    <tr>\n",
              "      <th>1500434</th>\n",
              "      <td>NaT</td>\n",
              "      <td>464411</td>\n",
              "      <td>3</td>\n",
              "      <td>9713461</td>\n",
              "      <td>7</td>\n",
              "      <td>NaN</td>\n",
              "      <td>NaN</td>\n",
              "    </tr>\n",
              "  </tbody>\n",
              "</table>\n",
              "</div>"
            ],
            "text/plain": [
              "        DateTime  Customer_ID  Sequence_Num  Store_ID  Dwell_Time  Day  Month\n",
              "1500432      NaT       464411             1   5080126           8  NaN    NaN\n",
              "1500433      NaT       464411             2   9474122           6  NaN    NaN\n",
              "1500434      NaT       464411             3   9713461           7  NaN    NaN"
            ]
          },
          "metadata": {
            "tags": []
          },
          "execution_count": 9
        }
      ]
    },
    {
      "cell_type": "code",
      "metadata": {
        "colab_type": "code",
        "id": "RwuvfPbJvxFl",
        "colab": {}
      },
      "source": [
        "df.drop(index =[1500432,1500433,1500434],axis=0,inplace=True) #Droping the Null values from the dataset"
      ],
      "execution_count": 0,
      "outputs": []
    },
    {
      "cell_type": "markdown",
      "metadata": {
        "colab_type": "text",
        "id": "f4_qgUYoyZ3Z"
      },
      "source": [
        "Now we will create the Target for each row. The Target label we need to predict is the next store the customer will visit. This means each subsequent row for a unique Customer_ID is the target class. We will do this by first sorting the dataframe by DateTime, Customer ID and Sequence Number. We will then create 2 new columns to track the nex sequence and next store for a unique customer"
      ]
    },
    {
      "cell_type": "code",
      "metadata": {
        "colab_type": "code",
        "id": "yJaFU0P2x7h9",
        "colab": {}
      },
      "source": [
        "df = df.sort_values(by=['DateTime','Customer_ID','Sequence_Num']) #sorts the dataframe by DateTime, Customer_ID and Sequence_Num\n",
        "df['Next_Sequence'] = df['Sequence_Num'].shift(-1) #Creates a new column called Next_Sequence by shifting Sequence_Num by 1\n",
        "df['Target'] = df['Store_ID'].shift(-1) #Creates a new column called Next_Store by shifting Store_ID column by 1\n",
        "df.drop(index=1783546,axis=0,inplace=True)"
      ],
      "execution_count": 0,
      "outputs": []
    },
    {
      "cell_type": "markdown",
      "metadata": {
        "colab_type": "text",
        "id": "shC8H7y202h9"
      },
      "source": [
        "Now lets look at Custome_ID 9 and observe how the Next Sequence and Next Store changes as he goes from one store to the other. Now as you for row 12 Sequence number is 1 and Next_sequence is 2. Similarly for row 13 we see Sequence_Num is 2 and Next_sequence is 3 and it goes on until row 16 where Sequence_Num is 5 but the Next_sequence is 1. This indicates that the Customer has left the mall"
      ]
    },
    {
      "cell_type": "code",
      "metadata": {
        "colab_type": "code",
        "id": "_MjaWjUUx9z3",
        "outputId": "218d0e58-d684-4963-b629-6c95ddd9926c",
        "colab": {
          "base_uri": "https://localhost:8080/",
          "height": 284
        }
      },
      "source": [
        "df[(df['Customer_ID']==9) | (df['Customer_ID']==10) | (df['Customer_ID']==11)]"
      ],
      "execution_count": 12,
      "outputs": [
        {
          "output_type": "execute_result",
          "data": {
            "text/html": [
              "<div>\n",
              "<style scoped>\n",
              "    .dataframe tbody tr th:only-of-type {\n",
              "        vertical-align: middle;\n",
              "    }\n",
              "\n",
              "    .dataframe tbody tr th {\n",
              "        vertical-align: top;\n",
              "    }\n",
              "\n",
              "    .dataframe thead th {\n",
              "        text-align: right;\n",
              "    }\n",
              "</style>\n",
              "<table border=\"1\" class=\"dataframe\">\n",
              "  <thead>\n",
              "    <tr style=\"text-align: right;\">\n",
              "      <th></th>\n",
              "      <th>DateTime</th>\n",
              "      <th>Customer_ID</th>\n",
              "      <th>Sequence_Num</th>\n",
              "      <th>Store_ID</th>\n",
              "      <th>Dwell_Time</th>\n",
              "      <th>Day</th>\n",
              "      <th>Month</th>\n",
              "      <th>Next_Sequence</th>\n",
              "      <th>Target</th>\n",
              "    </tr>\n",
              "  </thead>\n",
              "  <tbody>\n",
              "    <tr>\n",
              "      <th>12</th>\n",
              "      <td>2018-01-01 08:52:00</td>\n",
              "      <td>9</td>\n",
              "      <td>1</td>\n",
              "      <td>5079256</td>\n",
              "      <td>58</td>\n",
              "      <td>0.0</td>\n",
              "      <td>1.0</td>\n",
              "      <td>2.0</td>\n",
              "      <td>5079256.0</td>\n",
              "    </tr>\n",
              "    <tr>\n",
              "      <th>13</th>\n",
              "      <td>2018-01-01 08:52:00</td>\n",
              "      <td>9</td>\n",
              "      <td>2</td>\n",
              "      <td>5079256</td>\n",
              "      <td>8</td>\n",
              "      <td>0.0</td>\n",
              "      <td>1.0</td>\n",
              "      <td>3.0</td>\n",
              "      <td>5079256.0</td>\n",
              "    </tr>\n",
              "    <tr>\n",
              "      <th>14</th>\n",
              "      <td>2018-01-01 08:52:00</td>\n",
              "      <td>9</td>\n",
              "      <td>3</td>\n",
              "      <td>5079256</td>\n",
              "      <td>17</td>\n",
              "      <td>0.0</td>\n",
              "      <td>1.0</td>\n",
              "      <td>4.0</td>\n",
              "      <td>3.0</td>\n",
              "    </tr>\n",
              "    <tr>\n",
              "      <th>15</th>\n",
              "      <td>2018-01-01 08:52:00</td>\n",
              "      <td>9</td>\n",
              "      <td>4</td>\n",
              "      <td>3</td>\n",
              "      <td>7</td>\n",
              "      <td>0.0</td>\n",
              "      <td>1.0</td>\n",
              "      <td>5.0</td>\n",
              "      <td>5079256.0</td>\n",
              "    </tr>\n",
              "    <tr>\n",
              "      <th>16</th>\n",
              "      <td>2018-01-01 08:52:00</td>\n",
              "      <td>9</td>\n",
              "      <td>5</td>\n",
              "      <td>5079256</td>\n",
              "      <td>10</td>\n",
              "      <td>0.0</td>\n",
              "      <td>1.0</td>\n",
              "      <td>1.0</td>\n",
              "      <td>5080089.0</td>\n",
              "    </tr>\n",
              "    <tr>\n",
              "      <th>17</th>\n",
              "      <td>2018-01-01 08:58:20</td>\n",
              "      <td>10</td>\n",
              "      <td>1</td>\n",
              "      <td>5080089</td>\n",
              "      <td>7</td>\n",
              "      <td>0.0</td>\n",
              "      <td>1.0</td>\n",
              "      <td>1.0</td>\n",
              "      <td>5080089.0</td>\n",
              "    </tr>\n",
              "    <tr>\n",
              "      <th>18</th>\n",
              "      <td>2018-01-01 09:00:50</td>\n",
              "      <td>11</td>\n",
              "      <td>1</td>\n",
              "      <td>5080089</td>\n",
              "      <td>6</td>\n",
              "      <td>0.0</td>\n",
              "      <td>1.0</td>\n",
              "      <td>2.0</td>\n",
              "      <td>9713461.0</td>\n",
              "    </tr>\n",
              "    <tr>\n",
              "      <th>19</th>\n",
              "      <td>2018-01-01 09:00:50</td>\n",
              "      <td>11</td>\n",
              "      <td>2</td>\n",
              "      <td>9713461</td>\n",
              "      <td>15</td>\n",
              "      <td>0.0</td>\n",
              "      <td>1.0</td>\n",
              "      <td>1.0</td>\n",
              "      <td>3.0</td>\n",
              "    </tr>\n",
              "  </tbody>\n",
              "</table>\n",
              "</div>"
            ],
            "text/plain": [
              "              DateTime  Customer_ID  Sequence_Num  Store_ID  Dwell_Time  Day  \\\n",
              "12 2018-01-01 08:52:00            9             1   5079256          58  0.0   \n",
              "13 2018-01-01 08:52:00            9             2   5079256           8  0.0   \n",
              "14 2018-01-01 08:52:00            9             3   5079256          17  0.0   \n",
              "15 2018-01-01 08:52:00            9             4         3           7  0.0   \n",
              "16 2018-01-01 08:52:00            9             5   5079256          10  0.0   \n",
              "17 2018-01-01 08:58:20           10             1   5080089           7  0.0   \n",
              "18 2018-01-01 09:00:50           11             1   5080089           6  0.0   \n",
              "19 2018-01-01 09:00:50           11             2   9713461          15  0.0   \n",
              "\n",
              "    Month  Next_Sequence     Target  \n",
              "12    1.0            2.0  5079256.0  \n",
              "13    1.0            3.0  5079256.0  \n",
              "14    1.0            4.0        3.0  \n",
              "15    1.0            5.0  5079256.0  \n",
              "16    1.0            1.0  5080089.0  \n",
              "17    1.0            1.0  5080089.0  \n",
              "18    1.0            2.0  9713461.0  \n",
              "19    1.0            1.0        3.0  "
            ]
          },
          "metadata": {
            "tags": []
          },
          "execution_count": 12
        }
      ]
    },
    {
      "cell_type": "markdown",
      "metadata": {
        "colab_type": "text",
        "id": "p_fArghw2wiK"
      },
      "source": [
        "The following code will put a 0 in the Target column as the customer leaves the store. I can do this by checking if the Sequence_Num is greater than Nex_Store. If i find such a record that means that the customer has exited the store."
      ]
    },
    {
      "cell_type": "code",
      "metadata": {
        "colab_type": "code",
        "id": "G3ew8a7D0PWr",
        "colab": {}
      },
      "source": [
        "df['Target']=df['Target'].astype(int)  # Converting float to integer\n",
        "df['Target']= np.where(df['Sequence_Num']>=df['Next_Sequence'],0,df['Target']) "
      ],
      "execution_count": 0,
      "outputs": []
    },
    {
      "cell_type": "markdown",
      "metadata": {
        "colab_type": "text",
        "id": "4rhZhxAV3nRg"
      },
      "source": [
        "Now just looking at the same scenrio again. We see that in row 16. Target has been changed to 0 indicating customer leaving the store at that point. Customer 10 only goes to one store and therefore he has only one instance with the Target as zero. Customer 11 goes to 2 stores."
      ]
    },
    {
      "cell_type": "code",
      "metadata": {
        "colab_type": "code",
        "id": "mSNyuDCG3gYj",
        "outputId": "cbb29f06-7903-4f85-e14a-737fb913da0b",
        "colab": {
          "base_uri": "https://localhost:8080/",
          "height": 284
        }
      },
      "source": [
        "df[(df['Customer_ID']==9) | (df['Customer_ID']==10) | (df['Customer_ID']==11)]"
      ],
      "execution_count": 14,
      "outputs": [
        {
          "output_type": "execute_result",
          "data": {
            "text/html": [
              "<div>\n",
              "<style scoped>\n",
              "    .dataframe tbody tr th:only-of-type {\n",
              "        vertical-align: middle;\n",
              "    }\n",
              "\n",
              "    .dataframe tbody tr th {\n",
              "        vertical-align: top;\n",
              "    }\n",
              "\n",
              "    .dataframe thead th {\n",
              "        text-align: right;\n",
              "    }\n",
              "</style>\n",
              "<table border=\"1\" class=\"dataframe\">\n",
              "  <thead>\n",
              "    <tr style=\"text-align: right;\">\n",
              "      <th></th>\n",
              "      <th>DateTime</th>\n",
              "      <th>Customer_ID</th>\n",
              "      <th>Sequence_Num</th>\n",
              "      <th>Store_ID</th>\n",
              "      <th>Dwell_Time</th>\n",
              "      <th>Day</th>\n",
              "      <th>Month</th>\n",
              "      <th>Next_Sequence</th>\n",
              "      <th>Target</th>\n",
              "    </tr>\n",
              "  </thead>\n",
              "  <tbody>\n",
              "    <tr>\n",
              "      <th>12</th>\n",
              "      <td>2018-01-01 08:52:00</td>\n",
              "      <td>9</td>\n",
              "      <td>1</td>\n",
              "      <td>5079256</td>\n",
              "      <td>58</td>\n",
              "      <td>0.0</td>\n",
              "      <td>1.0</td>\n",
              "      <td>2.0</td>\n",
              "      <td>5079256</td>\n",
              "    </tr>\n",
              "    <tr>\n",
              "      <th>13</th>\n",
              "      <td>2018-01-01 08:52:00</td>\n",
              "      <td>9</td>\n",
              "      <td>2</td>\n",
              "      <td>5079256</td>\n",
              "      <td>8</td>\n",
              "      <td>0.0</td>\n",
              "      <td>1.0</td>\n",
              "      <td>3.0</td>\n",
              "      <td>5079256</td>\n",
              "    </tr>\n",
              "    <tr>\n",
              "      <th>14</th>\n",
              "      <td>2018-01-01 08:52:00</td>\n",
              "      <td>9</td>\n",
              "      <td>3</td>\n",
              "      <td>5079256</td>\n",
              "      <td>17</td>\n",
              "      <td>0.0</td>\n",
              "      <td>1.0</td>\n",
              "      <td>4.0</td>\n",
              "      <td>3</td>\n",
              "    </tr>\n",
              "    <tr>\n",
              "      <th>15</th>\n",
              "      <td>2018-01-01 08:52:00</td>\n",
              "      <td>9</td>\n",
              "      <td>4</td>\n",
              "      <td>3</td>\n",
              "      <td>7</td>\n",
              "      <td>0.0</td>\n",
              "      <td>1.0</td>\n",
              "      <td>5.0</td>\n",
              "      <td>5079256</td>\n",
              "    </tr>\n",
              "    <tr>\n",
              "      <th>16</th>\n",
              "      <td>2018-01-01 08:52:00</td>\n",
              "      <td>9</td>\n",
              "      <td>5</td>\n",
              "      <td>5079256</td>\n",
              "      <td>10</td>\n",
              "      <td>0.0</td>\n",
              "      <td>1.0</td>\n",
              "      <td>1.0</td>\n",
              "      <td>0</td>\n",
              "    </tr>\n",
              "    <tr>\n",
              "      <th>17</th>\n",
              "      <td>2018-01-01 08:58:20</td>\n",
              "      <td>10</td>\n",
              "      <td>1</td>\n",
              "      <td>5080089</td>\n",
              "      <td>7</td>\n",
              "      <td>0.0</td>\n",
              "      <td>1.0</td>\n",
              "      <td>1.0</td>\n",
              "      <td>0</td>\n",
              "    </tr>\n",
              "    <tr>\n",
              "      <th>18</th>\n",
              "      <td>2018-01-01 09:00:50</td>\n",
              "      <td>11</td>\n",
              "      <td>1</td>\n",
              "      <td>5080089</td>\n",
              "      <td>6</td>\n",
              "      <td>0.0</td>\n",
              "      <td>1.0</td>\n",
              "      <td>2.0</td>\n",
              "      <td>9713461</td>\n",
              "    </tr>\n",
              "    <tr>\n",
              "      <th>19</th>\n",
              "      <td>2018-01-01 09:00:50</td>\n",
              "      <td>11</td>\n",
              "      <td>2</td>\n",
              "      <td>9713461</td>\n",
              "      <td>15</td>\n",
              "      <td>0.0</td>\n",
              "      <td>1.0</td>\n",
              "      <td>1.0</td>\n",
              "      <td>0</td>\n",
              "    </tr>\n",
              "  </tbody>\n",
              "</table>\n",
              "</div>"
            ],
            "text/plain": [
              "              DateTime  Customer_ID  Sequence_Num  Store_ID  Dwell_Time  Day  \\\n",
              "12 2018-01-01 08:52:00            9             1   5079256          58  0.0   \n",
              "13 2018-01-01 08:52:00            9             2   5079256           8  0.0   \n",
              "14 2018-01-01 08:52:00            9             3   5079256          17  0.0   \n",
              "15 2018-01-01 08:52:00            9             4         3           7  0.0   \n",
              "16 2018-01-01 08:52:00            9             5   5079256          10  0.0   \n",
              "17 2018-01-01 08:58:20           10             1   5080089           7  0.0   \n",
              "18 2018-01-01 09:00:50           11             1   5080089           6  0.0   \n",
              "19 2018-01-01 09:00:50           11             2   9713461          15  0.0   \n",
              "\n",
              "    Month  Next_Sequence   Target  \n",
              "12    1.0            2.0  5079256  \n",
              "13    1.0            3.0  5079256  \n",
              "14    1.0            4.0        3  \n",
              "15    1.0            5.0  5079256  \n",
              "16    1.0            1.0        0  \n",
              "17    1.0            1.0        0  \n",
              "18    1.0            2.0  9713461  \n",
              "19    1.0            1.0        0  "
            ]
          },
          "metadata": {
            "tags": []
          },
          "execution_count": 14
        }
      ]
    },
    {
      "cell_type": "markdown",
      "metadata": {
        "colab_type": "text",
        "id": "Saaa8tWo5CcG"
      },
      "source": [
        "Now removing a few outliers in the data set\n",
        "\n",
        "1.   Removing all records where we see customers before opening hours of the mall\n",
        "2.   Removing all records where we see customers after the closing hours of the mall\n",
        "\n",
        "3.   Removing all records where the Dwell time spent in a Store is more than 3 hours\n",
        "\n"
      ]
    },
    {
      "cell_type": "code",
      "metadata": {
        "colab_type": "code",
        "id": "4RRedGwV3mRk",
        "colab": {}
      },
      "source": [
        "df['Time'] = [datetime.time(d) for d in df['DateTime']] # Create a new column called Time\n",
        "df = df[df['Time'] > time(10, 0, 0)] # Remove all records less than 10AM\n",
        "df = df[df['Time'] < time(21,0,0) ] # Remove all records greater than 9PM\n",
        "df =  df[df['Dwell_Time'] < 180] # Remove all records where Dwell time is more than 3 hours"
      ],
      "execution_count": 0,
      "outputs": []
    },
    {
      "cell_type": "markdown",
      "metadata": {
        "colab_type": "text",
        "id": "6sWqiCFK6_oU"
      },
      "source": [
        "Now bringing in other dataset to create more features for our experiment.Now bringing in the categories for each store"
      ]
    },
    {
      "cell_type": "code",
      "metadata": {
        "colab_type": "code",
        "id": "7jDpPt6h6bWM",
        "colab": {}
      },
      "source": [
        "df_cat = pd.read_csv('/content/stores.csv')"
      ],
      "execution_count": 0,
      "outputs": []
    },
    {
      "cell_type": "markdown",
      "metadata": {
        "colab_type": "text",
        "id": "JeOgN2C08tQW"
      },
      "source": [
        "The dataset has a few discrepencies. In the following example all of Holt Renfrew's stores are being tracked with the same Store_ID. There are more of such casses as seen below"
      ]
    },
    {
      "cell_type": "code",
      "metadata": {
        "colab_type": "code",
        "id": "NcDK1vMv7tUl",
        "outputId": "5b7bdfa0-47a1-48a4-8084-9c05749c060e",
        "colab": {
          "base_uri": "https://localhost:8080/",
          "height": 580
        }
      },
      "source": [
        "df_cat[df_cat.duplicated(subset=['Store_ID'] , keep = False)]"
      ],
      "execution_count": 17,
      "outputs": [
        {
          "output_type": "execute_result",
          "data": {
            "text/html": [
              "<div>\n",
              "<style scoped>\n",
              "    .dataframe tbody tr th:only-of-type {\n",
              "        vertical-align: middle;\n",
              "    }\n",
              "\n",
              "    .dataframe tbody tr th {\n",
              "        vertical-align: top;\n",
              "    }\n",
              "\n",
              "    .dataframe thead th {\n",
              "        text-align: right;\n",
              "    }\n",
              "</style>\n",
              "<table border=\"1\" class=\"dataframe\">\n",
              "  <thead>\n",
              "    <tr style=\"text-align: right;\">\n",
              "      <th></th>\n",
              "      <th>Store_ID</th>\n",
              "      <th>Category_ID</th>\n",
              "      <th>Category_name</th>\n",
              "      <th>Name</th>\n",
              "      <th>Slot</th>\n",
              "    </tr>\n",
              "  </thead>\n",
              "  <tbody>\n",
              "    <tr>\n",
              "      <th>19</th>\n",
              "      <td>5079256</td>\n",
              "      <td>8</td>\n",
              "      <td>Large Format</td>\n",
              "      <td>Holt Renfrew</td>\n",
              "      <td>3</td>\n",
              "    </tr>\n",
              "    <tr>\n",
              "      <th>20</th>\n",
              "      <td>5079256</td>\n",
              "      <td>8</td>\n",
              "      <td>Large Format</td>\n",
              "      <td>Holt Renfrew Louis Vuitton</td>\n",
              "      <td>3</td>\n",
              "    </tr>\n",
              "    <tr>\n",
              "      <th>21</th>\n",
              "      <td>5079256</td>\n",
              "      <td>8</td>\n",
              "      <td>Large Format</td>\n",
              "      <td>Holt Renfrew Prada</td>\n",
              "      <td>3</td>\n",
              "    </tr>\n",
              "    <tr>\n",
              "      <th>22</th>\n",
              "      <td>5079256</td>\n",
              "      <td>8</td>\n",
              "      <td>Large Format</td>\n",
              "      <td>Holt Renfrew Gucci</td>\n",
              "      <td>3</td>\n",
              "    </tr>\n",
              "    <tr>\n",
              "      <th>23</th>\n",
              "      <td>5079256</td>\n",
              "      <td>8</td>\n",
              "      <td>Large Format</td>\n",
              "      <td>Holt Renfrew Men</td>\n",
              "      <td>3</td>\n",
              "    </tr>\n",
              "    <tr>\n",
              "      <th>24</th>\n",
              "      <td>5079256</td>\n",
              "      <td>8</td>\n",
              "      <td>Large Format</td>\n",
              "      <td>Holt Renfrew Chanel</td>\n",
              "      <td>3</td>\n",
              "    </tr>\n",
              "    <tr>\n",
              "      <th>25</th>\n",
              "      <td>5079256</td>\n",
              "      <td>8</td>\n",
              "      <td>Large Format</td>\n",
              "      <td>Holt Renfrew Corridor 1</td>\n",
              "      <td>3</td>\n",
              "    </tr>\n",
              "    <tr>\n",
              "      <th>26</th>\n",
              "      <td>5079256</td>\n",
              "      <td>8</td>\n",
              "      <td>Large Format</td>\n",
              "      <td>Holt Renfrew Corridor 2</td>\n",
              "      <td>3</td>\n",
              "    </tr>\n",
              "    <tr>\n",
              "      <th>27</th>\n",
              "      <td>5079256</td>\n",
              "      <td>8</td>\n",
              "      <td>Large Format</td>\n",
              "      <td>Holt Renfrew Corridor 3</td>\n",
              "      <td>3</td>\n",
              "    </tr>\n",
              "    <tr>\n",
              "      <th>28</th>\n",
              "      <td>5079256</td>\n",
              "      <td>8</td>\n",
              "      <td>Large Format</td>\n",
              "      <td>Holt Renfrew Corridor Washrooms</td>\n",
              "      <td>3</td>\n",
              "    </tr>\n",
              "    <tr>\n",
              "      <th>49</th>\n",
              "      <td>5079942</td>\n",
              "      <td>7</td>\n",
              "      <td>Electronics</td>\n",
              "      <td>Rogers</td>\n",
              "      <td>180</td>\n",
              "    </tr>\n",
              "    <tr>\n",
              "      <th>55</th>\n",
              "      <td>5080089</td>\n",
              "      <td>8</td>\n",
              "      <td>Large Format</td>\n",
              "      <td>Sport Chek</td>\n",
              "      <td>0033C</td>\n",
              "    </tr>\n",
              "    <tr>\n",
              "      <th>56</th>\n",
              "      <td>5080089</td>\n",
              "      <td>8</td>\n",
              "      <td>Large Format</td>\n",
              "      <td>Sport Chek Entrance</td>\n",
              "      <td>0033C</td>\n",
              "    </tr>\n",
              "    <tr>\n",
              "      <th>92</th>\n",
              "      <td>5322703</td>\n",
              "      <td>5</td>\n",
              "      <td>Family Apparel</td>\n",
              "      <td>Lucky Brand Jeans</td>\n",
              "      <td>85</td>\n",
              "    </tr>\n",
              "    <tr>\n",
              "      <th>158</th>\n",
              "      <td>9367511</td>\n",
              "      <td>5</td>\n",
              "      <td>Family Apparel</td>\n",
              "      <td>Diesel</td>\n",
              "      <td>0315A</td>\n",
              "    </tr>\n",
              "    <tr>\n",
              "      <th>249</th>\n",
              "      <td>5079942</td>\n",
              "      <td>7</td>\n",
              "      <td>Electronics</td>\n",
              "      <td>Rogers</td>\n",
              "      <td>322</td>\n",
              "    </tr>\n",
              "    <tr>\n",
              "      <th>252</th>\n",
              "      <td>9367511</td>\n",
              "      <td>5</td>\n",
              "      <td>Family Apparel</td>\n",
              "      <td>Diesel</td>\n",
              "      <td>240</td>\n",
              "    </tr>\n",
              "    <tr>\n",
              "      <th>253</th>\n",
              "      <td>5322703</td>\n",
              "      <td>5</td>\n",
              "      <td>Family Apparel</td>\n",
              "      <td>Lucky Brand Jeans</td>\n",
              "      <td>190</td>\n",
              "    </tr>\n",
              "  </tbody>\n",
              "</table>\n",
              "</div>"
            ],
            "text/plain": [
              "     Store_ID  Category_ID   Category_name                             Name  \\\n",
              "19    5079256            8    Large Format                     Holt Renfrew   \n",
              "20    5079256            8    Large Format       Holt Renfrew Louis Vuitton   \n",
              "21    5079256            8    Large Format               Holt Renfrew Prada   \n",
              "22    5079256            8    Large Format               Holt Renfrew Gucci   \n",
              "23    5079256            8    Large Format                 Holt Renfrew Men   \n",
              "24    5079256            8    Large Format              Holt Renfrew Chanel   \n",
              "25    5079256            8    Large Format          Holt Renfrew Corridor 1   \n",
              "26    5079256            8    Large Format          Holt Renfrew Corridor 2   \n",
              "27    5079256            8    Large Format          Holt Renfrew Corridor 3   \n",
              "28    5079256            8    Large Format  Holt Renfrew Corridor Washrooms   \n",
              "49    5079942            7     Electronics                           Rogers   \n",
              "55    5080089            8    Large Format                       Sport Chek   \n",
              "56    5080089            8    Large Format              Sport Chek Entrance   \n",
              "92    5322703            5  Family Apparel                Lucky Brand Jeans   \n",
              "158   9367511            5  Family Apparel                           Diesel   \n",
              "249   5079942            7     Electronics                           Rogers   \n",
              "252   9367511            5  Family Apparel                           Diesel   \n",
              "253   5322703            5  Family Apparel                Lucky Brand Jeans   \n",
              "\n",
              "      Slot  \n",
              "19       3  \n",
              "20       3  \n",
              "21       3  \n",
              "22       3  \n",
              "23       3  \n",
              "24       3  \n",
              "25       3  \n",
              "26       3  \n",
              "27       3  \n",
              "28       3  \n",
              "49     180  \n",
              "55   0033C  \n",
              "56   0033C  \n",
              "92      85  \n",
              "158  0315A  \n",
              "249    322  \n",
              "252    240  \n",
              "253    190  "
            ]
          },
          "metadata": {
            "tags": []
          },
          "execution_count": 17
        }
      ]
    },
    {
      "cell_type": "code",
      "metadata": {
        "colab_type": "code",
        "id": "CTFJd_0r7woY",
        "colab": {}
      },
      "source": [
        "df_cat.drop(df_cat[df_cat.duplicated(subset=['Store_ID'] , keep='first')].index, axis=0 , inplace = True) # Removing all records where unique Store_ID has multiple instances"
      ],
      "execution_count": 0,
      "outputs": []
    },
    {
      "cell_type": "code",
      "metadata": {
        "colab_type": "code",
        "id": "lqIW55tc_Vbl",
        "colab": {}
      },
      "source": [
        "df_cat.drop(columns=['Category_name','Name','Slot'],axis=1,inplace=True) # Droping all non-numerical coloumns"
      ],
      "execution_count": 0,
      "outputs": []
    },
    {
      "cell_type": "markdown",
      "metadata": {
        "colab_type": "text",
        "id": "WiPmNGh6D-dj"
      },
      "source": [
        "Combining dataframes together. The resulting dataframe will now contain a new column that will track the category of the store"
      ]
    },
    {
      "cell_type": "code",
      "metadata": {
        "colab_type": "code",
        "id": "3meSS0wKAyQw",
        "colab": {}
      },
      "source": [
        "df = df.merge(df_cat,how='inner', on='Store_ID') # Doing an inner join on Store_ID between df and df_cat"
      ],
      "execution_count": 0,
      "outputs": []
    },
    {
      "cell_type": "markdown",
      "metadata": {
        "colab_type": "text",
        "id": "h0qlbaljGlWF"
      },
      "source": [
        "Now lets plot the data for all the stores based on the number of times it is visited. The data distribution is highly skewed with 'Exit Store' dominating over the entire data"
      ]
    },
    {
      "cell_type": "code",
      "metadata": {
        "colab_type": "code",
        "id": "PXMFV65tEbAP",
        "outputId": "74c9a225-3e09-4e15-ea45-527e1acdc1d7",
        "colab": {
          "base_uri": "https://localhost:8080/",
          "height": 435
        }
      },
      "source": [
        "ax = sns.catplot(x=\"Target\", kind=\"count\", palette=\"ch:.25\", data=df,height=5, aspect=20)\n",
        "ax.set_xticklabels( rotation=45, horizontalalignment='right')"
      ],
      "execution_count": 21,
      "outputs": [
        {
          "output_type": "execute_result",
          "data": {
            "text/plain": [
              "<seaborn.axisgrid.FacetGrid at 0x7fc0acecb128>"
            ]
          },
          "metadata": {
            "tags": []
          },
          "execution_count": 21
        },
        {
          "output_type": "display_data",
          "data": {
            "image/png": "[encoded data removed]",
            "text/plain": [
              "<Figure size 7200x360 with 1 Axes>"
            ]
          },
          "metadata": {
            "tags": []
          }
        }
      ]
    },
    {
      "cell_type": "markdown",
      "metadata": {
        "colab_type": "text",
        "id": "7_z_bIiiNw9I"
      },
      "source": [
        "Now plotting the data without taking exit into account and arranding it by descending order to get an overall picture"
      ]
    },
    {
      "cell_type": "code",
      "metadata": {
        "colab_type": "code",
        "id": "QYFS26sNFvg0",
        "outputId": "0fe4fcfb-24a5-442e-d4bb-2ec0680dd41f",
        "colab": {
          "base_uri": "https://localhost:8080/",
          "height": 435
        }
      },
      "source": [
        "ax = sns.catplot(x=\"Target\", kind=\"count\", palette=\"ch:.25\", data=df[df['Target']!=0],height=5, aspect=20,order=df['Target'].value_counts().index,)\n",
        "ax.set_xticklabels( rotation=45, horizontalalignment='right')"
      ],
      "execution_count": 22,
      "outputs": [
        {
          "output_type": "execute_result",
          "data": {
            "text/plain": [
              "<seaborn.axisgrid.FacetGrid at 0x7fc091505898>"
            ]
          },
          "metadata": {
            "tags": []
          },
          "execution_count": 22
        },
        {
          "output_type": "display_data",
          "data": {
            "image/png": "[encoded data removed]",
            "text/plain": [
              "<Figure size 7200x360 with 1 Axes>"
            ]
          },
          "metadata": {
            "tags": []
          }
        }
      ]
    },
    {
      "cell_type": "markdown",
      "metadata": {
        "colab_type": "text",
        "id": "xQLRY7qaP0kP"
      },
      "source": [
        "Creating a new dataFrame which will not contain any exits from the mall"
      ]
    },
    {
      "cell_type": "code",
      "metadata": {
        "colab_type": "code",
        "id": "Oj0fJoCkp9t9",
        "outputId": "f92bf722-f3cc-4103-89b7-6f6718839bf0",
        "colab": {
          "base_uri": "https://localhost:8080/",
          "height": 218
        }
      },
      "source": [
        "df_no_exit = df[df['Target']!=0]\n",
        "df_no_exit.count()\n"
      ],
      "execution_count": 23,
      "outputs": [
        {
          "output_type": "execute_result",
          "data": {
            "text/plain": [
              "DateTime         866880\n",
              "Customer_ID      866880\n",
              "Sequence_Num     866880\n",
              "Store_ID         866880\n",
              "Dwell_Time       866880\n",
              "Day              866880\n",
              "Month            866880\n",
              "Next_Sequence    866880\n",
              "Target           866880\n",
              "Time             866880\n",
              "Category_ID      866880\n",
              "dtype: int64"
            ]
          },
          "metadata": {
            "tags": []
          },
          "execution_count": 23
        }
      ]
    },
    {
      "cell_type": "code",
      "metadata": {
        "id": "N_SWhu_yIjuN",
        "colab_type": "code",
        "outputId": "ecb58221-a8ef-47e1-d461-257708cf778a",
        "colab": {
          "base_uri": "https://localhost:8080/",
          "height": 195
        }
      },
      "source": [
        "df_no_exit_test = df_no_exit.copy()\n",
        "df_no_exit_test.head(5)\n",
        "# create a copy of df_no_exit - just for safety"
      ],
      "execution_count": 24,
      "outputs": [
        {
          "output_type": "execute_result",
          "data": {
            "text/html": [
              "<div>\n",
              "<style scoped>\n",
              "    .dataframe tbody tr th:only-of-type {\n",
              "        vertical-align: middle;\n",
              "    }\n",
              "\n",
              "    .dataframe tbody tr th {\n",
              "        vertical-align: top;\n",
              "    }\n",
              "\n",
              "    .dataframe thead th {\n",
              "        text-align: right;\n",
              "    }\n",
              "</style>\n",
              "<table border=\"1\" class=\"dataframe\">\n",
              "  <thead>\n",
              "    <tr style=\"text-align: right;\">\n",
              "      <th></th>\n",
              "      <th>DateTime</th>\n",
              "      <th>Customer_ID</th>\n",
              "      <th>Sequence_Num</th>\n",
              "      <th>Store_ID</th>\n",
              "      <th>Dwell_Time</th>\n",
              "      <th>Day</th>\n",
              "      <th>Month</th>\n",
              "      <th>Next_Sequence</th>\n",
              "      <th>Target</th>\n",
              "      <th>Time</th>\n",
              "      <th>Category_ID</th>\n",
              "    </tr>\n",
              "  </thead>\n",
              "  <tbody>\n",
              "    <tr>\n",
              "      <th>0</th>\n",
              "      <td>2018-01-01 10:03:50</td>\n",
              "      <td>26</td>\n",
              "      <td>1</td>\n",
              "      <td>9336555</td>\n",
              "      <td>35</td>\n",
              "      <td>0.0</td>\n",
              "      <td>1.0</td>\n",
              "      <td>2.0</td>\n",
              "      <td>5078501</td>\n",
              "      <td>10:03:50</td>\n",
              "      <td>14</td>\n",
              "    </tr>\n",
              "    <tr>\n",
              "      <th>4</th>\n",
              "      <td>2018-01-01 17:22:30</td>\n",
              "      <td>737</td>\n",
              "      <td>1</td>\n",
              "      <td>9336555</td>\n",
              "      <td>30</td>\n",
              "      <td>0.0</td>\n",
              "      <td>1.0</td>\n",
              "      <td>2.0</td>\n",
              "      <td>7614638</td>\n",
              "      <td>17:22:30</td>\n",
              "      <td>14</td>\n",
              "    </tr>\n",
              "    <tr>\n",
              "      <th>5</th>\n",
              "      <td>2018-01-01 17:24:10</td>\n",
              "      <td>742</td>\n",
              "      <td>2</td>\n",
              "      <td>9336555</td>\n",
              "      <td>42</td>\n",
              "      <td>0.0</td>\n",
              "      <td>1.0</td>\n",
              "      <td>3.0</td>\n",
              "      <td>5079221</td>\n",
              "      <td>17:24:10</td>\n",
              "      <td>14</td>\n",
              "    </tr>\n",
              "    <tr>\n",
              "      <th>6</th>\n",
              "      <td>2018-01-02 10:11:10</td>\n",
              "      <td>1377</td>\n",
              "      <td>2</td>\n",
              "      <td>9336555</td>\n",
              "      <td>33</td>\n",
              "      <td>1.0</td>\n",
              "      <td>1.0</td>\n",
              "      <td>3.0</td>\n",
              "      <td>5079256</td>\n",
              "      <td>10:11:10</td>\n",
              "      <td>14</td>\n",
              "    </tr>\n",
              "    <tr>\n",
              "      <th>7</th>\n",
              "      <td>2018-01-02 10:31:30</td>\n",
              "      <td>1534</td>\n",
              "      <td>2</td>\n",
              "      <td>9336555</td>\n",
              "      <td>48</td>\n",
              "      <td>1.0</td>\n",
              "      <td>1.0</td>\n",
              "      <td>3.0</td>\n",
              "      <td>9608400</td>\n",
              "      <td>10:31:30</td>\n",
              "      <td>14</td>\n",
              "    </tr>\n",
              "  </tbody>\n",
              "</table>\n",
              "</div>"
            ],
            "text/plain": [
              "             DateTime  Customer_ID  Sequence_Num  Store_ID  Dwell_Time  Day  \\\n",
              "0 2018-01-01 10:03:50           26             1   9336555          35  0.0   \n",
              "4 2018-01-01 17:22:30          737             1   9336555          30  0.0   \n",
              "5 2018-01-01 17:24:10          742             2   9336555          42  0.0   \n",
              "6 2018-01-02 10:11:10         1377             2   9336555          33  1.0   \n",
              "7 2018-01-02 10:31:30         1534             2   9336555          48  1.0   \n",
              "\n",
              "   Month  Next_Sequence   Target      Time  Category_ID  \n",
              "0    1.0            2.0  5078501  10:03:50           14  \n",
              "4    1.0            2.0  7614638  17:22:30           14  \n",
              "5    1.0            3.0  5079221  17:24:10           14  \n",
              "6    1.0            3.0  5079256  10:11:10           14  \n",
              "7    1.0            3.0  9608400  10:31:30           14  "
            ]
          },
          "metadata": {
            "tags": []
          },
          "execution_count": 24
        }
      ]
    },
    {
      "cell_type": "code",
      "metadata": {
        "id": "Uzq2JEWxUxrG",
        "colab_type": "code",
        "outputId": "fd601900-b13e-415c-a5dc-4300cfe4b655",
        "colab": {
          "base_uri": "https://localhost:8080/",
          "height": 279
        }
      },
      "source": [
        "df_no_exit_test['Target_Count'] = df_no_exit_test.groupby('Target')['Target'].transform('count')\n",
        "df_no_exit_test.head(5)\n",
        "# group by Target, and create a new column \"Target_Count\", this will help us to decide how many classes/stores to choose\n"
      ],
      "execution_count": 25,
      "outputs": [
        {
          "output_type": "execute_result",
          "data": {
            "text/html": [
              "<div>\n",
              "<style scoped>\n",
              "    .dataframe tbody tr th:only-of-type {\n",
              "        vertical-align: middle;\n",
              "    }\n",
              "\n",
              "    .dataframe tbody tr th {\n",
              "        vertical-align: top;\n",
              "    }\n",
              "\n",
              "    .dataframe thead th {\n",
              "        text-align: right;\n",
              "    }\n",
              "</style>\n",
              "<table border=\"1\" class=\"dataframe\">\n",
              "  <thead>\n",
              "    <tr style=\"text-align: right;\">\n",
              "      <th></th>\n",
              "      <th>DateTime</th>\n",
              "      <th>Customer_ID</th>\n",
              "      <th>Sequence_Num</th>\n",
              "      <th>Store_ID</th>\n",
              "      <th>Dwell_Time</th>\n",
              "      <th>Day</th>\n",
              "      <th>Month</th>\n",
              "      <th>Next_Sequence</th>\n",
              "      <th>Target</th>\n",
              "      <th>Time</th>\n",
              "      <th>Category_ID</th>\n",
              "      <th>Target_Count</th>\n",
              "    </tr>\n",
              "  </thead>\n",
              "  <tbody>\n",
              "    <tr>\n",
              "      <th>0</th>\n",
              "      <td>2018-01-01 10:03:50</td>\n",
              "      <td>26</td>\n",
              "      <td>1</td>\n",
              "      <td>9336555</td>\n",
              "      <td>35</td>\n",
              "      <td>0.0</td>\n",
              "      <td>1.0</td>\n",
              "      <td>2.0</td>\n",
              "      <td>5078501</td>\n",
              "      <td>10:03:50</td>\n",
              "      <td>14</td>\n",
              "      <td>3490</td>\n",
              "    </tr>\n",
              "    <tr>\n",
              "      <th>4</th>\n",
              "      <td>2018-01-01 17:22:30</td>\n",
              "      <td>737</td>\n",
              "      <td>1</td>\n",
              "      <td>9336555</td>\n",
              "      <td>30</td>\n",
              "      <td>0.0</td>\n",
              "      <td>1.0</td>\n",
              "      <td>2.0</td>\n",
              "      <td>7614638</td>\n",
              "      <td>17:22:30</td>\n",
              "      <td>14</td>\n",
              "      <td>13925</td>\n",
              "    </tr>\n",
              "    <tr>\n",
              "      <th>5</th>\n",
              "      <td>2018-01-01 17:24:10</td>\n",
              "      <td>742</td>\n",
              "      <td>2</td>\n",
              "      <td>9336555</td>\n",
              "      <td>42</td>\n",
              "      <td>0.0</td>\n",
              "      <td>1.0</td>\n",
              "      <td>3.0</td>\n",
              "      <td>5079221</td>\n",
              "      <td>17:24:10</td>\n",
              "      <td>14</td>\n",
              "      <td>10670</td>\n",
              "    </tr>\n",
              "    <tr>\n",
              "      <th>6</th>\n",
              "      <td>2018-01-02 10:11:10</td>\n",
              "      <td>1377</td>\n",
              "      <td>2</td>\n",
              "      <td>9336555</td>\n",
              "      <td>33</td>\n",
              "      <td>1.0</td>\n",
              "      <td>1.0</td>\n",
              "      <td>3.0</td>\n",
              "      <td>5079256</td>\n",
              "      <td>10:11:10</td>\n",
              "      <td>14</td>\n",
              "      <td>41972</td>\n",
              "    </tr>\n",
              "    <tr>\n",
              "      <th>7</th>\n",
              "      <td>2018-01-02 10:31:30</td>\n",
              "      <td>1534</td>\n",
              "      <td>2</td>\n",
              "      <td>9336555</td>\n",
              "      <td>48</td>\n",
              "      <td>1.0</td>\n",
              "      <td>1.0</td>\n",
              "      <td>3.0</td>\n",
              "      <td>9608400</td>\n",
              "      <td>10:31:30</td>\n",
              "      <td>14</td>\n",
              "      <td>5017</td>\n",
              "    </tr>\n",
              "  </tbody>\n",
              "</table>\n",
              "</div>"
            ],
            "text/plain": [
              "             DateTime  Customer_ID  Sequence_Num  Store_ID  Dwell_Time  Day  \\\n",
              "0 2018-01-01 10:03:50           26             1   9336555          35  0.0   \n",
              "4 2018-01-01 17:22:30          737             1   9336555          30  0.0   \n",
              "5 2018-01-01 17:24:10          742             2   9336555          42  0.0   \n",
              "6 2018-01-02 10:11:10         1377             2   9336555          33  1.0   \n",
              "7 2018-01-02 10:31:30         1534             2   9336555          48  1.0   \n",
              "\n",
              "   Month  Next_Sequence   Target      Time  Category_ID  Target_Count  \n",
              "0    1.0            2.0  5078501  10:03:50           14          3490  \n",
              "4    1.0            2.0  7614638  17:22:30           14         13925  \n",
              "5    1.0            3.0  5079221  17:24:10           14         10670  \n",
              "6    1.0            3.0  5079256  10:11:10           14         41972  \n",
              "7    1.0            3.0  9608400  10:31:30           14          5017  "
            ]
          },
          "metadata": {
            "tags": []
          },
          "execution_count": 25
        }
      ]
    },
    {
      "cell_type": "code",
      "metadata": {
        "id": "LgCdbeZWTWBl",
        "colab_type": "code",
        "outputId": "4a389b78-ddb2-4a32-dbcc-3269f08e916f",
        "colab": {
          "base_uri": "https://localhost:8080/",
          "height": 823
        }
      },
      "source": [
        "class_num  = {5:'five',6:'six',7:'seven',8:'eight',9:'nine',10:'ten',11:'eleven',12:'twelve',13:'thirteen',14:'fourteen',15:'fifteen',16:'sixteen',17:'seventeen',18:'eighteen',19:'nineteen',20:'twenty'}\n",
        "# create dict to be used in the loop that creates different datasets contains different number of classes/stores\n",
        "for i in class_num.keys():\n",
        "    temp = df_no_exit_test[['Target','Target_Count']].drop_duplicates().sort_values(by=['Target_Count'], ascending = False).head(i)\n",
        "    exec('{} = list(temp[\"Target\"])'.format(class_num[i]))  \n",
        "    print(temp.count())\n",
        "# created df containing the top class_num.keys() of classes,  from 5-20, and convert the df column to list[]\n",
        "\n",
        "\n",
        "\n"
      ],
      "execution_count": 26,
      "outputs": [
        {
          "output_type": "stream",
          "text": [
            "Target          5\n",
            "Target_Count    5\n",
            "dtype: int64\n",
            "Target          6\n",
            "Target_Count    6\n",
            "dtype: int64\n",
            "Target          7\n",
            "Target_Count    7\n",
            "dtype: int64\n",
            "Target          8\n",
            "Target_Count    8\n",
            "dtype: int64\n",
            "Target          9\n",
            "Target_Count    9\n",
            "dtype: int64\n",
            "Target          10\n",
            "Target_Count    10\n",
            "dtype: int64\n",
            "Target          11\n",
            "Target_Count    11\n",
            "dtype: int64\n",
            "Target          12\n",
            "Target_Count    12\n",
            "dtype: int64\n",
            "Target          13\n",
            "Target_Count    13\n",
            "dtype: int64\n",
            "Target          14\n",
            "Target_Count    14\n",
            "dtype: int64\n",
            "Target          15\n",
            "Target_Count    15\n",
            "dtype: int64\n",
            "Target          16\n",
            "Target_Count    16\n",
            "dtype: int64\n",
            "Target          17\n",
            "Target_Count    17\n",
            "dtype: int64\n",
            "Target          18\n",
            "Target_Count    18\n",
            "dtype: int64\n",
            "Target          19\n",
            "Target_Count    19\n",
            "dtype: int64\n",
            "Target          20\n",
            "Target_Count    20\n",
            "dtype: int64\n"
          ],
          "name": "stdout"
        }
      ]
    },
    {
      "cell_type": "markdown",
      "metadata": {
        "colab_type": "text",
        "id": "afldWoJmrrP2"
      },
      "source": [
        "Taking the Top 5 stores by the total number of visits and bucketing the rest of the stores as 0"
      ]
    },
    {
      "cell_type": "code",
      "metadata": {
        "id": "BI7KeAZ0fxrg",
        "colab_type": "code",
        "colab": {}
      },
      "source": [
        "\n",
        "#class_num_to_list  = {5:five,6:six,7:sven,8:eight,9:nine,10:ten,11:eleven,12:twelve,13:thirteen,14:fourteen,15:fifteen,16:sixteen,17:seventeen,18:eighteen,19:nineteen,20:twenty}\n",
        "# create dict to be used in the loop that creates different datasets contains different number of classes/stores, dictionary value is not a list\n"
      ],
      "execution_count": 0,
      "outputs": []
    },
    {
      "cell_type": "code",
      "metadata": {
        "id": "I5_yQwLOfyB5",
        "colab_type": "code",
        "colab": {
          "base_uri": "https://localhost:8080/",
          "height": 148
        },
        "outputId": "49d14599-fd27-44a2-d949-8726a2c65ad3"
      },
      "source": [
        "# larry's sandbox - -----------------------IGNORE, go the next block\n",
        "#\n",
        "#larry's sandbox - -----------------------IGNORE, go the next block\n",
        "#\n",
        "class_num_to_list  = {7:seven}\n",
        "\n",
        "for i in class_num_to_list.keys():\n",
        "  \n",
        "  def conditions(x):\n",
        "    if x not in class_num_to_list[i]:\n",
        "      return 0\n",
        "    else:\n",
        "      return x \n",
        "  print(i)\n",
        "  print(class_num_to_list[i])\n",
        "  df_no_exit = df[df['Target']!=0]\n",
        "  func = np.vectorize(conditions)\n",
        "  New_Stores = func(df_no_exit[\"Store_ID\"])\n",
        "  New_Target = func(df_no_exit[\"Target\"])\n",
        "  df_no_exit['Store_ID'] = New_Stores\n",
        "  df_no_exit['Target'] = New_Target\n",
        "  \n",
        "\n",
        "  print(\"Target - Plotting graph to see the actual distribution based on the new bucketing logic\")\n",
        "  ax = sns.catplot(x=\"Target\", kind=\"count\", palette=\"ch:.25\", data=df_no_exit,height=5, aspect=2)\n",
        "  ax.set_xticklabels( rotation=45, horizontalalignment='right')\n",
        "\n",
        "  print(\"Store_ID - Plotting graph to see the actual distribution based on the new bucketing logic\")\n",
        "  ax = sns.catplot(x=\"Store_ID\", kind=\"count\", palette=\"ch:.25\", data=df_no_exit,height=5, aspect=2)\n",
        "  ax.set_xticklabels( rotation=45, horizontalalignment='right')\n",
        "\n",
        "  print(\"creating df no_exit_wo_seq\")\n",
        "  df_no_exit_wo_seq = df_no_exit\n",
        "  df_no_exit_wo_seq.sort_values(by=['DateTime','Customer_ID','Sequence_Num'])\n",
        "\n",
        "  print(\"Performing a Stratfied shuffle split to make sure the distribution between train and test set remains the same as we split it to get the dataset ready for training a model\")\n",
        "  split = StratifiedShuffleSplit(n_splits=2, test_size=0.2, random_state=1)\n",
        "\n",
        "  for train_index, test_index in split.split(df_no_exit_wo_seq, df_no_exit_wo_seq['Target']):\n",
        "    strat_train_stores_wo_seq = df_no_exit_wo_seq.iloc[train_index]\n",
        "    strat_test_stores_wo_seq = df_no_exit_wo_seq.iloc[test_index]\n",
        "\n",
        "  print(\"Target - The distribution of train/test split is identical but there is a huge imbalance in the classes\")\n",
        "  ax = sns.catplot(x=\"Target\", kind=\"count\", palette=\"ch:.25\", data=strat_train_stores_wo_seq,height=5, aspect=2)\n",
        "  ax.set_xticklabels( rotation=45, horizontalalignment='right')\n",
        "  print(\"Store_ID - The distribution of train/test split is identical but there is a huge imbalance in the classes\")\n",
        "  ax = sns.catplot(x=\"Target\", kind=\"count\", palette=\"ch:.25\", data=strat_test_stores_wo_seq,height=5, aspect=2)\n",
        "  ax.set_xticklabels( rotation=45, horizontalalignment='right')\n",
        "\n",
        "  print(\"Splitting the data set into test/train. Also extracting the target column out for training the model\")\n",
        "  X_train_store_wo_seq = strat_train_stores_wo_seq[['Customer_ID', 'Sequence_Num', 'Store_ID', 'Dwell_Time','Day', 'Month', 'Category_ID']]\n",
        "  y_train_store_wo_seq = strat_train_stores_wo_seq[['Target']]\n",
        "  X_test_store_wo_seq = strat_test_stores_wo_seq[['Customer_ID', 'Sequence_Num', 'Store_ID', 'Dwell_Time','Day', 'Month', 'Category_ID']]\n",
        "  y_test_store_wo_seq = strat_test_stores_wo_seq[['Target']]\n",
        "  \n",
        "  print(\"Training a Random Forest Classfier\")\n",
        "  rnd_clf_wo_seq = RandomForestClassifier(n_estimators=500, max_depth=15,n_jobs=-1,random_state=5,criterion='entropy')\n",
        "  rnd_clf_wo_seq.fit(X_train_store_wo_seq,y_train_store_wo_seq)\n",
        "\n",
        "  print(\"Train and Test Accuracy\")\n",
        "  score = rnd_clf_wo_seq.score(X_train_store_wo_seq, y_train_store_wo_seq)\n",
        "  score2 = rnd_clf_wo_seq.score(X_test_store_wo_seq, y_test_store_wo_seq)\n",
        "\n",
        "  print(\"Training set accuracy: \", '%.3f'%(score))\n",
        "  print(\"Test set accuracy: \", '%.3f'%(score2))\n",
        "\n",
        "  print(\"Metrics broken down by mult-class. This is expected as the training set is hugely imbalanced for class 'others' our algorthim learns absoluetly nothing\")\n",
        "  y_pred_stores_wo_seq = rnd_clf_wo_seq.predict(X_test_store_wo_seq)\n",
        "  print(classification_report(y_test_store_wo_seq,y_pred_stores_wo_seq))\n",
        "  \n",
        "  print(\"The distribution of 'other' stores is highly skewed and during training there would be a risk off overfitting on the majority class. As a result we will perform downsampling on the training data. We have wnough number of instances for us to downsample the data. We will resample without replacement and reduce the sample of overweighted class to match one of the minority class\")\n",
        "  df_exit_no_seq = df_no_exit\n",
        "\n",
        "  split = StratifiedShuffleSplit(n_splits=2, test_size=0.2, random_state=1)\n",
        "\n",
        "  print(\"Performing a Stratfied shuffle split to make sure the distribution between train and test set remains the same as we split it to get the dataset ready for training a model\")\n",
        "  for train_index, test_index in split.split(df_exit_no_seq, df_exit_no_seq['Target']):\n",
        "    strat_train_stores_no_seq = df_exit_no_seq.iloc[train_index]\n",
        "    strat_test_stores_no_seq = df_exit_no_seq.iloc[test_index]\n",
        "\n",
        "\n",
        "  print(\"The distribution of 'other' stores is highly skewed and during training there would be a risk off overfitting on the majority class. As a result we will perform downsampling on the training data. We have wnough number of instances for us to downsample the data. We will resample without replacement and reduce the sample of overweighted class to match one of the minority class\")\n",
        "  df_majority_no_seq = strat_train_stores_no_seq[strat_train_stores_no_seq['Target']==0]\n",
        "  df_minority_no_seq = strat_train_stores_no_seq[strat_train_stores_no_seq['Target']==5079942]\n",
        "  df_majority_downsampled_no_seq = resample(df_majority_no_seq, \n",
        "                                 replace=False,     \n",
        "                                 n_samples=len(df_minority_no_seq),   \n",
        "                                 random_state=42) \n",
        "\n",
        "  strat_train_stores_no_seq = strat_train_stores_no_seq[strat_train_stores_no_seq['Target']!=0]\n",
        "  strat_train_stores_no_seq = pd.concat([df_majority_downsampled_no_seq, strat_train_stores_no_seq])\n",
        "  strat_train_stores_no_seq = shuffle(strat_train_stores_no_seq)\n",
        "\n",
        "  ax = sns.catplot(x=\"Target\", kind=\"count\", palette=\"ch:.25\", data=strat_train_stores_no_seq,height=5, aspect=2)\n",
        "  ax.set_xticklabels( rotation=45, horizontalalignment='right')\n",
        "\n",
        "  ax = sns.catplot(x=\"Target\", kind=\"count\", palette=\"ch:.25\", data=strat_test_stores_no_seq,height=5, aspect=2)\n",
        "  ax.set_xticklabels( rotation=45, horizontalalignment='right')\n",
        "\n",
        "  print(\"Splitting the data set into test/train. Also extracting the target column out for training the model\")\n",
        "  X_train_store_no_seq = strat_train_stores_no_seq[['Customer_ID', 'Sequence_Num', 'Store_ID', 'Dwell_Time','Day', 'Month', 'Category_ID']]\n",
        "  y_train_store_no_seq = strat_train_stores_no_seq[['Target']]\n",
        "  X_test_store_no_seq = strat_test_stores_no_seq[['Customer_ID', 'Sequence_Num', 'Store_ID', 'Dwell_Time','Day', 'Month', 'Category_ID']]\n",
        "  y_test_store_no_seq = strat_test_stores_no_seq[['Target']]\n",
        "\n",
        "  print(\"Training a random forest classifier\")\n",
        "  rnd_clf_no_seq = RandomForestClassifier(n_estimators=500, max_depth=15,n_jobs=-1,random_state=5,criterion='entropy')\n",
        "  rnd_clf_no_seq.fit(X_train_store_no_seq,y_train_store_no_seq)\n",
        "\n",
        "  print(\"Global level Train/Test Accuracy\")\n",
        "  score = rnd_clf_no_seq.score(X_train_store_no_seq, y_train_store_no_seq)\n",
        "  score2 = rnd_clf_no_seq.score(X_test_store_no_seq, y_test_store_no_seq)\n",
        "  print(\"Training set accuracy: \", '%.3f'%(score))\n",
        "  print(\"Test set accuracy: \", '%.3f'%(score2))\n",
        "\n",
        "  print(\"Multilabel Test Accuracy broken down by classes\")\n",
        "  y_pred_stores_no_seq = rnd_clf_no_seq.predict(X_test_store_no_seq)\n",
        "  print(classification_report(y_test_store_no_seq,y_pred_stores_no_seq))\n",
        "\n",
        "\n",
        "\n",
        "\n",
        "\n",
        "#An additional signal using Sequence and taking into account a customer's history until that point\n",
        "  df_no_exit_w_seq = df_no_exit\n",
        "  df_one_hot = pd.get_dummies(df_no_exit['Store_ID'])\n",
        "  df_no_exit_w_seq= df_no_exit_w_seq.join(df_one_hot)\n",
        "  df_no_exit_w_seq =df_no_exit_w_seq[['Customer_ID','Store_ID','Dwell_Time','Day','Sequence_Num','Category_ID','Month', 0, 2, 5079256, 5079942 ,5080089,9709631,'Target']]\n",
        "  df_no_exit_w_seq.sort_values(by=['Day','Month','Customer_ID','Sequence_Num'])\n",
        "\n",
        "  #df_sequence = df_no_exit_w_seq.groupby(by=['Day','Month','Customer_ID'])[0,2,5079256, 5079942 ,5080089,9709631].cumsum(axis=0) # Tracking the sequence using cumalative sum\n",
        "  #df_no_exit_w_seq.drop(columns=[0,2,5079256, 5079942 ,5080089,9709631],axis=0,inplace=True)\n",
        "  #df_no_exit_w_seq = df_no_exit_w_seq.merge(df_sequence,how='inner',left_index=True,right_index=True)\n",
        "  df_sequence = df_no_exit_w_seq.groupby(by=['Day','Month','Customer_ID'])class_num_to_list[i].cumsum(axis=0) # Tracking the sequence using cumalative sum\n",
        "  df_no_exit_w_seq.drop(columns=class_num_to_list[i],axis=0,inplace=True)\n",
        "  df_no_exit_w_seq = df_no_exit_w_seq.merge(df_sequence,how='inner',left_index=True,right_index=True)\n",
        "\n",
        "\n",
        "\n",
        "\n",
        "\n",
        "\n",
        "\n",
        "\n",
        "\n",
        "\n",
        "\n",
        "\n",
        "\n"
      ],
      "execution_count": 27,
      "outputs": [
        {
          "output_type": "error",
          "ename": "SyntaxError",
          "evalue": "ignored",
          "traceback": [
            "\u001b[0;36m  File \u001b[0;32m\"<ipython-input-27-93219582d161>\"\u001b[0;36m, line \u001b[0;32m130\u001b[0m\n\u001b[0;31m    df_sequence = df_no_exit_w_seq.groupby(by=['Day','Month','Customer_ID'])class_num_to_list[i].cumsum(axis=0) # Tracking the sequence using cumalative sum\u001b[0m\n\u001b[0m                                                                                            ^\u001b[0m\n\u001b[0;31mSyntaxError\u001b[0m\u001b[0;31m:\u001b[0m invalid syntax\n"
          ]
        }
      ]
    },
    {
      "cell_type": "code",
      "metadata": {
        "id": "T4Syj6v6wnkW",
        "colab_type": "code",
        "colab": {}
      },
      "source": [
        ""
      ],
      "execution_count": 0,
      "outputs": []
    },
    {
      "cell_type": "code",
      "metadata": {
        "id": "lqF1t6bJwnfc",
        "colab_type": "code",
        "colab": {}
      },
      "source": [
        ""
      ],
      "execution_count": 0,
      "outputs": []
    },
    {
      "cell_type": "code",
      "metadata": {
        "id": "AaTe0mcZwnat",
        "colab_type": "code",
        "colab": {}
      },
      "source": [
        ""
      ],
      "execution_count": 0,
      "outputs": []
    },
    {
      "cell_type": "code",
      "metadata": {
        "id": "N4tfX0lH4RN8",
        "colab_type": "code",
        "colab": {}
      },
      "source": [
        ""
      ],
      "execution_count": 0,
      "outputs": []
    },
    {
      "cell_type": "code",
      "metadata": {
        "id": "e61OYXUw4RHL",
        "colab_type": "code",
        "colab": {}
      },
      "source": [
        ""
      ],
      "execution_count": 0,
      "outputs": []
    },
    {
      "cell_type": "code",
      "metadata": {
        "id": "Wt1EqCb64RDe",
        "colab_type": "code",
        "colab": {}
      },
      "source": [
        ""
      ],
      "execution_count": 0,
      "outputs": []
    },
    {
      "cell_type": "code",
      "metadata": {
        "id": "ahjKP4wq4RAe",
        "colab_type": "code",
        "colab": {}
      },
      "source": [
        ""
      ],
      "execution_count": 0,
      "outputs": []
    },
    {
      "cell_type": "code",
      "metadata": {
        "id": "wVBz2tkO4Q8B",
        "colab_type": "code",
        "colab": {}
      },
      "source": [
        ""
      ],
      "execution_count": 0,
      "outputs": []
    },
    {
      "cell_type": "code",
      "metadata": {
        "id": "MI6dPjhM4Q3O",
        "colab_type": "code",
        "colab": {}
      },
      "source": [
        ""
      ],
      "execution_count": 0,
      "outputs": []
    },
    {
      "cell_type": "code",
      "metadata": {
        "id": "Pg_UOdAs4Qxt",
        "colab_type": "code",
        "colab": {}
      },
      "source": [
        ""
      ],
      "execution_count": 0,
      "outputs": []
    },
    {
      "cell_type": "code",
      "metadata": {
        "id": "vEfxdAfQ4Qo_",
        "colab_type": "code",
        "colab": {}
      },
      "source": [
        ""
      ],
      "execution_count": 0,
      "outputs": []
    },
    {
      "cell_type": "code",
      "metadata": {
        "id": "FmmVdsVI4Qfx",
        "colab_type": "code",
        "colab": {}
      },
      "source": [
        ""
      ],
      "execution_count": 0,
      "outputs": []
    },
    {
      "cell_type": "code",
      "metadata": {
        "id": "L3hw1I06wnXH",
        "colab_type": "code",
        "colab": {}
      },
      "source": [
        "##################################################### Below are the original cells - Larry ran with classes=20"
      ],
      "execution_count": 0,
      "outputs": []
    },
    {
      "cell_type": "code",
      "metadata": {
        "id": "Gu_WvLDCwnTy",
        "colab_type": "code",
        "outputId": "8923d43e-0509-4cb1-fc64-09eaeec1fe57",
        "colab": {
          "base_uri": "https://localhost:8080/",
          "height": 185
        }
      },
      "source": [
        "# old logic\n",
        "def conditions(x):\n",
        "    if x == 2:\n",
        "        return 2\n",
        "    elif x == 5080089:\n",
        "        return 5080089\n",
        "    elif x == 5079256:\n",
        "      return 5079256\n",
        "    elif x == 9709631:\n",
        "      return 9709631\n",
        "    elif x == 5079942:\n",
        "      return 5079942\n",
        "    else:\n",
        "        return 0\n",
        "\n",
        "func = np.vectorize(conditions)\n",
        "New_Stores = func(df_no_exit[\"Store_ID\"])\n",
        "New_Target = func(df_no_exit[\"Target\"])\n",
        "df_no_exit['Store_ID'] = New_Stores\n",
        "df_no_exit['Target'] = New_Target"
      ],
      "execution_count": 29,
      "outputs": [
        {
          "output_type": "stream",
          "text": [
            "/usr/local/lib/python3.6/dist-packages/ipykernel_launcher.py:18: SettingWithCopyWarning: \n",
            "A value is trying to be set on a copy of a slice from a DataFrame.\n",
            "Try using .loc[row_indexer,col_indexer] = value instead\n",
            "\n",
            "See the caveats in the documentation: http://pandas.pydata.org/pandas-docs/stable/user_guide/indexing.html#returning-a-view-versus-a-copy\n",
            "/usr/local/lib/python3.6/dist-packages/ipykernel_launcher.py:19: SettingWithCopyWarning: \n",
            "A value is trying to be set on a copy of a slice from a DataFrame.\n",
            "Try using .loc[row_indexer,col_indexer] = value instead\n",
            "\n",
            "See the caveats in the documentation: http://pandas.pydata.org/pandas-docs/stable/user_guide/indexing.html#returning-a-view-versus-a-copy\n"
          ],
          "name": "stderr"
        }
      ]
    },
    {
      "cell_type": "code",
      "metadata": {
        "id": "GHe2Fhh0U6Y6",
        "colab_type": "code",
        "outputId": "3ce4073d-f7db-4312-c19c-ceda6245ee9a",
        "colab": {
          "base_uri": "https://localhost:8080/",
          "height": 255
        }
      },
      "source": [
        "\n",
        "# new logic\n",
        "class_num_to_list  = {20:twenty}\n",
        "\n",
        "for i in class_num_to_list.keys():\n",
        "  \n",
        "  def conditions(x):\n",
        "    if x not in class_num_to_list[i]:\n",
        "      return 0\n",
        "    else:\n",
        "      return x \n",
        "  print(i)\n",
        "  print(class_num_to_list[i])\n",
        "  df_no_exit = df[df['Target']!=0]\n",
        "  func = np.vectorize(conditions)\n",
        "  New_Stores = func(df_no_exit[\"Store_ID\"])\n",
        "  New_Target = func(df_no_exit[\"Target\"])\n",
        "  df_no_exit['Store_ID'] = New_Stores\n",
        "  df_no_exit['Target'] = New_Target"
      ],
      "execution_count": 30,
      "outputs": [
        {
          "output_type": "stream",
          "text": [
            "20\n",
            "[2, 5080089, 5079256, 9709631, 5079942, 9133379, 9535992, 7614638, 9161901, 9399994, 5163221, 9678070, 5079221, 5163159, 5115739, 9367511, 5078552, 5079150, 5163351, 5078721]\n"
          ],
          "name": "stdout"
        },
        {
          "output_type": "stream",
          "text": [
            "/usr/local/lib/python3.6/dist-packages/ipykernel_launcher.py:16: SettingWithCopyWarning: \n",
            "A value is trying to be set on a copy of a slice from a DataFrame.\n",
            "Try using .loc[row_indexer,col_indexer] = value instead\n",
            "\n",
            "See the caveats in the documentation: http://pandas.pydata.org/pandas-docs/stable/user_guide/indexing.html#returning-a-view-versus-a-copy\n",
            "  app.launch_new_instance()\n",
            "/usr/local/lib/python3.6/dist-packages/ipykernel_launcher.py:17: SettingWithCopyWarning: \n",
            "A value is trying to be set on a copy of a slice from a DataFrame.\n",
            "Try using .loc[row_indexer,col_indexer] = value instead\n",
            "\n",
            "See the caveats in the documentation: http://pandas.pydata.org/pandas-docs/stable/user_guide/indexing.html#returning-a-view-versus-a-copy\n"
          ],
          "name": "stderr"
        }
      ]
    },
    {
      "cell_type": "code",
      "metadata": {
        "id": "CGxm9TdSllQA",
        "colab_type": "code",
        "outputId": "0366a1cb-35f3-4f9e-9f9f-7aca9fe09a43",
        "colab": {
          "base_uri": "https://localhost:8080/",
          "height": 415
        }
      },
      "source": [
        "ax = sns.catplot(x=\"Target\", kind=\"count\", palette=\"ch:.25\", data=df_no_exit,height=5, aspect=2)\n",
        "ax.set_xticklabels( rotation=45, horizontalalignment='right')\n",
        "\n"
      ],
      "execution_count": 31,
      "outputs": [
        {
          "output_type": "execute_result",
          "data": {
            "text/plain": [
              "<seaborn.axisgrid.FacetGrid at 0x7fc0a1a78c18>"
            ]
          },
          "metadata": {
            "tags": []
          },
          "execution_count": 31
        },
        {
          "output_type": "display_data",
          "data": {
            "image/png": "[encoded data removed]",
            "text/plain": [
              "<Figure size 720x360 with 1 Axes>"
            ]
          },
          "metadata": {
            "tags": []
          }
        }
      ]
    },
    {
      "cell_type": "markdown",
      "metadata": {
        "colab_type": "text",
        "id": "AZdh8S3gu0i9"
      },
      "source": [
        "Plotting graph to see the actual distribution based on the new bucketing logic"
      ]
    },
    {
      "cell_type": "code",
      "metadata": {
        "colab_type": "code",
        "id": "32s02IYBs0O0",
        "outputId": "3fffe2e4-8c03-4d4b-e398-e6dd91f39232",
        "colab": {
          "base_uri": "https://localhost:8080/",
          "height": 415
        }
      },
      "source": [
        "ax = sns.catplot(x=\"Target\", kind=\"count\", palette=\"ch:.25\", data=df_no_exit,height=5, aspect=2)\n",
        "ax.set_xticklabels( rotation=45, horizontalalignment='right')\n"
      ],
      "execution_count": 32,
      "outputs": [
        {
          "output_type": "execute_result",
          "data": {
            "text/plain": [
              "<seaborn.axisgrid.FacetGrid at 0x7fc0a1c26940>"
            ]
          },
          "metadata": {
            "tags": []
          },
          "execution_count": 32
        },
        {
          "output_type": "display_data",
          "data": {
            "image/png": "[encoded data removed]",
            "text/plain": [
              "<Figure size 720x360 with 1 Axes>"
            ]
          },
          "metadata": {
            "tags": []
          }
        }
      ]
    },
    {
      "cell_type": "code",
      "metadata": {
        "colab_type": "code",
        "id": "pVj0vYNqtQ7U",
        "outputId": "c4a88332-1884-4593-d7a4-215fdfdd54a4",
        "colab": {
          "base_uri": "https://localhost:8080/",
          "height": 415
        }
      },
      "source": [
        "ax = sns.catplot(x=\"Store_ID\", kind=\"count\", palette=\"ch:.25\", data=df_no_exit,height=5, aspect=2)\n",
        "ax.set_xticklabels( rotation=45, horizontalalignment='right')"
      ],
      "execution_count": 33,
      "outputs": [
        {
          "output_type": "execute_result",
          "data": {
            "text/plain": [
              "<seaborn.axisgrid.FacetGrid at 0x7fc0a1ac91d0>"
            ]
          },
          "metadata": {
            "tags": []
          },
          "execution_count": 33
        },
        {
          "output_type": "display_data",
          "data": {
            "image/png": "[encoded data removed]",
            "text/plain": [
              "<Figure size 720x360 with 1 Axes>"
            ]
          },
          "metadata": {
            "tags": []
          }
        }
      ]
    },
    {
      "cell_type": "code",
      "metadata": {
        "colab_type": "code",
        "id": "3TwMfvLR3rB9",
        "colab": {}
      },
      "source": [
        "df_no_exit_wo_seq = df_no_exit\n"
      ],
      "execution_count": 0,
      "outputs": []
    },
    {
      "cell_type": "code",
      "metadata": {
        "colab_type": "code",
        "id": "rpWOYeI798Er",
        "outputId": "24913663-6bf0-4aba-cd07-4fbb199a23b2",
        "colab": {
          "base_uri": "https://localhost:8080/",
          "height": 402
        }
      },
      "source": [
        "df_no_exit_wo_seq.sort_values(by=['DateTime','Customer_ID','Sequence_Num'])"
      ],
      "execution_count": 35,
      "outputs": [
        {
          "output_type": "execute_result",
          "data": {
            "text/html": [
              "<div>\n",
              "<style scoped>\n",
              "    .dataframe tbody tr th:only-of-type {\n",
              "        vertical-align: middle;\n",
              "    }\n",
              "\n",
              "    .dataframe tbody tr th {\n",
              "        vertical-align: top;\n",
              "    }\n",
              "\n",
              "    .dataframe thead th {\n",
              "        text-align: right;\n",
              "    }\n",
              "</style>\n",
              "<table border=\"1\" class=\"dataframe\">\n",
              "  <thead>\n",
              "    <tr style=\"text-align: right;\">\n",
              "      <th></th>\n",
              "      <th>DateTime</th>\n",
              "      <th>Customer_ID</th>\n",
              "      <th>Sequence_Num</th>\n",
              "      <th>Store_ID</th>\n",
              "      <th>Dwell_Time</th>\n",
              "      <th>Day</th>\n",
              "      <th>Month</th>\n",
              "      <th>Next_Sequence</th>\n",
              "      <th>Target</th>\n",
              "      <th>Time</th>\n",
              "      <th>Category_ID</th>\n",
              "    </tr>\n",
              "  </thead>\n",
              "  <tbody>\n",
              "    <tr>\n",
              "      <th>0</th>\n",
              "      <td>2018-01-01 10:03:50</td>\n",
              "      <td>26</td>\n",
              "      <td>1</td>\n",
              "      <td>0</td>\n",
              "      <td>35</td>\n",
              "      <td>0.0</td>\n",
              "      <td>1.0</td>\n",
              "      <td>2.0</td>\n",
              "      <td>0</td>\n",
              "      <td>10:03:50</td>\n",
              "      <td>14</td>\n",
              "    </tr>\n",
              "    <tr>\n",
              "      <th>280254</th>\n",
              "      <td>2018-01-01 10:08:50</td>\n",
              "      <td>29</td>\n",
              "      <td>1</td>\n",
              "      <td>5079256</td>\n",
              "      <td>27</td>\n",
              "      <td>0.0</td>\n",
              "      <td>1.0</td>\n",
              "      <td>2.0</td>\n",
              "      <td>5080089</td>\n",
              "      <td>10:08:50</td>\n",
              "      <td>8</td>\n",
              "    </tr>\n",
              "    <tr>\n",
              "      <th>368274</th>\n",
              "      <td>2018-01-01 10:10:50</td>\n",
              "      <td>30</td>\n",
              "      <td>1</td>\n",
              "      <td>0</td>\n",
              "      <td>9</td>\n",
              "      <td>0.0</td>\n",
              "      <td>1.0</td>\n",
              "      <td>2.0</td>\n",
              "      <td>9709631</td>\n",
              "      <td>10:10:50</td>\n",
              "      <td>8</td>\n",
              "    </tr>\n",
              "    <tr>\n",
              "      <th>443955</th>\n",
              "      <td>2018-01-01 10:11:20</td>\n",
              "      <td>31</td>\n",
              "      <td>1</td>\n",
              "      <td>0</td>\n",
              "      <td>44</td>\n",
              "      <td>0.0</td>\n",
              "      <td>1.0</td>\n",
              "      <td>2.0</td>\n",
              "      <td>5079256</td>\n",
              "      <td>10:11:20</td>\n",
              "      <td>15</td>\n",
              "    </tr>\n",
              "    <tr>\n",
              "      <th>172484</th>\n",
              "      <td>2018-01-01 10:18:50</td>\n",
              "      <td>32</td>\n",
              "      <td>1</td>\n",
              "      <td>5080089</td>\n",
              "      <td>45</td>\n",
              "      <td>0.0</td>\n",
              "      <td>1.0</td>\n",
              "      <td>2.0</td>\n",
              "      <td>2</td>\n",
              "      <td>10:18:50</td>\n",
              "      <td>8</td>\n",
              "    </tr>\n",
              "    <tr>\n",
              "      <th>...</th>\n",
              "      <td>...</td>\n",
              "      <td>...</td>\n",
              "      <td>...</td>\n",
              "      <td>...</td>\n",
              "      <td>...</td>\n",
              "      <td>...</td>\n",
              "      <td>...</td>\n",
              "      <td>...</td>\n",
              "      <td>...</td>\n",
              "      <td>...</td>\n",
              "      <td>...</td>\n",
              "    </tr>\n",
              "    <tr>\n",
              "      <th>1531559</th>\n",
              "      <td>2018-06-30 20:44:40</td>\n",
              "      <td>441759</td>\n",
              "      <td>2</td>\n",
              "      <td>0</td>\n",
              "      <td>12</td>\n",
              "      <td>5.0</td>\n",
              "      <td>6.0</td>\n",
              "      <td>3.0</td>\n",
              "      <td>0</td>\n",
              "      <td>20:44:40</td>\n",
              "      <td>14</td>\n",
              "    </tr>\n",
              "    <tr>\n",
              "      <th>172477</th>\n",
              "      <td>2018-06-30 20:46:00</td>\n",
              "      <td>534438</td>\n",
              "      <td>1</td>\n",
              "      <td>2</td>\n",
              "      <td>26</td>\n",
              "      <td>5.0</td>\n",
              "      <td>6.0</td>\n",
              "      <td>2.0</td>\n",
              "      <td>0</td>\n",
              "      <td>20:46:00</td>\n",
              "      <td>8</td>\n",
              "    </tr>\n",
              "    <tr>\n",
              "      <th>1171366</th>\n",
              "      <td>2018-06-30 20:49:40</td>\n",
              "      <td>534443</td>\n",
              "      <td>1</td>\n",
              "      <td>5079221</td>\n",
              "      <td>10</td>\n",
              "      <td>5.0</td>\n",
              "      <td>6.0</td>\n",
              "      <td>2.0</td>\n",
              "      <td>0</td>\n",
              "      <td>20:49:40</td>\n",
              "      <td>8</td>\n",
              "    </tr>\n",
              "    <tr>\n",
              "      <th>675520</th>\n",
              "      <td>2018-06-30 20:53:40</td>\n",
              "      <td>534444</td>\n",
              "      <td>1</td>\n",
              "      <td>0</td>\n",
              "      <td>6</td>\n",
              "      <td>5.0</td>\n",
              "      <td>6.0</td>\n",
              "      <td>2.0</td>\n",
              "      <td>0</td>\n",
              "      <td>20:53:40</td>\n",
              "      <td>8</td>\n",
              "    </tr>\n",
              "    <tr>\n",
              "      <th>172480</th>\n",
              "      <td>2018-06-30 20:58:00</td>\n",
              "      <td>534445</td>\n",
              "      <td>1</td>\n",
              "      <td>2</td>\n",
              "      <td>7</td>\n",
              "      <td>5.0</td>\n",
              "      <td>6.0</td>\n",
              "      <td>2.0</td>\n",
              "      <td>5079256</td>\n",
              "      <td>20:58:00</td>\n",
              "      <td>8</td>\n",
              "    </tr>\n",
              "  </tbody>\n",
              "</table>\n",
              "<p>866880 rows × 11 columns</p>\n",
              "</div>"
            ],
            "text/plain": [
              "                   DateTime  Customer_ID  Sequence_Num  Store_ID  Dwell_Time  \\\n",
              "0       2018-01-01 10:03:50           26             1         0          35   \n",
              "280254  2018-01-01 10:08:50           29             1   5079256          27   \n",
              "368274  2018-01-01 10:10:50           30             1         0           9   \n",
              "443955  2018-01-01 10:11:20           31             1         0          44   \n",
              "172484  2018-01-01 10:18:50           32             1   5080089          45   \n",
              "...                     ...          ...           ...       ...         ...   \n",
              "1531559 2018-06-30 20:44:40       441759             2         0          12   \n",
              "172477  2018-06-30 20:46:00       534438             1         2          26   \n",
              "1171366 2018-06-30 20:49:40       534443             1   5079221          10   \n",
              "675520  2018-06-30 20:53:40       534444             1         0           6   \n",
              "172480  2018-06-30 20:58:00       534445             1         2           7   \n",
              "\n",
              "         Day  Month  Next_Sequence   Target      Time  Category_ID  \n",
              "0        0.0    1.0            2.0        0  10:03:50           14  \n",
              "280254   0.0    1.0            2.0  5080089  10:08:50            8  \n",
              "368274   0.0    1.0            2.0  9709631  10:10:50            8  \n",
              "443955   0.0    1.0            2.0  5079256  10:11:20           15  \n",
              "172484   0.0    1.0            2.0        2  10:18:50            8  \n",
              "...      ...    ...            ...      ...       ...          ...  \n",
              "1531559  5.0    6.0            3.0        0  20:44:40           14  \n",
              "172477   5.0    6.0            2.0        0  20:46:00            8  \n",
              "1171366  5.0    6.0            2.0        0  20:49:40            8  \n",
              "675520   5.0    6.0            2.0        0  20:53:40            8  \n",
              "172480   5.0    6.0            2.0  5079256  20:58:00            8  \n",
              "\n",
              "[866880 rows x 11 columns]"
            ]
          },
          "metadata": {
            "tags": []
          },
          "execution_count": 35
        }
      ]
    },
    {
      "cell_type": "markdown",
      "metadata": {
        "colab_type": "text",
        "id": "VNzuRgSk4zAP"
      },
      "source": [
        "Performing a Stratfied shuffle split to make sure the distribution between train and test set remains the same as we split it to get the dataset ready for training a model"
      ]
    },
    {
      "cell_type": "code",
      "metadata": {
        "colab_type": "code",
        "id": "Yiq4FdBh3q2G",
        "colab": {}
      },
      "source": [
        "split = StratifiedShuffleSplit(n_splits=2, test_size=0.2, random_state=1)\n",
        "\n",
        "for train_index, test_index in split.split(df_no_exit_wo_seq, df_no_exit_wo_seq['Target']):\n",
        "  strat_train_stores_wo_seq = df_no_exit_wo_seq.iloc[train_index]\n",
        "  strat_test_stores_wo_seq = df_no_exit_wo_seq.iloc[test_index]"
      ],
      "execution_count": 0,
      "outputs": []
    },
    {
      "cell_type": "markdown",
      "metadata": {
        "colab_type": "text",
        "id": "9AWyaHhY53yn"
      },
      "source": [
        "The distribution of train/test split is identical but there is a huge imbalance in the classes"
      ]
    },
    {
      "cell_type": "code",
      "metadata": {
        "colab_type": "code",
        "id": "8MOSfOhf3qmf",
        "outputId": "1601d5eb-c0f7-4dea-ebd0-9d6e9084a18a",
        "colab": {
          "base_uri": "https://localhost:8080/",
          "height": 415
        }
      },
      "source": [
        "ax = sns.catplot(x=\"Target\", kind=\"count\", palette=\"ch:.25\", data=strat_train_stores_wo_seq,height=5, aspect=2)\n",
        "ax.set_xticklabels( rotation=45, horizontalalignment='right')"
      ],
      "execution_count": 37,
      "outputs": [
        {
          "output_type": "execute_result",
          "data": {
            "text/plain": [
              "<seaborn.axisgrid.FacetGrid at 0x7fc096f582b0>"
            ]
          },
          "metadata": {
            "tags": []
          },
          "execution_count": 37
        },
        {
          "output_type": "display_data",
          "data": {
            "image/png": "[encoded data removed]",
            "text/plain": [
              "<Figure size 720x360 with 1 Axes>"
            ]
          },
          "metadata": {
            "tags": []
          }
        }
      ]
    },
    {
      "cell_type": "code",
      "metadata": {
        "colab_type": "code",
        "id": "wzuAFHTH3qk-",
        "outputId": "25cd44a6-9be2-49b1-d3f4-fe94cf0ee41f",
        "colab": {
          "base_uri": "https://localhost:8080/",
          "height": 415
        }
      },
      "source": [
        "ax = sns.catplot(x=\"Target\", kind=\"count\", palette=\"ch:.25\", data=strat_train_stores_wo_seq,height=5, aspect=2)\n",
        "ax.set_xticklabels( rotation=45, horizontalalignment='right')"
      ],
      "execution_count": 38,
      "outputs": [
        {
          "output_type": "execute_result",
          "data": {
            "text/plain": [
              "<seaborn.axisgrid.FacetGrid at 0x7fc0a0d6a400>"
            ]
          },
          "metadata": {
            "tags": []
          },
          "execution_count": 38
        },
        {
          "output_type": "display_data",
          "data": {
            "image/png": "[encoded data removed]",
            "text/plain": [
              "<Figure size 720x360 with 1 Axes>"
            ]
          },
          "metadata": {
            "tags": []
          }
        }
      ]
    },
    {
      "cell_type": "markdown",
      "metadata": {
        "colab_type": "text",
        "id": "vZ-RhSqy6C0u"
      },
      "source": [
        "Splitting the data set into test/train. Also extracting the target column out for training the model"
      ]
    },
    {
      "cell_type": "code",
      "metadata": {
        "colab_type": "code",
        "id": "SyIvFWMg3qUt",
        "colab": {}
      },
      "source": [
        "X_train_store_wo_seq = strat_train_stores_wo_seq[['Customer_ID', 'Sequence_Num', 'Store_ID', 'Dwell_Time','Day', 'Month', 'Category_ID']]\n",
        "y_train_store_wo_seq = strat_train_stores_wo_seq[['Target']]\n",
        "X_test_store_wo_seq = strat_test_stores_wo_seq[['Customer_ID', 'Sequence_Num', 'Store_ID', 'Dwell_Time','Day', 'Month', 'Category_ID']]\n",
        "y_test_store_wo_seq = strat_test_stores_wo_seq[['Target']]"
      ],
      "execution_count": 0,
      "outputs": []
    },
    {
      "cell_type": "markdown",
      "metadata": {
        "id": "w1hLuY24jxxt",
        "colab_type": "text"
      },
      "source": [
        "Training a SVM Classifier"
      ]
    },
    {
      "cell_type": "code",
      "metadata": {
        "id": "ys-UQGb2dUbn",
        "colab_type": "code",
        "colab": {}
      },
      "source": [
        "# Standardize features\n",
        "scaler = StandardScaler()\n",
        "features_standardized = scaler.fit_transform(X_train_store_wo_seq)\n"
      ],
      "execution_count": 0,
      "outputs": []
    },
    {
      "cell_type": "code",
      "metadata": {
        "id": "w_Rt4Ny-hGPZ",
        "colab_type": "code",
        "colab": {}
      },
      "source": [
        "# Create support vector classifier\n",
        "svc = LinearSVC(C=1.0)"
      ],
      "execution_count": 0,
      "outputs": []
    },
    {
      "cell_type": "code",
      "metadata": {
        "id": "d1akgSzohKRx",
        "colab_type": "code",
        "colab": {
          "base_uri": "https://localhost:8080/",
          "height": 162
        },
        "outputId": "20c71741-201e-4d9b-cc5e-c5ea2dd8db4e"
      },
      "source": [
        "# Train model\n",
        "model = svc.fit(features_standardized, y_train_store_wo_seq)"
      ],
      "execution_count": 1,
      "outputs": [
        {
          "output_type": "error",
          "ename": "NameError",
          "evalue": "ignored",
          "traceback": [
            "\u001b[0;31m---------------------------------------------------------------------------\u001b[0m",
            "\u001b[0;31mNameError\u001b[0m                                 Traceback (most recent call last)",
            "\u001b[0;32m<ipython-input-1-38e0da1a85af>\u001b[0m in \u001b[0;36m<module>\u001b[0;34m()\u001b[0m\n\u001b[0;32m----> 1\u001b[0;31m \u001b[0mmodel\u001b[0m \u001b[0;34m=\u001b[0m \u001b[0msvc\u001b[0m\u001b[0;34m.\u001b[0m\u001b[0mfit\u001b[0m\u001b[0;34m(\u001b[0m\u001b[0mfeatures_standardized\u001b[0m\u001b[0;34m,\u001b[0m \u001b[0my_train_store_wo_seq\u001b[0m\u001b[0;34m)\u001b[0m\u001b[0;34m\u001b[0m\u001b[0;34m\u001b[0m\u001b[0m\n\u001b[0m",
            "\u001b[0;31mNameError\u001b[0m: name 'svc' is not defined"
          ]
        }
      ]
    },
    {
      "cell_type": "code",
      "metadata": {
        "id": "4qTeBIxWjvz7",
        "colab_type": "code",
        "colab": {}
      },
      "source": [
        ""
      ],
      "execution_count": 0,
      "outputs": []
    },
    {
      "cell_type": "markdown",
      "metadata": {
        "colab_type": "text",
        "id": "GahR_sie7o0y"
      },
      "source": [
        "Training a Random Forest Classfier"
      ]
    },
    {
      "cell_type": "code",
      "metadata": {
        "colab_type": "code",
        "id": "LYJVUABx6JHZ",
        "outputId": "3ebc7ac5-274c-4446-d92e-ee4007440c65",
        "colab": {
          "base_uri": "https://localhost:8080/",
          "height": 393
        }
      },
      "source": [
        "rnd_clf_wo_seq = RandomForestClassifier(n_estimators=500, max_depth=15,n_jobs=-1,random_state=5,criterion='entropy')\n",
        "rnd_clf_wo_seq.fit(X_train_store_wo_seq,y_train_store_wo_seq)"
      ],
      "execution_count": 0,
      "outputs": [
        {
          "output_type": "stream",
          "text": [
            "/usr/local/lib/python3.6/dist-packages/ipykernel_launcher.py:2: DataConversionWarning: A column-vector y was passed when a 1d array was expected. Please change the shape of y to (n_samples,), for example using ravel().\n",
            "  \n"
          ],
          "name": "stderr"
        },
        {
          "output_type": "error",
          "ename": "KeyboardInterrupt",
          "evalue": "ignored",
          "traceback": [
            "\u001b[0;31m---------------------------------------------------------------------------\u001b[0m",
            "\u001b[0;31mKeyboardInterrupt\u001b[0m                         Traceback (most recent call last)",
            "\u001b[0;32m<ipython-input-305-8c742daafc33>\u001b[0m in \u001b[0;36m<module>\u001b[0;34m()\u001b[0m\n\u001b[1;32m      1\u001b[0m \u001b[0mrnd_clf_wo_seq\u001b[0m \u001b[0;34m=\u001b[0m \u001b[0mRandomForestClassifier\u001b[0m\u001b[0;34m(\u001b[0m\u001b[0mn_estimators\u001b[0m\u001b[0;34m=\u001b[0m\u001b[0;36m500\u001b[0m\u001b[0;34m,\u001b[0m \u001b[0mmax_depth\u001b[0m\u001b[0;34m=\u001b[0m\u001b[0;36m15\u001b[0m\u001b[0;34m,\u001b[0m\u001b[0mn_jobs\u001b[0m\u001b[0;34m=\u001b[0m\u001b[0;34m-\u001b[0m\u001b[0;36m1\u001b[0m\u001b[0;34m,\u001b[0m\u001b[0mrandom_state\u001b[0m\u001b[0;34m=\u001b[0m\u001b[0;36m5\u001b[0m\u001b[0;34m,\u001b[0m\u001b[0mcriterion\u001b[0m\u001b[0;34m=\u001b[0m\u001b[0;34m'entropy'\u001b[0m\u001b[0;34m)\u001b[0m\u001b[0;34m\u001b[0m\u001b[0;34m\u001b[0m\u001b[0m\n\u001b[0;32m----> 2\u001b[0;31m \u001b[0mrnd_clf_wo_seq\u001b[0m\u001b[0;34m.\u001b[0m\u001b[0mfit\u001b[0m\u001b[0;34m(\u001b[0m\u001b[0mX_train_store_wo_seq\u001b[0m\u001b[0;34m,\u001b[0m\u001b[0my_train_store_wo_seq\u001b[0m\u001b[0;34m)\u001b[0m\u001b[0;34m\u001b[0m\u001b[0;34m\u001b[0m\u001b[0m\n\u001b[0m",
            "\u001b[0;32m/usr/local/lib/python3.6/dist-packages/sklearn/ensemble/forest.py\u001b[0m in \u001b[0;36mfit\u001b[0;34m(self, X, y, sample_weight)\u001b[0m\n\u001b[1;32m    328\u001b[0m                     \u001b[0mt\u001b[0m\u001b[0;34m,\u001b[0m \u001b[0mself\u001b[0m\u001b[0;34m,\u001b[0m \u001b[0mX\u001b[0m\u001b[0;34m,\u001b[0m \u001b[0my\u001b[0m\u001b[0;34m,\u001b[0m \u001b[0msample_weight\u001b[0m\u001b[0;34m,\u001b[0m \u001b[0mi\u001b[0m\u001b[0;34m,\u001b[0m \u001b[0mlen\u001b[0m\u001b[0;34m(\u001b[0m\u001b[0mtrees\u001b[0m\u001b[0;34m)\u001b[0m\u001b[0;34m,\u001b[0m\u001b[0;34m\u001b[0m\u001b[0;34m\u001b[0m\u001b[0m\n\u001b[1;32m    329\u001b[0m                     verbose=self.verbose, class_weight=self.class_weight)\n\u001b[0;32m--> 330\u001b[0;31m                 for i, t in enumerate(trees))\n\u001b[0m\u001b[1;32m    331\u001b[0m \u001b[0;34m\u001b[0m\u001b[0m\n\u001b[1;32m    332\u001b[0m             \u001b[0;31m# Collect newly grown trees\u001b[0m\u001b[0;34m\u001b[0m\u001b[0;34m\u001b[0m\u001b[0;34m\u001b[0m\u001b[0m\n",
            "\u001b[0;32m/usr/local/lib/python3.6/dist-packages/joblib/parallel.py\u001b[0m in \u001b[0;36m__call__\u001b[0;34m(self, iterable)\u001b[0m\n\u001b[1;32m   1014\u001b[0m \u001b[0;34m\u001b[0m\u001b[0m\n\u001b[1;32m   1015\u001b[0m             \u001b[0;32mwith\u001b[0m \u001b[0mself\u001b[0m\u001b[0;34m.\u001b[0m\u001b[0m_backend\u001b[0m\u001b[0;34m.\u001b[0m\u001b[0mretrieval_context\u001b[0m\u001b[0;34m(\u001b[0m\u001b[0;34m)\u001b[0m\u001b[0;34m:\u001b[0m\u001b[0;34m\u001b[0m\u001b[0;34m\u001b[0m\u001b[0m\n\u001b[0;32m-> 1016\u001b[0;31m                 \u001b[0mself\u001b[0m\u001b[0;34m.\u001b[0m\u001b[0mretrieve\u001b[0m\u001b[0;34m(\u001b[0m\u001b[0;34m)\u001b[0m\u001b[0;34m\u001b[0m\u001b[0;34m\u001b[0m\u001b[0m\n\u001b[0m\u001b[1;32m   1017\u001b[0m             \u001b[0;31m# Make sure that we get a last message telling us we are done\u001b[0m\u001b[0;34m\u001b[0m\u001b[0;34m\u001b[0m\u001b[0;34m\u001b[0m\u001b[0m\n\u001b[1;32m   1018\u001b[0m             \u001b[0melapsed_time\u001b[0m \u001b[0;34m=\u001b[0m \u001b[0mtime\u001b[0m\u001b[0;34m.\u001b[0m\u001b[0mtime\u001b[0m\u001b[0;34m(\u001b[0m\u001b[0;34m)\u001b[0m \u001b[0;34m-\u001b[0m \u001b[0mself\u001b[0m\u001b[0;34m.\u001b[0m\u001b[0m_start_time\u001b[0m\u001b[0;34m\u001b[0m\u001b[0;34m\u001b[0m\u001b[0m\n",
            "\u001b[0;32m/usr/local/lib/python3.6/dist-packages/joblib/parallel.py\u001b[0m in \u001b[0;36mretrieve\u001b[0;34m(self)\u001b[0m\n\u001b[1;32m    906\u001b[0m             \u001b[0;32mtry\u001b[0m\u001b[0;34m:\u001b[0m\u001b[0;34m\u001b[0m\u001b[0;34m\u001b[0m\u001b[0m\n\u001b[1;32m    907\u001b[0m                 \u001b[0;32mif\u001b[0m \u001b[0mgetattr\u001b[0m\u001b[0;34m(\u001b[0m\u001b[0mself\u001b[0m\u001b[0;34m.\u001b[0m\u001b[0m_backend\u001b[0m\u001b[0;34m,\u001b[0m \u001b[0;34m'supports_timeout'\u001b[0m\u001b[0;34m,\u001b[0m \u001b[0;32mFalse\u001b[0m\u001b[0;34m)\u001b[0m\u001b[0;34m:\u001b[0m\u001b[0;34m\u001b[0m\u001b[0;34m\u001b[0m\u001b[0m\n\u001b[0;32m--> 908\u001b[0;31m                     \u001b[0mself\u001b[0m\u001b[0;34m.\u001b[0m\u001b[0m_output\u001b[0m\u001b[0;34m.\u001b[0m\u001b[0mextend\u001b[0m\u001b[0;34m(\u001b[0m\u001b[0mjob\u001b[0m\u001b[0;34m.\u001b[0m\u001b[0mget\u001b[0m\u001b[0;34m(\u001b[0m\u001b[0mtimeout\u001b[0m\u001b[0;34m=\u001b[0m\u001b[0mself\u001b[0m\u001b[0;34m.\u001b[0m\u001b[0mtimeout\u001b[0m\u001b[0;34m)\u001b[0m\u001b[0;34m)\u001b[0m\u001b[0;34m\u001b[0m\u001b[0;34m\u001b[0m\u001b[0m\n\u001b[0m\u001b[1;32m    909\u001b[0m                 \u001b[0;32melse\u001b[0m\u001b[0;34m:\u001b[0m\u001b[0;34m\u001b[0m\u001b[0;34m\u001b[0m\u001b[0m\n\u001b[1;32m    910\u001b[0m                     \u001b[0mself\u001b[0m\u001b[0;34m.\u001b[0m\u001b[0m_output\u001b[0m\u001b[0;34m.\u001b[0m\u001b[0mextend\u001b[0m\u001b[0;34m(\u001b[0m\u001b[0mjob\u001b[0m\u001b[0;34m.\u001b[0m\u001b[0mget\u001b[0m\u001b[0;34m(\u001b[0m\u001b[0;34m)\u001b[0m\u001b[0;34m)\u001b[0m\u001b[0;34m\u001b[0m\u001b[0;34m\u001b[0m\u001b[0m\n",
            "\u001b[0;32m/usr/lib/python3.6/multiprocessing/pool.py\u001b[0m in \u001b[0;36mget\u001b[0;34m(self, timeout)\u001b[0m\n\u001b[1;32m    636\u001b[0m \u001b[0;34m\u001b[0m\u001b[0m\n\u001b[1;32m    637\u001b[0m     \u001b[0;32mdef\u001b[0m \u001b[0mget\u001b[0m\u001b[0;34m(\u001b[0m\u001b[0mself\u001b[0m\u001b[0;34m,\u001b[0m \u001b[0mtimeout\u001b[0m\u001b[0;34m=\u001b[0m\u001b[0;32mNone\u001b[0m\u001b[0;34m)\u001b[0m\u001b[0;34m:\u001b[0m\u001b[0;34m\u001b[0m\u001b[0;34m\u001b[0m\u001b[0m\n\u001b[0;32m--> 638\u001b[0;31m         \u001b[0mself\u001b[0m\u001b[0;34m.\u001b[0m\u001b[0mwait\u001b[0m\u001b[0;34m(\u001b[0m\u001b[0mtimeout\u001b[0m\u001b[0;34m)\u001b[0m\u001b[0;34m\u001b[0m\u001b[0;34m\u001b[0m\u001b[0m\n\u001b[0m\u001b[1;32m    639\u001b[0m         \u001b[0;32mif\u001b[0m \u001b[0;32mnot\u001b[0m \u001b[0mself\u001b[0m\u001b[0;34m.\u001b[0m\u001b[0mready\u001b[0m\u001b[0;34m(\u001b[0m\u001b[0;34m)\u001b[0m\u001b[0;34m:\u001b[0m\u001b[0;34m\u001b[0m\u001b[0;34m\u001b[0m\u001b[0m\n\u001b[1;32m    640\u001b[0m             \u001b[0;32mraise\u001b[0m \u001b[0mTimeoutError\u001b[0m\u001b[0;34m\u001b[0m\u001b[0;34m\u001b[0m\u001b[0m\n",
            "\u001b[0;32m/usr/lib/python3.6/multiprocessing/pool.py\u001b[0m in \u001b[0;36mwait\u001b[0;34m(self, timeout)\u001b[0m\n\u001b[1;32m    633\u001b[0m \u001b[0;34m\u001b[0m\u001b[0m\n\u001b[1;32m    634\u001b[0m     \u001b[0;32mdef\u001b[0m \u001b[0mwait\u001b[0m\u001b[0;34m(\u001b[0m\u001b[0mself\u001b[0m\u001b[0;34m,\u001b[0m \u001b[0mtimeout\u001b[0m\u001b[0;34m=\u001b[0m\u001b[0;32mNone\u001b[0m\u001b[0;34m)\u001b[0m\u001b[0;34m:\u001b[0m\u001b[0;34m\u001b[0m\u001b[0;34m\u001b[0m\u001b[0m\n\u001b[0;32m--> 635\u001b[0;31m         \u001b[0mself\u001b[0m\u001b[0;34m.\u001b[0m\u001b[0m_event\u001b[0m\u001b[0;34m.\u001b[0m\u001b[0mwait\u001b[0m\u001b[0;34m(\u001b[0m\u001b[0mtimeout\u001b[0m\u001b[0;34m)\u001b[0m\u001b[0;34m\u001b[0m\u001b[0;34m\u001b[0m\u001b[0m\n\u001b[0m\u001b[1;32m    636\u001b[0m \u001b[0;34m\u001b[0m\u001b[0m\n\u001b[1;32m    637\u001b[0m     \u001b[0;32mdef\u001b[0m \u001b[0mget\u001b[0m\u001b[0;34m(\u001b[0m\u001b[0mself\u001b[0m\u001b[0;34m,\u001b[0m \u001b[0mtimeout\u001b[0m\u001b[0;34m=\u001b[0m\u001b[0;32mNone\u001b[0m\u001b[0;34m)\u001b[0m\u001b[0;34m:\u001b[0m\u001b[0;34m\u001b[0m\u001b[0;34m\u001b[0m\u001b[0m\n",
            "\u001b[0;32m/usr/lib/python3.6/threading.py\u001b[0m in \u001b[0;36mwait\u001b[0;34m(self, timeout)\u001b[0m\n\u001b[1;32m    549\u001b[0m             \u001b[0msignaled\u001b[0m \u001b[0;34m=\u001b[0m \u001b[0mself\u001b[0m\u001b[0;34m.\u001b[0m\u001b[0m_flag\u001b[0m\u001b[0;34m\u001b[0m\u001b[0;34m\u001b[0m\u001b[0m\n\u001b[1;32m    550\u001b[0m             \u001b[0;32mif\u001b[0m \u001b[0;32mnot\u001b[0m \u001b[0msignaled\u001b[0m\u001b[0;34m:\u001b[0m\u001b[0;34m\u001b[0m\u001b[0;34m\u001b[0m\u001b[0m\n\u001b[0;32m--> 551\u001b[0;31m                 \u001b[0msignaled\u001b[0m \u001b[0;34m=\u001b[0m \u001b[0mself\u001b[0m\u001b[0;34m.\u001b[0m\u001b[0m_cond\u001b[0m\u001b[0;34m.\u001b[0m\u001b[0mwait\u001b[0m\u001b[0;34m(\u001b[0m\u001b[0mtimeout\u001b[0m\u001b[0;34m)\u001b[0m\u001b[0;34m\u001b[0m\u001b[0;34m\u001b[0m\u001b[0m\n\u001b[0m\u001b[1;32m    552\u001b[0m             \u001b[0;32mreturn\u001b[0m \u001b[0msignaled\u001b[0m\u001b[0;34m\u001b[0m\u001b[0;34m\u001b[0m\u001b[0m\n\u001b[1;32m    553\u001b[0m \u001b[0;34m\u001b[0m\u001b[0m\n",
            "\u001b[0;32m/usr/lib/python3.6/threading.py\u001b[0m in \u001b[0;36mwait\u001b[0;34m(self, timeout)\u001b[0m\n\u001b[1;32m    293\u001b[0m         \u001b[0;32mtry\u001b[0m\u001b[0;34m:\u001b[0m    \u001b[0;31m# restore state no matter what (e.g., KeyboardInterrupt)\u001b[0m\u001b[0;34m\u001b[0m\u001b[0;34m\u001b[0m\u001b[0m\n\u001b[1;32m    294\u001b[0m             \u001b[0;32mif\u001b[0m \u001b[0mtimeout\u001b[0m \u001b[0;32mis\u001b[0m \u001b[0;32mNone\u001b[0m\u001b[0;34m:\u001b[0m\u001b[0;34m\u001b[0m\u001b[0;34m\u001b[0m\u001b[0m\n\u001b[0;32m--> 295\u001b[0;31m                 \u001b[0mwaiter\u001b[0m\u001b[0;34m.\u001b[0m\u001b[0macquire\u001b[0m\u001b[0;34m(\u001b[0m\u001b[0;34m)\u001b[0m\u001b[0;34m\u001b[0m\u001b[0;34m\u001b[0m\u001b[0m\n\u001b[0m\u001b[1;32m    296\u001b[0m                 \u001b[0mgotit\u001b[0m \u001b[0;34m=\u001b[0m \u001b[0;32mTrue\u001b[0m\u001b[0;34m\u001b[0m\u001b[0;34m\u001b[0m\u001b[0m\n\u001b[1;32m    297\u001b[0m             \u001b[0;32melse\u001b[0m\u001b[0;34m:\u001b[0m\u001b[0;34m\u001b[0m\u001b[0;34m\u001b[0m\u001b[0m\n",
            "\u001b[0;31mKeyboardInterrupt\u001b[0m: "
          ]
        }
      ]
    },
    {
      "cell_type": "markdown",
      "metadata": {
        "colab_type": "text",
        "id": "7FTydkGOCAmM"
      },
      "source": [
        "Train and Test Accuracy"
      ]
    },
    {
      "cell_type": "code",
      "metadata": {
        "colab_type": "code",
        "id": "lroBQ5cJ7wkL",
        "outputId": "88d416d5-5415-4ac2-b2e1-abdbd3db6a7a",
        "colab": {
          "base_uri": "https://localhost:8080/",
          "height": 53
        }
      },
      "source": [
        "score = rnd_clf_wo_seq.score(X_train_store_wo_seq, y_train_store_wo_seq)\n",
        "score2 = rnd_clf_wo_seq.score(X_test_store_wo_seq, y_test_store_wo_seq)\n",
        "\n",
        "print(\"Training set accuracy: \", '%.3f'%(score))\n",
        "print(\"Test set accuracy: \", '%.3f'%(score2))\n",
        "\n",
        "#   +F1"
      ],
      "execution_count": 0,
      "outputs": [
        {
          "output_type": "stream",
          "text": [
            "Training set accuracy:  0.600\n",
            "Test set accuracy:  0.584\n"
          ],
          "name": "stdout"
        }
      ]
    },
    {
      "cell_type": "markdown",
      "metadata": {
        "colab_type": "text",
        "id": "-ulnZxcyCEOt"
      },
      "source": [
        "Metrics broken down by mult-class. This is expected as the training set is hugely imbalanced for class 'others' our algorthim learns absoluetly nothing"
      ]
    },
    {
      "cell_type": "code",
      "metadata": {
        "colab_type": "code",
        "id": "PjkN9rKO7wV9",
        "outputId": "2950ce46-182f-4999-f9a9-97f8bc2e1863",
        "colab": {
          "base_uri": "https://localhost:8080/",
          "height": 577
        }
      },
      "source": [
        "y_pred_stores_wo_seq = rnd_clf_wo_seq.predict(X_test_store_wo_seq)\n",
        "print(classification_report(y_test_store_wo_seq,y_pred_stores_wo_seq))"
      ],
      "execution_count": 0,
      "outputs": [
        {
          "output_type": "stream",
          "text": [
            "              precision    recall  f1-score   support\n",
            "\n",
            "           0       0.59      0.97      0.73     97808\n",
            "           2       0.51      0.16      0.24     17164\n",
            "     5078552       0.00      0.00      0.00      1490\n",
            "     5078721       0.00      0.00      0.00      1418\n",
            "     5079150       0.00      0.00      0.00      1435\n",
            "     5079221       0.00      0.00      0.00      2134\n",
            "     5079256       0.00      0.00      0.00      8394\n",
            "     5079942       0.64      0.59      0.61      3297\n",
            "     5080089       0.00      0.00      0.00      9173\n",
            "     5115739       0.46      0.01      0.02      1869\n",
            "     5163159       0.00      0.00      0.00      1894\n",
            "     5163221       0.00      0.00      0.00      2183\n",
            "     5163351       0.00      0.00      0.00      1426\n",
            "     7614638       0.00      0.00      0.00      2785\n",
            "     9133379       0.00      0.00      0.00      3184\n",
            "     9161901       0.00      0.00      0.00      2538\n",
            "     9367511       0.90      0.57      0.70      1496\n",
            "     9399994       0.00      0.00      0.00      2384\n",
            "     9535992       0.00      0.00      0.00      2841\n",
            "     9678070       0.00      0.00      0.00      2158\n",
            "     9709631       0.45      0.15      0.23      6305\n",
            "\n",
            "    accuracy                           0.58    173376\n",
            "   macro avg       0.17      0.12      0.12    173376\n",
            "weighted avg       0.42      0.58      0.46    173376\n",
            "\n"
          ],
          "name": "stdout"
        },
        {
          "output_type": "stream",
          "text": [
            "/usr/local/lib/python3.6/dist-packages/sklearn/metrics/classification.py:1437: UndefinedMetricWarning: Precision and F-score are ill-defined and being set to 0.0 in labels with no predicted samples.\n",
            "  'precision', 'predicted', average, warn_for)\n"
          ],
          "name": "stderr"
        }
      ]
    },
    {
      "cell_type": "markdown",
      "metadata": {
        "colab_type": "text",
        "id": "p-OgjSpDFMUd"
      },
      "source": [
        "\n",
        "The distribution of 'other' stores is highly skewed and during training there would be a risk off overfitting on the majority class. As a result we will perform downsampling on the training data. We have wnough number of instances for us to downsample the data. We will resample without replacement and reduce the sample of overweighted class to match one of the minority class"
      ]
    },
    {
      "cell_type": "code",
      "metadata": {
        "colab_type": "code",
        "id": "Oqh1gBzmHK1G",
        "outputId": "d73994af-ff9b-4a92-ba7e-5f4543091206",
        "colab": {
          "base_uri": "https://localhost:8080/",
          "height": 233
        }
      },
      "source": [
        "df_exit_no_seq = df_no_exit\n",
        "df_exit_no_seq.count()"
      ],
      "execution_count": 0,
      "outputs": [
        {
          "output_type": "execute_result",
          "data": {
            "text/plain": [
              "DateTime         866880\n",
              "Customer_ID      866880\n",
              "Sequence_Num     866880\n",
              "Store_ID         866880\n",
              "Dwell_Time       866880\n",
              "Day              866880\n",
              "Month            866880\n",
              "Next_Sequence    866880\n",
              "Target           866880\n",
              "Time             866880\n",
              "Category_ID      866880\n",
              "dtype: int64"
            ]
          },
          "metadata": {
            "tags": []
          },
          "execution_count": 284
        }
      ]
    },
    {
      "cell_type": "markdown",
      "metadata": {
        "colab_type": "text",
        "id": "5h0LMdSDIiFL"
      },
      "source": [
        "Performing a Stratfied shuffle split to make sure the distribution between train and test set remains the same as we split it to get the dataset ready for training a model"
      ]
    },
    {
      "cell_type": "code",
      "metadata": {
        "colab_type": "code",
        "id": "roSDn8bIHEdR",
        "colab": {}
      },
      "source": [
        "split = StratifiedShuffleSplit(n_splits=2, test_size=0.2, random_state=1)\n",
        "\n",
        "for train_index, test_index in split.split(df_exit_no_seq, df_exit_no_seq['Target']):\n",
        "  strat_train_stores_no_seq = df_exit_no_seq.iloc[train_index]\n",
        "  strat_test_stores_no_seq = df_exit_no_seq.iloc[test_index]"
      ],
      "execution_count": 0,
      "outputs": []
    },
    {
      "cell_type": "markdown",
      "metadata": {
        "colab_type": "text",
        "id": "0xU-33RPIksT"
      },
      "source": [
        "The distribution of 'other' stores is highly skewed and during training there would be a risk off overfitting on the majority class. As a result we will perform downsampling on the training data. We have wnough number of instances for us to downsample the data. We will resample without replacement and reduce the sample of overweighted class to match one of the minority class"
      ]
    },
    {
      "cell_type": "code",
      "metadata": {
        "colab_type": "code",
        "id": "wjVArb2ABER9",
        "colab": {}
      },
      "source": [
        "df_majority_no_seq = strat_train_stores_no_seq[strat_train_stores_no_seq['Target']==0]\n",
        "df_minority_no_seq = strat_train_stores_no_seq[strat_train_stores_no_seq['Target']==class_num_to_list[20][-1]]  #5079942  for 5 classes, here we want the last item of the list\n",
        "\n",
        "\n",
        "df_majority_downsampled_no_seq = resample(df_majority_no_seq, \n",
        "                                 replace=False,     \n",
        "                                 n_samples=len(df_minority_no_seq),   \n",
        "                                 random_state=42) "
      ],
      "execution_count": 0,
      "outputs": []
    },
    {
      "cell_type": "code",
      "metadata": {
        "id": "3UPNfOzGaW6S",
        "colab_type": "code",
        "outputId": "d31385c4-c6f7-479a-bfe8-4f7cbc123564",
        "colab": {
          "base_uri": "https://localhost:8080/",
          "height": 377
        }
      },
      "source": [
        "class_num_to_list[20]\n"
      ],
      "execution_count": 0,
      "outputs": [
        {
          "output_type": "execute_result",
          "data": {
            "text/plain": [
              "[2,\n",
              " 5080089,\n",
              " 5079256,\n",
              " 9709631,\n",
              " 5079942,\n",
              " 9133379,\n",
              " 9535992,\n",
              " 7614638,\n",
              " 9161901,\n",
              " 9399994,\n",
              " 5163221,\n",
              " 9678070,\n",
              " 5079221,\n",
              " 5163159,\n",
              " 5115739,\n",
              " 9367511,\n",
              " 5078552,\n",
              " 5079150,\n",
              " 5163351,\n",
              " 5078721]"
            ]
          },
          "metadata": {
            "tags": []
          },
          "execution_count": 302
        }
      ]
    },
    {
      "cell_type": "code",
      "metadata": {
        "colab_type": "code",
        "id": "eKUusxKnFHSb",
        "colab": {}
      },
      "source": [
        "strat_train_stores_no_seq = strat_train_stores_no_seq[strat_train_stores_no_seq['Target']!=0]\n",
        "strat_train_stores_no_seq = pd.concat([df_majority_downsampled_no_seq, strat_train_stores_no_seq])\n",
        "strat_train_stores_no_seq = shuffle(strat_train_stores_no_seq)"
      ],
      "execution_count": 0,
      "outputs": []
    },
    {
      "cell_type": "code",
      "metadata": {
        "colab_type": "code",
        "id": "5iq3Fx0zFHOC",
        "outputId": "9b9f2b8e-ec90-4169-ab4c-876771a72d7d",
        "colab": {
          "base_uri": "https://localhost:8080/",
          "height": 416
        }
      },
      "source": [
        "ax = sns.catplot(x=\"Target\", kind=\"count\", palette=\"ch:.25\", data=strat_train_stores_no_seq,height=5, aspect=2)\n",
        "ax.set_xticklabels( rotation=45, horizontalalignment='right')"
      ],
      "execution_count": 0,
      "outputs": [
        {
          "output_type": "execute_result",
          "data": {
            "text/plain": [
              "<seaborn.axisgrid.FacetGrid at 0x7f7846c954e0>"
            ]
          },
          "metadata": {
            "tags": []
          },
          "execution_count": 301
        },
        {
          "output_type": "display_data",
          "data": {
            "image/png": "[encoded data removed]",
            "text/plain": [
              "<Figure size 720x360 with 1 Axes>"
            ]
          },
          "metadata": {
            "tags": []
          }
        }
      ]
    },
    {
      "cell_type": "code",
      "metadata": {
        "colab_type": "code",
        "id": "wZ_rwmArGG_g",
        "outputId": "87908122-391d-401c-b831-ad158eaa6954",
        "colab": {
          "base_uri": "https://localhost:8080/",
          "height": 416
        }
      },
      "source": [
        "ax = sns.catplot(x=\"Target\", kind=\"count\", palette=\"ch:.25\", data=strat_test_stores_no_seq,height=5, aspect=2)\n",
        "ax.set_xticklabels( rotation=45, horizontalalignment='right')"
      ],
      "execution_count": 0,
      "outputs": [
        {
          "output_type": "execute_result",
          "data": {
            "text/plain": [
              "<seaborn.axisgrid.FacetGrid at 0x7f7846d849e8>"
            ]
          },
          "metadata": {
            "tags": []
          },
          "execution_count": 303
        },
        {
          "output_type": "display_data",
          "data": {
            "image/png": "[encoded data removed]",
            "text/plain": [
              "<Figure size 720x360 with 1 Axes>"
            ]
          },
          "metadata": {
            "tags": []
          }
        }
      ]
    },
    {
      "cell_type": "markdown",
      "metadata": {
        "colab_type": "text",
        "id": "2Y8ezxkDI1Cp"
      },
      "source": [
        "\n",
        "Splitting the data set into test/train. Also extracting the target column out for training the model"
      ]
    },
    {
      "cell_type": "code",
      "metadata": {
        "colab_type": "code",
        "id": "wJ1ngn3EGKbC",
        "colab": {}
      },
      "source": [
        "X_train_store_no_seq = strat_train_stores_no_seq[['Customer_ID', 'Sequence_Num', 'Store_ID', 'Dwell_Time','Day', 'Month', 'Category_ID']]\n",
        "y_train_store_no_seq = strat_train_stores_no_seq[['Target']]\n",
        "X_test_store_no_seq = strat_test_stores_no_seq[['Customer_ID', 'Sequence_Num', 'Store_ID', 'Dwell_Time','Day', 'Month', 'Category_ID']]\n",
        "y_test_store_no_seq = strat_test_stores_no_seq[['Target']]"
      ],
      "execution_count": 0,
      "outputs": []
    },
    {
      "cell_type": "markdown",
      "metadata": {
        "colab_type": "text",
        "id": "ijKWmxOpI4i3"
      },
      "source": [
        "Training a random forest classifier"
      ]
    },
    {
      "cell_type": "code",
      "metadata": {
        "colab_type": "code",
        "id": "TWeTgSWoGKVM",
        "outputId": "a1c1c0f2-0d2f-4aca-c40e-7fae774e822c",
        "colab": {
          "base_uri": "https://localhost:8080/",
          "height": 199
        }
      },
      "source": [
        "rnd_clf_no_seq = RandomForestClassifier(n_estimators=500, max_depth=15,n_jobs=-1,random_state=5,criterion='entropy')\n",
        "rnd_clf_no_seq.fit(X_train_store_no_seq,y_train_store_no_seq)"
      ],
      "execution_count": 0,
      "outputs": [
        {
          "output_type": "stream",
          "text": [
            "/usr/local/lib/python3.6/dist-packages/ipykernel_launcher.py:2: DataConversionWarning: A column-vector y was passed when a 1d array was expected. Please change the shape of y to (n_samples,), for example using ravel().\n",
            "  \n"
          ],
          "name": "stderr"
        },
        {
          "output_type": "execute_result",
          "data": {
            "text/plain": [
              "RandomForestClassifier(bootstrap=True, class_weight=None, criterion='entropy',\n",
              "                       max_depth=15, max_features='auto', max_leaf_nodes=None,\n",
              "                       min_impurity_decrease=0.0, min_impurity_split=None,\n",
              "                       min_samples_leaf=1, min_samples_split=2,\n",
              "                       min_weight_fraction_leaf=0.0, n_estimators=500,\n",
              "                       n_jobs=-1, oob_score=False, random_state=5, verbose=0,\n",
              "                       warm_start=False)"
            ]
          },
          "metadata": {
            "tags": []
          },
          "execution_count": 307
        }
      ]
    },
    {
      "cell_type": "markdown",
      "metadata": {
        "colab_type": "text",
        "id": "LfMtszCpI_EX"
      },
      "source": [
        "Global level Train/Test Accuracy"
      ]
    },
    {
      "cell_type": "code",
      "metadata": {
        "colab_type": "code",
        "id": "zst45PJsGKR_",
        "outputId": "34cbd14e-069d-43fb-9420-5e726fb7484e",
        "colab": {
          "base_uri": "https://localhost:8080/",
          "height": 53
        }
      },
      "source": [
        "score = rnd_clf_no_seq.score(X_train_store_no_seq, y_train_store_no_seq)\n",
        "score2 = rnd_clf_no_seq.score(X_test_store_no_seq, y_test_store_no_seq)\n",
        "\n",
        "print(\"Training set accuracy: \", '%.3f'%(score))\n",
        "print(\"Test set accuracy: \", '%.3f'%(score2))"
      ],
      "execution_count": 0,
      "outputs": [
        {
          "output_type": "stream",
          "text": [
            "Training set accuracy:  0.411\n",
            "Test set accuracy:  0.136\n"
          ],
          "name": "stdout"
        }
      ]
    },
    {
      "cell_type": "markdown",
      "metadata": {
        "colab_type": "text",
        "id": "p9We_b02JEH8"
      },
      "source": [
        "Multilabel Test Accuracy broken down by classes"
      ]
    },
    {
      "cell_type": "code",
      "metadata": {
        "colab_type": "code",
        "id": "MUXEdj-hGKNO",
        "outputId": "a0913ddf-907d-4560-c18c-1a63c8f15e6f",
        "colab": {
          "base_uri": "https://localhost:8080/",
          "height": 521
        }
      },
      "source": [
        "y_pred_stores_no_seq = rnd_clf_no_seq.predict(X_test_store_no_seq)\n",
        "print(classification_report(y_test_store_no_seq,y_pred_stores_no_seq))"
      ],
      "execution_count": 0,
      "outputs": [
        {
          "output_type": "stream",
          "text": [
            "              precision    recall  f1-score   support\n",
            "\n",
            "           0       0.74      0.00      0.00     97808\n",
            "           2       0.12      0.80      0.21     17164\n",
            "     5078552       0.03      0.00      0.00      1490\n",
            "     5078721       0.15      0.00      0.00      1418\n",
            "     5079150       0.00      0.00      0.00      1435\n",
            "     5079221       0.05      0.00      0.01      2134\n",
            "     5079256       0.10      0.18      0.13      8394\n",
            "     5079942       0.61      0.67      0.64      3297\n",
            "     5080089       0.11      0.29      0.16      9173\n",
            "     5115739       0.17      0.05      0.08      1869\n",
            "     5163159       0.10      0.03      0.04      1894\n",
            "     5163221       0.02      0.00      0.00      2183\n",
            "     5163351       0.00      0.00      0.00      1426\n",
            "     7614638       0.08      0.00      0.01      2785\n",
            "     9133379       0.05      0.01      0.01      3184\n",
            "     9161901       0.14      0.29      0.19      2538\n",
            "     9367511       0.88      0.58      0.70      1496\n",
            "     9399994       0.11      0.04      0.06      2384\n",
            "     9535992       0.02      0.00      0.00      2841\n",
            "     9678070       0.06      0.02      0.03      2158\n",
            "     9709631       0.28      0.25      0.26      6305\n",
            "\n",
            "    accuracy                           0.14    173376\n",
            "   macro avg       0.18      0.15      0.12    173376\n",
            "weighted avg       0.48      0.14      0.07    173376\n",
            "\n"
          ],
          "name": "stdout"
        }
      ]
    },
    {
      "cell_type": "code",
      "metadata": {
        "colab_type": "code",
        "id": "AOeEVzCcGKK0",
        "colab": {}
      },
      "source": [
        ""
      ],
      "execution_count": 0,
      "outputs": []
    },
    {
      "cell_type": "markdown",
      "metadata": {
        "colab_type": "text",
        "id": "ou9LSqzw4Csc"
      },
      "source": [
        "#An additional signal using Sequence and taking into account a customer's history until that point"
      ]
    },
    {
      "cell_type": "code",
      "metadata": {
        "colab_type": "code",
        "id": "gL8rTVZKlkbC",
        "outputId": "65be7007-dee9-4e27-f6d5-6c65c48ad528",
        "colab": {
          "base_uri": "https://localhost:8080/",
          "height": 233
        }
      },
      "source": [
        "df_no_exit_w_seq = df_no_exit\n",
        "df_no_exit_w_seq.count()"
      ],
      "execution_count": 0,
      "outputs": [
        {
          "output_type": "execute_result",
          "data": {
            "text/plain": [
              "DateTime         866880\n",
              "Customer_ID      866880\n",
              "Sequence_Num     866880\n",
              "Store_ID         866880\n",
              "Dwell_Time       866880\n",
              "Day              866880\n",
              "Month            866880\n",
              "Next_Sequence    866880\n",
              "Target           866880\n",
              "Time             866880\n",
              "Category_ID      866880\n",
              "dtype: int64"
            ]
          },
          "metadata": {
            "tags": []
          },
          "execution_count": 80
        }
      ]
    },
    {
      "cell_type": "code",
      "metadata": {
        "id": "BCU8aTIWspe2",
        "colab_type": "code",
        "outputId": "422459fd-0414-46bd-9fab-e4a9ba79a3d6",
        "colab": {
          "base_uri": "https://localhost:8080/",
          "height": 377
        }
      },
      "source": [
        "class_num_to_list[20]"
      ],
      "execution_count": 0,
      "outputs": [
        {
          "output_type": "execute_result",
          "data": {
            "text/plain": [
              "[2,\n",
              " 5080089,\n",
              " 5079256,\n",
              " 9709631,\n",
              " 5079942,\n",
              " 9133379,\n",
              " 9535992,\n",
              " 7614638,\n",
              " 9161901,\n",
              " 9399994,\n",
              " 5163221,\n",
              " 9678070,\n",
              " 5079221,\n",
              " 5163159,\n",
              " 5115739,\n",
              " 9367511,\n",
              " 5078552,\n",
              " 5079150,\n",
              " 5163351,\n",
              " 5078721]"
            ]
          },
          "metadata": {
            "tags": []
          },
          "execution_count": 76
        }
      ]
    },
    {
      "cell_type": "code",
      "metadata": {
        "colab_type": "code",
        "id": "HGLhYtLvuKhz",
        "colab": {}
      },
      "source": [
        "df_one_hot = pd.get_dummies(df_no_exit['Store_ID'])\n",
        "df_no_exit_w_seq= df_no_exit_w_seq.join(df_one_hot)\n",
        "column_list = ['Customer_ID','Store_ID','Dwell_Time','Day','Sequence_Num','Category_ID','Month',0]\n",
        "column_list.extend(class_num_to_list[20])\n",
        "column_list.append('Target')\n",
        "column_list\n",
        "df_no_exit_w_seq =df_no_exit_w_seq[column_list]\n",
        "\n",
        "#  BEFORE:  df_no_exit_w_seq =df_no_exit_w_seq[['Customer_ID','Store_ID','Dwell_Time','Day','Sequence_Num','Category_ID','Month', 0, 2, 5079256, 5079942 ,5080089,9709631,'Target']]"
      ],
      "execution_count": 0,
      "outputs": []
    },
    {
      "cell_type": "code",
      "metadata": {
        "id": "uyYEM7UwgTgd",
        "colab_type": "code",
        "outputId": "bb35f350-c10f-4dd4-e103-41b09f15f804",
        "colab": {
          "base_uri": "https://localhost:8080/",
          "height": 539
        }
      },
      "source": [
        ""
      ],
      "execution_count": 0,
      "outputs": [
        {
          "output_type": "execute_result",
          "data": {
            "text/plain": [
              "Customer_ID     866880\n",
              "Store_ID        866880\n",
              "Dwell_Time      866880\n",
              "Day             866880\n",
              "Sequence_Num    866880\n",
              "Category_ID     866880\n",
              "Month           866880\n",
              "2               866880\n",
              "5080089         866880\n",
              "5079256         866880\n",
              "9709631         866880\n",
              "5079942         866880\n",
              "9133379         866880\n",
              "9535992         866880\n",
              "7614638         866880\n",
              "9161901         866880\n",
              "9399994         866880\n",
              "5163221         866880\n",
              "9678070         866880\n",
              "5079221         866880\n",
              "5163159         866880\n",
              "5115739         866880\n",
              "9367511         866880\n",
              "5078552         866880\n",
              "5079150         866880\n",
              "5163351         866880\n",
              "5078721         866880\n",
              "Target          866880\n",
              "dtype: int64"
            ]
          },
          "metadata": {
            "tags": []
          },
          "execution_count": 337
        }
      ]
    },
    {
      "cell_type": "code",
      "metadata": {
        "colab_type": "code",
        "id": "dboXTHMEuibT",
        "outputId": "ddabbec5-b308-4c8b-c675-4ac47cbef380",
        "colab": {
          "base_uri": "https://localhost:8080/",
          "height": 439
        }
      },
      "source": [
        "df_no_exit_w_seq.sort_values(by=['Day','Month','Customer_ID','Sequence_Num'])"
      ],
      "execution_count": 0,
      "outputs": [
        {
          "output_type": "execute_result",
          "data": {
            "text/html": [
              "<div>\n",
              "<style scoped>\n",
              "    .dataframe tbody tr th:only-of-type {\n",
              "        vertical-align: middle;\n",
              "    }\n",
              "\n",
              "    .dataframe tbody tr th {\n",
              "        vertical-align: top;\n",
              "    }\n",
              "\n",
              "    .dataframe thead th {\n",
              "        text-align: right;\n",
              "    }\n",
              "</style>\n",
              "<table border=\"1\" class=\"dataframe\">\n",
              "  <thead>\n",
              "    <tr style=\"text-align: right;\">\n",
              "      <th></th>\n",
              "      <th>Customer_ID</th>\n",
              "      <th>Store_ID</th>\n",
              "      <th>Dwell_Time</th>\n",
              "      <th>Day</th>\n",
              "      <th>Sequence_Num</th>\n",
              "      <th>Category_ID</th>\n",
              "      <th>Month</th>\n",
              "      <th>0</th>\n",
              "      <th>2</th>\n",
              "      <th>5080089</th>\n",
              "      <th>5079256</th>\n",
              "      <th>9709631</th>\n",
              "      <th>5079942</th>\n",
              "      <th>9133379</th>\n",
              "      <th>9535992</th>\n",
              "      <th>7614638</th>\n",
              "      <th>9161901</th>\n",
              "      <th>9399994</th>\n",
              "      <th>5163221</th>\n",
              "      <th>9678070</th>\n",
              "      <th>5079221</th>\n",
              "      <th>5163159</th>\n",
              "      <th>5115739</th>\n",
              "      <th>9367511</th>\n",
              "      <th>5078552</th>\n",
              "      <th>5079150</th>\n",
              "      <th>5163351</th>\n",
              "      <th>5078721</th>\n",
              "      <th>Target</th>\n",
              "    </tr>\n",
              "  </thead>\n",
              "  <tbody>\n",
              "    <tr>\n",
              "      <th>0</th>\n",
              "      <td>26</td>\n",
              "      <td>0</td>\n",
              "      <td>35</td>\n",
              "      <td>0.0</td>\n",
              "      <td>1</td>\n",
              "      <td>14</td>\n",
              "      <td>1.0</td>\n",
              "      <td>1</td>\n",
              "      <td>0</td>\n",
              "      <td>0</td>\n",
              "      <td>0</td>\n",
              "      <td>0</td>\n",
              "      <td>0</td>\n",
              "      <td>0</td>\n",
              "      <td>0</td>\n",
              "      <td>0</td>\n",
              "      <td>0</td>\n",
              "      <td>0</td>\n",
              "      <td>0</td>\n",
              "      <td>0</td>\n",
              "      <td>0</td>\n",
              "      <td>0</td>\n",
              "      <td>0</td>\n",
              "      <td>0</td>\n",
              "      <td>0</td>\n",
              "      <td>0</td>\n",
              "      <td>0</td>\n",
              "      <td>0</td>\n",
              "      <td>0</td>\n",
              "    </tr>\n",
              "    <tr>\n",
              "      <th>280254</th>\n",
              "      <td>29</td>\n",
              "      <td>5079256</td>\n",
              "      <td>27</td>\n",
              "      <td>0.0</td>\n",
              "      <td>1</td>\n",
              "      <td>8</td>\n",
              "      <td>1.0</td>\n",
              "      <td>0</td>\n",
              "      <td>0</td>\n",
              "      <td>0</td>\n",
              "      <td>1</td>\n",
              "      <td>0</td>\n",
              "      <td>0</td>\n",
              "      <td>0</td>\n",
              "      <td>0</td>\n",
              "      <td>0</td>\n",
              "      <td>0</td>\n",
              "      <td>0</td>\n",
              "      <td>0</td>\n",
              "      <td>0</td>\n",
              "      <td>0</td>\n",
              "      <td>0</td>\n",
              "      <td>0</td>\n",
              "      <td>0</td>\n",
              "      <td>0</td>\n",
              "      <td>0</td>\n",
              "      <td>0</td>\n",
              "      <td>0</td>\n",
              "      <td>5080089</td>\n",
              "    </tr>\n",
              "    <tr>\n",
              "      <th>368274</th>\n",
              "      <td>30</td>\n",
              "      <td>0</td>\n",
              "      <td>9</td>\n",
              "      <td>0.0</td>\n",
              "      <td>1</td>\n",
              "      <td>8</td>\n",
              "      <td>1.0</td>\n",
              "      <td>1</td>\n",
              "      <td>0</td>\n",
              "      <td>0</td>\n",
              "      <td>0</td>\n",
              "      <td>0</td>\n",
              "      <td>0</td>\n",
              "      <td>0</td>\n",
              "      <td>0</td>\n",
              "      <td>0</td>\n",
              "      <td>0</td>\n",
              "      <td>0</td>\n",
              "      <td>0</td>\n",
              "      <td>0</td>\n",
              "      <td>0</td>\n",
              "      <td>0</td>\n",
              "      <td>0</td>\n",
              "      <td>0</td>\n",
              "      <td>0</td>\n",
              "      <td>0</td>\n",
              "      <td>0</td>\n",
              "      <td>0</td>\n",
              "      <td>9709631</td>\n",
              "    </tr>\n",
              "    <tr>\n",
              "      <th>443955</th>\n",
              "      <td>31</td>\n",
              "      <td>0</td>\n",
              "      <td>44</td>\n",
              "      <td>0.0</td>\n",
              "      <td>1</td>\n",
              "      <td>15</td>\n",
              "      <td>1.0</td>\n",
              "      <td>1</td>\n",
              "      <td>0</td>\n",
              "      <td>0</td>\n",
              "      <td>0</td>\n",
              "      <td>0</td>\n",
              "      <td>0</td>\n",
              "      <td>0</td>\n",
              "      <td>0</td>\n",
              "      <td>0</td>\n",
              "      <td>0</td>\n",
              "      <td>0</td>\n",
              "      <td>0</td>\n",
              "      <td>0</td>\n",
              "      <td>0</td>\n",
              "      <td>0</td>\n",
              "      <td>0</td>\n",
              "      <td>0</td>\n",
              "      <td>0</td>\n",
              "      <td>0</td>\n",
              "      <td>0</td>\n",
              "      <td>0</td>\n",
              "      <td>5079256</td>\n",
              "    </tr>\n",
              "    <tr>\n",
              "      <th>172484</th>\n",
              "      <td>32</td>\n",
              "      <td>5080089</td>\n",
              "      <td>45</td>\n",
              "      <td>0.0</td>\n",
              "      <td>1</td>\n",
              "      <td>8</td>\n",
              "      <td>1.0</td>\n",
              "      <td>0</td>\n",
              "      <td>0</td>\n",
              "      <td>1</td>\n",
              "      <td>0</td>\n",
              "      <td>0</td>\n",
              "      <td>0</td>\n",
              "      <td>0</td>\n",
              "      <td>0</td>\n",
              "      <td>0</td>\n",
              "      <td>0</td>\n",
              "      <td>0</td>\n",
              "      <td>0</td>\n",
              "      <td>0</td>\n",
              "      <td>0</td>\n",
              "      <td>0</td>\n",
              "      <td>0</td>\n",
              "      <td>0</td>\n",
              "      <td>0</td>\n",
              "      <td>0</td>\n",
              "      <td>0</td>\n",
              "      <td>0</td>\n",
              "      <td>2</td>\n",
              "    </tr>\n",
              "    <tr>\n",
              "      <th>...</th>\n",
              "      <td>...</td>\n",
              "      <td>...</td>\n",
              "      <td>...</td>\n",
              "      <td>...</td>\n",
              "      <td>...</td>\n",
              "      <td>...</td>\n",
              "      <td>...</td>\n",
              "      <td>...</td>\n",
              "      <td>...</td>\n",
              "      <td>...</td>\n",
              "      <td>...</td>\n",
              "      <td>...</td>\n",
              "      <td>...</td>\n",
              "      <td>...</td>\n",
              "      <td>...</td>\n",
              "      <td>...</td>\n",
              "      <td>...</td>\n",
              "      <td>...</td>\n",
              "      <td>...</td>\n",
              "      <td>...</td>\n",
              "      <td>...</td>\n",
              "      <td>...</td>\n",
              "      <td>...</td>\n",
              "      <td>...</td>\n",
              "      <td>...</td>\n",
              "      <td>...</td>\n",
              "      <td>...</td>\n",
              "      <td>...</td>\n",
              "      <td>...</td>\n",
              "    </tr>\n",
              "    <tr>\n",
              "      <th>530343</th>\n",
              "      <td>520172</td>\n",
              "      <td>7614638</td>\n",
              "      <td>6</td>\n",
              "      <td>6.0</td>\n",
              "      <td>1</td>\n",
              "      <td>6</td>\n",
              "      <td>6.0</td>\n",
              "      <td>0</td>\n",
              "      <td>0</td>\n",
              "      <td>0</td>\n",
              "      <td>0</td>\n",
              "      <td>0</td>\n",
              "      <td>0</td>\n",
              "      <td>0</td>\n",
              "      <td>0</td>\n",
              "      <td>1</td>\n",
              "      <td>0</td>\n",
              "      <td>0</td>\n",
              "      <td>0</td>\n",
              "      <td>0</td>\n",
              "      <td>0</td>\n",
              "      <td>0</td>\n",
              "      <td>0</td>\n",
              "      <td>0</td>\n",
              "      <td>0</td>\n",
              "      <td>0</td>\n",
              "      <td>0</td>\n",
              "      <td>0</td>\n",
              "      <td>9709631</td>\n",
              "    </tr>\n",
              "    <tr>\n",
              "      <th>441935</th>\n",
              "      <td>520172</td>\n",
              "      <td>9709631</td>\n",
              "      <td>51</td>\n",
              "      <td>6.0</td>\n",
              "      <td>2</td>\n",
              "      <td>8</td>\n",
              "      <td>6.0</td>\n",
              "      <td>0</td>\n",
              "      <td>0</td>\n",
              "      <td>0</td>\n",
              "      <td>0</td>\n",
              "      <td>1</td>\n",
              "      <td>0</td>\n",
              "      <td>0</td>\n",
              "      <td>0</td>\n",
              "      <td>0</td>\n",
              "      <td>0</td>\n",
              "      <td>0</td>\n",
              "      <td>0</td>\n",
              "      <td>0</td>\n",
              "      <td>0</td>\n",
              "      <td>0</td>\n",
              "      <td>0</td>\n",
              "      <td>0</td>\n",
              "      <td>0</td>\n",
              "      <td>0</td>\n",
              "      <td>0</td>\n",
              "      <td>0</td>\n",
              "      <td>0</td>\n",
              "    </tr>\n",
              "    <tr>\n",
              "      <th>641192</th>\n",
              "      <td>520172</td>\n",
              "      <td>0</td>\n",
              "      <td>9</td>\n",
              "      <td>6.0</td>\n",
              "      <td>3</td>\n",
              "      <td>4</td>\n",
              "      <td>6.0</td>\n",
              "      <td>1</td>\n",
              "      <td>0</td>\n",
              "      <td>0</td>\n",
              "      <td>0</td>\n",
              "      <td>0</td>\n",
              "      <td>0</td>\n",
              "      <td>0</td>\n",
              "      <td>0</td>\n",
              "      <td>0</td>\n",
              "      <td>0</td>\n",
              "      <td>0</td>\n",
              "      <td>0</td>\n",
              "      <td>0</td>\n",
              "      <td>0</td>\n",
              "      <td>0</td>\n",
              "      <td>0</td>\n",
              "      <td>0</td>\n",
              "      <td>0</td>\n",
              "      <td>0</td>\n",
              "      <td>0</td>\n",
              "      <td>0</td>\n",
              "      <td>0</td>\n",
              "    </tr>\n",
              "    <tr>\n",
              "      <th>983124</th>\n",
              "      <td>520176</td>\n",
              "      <td>0</td>\n",
              "      <td>18</td>\n",
              "      <td>6.0</td>\n",
              "      <td>1</td>\n",
              "      <td>7</td>\n",
              "      <td>6.0</td>\n",
              "      <td>1</td>\n",
              "      <td>0</td>\n",
              "      <td>0</td>\n",
              "      <td>0</td>\n",
              "      <td>0</td>\n",
              "      <td>0</td>\n",
              "      <td>0</td>\n",
              "      <td>0</td>\n",
              "      <td>0</td>\n",
              "      <td>0</td>\n",
              "      <td>0</td>\n",
              "      <td>0</td>\n",
              "      <td>0</td>\n",
              "      <td>0</td>\n",
              "      <td>0</td>\n",
              "      <td>0</td>\n",
              "      <td>0</td>\n",
              "      <td>0</td>\n",
              "      <td>0</td>\n",
              "      <td>0</td>\n",
              "      <td>0</td>\n",
              "      <td>9161901</td>\n",
              "    </tr>\n",
              "    <tr>\n",
              "      <th>276392</th>\n",
              "      <td>520181</td>\n",
              "      <td>5080089</td>\n",
              "      <td>16</td>\n",
              "      <td>6.0</td>\n",
              "      <td>1</td>\n",
              "      <td>8</td>\n",
              "      <td>6.0</td>\n",
              "      <td>0</td>\n",
              "      <td>0</td>\n",
              "      <td>1</td>\n",
              "      <td>0</td>\n",
              "      <td>0</td>\n",
              "      <td>0</td>\n",
              "      <td>0</td>\n",
              "      <td>0</td>\n",
              "      <td>0</td>\n",
              "      <td>0</td>\n",
              "      <td>0</td>\n",
              "      <td>0</td>\n",
              "      <td>0</td>\n",
              "      <td>0</td>\n",
              "      <td>0</td>\n",
              "      <td>0</td>\n",
              "      <td>0</td>\n",
              "      <td>0</td>\n",
              "      <td>0</td>\n",
              "      <td>0</td>\n",
              "      <td>0</td>\n",
              "      <td>0</td>\n",
              "    </tr>\n",
              "  </tbody>\n",
              "</table>\n",
              "<p>866880 rows × 29 columns</p>\n",
              "</div>"
            ],
            "text/plain": [
              "        Customer_ID  Store_ID  Dwell_Time  Day  Sequence_Num  Category_ID  \\\n",
              "0                26         0          35  0.0             1           14   \n",
              "280254           29   5079256          27  0.0             1            8   \n",
              "368274           30         0           9  0.0             1            8   \n",
              "443955           31         0          44  0.0             1           15   \n",
              "172484           32   5080089          45  0.0             1            8   \n",
              "...             ...       ...         ...  ...           ...          ...   \n",
              "530343       520172   7614638           6  6.0             1            6   \n",
              "441935       520172   9709631          51  6.0             2            8   \n",
              "641192       520172         0           9  6.0             3            4   \n",
              "983124       520176         0          18  6.0             1            7   \n",
              "276392       520181   5080089          16  6.0             1            8   \n",
              "\n",
              "        Month  0  2  5080089  5079256  9709631  5079942  9133379  9535992  \\\n",
              "0         1.0  1  0        0        0        0        0        0        0   \n",
              "280254    1.0  0  0        0        1        0        0        0        0   \n",
              "368274    1.0  1  0        0        0        0        0        0        0   \n",
              "443955    1.0  1  0        0        0        0        0        0        0   \n",
              "172484    1.0  0  0        1        0        0        0        0        0   \n",
              "...       ... .. ..      ...      ...      ...      ...      ...      ...   \n",
              "530343    6.0  0  0        0        0        0        0        0        0   \n",
              "441935    6.0  0  0        0        0        1        0        0        0   \n",
              "641192    6.0  1  0        0        0        0        0        0        0   \n",
              "983124    6.0  1  0        0        0        0        0        0        0   \n",
              "276392    6.0  0  0        1        0        0        0        0        0   \n",
              "\n",
              "        7614638  9161901  9399994  5163221  9678070  5079221  5163159  \\\n",
              "0             0        0        0        0        0        0        0   \n",
              "280254        0        0        0        0        0        0        0   \n",
              "368274        0        0        0        0        0        0        0   \n",
              "443955        0        0        0        0        0        0        0   \n",
              "172484        0        0        0        0        0        0        0   \n",
              "...         ...      ...      ...      ...      ...      ...      ...   \n",
              "530343        1        0        0        0        0        0        0   \n",
              "441935        0        0        0        0        0        0        0   \n",
              "641192        0        0        0        0        0        0        0   \n",
              "983124        0        0        0        0        0        0        0   \n",
              "276392        0        0        0        0        0        0        0   \n",
              "\n",
              "        5115739  9367511  5078552  5079150  5163351  5078721   Target  \n",
              "0             0        0        0        0        0        0        0  \n",
              "280254        0        0        0        0        0        0  5080089  \n",
              "368274        0        0        0        0        0        0  9709631  \n",
              "443955        0        0        0        0        0        0  5079256  \n",
              "172484        0        0        0        0        0        0        2  \n",
              "...         ...      ...      ...      ...      ...      ...      ...  \n",
              "530343        0        0        0        0        0        0  9709631  \n",
              "441935        0        0        0        0        0        0        0  \n",
              "641192        0        0        0        0        0        0        0  \n",
              "983124        0        0        0        0        0        0  9161901  \n",
              "276392        0        0        0        0        0        0        0  \n",
              "\n",
              "[866880 rows x 29 columns]"
            ]
          },
          "metadata": {
            "tags": []
          },
          "execution_count": 82
        }
      ]
    },
    {
      "cell_type": "markdown",
      "metadata": {
        "colab_type": "text",
        "id": "URmVoaraygTD"
      },
      "source": [
        "Now we will track the sequence of stores as the customer moves from one store to the next. The sequence would reset as the customer leaves the store."
      ]
    },
    {
      "cell_type": "code",
      "metadata": {
        "colab_type": "code",
        "id": "MYCV-FXluo8w",
        "colab": {}
      },
      "source": [
        "df_sequence = df_no_exit_w_seq.groupby(by=['Day','Month','Customer_ID'])[class_num_to_list[20]].cumsum(axis=0) # Tracking the sequence using cumalative sum\n",
        "df_no_exit_w_seq.drop(columns=class_num_to_list[20],axis=0,inplace=True)\n",
        "df_no_exit_w_seq = df_no_exit_w_seq.merge(df_sequence,how='inner',left_index=True,right_index=True)"
      ],
      "execution_count": 0,
      "outputs": []
    },
    {
      "cell_type": "markdown",
      "metadata": {
        "colab_type": "text",
        "id": "ImPiEAnyzS_5"
      },
      "source": [
        "Performing a Stratfied shuffle split to make sure the distribution between train and test set remains the same as we split it to get the dataset ready for training a model"
      ]
    },
    {
      "cell_type": "code",
      "metadata": {
        "colab_type": "code",
        "id": "0pzi3w2RyM_F",
        "colab": {}
      },
      "source": [
        "split = StratifiedShuffleSplit(n_splits=2, test_size=0.2, random_state=1)\n",
        "\n",
        "for train_index, test_index in split.split(df_no_exit_w_seq, df_no_exit_w_seq['Target']):\n",
        "  strat_train_stores = df_no_exit_w_seq.iloc[train_index]\n",
        "  strat_test_stores = df_no_exit_w_seq.iloc[test_index]"
      ],
      "execution_count": 0,
      "outputs": []
    },
    {
      "cell_type": "code",
      "metadata": {
        "colab_type": "code",
        "id": "hSP7o0D6zg_o",
        "outputId": "13a1f6ee-f8eb-449f-bcf8-9f3a890b2f70",
        "colab": {
          "base_uri": "https://localhost:8080/",
          "height": 416
        }
      },
      "source": [
        "ax = sns.catplot(x=\"Store_ID\", kind=\"count\", palette=\"ch:.25\", data=strat_train_stores,height=5, aspect=2)\n",
        "ax.set_xticklabels( rotation=45, horizontalalignment='right')"
      ],
      "execution_count": 0,
      "outputs": [
        {
          "output_type": "execute_result",
          "data": {
            "text/plain": [
              "<seaborn.axisgrid.FacetGrid at 0x7fc407abdc18>"
            ]
          },
          "metadata": {
            "tags": []
          },
          "execution_count": 85
        },
        {
          "output_type": "display_data",
          "data": {
            "image/png": "[encoded data removed]",
            "text/plain": [
              "<Figure size 720x360 with 1 Axes>"
            ]
          },
          "metadata": {
            "tags": []
          }
        }
      ]
    },
    {
      "cell_type": "markdown",
      "metadata": {
        "colab_type": "text",
        "id": "bPtOVP3Izvlr"
      },
      "source": [
        "The distribution of 'other' stores is highly skewed and during training there would be a risk off overfitting on the majority class. As a result we will perform downsampling on the training data. We have wnough number of instances for us to downsample the data. We will resample without replacement and reduce the sample of overweighted class to match one of the minority class"
      ]
    },
    {
      "cell_type": "code",
      "metadata": {
        "colab_type": "code",
        "id": "KzgKEzTozsu9",
        "colab": {}
      },
      "source": [
        "df_majority = strat_train_stores[strat_train_stores['Target']==0]\n",
        "df_minority = strat_train_stores[strat_train_stores['Target']==class_num_to_list[20][-1]]\n",
        "\n",
        "\n",
        "df_majority_downsampled = resample(df_majority, \n",
        "                                 replace=False,     \n",
        "                                 n_samples=len(df_minority),   \n",
        "                                 random_state=42) "
      ],
      "execution_count": 0,
      "outputs": []
    },
    {
      "cell_type": "code",
      "metadata": {
        "colab_type": "code",
        "id": "L0ULRgp-0m1B",
        "colab": {}
      },
      "source": [
        "strat_train_stores = strat_train_stores[strat_train_stores['Target']!=0]\n",
        "strat_train_stores = pd.concat([df_majority_downsampled, strat_train_stores])\n",
        "strat_train_stores = shuffle(strat_train_stores)"
      ],
      "execution_count": 0,
      "outputs": []
    },
    {
      "cell_type": "code",
      "metadata": {
        "colab_type": "code",
        "id": "O72xKhBF045W",
        "outputId": "971d9d7d-9a2a-4b6e-c48c-377523b26576",
        "colab": {
          "base_uri": "https://localhost:8080/",
          "height": 416
        }
      },
      "source": [
        "ax = sns.catplot(x=\"Target\", kind=\"count\", palette=\"ch:.25\", data=strat_train_stores,height=5, aspect=2)\n",
        "ax.set_xticklabels( rotation=45, horizontalalignment='right')"
      ],
      "execution_count": 0,
      "outputs": [
        {
          "output_type": "execute_result",
          "data": {
            "text/plain": [
              "<seaborn.axisgrid.FacetGrid at 0x7fc407aaceb8>"
            ]
          },
          "metadata": {
            "tags": []
          },
          "execution_count": 88
        },
        {
          "output_type": "display_data",
          "data": {
            "image/png": "[encoded data removed]",
            "text/plain": [
              "<Figure size 720x360 with 1 Axes>"
            ]
          },
          "metadata": {
            "tags": []
          }
        }
      ]
    },
    {
      "cell_type": "code",
      "metadata": {
        "id": "UixRxXGQhita",
        "colab_type": "code",
        "outputId": "7566d652-e491-4308-cef2-c2d835abc268",
        "colab": {
          "base_uri": "https://localhost:8080/",
          "height": 449
        }
      },
      "source": [
        "#train & test features\n",
        "train_test_features = ['Day','Month','Dwell_Time',0]\n",
        "train_test_features.extend(class_num_to_list[20])\n",
        "train_test_features\n"
      ],
      "execution_count": 0,
      "outputs": [
        {
          "output_type": "execute_result",
          "data": {
            "text/plain": [
              "['Day',\n",
              " 'Month',\n",
              " 'Dwell_Time',\n",
              " 0,\n",
              " 2,\n",
              " 5080089,\n",
              " 5079256,\n",
              " 9709631,\n",
              " 5079942,\n",
              " 9133379,\n",
              " 9535992,\n",
              " 7614638,\n",
              " 9161901,\n",
              " 9399994,\n",
              " 5163221,\n",
              " 9678070,\n",
              " 5079221,\n",
              " 5163159,\n",
              " 5115739,\n",
              " 9367511,\n",
              " 5078552,\n",
              " 5079150,\n",
              " 5163351,\n",
              " 5078721]"
            ]
          },
          "metadata": {
            "tags": []
          },
          "execution_count": 92
        }
      ]
    },
    {
      "cell_type": "markdown",
      "metadata": {
        "colab_type": "text",
        "id": "0dU6Xikc2FgC"
      },
      "source": [
        "Splitting the data set into test/train. Also extracting the target column out for training the model"
      ]
    },
    {
      "cell_type": "code",
      "metadata": {
        "colab_type": "code",
        "id": "ayVWv5Rk1PpF",
        "colab": {}
      },
      "source": [
        "\n",
        "\n",
        "\n",
        "X_train_store = strat_train_stores[train_test_features]\n",
        "y_train_store = strat_train_stores[['Target']]\n",
        "X_test_store = strat_test_stores[train_test_features]\n",
        "y_test_store = strat_test_stores[['Target']]"
      ],
      "execution_count": 0,
      "outputs": []
    },
    {
      "cell_type": "markdown",
      "metadata": {
        "colab_type": "text",
        "id": "YrX5AqdF2RON"
      },
      "source": [
        "Training a Random Forest Classfier "
      ]
    },
    {
      "cell_type": "code",
      "metadata": {
        "colab_type": "code",
        "id": "DhtMZwAo07tj",
        "outputId": "abd02630-4788-406a-b919-7d33ba2b29d8",
        "colab": {
          "base_uri": "https://localhost:8080/",
          "height": 199
        }
      },
      "source": [
        "rnd_clf = RandomForestClassifier(n_estimators=500, max_depth=25,n_jobs=-1,random_state=15,criterion='entropy')\n",
        "rnd_clf.fit(X_train_store,y_train_store)"
      ],
      "execution_count": 0,
      "outputs": [
        {
          "output_type": "stream",
          "text": [
            "/usr/local/lib/python3.6/dist-packages/ipykernel_launcher.py:2: DataConversionWarning: A column-vector y was passed when a 1d array was expected. Please change the shape of y to (n_samples,), for example using ravel().\n",
            "  \n"
          ],
          "name": "stderr"
        },
        {
          "output_type": "execute_result",
          "data": {
            "text/plain": [
              "RandomForestClassifier(bootstrap=True, class_weight=None, criterion='entropy',\n",
              "                       max_depth=25, max_features='auto', max_leaf_nodes=None,\n",
              "                       min_impurity_decrease=0.0, min_impurity_split=None,\n",
              "                       min_samples_leaf=1, min_samples_split=2,\n",
              "                       min_weight_fraction_leaf=0.0, n_estimators=500,\n",
              "                       n_jobs=-1, oob_score=False, random_state=15, verbose=0,\n",
              "                       warm_start=False)"
            ]
          },
          "metadata": {
            "tags": []
          },
          "execution_count": 91
        }
      ]
    },
    {
      "cell_type": "code",
      "metadata": {
        "colab_type": "code",
        "id": "1iEtcxI12ZCA",
        "colab": {}
      },
      "source": [
        "y_pred_stores = rnd_clf.predict(X_test_store)"
      ],
      "execution_count": 0,
      "outputs": []
    },
    {
      "cell_type": "code",
      "metadata": {
        "colab_type": "code",
        "id": "4Kh2J__YXC4E",
        "outputId": "0e155ddc-2291-488c-fed0-a65986042868",
        "colab": {
          "base_uri": "https://localhost:8080/",
          "height": 35
        }
      },
      "source": [
        "f1 = f1_score(y_test_store, y_pred_stores,average='macro')\n",
        "print(\"Test set F1-Score: \", '%.3f'%(f1))"
      ],
      "execution_count": 0,
      "outputs": [
        {
          "output_type": "stream",
          "text": [
            "Test set F1-Score:  0.263\n"
          ],
          "name": "stdout"
        }
      ]
    },
    {
      "cell_type": "code",
      "metadata": {
        "colab_type": "code",
        "id": "RVmFBd7N2h-u",
        "outputId": "191b3af8-9f9a-48f6-9b58-4752f8544eb4",
        "colab": {
          "base_uri": "https://localhost:8080/",
          "height": 521
        }
      },
      "source": [
        "\n",
        "print(classification_report(y_test_store,y_pred_stores))"
      ],
      "execution_count": 0,
      "outputs": [
        {
          "output_type": "stream",
          "text": [
            "              precision    recall  f1-score   support\n",
            "\n",
            "           0       0.61      0.00      0.00     97808\n",
            "           2       0.14      0.80      0.25     17164\n",
            "     5078552       0.31      0.20      0.25      1490\n",
            "     5078721       0.29      0.37      0.33      1418\n",
            "     5079150       0.23      0.17      0.20      1435\n",
            "     5079221       0.34      0.15      0.21      2134\n",
            "     5079256       0.21      0.56      0.31      8394\n",
            "     5079942       0.74      0.80      0.77      3297\n",
            "     5080089       0.18      0.48      0.27      9173\n",
            "     5115739       0.15      0.05      0.07      1869\n",
            "     5163159       0.12      0.04      0.06      1894\n",
            "     5163221       0.25      0.11      0.15      2183\n",
            "     5163351       0.26      0.20      0.22      1426\n",
            "     7614638       0.36      0.47      0.41      2785\n",
            "     9133379       0.17      0.06      0.09      3184\n",
            "     9161901       0.28      0.15      0.20      2538\n",
            "     9367511       0.75      0.74      0.74      1496\n",
            "     9399994       0.25      0.07      0.12      2384\n",
            "     9535992       0.27      0.32      0.29      2841\n",
            "     9678070       0.32      0.10      0.15      2158\n",
            "     9709631       0.39      0.51      0.44      6305\n",
            "\n",
            "    accuracy                           0.20    173376\n",
            "   macro avg       0.32      0.30      0.26    173376\n",
            "weighted avg       0.46      0.20      0.13    173376\n",
            "\n"
          ],
          "name": "stdout"
        }
      ]
    },
    {
      "cell_type": "markdown",
      "metadata": {
        "colab_type": "text",
        "id": "3DF7-tMycNHx"
      },
      "source": [
        "We can extract the importance of our feature set as shown below. Higher the importance greater the feature plays a role in classifying the different classes"
      ]
    },
    {
      "cell_type": "code",
      "metadata": {
        "colab_type": "code",
        "id": "LCP8l5Hp3Ork",
        "outputId": "6928e03e-b6db-4467-f893-91b8c565c21c",
        "colab": {
          "base_uri": "https://localhost:8080/",
          "height": 793
        }
      },
      "source": [
        "cols = X_train_store.columns\n",
        "feature_importance_all = rnd_clf.feature_importances_\n",
        "feature_importance = {}\n",
        "for i in  range(len(cols)):\n",
        "    feature_importance[cols[i]] = feature_importance_all[i]\n",
        "\n",
        "feature_import =  pd.DataFrame.from_dict(feature_importance, \n",
        "                                         orient = 'index',columns=['Importance'])\n",
        "feature_import.sort_values(by='Importance',ascending=False)"
      ],
      "execution_count": 0,
      "outputs": [
        {
          "output_type": "execute_result",
          "data": {
            "text/html": [
              "<div>\n",
              "<style scoped>\n",
              "    .dataframe tbody tr th:only-of-type {\n",
              "        vertical-align: middle;\n",
              "    }\n",
              "\n",
              "    .dataframe tbody tr th {\n",
              "        vertical-align: top;\n",
              "    }\n",
              "\n",
              "    .dataframe thead th {\n",
              "        text-align: right;\n",
              "    }\n",
              "</style>\n",
              "<table border=\"1\" class=\"dataframe\">\n",
              "  <thead>\n",
              "    <tr style=\"text-align: right;\">\n",
              "      <th></th>\n",
              "      <th>Importance</th>\n",
              "    </tr>\n",
              "  </thead>\n",
              "  <tbody>\n",
              "    <tr>\n",
              "      <th>Dwell_Time</th>\n",
              "      <td>0.123092</td>\n",
              "    </tr>\n",
              "    <tr>\n",
              "      <th>5079942</th>\n",
              "      <td>0.103418</td>\n",
              "    </tr>\n",
              "    <tr>\n",
              "      <th>0</th>\n",
              "      <td>0.081261</td>\n",
              "    </tr>\n",
              "    <tr>\n",
              "      <th>5079256</th>\n",
              "      <td>0.079300</td>\n",
              "    </tr>\n",
              "    <tr>\n",
              "      <th>9709631</th>\n",
              "      <td>0.064241</td>\n",
              "    </tr>\n",
              "    <tr>\n",
              "      <th>7614638</th>\n",
              "      <td>0.064003</td>\n",
              "    </tr>\n",
              "    <tr>\n",
              "      <th>Day</th>\n",
              "      <td>0.063662</td>\n",
              "    </tr>\n",
              "    <tr>\n",
              "      <th>Month</th>\n",
              "      <td>0.058905</td>\n",
              "    </tr>\n",
              "    <tr>\n",
              "      <th>9367511</th>\n",
              "      <td>0.051146</td>\n",
              "    </tr>\n",
              "    <tr>\n",
              "      <th>5080089</th>\n",
              "      <td>0.049490</td>\n",
              "    </tr>\n",
              "    <tr>\n",
              "      <th>2</th>\n",
              "      <td>0.047260</td>\n",
              "    </tr>\n",
              "    <tr>\n",
              "      <th>9535992</th>\n",
              "      <td>0.034360</td>\n",
              "    </tr>\n",
              "    <tr>\n",
              "      <th>5078721</th>\n",
              "      <td>0.030626</td>\n",
              "    </tr>\n",
              "    <tr>\n",
              "      <th>5079221</th>\n",
              "      <td>0.020147</td>\n",
              "    </tr>\n",
              "    <tr>\n",
              "      <th>5079150</th>\n",
              "      <td>0.019025</td>\n",
              "    </tr>\n",
              "    <tr>\n",
              "      <th>5163351</th>\n",
              "      <td>0.017984</td>\n",
              "    </tr>\n",
              "    <tr>\n",
              "      <th>5078552</th>\n",
              "      <td>0.017198</td>\n",
              "    </tr>\n",
              "    <tr>\n",
              "      <th>5163221</th>\n",
              "      <td>0.016162</td>\n",
              "    </tr>\n",
              "    <tr>\n",
              "      <th>9133379</th>\n",
              "      <td>0.015376</td>\n",
              "    </tr>\n",
              "    <tr>\n",
              "      <th>9161901</th>\n",
              "      <td>0.014892</td>\n",
              "    </tr>\n",
              "    <tr>\n",
              "      <th>9678070</th>\n",
              "      <td>0.012360</td>\n",
              "    </tr>\n",
              "    <tr>\n",
              "      <th>9399994</th>\n",
              "      <td>0.009347</td>\n",
              "    </tr>\n",
              "    <tr>\n",
              "      <th>5163159</th>\n",
              "      <td>0.004541</td>\n",
              "    </tr>\n",
              "    <tr>\n",
              "      <th>5115739</th>\n",
              "      <td>0.002202</td>\n",
              "    </tr>\n",
              "  </tbody>\n",
              "</table>\n",
              "</div>"
            ],
            "text/plain": [
              "            Importance\n",
              "Dwell_Time    0.123092\n",
              "5079942       0.103418\n",
              "0             0.081261\n",
              "5079256       0.079300\n",
              "9709631       0.064241\n",
              "7614638       0.064003\n",
              "Day           0.063662\n",
              "Month         0.058905\n",
              "9367511       0.051146\n",
              "5080089       0.049490\n",
              "2             0.047260\n",
              "9535992       0.034360\n",
              "5078721       0.030626\n",
              "5079221       0.020147\n",
              "5079150       0.019025\n",
              "5163351       0.017984\n",
              "5078552       0.017198\n",
              "5163221       0.016162\n",
              "9133379       0.015376\n",
              "9161901       0.014892\n",
              "9678070       0.012360\n",
              "9399994       0.009347\n",
              "5163159       0.004541\n",
              "5115739       0.002202"
            ]
          },
          "metadata": {
            "tags": []
          },
          "execution_count": 96
        }
      ]
    },
    {
      "cell_type": "markdown",
      "metadata": {
        "colab_type": "text",
        "id": "O_CdNi8kzHI_"
      },
      "source": [
        "# One more added signal by tracking the dwell time as the customer moves from one store to the next"
      ]
    },
    {
      "cell_type": "code",
      "metadata": {
        "colab_type": "code",
        "id": "ueDmsSRPZrPk",
        "colab": {}
      },
      "source": [
        "df_extra_dwell = df_no_exit.pivot_table(values=['Dwell_Time'],index=['DateTime','Customer_ID','Sequence_Num'],columns=['Store_ID']).fillna(0).sort_values(by=['Customer_ID'])\n",
        "df_extra_dwell.reset_index(inplace = True)"
      ],
      "execution_count": 0,
      "outputs": []
    },
    {
      "cell_type": "code",
      "metadata": {
        "colab_type": "code",
        "id": "Q3X6ReDddKaA",
        "outputId": "7fa15942-c7bb-43c2-bcfc-93501af99ae9",
        "colab": {
          "base_uri": "https://localhost:8080/",
          "height": 109
        }
      },
      "source": [
        "df_no_exit_dwell = df_no_exit_w_seq.merge(df_extra_dwell,how='inner', on='Customer_ID')"
      ],
      "execution_count": 0,
      "outputs": [
        {
          "output_type": "stream",
          "text": [
            "/usr/local/lib/python3.6/dist-packages/pandas/core/reshape/merge.py:617: UserWarning: merging between different levels can give an unintended result (1 levels on the left, 2 on the right)\n",
            "  warnings.warn(msg, UserWarning)\n",
            "/usr/local/lib/python3.6/dist-packages/pandas/core/generic.py:3946: PerformanceWarning: dropping on a non-lexsorted multi-index without a level parameter may impact performance.\n",
            "  new_axis = axis.drop(labels, errors=errors)\n"
          ],
          "name": "stderr"
        }
      ]
    },
    {
      "cell_type": "code",
      "metadata": {
        "colab_type": "code",
        "id": "h7QTSH3fdKBs",
        "colab": {}
      },
      "source": [
        "split = StratifiedShuffleSplit(n_splits=2, test_size=0.2, random_state=1)\n",
        "\n",
        "for train_index, test_index in split.split(df_no_exit_dwell, df_no_exit_dwell['Target']):\n",
        "  strat_train_stores = df_no_exit_dwell.iloc[train_index]\n",
        "  strat_test_stores = df_no_exit_dwell.iloc[test_index]"
      ],
      "execution_count": 0,
      "outputs": []
    },
    {
      "cell_type": "code",
      "metadata": {
        "colab_type": "code",
        "id": "7-YDH_ET02RI",
        "outputId": "83750f4e-30dd-4294-edb7-d0e3e048b8bf",
        "colab": {
          "base_uri": "https://localhost:8080/",
          "height": 416
        }
      },
      "source": [
        "ax = sns.catplot(x=\"Store_ID\", kind=\"count\", palette=\"ch:.25\", data=strat_train_stores,height=5, aspect=2)\n",
        "ax.set_xticklabels( rotation=45, horizontalalignment='right')"
      ],
      "execution_count": 0,
      "outputs": [
        {
          "output_type": "execute_result",
          "data": {
            "text/plain": [
              "<seaborn.axisgrid.FacetGrid at 0x7fc4b47c5c18>"
            ]
          },
          "metadata": {
            "tags": []
          },
          "execution_count": 101
        },
        {
          "output_type": "display_data",
          "data": {
            "image/png": "[encoded data removed]",
            "text/plain": [
              "<Figure size 720x360 with 1 Axes>"
            ]
          },
          "metadata": {
            "tags": []
          }
        }
      ]
    },
    {
      "cell_type": "code",
      "metadata": {
        "colab_type": "code",
        "id": "5LIcr48R02JZ",
        "colab": {}
      },
      "source": [
        "df_majority = strat_train_stores[strat_train_stores['Target']==0]\n",
        "df_minority = strat_train_stores[strat_train_stores['Target']==class_num_to_list[20][-1]]\n",
        "\n",
        "\n",
        "df_majority_downsampled = resample(df_majority, \n",
        "                                 replace=False,     \n",
        "                                 n_samples=len(df_minority),   \n",
        "                                 random_state=42) "
      ],
      "execution_count": 0,
      "outputs": []
    },
    {
      "cell_type": "code",
      "metadata": {
        "id": "-gbr1aO3unw4",
        "colab_type": "code",
        "colab": {}
      },
      "source": [
        ""
      ],
      "execution_count": 0,
      "outputs": []
    },
    {
      "cell_type": "code",
      "metadata": {
        "colab_type": "code",
        "id": "fLJALMfj02E6",
        "colab": {}
      },
      "source": [
        "strat_train_stores = strat_train_stores[strat_train_stores['Target']!=0]\n",
        "strat_train_stores = pd.concat([df_majority_downsampled, strat_train_stores])\n",
        "strat_train_stores = shuffle(strat_train_stores)"
      ],
      "execution_count": 0,
      "outputs": []
    },
    {
      "cell_type": "code",
      "metadata": {
        "colab_type": "code",
        "id": "7H474ECP01_i",
        "colab": {}
      },
      "source": [
        "train_test_features = ['Day','Category_ID','Month',0]\n",
        "train_test_features.extend(class_num_to_list[20])\n",
        "#for i in len(class_num_to_list[20]):\n",
        "#  tup_temp = ()\n",
        "dwell_zzz = ['Dwell_Time']*len(class_num_to_list[20])\n",
        "dwell_cols = list(zip(dwell_zzz,class_num_to_list[20]))\n",
        "train_test_features.extend(dwell_cols)\n",
        "train_test_features\n",
        "\n",
        "\n",
        "X_train_store = strat_train_stores[train_test_features]\n",
        "y_train_store = strat_train_stores[['Target']]\n",
        "X_test_store = strat_test_stores[train_test_features]\n",
        "y_test_store = strat_test_stores[['Target']]\n",
        "\n",
        "# original    X_train_store = strat_train_stores[['Day','Category_ID','Month', 0,2,5079256,5079942,5080089,9709631,('Dwell_Time', 0),('Dwell_Time', 2),('Dwell_Time', 5079256), ('Dwell_Time', 5079942),('Dwell_Time', 5080089), ('Dwell_Time', 9709631)]]\n",
        "# original    y_train_store = strat_train_stores[['Target']]\n",
        "# original    X_test_store = strat_test_stores[['Day','Category_ID','Month', 0,2,5079256,5079942,5080089,9709631,('Dwell_Time', 0),('Dwell_Time', 2),('Dwell_Time', 5079256), ('Dwell_Time', 5079942),('Dwell_Time', 5080089), ('Dwell_Time', 9709631)]]\n",
        "# original    y_test_store = strat_test_stores[['Target']]"
      ],
      "execution_count": 0,
      "outputs": []
    },
    {
      "cell_type": "code",
      "metadata": {
        "id": "vzdo8nWlu5t1",
        "colab_type": "code",
        "outputId": "d9a2d1bb-22a6-43b9-d426-5bdbd90feb26",
        "colab": {
          "base_uri": "https://localhost:8080/",
          "height": 809
        }
      },
      "source": [
        "train_test_features"
      ],
      "execution_count": 0,
      "outputs": [
        {
          "output_type": "execute_result",
          "data": {
            "text/plain": [
              "['Day',\n",
              " 'Category_ID',\n",
              " 'Month',\n",
              " 0,\n",
              " 2,\n",
              " 5080089,\n",
              " 5079256,\n",
              " 9709631,\n",
              " 5079942,\n",
              " 9133379,\n",
              " 9535992,\n",
              " 7614638,\n",
              " 9161901,\n",
              " 9399994,\n",
              " 5163221,\n",
              " 9678070,\n",
              " 5079221,\n",
              " 5163159,\n",
              " 5115739,\n",
              " 9367511,\n",
              " 5078552,\n",
              " 5079150,\n",
              " 5163351,\n",
              " 5078721,\n",
              " ('Dwell_Time', 2),\n",
              " ('Dwell_Time', 5080089),\n",
              " ('Dwell_Time', 5079256),\n",
              " ('Dwell_Time', 9709631),\n",
              " ('Dwell_Time', 5079942),\n",
              " ('Dwell_Time', 9133379),\n",
              " ('Dwell_Time', 9535992),\n",
              " ('Dwell_Time', 7614638),\n",
              " ('Dwell_Time', 9161901),\n",
              " ('Dwell_Time', 9399994),\n",
              " ('Dwell_Time', 5163221),\n",
              " ('Dwell_Time', 9678070),\n",
              " ('Dwell_Time', 5079221),\n",
              " ('Dwell_Time', 5163159),\n",
              " ('Dwell_Time', 5115739),\n",
              " ('Dwell_Time', 9367511),\n",
              " ('Dwell_Time', 5078552),\n",
              " ('Dwell_Time', 5079150),\n",
              " ('Dwell_Time', 5163351),\n",
              " ('Dwell_Time', 5078721)]"
            ]
          },
          "metadata": {
            "tags": []
          },
          "execution_count": 105
        }
      ]
    },
    {
      "cell_type": "code",
      "metadata": {
        "colab_type": "code",
        "id": "5dU7YqiN1Xzx",
        "outputId": "0c384274-3d68-4a1f-8c30-35854abad582",
        "colab": {
          "base_uri": "https://localhost:8080/",
          "height": 73
        }
      },
      "source": [
        "rnd_clf = RandomForestClassifier(n_estimators=500, max_depth=25,n_jobs=-1,random_state=15,criterion='entropy')\n",
        "rnd_clf.fit(X_train_store,y_train_store)"
      ],
      "execution_count": 0,
      "outputs": [
        {
          "output_type": "stream",
          "text": [
            "/usr/local/lib/python3.6/dist-packages/ipykernel_launcher.py:2: DataConversionWarning: A column-vector y was passed when a 1d array was expected. Please change the shape of y to (n_samples,), for example using ravel().\n",
            "  \n"
          ],
          "name": "stderr"
        }
      ]
    },
    {
      "cell_type": "code",
      "metadata": {
        "colab_type": "code",
        "id": "aaNCzVZW1Xu7",
        "outputId": "0dac8b77-09ef-421b-9ae3-b17f7a271ae1",
        "colab": {
          "base_uri": "https://localhost:8080/",
          "height": 169
        }
      },
      "source": [
        "y_pred_stores = rnd_clf.predict(X_test_store)"
      ],
      "execution_count": 0,
      "outputs": [
        {
          "output_type": "error",
          "ename": "NameError",
          "evalue": "ignored",
          "traceback": [
            "\u001b[0;31m---------------------------------------------------------------------------\u001b[0m",
            "\u001b[0;31mNameError\u001b[0m                                 Traceback (most recent call last)",
            "\u001b[0;32m<ipython-input-1-3e98df111a6a>\u001b[0m in \u001b[0;36m<module>\u001b[0;34m()\u001b[0m\n\u001b[0;32m----> 1\u001b[0;31m \u001b[0my_pred_stores\u001b[0m \u001b[0;34m=\u001b[0m \u001b[0mrnd_clf\u001b[0m\u001b[0;34m.\u001b[0m\u001b[0mpredict\u001b[0m\u001b[0;34m(\u001b[0m\u001b[0mX_test_store\u001b[0m\u001b[0;34m)\u001b[0m\u001b[0;34m\u001b[0m\u001b[0;34m\u001b[0m\u001b[0m\n\u001b[0m",
            "\u001b[0;31mNameError\u001b[0m: name 'rnd_clf' is not defined"
          ]
        }
      ]
    },
    {
      "cell_type": "code",
      "metadata": {
        "colab_type": "code",
        "id": "kLuSmxs71Xql",
        "outputId": "14a54979-5df4-48bf-8fa2-9aee1a14a948",
        "colab": {
          "base_uri": "https://localhost:8080/",
          "height": 34
        }
      },
      "source": [
        "f1 = f1_score(y_test_store, y_pred_stores,average='macro')\n",
        "print(\"Test set F1-Score: \", '%.3f'%(f1))"
      ],
      "execution_count": 0,
      "outputs": [
        {
          "output_type": "stream",
          "text": [
            "Test set F1-Score:  0.357\n"
          ],
          "name": "stdout"
        }
      ]
    },
    {
      "cell_type": "code",
      "metadata": {
        "colab_type": "code",
        "id": "es2_U5Bt1Xlr",
        "outputId": "fbac2946-f6a7-42d2-ed95-7182d5cddb57",
        "colab": {
          "base_uri": "https://localhost:8080/",
          "height": 238
        }
      },
      "source": [
        "\n",
        "print(classification_report(y_test_store,y_pred_stores))"
      ],
      "execution_count": 0,
      "outputs": [
        {
          "output_type": "stream",
          "text": [
            "              precision    recall  f1-score   support\n",
            "\n",
            "           0       0.96      0.11      0.20    797748\n",
            "           2       0.16      0.82      0.27     95982\n",
            "     5079256       0.21      0.75      0.33     53311\n",
            "     5079942       0.56      0.87      0.68     21543\n",
            "     5080089       0.18      0.66      0.28     46553\n",
            "     9709631       0.26      0.62      0.37     29503\n",
            "\n",
            "    accuracy                           0.27   1044640\n",
            "   macro avg       0.39      0.64      0.36   1044640\n",
            "weighted avg       0.78      0.27      0.24   1044640\n",
            "\n"
          ],
          "name": "stdout"
        }
      ]
    },
    {
      "cell_type": "markdown",
      "metadata": {
        "colab_type": "text",
        "id": "JSEVdNdHBZd6"
      },
      "source": [
        "# Removing all customers who only go to one store and we do not have a history available"
      ]
    },
    {
      "cell_type": "code",
      "metadata": {
        "colab_type": "code",
        "id": "SRJSIClZ1XaK",
        "colab": {}
      },
      "source": [
        "df_two_or_more = df_no_exit_dwell[df_no_exit_dwell.duplicated('Customer_ID', keep= False)]"
      ],
      "execution_count": 0,
      "outputs": []
    },
    {
      "cell_type": "code",
      "metadata": {
        "colab_type": "code",
        "id": "-_zDoGzRtIVG",
        "colab": {}
      },
      "source": [
        "split = StratifiedShuffleSplit(n_splits=2, test_size=0.2, random_state=1)\n",
        "\n",
        "for train_index, test_index in split.split(df_two_or_more, df_two_or_more['Target']):\n",
        "  strat_train_stores = df_two_or_more.iloc[train_index]\n",
        "  strat_test_stores = df_two_or_more.iloc[test_index]"
      ],
      "execution_count": 0,
      "outputs": []
    },
    {
      "cell_type": "code",
      "metadata": {
        "colab_type": "code",
        "id": "oGIqTrWOB9qt",
        "outputId": "c66fe5be-9c97-4105-a35b-03b930865c12",
        "colab": {
          "base_uri": "https://localhost:8080/",
          "height": 415
        }
      },
      "source": [
        "ax = sns.catplot(x=\"Store_ID\", kind=\"count\", palette=\"ch:.25\", data=df_two_or_more,height=5, aspect=2)\n",
        "ax.set_xticklabels( rotation=45, horizontalalignment='right')"
      ],
      "execution_count": 0,
      "outputs": [
        {
          "output_type": "execute_result",
          "data": {
            "text/plain": [
              "<seaborn.axisgrid.FacetGrid at 0x7f386d3f6390>"
            ]
          },
          "metadata": {
            "tags": []
          },
          "execution_count": 54
        },
        {
          "output_type": "display_data",
          "data": {
            "image/png": "[encoded data removed]",
            "text/plain": [
              "<Figure size 720x360 with 1 Axes>"
            ]
          },
          "metadata": {
            "tags": []
          }
        }
      ]
    },
    {
      "cell_type": "code",
      "metadata": {
        "colab_type": "code",
        "id": "yrzX4rq1Cen_",
        "colab": {}
      },
      "source": [
        "df_majority = strat_train_stores[strat_train_stores['Target']==0]\n",
        "df_minority = strat_train_stores[strat_train_stores['Target']==5079942]\n",
        "\n",
        "\n",
        "df_majority_downsampled = resample(df_majority, \n",
        "                                 replace=False,     \n",
        "                                 n_samples=len(df_minority),   \n",
        "                                 random_state=42) "
      ],
      "execution_count": 0,
      "outputs": []
    },
    {
      "cell_type": "code",
      "metadata": {
        "colab_type": "code",
        "id": "ItXVQLTeCneY",
        "colab": {}
      },
      "source": [
        "strat_train_stores = strat_train_stores[strat_train_stores['Target']!=0]\n",
        "strat_train_stores = pd.concat([df_majority_downsampled, strat_train_stores])\n",
        "strat_train_stores = shuffle(strat_train_stores)"
      ],
      "execution_count": 0,
      "outputs": []
    },
    {
      "cell_type": "code",
      "metadata": {
        "colab_type": "code",
        "id": "FVHFmL5wCrUj",
        "colab": {}
      },
      "source": [
        "X_train_store = strat_train_stores[['Day','Category_ID','Month', 0,2,5079256,5079942,5080089,9709631,('Dwell_Time', 0),('Dwell_Time', 2),('Dwell_Time', 5079256), ('Dwell_Time', 5079942),('Dwell_Time', 5080089), ('Dwell_Time', 9709631)]]\n",
        "y_train_store = strat_train_stores[['Target']]\n",
        "X_test_store = strat_test_stores[['Day','Category_ID','Month', 0,2,5079256,5079942,5080089,9709631,('Dwell_Time', 0),('Dwell_Time', 2),('Dwell_Time', 5079256), ('Dwell_Time', 5079942),('Dwell_Time', 5080089), ('Dwell_Time', 9709631)]]\n",
        "y_test_store = strat_test_stores[['Target']]"
      ],
      "execution_count": 0,
      "outputs": []
    },
    {
      "cell_type": "code",
      "metadata": {
        "colab_type": "code",
        "id": "ZYQTOIQ5Cu9J",
        "outputId": "7c2c211e-7e13-4389-ec29-db1060b27295",
        "colab": {
          "base_uri": "https://localhost:8080/",
          "height": 170
        }
      },
      "source": [
        "rnd_clf = RandomForestClassifier(n_estimators=200, max_depth=25,n_jobs=-1,random_state=15,criterion='entropy')\n",
        "rnd_clf.fit(X_train_store,y_train_store)"
      ],
      "execution_count": 0,
      "outputs": [
        {
          "output_type": "stream",
          "text": [
            "/usr/local/lib/python3.6/dist-packages/ipykernel_launcher.py:2: DataConversionWarning: A column-vector y was passed when a 1d array was expected. Please change the shape of y to (n_samples,), for example using ravel().\n",
            "  \n"
          ],
          "name": "stderr"
        },
        {
          "output_type": "execute_result",
          "data": {
            "text/plain": [
              "RandomForestClassifier(bootstrap=True, class_weight=None, criterion='entropy',\n",
              "                       max_depth=25, max_features='auto', max_leaf_nodes=None,\n",
              "                       min_impurity_decrease=0.0, min_impurity_split=None,\n",
              "                       min_samples_leaf=1, min_samples_split=2,\n",
              "                       min_weight_fraction_leaf=0.0, n_estimators=200,\n",
              "                       n_jobs=-1, oob_score=False, random_state=15, verbose=0,\n",
              "                       warm_start=False)"
            ]
          },
          "metadata": {
            "tags": []
          },
          "execution_count": 65
        }
      ]
    },
    {
      "cell_type": "code",
      "metadata": {
        "colab_type": "code",
        "id": "iOzbPjPUC3F0",
        "colab": {}
      },
      "source": [
        "y_pred_stores = rnd_clf.predict(X_test_store)"
      ],
      "execution_count": 0,
      "outputs": []
    },
    {
      "cell_type": "code",
      "metadata": {
        "colab_type": "code",
        "id": "dnKuL18-DBln",
        "outputId": "de8cbdd6-f04d-488f-fe23-1e72756388f2",
        "colab": {
          "base_uri": "https://localhost:8080/",
          "height": 34
        }
      },
      "source": [
        "f1 = f1_score(y_test_store, y_pred_stores,average='macro')\n",
        "print(\"Test set F1-Score: \", '%.3f'%(f1))"
      ],
      "execution_count": 0,
      "outputs": [
        {
          "output_type": "stream",
          "text": [
            "Test set F1-Score:  0.359\n"
          ],
          "name": "stdout"
        }
      ]
    },
    {
      "cell_type": "code",
      "metadata": {
        "colab_type": "code",
        "id": "mRvatps5DKqh",
        "outputId": "5fa6fb28-989c-4287-82c7-a8aa28c30cf3",
        "colab": {
          "base_uri": "https://localhost:8080/",
          "height": 238
        }
      },
      "source": [
        "print(classification_report(y_test_store,y_pred_stores))"
      ],
      "execution_count": 0,
      "outputs": [
        {
          "output_type": "stream",
          "text": [
            "              precision    recall  f1-score   support\n",
            "\n",
            "           0       0.96      0.12      0.21    781048\n",
            "           2       0.16      0.83      0.27     93274\n",
            "     5079256       0.21      0.76      0.33     52188\n",
            "     5079942       0.55      0.87      0.67     21240\n",
            "     5080089       0.19      0.67      0.29     44670\n",
            "     9709631       0.26      0.63      0.37     28536\n",
            "\n",
            "    accuracy                           0.27   1020956\n",
            "   macro avg       0.39      0.65      0.36   1020956\n",
            "weighted avg       0.78      0.27      0.24   1020956\n",
            "\n"
          ],
          "name": "stdout"
        }
      ]
    },
    {
      "cell_type": "code",
      "metadata": {
        "colab_type": "code",
        "id": "yP_0ONz6EGpj",
        "colab": {}
      },
      "source": [
        ""
      ],
      "execution_count": 0,
      "outputs": []
    },
    {
      "cell_type": "markdown",
      "metadata": {
        "colab_type": "text",
        "id": "ek6-ZhDkHFWD"
      },
      "source": [
        "# Adding one more signal where we are tracking the total time spent by a customers over the entire dataset"
      ]
    },
    {
      "cell_type": "code",
      "metadata": {
        "colab_type": "code",
        "id": "Vb2vhhWzEGhE",
        "colab": {}
      },
      "source": [
        "df_extra_dwell_total = df_no_exit.pivot_table(values=['Dwell_Time'],index=['Customer_ID'],columns=['Store_ID']).fillna(0).sort_values(by=['Customer_ID'])\n",
        "df_extra_dwell_total.reset_index(inplace = True)"
      ],
      "execution_count": 0,
      "outputs": []
    },
    {
      "cell_type": "code",
      "metadata": {
        "colab_type": "code",
        "id": "JJQAU1p8EGcu",
        "outputId": "458402a0-d9ae-4cae-ef9f-dd9c6fe3214f",
        "colab": {
          "base_uri": "https://localhost:8080/",
          "height": 85
        }
      },
      "source": [
        "df_no_exit_dwell_total = df_no_exit_dwell.merge(df_extra_dwell_total,how='left', on='Customer_ID')"
      ],
      "execution_count": 0,
      "outputs": [
        {
          "output_type": "stream",
          "text": [
            "/usr/local/lib/python3.6/dist-packages/pandas/core/reshape/merge.py:617: UserWarning: merging between different levels can give an unintended result (1 levels on the left, 2 on the right)\n",
            "  warnings.warn(msg, UserWarning)\n",
            "/usr/local/lib/python3.6/dist-packages/pandas/core/generic.py:3946: PerformanceWarning: dropping on a non-lexsorted multi-index without a level parameter may impact performance.\n",
            "  new_axis = axis.drop(labels, errors=errors)\n"
          ],
          "name": "stderr"
        }
      ]
    },
    {
      "cell_type": "code",
      "metadata": {
        "colab_type": "code",
        "id": "Yxld6Pl0Gj3H",
        "colab": {}
      },
      "source": [
        "split = StratifiedShuffleSplit(n_splits=2, test_size=0.2, random_state=1)\n",
        "\n",
        "for train_index, test_index in split.split(df_no_exit_dwell_total, df_no_exit_dwell_total['Target']):\n",
        "  strat_train_stores = df_no_exit_dwell_total.iloc[train_index]\n",
        "  strat_test_stores = df_no_exit_dwell_total.iloc[test_index]"
      ],
      "execution_count": 0,
      "outputs": []
    },
    {
      "cell_type": "code",
      "metadata": {
        "colab_type": "code",
        "id": "S7jflZ2VG14U",
        "colab": {}
      },
      "source": [
        "df_majority = strat_train_stores[strat_train_stores['Target']==0]\n",
        "df_minority = strat_train_stores[strat_train_stores['Target']==5079942]\n",
        "\n",
        "\n",
        "df_majority_downsampled = resample(df_majority, \n",
        "                                 replace=False,     \n",
        "                                 n_samples=len(df_minority),   \n",
        "                                 random_state=42) "
      ],
      "execution_count": 0,
      "outputs": []
    },
    {
      "cell_type": "code",
      "metadata": {
        "colab_type": "code",
        "id": "KqZSLmDSHzUW",
        "colab": {}
      },
      "source": [
        "strat_train_stores = strat_train_stores[strat_train_stores['Target']!=0]\n",
        "strat_train_stores = pd.concat([df_majority_downsampled, strat_train_stores])\n",
        "strat_train_stores = shuffle(strat_train_stores)"
      ],
      "execution_count": 0,
      "outputs": []
    },
    {
      "cell_type": "code",
      "metadata": {
        "colab_type": "code",
        "id": "BtT2_BKJH2gK",
        "colab": {}
      },
      "source": [
        "X_train_store = strat_train_stores[['Day','Category_ID','Month', 0,2, 5079256, 5079942, 5080089, 9709631,\"('Dwell_Time', 0)_x\", \"('Dwell_Time', 2)_x\",\"('Dwell_Time', 5079256)_x\", \"('Dwell_Time', 5079942)_x\",\"('Dwell_Time', 5080089)_x\", \"('Dwell_Time', 9709631)_x\",('Dwell_Time_y', 0),('Dwell_Time_y', 2),('Dwell_Time_y', 5079256), ('Dwell_Time_y', 5079942),('Dwell_Time_y', 5080089),   ('Dwell_Time_y', 9709631)]]\n",
        "y_train_store = strat_train_stores[['Target']]\n",
        "X_test_store = strat_test_stores[['Day','Category_ID','Month', 0,2, 5079256, 5079942, 5080089, 9709631,\"('Dwell_Time', 0)_x\", \"('Dwell_Time', 2)_x\",\"('Dwell_Time', 5079256)_x\", \"('Dwell_Time', 5079942)_x\",\"('Dwell_Time', 5080089)_x\", \"('Dwell_Time', 9709631)_x\",('Dwell_Time_y', 0),('Dwell_Time_y', 2),('Dwell_Time_y', 5079256), ('Dwell_Time_y', 5079942),('Dwell_Time_y', 5080089),   ('Dwell_Time_y', 9709631)]]\n",
        "y_test_store = strat_test_stores[['Target']]"
      ],
      "execution_count": 0,
      "outputs": []
    },
    {
      "cell_type": "code",
      "metadata": {
        "colab_type": "code",
        "id": "ipVnRSOdJYFK",
        "outputId": "423e2d76-9b14-4069-a171-3ce21f641230",
        "colab": {
          "base_uri": "https://localhost:8080/",
          "height": 170
        }
      },
      "source": [
        "rnd_clf = RandomForestClassifier(n_estimators=500, max_depth=25,n_jobs=-1,random_state=15,criterion='entropy')\n",
        "rnd_clf.fit(X_train_store,y_train_store)"
      ],
      "execution_count": 0,
      "outputs": [
        {
          "output_type": "stream",
          "text": [
            "/usr/local/lib/python3.6/dist-packages/ipykernel_launcher.py:2: DataConversionWarning: A column-vector y was passed when a 1d array was expected. Please change the shape of y to (n_samples,), for example using ravel().\n",
            "  \n"
          ],
          "name": "stderr"
        },
        {
          "output_type": "execute_result",
          "data": {
            "text/plain": [
              "RandomForestClassifier(bootstrap=True, class_weight=None, criterion='entropy',\n",
              "                       max_depth=25, max_features='auto', max_leaf_nodes=None,\n",
              "                       min_impurity_decrease=0.0, min_impurity_split=None,\n",
              "                       min_samples_leaf=1, min_samples_split=2,\n",
              "                       min_weight_fraction_leaf=0.0, n_estimators=500,\n",
              "                       n_jobs=-1, oob_score=False, random_state=15, verbose=0,\n",
              "                       warm_start=False)"
            ]
          },
          "metadata": {
            "tags": []
          },
          "execution_count": 68
        }
      ]
    },
    {
      "cell_type": "code",
      "metadata": {
        "colab_type": "code",
        "id": "51d7D1b6KUuP",
        "colab": {}
      },
      "source": [
        "y_pred_stores = rnd_clf.predict(X_test_store)"
      ],
      "execution_count": 0,
      "outputs": []
    },
    {
      "cell_type": "code",
      "metadata": {
        "colab_type": "code",
        "id": "15SkkWO9KcZs",
        "outputId": "a857a033-697b-485d-9891-2c09db9e6f7b",
        "colab": {
          "base_uri": "https://localhost:8080/",
          "height": 51
        }
      },
      "source": [
        "f1 = f1_score(y_test_store, y_pred_stores,average='macro')\n",
        "print(\"Test set F1-Score: \", '%.3f'%(f1))\n",
        "\n",
        "f2 = recall_score(y_test_store, y_pred_stores, average = 'weighted')\n",
        "print(\"Test set Recall: \", '%.3f'%(f1))"
      ],
      "execution_count": 0,
      "outputs": [
        {
          "output_type": "stream",
          "text": [
            "Test set F1-Score:  0.485\n",
            "Test set Recall:  0.485\n"
          ],
          "name": "stdout"
        }
      ]
    },
    {
      "cell_type": "code",
      "metadata": {
        "colab_type": "code",
        "id": "_77lQ_0dKytZ",
        "outputId": "ba24817d-5ca5-493f-9aab-7b766c7eca86",
        "colab": {
          "base_uri": "https://localhost:8080/",
          "height": 238
        }
      },
      "source": [
        "print(classification_report(y_test_store,y_pred_stores))"
      ],
      "execution_count": 0,
      "outputs": [
        {
          "output_type": "stream",
          "text": [
            "              precision    recall  f1-score   support\n",
            "\n",
            "           0       1.00      0.29      0.45    797748\n",
            "           2       0.23      0.94      0.37     95982\n",
            "     5079256       0.30      0.91      0.45     53311\n",
            "     5079942       0.57      1.00      0.73     21543\n",
            "     5080089       0.28      0.86      0.42     46553\n",
            "     9709631       0.36      0.84      0.50     29503\n",
            "\n",
            "    accuracy                           0.44   1044640\n",
            "   macro avg       0.45      0.81      0.49   1044640\n",
            "weighted avg       0.83      0.44      0.45   1044640\n",
            "\n"
          ],
          "name": "stdout"
        }
      ]
    },
    {
      "cell_type": "code",
      "metadata": {
        "colab_type": "code",
        "id": "E9wB8EZ_LKuv",
        "outputId": "df30003e-e117-4f18-99ab-5f318bbbd9f6",
        "colab": {
          "base_uri": "https://localhost:8080/",
          "height": 700
        }
      },
      "source": [
        "cols = X_train_store.columns\n",
        "feature_importance_all = rnd_clf.feature_importances_\n",
        "feature_importance = {}\n",
        "for i in  range(len(cols)):\n",
        "    feature_importance[cols[i]] = feature_importance_all[i]\n",
        "\n",
        "feature_import =  pd.DataFrame.from_dict(feature_importance, \n",
        "                                         orient = 'index',columns=['Importance'])\n",
        "feature_import.sort_values(by='Importance',ascending=False)"
      ],
      "execution_count": 0,
      "outputs": [
        {
          "output_type": "execute_result",
          "data": {
            "text/html": [
              "<div>\n",
              "<style scoped>\n",
              "    .dataframe tbody tr th:only-of-type {\n",
              "        vertical-align: middle;\n",
              "    }\n",
              "\n",
              "    .dataframe tbody tr th {\n",
              "        vertical-align: top;\n",
              "    }\n",
              "\n",
              "    .dataframe thead th {\n",
              "        text-align: right;\n",
              "    }\n",
              "</style>\n",
              "<table border=\"1\" class=\"dataframe\">\n",
              "  <thead>\n",
              "    <tr style=\"text-align: right;\">\n",
              "      <th></th>\n",
              "      <th>Importance</th>\n",
              "    </tr>\n",
              "  </thead>\n",
              "  <tbody>\n",
              "    <tr>\n",
              "      <th>0</th>\n",
              "      <td>0.092907</td>\n",
              "    </tr>\n",
              "    <tr>\n",
              "      <th>(Dwell_Time_y, 0)</th>\n",
              "      <td>0.089808</td>\n",
              "    </tr>\n",
              "    <tr>\n",
              "      <th>5079942</th>\n",
              "      <td>0.080596</td>\n",
              "    </tr>\n",
              "    <tr>\n",
              "      <th>(Dwell_Time_y, 5079256)</th>\n",
              "      <td>0.076544</td>\n",
              "    </tr>\n",
              "    <tr>\n",
              "      <th>5079256</th>\n",
              "      <td>0.074913</td>\n",
              "    </tr>\n",
              "    <tr>\n",
              "      <th>(Dwell_Time_y, 5079942)</th>\n",
              "      <td>0.074478</td>\n",
              "    </tr>\n",
              "    <tr>\n",
              "      <th>Category_ID</th>\n",
              "      <td>0.073891</td>\n",
              "    </tr>\n",
              "    <tr>\n",
              "      <th>(Dwell_Time_y, 2)</th>\n",
              "      <td>0.059975</td>\n",
              "    </tr>\n",
              "    <tr>\n",
              "      <th>(Dwell_Time_y, 5080089)</th>\n",
              "      <td>0.057622</td>\n",
              "    </tr>\n",
              "    <tr>\n",
              "      <th>(Dwell_Time_y, 9709631)</th>\n",
              "      <td>0.052744</td>\n",
              "    </tr>\n",
              "    <tr>\n",
              "      <th>9709631</th>\n",
              "      <td>0.047804</td>\n",
              "    </tr>\n",
              "    <tr>\n",
              "      <th>Day</th>\n",
              "      <td>0.045962</td>\n",
              "    </tr>\n",
              "    <tr>\n",
              "      <th>5080089</th>\n",
              "      <td>0.045374</td>\n",
              "    </tr>\n",
              "    <tr>\n",
              "      <th>Month</th>\n",
              "      <td>0.043016</td>\n",
              "    </tr>\n",
              "    <tr>\n",
              "      <th>2</th>\n",
              "      <td>0.032437</td>\n",
              "    </tr>\n",
              "    <tr>\n",
              "      <th>('Dwell_Time', 0)_x</th>\n",
              "      <td>0.026084</td>\n",
              "    </tr>\n",
              "    <tr>\n",
              "      <th>('Dwell_Time', 5079256)_x</th>\n",
              "      <td>0.006654</td>\n",
              "    </tr>\n",
              "    <tr>\n",
              "      <th>('Dwell_Time', 5079942)_x</th>\n",
              "      <td>0.005444</td>\n",
              "    </tr>\n",
              "    <tr>\n",
              "      <th>('Dwell_Time', 2)_x</th>\n",
              "      <td>0.005019</td>\n",
              "    </tr>\n",
              "    <tr>\n",
              "      <th>('Dwell_Time', 5080089)_x</th>\n",
              "      <td>0.004540</td>\n",
              "    </tr>\n",
              "    <tr>\n",
              "      <th>('Dwell_Time', 9709631)_x</th>\n",
              "      <td>0.004189</td>\n",
              "    </tr>\n",
              "  </tbody>\n",
              "</table>\n",
              "</div>"
            ],
            "text/plain": [
              "                           Importance\n",
              "0                            0.092907\n",
              "(Dwell_Time_y, 0)            0.089808\n",
              "5079942                      0.080596\n",
              "(Dwell_Time_y, 5079256)      0.076544\n",
              "5079256                      0.074913\n",
              "(Dwell_Time_y, 5079942)      0.074478\n",
              "Category_ID                  0.073891\n",
              "(Dwell_Time_y, 2)            0.059975\n",
              "(Dwell_Time_y, 5080089)      0.057622\n",
              "(Dwell_Time_y, 9709631)      0.052744\n",
              "9709631                      0.047804\n",
              "Day                          0.045962\n",
              "5080089                      0.045374\n",
              "Month                        0.043016\n",
              "2                            0.032437\n",
              "('Dwell_Time', 0)_x          0.026084\n",
              "('Dwell_Time', 5079256)_x    0.006654\n",
              "('Dwell_Time', 5079942)_x    0.005444\n",
              "('Dwell_Time', 2)_x          0.005019\n",
              "('Dwell_Time', 5080089)_x    0.004540\n",
              "('Dwell_Time', 9709631)_x    0.004189"
            ]
          },
          "metadata": {
            "tags": []
          },
          "execution_count": 55
        }
      ]
    },
    {
      "cell_type": "code",
      "metadata": {
        "colab_type": "code",
        "id": "Z9KfcD1YLrqL",
        "colab": {}
      },
      "source": [
        ""
      ],
      "execution_count": 0,
      "outputs": []
    },
    {
      "cell_type": "markdown",
      "metadata": {
        "colab_type": "text",
        "id": "hkmYrsPUN4Z6"
      },
      "source": [
        "# Now we will train a feed forward Neural Network with all the signals we have processed"
      ]
    },
    {
      "cell_type": "code",
      "metadata": {
        "colab_type": "code",
        "id": "CIH4nC72N_RG",
        "colab": {}
      },
      "source": [
        "y_train_store = pd.get_dummies(y_train_store['Target'])\n"
      ],
      "execution_count": 0,
      "outputs": []
    },
    {
      "cell_type": "code",
      "metadata": {
        "colab_type": "code",
        "id": "TpvmGkN3OwDn",
        "colab": {}
      },
      "source": [
        "y_test_store = pd.get_dummies(y_test_store['Target'])"
      ],
      "execution_count": 0,
      "outputs": []
    },
    {
      "cell_type": "code",
      "metadata": {
        "colab_type": "code",
        "id": "41H4KMRxO_yB",
        "colab": {}
      },
      "source": [
        "classifier = tf.keras.Sequential()\n",
        "#First Hidden Layer\n",
        "classifier.add(tf.keras.layers.Dense(18, activation='relu', kernel_initializer='random_normal', input_dim=21))\n",
        "#Second  Hidden Layer\n",
        "classifier.add(tf.keras.layers.Dense(16, activation='relu', kernel_initializer='random_normal'))\n",
        "#Second  Hidden Layer\n",
        "classifier.add(tf.keras.layers.Dense(16, activation='relu', kernel_initializer='random_normal'))\n",
        "#Second  Hidden Layer\n",
        "classifier.add(tf.keras.layers.Dense(12, activation='relu', kernel_initializer='random_normal'))\n",
        "\n",
        "#Output Layer\n",
        "classifier.add(tf.keras.layers.Dense(6, activation='softmax', kernel_initializer='random_normal'))"
      ],
      "execution_count": 0,
      "outputs": []
    },
    {
      "cell_type": "code",
      "metadata": {
        "colab_type": "code",
        "id": "Nx-_SbH7PiAo",
        "colab": {}
      },
      "source": [
        "#Compiling the neural network\n",
        "classifier.compile(optimizer ='adam',loss='categorical_crossentropy',metrics=[tf.keras.metrics.Precision(), tf.keras.metrics.Recall(),'accuracy'])"
      ],
      "execution_count": 0,
      "outputs": []
    },
    {
      "cell_type": "code",
      "metadata": {
        "colab_type": "code",
        "id": "-3FYZP2_PP9v",
        "outputId": "0d5c0b9a-a04f-423f-d8c0-ecdf03fd7975",
        "colab": {
          "base_uri": "https://localhost:8080/",
          "height": 1000
        }
      },
      "source": [
        "#Fitting the data to the training dataset\n",
        "history = classifier.fit(X_train_store,y_train_store, batch_size=1024, epochs=50, validation_data=[X_test_store,y_test_store])"
      ],
      "execution_count": 0,
      "outputs": [
        {
          "output_type": "stream",
          "text": [
            "Train on 1073739 samples, validate on 1044640 samples\n",
            "Epoch 1/50\n",
            "1073739/1073739 [==============================] - 7s 7us/sample - loss: 1.2374 - precision_4: 0.6520 - recall_4: 0.3054 - acc: 0.5237 - val_loss: 2.0638 - val_precision_4: 0.2035 - val_recall_4: 0.1073 - val_acc: 0.1467\n",
            "Epoch 2/50\n",
            "1073739/1073739 [==============================] - 6s 5us/sample - loss: 1.0897 - precision_4: 0.6918 - recall_4: 0.4348 - acc: 0.5868 - val_loss: 1.9919 - val_precision_4: 0.2308 - val_recall_4: 0.1178 - val_acc: 0.1567\n",
            "Epoch 3/50\n",
            "1073739/1073739 [==============================] - 6s 5us/sample - loss: 1.0083 - precision_4: 0.7473 - recall_4: 0.4832 - acc: 0.6279 - val_loss: 1.9249 - val_precision_4: 0.2653 - val_recall_4: 0.1271 - val_acc: 0.1649\n",
            "Epoch 4/50\n",
            "1073739/1073739 [==============================] - 6s 5us/sample - loss: 0.9732 - precision_4: 0.7624 - recall_4: 0.5000 - acc: 0.6413 - val_loss: 1.8982 - val_precision_4: 0.2660 - val_recall_4: 0.1307 - val_acc: 0.1674\n",
            "Epoch 5/50\n",
            "1073739/1073739 [==============================] - 6s 5us/sample - loss: 0.9593 - precision_4: 0.7655 - recall_4: 0.5073 - acc: 0.6454 - val_loss: 1.8942 - val_precision_4: 0.2630 - val_recall_4: 0.1324 - val_acc: 0.1713\n",
            "Epoch 6/50\n",
            "1073739/1073739 [==============================] - 6s 5us/sample - loss: 0.9496 - precision_4: 0.7663 - recall_4: 0.5146 - acc: 0.6488 - val_loss: 1.9104 - val_precision_4: 0.2638 - val_recall_4: 0.1319 - val_acc: 0.1743\n",
            "Epoch 7/50\n",
            "1073739/1073739 [==============================] - 6s 5us/sample - loss: 0.9429 - precision_4: 0.7658 - recall_4: 0.5202 - acc: 0.6506 - val_loss: 1.9889 - val_precision_4: 0.2259 - val_recall_4: 0.1396 - val_acc: 0.1674\n",
            "Epoch 8/50\n",
            "1073739/1073739 [==============================] - 6s 5us/sample - loss: 0.9369 - precision_4: 0.7668 - recall_4: 0.5249 - acc: 0.6524 - val_loss: 1.8870 - val_precision_4: 0.2549 - val_recall_4: 0.1365 - val_acc: 0.1700\n",
            "Epoch 9/50\n",
            "1073739/1073739 [==============================] - 6s 5us/sample - loss: 0.9328 - precision_4: 0.7675 - recall_4: 0.5283 - acc: 0.6534 - val_loss: 1.9141 - val_precision_4: 0.2610 - val_recall_4: 0.1375 - val_acc: 0.1730\n",
            "Epoch 10/50\n",
            "1073739/1073739 [==============================] - 6s 5us/sample - loss: 0.9288 - precision_4: 0.7685 - recall_4: 0.5306 - acc: 0.6549 - val_loss: 1.9777 - val_precision_4: 0.2455 - val_recall_4: 0.1387 - val_acc: 0.1698\n",
            "Epoch 11/50\n",
            "1073739/1073739 [==============================] - 6s 5us/sample - loss: 0.9256 - precision_4: 0.7686 - recall_4: 0.5327 - acc: 0.6555 - val_loss: 1.9091 - val_precision_4: 0.2597 - val_recall_4: 0.1380 - val_acc: 0.1740\n",
            "Epoch 12/50\n",
            "1073739/1073739 [==============================] - 6s 5us/sample - loss: 0.9230 - precision_4: 0.7689 - recall_4: 0.5337 - acc: 0.6565 - val_loss: 1.8817 - val_precision_4: 0.2579 - val_recall_4: 0.1400 - val_acc: 0.1772\n",
            "Epoch 13/50\n",
            "1073739/1073739 [==============================] - 6s 5us/sample - loss: 0.9201 - precision_4: 0.7690 - recall_4: 0.5356 - acc: 0.6575 - val_loss: 1.8335 - val_precision_4: 0.2712 - val_recall_4: 0.1376 - val_acc: 0.1869\n",
            "Epoch 14/50\n",
            "1073739/1073739 [==============================] - 6s 5us/sample - loss: 0.9180 - precision_4: 0.7690 - recall_4: 0.5369 - acc: 0.6578 - val_loss: 1.8394 - val_precision_4: 0.2653 - val_recall_4: 0.1400 - val_acc: 0.1901\n",
            "Epoch 15/50\n",
            "1073739/1073739 [==============================] - 6s 5us/sample - loss: 0.9154 - precision_4: 0.7689 - recall_4: 0.5388 - acc: 0.6589 - val_loss: 1.9990 - val_precision_4: 0.2440 - val_recall_4: 0.1428 - val_acc: 0.1716\n",
            "Epoch 16/50\n",
            "1073739/1073739 [==============================] - 6s 5us/sample - loss: 0.9131 - precision_4: 0.7689 - recall_4: 0.5402 - acc: 0.6595 - val_loss: 1.8402 - val_precision_4: 0.2702 - val_recall_4: 0.1410 - val_acc: 0.1901\n",
            "Epoch 17/50\n",
            "1073739/1073739 [==============================] - 6s 5us/sample - loss: 0.9112 - precision_4: 0.7694 - recall_4: 0.5415 - acc: 0.6603 - val_loss: 1.9028 - val_precision_4: 0.2655 - val_recall_4: 0.1403 - val_acc: 0.1792\n",
            "Epoch 18/50\n",
            "1073739/1073739 [==============================] - 6s 5us/sample - loss: 0.9100 - precision_4: 0.7693 - recall_4: 0.5423 - acc: 0.6606 - val_loss: 1.8632 - val_precision_4: 0.2636 - val_recall_4: 0.1429 - val_acc: 0.1817\n",
            "Epoch 19/50\n",
            "1073739/1073739 [==============================] - 6s 5us/sample - loss: 0.9084 - precision_4: 0.7696 - recall_4: 0.5430 - acc: 0.6613 - val_loss: 1.8800 - val_precision_4: 0.2623 - val_recall_4: 0.1431 - val_acc: 0.1781\n",
            "Epoch 20/50\n",
            "1073739/1073739 [==============================] - 6s 5us/sample - loss: 0.9071 - precision_4: 0.7694 - recall_4: 0.5440 - acc: 0.6620 - val_loss: 1.7831 - val_precision_4: 0.2763 - val_recall_4: 0.1394 - val_acc: 0.1932\n",
            "Epoch 21/50\n",
            "1073739/1073739 [==============================] - 6s 5us/sample - loss: 0.9060 - precision_4: 0.7695 - recall_4: 0.5448 - acc: 0.6623 - val_loss: 1.8367 - val_precision_4: 0.2689 - val_recall_4: 0.1419 - val_acc: 0.1876\n",
            "Epoch 22/50\n",
            "1073739/1073739 [==============================] - 6s 5us/sample - loss: 0.9047 - precision_4: 0.7697 - recall_4: 0.5455 - acc: 0.6630 - val_loss: 1.8362 - val_precision_4: 0.2687 - val_recall_4: 0.1421 - val_acc: 0.1850\n",
            "Epoch 23/50\n",
            "1073739/1073739 [==============================] - 6s 5us/sample - loss: 0.9039 - precision_4: 0.7696 - recall_4: 0.5462 - acc: 0.6637 - val_loss: 1.9050 - val_precision_4: 0.2641 - val_recall_4: 0.1421 - val_acc: 0.1892\n",
            "Epoch 24/50\n",
            "1073739/1073739 [==============================] - 6s 5us/sample - loss: 0.9035 - precision_4: 0.7693 - recall_4: 0.5465 - acc: 0.6639 - val_loss: 1.8140 - val_precision_4: 0.2717 - val_recall_4: 0.1413 - val_acc: 0.2020\n",
            "Epoch 25/50\n",
            "1073739/1073739 [==============================] - 6s 5us/sample - loss: 0.9033 - precision_4: 0.7693 - recall_4: 0.5468 - acc: 0.6640 - val_loss: 1.8507 - val_precision_4: 0.2651 - val_recall_4: 0.1449 - val_acc: 0.1869\n",
            "Epoch 26/50\n",
            "1073739/1073739 [==============================] - 6s 5us/sample - loss: 0.9021 - precision_4: 0.7694 - recall_4: 0.5476 - acc: 0.6643 - val_loss: 1.8738 - val_precision_4: 0.2633 - val_recall_4: 0.1437 - val_acc: 0.1881\n",
            "Epoch 27/50\n",
            "1073739/1073739 [==============================] - 6s 5us/sample - loss: 0.9017 - precision_4: 0.7691 - recall_4: 0.5474 - acc: 0.6644 - val_loss: 1.9035 - val_precision_4: 0.2588 - val_recall_4: 0.1430 - val_acc: 0.1776\n",
            "Epoch 28/50\n",
            "1073739/1073739 [==============================] - 6s 5us/sample - loss: 0.9012 - precision_4: 0.7693 - recall_4: 0.5484 - acc: 0.6645 - val_loss: 1.8837 - val_precision_4: 0.2680 - val_recall_4: 0.1424 - val_acc: 0.1900\n",
            "Epoch 29/50\n",
            "1073739/1073739 [==============================] - 6s 5us/sample - loss: 0.9008 - precision_4: 0.7689 - recall_4: 0.5487 - acc: 0.6649 - val_loss: 1.8351 - val_precision_4: 0.2699 - val_recall_4: 0.1431 - val_acc: 0.1874\n",
            "Epoch 30/50\n",
            "1073739/1073739 [==============================] - 6s 5us/sample - loss: 0.9000 - precision_4: 0.7692 - recall_4: 0.5492 - acc: 0.6653 - val_loss: 1.8585 - val_precision_4: 0.2636 - val_recall_4: 0.1434 - val_acc: 0.1858\n",
            "Epoch 31/50\n",
            "1073739/1073739 [==============================] - 6s 5us/sample - loss: 0.8993 - precision_4: 0.7695 - recall_4: 0.5493 - acc: 0.6654 - val_loss: 1.9165 - val_precision_4: 0.2554 - val_recall_4: 0.1432 - val_acc: 0.1771\n",
            "Epoch 32/50\n",
            "1073739/1073739 [==============================] - 6s 5us/sample - loss: 0.8984 - precision_4: 0.7696 - recall_4: 0.5500 - acc: 0.6657 - val_loss: 1.8410 - val_precision_4: 0.2606 - val_recall_4: 0.1444 - val_acc: 0.1861\n",
            "Epoch 33/50\n",
            "1073739/1073739 [==============================] - 6s 5us/sample - loss: 0.8980 - precision_4: 0.7695 - recall_4: 0.5502 - acc: 0.6659 - val_loss: 1.8419 - val_precision_4: 0.2712 - val_recall_4: 0.1408 - val_acc: 0.1854\n",
            "Epoch 34/50\n",
            "1073739/1073739 [==============================] - 6s 5us/sample - loss: 0.8974 - precision_4: 0.7692 - recall_4: 0.5508 - acc: 0.6656 - val_loss: 1.9055 - val_precision_4: 0.2647 - val_recall_4: 0.1434 - val_acc: 0.1803\n",
            "Epoch 35/50\n",
            "1073739/1073739 [==============================] - 6s 5us/sample - loss: 0.8966 - precision_4: 0.7697 - recall_4: 0.5512 - acc: 0.6659 - val_loss: 1.8269 - val_precision_4: 0.2712 - val_recall_4: 0.1432 - val_acc: 0.1956\n",
            "Epoch 36/50\n",
            "1073739/1073739 [==============================] - 6s 5us/sample - loss: 0.8959 - precision_4: 0.7692 - recall_4: 0.5518 - acc: 0.6665 - val_loss: 1.9730 - val_precision_4: 0.2554 - val_recall_4: 0.1436 - val_acc: 0.1753\n",
            "Epoch 37/50\n",
            "1073739/1073739 [==============================] - 6s 6us/sample - loss: 0.8954 - precision_4: 0.7694 - recall_4: 0.5524 - acc: 0.6662 - val_loss: 1.9476 - val_precision_4: 0.2564 - val_recall_4: 0.1440 - val_acc: 0.1760\n",
            "Epoch 38/50\n",
            "1073739/1073739 [==============================] - 6s 5us/sample - loss: 0.8946 - precision_4: 0.7695 - recall_4: 0.5530 - acc: 0.6668 - val_loss: 1.8249 - val_precision_4: 0.2714 - val_recall_4: 0.1434 - val_acc: 0.1937\n",
            "Epoch 39/50\n",
            "1073739/1073739 [==============================] - 6s 5us/sample - loss: 0.8937 - precision_4: 0.7697 - recall_4: 0.5536 - acc: 0.6672 - val_loss: 1.8346 - val_precision_4: 0.2629 - val_recall_4: 0.1443 - val_acc: 0.1866\n",
            "Epoch 40/50\n",
            "1073739/1073739 [==============================] - 6s 5us/sample - loss: 0.8934 - precision_4: 0.7693 - recall_4: 0.5547 - acc: 0.6673 - val_loss: 1.9534 - val_precision_4: 0.2466 - val_recall_4: 0.1454 - val_acc: 0.1767\n",
            "Epoch 41/50\n",
            "1073739/1073739 [==============================] - 6s 5us/sample - loss: 0.8930 - precision_4: 0.7693 - recall_4: 0.5548 - acc: 0.6671 - val_loss: 1.8426 - val_precision_4: 0.2658 - val_recall_4: 0.1412 - val_acc: 0.1860\n",
            "Epoch 42/50\n",
            "1073739/1073739 [==============================] - 6s 5us/sample - loss: 0.8925 - precision_4: 0.7691 - recall_4: 0.5552 - acc: 0.6675 - val_loss: 1.7668 - val_precision_4: 0.2766 - val_recall_4: 0.1442 - val_acc: 0.2025\n",
            "Epoch 43/50\n",
            "1073739/1073739 [==============================] - 6s 5us/sample - loss: 0.8914 - precision_4: 0.7699 - recall_4: 0.5552 - acc: 0.6681 - val_loss: 1.9417 - val_precision_4: 0.2562 - val_recall_4: 0.1444 - val_acc: 0.1767\n",
            "Epoch 44/50\n",
            "1073739/1073739 [==============================] - 6s 5us/sample - loss: 0.8914 - precision_4: 0.7695 - recall_4: 0.5557 - acc: 0.6680 - val_loss: 1.8577 - val_precision_4: 0.2594 - val_recall_4: 0.1449 - val_acc: 0.1839\n",
            "Epoch 45/50\n",
            "1073739/1073739 [==============================] - 6s 5us/sample - loss: 0.8909 - precision_4: 0.7697 - recall_4: 0.5557 - acc: 0.6680 - val_loss: 1.9329 - val_precision_4: 0.2597 - val_recall_4: 0.1438 - val_acc: 0.1775\n",
            "Epoch 46/50\n",
            "1073739/1073739 [==============================] - 6s 5us/sample - loss: 0.8904 - precision_4: 0.7695 - recall_4: 0.5570 - acc: 0.6684 - val_loss: 1.8648 - val_precision_4: 0.2535 - val_recall_4: 0.1446 - val_acc: 0.1771\n",
            "Epoch 47/50\n",
            "1073739/1073739 [==============================] - 6s 5us/sample - loss: 0.8900 - precision_4: 0.7700 - recall_4: 0.5569 - acc: 0.6684 - val_loss: 1.8138 - val_precision_4: 0.2707 - val_recall_4: 0.1442 - val_acc: 0.1914\n",
            "Epoch 48/50\n",
            "1073739/1073739 [==============================] - 6s 6us/sample - loss: 0.8896 - precision_4: 0.7697 - recall_4: 0.5570 - acc: 0.6683 - val_loss: 1.8210 - val_precision_4: 0.2616 - val_recall_4: 0.1451 - val_acc: 0.1898\n",
            "Epoch 49/50\n",
            "1073739/1073739 [==============================] - 6s 6us/sample - loss: 0.8891 - precision_4: 0.7701 - recall_4: 0.5575 - acc: 0.6687 - val_loss: 1.9197 - val_precision_4: 0.2532 - val_recall_4: 0.1461 - val_acc: 0.1815\n",
            "Epoch 50/50\n",
            "1073739/1073739 [==============================] - 6s 5us/sample - loss: 0.8888 - precision_4: 0.7703 - recall_4: 0.5577 - acc: 0.6689 - val_loss: 1.8036 - val_precision_4: 0.2698 - val_recall_4: 0.1446 - val_acc: 0.1924\n"
          ],
          "name": "stdout"
        }
      ]
    },
    {
      "cell_type": "code",
      "metadata": {
        "colab_type": "code",
        "id": "dqYOJj10PptI",
        "outputId": "08c44a1f-8181-43dc-a7e8-c0fc166e68f4",
        "colab": {
          "base_uri": "https://localhost:8080/",
          "height": 621
        }
      },
      "source": [
        "plt.figure(figsize=(20,10))\n",
        "plt.plot(history.history['acc'])\n",
        "plt.plot(history.history['val_acc'])\n",
        "plt.title('model train vs validation loss')\n",
        "plt.ylabel('acc')\n",
        "plt.xlabel('epoch')\n",
        "plt.legend(['train','validation'], loc ='upper right')\n",
        "plt.show()"
      ],
      "execution_count": 0,
      "outputs": [
        {
          "output_type": "display_data",
          "data": {
            "image/png": "[encoded data removed]",
            "text/plain": [
              "<Figure size 1440x720 with 1 Axes>"
            ]
          },
          "metadata": {
            "tags": []
          }
        }
      ]
    },
    {
      "cell_type": "code",
      "metadata": {
        "colab_type": "code",
        "id": "3tkSDfCEXuSB",
        "outputId": "89f04db6-54ff-4941-d2cb-c494044b7c11",
        "colab": {
          "base_uri": "https://localhost:8080/",
          "height": 85
        }
      },
      "source": [
        "# evaluate model with keras\n",
        "score = classifier.evaluate(X_test_store, y_test_store, verbose=0)\n",
        "print('Test score:', score[0])\n",
        "print('Test accuracy:', score[1])\n",
        "print('Test precision:', score[2])\n",
        "print('Test recall:', score[3])"
      ],
      "execution_count": 0,
      "outputs": [
        {
          "output_type": "stream",
          "text": [
            "Test score: 1.8035902849582421\n",
            "Test accuracy: 0.26979527\n",
            "Test precision: 0.14455602\n",
            "Test recall: 0.19239834\n"
          ],
          "name": "stdout"
        }
      ]
    },
    {
      "cell_type": "code",
      "metadata": {
        "colab_type": "code",
        "id": "Wq_JegILmSj1",
        "colab": {}
      },
      "source": [
        ""
      ],
      "execution_count": 0,
      "outputs": []
    }
  ]
}