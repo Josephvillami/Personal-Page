{
  "nbformat": 4,
  "nbformat_minor": 0,
  "metadata": {
    "colab": {
      "name": "TensorAss1.ipynb",
      "provenance": [],
      "collapsed_sections": [],
      "include_colab_link": true
    },
    "kernelspec": {
      "name": "python3",
      "display_name": "Python 3"
    }
  },
  "cells": [
    {
      "cell_type": "markdown",
      "metadata": {
        "id": "view-in-github",
        "colab_type": "text"
      },
      "source": [
        "<a href=\"https://colab.research.google.com/github/Josephvillami/Personal-Page/blob/master/TensorAss1.ipynb\" target=\"_parent\"><img src=\"https://colab.research.google.com/assets/colab-badge.svg\" alt=\"Open In Colab\"/></a>"
      ]
    },
    {
      "cell_type": "code",
      "metadata": {
        "id": "duu66PPX0k4V",
        "colab_type": "code",
        "colab": {}
      },
      "source": [
        "import pandas as pd\n",
        "import codecs\n",
        "from sklearn.model_selection import train_test_split\n",
        "import tensorflow as tf\n",
        "from tensorflow.keras.preprocessing.text import Tokenizer, text_to_word_sequence\n",
        "from tensorflow.keras.preprocessing.sequence import pad_sequences\n",
        "import matplotlib.pyplot as plt\n"
      ],
      "execution_count": 0,
      "outputs": []
    },
    {
      "cell_type": "code",
      "metadata": {
        "id": "zPB_-8g82FZD",
        "colab_type": "code",
        "colab": {}
      },
      "source": [
        "df = pd.read_csv('Amazon_Reviews_Keurig 100Sample.csv')"
      ],
      "execution_count": 0,
      "outputs": []
    },
    {
      "cell_type": "code",
      "metadata": {
        "id": "7rLGQ1Sr2_Hk",
        "colab_type": "code",
        "outputId": "dde08c9a-3d47-429e-acd4-f018fc51d6aa",
        "colab": {
          "base_uri": "https://localhost:8080/",
          "height": 195
        }
      },
      "source": [
        "df.head(5)"
      ],
      "execution_count": 0,
      "outputs": [
        {
          "output_type": "execute_result",
          "data": {
            "text/html": [
              "<div>\n",
              "<style scoped>\n",
              "    .dataframe tbody tr th:only-of-type {\n",
              "        vertical-align: middle;\n",
              "    }\n",
              "\n",
              "    .dataframe tbody tr th {\n",
              "        vertical-align: top;\n",
              "    }\n",
              "\n",
              "    .dataframe thead th {\n",
              "        text-align: right;\n",
              "    }\n",
              "</style>\n",
              "<table border=\"1\" class=\"dataframe\">\n",
              "  <thead>\n",
              "    <tr style=\"text-align: right;\">\n",
              "      <th></th>\n",
              "      <th>Cooment</th>\n",
              "      <th>Label</th>\n",
              "    </tr>\n",
              "  </thead>\n",
              "  <tbody>\n",
              "    <tr>\n",
              "      <th>0</th>\n",
              "      <td>Thought it was new but looks used. Will be ret...</td>\n",
              "      <td>Complaint re:product</td>\n",
              "    </tr>\n",
              "    <tr>\n",
              "      <th>1</th>\n",
              "      <td>Thought I got the model like my work, but was ...</td>\n",
              "      <td>Complaint re:product</td>\n",
              "    </tr>\n",
              "    <tr>\n",
              "      <th>2</th>\n",
              "      <td>I was a long time hold out on the Keurigs. Onc...</td>\n",
              "      <td>Overjoyed</td>\n",
              "    </tr>\n",
              "    <tr>\n",
              "      <th>3</th>\n",
              "      <td>I have had this for ONE MONTH and it is not wo...</td>\n",
              "      <td>Complaint re:product</td>\n",
              "    </tr>\n",
              "    <tr>\n",
              "      <th>4</th>\n",
              "      <td>Love the product.  Cost the same as store mode...</td>\n",
              "      <td>Overjoyed</td>\n",
              "    </tr>\n",
              "  </tbody>\n",
              "</table>\n",
              "</div>"
            ],
            "text/plain": [
              "                                             Cooment                 Label\n",
              "0  Thought it was new but looks used. Will be ret...  Complaint re:product\n",
              "1  Thought I got the model like my work, but was ...  Complaint re:product\n",
              "2  I was a long time hold out on the Keurigs. Onc...             Overjoyed\n",
              "3  I have had this for ONE MONTH and it is not wo...  Complaint re:product\n",
              "4  Love the product.  Cost the same as store mode...             Overjoyed"
            ]
          },
          "metadata": {
            "tags": []
          },
          "execution_count": 12
        }
      ]
    },
    {
      "cell_type": "code",
      "metadata": {
        "id": "e1N1nxPJ3Bu4",
        "colab_type": "code",
        "colab": {}
      },
      "source": [
        "df['Label']=df['Label'].astype('category').cat.codes"
      ],
      "execution_count": 0,
      "outputs": []
    },
    {
      "cell_type": "code",
      "metadata": {
        "id": "DqynBUQV59D_",
        "colab_type": "code",
        "outputId": "cc17981e-1c3c-4c41-aadb-312b651d2380",
        "colab": {
          "base_uri": "https://localhost:8080/",
          "height": 34
        }
      },
      "source": [
        "df['Label'].unique()"
      ],
      "execution_count": 0,
      "outputs": [
        {
          "output_type": "execute_result",
          "data": {
            "text/plain": [
              "array([1, 2, 3, 0])"
            ]
          },
          "metadata": {
            "tags": []
          },
          "execution_count": 17
        }
      ]
    },
    {
      "cell_type": "code",
      "metadata": {
        "id": "YtXuVpoD6sh2",
        "colab_type": "code",
        "outputId": "4e1d5f21-4535-4b5c-a35d-695f9f58960c",
        "colab": {
          "base_uri": "https://localhost:8080/",
          "height": 34
        }
      },
      "source": [
        "type(df['Label'])"
      ],
      "execution_count": 0,
      "outputs": [
        {
          "output_type": "execute_result",
          "data": {
            "text/plain": [
              "pandas.core.series.Series"
            ]
          },
          "metadata": {
            "tags": []
          },
          "execution_count": 19
        }
      ]
    },
    {
      "cell_type": "code",
      "metadata": {
        "id": "w7rcuRsQ7gng",
        "colab_type": "code",
        "outputId": "9f39bcd1-c0b4-4e12-b0c7-2c5a2bd5c208",
        "colab": {
          "base_uri": "https://localhost:8080/",
          "height": 34
        }
      },
      "source": [
        "type(df['Label'][1])"
      ],
      "execution_count": 0,
      "outputs": [
        {
          "output_type": "execute_result",
          "data": {
            "text/plain": [
              "numpy.int8"
            ]
          },
          "metadata": {
            "tags": []
          },
          "execution_count": 20
        }
      ]
    },
    {
      "cell_type": "code",
      "metadata": {
        "id": "lQEo5Lnb8Tlo",
        "colab_type": "code",
        "colab": {}
      },
      "source": [
        "sentence_list =df['Cooment'].to_list()\n",
        "labels =df['Label'].to_list()"
      ],
      "execution_count": 0,
      "outputs": []
    },
    {
      "cell_type": "code",
      "metadata": {
        "id": "bk_31QdA8o2V",
        "colab_type": "code",
        "colab": {}
      },
      "source": [
        "X_train, X_test, y_train, y_test = train_test_split(sentence_list,labels, test_size =0.3, random_state =42)"
      ],
      "execution_count": 0,
      "outputs": []
    },
    {
      "cell_type": "code",
      "metadata": {
        "id": "oxuKAOHw74_M",
        "colab_type": "code",
        "colab": {}
      },
      "source": [
        "vocab_size = 10000\n",
        "maxlen =160\n",
        "embedding_dim = 16\n",
        "trunc_type ='post'\n",
        "oov_tok ='<oov>'"
      ],
      "execution_count": 0,
      "outputs": []
    },
    {
      "cell_type": "code",
      "metadata": {
        "id": "LM3BoNlcBlZN",
        "colab_type": "code",
        "colab": {}
      },
      "source": [
        "token = Tokenizer(num_words=10000, oov_token='<oov>')\n",
        "token.fit_on_texts(X_train)"
      ],
      "execution_count": 0,
      "outputs": []
    },
    {
      "cell_type": "code",
      "metadata": {
        "id": "ZkQ7RnY_C2NZ",
        "colab_type": "code",
        "colab": {}
      },
      "source": [
        "word_index = token.word_index"
      ],
      "execution_count": 0,
      "outputs": []
    },
    {
      "cell_type": "code",
      "metadata": {
        "id": "cIl0cPEoC3-m",
        "colab_type": "code",
        "colab": {}
      },
      "source": [
        "train_sequence = token.texts_to_sequences(X_train)"
      ],
      "execution_count": 0,
      "outputs": []
    },
    {
      "cell_type": "code",
      "metadata": {
        "id": "hT8RedRtDLjk",
        "colab_type": "code",
        "colab": {}
      },
      "source": [
        "train_padded = pad_sequences(train_sequence, maxlen=160,truncating='post', padding='post')"
      ],
      "execution_count": 0,
      "outputs": []
    },
    {
      "cell_type": "code",
      "metadata": {
        "id": "Dp2LWgs9D6Xk",
        "colab_type": "code",
        "colab": {}
      },
      "source": [
        "test_sequence = token.texts_to_sequences(X_test)\n",
        "test_padded = pad_sequences(test_sequence, maxlen =160, truncating='post',padding ='post')"
      ],
      "execution_count": 0,
      "outputs": []
    },
    {
      "cell_type": "code",
      "metadata": {
        "id": "CTzXAd2pNSl-",
        "colab_type": "code",
        "colab": {}
      },
      "source": [
        ""
      ],
      "execution_count": 0,
      "outputs": []
    },
    {
      "cell_type": "code",
      "metadata": {
        "id": "ZI__WrPUF5Ek",
        "colab_type": "code",
        "colab": {}
      },
      "source": [
        "model = tf.keras.Sequential([\n",
        "    tf.keras.layers.Embedding(len(word_index) + 1, 16, input_length=maxlen),\n",
        "    tf.keras.layers.Flatten(),\n",
        "    tf.keras.layers.Dense(26, activation='relu'),\n",
        "    tf.keras.layers.Dropout(0.1),\n",
        "    tf.keras.layers.Dense(18, activation='relu'),\n",
        "    tf.keras.layers.Dense(4, activation='sigmoid')\n",
        " ])\n",
        "\n",
        "model.compile(loss ='sparse_categorical_crossentropy', optimizer ='adam', metrics =['accuracy'])"
      ],
      "execution_count": 0,
      "outputs": []
    },
    {
      "cell_type": "code",
      "metadata": {
        "id": "6ij541FjLvgc",
        "colab_type": "code",
        "colab": {}
      },
      "source": [
        ""
      ],
      "execution_count": 0,
      "outputs": []
    },
    {
      "cell_type": "code",
      "metadata": {
        "id": "J57gMRx1MMUP",
        "colab_type": "code",
        "outputId": "28aec9ed-8e03-4bb6-c955-c99807f76a02",
        "colab": {
          "base_uri": "https://localhost:8080/",
          "height": 369
        }
      },
      "source": [
        "model.summary()"
      ],
      "execution_count": 0,
      "outputs": [
        {
          "output_type": "stream",
          "text": [
            "Model: \"sequential_4\"\n",
            "_________________________________________________________________\n",
            "Layer (type)                 Output Shape              Param #   \n",
            "=================================================================\n",
            "embedding_6 (Embedding)      (None, 160, 16)           9936      \n",
            "_________________________________________________________________\n",
            "flatten_4 (Flatten)          (None, 2560)              0         \n",
            "_________________________________________________________________\n",
            "dense_12 (Dense)             (None, 26)                66586     \n",
            "_________________________________________________________________\n",
            "dropout_4 (Dropout)          (None, 26)                0         \n",
            "_________________________________________________________________\n",
            "dense_13 (Dense)             (None, 18)                486       \n",
            "_________________________________________________________________\n",
            "dense_14 (Dense)             (None, 4)                 76        \n",
            "=================================================================\n",
            "Total params: 77,084\n",
            "Trainable params: 77,084\n",
            "Non-trainable params: 0\n",
            "_________________________________________________________________\n"
          ],
          "name": "stdout"
        }
      ]
    },
    {
      "cell_type": "code",
      "metadata": {
        "id": "XoKt4U-uMPbL",
        "colab_type": "code",
        "outputId": "6f5887ac-32b9-47ff-aae6-c061218ab824",
        "colab": {
          "base_uri": "https://localhost:8080/",
          "height": 1000
        }
      },
      "source": [
        "history = model.fit(train_padded,y_train, epochs=100, validation_data=(test_padded,y_test))"
      ],
      "execution_count": 0,
      "outputs": [
        {
          "output_type": "stream",
          "text": [
            "Train on 70 samples, validate on 30 samples\n",
            "Epoch 1/100\n",
            "70/70 [==============================] - 0s 3ms/sample - loss: 1.3841 - acc: 0.3286 - val_loss: 1.3716 - val_acc: 0.3667\n",
            "Epoch 2/100\n",
            "70/70 [==============================] - 0s 261us/sample - loss: 1.3589 - acc: 0.5000 - val_loss: 1.3552 - val_acc: 0.3667\n",
            "Epoch 3/100\n",
            "70/70 [==============================] - 0s 267us/sample - loss: 1.3402 - acc: 0.4571 - val_loss: 1.3405 - val_acc: 0.3667\n",
            "Epoch 4/100\n",
            "70/70 [==============================] - 0s 279us/sample - loss: 1.3125 - acc: 0.4571 - val_loss: 1.3304 - val_acc: 0.3667\n",
            "Epoch 5/100\n",
            "70/70 [==============================] - 0s 286us/sample - loss: 1.3020 - acc: 0.4143 - val_loss: 1.3246 - val_acc: 0.3667\n",
            "Epoch 6/100\n",
            "70/70 [==============================] - 0s 271us/sample - loss: 1.2760 - acc: 0.5000 - val_loss: 1.3224 - val_acc: 0.3667\n",
            "Epoch 7/100\n",
            "70/70 [==============================] - 0s 252us/sample - loss: 1.2692 - acc: 0.5143 - val_loss: 1.3212 - val_acc: 0.3667\n",
            "Epoch 8/100\n",
            "70/70 [==============================] - 0s 263us/sample - loss: 1.2433 - acc: 0.5000 - val_loss: 1.3251 - val_acc: 0.3667\n",
            "Epoch 9/100\n",
            "70/70 [==============================] - 0s 253us/sample - loss: 1.2497 - acc: 0.5000 - val_loss: 1.3303 - val_acc: 0.3667\n",
            "Epoch 10/100\n",
            "70/70 [==============================] - 0s 350us/sample - loss: 1.2484 - acc: 0.5143 - val_loss: 1.3300 - val_acc: 0.3667\n",
            "Epoch 11/100\n",
            "70/70 [==============================] - 0s 278us/sample - loss: 1.2423 - acc: 0.5143 - val_loss: 1.3287 - val_acc: 0.3667\n",
            "Epoch 12/100\n",
            "70/70 [==============================] - 0s 280us/sample - loss: 1.2123 - acc: 0.5000 - val_loss: 1.3254 - val_acc: 0.3667\n",
            "Epoch 13/100\n",
            "70/70 [==============================] - 0s 272us/sample - loss: 1.1985 - acc: 0.5143 - val_loss: 1.3245 - val_acc: 0.3667\n",
            "Epoch 14/100\n",
            "70/70 [==============================] - 0s 285us/sample - loss: 1.1836 - acc: 0.5143 - val_loss: 1.3282 - val_acc: 0.3667\n",
            "Epoch 15/100\n",
            "70/70 [==============================] - 0s 324us/sample - loss: 1.1600 - acc: 0.5286 - val_loss: 1.3274 - val_acc: 0.3667\n",
            "Epoch 16/100\n",
            "70/70 [==============================] - 0s 312us/sample - loss: 1.1715 - acc: 0.5286 - val_loss: 1.3311 - val_acc: 0.3667\n",
            "Epoch 17/100\n",
            "70/70 [==============================] - 0s 259us/sample - loss: 1.1605 - acc: 0.5286 - val_loss: 1.3419 - val_acc: 0.4000\n",
            "Epoch 18/100\n",
            "70/70 [==============================] - 0s 288us/sample - loss: 1.1213 - acc: 0.5286 - val_loss: 1.3664 - val_acc: 0.4000\n",
            "Epoch 19/100\n",
            "70/70 [==============================] - 0s 225us/sample - loss: 1.1318 - acc: 0.5571 - val_loss: 1.3689 - val_acc: 0.4000\n",
            "Epoch 20/100\n",
            "70/70 [==============================] - 0s 225us/sample - loss: 1.1224 - acc: 0.5143 - val_loss: 1.3474 - val_acc: 0.4000\n",
            "Epoch 21/100\n",
            "70/70 [==============================] - 0s 228us/sample - loss: 1.0584 - acc: 0.5571 - val_loss: 1.3320 - val_acc: 0.4000\n",
            "Epoch 22/100\n",
            "70/70 [==============================] - 0s 240us/sample - loss: 1.0700 - acc: 0.6000 - val_loss: 1.3213 - val_acc: 0.3667\n",
            "Epoch 23/100\n",
            "70/70 [==============================] - 0s 224us/sample - loss: 1.0477 - acc: 0.6000 - val_loss: 1.3083 - val_acc: 0.3667\n",
            "Epoch 24/100\n",
            "70/70 [==============================] - 0s 206us/sample - loss: 1.0432 - acc: 0.6000 - val_loss: 1.3031 - val_acc: 0.4000\n",
            "Epoch 25/100\n",
            "70/70 [==============================] - 0s 216us/sample - loss: 1.0058 - acc: 0.6000 - val_loss: 1.3056 - val_acc: 0.4000\n",
            "Epoch 26/100\n",
            "70/70 [==============================] - 0s 255us/sample - loss: 1.0024 - acc: 0.5857 - val_loss: 1.3125 - val_acc: 0.3667\n",
            "Epoch 27/100\n",
            "70/70 [==============================] - 0s 251us/sample - loss: 0.9351 - acc: 0.6714 - val_loss: 1.3242 - val_acc: 0.3667\n",
            "Epoch 28/100\n",
            "70/70 [==============================] - 0s 323us/sample - loss: 0.9137 - acc: 0.6143 - val_loss: 1.3339 - val_acc: 0.4000\n",
            "Epoch 29/100\n",
            "70/70 [==============================] - 0s 203us/sample - loss: 0.8762 - acc: 0.6429 - val_loss: 1.3328 - val_acc: 0.3667\n",
            "Epoch 30/100\n",
            "70/70 [==============================] - 0s 213us/sample - loss: 0.8601 - acc: 0.6714 - val_loss: 1.3232 - val_acc: 0.3667\n",
            "Epoch 31/100\n",
            "70/70 [==============================] - 0s 398us/sample - loss: 0.8999 - acc: 0.6571 - val_loss: 1.3632 - val_acc: 0.3667\n",
            "Epoch 32/100\n",
            "70/70 [==============================] - 0s 204us/sample - loss: 0.8068 - acc: 0.6857 - val_loss: 1.3700 - val_acc: 0.3667\n",
            "Epoch 33/100\n",
            "70/70 [==============================] - 0s 250us/sample - loss: 0.7835 - acc: 0.6857 - val_loss: 1.3206 - val_acc: 0.3667\n",
            "Epoch 34/100\n",
            "70/70 [==============================] - 0s 257us/sample - loss: 0.7271 - acc: 0.7143 - val_loss: 1.2642 - val_acc: 0.4333\n",
            "Epoch 35/100\n",
            "70/70 [==============================] - 0s 234us/sample - loss: 0.7428 - acc: 0.7000 - val_loss: 1.2458 - val_acc: 0.4667\n",
            "Epoch 36/100\n",
            "70/70 [==============================] - 0s 210us/sample - loss: 0.7112 - acc: 0.7286 - val_loss: 1.2531 - val_acc: 0.5000\n",
            "Epoch 37/100\n",
            "70/70 [==============================] - 0s 238us/sample - loss: 0.6882 - acc: 0.7000 - val_loss: 1.3151 - val_acc: 0.3667\n",
            "Epoch 38/100\n",
            "70/70 [==============================] - 0s 283us/sample - loss: 0.6215 - acc: 0.7571 - val_loss: 1.4417 - val_acc: 0.4000\n",
            "Epoch 39/100\n",
            "70/70 [==============================] - 0s 235us/sample - loss: 0.6663 - acc: 0.7143 - val_loss: 1.4634 - val_acc: 0.4000\n",
            "Epoch 40/100\n",
            "70/70 [==============================] - 0s 212us/sample - loss: 0.6654 - acc: 0.7429 - val_loss: 1.3606 - val_acc: 0.4000\n",
            "Epoch 41/100\n",
            "70/70 [==============================] - 0s 219us/sample - loss: 0.5784 - acc: 0.7429 - val_loss: 1.3235 - val_acc: 0.3667\n",
            "Epoch 42/100\n",
            "70/70 [==============================] - 0s 228us/sample - loss: 0.5615 - acc: 0.7429 - val_loss: 1.2983 - val_acc: 0.3667\n",
            "Epoch 43/100\n",
            "70/70 [==============================] - 0s 228us/sample - loss: 0.5592 - acc: 0.7714 - val_loss: 1.2627 - val_acc: 0.4000\n",
            "Epoch 44/100\n",
            "70/70 [==============================] - 0s 275us/sample - loss: 0.5057 - acc: 0.7714 - val_loss: 1.2290 - val_acc: 0.5333\n",
            "Epoch 45/100\n",
            "70/70 [==============================] - 0s 311us/sample - loss: 0.4960 - acc: 0.8429 - val_loss: 1.1947 - val_acc: 0.5333\n",
            "Epoch 46/100\n",
            "70/70 [==============================] - 0s 241us/sample - loss: 0.4506 - acc: 0.8714 - val_loss: 1.1868 - val_acc: 0.5667\n",
            "Epoch 47/100\n",
            "70/70 [==============================] - 0s 229us/sample - loss: 0.4151 - acc: 0.9143 - val_loss: 1.2891 - val_acc: 0.4333\n",
            "Epoch 48/100\n",
            "70/70 [==============================] - 0s 268us/sample - loss: 0.3944 - acc: 0.8571 - val_loss: 1.3715 - val_acc: 0.4333\n",
            "Epoch 49/100\n",
            "70/70 [==============================] - 0s 228us/sample - loss: 0.4883 - acc: 0.7857 - val_loss: 1.3136 - val_acc: 0.4000\n",
            "Epoch 50/100\n",
            "70/70 [==============================] - 0s 257us/sample - loss: 0.3933 - acc: 0.9000 - val_loss: 1.1905 - val_acc: 0.5333\n",
            "Epoch 51/100\n",
            "70/70 [==============================] - 0s 239us/sample - loss: 0.3577 - acc: 0.9000 - val_loss: 1.1622 - val_acc: 0.5667\n",
            "Epoch 52/100\n",
            "70/70 [==============================] - 0s 245us/sample - loss: 0.3773 - acc: 0.9000 - val_loss: 1.1452 - val_acc: 0.5333\n",
            "Epoch 53/100\n",
            "70/70 [==============================] - 0s 253us/sample - loss: 0.3326 - acc: 0.9286 - val_loss: 1.1250 - val_acc: 0.5667\n",
            "Epoch 54/100\n",
            "70/70 [==============================] - 0s 211us/sample - loss: 0.3135 - acc: 0.9429 - val_loss: 1.1671 - val_acc: 0.4667\n",
            "Epoch 55/100\n",
            "70/70 [==============================] - 0s 240us/sample - loss: 0.3147 - acc: 0.9143 - val_loss: 1.2954 - val_acc: 0.4667\n",
            "Epoch 56/100\n",
            "70/70 [==============================] - 0s 227us/sample - loss: 0.3053 - acc: 0.9286 - val_loss: 1.4321 - val_acc: 0.3667\n",
            "Epoch 57/100\n",
            "70/70 [==============================] - 0s 240us/sample - loss: 0.2929 - acc: 0.9143 - val_loss: 1.3268 - val_acc: 0.4667\n",
            "Epoch 58/100\n",
            "70/70 [==============================] - 0s 222us/sample - loss: 0.2659 - acc: 0.9286 - val_loss: 1.1996 - val_acc: 0.4667\n",
            "Epoch 59/100\n",
            "70/70 [==============================] - 0s 232us/sample - loss: 0.2422 - acc: 0.9429 - val_loss: 1.1686 - val_acc: 0.5333\n",
            "Epoch 60/100\n",
            "70/70 [==============================] - 0s 245us/sample - loss: 0.2407 - acc: 0.9571 - val_loss: 1.1999 - val_acc: 0.5333\n",
            "Epoch 61/100\n",
            "70/70 [==============================] - 0s 277us/sample - loss: 0.2471 - acc: 0.9143 - val_loss: 1.4064 - val_acc: 0.4667\n",
            "Epoch 62/100\n",
            "70/70 [==============================] - 0s 238us/sample - loss: 0.2507 - acc: 0.9143 - val_loss: 1.4899 - val_acc: 0.4333\n",
            "Epoch 63/100\n",
            "70/70 [==============================] - 0s 226us/sample - loss: 0.1656 - acc: 1.0000 - val_loss: 1.4055 - val_acc: 0.4333\n",
            "Epoch 64/100\n",
            "70/70 [==============================] - 0s 237us/sample - loss: 0.1892 - acc: 0.9857 - val_loss: 1.3039 - val_acc: 0.5333\n",
            "Epoch 65/100\n",
            "70/70 [==============================] - 0s 268us/sample - loss: 0.1465 - acc: 0.9571 - val_loss: 1.1881 - val_acc: 0.5333\n",
            "Epoch 66/100\n",
            "70/70 [==============================] - 0s 285us/sample - loss: 0.1695 - acc: 0.9714 - val_loss: 1.1675 - val_acc: 0.5333\n",
            "Epoch 67/100\n",
            "70/70 [==============================] - 0s 268us/sample - loss: 0.1578 - acc: 0.9571 - val_loss: 1.2644 - val_acc: 0.4333\n",
            "Epoch 68/100\n",
            "70/70 [==============================] - 0s 257us/sample - loss: 0.1493 - acc: 0.9571 - val_loss: 1.3676 - val_acc: 0.4333\n",
            "Epoch 69/100\n",
            "70/70 [==============================] - 0s 243us/sample - loss: 0.1446 - acc: 0.9857 - val_loss: 1.4365 - val_acc: 0.4333\n",
            "Epoch 70/100\n",
            "70/70 [==============================] - 0s 278us/sample - loss: 0.1893 - acc: 0.9571 - val_loss: 1.3674 - val_acc: 0.4667\n",
            "Epoch 71/100\n",
            "70/70 [==============================] - 0s 213us/sample - loss: 0.1300 - acc: 0.9857 - val_loss: 1.2623 - val_acc: 0.5000\n",
            "Epoch 72/100\n",
            "70/70 [==============================] - 0s 196us/sample - loss: 0.1285 - acc: 0.9857 - val_loss: 1.2114 - val_acc: 0.5000\n",
            "Epoch 73/100\n",
            "70/70 [==============================] - 0s 226us/sample - loss: 0.1171 - acc: 0.9857 - val_loss: 1.1994 - val_acc: 0.5000\n",
            "Epoch 74/100\n",
            "70/70 [==============================] - 0s 217us/sample - loss: 0.1601 - acc: 0.9429 - val_loss: 1.2201 - val_acc: 0.5000\n",
            "Epoch 75/100\n",
            "70/70 [==============================] - 0s 216us/sample - loss: 0.1346 - acc: 0.9857 - val_loss: 1.2527 - val_acc: 0.5333\n",
            "Epoch 76/100\n",
            "70/70 [==============================] - 0s 235us/sample - loss: 0.1006 - acc: 0.9857 - val_loss: 1.3722 - val_acc: 0.5000\n",
            "Epoch 77/100\n",
            "70/70 [==============================] - 0s 290us/sample - loss: 0.1081 - acc: 0.9571 - val_loss: 1.4264 - val_acc: 0.5000\n",
            "Epoch 78/100\n",
            "70/70 [==============================] - 0s 241us/sample - loss: 0.1150 - acc: 0.9857 - val_loss: 1.4817 - val_acc: 0.5000\n",
            "Epoch 79/100\n",
            "70/70 [==============================] - 0s 218us/sample - loss: 0.1224 - acc: 0.9714 - val_loss: 1.4454 - val_acc: 0.5000\n",
            "Epoch 80/100\n",
            "70/70 [==============================] - 0s 217us/sample - loss: 0.1038 - acc: 0.9714 - val_loss: 1.3263 - val_acc: 0.5333\n",
            "Epoch 81/100\n",
            "70/70 [==============================] - 0s 269us/sample - loss: 0.1267 - acc: 0.9714 - val_loss: 1.2667 - val_acc: 0.5333\n",
            "Epoch 82/100\n",
            "70/70 [==============================] - 0s 232us/sample - loss: 0.1005 - acc: 0.9857 - val_loss: 1.2421 - val_acc: 0.5333\n",
            "Epoch 83/100\n",
            "70/70 [==============================] - 0s 217us/sample - loss: 0.0846 - acc: 0.9857 - val_loss: 1.2133 - val_acc: 0.5333\n",
            "Epoch 84/100\n",
            "70/70 [==============================] - 0s 258us/sample - loss: 0.0908 - acc: 0.9857 - val_loss: 1.1798 - val_acc: 0.4667\n",
            "Epoch 85/100\n",
            "70/70 [==============================] - 0s 262us/sample - loss: 0.1161 - acc: 0.9714 - val_loss: 1.2086 - val_acc: 0.5000\n",
            "Epoch 86/100\n",
            "70/70 [==============================] - 0s 302us/sample - loss: 0.0936 - acc: 0.9857 - val_loss: 1.2574 - val_acc: 0.5000\n",
            "Epoch 87/100\n",
            "70/70 [==============================] - 0s 259us/sample - loss: 0.0919 - acc: 0.9857 - val_loss: 1.3331 - val_acc: 0.5333\n",
            "Epoch 88/100\n",
            "70/70 [==============================] - 0s 230us/sample - loss: 0.0626 - acc: 0.9857 - val_loss: 1.4349 - val_acc: 0.5000\n",
            "Epoch 89/100\n",
            "70/70 [==============================] - 0s 219us/sample - loss: 0.0630 - acc: 0.9857 - val_loss: 1.5292 - val_acc: 0.5000\n",
            "Epoch 90/100\n",
            "70/70 [==============================] - 0s 229us/sample - loss: 0.0727 - acc: 0.9857 - val_loss: 1.6258 - val_acc: 0.5000\n",
            "Epoch 91/100\n",
            "70/70 [==============================] - 0s 241us/sample - loss: 0.0458 - acc: 1.0000 - val_loss: 1.7046 - val_acc: 0.4000\n",
            "Epoch 92/100\n",
            "70/70 [==============================] - 0s 315us/sample - loss: 0.0884 - acc: 0.9714 - val_loss: 1.7157 - val_acc: 0.4000\n",
            "Epoch 93/100\n",
            "70/70 [==============================] - 0s 230us/sample - loss: 0.0798 - acc: 0.9857 - val_loss: 1.5959 - val_acc: 0.5000\n",
            "Epoch 94/100\n",
            "70/70 [==============================] - 0s 244us/sample - loss: 0.0953 - acc: 0.9857 - val_loss: 1.5016 - val_acc: 0.5000\n",
            "Epoch 95/100\n",
            "70/70 [==============================] - 0s 245us/sample - loss: 0.1131 - acc: 0.9714 - val_loss: 1.3976 - val_acc: 0.5333\n",
            "Epoch 96/100\n",
            "70/70 [==============================] - 0s 242us/sample - loss: 0.0784 - acc: 0.9857 - val_loss: 1.2977 - val_acc: 0.5333\n",
            "Epoch 97/100\n",
            "70/70 [==============================] - 0s 238us/sample - loss: 0.0768 - acc: 0.9714 - val_loss: 1.2590 - val_acc: 0.4333\n",
            "Epoch 98/100\n",
            "70/70 [==============================] - 0s 262us/sample - loss: 0.1034 - acc: 0.9857 - val_loss: 1.2604 - val_acc: 0.4667\n",
            "Epoch 99/100\n",
            "70/70 [==============================] - 0s 219us/sample - loss: 0.0685 - acc: 0.9714 - val_loss: 1.3322 - val_acc: 0.5000\n",
            "Epoch 100/100\n",
            "70/70 [==============================] - 0s 198us/sample - loss: 0.0798 - acc: 0.9857 - val_loss: 1.4461 - val_acc: 0.5333\n"
          ],
          "name": "stdout"
        }
      ]
    },
    {
      "cell_type": "code",
      "metadata": {
        "id": "SrsV9SoeOfDR",
        "colab_type": "code",
        "outputId": "e589eec5-eb88-4f60-f19f-2d27d2c3337a",
        "colab": {
          "base_uri": "https://localhost:8080/",
          "height": 313
        }
      },
      "source": [
        "plt.plot(history.history['loss'])\n",
        "plt.plot(history.history['val_loss'])\n",
        "plt.title('model train vs validation loss')\n",
        "plt.ylabel('loss')\n",
        "plt.xlabel('epoch')\n",
        "plt.legend(['train','validation'], loc ='upper right')"
      ],
      "execution_count": 0,
      "outputs": [
        {
          "output_type": "execute_result",
          "data": {
            "text/plain": [
              "<matplotlib.legend.Legend at 0x7f7faa027a90>"
            ]
          },
          "metadata": {
            "tags": []
          },
          "execution_count": 73
        },
        {
          "output_type": "display_data",
          "data": {
            "image/png": "[encoded data removed]",
            "text/plain": [
              "<Figure size 432x288 with 1 Axes>"
            ]
          },
          "metadata": {
            "tags": []
          }
        }
      ]
    },
    {
      "cell_type": "code",
      "metadata": {
        "id": "YnFFFqN2SEMt",
        "colab_type": "code",
        "colab": {}
      },
      "source": [
        ""
      ],
      "execution_count": 0,
      "outputs": []
    }
  ]
}